{
 "cells": [
  {
   "cell_type": "markdown",
   "metadata": {},
   "source": [
    "## Lecture 5 demo\n",
    "\n",
    "There are 3 key themes to this lecture:\n",
    "\n",
    "1. selectively changing values & weirdos\n",
    "\n",
    "2. iterating over groups of rows\n",
    "\n",
    "3. iterating over a columns in a data frame"
   ]
  },
  {
   "cell_type": "markdown",
   "metadata": {},
   "source": [
    "Thanks for providing feedback to the block reps. Here are changes in reflection to comments;\n",
    "- Lecture notes will be posted before Sunday morning (instead of before Monday morning)\n",
    "- New look for the optional questions.\n",
    "- Summary at the end of the lecture."
   ]
  },
  {
   "cell_type": "markdown",
   "metadata": {},
   "source": [
    "First, let's load the packages we need:"
   ]
  },
  {
   "cell_type": "code",
   "execution_count": 43,
   "metadata": {},
   "outputs": [],
   "source": [
    "library(palmerpenguins)\n",
    "library(tidyverse)\n",
    "options(repr.matrix.max.rows = 10)"
   ]
  },
  {
   "cell_type": "markdown",
   "metadata": {},
   "source": [
    "## Theme 1: Selectively changing values\n",
    "\n",
    "Let's say we want to change the penguins species names from the common names to their latin species names:\n",
    "\n",
    "- Adelie: *Pygoscelis adeliae*\n",
    "- Gentoo: *Pygoscelis papua*\n",
    "- Chinstrap: *Pygoscelis antarcticus*\n",
    "\n",
    "Let's use {dplyr}'s `case_when` to do this!"
   ]
  },
  {
   "cell_type": "code",
   "execution_count": 44,
   "metadata": {},
   "outputs": [
    {
     "data": {
      "text/html": [
       "<table class=\"dataframe\">\n",
       "<caption>A tibble: 344 × 8</caption>\n",
       "<thead>\n",
       "\t<tr><th scope=col>species</th><th scope=col>island</th><th scope=col>bill_length_mm</th><th scope=col>bill_depth_mm</th><th scope=col>flipper_length_mm</th><th scope=col>body_mass_g</th><th scope=col>sex</th><th scope=col>year</th></tr>\n",
       "\t<tr><th scope=col>&lt;fct&gt;</th><th scope=col>&lt;fct&gt;</th><th scope=col>&lt;dbl&gt;</th><th scope=col>&lt;dbl&gt;</th><th scope=col>&lt;int&gt;</th><th scope=col>&lt;int&gt;</th><th scope=col>&lt;fct&gt;</th><th scope=col>&lt;int&gt;</th></tr>\n",
       "</thead>\n",
       "<tbody>\n",
       "\t<tr><td>Adelie</td><td>Torgersen</td><td>39.1</td><td>18.7</td><td>181</td><td>3750</td><td>male  </td><td>2007</td></tr>\n",
       "\t<tr><td>Adelie</td><td>Torgersen</td><td>39.5</td><td>17.4</td><td>186</td><td>3800</td><td>female</td><td>2007</td></tr>\n",
       "\t<tr><td>Adelie</td><td>Torgersen</td><td>40.3</td><td>18.0</td><td>195</td><td>3250</td><td>female</td><td>2007</td></tr>\n",
       "\t<tr><td>Adelie</td><td>Torgersen</td><td>  NA</td><td>  NA</td><td> NA</td><td>  NA</td><td>NA    </td><td>2007</td></tr>\n",
       "\t<tr><td>Adelie</td><td>Torgersen</td><td>36.7</td><td>19.3</td><td>193</td><td>3450</td><td>female</td><td>2007</td></tr>\n",
       "\t<tr><td>⋮</td><td>⋮</td><td>⋮</td><td>⋮</td><td>⋮</td><td>⋮</td><td>⋮</td><td>⋮</td></tr>\n",
       "\t<tr><td>Chinstrap</td><td>Dream</td><td>55.8</td><td>19.8</td><td>207</td><td>4000</td><td>male  </td><td>2009</td></tr>\n",
       "\t<tr><td>Chinstrap</td><td>Dream</td><td>43.5</td><td>18.1</td><td>202</td><td>3400</td><td>female</td><td>2009</td></tr>\n",
       "\t<tr><td>Chinstrap</td><td>Dream</td><td>49.6</td><td>18.2</td><td>193</td><td>3775</td><td>male  </td><td>2009</td></tr>\n",
       "\t<tr><td>Chinstrap</td><td>Dream</td><td>50.8</td><td>19.0</td><td>210</td><td>4100</td><td>male  </td><td>2009</td></tr>\n",
       "\t<tr><td>Chinstrap</td><td>Dream</td><td>50.2</td><td>18.7</td><td>198</td><td>3775</td><td>female</td><td>2009</td></tr>\n",
       "</tbody>\n",
       "</table>\n"
      ],
      "text/latex": [
       "A tibble: 344 × 8\n",
       "\\begin{tabular}{llllllll}\n",
       " species & island & bill\\_length\\_mm & bill\\_depth\\_mm & flipper\\_length\\_mm & body\\_mass\\_g & sex & year\\\\\n",
       " <fct> & <fct> & <dbl> & <dbl> & <int> & <int> & <fct> & <int>\\\\\n",
       "\\hline\n",
       "\t Adelie & Torgersen & 39.1 & 18.7 & 181 & 3750 & male   & 2007\\\\\n",
       "\t Adelie & Torgersen & 39.5 & 17.4 & 186 & 3800 & female & 2007\\\\\n",
       "\t Adelie & Torgersen & 40.3 & 18.0 & 195 & 3250 & female & 2007\\\\\n",
       "\t Adelie & Torgersen &   NA &   NA &  NA &   NA & NA     & 2007\\\\\n",
       "\t Adelie & Torgersen & 36.7 & 19.3 & 193 & 3450 & female & 2007\\\\\n",
       "\t ⋮ & ⋮ & ⋮ & ⋮ & ⋮ & ⋮ & ⋮ & ⋮\\\\\n",
       "\t Chinstrap & Dream & 55.8 & 19.8 & 207 & 4000 & male   & 2009\\\\\n",
       "\t Chinstrap & Dream & 43.5 & 18.1 & 202 & 3400 & female & 2009\\\\\n",
       "\t Chinstrap & Dream & 49.6 & 18.2 & 193 & 3775 & male   & 2009\\\\\n",
       "\t Chinstrap & Dream & 50.8 & 19.0 & 210 & 4100 & male   & 2009\\\\\n",
       "\t Chinstrap & Dream & 50.2 & 18.7 & 198 & 3775 & female & 2009\\\\\n",
       "\\end{tabular}\n"
      ],
      "text/markdown": [
       "\n",
       "A tibble: 344 × 8\n",
       "\n",
       "| species &lt;fct&gt; | island &lt;fct&gt; | bill_length_mm &lt;dbl&gt; | bill_depth_mm &lt;dbl&gt; | flipper_length_mm &lt;int&gt; | body_mass_g &lt;int&gt; | sex &lt;fct&gt; | year &lt;int&gt; |\n",
       "|---|---|---|---|---|---|---|---|\n",
       "| Adelie | Torgersen | 39.1 | 18.7 | 181 | 3750 | male   | 2007 |\n",
       "| Adelie | Torgersen | 39.5 | 17.4 | 186 | 3800 | female | 2007 |\n",
       "| Adelie | Torgersen | 40.3 | 18.0 | 195 | 3250 | female | 2007 |\n",
       "| Adelie | Torgersen |   NA |   NA |  NA |   NA | NA     | 2007 |\n",
       "| Adelie | Torgersen | 36.7 | 19.3 | 193 | 3450 | female | 2007 |\n",
       "| ⋮ | ⋮ | ⋮ | ⋮ | ⋮ | ⋮ | ⋮ | ⋮ |\n",
       "| Chinstrap | Dream | 55.8 | 19.8 | 207 | 4000 | male   | 2009 |\n",
       "| Chinstrap | Dream | 43.5 | 18.1 | 202 | 3400 | female | 2009 |\n",
       "| Chinstrap | Dream | 49.6 | 18.2 | 193 | 3775 | male   | 2009 |\n",
       "| Chinstrap | Dream | 50.8 | 19.0 | 210 | 4100 | male   | 2009 |\n",
       "| Chinstrap | Dream | 50.2 | 18.7 | 198 | 3775 | female | 2009 |\n",
       "\n"
      ],
      "text/plain": [
       "    species   island    bill_length_mm bill_depth_mm flipper_length_mm\n",
       "1   Adelie    Torgersen 39.1           18.7          181              \n",
       "2   Adelie    Torgersen 39.5           17.4          186              \n",
       "3   Adelie    Torgersen 40.3           18.0          195              \n",
       "4   Adelie    Torgersen   NA             NA           NA              \n",
       "5   Adelie    Torgersen 36.7           19.3          193              \n",
       "⋮   ⋮         ⋮         ⋮              ⋮             ⋮                \n",
       "340 Chinstrap Dream     55.8           19.8          207              \n",
       "341 Chinstrap Dream     43.5           18.1          202              \n",
       "342 Chinstrap Dream     49.6           18.2          193              \n",
       "343 Chinstrap Dream     50.8           19.0          210              \n",
       "344 Chinstrap Dream     50.2           18.7          198              \n",
       "    body_mass_g sex    year\n",
       "1   3750        male   2007\n",
       "2   3800        female 2007\n",
       "3   3250        female 2007\n",
       "4     NA        NA     2007\n",
       "5   3450        female 2007\n",
       "⋮   ⋮           ⋮      ⋮   \n",
       "340 4000        male   2009\n",
       "341 3400        female 2009\n",
       "342 3775        male   2009\n",
       "343 4100        male   2009\n",
       "344 3775        female 2009"
      ]
     },
     "metadata": {},
     "output_type": "display_data"
    }
   ],
   "source": [
    "penguins"
   ]
  },
  {
   "cell_type": "code",
   "execution_count": 45,
   "metadata": {},
   "outputs": [
    {
     "data": {
      "text/html": [
       "<table class=\"dataframe\">\n",
       "<caption>A tibble: 344 × 8</caption>\n",
       "<thead>\n",
       "\t<tr><th scope=col>species</th><th scope=col>island</th><th scope=col>bill_length_mm</th><th scope=col>bill_depth_mm</th><th scope=col>flipper_length_mm</th><th scope=col>body_mass_g</th><th scope=col>sex</th><th scope=col>year</th></tr>\n",
       "\t<tr><th scope=col>&lt;chr&gt;</th><th scope=col>&lt;fct&gt;</th><th scope=col>&lt;dbl&gt;</th><th scope=col>&lt;dbl&gt;</th><th scope=col>&lt;int&gt;</th><th scope=col>&lt;int&gt;</th><th scope=col>&lt;fct&gt;</th><th scope=col>&lt;int&gt;</th></tr>\n",
       "</thead>\n",
       "<tbody>\n",
       "\t<tr><td>Pygoscelis adeliae</td><td>Torgersen</td><td>39.1</td><td>18.7</td><td>181</td><td>3750</td><td>male  </td><td>2007</td></tr>\n",
       "\t<tr><td>Pygoscelis adeliae</td><td>Torgersen</td><td>39.5</td><td>17.4</td><td>186</td><td>3800</td><td>female</td><td>2007</td></tr>\n",
       "\t<tr><td>Pygoscelis adeliae</td><td>Torgersen</td><td>40.3</td><td>18.0</td><td>195</td><td>3250</td><td>female</td><td>2007</td></tr>\n",
       "\t<tr><td>Pygoscelis adeliae</td><td>Torgersen</td><td>  NA</td><td>  NA</td><td> NA</td><td>  NA</td><td>NA    </td><td>2007</td></tr>\n",
       "\t<tr><td>Pygoscelis adeliae</td><td>Torgersen</td><td>36.7</td><td>19.3</td><td>193</td><td>3450</td><td>female</td><td>2007</td></tr>\n",
       "\t<tr><td>⋮</td><td>⋮</td><td>⋮</td><td>⋮</td><td>⋮</td><td>⋮</td><td>⋮</td><td>⋮</td></tr>\n",
       "\t<tr><td>Pygoscelis antarcticus</td><td>Dream</td><td>55.8</td><td>19.8</td><td>207</td><td>4000</td><td>male  </td><td>2009</td></tr>\n",
       "\t<tr><td>Pygoscelis antarcticus</td><td>Dream</td><td>43.5</td><td>18.1</td><td>202</td><td>3400</td><td>female</td><td>2009</td></tr>\n",
       "\t<tr><td>Pygoscelis antarcticus</td><td>Dream</td><td>49.6</td><td>18.2</td><td>193</td><td>3775</td><td>male  </td><td>2009</td></tr>\n",
       "\t<tr><td>Pygoscelis antarcticus</td><td>Dream</td><td>50.8</td><td>19.0</td><td>210</td><td>4100</td><td>male  </td><td>2009</td></tr>\n",
       "\t<tr><td>Pygoscelis antarcticus</td><td>Dream</td><td>50.2</td><td>18.7</td><td>198</td><td>3775</td><td>female</td><td>2009</td></tr>\n",
       "</tbody>\n",
       "</table>\n"
      ],
      "text/latex": [
       "A tibble: 344 × 8\n",
       "\\begin{tabular}{llllllll}\n",
       " species & island & bill\\_length\\_mm & bill\\_depth\\_mm & flipper\\_length\\_mm & body\\_mass\\_g & sex & year\\\\\n",
       " <chr> & <fct> & <dbl> & <dbl> & <int> & <int> & <fct> & <int>\\\\\n",
       "\\hline\n",
       "\t Pygoscelis adeliae & Torgersen & 39.1 & 18.7 & 181 & 3750 & male   & 2007\\\\\n",
       "\t Pygoscelis adeliae & Torgersen & 39.5 & 17.4 & 186 & 3800 & female & 2007\\\\\n",
       "\t Pygoscelis adeliae & Torgersen & 40.3 & 18.0 & 195 & 3250 & female & 2007\\\\\n",
       "\t Pygoscelis adeliae & Torgersen &   NA &   NA &  NA &   NA & NA     & 2007\\\\\n",
       "\t Pygoscelis adeliae & Torgersen & 36.7 & 19.3 & 193 & 3450 & female & 2007\\\\\n",
       "\t ⋮ & ⋮ & ⋮ & ⋮ & ⋮ & ⋮ & ⋮ & ⋮\\\\\n",
       "\t Pygoscelis antarcticus & Dream & 55.8 & 19.8 & 207 & 4000 & male   & 2009\\\\\n",
       "\t Pygoscelis antarcticus & Dream & 43.5 & 18.1 & 202 & 3400 & female & 2009\\\\\n",
       "\t Pygoscelis antarcticus & Dream & 49.6 & 18.2 & 193 & 3775 & male   & 2009\\\\\n",
       "\t Pygoscelis antarcticus & Dream & 50.8 & 19.0 & 210 & 4100 & male   & 2009\\\\\n",
       "\t Pygoscelis antarcticus & Dream & 50.2 & 18.7 & 198 & 3775 & female & 2009\\\\\n",
       "\\end{tabular}\n"
      ],
      "text/markdown": [
       "\n",
       "A tibble: 344 × 8\n",
       "\n",
       "| species &lt;chr&gt; | island &lt;fct&gt; | bill_length_mm &lt;dbl&gt; | bill_depth_mm &lt;dbl&gt; | flipper_length_mm &lt;int&gt; | body_mass_g &lt;int&gt; | sex &lt;fct&gt; | year &lt;int&gt; |\n",
       "|---|---|---|---|---|---|---|---|\n",
       "| Pygoscelis adeliae | Torgersen | 39.1 | 18.7 | 181 | 3750 | male   | 2007 |\n",
       "| Pygoscelis adeliae | Torgersen | 39.5 | 17.4 | 186 | 3800 | female | 2007 |\n",
       "| Pygoscelis adeliae | Torgersen | 40.3 | 18.0 | 195 | 3250 | female | 2007 |\n",
       "| Pygoscelis adeliae | Torgersen |   NA |   NA |  NA |   NA | NA     | 2007 |\n",
       "| Pygoscelis adeliae | Torgersen | 36.7 | 19.3 | 193 | 3450 | female | 2007 |\n",
       "| ⋮ | ⋮ | ⋮ | ⋮ | ⋮ | ⋮ | ⋮ | ⋮ |\n",
       "| Pygoscelis antarcticus | Dream | 55.8 | 19.8 | 207 | 4000 | male   | 2009 |\n",
       "| Pygoscelis antarcticus | Dream | 43.5 | 18.1 | 202 | 3400 | female | 2009 |\n",
       "| Pygoscelis antarcticus | Dream | 49.6 | 18.2 | 193 | 3775 | male   | 2009 |\n",
       "| Pygoscelis antarcticus | Dream | 50.8 | 19.0 | 210 | 4100 | male   | 2009 |\n",
       "| Pygoscelis antarcticus | Dream | 50.2 | 18.7 | 198 | 3775 | female | 2009 |\n",
       "\n"
      ],
      "text/plain": [
       "    species                island    bill_length_mm bill_depth_mm\n",
       "1   Pygoscelis adeliae     Torgersen 39.1           18.7         \n",
       "2   Pygoscelis adeliae     Torgersen 39.5           17.4         \n",
       "3   Pygoscelis adeliae     Torgersen 40.3           18.0         \n",
       "4   Pygoscelis adeliae     Torgersen   NA             NA         \n",
       "5   Pygoscelis adeliae     Torgersen 36.7           19.3         \n",
       "⋮   ⋮                      ⋮         ⋮              ⋮            \n",
       "340 Pygoscelis antarcticus Dream     55.8           19.8         \n",
       "341 Pygoscelis antarcticus Dream     43.5           18.1         \n",
       "342 Pygoscelis antarcticus Dream     49.6           18.2         \n",
       "343 Pygoscelis antarcticus Dream     50.8           19.0         \n",
       "344 Pygoscelis antarcticus Dream     50.2           18.7         \n",
       "    flipper_length_mm body_mass_g sex    year\n",
       "1   181               3750        male   2007\n",
       "2   186               3800        female 2007\n",
       "3   195               3250        female 2007\n",
       "4    NA                 NA        NA     2007\n",
       "5   193               3450        female 2007\n",
       "⋮   ⋮                 ⋮           ⋮      ⋮   \n",
       "340 207               4000        male   2009\n",
       "341 202               3400        female 2009\n",
       "342 193               3775        male   2009\n",
       "343 210               4100        male   2009\n",
       "344 198               3775        female 2009"
      ]
     },
     "metadata": {},
     "output_type": "display_data"
    }
   ],
   "source": [
    "latin_penguins <- penguins |> \n",
    "  mutate(species = case_when(species == \"Adelie\" ~ \"Pygoscelis adeliae\",\n",
    "                             species == \"Gentoo\" ~ \"Pygoscelis papua\",\n",
    "                             species == \"Chinstrap\" ~ \"Pygoscelis antarcticus\"))\n",
    "\n",
    "latin_penguins"
   ]
  },
  {
   "cell_type": "markdown",
   "metadata": {},
   "source": [
    "### Let's visit some weirdness of `case_when`\n",
    "We need to ensure that we understand the behavior to do it right. So let's create a dummy dataframe for demonstration."
   ]
  },
  {
   "cell_type": "code",
   "execution_count": 46,
   "metadata": {},
   "outputs": [
    {
     "data": {
      "text/html": [
       "<table class=\"dataframe\">\n",
       "<caption>A tibble: 5 × 2</caption>\n",
       "<thead>\n",
       "\t<tr><th scope=col>x</th><th scope=col>y</th></tr>\n",
       "\t<tr><th scope=col>&lt;dbl&gt;</th><th scope=col>&lt;chr&gt;</th></tr>\n",
       "</thead>\n",
       "<tbody>\n",
       "\t<tr><td> 3</td><td>a </td></tr>\n",
       "\t<tr><td> 1</td><td>b </td></tr>\n",
       "\t<tr><td> 2</td><td>NA</td></tr>\n",
       "\t<tr><td>NA</td><td>c </td></tr>\n",
       "\t<tr><td> 5</td><td>d </td></tr>\n",
       "</tbody>\n",
       "</table>\n"
      ],
      "text/latex": [
       "A tibble: 5 × 2\n",
       "\\begin{tabular}{ll}\n",
       " x & y\\\\\n",
       " <dbl> & <chr>\\\\\n",
       "\\hline\n",
       "\t  3 & a \\\\\n",
       "\t  1 & b \\\\\n",
       "\t  2 & NA\\\\\n",
       "\t NA & c \\\\\n",
       "\t  5 & d \\\\\n",
       "\\end{tabular}\n"
      ],
      "text/markdown": [
       "\n",
       "A tibble: 5 × 2\n",
       "\n",
       "| x &lt;dbl&gt; | y &lt;chr&gt; |\n",
       "|---|---|\n",
       "|  3 | a  |\n",
       "|  1 | b  |\n",
       "|  2 | NA |\n",
       "| NA | c  |\n",
       "|  5 | d  |\n",
       "\n"
      ],
      "text/plain": [
       "  x  y \n",
       "1  3 a \n",
       "2  1 b \n",
       "3  2 NA\n",
       "4 NA c \n",
       "5  5 d "
      ]
     },
     "metadata": {},
     "output_type": "display_data"
    }
   ],
   "source": [
    "a_df <- tibble(x = c(3, 1, 2, NA,5), \n",
    "               y = c(\"a\", \"b\", NA, \"c\",\"d\"))\n",
    "a_df"
   ]
  },
  {
   "cell_type": "markdown",
   "metadata": {},
   "source": [
    "Let's replace `a` with `apple`, `b` with `ball`, `c` with `cat` and let's leave `d` as it is. "
   ]
  },
  {
   "cell_type": "code",
   "execution_count": 47,
   "metadata": {},
   "outputs": [
    {
     "data": {
      "text/html": [
       "<table class=\"dataframe\">\n",
       "<caption>A tibble: 5 × 2</caption>\n",
       "<thead>\n",
       "\t<tr><th scope=col>x</th><th scope=col>y</th></tr>\n",
       "\t<tr><th scope=col>&lt;dbl&gt;</th><th scope=col>&lt;chr&gt;</th></tr>\n",
       "</thead>\n",
       "<tbody>\n",
       "\t<tr><td> 3</td><td>apple</td></tr>\n",
       "\t<tr><td> 1</td><td>ball </td></tr>\n",
       "\t<tr><td> 2</td><td>NA   </td></tr>\n",
       "\t<tr><td>NA</td><td>cat  </td></tr>\n",
       "\t<tr><td> 5</td><td>NA   </td></tr>\n",
       "</tbody>\n",
       "</table>\n"
      ],
      "text/latex": [
       "A tibble: 5 × 2\n",
       "\\begin{tabular}{ll}\n",
       " x & y\\\\\n",
       " <dbl> & <chr>\\\\\n",
       "\\hline\n",
       "\t  3 & apple\\\\\n",
       "\t  1 & ball \\\\\n",
       "\t  2 & NA   \\\\\n",
       "\t NA & cat  \\\\\n",
       "\t  5 & NA   \\\\\n",
       "\\end{tabular}\n"
      ],
      "text/markdown": [
       "\n",
       "A tibble: 5 × 2\n",
       "\n",
       "| x &lt;dbl&gt; | y &lt;chr&gt; |\n",
       "|---|---|\n",
       "|  3 | apple |\n",
       "|  1 | ball  |\n",
       "|  2 | NA    |\n",
       "| NA | cat   |\n",
       "|  5 | NA    |\n",
       "\n"
      ],
      "text/plain": [
       "  x  y    \n",
       "1  3 apple\n",
       "2  1 ball \n",
       "3  2 NA   \n",
       "4 NA cat  \n",
       "5  5 NA   "
      ]
     },
     "metadata": {},
     "output_type": "display_data"
    }
   ],
   "source": [
    "a_df |> mutate(y = case_when(y == \"a\" ~ \"apple\",\n",
    "                             y == \"b\" ~ \"ball\",\n",
    "                             y == \"c\" ~ \"cat\"))"
   ]
  },
  {
   "cell_type": "markdown",
   "metadata": {},
   "source": [
    "Ohh NO... What happened with `d`? Did it replace it with `NA`? We want to understand a bit more about how it is working.\n",
    "Let's give it another try by specifying that if there are cases that are not in my condition, then I want it to be what is already there."
   ]
  },
  {
   "cell_type": "code",
   "execution_count": 48,
   "metadata": {},
   "outputs": [
    {
     "data": {
      "text/html": [
       "<table class=\"dataframe\">\n",
       "<caption>A tibble: 5 × 2</caption>\n",
       "<thead>\n",
       "\t<tr><th scope=col>x</th><th scope=col>y</th></tr>\n",
       "\t<tr><th scope=col>&lt;dbl&gt;</th><th scope=col>&lt;chr&gt;</th></tr>\n",
       "</thead>\n",
       "<tbody>\n",
       "\t<tr><td> 3</td><td>apple</td></tr>\n",
       "\t<tr><td> 1</td><td>ball </td></tr>\n",
       "\t<tr><td> 2</td><td>NA   </td></tr>\n",
       "\t<tr><td>NA</td><td>cat  </td></tr>\n",
       "\t<tr><td> 5</td><td>d    </td></tr>\n",
       "</tbody>\n",
       "</table>\n"
      ],
      "text/latex": [
       "A tibble: 5 × 2\n",
       "\\begin{tabular}{ll}\n",
       " x & y\\\\\n",
       " <dbl> & <chr>\\\\\n",
       "\\hline\n",
       "\t  3 & apple\\\\\n",
       "\t  1 & ball \\\\\n",
       "\t  2 & NA   \\\\\n",
       "\t NA & cat  \\\\\n",
       "\t  5 & d    \\\\\n",
       "\\end{tabular}\n"
      ],
      "text/markdown": [
       "\n",
       "A tibble: 5 × 2\n",
       "\n",
       "| x &lt;dbl&gt; | y &lt;chr&gt; |\n",
       "|---|---|\n",
       "|  3 | apple |\n",
       "|  1 | ball  |\n",
       "|  2 | NA    |\n",
       "| NA | cat   |\n",
       "|  5 | d     |\n",
       "\n"
      ],
      "text/plain": [
       "  x  y    \n",
       "1  3 apple\n",
       "2  1 ball \n",
       "3  2 NA   \n",
       "4 NA cat  \n",
       "5  5 d    "
      ]
     },
     "metadata": {},
     "output_type": "display_data"
    }
   ],
   "source": [
    "a_df |> mutate(y = case_when(y == \"a\" ~ \"apple\",\n",
    "                             y == \"b\" ~ \"ball\",\n",
    "                             y == \"c\" ~ \"cat\",\n",
    "                            TRUE ~ y))"
   ]
  },
  {
   "cell_type": "markdown",
   "metadata": {},
   "source": [
    "Wonderful !! \n",
    "### Let's visit some weirdness of `NA`\n",
    "What about selectively changing NA values? Let's work through a simple example where we want to use `case_when` to change the `NA` in the `x` column to a `0`:"
   ]
  },
  {
   "cell_type": "markdown",
   "metadata": {},
   "source": [
    "Let's try what we did above:"
   ]
  },
  {
   "cell_type": "code",
   "execution_count": 49,
   "metadata": {},
   "outputs": [
    {
     "data": {
      "text/html": [
       "<table class=\"dataframe\">\n",
       "<caption>A tibble: 5 × 2</caption>\n",
       "<thead>\n",
       "\t<tr><th scope=col>x</th><th scope=col>y</th></tr>\n",
       "\t<tr><th scope=col>&lt;dbl&gt;</th><th scope=col>&lt;chr&gt;</th></tr>\n",
       "</thead>\n",
       "<tbody>\n",
       "\t<tr><td> 3</td><td>a </td></tr>\n",
       "\t<tr><td> 1</td><td>b </td></tr>\n",
       "\t<tr><td> 2</td><td>NA</td></tr>\n",
       "\t<tr><td>NA</td><td>c </td></tr>\n",
       "\t<tr><td> 5</td><td>d </td></tr>\n",
       "</tbody>\n",
       "</table>\n"
      ],
      "text/latex": [
       "A tibble: 5 × 2\n",
       "\\begin{tabular}{ll}\n",
       " x & y\\\\\n",
       " <dbl> & <chr>\\\\\n",
       "\\hline\n",
       "\t  3 & a \\\\\n",
       "\t  1 & b \\\\\n",
       "\t  2 & NA\\\\\n",
       "\t NA & c \\\\\n",
       "\t  5 & d \\\\\n",
       "\\end{tabular}\n"
      ],
      "text/markdown": [
       "\n",
       "A tibble: 5 × 2\n",
       "\n",
       "| x &lt;dbl&gt; | y &lt;chr&gt; |\n",
       "|---|---|\n",
       "|  3 | a  |\n",
       "|  1 | b  |\n",
       "|  2 | NA |\n",
       "| NA | c  |\n",
       "|  5 | d  |\n",
       "\n"
      ],
      "text/plain": [
       "  x  y \n",
       "1  3 a \n",
       "2  1 b \n",
       "3  2 NA\n",
       "4 NA c \n",
       "5  5 d "
      ]
     },
     "metadata": {},
     "output_type": "display_data"
    }
   ],
   "source": [
    "a_df"
   ]
  },
  {
   "cell_type": "code",
   "execution_count": 51,
   "metadata": {},
   "outputs": [
    {
     "data": {
      "text/html": [
       "<table class=\"dataframe\">\n",
       "<caption>A tibble: 5 × 2</caption>\n",
       "<thead>\n",
       "\t<tr><th scope=col>x</th><th scope=col>y</th></tr>\n",
       "\t<tr><th scope=col>&lt;dbl&gt;</th><th scope=col>&lt;chr&gt;</th></tr>\n",
       "</thead>\n",
       "<tbody>\n",
       "\t<tr><td> 3</td><td>a </td></tr>\n",
       "\t<tr><td> 1</td><td>b </td></tr>\n",
       "\t<tr><td> 2</td><td>NA</td></tr>\n",
       "\t<tr><td>NA</td><td>c </td></tr>\n",
       "\t<tr><td> 5</td><td>d </td></tr>\n",
       "</tbody>\n",
       "</table>\n"
      ],
      "text/latex": [
       "A tibble: 5 × 2\n",
       "\\begin{tabular}{ll}\n",
       " x & y\\\\\n",
       " <dbl> & <chr>\\\\\n",
       "\\hline\n",
       "\t  3 & a \\\\\n",
       "\t  1 & b \\\\\n",
       "\t  2 & NA\\\\\n",
       "\t NA & c \\\\\n",
       "\t  5 & d \\\\\n",
       "\\end{tabular}\n"
      ],
      "text/markdown": [
       "\n",
       "A tibble: 5 × 2\n",
       "\n",
       "| x &lt;dbl&gt; | y &lt;chr&gt; |\n",
       "|---|---|\n",
       "|  3 | a  |\n",
       "|  1 | b  |\n",
       "|  2 | NA |\n",
       "| NA | c  |\n",
       "|  5 | d  |\n",
       "\n"
      ],
      "text/plain": [
       "  x  y \n",
       "1  3 a \n",
       "2  1 b \n",
       "3  2 NA\n",
       "4 NA c \n",
       "5  5 d "
      ]
     },
     "metadata": {},
     "output_type": "display_data"
    }
   ],
   "source": [
    "a_df |> \n",
    "  mutate(x = case_when(x == NA ~ 0,\n",
    "                        TRUE ~ x))"
   ]
  },
  {
   "cell_type": "markdown",
   "metadata": {},
   "source": [
    "Well that didn't work! It turns out that NA's are special, and instead we have to use `is.na` instead:"
   ]
  },
  {
   "cell_type": "code",
   "execution_count": 52,
   "metadata": {},
   "outputs": [
    {
     "data": {
      "text/html": [
       "<table class=\"dataframe\">\n",
       "<caption>A tibble: 5 × 2</caption>\n",
       "<thead>\n",
       "\t<tr><th scope=col>x</th><th scope=col>y</th></tr>\n",
       "\t<tr><th scope=col>&lt;dbl&gt;</th><th scope=col>&lt;chr&gt;</th></tr>\n",
       "</thead>\n",
       "<tbody>\n",
       "\t<tr><td>3</td><td>a </td></tr>\n",
       "\t<tr><td>1</td><td>b </td></tr>\n",
       "\t<tr><td>2</td><td>NA</td></tr>\n",
       "\t<tr><td>0</td><td>c </td></tr>\n",
       "\t<tr><td>5</td><td>d </td></tr>\n",
       "</tbody>\n",
       "</table>\n"
      ],
      "text/latex": [
       "A tibble: 5 × 2\n",
       "\\begin{tabular}{ll}\n",
       " x & y\\\\\n",
       " <dbl> & <chr>\\\\\n",
       "\\hline\n",
       "\t 3 & a \\\\\n",
       "\t 1 & b \\\\\n",
       "\t 2 & NA\\\\\n",
       "\t 0 & c \\\\\n",
       "\t 5 & d \\\\\n",
       "\\end{tabular}\n"
      ],
      "text/markdown": [
       "\n",
       "A tibble: 5 × 2\n",
       "\n",
       "| x &lt;dbl&gt; | y &lt;chr&gt; |\n",
       "|---|---|\n",
       "| 3 | a  |\n",
       "| 1 | b  |\n",
       "| 2 | NA |\n",
       "| 0 | c  |\n",
       "| 5 | d  |\n",
       "\n"
      ],
      "text/plain": [
       "  x y \n",
       "1 3 a \n",
       "2 1 b \n",
       "3 2 NA\n",
       "4 0 c \n",
       "5 5 d "
      ]
     },
     "metadata": {},
     "output_type": "display_data"
    }
   ],
   "source": [
    "a_df |>\n",
    "  mutate(x = case_when(is.na(x) ~ 0,\n",
    "                           TRUE ~ x))"
   ]
  },
  {
   "cell_type": "markdown",
   "metadata": {},
   "source": [
    "Okay, I get what is `is.na()`, but is there anything so I can completely remove everything that is `NA`? YES, you can use `drop_na()`. `NA` is always special, so you can't just filter it using `filter().`"
   ]
  },
  {
   "cell_type": "code",
   "execution_count": 53,
   "metadata": {},
   "outputs": [
    {
     "data": {
      "text/html": [
       "<table class=\"dataframe\">\n",
       "<caption>A tibble: 3 × 2</caption>\n",
       "<thead>\n",
       "\t<tr><th scope=col>x</th><th scope=col>y</th></tr>\n",
       "\t<tr><th scope=col>&lt;dbl&gt;</th><th scope=col>&lt;chr&gt;</th></tr>\n",
       "</thead>\n",
       "<tbody>\n",
       "\t<tr><td>3</td><td>a</td></tr>\n",
       "\t<tr><td>1</td><td>b</td></tr>\n",
       "\t<tr><td>5</td><td>d</td></tr>\n",
       "</tbody>\n",
       "</table>\n"
      ],
      "text/latex": [
       "A tibble: 3 × 2\n",
       "\\begin{tabular}{ll}\n",
       " x & y\\\\\n",
       " <dbl> & <chr>\\\\\n",
       "\\hline\n",
       "\t 3 & a\\\\\n",
       "\t 1 & b\\\\\n",
       "\t 5 & d\\\\\n",
       "\\end{tabular}\n"
      ],
      "text/markdown": [
       "\n",
       "A tibble: 3 × 2\n",
       "\n",
       "| x &lt;dbl&gt; | y &lt;chr&gt; |\n",
       "|---|---|\n",
       "| 3 | a |\n",
       "| 1 | b |\n",
       "| 5 | d |\n",
       "\n"
      ],
      "text/plain": [
       "  x y\n",
       "1 3 a\n",
       "2 1 b\n",
       "3 5 d"
      ]
     },
     "metadata": {},
     "output_type": "display_data"
    }
   ],
   "source": [
    "a_df |> drop_na()"
   ]
  },
  {
   "cell_type": "markdown",
   "metadata": {},
   "source": [
    "Great! Everything that is `NA` is gone. Or in other words, we get complete cases of this dataframe. But what if I want to remove based on columns?"
   ]
  },
  {
   "cell_type": "code",
   "execution_count": 54,
   "metadata": {},
   "outputs": [
    {
     "data": {
      "text/html": [
       "<table class=\"dataframe\">\n",
       "<caption>A tibble: 4 × 2</caption>\n",
       "<thead>\n",
       "\t<tr><th scope=col>x</th><th scope=col>y</th></tr>\n",
       "\t<tr><th scope=col>&lt;dbl&gt;</th><th scope=col>&lt;chr&gt;</th></tr>\n",
       "</thead>\n",
       "<tbody>\n",
       "\t<tr><td>3</td><td>a </td></tr>\n",
       "\t<tr><td>1</td><td>b </td></tr>\n",
       "\t<tr><td>2</td><td>NA</td></tr>\n",
       "\t<tr><td>5</td><td>d </td></tr>\n",
       "</tbody>\n",
       "</table>\n"
      ],
      "text/latex": [
       "A tibble: 4 × 2\n",
       "\\begin{tabular}{ll}\n",
       " x & y\\\\\n",
       " <dbl> & <chr>\\\\\n",
       "\\hline\n",
       "\t 3 & a \\\\\n",
       "\t 1 & b \\\\\n",
       "\t 2 & NA\\\\\n",
       "\t 5 & d \\\\\n",
       "\\end{tabular}\n"
      ],
      "text/markdown": [
       "\n",
       "A tibble: 4 × 2\n",
       "\n",
       "| x &lt;dbl&gt; | y &lt;chr&gt; |\n",
       "|---|---|\n",
       "| 3 | a  |\n",
       "| 1 | b  |\n",
       "| 2 | NA |\n",
       "| 5 | d  |\n",
       "\n"
      ],
      "text/plain": [
       "  x y \n",
       "1 3 a \n",
       "2 1 b \n",
       "3 2 NA\n",
       "4 5 d "
      ]
     },
     "metadata": {},
     "output_type": "display_data"
    }
   ],
   "source": [
    "## You can also specify multiple columns\n",
    "a_df |> drop_na(x)"
   ]
  },
  {
   "cell_type": "markdown",
   "metadata": {},
   "source": [
    "### Let's visit some weirdness of `factors`\n",
    "\n",
    "Let's see if there is any change in behaviour when it is a factor"
   ]
  },
  {
   "cell_type": "code",
   "execution_count": 55,
   "metadata": {},
   "outputs": [
    {
     "data": {
      "text/html": [
       "<table class=\"dataframe\">\n",
       "<caption>A tibble: 5 × 2</caption>\n",
       "<thead>\n",
       "\t<tr><th scope=col>x</th><th scope=col>y</th></tr>\n",
       "\t<tr><th scope=col>&lt;dbl&gt;</th><th scope=col>&lt;fct&gt;</th></tr>\n",
       "</thead>\n",
       "<tbody>\n",
       "\t<tr><td> 3</td><td>a </td></tr>\n",
       "\t<tr><td> 1</td><td>b </td></tr>\n",
       "\t<tr><td> 2</td><td>NA</td></tr>\n",
       "\t<tr><td>NA</td><td>c </td></tr>\n",
       "\t<tr><td> 5</td><td>d </td></tr>\n",
       "</tbody>\n",
       "</table>\n"
      ],
      "text/latex": [
       "A tibble: 5 × 2\n",
       "\\begin{tabular}{ll}\n",
       " x & y\\\\\n",
       " <dbl> & <fct>\\\\\n",
       "\\hline\n",
       "\t  3 & a \\\\\n",
       "\t  1 & b \\\\\n",
       "\t  2 & NA\\\\\n",
       "\t NA & c \\\\\n",
       "\t  5 & d \\\\\n",
       "\\end{tabular}\n"
      ],
      "text/markdown": [
       "\n",
       "A tibble: 5 × 2\n",
       "\n",
       "| x &lt;dbl&gt; | y &lt;fct&gt; |\n",
       "|---|---|\n",
       "|  3 | a  |\n",
       "|  1 | b  |\n",
       "|  2 | NA |\n",
       "| NA | c  |\n",
       "|  5 | d  |\n",
       "\n"
      ],
      "text/plain": [
       "  x  y \n",
       "1  3 a \n",
       "2  1 b \n",
       "3  2 NA\n",
       "4 NA c \n",
       "5  5 d "
      ]
     },
     "metadata": {},
     "output_type": "display_data"
    }
   ],
   "source": [
    "f_df <- tibble(x = c(3, 1, 2, NA,5), \n",
    "               y = as.factor(c(\"a\", \"b\", NA, \"c\",\"d\")))\n",
    "f_df"
   ]
  },
  {
   "cell_type": "code",
   "execution_count": null,
   "metadata": {},
   "outputs": [],
   "source": [
    "# Why we are getting an error here ?\n",
    "# it runs okay if you replace all the cases with strings )in this example replace `d` with `dog`\n",
    "f_df |> mutate(y = case_when(y == \"a\" ~ \"apple\",\n",
    "                             y == \"b\" ~ \"ball\",\n",
    "                             y == \"c\" ~ \"cat\",\n",
    "                            TRUE ~ y))"
   ]
  },
  {
   "cell_type": "markdown",
   "metadata": {},
   "source": [
    "## Theme 2: Iterating over groups of rows\n",
    "\n",
    "Let's say we want to calculate the mean weight of chicks fed on each different diet. We can do this with {dplyr}'s `group_by` + `summarise`"
   ]
  },
  {
   "cell_type": "code",
   "execution_count": 57,
   "metadata": {},
   "outputs": [
    {
     "data": {
      "text/html": [
       "<table class=\"dataframe\">\n",
       "<caption>A data.frame: 71 × 2</caption>\n",
       "<thead>\n",
       "\t<tr><th scope=col>weight</th><th scope=col>feed</th></tr>\n",
       "\t<tr><th scope=col>&lt;dbl&gt;</th><th scope=col>&lt;fct&gt;</th></tr>\n",
       "</thead>\n",
       "<tbody>\n",
       "\t<tr><td>179</td><td>horsebean</td></tr>\n",
       "\t<tr><td>160</td><td>horsebean</td></tr>\n",
       "\t<tr><td>136</td><td>horsebean</td></tr>\n",
       "\t<tr><td>227</td><td>horsebean</td></tr>\n",
       "\t<tr><td>217</td><td>horsebean</td></tr>\n",
       "\t<tr><td>⋮</td><td>⋮</td></tr>\n",
       "\t<tr><td>359</td><td>casein</td></tr>\n",
       "\t<tr><td>216</td><td>casein</td></tr>\n",
       "\t<tr><td>222</td><td>casein</td></tr>\n",
       "\t<tr><td>283</td><td>casein</td></tr>\n",
       "\t<tr><td>332</td><td>casein</td></tr>\n",
       "</tbody>\n",
       "</table>\n"
      ],
      "text/latex": [
       "A data.frame: 71 × 2\n",
       "\\begin{tabular}{ll}\n",
       " weight & feed\\\\\n",
       " <dbl> & <fct>\\\\\n",
       "\\hline\n",
       "\t 179 & horsebean\\\\\n",
       "\t 160 & horsebean\\\\\n",
       "\t 136 & horsebean\\\\\n",
       "\t 227 & horsebean\\\\\n",
       "\t 217 & horsebean\\\\\n",
       "\t ⋮ & ⋮\\\\\n",
       "\t 359 & casein\\\\\n",
       "\t 216 & casein\\\\\n",
       "\t 222 & casein\\\\\n",
       "\t 283 & casein\\\\\n",
       "\t 332 & casein\\\\\n",
       "\\end{tabular}\n"
      ],
      "text/markdown": [
       "\n",
       "A data.frame: 71 × 2\n",
       "\n",
       "| weight &lt;dbl&gt; | feed &lt;fct&gt; |\n",
       "|---|---|\n",
       "| 179 | horsebean |\n",
       "| 160 | horsebean |\n",
       "| 136 | horsebean |\n",
       "| 227 | horsebean |\n",
       "| 217 | horsebean |\n",
       "| ⋮ | ⋮ |\n",
       "| 359 | casein |\n",
       "| 216 | casein |\n",
       "| 222 | casein |\n",
       "| 283 | casein |\n",
       "| 332 | casein |\n",
       "\n"
      ],
      "text/plain": [
       "   weight feed     \n",
       "1  179    horsebean\n",
       "2  160    horsebean\n",
       "3  136    horsebean\n",
       "4  227    horsebean\n",
       "5  217    horsebean\n",
       "⋮  ⋮      ⋮        \n",
       "67 359    casein   \n",
       "68 216    casein   \n",
       "69 222    casein   \n",
       "70 283    casein   \n",
       "71 332    casein   "
      ]
     },
     "metadata": {},
     "output_type": "display_data"
    }
   ],
   "source": [
    "chickwts"
   ]
  },
  {
   "cell_type": "code",
   "execution_count": 58,
   "metadata": {},
   "outputs": [
    {
     "data": {
      "text/html": [
       "<table class=\"dataframe\">\n",
       "<caption>A tibble: 6 × 2</caption>\n",
       "<thead>\n",
       "\t<tr><th scope=col>feed</th><th scope=col>mean_weight</th></tr>\n",
       "\t<tr><th scope=col>&lt;fct&gt;</th><th scope=col>&lt;dbl&gt;</th></tr>\n",
       "</thead>\n",
       "<tbody>\n",
       "\t<tr><td>casein   </td><td>323.5833</td></tr>\n",
       "\t<tr><td>horsebean</td><td>160.2000</td></tr>\n",
       "\t<tr><td>linseed  </td><td>218.7500</td></tr>\n",
       "\t<tr><td>meatmeal </td><td>276.9091</td></tr>\n",
       "\t<tr><td>soybean  </td><td>246.4286</td></tr>\n",
       "\t<tr><td>sunflower</td><td>328.9167</td></tr>\n",
       "</tbody>\n",
       "</table>\n"
      ],
      "text/latex": [
       "A tibble: 6 × 2\n",
       "\\begin{tabular}{ll}\n",
       " feed & mean\\_weight\\\\\n",
       " <fct> & <dbl>\\\\\n",
       "\\hline\n",
       "\t casein    & 323.5833\\\\\n",
       "\t horsebean & 160.2000\\\\\n",
       "\t linseed   & 218.7500\\\\\n",
       "\t meatmeal  & 276.9091\\\\\n",
       "\t soybean   & 246.4286\\\\\n",
       "\t sunflower & 328.9167\\\\\n",
       "\\end{tabular}\n"
      ],
      "text/markdown": [
       "\n",
       "A tibble: 6 × 2\n",
       "\n",
       "| feed &lt;fct&gt; | mean_weight &lt;dbl&gt; |\n",
       "|---|---|\n",
       "| casein    | 323.5833 |\n",
       "| horsebean | 160.2000 |\n",
       "| linseed   | 218.7500 |\n",
       "| meatmeal  | 276.9091 |\n",
       "| soybean   | 246.4286 |\n",
       "| sunflower | 328.9167 |\n",
       "\n"
      ],
      "text/plain": [
       "  feed      mean_weight\n",
       "1 casein    323.5833   \n",
       "2 horsebean 160.2000   \n",
       "3 linseed   218.7500   \n",
       "4 meatmeal  276.9091   \n",
       "5 soybean   246.4286   \n",
       "6 sunflower 328.9167   "
      ]
     },
     "metadata": {},
     "output_type": "display_data"
    }
   ],
   "source": [
    "# Let's experiment other functions median, max, min, n, \n",
    "mean_weight <- chickwts |>\n",
    "  group_by(feed) |> \n",
    "  summarise(mean_weight = mean(weight, na.rm = TRUE))\n",
    "mean_weight"
   ]
  },
  {
   "cell_type": "markdown",
   "metadata": {},
   "source": [
    "Again watch for `NA` here. Let's see an example"
   ]
  },
  {
   "cell_type": "code",
   "execution_count": 59,
   "metadata": {},
   "outputs": [
    {
     "data": {
      "text/html": [
       "<table class=\"dataframe\">\n",
       "<caption>A tibble: 344 × 8</caption>\n",
       "<thead>\n",
       "\t<tr><th scope=col>species</th><th scope=col>island</th><th scope=col>bill_length_mm</th><th scope=col>bill_depth_mm</th><th scope=col>flipper_length_mm</th><th scope=col>body_mass_g</th><th scope=col>sex</th><th scope=col>year</th></tr>\n",
       "\t<tr><th scope=col>&lt;fct&gt;</th><th scope=col>&lt;fct&gt;</th><th scope=col>&lt;dbl&gt;</th><th scope=col>&lt;dbl&gt;</th><th scope=col>&lt;int&gt;</th><th scope=col>&lt;int&gt;</th><th scope=col>&lt;fct&gt;</th><th scope=col>&lt;int&gt;</th></tr>\n",
       "</thead>\n",
       "<tbody>\n",
       "\t<tr><td>Adelie</td><td>Torgersen</td><td>39.1</td><td>18.7</td><td>181</td><td>3750</td><td>male  </td><td>2007</td></tr>\n",
       "\t<tr><td>Adelie</td><td>Torgersen</td><td>39.5</td><td>17.4</td><td>186</td><td>3800</td><td>female</td><td>2007</td></tr>\n",
       "\t<tr><td>Adelie</td><td>Torgersen</td><td>40.3</td><td>18.0</td><td>195</td><td>3250</td><td>female</td><td>2007</td></tr>\n",
       "\t<tr><td>Adelie</td><td>Torgersen</td><td>  NA</td><td>  NA</td><td> NA</td><td>  NA</td><td>NA    </td><td>2007</td></tr>\n",
       "\t<tr><td>Adelie</td><td>Torgersen</td><td>36.7</td><td>19.3</td><td>193</td><td>3450</td><td>female</td><td>2007</td></tr>\n",
       "\t<tr><td>⋮</td><td>⋮</td><td>⋮</td><td>⋮</td><td>⋮</td><td>⋮</td><td>⋮</td><td>⋮</td></tr>\n",
       "\t<tr><td>Chinstrap</td><td>Dream</td><td>55.8</td><td>19.8</td><td>207</td><td>4000</td><td>male  </td><td>2009</td></tr>\n",
       "\t<tr><td>Chinstrap</td><td>Dream</td><td>43.5</td><td>18.1</td><td>202</td><td>3400</td><td>female</td><td>2009</td></tr>\n",
       "\t<tr><td>Chinstrap</td><td>Dream</td><td>49.6</td><td>18.2</td><td>193</td><td>3775</td><td>male  </td><td>2009</td></tr>\n",
       "\t<tr><td>Chinstrap</td><td>Dream</td><td>50.8</td><td>19.0</td><td>210</td><td>4100</td><td>male  </td><td>2009</td></tr>\n",
       "\t<tr><td>Chinstrap</td><td>Dream</td><td>50.2</td><td>18.7</td><td>198</td><td>3775</td><td>female</td><td>2009</td></tr>\n",
       "</tbody>\n",
       "</table>\n"
      ],
      "text/latex": [
       "A tibble: 344 × 8\n",
       "\\begin{tabular}{llllllll}\n",
       " species & island & bill\\_length\\_mm & bill\\_depth\\_mm & flipper\\_length\\_mm & body\\_mass\\_g & sex & year\\\\\n",
       " <fct> & <fct> & <dbl> & <dbl> & <int> & <int> & <fct> & <int>\\\\\n",
       "\\hline\n",
       "\t Adelie & Torgersen & 39.1 & 18.7 & 181 & 3750 & male   & 2007\\\\\n",
       "\t Adelie & Torgersen & 39.5 & 17.4 & 186 & 3800 & female & 2007\\\\\n",
       "\t Adelie & Torgersen & 40.3 & 18.0 & 195 & 3250 & female & 2007\\\\\n",
       "\t Adelie & Torgersen &   NA &   NA &  NA &   NA & NA     & 2007\\\\\n",
       "\t Adelie & Torgersen & 36.7 & 19.3 & 193 & 3450 & female & 2007\\\\\n",
       "\t ⋮ & ⋮ & ⋮ & ⋮ & ⋮ & ⋮ & ⋮ & ⋮\\\\\n",
       "\t Chinstrap & Dream & 55.8 & 19.8 & 207 & 4000 & male   & 2009\\\\\n",
       "\t Chinstrap & Dream & 43.5 & 18.1 & 202 & 3400 & female & 2009\\\\\n",
       "\t Chinstrap & Dream & 49.6 & 18.2 & 193 & 3775 & male   & 2009\\\\\n",
       "\t Chinstrap & Dream & 50.8 & 19.0 & 210 & 4100 & male   & 2009\\\\\n",
       "\t Chinstrap & Dream & 50.2 & 18.7 & 198 & 3775 & female & 2009\\\\\n",
       "\\end{tabular}\n"
      ],
      "text/markdown": [
       "\n",
       "A tibble: 344 × 8\n",
       "\n",
       "| species &lt;fct&gt; | island &lt;fct&gt; | bill_length_mm &lt;dbl&gt; | bill_depth_mm &lt;dbl&gt; | flipper_length_mm &lt;int&gt; | body_mass_g &lt;int&gt; | sex &lt;fct&gt; | year &lt;int&gt; |\n",
       "|---|---|---|---|---|---|---|---|\n",
       "| Adelie | Torgersen | 39.1 | 18.7 | 181 | 3750 | male   | 2007 |\n",
       "| Adelie | Torgersen | 39.5 | 17.4 | 186 | 3800 | female | 2007 |\n",
       "| Adelie | Torgersen | 40.3 | 18.0 | 195 | 3250 | female | 2007 |\n",
       "| Adelie | Torgersen |   NA |   NA |  NA |   NA | NA     | 2007 |\n",
       "| Adelie | Torgersen | 36.7 | 19.3 | 193 | 3450 | female | 2007 |\n",
       "| ⋮ | ⋮ | ⋮ | ⋮ | ⋮ | ⋮ | ⋮ | ⋮ |\n",
       "| Chinstrap | Dream | 55.8 | 19.8 | 207 | 4000 | male   | 2009 |\n",
       "| Chinstrap | Dream | 43.5 | 18.1 | 202 | 3400 | female | 2009 |\n",
       "| Chinstrap | Dream | 49.6 | 18.2 | 193 | 3775 | male   | 2009 |\n",
       "| Chinstrap | Dream | 50.8 | 19.0 | 210 | 4100 | male   | 2009 |\n",
       "| Chinstrap | Dream | 50.2 | 18.7 | 198 | 3775 | female | 2009 |\n",
       "\n"
      ],
      "text/plain": [
       "    species   island    bill_length_mm bill_depth_mm flipper_length_mm\n",
       "1   Adelie    Torgersen 39.1           18.7          181              \n",
       "2   Adelie    Torgersen 39.5           17.4          186              \n",
       "3   Adelie    Torgersen 40.3           18.0          195              \n",
       "4   Adelie    Torgersen   NA             NA           NA              \n",
       "5   Adelie    Torgersen 36.7           19.3          193              \n",
       "⋮   ⋮         ⋮         ⋮              ⋮             ⋮                \n",
       "340 Chinstrap Dream     55.8           19.8          207              \n",
       "341 Chinstrap Dream     43.5           18.1          202              \n",
       "342 Chinstrap Dream     49.6           18.2          193              \n",
       "343 Chinstrap Dream     50.8           19.0          210              \n",
       "344 Chinstrap Dream     50.2           18.7          198              \n",
       "    body_mass_g sex    year\n",
       "1   3750        male   2007\n",
       "2   3800        female 2007\n",
       "3   3250        female 2007\n",
       "4     NA        NA     2007\n",
       "5   3450        female 2007\n",
       "⋮   ⋮           ⋮      ⋮   \n",
       "340 4000        male   2009\n",
       "341 3400        female 2009\n",
       "342 3775        male   2009\n",
       "343 4100        male   2009\n",
       "344 3775        female 2009"
      ]
     },
     "metadata": {},
     "output_type": "display_data"
    }
   ],
   "source": [
    "library(palmerpenguins)\n",
    "penguins"
   ]
  },
  {
   "cell_type": "code",
   "execution_count": 60,
   "metadata": {},
   "outputs": [
    {
     "data": {
      "text/html": [
       "<table class=\"dataframe\">\n",
       "<caption>A tibble: 3 × 2</caption>\n",
       "<thead>\n",
       "\t<tr><th scope=col>species</th><th scope=col>max_bill_length</th></tr>\n",
       "\t<tr><th scope=col>&lt;fct&gt;</th><th scope=col>&lt;dbl&gt;</th></tr>\n",
       "</thead>\n",
       "<tbody>\n",
       "\t<tr><td>Adelie   </td><td>NA</td></tr>\n",
       "\t<tr><td>Chinstrap</td><td>58</td></tr>\n",
       "\t<tr><td>Gentoo   </td><td>NA</td></tr>\n",
       "</tbody>\n",
       "</table>\n"
      ],
      "text/latex": [
       "A tibble: 3 × 2\n",
       "\\begin{tabular}{ll}\n",
       " species & max\\_bill\\_length\\\\\n",
       " <fct> & <dbl>\\\\\n",
       "\\hline\n",
       "\t Adelie    & NA\\\\\n",
       "\t Chinstrap & 58\\\\\n",
       "\t Gentoo    & NA\\\\\n",
       "\\end{tabular}\n"
      ],
      "text/markdown": [
       "\n",
       "A tibble: 3 × 2\n",
       "\n",
       "| species &lt;fct&gt; | max_bill_length &lt;dbl&gt; |\n",
       "|---|---|\n",
       "| Adelie    | NA |\n",
       "| Chinstrap | 58 |\n",
       "| Gentoo    | NA |\n",
       "\n"
      ],
      "text/plain": [
       "  species   max_bill_length\n",
       "1 Adelie    NA             \n",
       "2 Chinstrap 58             \n",
       "3 Gentoo    NA             "
      ]
     },
     "metadata": {},
     "output_type": "display_data"
    }
   ],
   "source": [
    "penguins %>%\n",
    "    group_by(species) %>%\n",
    "    summarise(max_bill_length = max(bill_length_mm))"
   ]
  },
  {
   "cell_type": "code",
   "execution_count": 61,
   "metadata": {},
   "outputs": [
    {
     "data": {
      "text/html": [
       "<table class=\"dataframe\">\n",
       "<caption>A tibble: 3 × 2</caption>\n",
       "<thead>\n",
       "\t<tr><th scope=col>species</th><th scope=col>max_bill_length</th></tr>\n",
       "\t<tr><th scope=col>&lt;fct&gt;</th><th scope=col>&lt;dbl&gt;</th></tr>\n",
       "</thead>\n",
       "<tbody>\n",
       "\t<tr><td>Adelie   </td><td>46.0</td></tr>\n",
       "\t<tr><td>Chinstrap</td><td>58.0</td></tr>\n",
       "\t<tr><td>Gentoo   </td><td>59.6</td></tr>\n",
       "</tbody>\n",
       "</table>\n"
      ],
      "text/latex": [
       "A tibble: 3 × 2\n",
       "\\begin{tabular}{ll}\n",
       " species & max\\_bill\\_length\\\\\n",
       " <fct> & <dbl>\\\\\n",
       "\\hline\n",
       "\t Adelie    & 46.0\\\\\n",
       "\t Chinstrap & 58.0\\\\\n",
       "\t Gentoo    & 59.6\\\\\n",
       "\\end{tabular}\n"
      ],
      "text/markdown": [
       "\n",
       "A tibble: 3 × 2\n",
       "\n",
       "| species &lt;fct&gt; | max_bill_length &lt;dbl&gt; |\n",
       "|---|---|\n",
       "| Adelie    | 46.0 |\n",
       "| Chinstrap | 58.0 |\n",
       "| Gentoo    | 59.6 |\n",
       "\n"
      ],
      "text/plain": [
       "  species   max_bill_length\n",
       "1 Adelie    46.0           \n",
       "2 Chinstrap 58.0           \n",
       "3 Gentoo    59.6           "
      ]
     },
     "metadata": {},
     "output_type": "display_data"
    }
   ],
   "source": [
    "## Don't forget to handle NAs properly\n",
    "penguins %>%\n",
    "    group_by(species) %>%\n",
    "    summarise(max_bill_length = max(bill_length_mm,na.rm = TRUE))"
   ]
  },
  {
   "cell_type": "markdown",
   "metadata": {},
   "source": [
    "## Iterating over columns in a data frame\n",
    "\n",
    "(which is equivalent to iterating over columns in a data frame)\n",
    "\n",
    "Let's looks that the built-in `USJudgeRatings` data set, which has lawyers' ratings of state judges in the US Superior Court on their various courtroom attributes. \n",
    "\n",
    "What if we were interested in the median ratings of each of these attributes, to see, for example, if lawyers routinely rated certain attributes higher than others across all judges. We can use {purrr}'s `map_df` function to do this and get back the results as a tibble. "
   ]
  },
  {
   "cell_type": "code",
   "execution_count": 63,
   "metadata": {},
   "outputs": [
    {
     "data": {
      "text/html": [
       "<table class=\"dataframe\">\n",
       "<caption>A data.frame: 43 × 12</caption>\n",
       "<thead>\n",
       "\t<tr><th></th><th scope=col>CONT</th><th scope=col>INTG</th><th scope=col>DMNR</th><th scope=col>DILG</th><th scope=col>CFMG</th><th scope=col>DECI</th><th scope=col>PREP</th><th scope=col>FAMI</th><th scope=col>ORAL</th><th scope=col>WRIT</th><th scope=col>PHYS</th><th scope=col>RTEN</th></tr>\n",
       "\t<tr><th></th><th scope=col>&lt;dbl&gt;</th><th scope=col>&lt;dbl&gt;</th><th scope=col>&lt;dbl&gt;</th><th scope=col>&lt;dbl&gt;</th><th scope=col>&lt;dbl&gt;</th><th scope=col>&lt;dbl&gt;</th><th scope=col>&lt;dbl&gt;</th><th scope=col>&lt;dbl&gt;</th><th scope=col>&lt;dbl&gt;</th><th scope=col>&lt;dbl&gt;</th><th scope=col>&lt;dbl&gt;</th><th scope=col>&lt;dbl&gt;</th></tr>\n",
       "</thead>\n",
       "<tbody>\n",
       "\t<tr><th scope=row>AARONSON,L.H.</th><td>5.7</td><td>7.9</td><td>7.7</td><td>7.3</td><td>7.1</td><td>7.4</td><td>7.1</td><td>7.1</td><td>7.1</td><td>7.0</td><td>8.3</td><td>7.8</td></tr>\n",
       "\t<tr><th scope=row>ALEXANDER,J.M.</th><td>6.8</td><td>8.9</td><td>8.8</td><td>8.5</td><td>7.8</td><td>8.1</td><td>8.0</td><td>8.0</td><td>7.8</td><td>7.9</td><td>8.5</td><td>8.7</td></tr>\n",
       "\t<tr><th scope=row>ARMENTANO,A.J.</th><td>7.2</td><td>8.1</td><td>7.8</td><td>7.8</td><td>7.5</td><td>7.6</td><td>7.5</td><td>7.5</td><td>7.3</td><td>7.4</td><td>7.9</td><td>7.8</td></tr>\n",
       "\t<tr><th scope=row>BERDON,R.I.</th><td>6.8</td><td>8.8</td><td>8.5</td><td>8.8</td><td>8.3</td><td>8.5</td><td>8.7</td><td>8.7</td><td>8.4</td><td>8.5</td><td>8.8</td><td>8.7</td></tr>\n",
       "\t<tr><th scope=row>BRACKEN,J.J.</th><td>7.3</td><td>6.4</td><td>4.3</td><td>6.5</td><td>6.0</td><td>6.2</td><td>5.7</td><td>5.7</td><td>5.1</td><td>5.3</td><td>5.5</td><td>4.8</td></tr>\n",
       "\t<tr><th scope=row>⋮</th><td>⋮</td><td>⋮</td><td>⋮</td><td>⋮</td><td>⋮</td><td>⋮</td><td>⋮</td><td>⋮</td><td>⋮</td><td>⋮</td><td>⋮</td><td>⋮</td></tr>\n",
       "\t<tr><th scope=row>TESTO,R.J.</th><td>8.3</td><td>7.3</td><td>7.0</td><td>6.8</td><td>7.0</td><td>7.1</td><td>6.7</td><td>6.7</td><td>6.7</td><td>6.7</td><td>8.0</td><td>7.0</td></tr>\n",
       "\t<tr><th scope=row>TIERNEY,W.L.JR.</th><td>8.3</td><td>8.2</td><td>7.8</td><td>8.3</td><td>8.4</td><td>8.3</td><td>7.7</td><td>7.6</td><td>7.5</td><td>7.7</td><td>8.1</td><td>7.9</td></tr>\n",
       "\t<tr><th scope=row>WALL,R.A.</th><td>9.0</td><td>7.0</td><td>5.9</td><td>7.0</td><td>7.0</td><td>7.2</td><td>6.9</td><td>6.9</td><td>6.5</td><td>6.6</td><td>7.6</td><td>6.6</td></tr>\n",
       "\t<tr><th scope=row>WRIGHT,D.B.</th><td>7.1</td><td>8.4</td><td>8.4</td><td>7.7</td><td>7.5</td><td>7.7</td><td>7.8</td><td>8.2</td><td>8.0</td><td>8.1</td><td>8.3</td><td>8.1</td></tr>\n",
       "\t<tr><th scope=row>ZARRILLI,K.J.</th><td>8.6</td><td>7.4</td><td>7.0</td><td>7.5</td><td>7.5</td><td>7.7</td><td>7.4</td><td>7.2</td><td>6.9</td><td>7.0</td><td>7.8</td><td>7.1</td></tr>\n",
       "</tbody>\n",
       "</table>\n"
      ],
      "text/latex": [
       "A data.frame: 43 × 12\n",
       "\\begin{tabular}{r|llllllllllll}\n",
       "  & CONT & INTG & DMNR & DILG & CFMG & DECI & PREP & FAMI & ORAL & WRIT & PHYS & RTEN\\\\\n",
       "  & <dbl> & <dbl> & <dbl> & <dbl> & <dbl> & <dbl> & <dbl> & <dbl> & <dbl> & <dbl> & <dbl> & <dbl>\\\\\n",
       "\\hline\n",
       "\tAARONSON,L.H. & 5.7 & 7.9 & 7.7 & 7.3 & 7.1 & 7.4 & 7.1 & 7.1 & 7.1 & 7.0 & 8.3 & 7.8\\\\\n",
       "\tALEXANDER,J.M. & 6.8 & 8.9 & 8.8 & 8.5 & 7.8 & 8.1 & 8.0 & 8.0 & 7.8 & 7.9 & 8.5 & 8.7\\\\\n",
       "\tARMENTANO,A.J. & 7.2 & 8.1 & 7.8 & 7.8 & 7.5 & 7.6 & 7.5 & 7.5 & 7.3 & 7.4 & 7.9 & 7.8\\\\\n",
       "\tBERDON,R.I. & 6.8 & 8.8 & 8.5 & 8.8 & 8.3 & 8.5 & 8.7 & 8.7 & 8.4 & 8.5 & 8.8 & 8.7\\\\\n",
       "\tBRACKEN,J.J. & 7.3 & 6.4 & 4.3 & 6.5 & 6.0 & 6.2 & 5.7 & 5.7 & 5.1 & 5.3 & 5.5 & 4.8\\\\\n",
       "\t⋮ & ⋮ & ⋮ & ⋮ & ⋮ & ⋮ & ⋮ & ⋮ & ⋮ & ⋮ & ⋮ & ⋮ & ⋮\\\\\n",
       "\tTESTO,R.J. & 8.3 & 7.3 & 7.0 & 6.8 & 7.0 & 7.1 & 6.7 & 6.7 & 6.7 & 6.7 & 8.0 & 7.0\\\\\n",
       "\tTIERNEY,W.L.JR. & 8.3 & 8.2 & 7.8 & 8.3 & 8.4 & 8.3 & 7.7 & 7.6 & 7.5 & 7.7 & 8.1 & 7.9\\\\\n",
       "\tWALL,R.A. & 9.0 & 7.0 & 5.9 & 7.0 & 7.0 & 7.2 & 6.9 & 6.9 & 6.5 & 6.6 & 7.6 & 6.6\\\\\n",
       "\tWRIGHT,D.B. & 7.1 & 8.4 & 8.4 & 7.7 & 7.5 & 7.7 & 7.8 & 8.2 & 8.0 & 8.1 & 8.3 & 8.1\\\\\n",
       "\tZARRILLI,K.J. & 8.6 & 7.4 & 7.0 & 7.5 & 7.5 & 7.7 & 7.4 & 7.2 & 6.9 & 7.0 & 7.8 & 7.1\\\\\n",
       "\\end{tabular}\n"
      ],
      "text/markdown": [
       "\n",
       "A data.frame: 43 × 12\n",
       "\n",
       "| <!--/--> | CONT &lt;dbl&gt; | INTG &lt;dbl&gt; | DMNR &lt;dbl&gt; | DILG &lt;dbl&gt; | CFMG &lt;dbl&gt; | DECI &lt;dbl&gt; | PREP &lt;dbl&gt; | FAMI &lt;dbl&gt; | ORAL &lt;dbl&gt; | WRIT &lt;dbl&gt; | PHYS &lt;dbl&gt; | RTEN &lt;dbl&gt; |\n",
       "|---|---|---|---|---|---|---|---|---|---|---|---|---|\n",
       "| AARONSON,L.H. | 5.7 | 7.9 | 7.7 | 7.3 | 7.1 | 7.4 | 7.1 | 7.1 | 7.1 | 7.0 | 8.3 | 7.8 |\n",
       "| ALEXANDER,J.M. | 6.8 | 8.9 | 8.8 | 8.5 | 7.8 | 8.1 | 8.0 | 8.0 | 7.8 | 7.9 | 8.5 | 8.7 |\n",
       "| ARMENTANO,A.J. | 7.2 | 8.1 | 7.8 | 7.8 | 7.5 | 7.6 | 7.5 | 7.5 | 7.3 | 7.4 | 7.9 | 7.8 |\n",
       "| BERDON,R.I. | 6.8 | 8.8 | 8.5 | 8.8 | 8.3 | 8.5 | 8.7 | 8.7 | 8.4 | 8.5 | 8.8 | 8.7 |\n",
       "| BRACKEN,J.J. | 7.3 | 6.4 | 4.3 | 6.5 | 6.0 | 6.2 | 5.7 | 5.7 | 5.1 | 5.3 | 5.5 | 4.8 |\n",
       "| ⋮ | ⋮ | ⋮ | ⋮ | ⋮ | ⋮ | ⋮ | ⋮ | ⋮ | ⋮ | ⋮ | ⋮ | ⋮ |\n",
       "| TESTO,R.J. | 8.3 | 7.3 | 7.0 | 6.8 | 7.0 | 7.1 | 6.7 | 6.7 | 6.7 | 6.7 | 8.0 | 7.0 |\n",
       "| TIERNEY,W.L.JR. | 8.3 | 8.2 | 7.8 | 8.3 | 8.4 | 8.3 | 7.7 | 7.6 | 7.5 | 7.7 | 8.1 | 7.9 |\n",
       "| WALL,R.A. | 9.0 | 7.0 | 5.9 | 7.0 | 7.0 | 7.2 | 6.9 | 6.9 | 6.5 | 6.6 | 7.6 | 6.6 |\n",
       "| WRIGHT,D.B. | 7.1 | 8.4 | 8.4 | 7.7 | 7.5 | 7.7 | 7.8 | 8.2 | 8.0 | 8.1 | 8.3 | 8.1 |\n",
       "| ZARRILLI,K.J. | 8.6 | 7.4 | 7.0 | 7.5 | 7.5 | 7.7 | 7.4 | 7.2 | 6.9 | 7.0 | 7.8 | 7.1 |\n",
       "\n"
      ],
      "text/plain": [
       "                CONT INTG DMNR DILG CFMG DECI PREP FAMI ORAL WRIT PHYS RTEN\n",
       "AARONSON,L.H.   5.7  7.9  7.7  7.3  7.1  7.4  7.1  7.1  7.1  7.0  8.3  7.8 \n",
       "ALEXANDER,J.M.  6.8  8.9  8.8  8.5  7.8  8.1  8.0  8.0  7.8  7.9  8.5  8.7 \n",
       "ARMENTANO,A.J.  7.2  8.1  7.8  7.8  7.5  7.6  7.5  7.5  7.3  7.4  7.9  7.8 \n",
       "BERDON,R.I.     6.8  8.8  8.5  8.8  8.3  8.5  8.7  8.7  8.4  8.5  8.8  8.7 \n",
       "BRACKEN,J.J.    7.3  6.4  4.3  6.5  6.0  6.2  5.7  5.7  5.1  5.3  5.5  4.8 \n",
       "⋮               ⋮    ⋮    ⋮    ⋮    ⋮    ⋮    ⋮    ⋮    ⋮    ⋮    ⋮    ⋮   \n",
       "TESTO,R.J.      8.3  7.3  7.0  6.8  7.0  7.1  6.7  6.7  6.7  6.7  8.0  7.0 \n",
       "TIERNEY,W.L.JR. 8.3  8.2  7.8  8.3  8.4  8.3  7.7  7.6  7.5  7.7  8.1  7.9 \n",
       "WALL,R.A.       9.0  7.0  5.9  7.0  7.0  7.2  6.9  6.9  6.5  6.6  7.6  6.6 \n",
       "WRIGHT,D.B.     7.1  8.4  8.4  7.7  7.5  7.7  7.8  8.2  8.0  8.1  8.3  8.1 \n",
       "ZARRILLI,K.J.   8.6  7.4  7.0  7.5  7.5  7.7  7.4  7.2  6.9  7.0  7.8  7.1 "
      ]
     },
     "metadata": {},
     "output_type": "display_data"
    }
   ],
   "source": [
    "USJudgeRatings"
   ]
  },
  {
   "cell_type": "code",
   "execution_count": 66,
   "metadata": {},
   "outputs": [
    {
     "data": {
      "text/html": [
       "<table class=\"dataframe\">\n",
       "<caption>A tibble: 1 × 12</caption>\n",
       "<thead>\n",
       "\t<tr><th scope=col>CONT</th><th scope=col>INTG</th><th scope=col>DMNR</th><th scope=col>DILG</th><th scope=col>CFMG</th><th scope=col>DECI</th><th scope=col>PREP</th><th scope=col>FAMI</th><th scope=col>ORAL</th><th scope=col>WRIT</th><th scope=col>PHYS</th><th scope=col>RTEN</th></tr>\n",
       "\t<tr><th scope=col>&lt;dbl&gt;</th><th scope=col>&lt;dbl&gt;</th><th scope=col>&lt;dbl&gt;</th><th scope=col>&lt;dbl&gt;</th><th scope=col>&lt;dbl&gt;</th><th scope=col>&lt;dbl&gt;</th><th scope=col>&lt;dbl&gt;</th><th scope=col>&lt;dbl&gt;</th><th scope=col>&lt;dbl&gt;</th><th scope=col>&lt;dbl&gt;</th><th scope=col>&lt;dbl&gt;</th><th scope=col>&lt;dbl&gt;</th></tr>\n",
       "</thead>\n",
       "<tbody>\n",
       "\t<tr><td>7.3</td><td>8.1</td><td>7.7</td><td>7.8</td><td>7.6</td><td>7.7</td><td>7.7</td><td>7.6</td><td>7.5</td><td>7.6</td><td>8.1</td><td>7.8</td></tr>\n",
       "</tbody>\n",
       "</table>\n"
      ],
      "text/latex": [
       "A tibble: 1 × 12\n",
       "\\begin{tabular}{llllllllllll}\n",
       " CONT & INTG & DMNR & DILG & CFMG & DECI & PREP & FAMI & ORAL & WRIT & PHYS & RTEN\\\\\n",
       " <dbl> & <dbl> & <dbl> & <dbl> & <dbl> & <dbl> & <dbl> & <dbl> & <dbl> & <dbl> & <dbl> & <dbl>\\\\\n",
       "\\hline\n",
       "\t 7.3 & 8.1 & 7.7 & 7.8 & 7.6 & 7.7 & 7.7 & 7.6 & 7.5 & 7.6 & 8.1 & 7.8\\\\\n",
       "\\end{tabular}\n"
      ],
      "text/markdown": [
       "\n",
       "A tibble: 1 × 12\n",
       "\n",
       "| CONT &lt;dbl&gt; | INTG &lt;dbl&gt; | DMNR &lt;dbl&gt; | DILG &lt;dbl&gt; | CFMG &lt;dbl&gt; | DECI &lt;dbl&gt; | PREP &lt;dbl&gt; | FAMI &lt;dbl&gt; | ORAL &lt;dbl&gt; | WRIT &lt;dbl&gt; | PHYS &lt;dbl&gt; | RTEN &lt;dbl&gt; |\n",
       "|---|---|---|---|---|---|---|---|---|---|---|---|\n",
       "| 7.3 | 8.1 | 7.7 | 7.8 | 7.6 | 7.7 | 7.7 | 7.6 | 7.5 | 7.6 | 8.1 | 7.8 |\n",
       "\n"
      ],
      "text/plain": [
       "  CONT INTG DMNR DILG CFMG DECI PREP FAMI ORAL WRIT PHYS RTEN\n",
       "1 7.3  8.1  7.7  7.8  7.6  7.7  7.7  7.6  7.5  7.6  8.1  7.8 "
      ]
     },
     "metadata": {},
     "output_type": "display_data"
    }
   ],
   "source": [
    "## Let's play with map_* and some functions\n",
    "median_ratings <- map_df(USJudgeRatings, median,na.rm = TRUE)\n",
    "median_ratings"
   ]
  },
  {
   "cell_type": "markdown",
   "metadata": {},
   "source": [
    "### What did we learn today?\n",
    "\n",
    "- How to use `case_when` to selectively change values in a data frame (similar to base R `if` statements)\n",
    "\n",
    "- How to use `group_by` to iterate over groups of rows (similar to `for` loops in base R)\n",
    "\n",
    "- How to use {purrr} `map_*` functions to iterate over columns (similar to `apply` in base R)"
   ]
  }
 ],
 "metadata": {
  "kernelspec": {
   "display_name": "R",
   "language": "R",
   "name": "ir"
  },
  "language_info": {
   "codemirror_mode": "r",
   "file_extension": ".r",
   "mimetype": "text/x-r-source",
   "name": "R",
   "pygments_lexer": "r",
   "version": "4.2.1"
  }
 },
 "nbformat": 4,
 "nbformat_minor": 4
}
