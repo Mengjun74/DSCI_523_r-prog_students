{
 "cells": [
  {
   "cell_type": "markdown",
   "id": "640f2721",
   "metadata": {},
   "source": [
    "## Lecture 3 demo\n",
    "\n",
    "There are 3 key themes to this lecture:\n",
    "\n",
    "1. dates & times\n",
    "\n",
    "2. strings\n",
    "\n",
    "3. factors"
   ]
  },
  {
   "cell_type": "markdown",
   "id": "8e626470",
   "metadata": {},
   "source": [
    "First, let's load the packages we need:"
   ]
  },
  {
   "cell_type": "code",
   "execution_count": 3,
   "id": "411ef1bd",
   "metadata": {},
   "outputs": [],
   "source": [
    "library(tidyverse)\n",
    "library(lubridate)\n",
    "library(palmerpenguins)"
   ]
  },
  {
   "cell_type": "markdown",
   "id": "f1e335a4",
   "metadata": {},
   "source": [
    "*Note: if you have to install an R package that exists on CRAN, the command is: `install.packages(\"PACKAGE_NAME\")`.*"
   ]
  },
  {
   "cell_type": "markdown",
   "id": "c109652a",
   "metadata": {},
   "source": [
    "And then let's limit the output of data frames in Jupyter to 6 lines:"
   ]
  },
  {
   "cell_type": "code",
   "execution_count": 4,
   "id": "d27fa5a8",
   "metadata": {},
   "outputs": [],
   "source": [
    "options(repr.matrix.max.rows = 6)"
   ]
  },
  {
   "cell_type": "markdown",
   "id": "46b92a37",
   "metadata": {},
   "source": [
    "## 1. Dates & times\n",
    "\n",
    "We learned about how to make date and time objects, but why are we doing this? What kinds of things can we do with these that are more difficult if we left these as characters or numeric vectors?\n",
    "\n",
    "- We can use date operations like `month`,`year` etc. \n",
    "- We can ask whether a date falls within a certain interval. Use the `interval` function to create an interval.\n",
    "- It impacts modeling and data visualization.(you will see in DSCI 531)\n",
    "\n",
    "Show them the datatypes image"
   ]
  },
  {
   "cell_type": "code",
   "execution_count": 5,
   "id": "975c51a8",
   "metadata": {},
   "outputs": [
    {
     "data": {
      "text/html": [
       "'character'"
      ],
      "text/latex": [
       "'character'"
      ],
      "text/markdown": [
       "'character'"
      ],
      "text/plain": [
       "[1] \"character\""
      ]
     },
     "metadata": {},
     "output_type": "display_data"
    },
    {
     "ename": "ERROR",
     "evalue": "Error in as.POSIXlt.character(x, tz = tz(x)): character string is not in a standard unambiguous format\n",
     "output_type": "error",
     "traceback": [
      "Error in as.POSIXlt.character(x, tz = tz(x)): character string is not in a standard unambiguous format\nTraceback:\n",
      "1. month(datev)",
      "2. month.default(datev)",
      "3. month(as.POSIXlt(x, tz = tz(x))$mon + 1, label, abbr, locale = locale)",
      "4. as.POSIXlt(x, tz = tz(x))",
      "5. as.POSIXlt.character(x, tz = tz(x))",
      "6. stop(\"character string is not in a standard unambiguous format\")"
     ]
    }
   ],
   "source": [
    "datev <- \"31-Jan-2011\"\n",
    "typeof(datev)\n",
    "# Won't run\n",
    "month(datev)"
   ]
  },
  {
   "cell_type": "code",
   "execution_count": 6,
   "id": "c7b061d7-f909-442b-bb5f-d72eb7f71f6a",
   "metadata": {},
   "outputs": [
    {
     "data": {
      "text/html": [
       "'Date'"
      ],
      "text/latex": [
       "'Date'"
      ],
      "text/markdown": [
       "'Date'"
      ],
      "text/plain": [
       "[1] \"Date\""
      ]
     },
     "metadata": {},
     "output_type": "display_data"
    },
    {
     "data": {
      "text/html": [
       "1"
      ],
      "text/latex": [
       "1"
      ],
      "text/markdown": [
       "1"
      ],
      "text/plain": [
       "[1] 1"
      ]
     },
     "metadata": {},
     "output_type": "display_data"
    }
   ],
   "source": [
    "datev <- dmy(\"31-Jan-2011\")\n",
    "datev <- mdy(\"Jan-31-2011\")\n",
    "class(datev)\n",
    "month(datev)"
   ]
  },
  {
   "cell_type": "code",
   "execution_count": 7,
   "id": "1c50a266",
   "metadata": {},
   "outputs": [],
   "source": [
    "# setting up an interval \n",
    "my_interval <- interval(start = dmy(\"1-1-2019\"),end = dmy(\"31-1-2019\"))"
   ]
  },
  {
   "cell_type": "markdown",
   "id": "697c46a0",
   "metadata": {},
   "source": [
    "- `%within%` is useful for pairing with `filter` to get rows in an interval"
   ]
  },
  {
   "cell_type": "code",
   "execution_count": 8,
   "id": "eccc550b",
   "metadata": {},
   "outputs": [
    {
     "data": {
      "text/html": [
       "TRUE"
      ],
      "text/latex": [
       "TRUE"
      ],
      "text/markdown": [
       "TRUE"
      ],
      "text/plain": [
       "[1] TRUE"
      ]
     },
     "metadata": {},
     "output_type": "display_data"
    }
   ],
   "source": [
    "## see if 15-1-2019 is in this interval\n",
    "dmy(\"15-1-2019\") %within% my_interval"
   ]
  },
  {
   "cell_type": "code",
   "execution_count": 9,
   "id": "24b1ec98",
   "metadata": {},
   "outputs": [
    {
     "data": {
      "text/html": [
       "<table class=\"dataframe\">\n",
       "<caption>A tibble: 4 × 2</caption>\n",
       "<thead>\n",
       "\t<tr><th scope=col>date_col</th><th scope=col>other_col</th></tr>\n",
       "\t<tr><th scope=col>&lt;chr&gt;</th><th scope=col>&lt;chr&gt;</th></tr>\n",
       "</thead>\n",
       "<tbody>\n",
       "\t<tr><td>15-1-2020</td><td>some details1</td></tr>\n",
       "\t<tr><td>15-1-2019</td><td>details2     </td></tr>\n",
       "\t<tr><td>20-1-2019</td><td>details3     </td></tr>\n",
       "\t<tr><td>30-1-2019</td><td>details4     </td></tr>\n",
       "</tbody>\n",
       "</table>\n"
      ],
      "text/latex": [
       "A tibble: 4 × 2\n",
       "\\begin{tabular}{ll}\n",
       " date\\_col & other\\_col\\\\\n",
       " <chr> & <chr>\\\\\n",
       "\\hline\n",
       "\t 15-1-2020 & some details1\\\\\n",
       "\t 15-1-2019 & details2     \\\\\n",
       "\t 20-1-2019 & details3     \\\\\n",
       "\t 30-1-2019 & details4     \\\\\n",
       "\\end{tabular}\n"
      ],
      "text/markdown": [
       "\n",
       "A tibble: 4 × 2\n",
       "\n",
       "| date_col &lt;chr&gt; | other_col &lt;chr&gt; |\n",
       "|---|---|\n",
       "| 15-1-2020 | some details1 |\n",
       "| 15-1-2019 | details2      |\n",
       "| 20-1-2019 | details3      |\n",
       "| 30-1-2019 | details4      |\n",
       "\n"
      ],
      "text/plain": [
       "  date_col  other_col    \n",
       "1 15-1-2020 some details1\n",
       "2 15-1-2019 details2     \n",
       "3 20-1-2019 details3     \n",
       "4 30-1-2019 details4     "
      ]
     },
     "metadata": {},
     "output_type": "display_data"
    },
    {
     "data": {
      "text/html": [
       "<table class=\"dataframe\">\n",
       "<caption>A tibble: 3 × 2</caption>\n",
       "<thead>\n",
       "\t<tr><th scope=col>date_col</th><th scope=col>other_col</th></tr>\n",
       "\t<tr><th scope=col>&lt;date&gt;</th><th scope=col>&lt;chr&gt;</th></tr>\n",
       "</thead>\n",
       "<tbody>\n",
       "\t<tr><td>2019-01-15</td><td>details2</td></tr>\n",
       "\t<tr><td>2019-01-20</td><td>details3</td></tr>\n",
       "\t<tr><td>2019-01-30</td><td>details4</td></tr>\n",
       "</tbody>\n",
       "</table>\n"
      ],
      "text/latex": [
       "A tibble: 3 × 2\n",
       "\\begin{tabular}{ll}\n",
       " date\\_col & other\\_col\\\\\n",
       " <date> & <chr>\\\\\n",
       "\\hline\n",
       "\t 2019-01-15 & details2\\\\\n",
       "\t 2019-01-20 & details3\\\\\n",
       "\t 2019-01-30 & details4\\\\\n",
       "\\end{tabular}\n"
      ],
      "text/markdown": [
       "\n",
       "A tibble: 3 × 2\n",
       "\n",
       "| date_col &lt;date&gt; | other_col &lt;chr&gt; |\n",
       "|---|---|\n",
       "| 2019-01-15 | details2 |\n",
       "| 2019-01-20 | details3 |\n",
       "| 2019-01-30 | details4 |\n",
       "\n"
      ],
      "text/plain": [
       "  date_col   other_col\n",
       "1 2019-01-15 details2 \n",
       "2 2019-01-20 details3 \n",
       "3 2019-01-30 details4 "
      ]
     },
     "metadata": {},
     "output_type": "display_data"
    }
   ],
   "source": [
    "## How you apply this to a data frame\n",
    "time_df <- tibble(date_col = c(\"15-1-2020\",\"15-1-2019\",\"20-1-2019\",\"30-1-2019\"),\n",
    "                 other_col = c(\"some details1\",\"details2\",\"details3\",\"details4\"))\n",
    "time_df\n",
    "time_df |> mutate(date_col = dmy(date_col)) |> filter(date_col %within% my_interval) "
   ]
  },
  {
   "cell_type": "markdown",
   "id": "57400ac8",
   "metadata": {},
   "source": [
    "You will do this in the worksheet using `lubridate`'s `interval` function to create the interval, and then `filter` + `%within%` to subset rows from that interval."
   ]
  },
  {
   "cell_type": "markdown",
   "id": "eeee07e2",
   "metadata": {},
   "source": [
    "### Clicker 1"
   ]
  },
  {
   "cell_type": "markdown",
   "id": "2c2b2f2f",
   "metadata": {},
   "source": [
    "Show them cheat sheet. https://www.rstudio.com/resources/cheatsheets/"
   ]
  },
  {
   "cell_type": "markdown",
   "id": "c9832705",
   "metadata": {},
   "source": [
    "## 2. Strings\n",
    "\n",
    "My most common use for strings manipulation in data wrangling is filtering for rows where I have partial matches, and then replacing strings. The former can be done by pairing `filter` with`stringr`'s `str_detect` function, while the latter can be done by pairing `mutate` with `stringr`'s `str_replace` function.\n",
    "\n",
    "Other functions that can be quite useful are if you want to split a column in a dataframe into 2 separate columns or vice versa. The former can be done using `separate`, while the latter can be done using `unite`.\n",
    "\n",
    "Below I will demonstrate both on the `lakers` data frame below (which is the Los Angeles Lakers 2008-2009 basketball data set from the `lubridate` package):"
   ]
  },
  {
   "cell_type": "code",
   "execution_count": 10,
   "id": "36c91ffb",
   "metadata": {},
   "outputs": [
    {
     "data": {
      "text/html": [
       "<table class=\"dataframe\">\n",
       "<caption>A data.frame: 34624 × 13</caption>\n",
       "<thead>\n",
       "\t<tr><th scope=col>date</th><th scope=col>opponent</th><th scope=col>game_type</th><th scope=col>time</th><th scope=col>period</th><th scope=col>etype</th><th scope=col>team</th><th scope=col>player</th><th scope=col>result</th><th scope=col>points</th><th scope=col>type</th><th scope=col>x</th><th scope=col>y</th></tr>\n",
       "\t<tr><th scope=col>&lt;int&gt;</th><th scope=col>&lt;chr&gt;</th><th scope=col>&lt;chr&gt;</th><th scope=col>&lt;chr&gt;</th><th scope=col>&lt;int&gt;</th><th scope=col>&lt;chr&gt;</th><th scope=col>&lt;chr&gt;</th><th scope=col>&lt;chr&gt;</th><th scope=col>&lt;chr&gt;</th><th scope=col>&lt;int&gt;</th><th scope=col>&lt;chr&gt;</th><th scope=col>&lt;int&gt;</th><th scope=col>&lt;int&gt;</th></tr>\n",
       "</thead>\n",
       "<tbody>\n",
       "\t<tr><td>20081028</td><td>POR</td><td>home</td><td>12:00</td><td>1</td><td>jump ball</td><td>OFF</td><td>                   </td><td>      </td><td>0</td><td>    </td><td>NA</td><td>NA</td></tr>\n",
       "\t<tr><td>20081028</td><td>POR</td><td>home</td><td>11:39</td><td>1</td><td>shot     </td><td>LAL</td><td>Pau Gasol          </td><td>missed</td><td>0</td><td>hook</td><td>23</td><td>13</td></tr>\n",
       "\t<tr><td>20081028</td><td>POR</td><td>home</td><td>11:37</td><td>1</td><td>rebound  </td><td>LAL</td><td>Vladimir Radmanovic</td><td>      </td><td>0</td><td>off </td><td>NA</td><td>NA</td></tr>\n",
       "\t<tr><td>⋮</td><td>⋮</td><td>⋮</td><td>⋮</td><td>⋮</td><td>⋮</td><td>⋮</td><td>⋮</td><td>⋮</td><td>⋮</td><td>⋮</td><td>⋮</td><td>⋮</td></tr>\n",
       "\t<tr><td>20090414</td><td>UTA</td><td>home</td><td>00:27</td><td>4</td><td>turnover</td><td>LAL</td><td>Andrew Bynum</td><td>      </td><td>0</td><td>   </td><td>NA</td><td>NA</td></tr>\n",
       "\t<tr><td>20090414</td><td>UTA</td><td>home</td><td>00:21</td><td>4</td><td>shot    </td><td>UTA</td><td>Kyle Korver </td><td>missed</td><td>0</td><td>3pt</td><td>41</td><td>25</td></tr>\n",
       "\t<tr><td>20090414</td><td>UTA</td><td>home</td><td>00:20</td><td>4</td><td>rebound </td><td>LAL</td><td>Luke Walton </td><td>      </td><td>0</td><td>def</td><td>NA</td><td>NA</td></tr>\n",
       "</tbody>\n",
       "</table>\n"
      ],
      "text/latex": [
       "A data.frame: 34624 × 13\n",
       "\\begin{tabular}{lllllllllllll}\n",
       " date & opponent & game\\_type & time & period & etype & team & player & result & points & type & x & y\\\\\n",
       " <int> & <chr> & <chr> & <chr> & <int> & <chr> & <chr> & <chr> & <chr> & <int> & <chr> & <int> & <int>\\\\\n",
       "\\hline\n",
       "\t 20081028 & POR & home & 12:00 & 1 & jump ball & OFF &                     &        & 0 &      & NA & NA\\\\\n",
       "\t 20081028 & POR & home & 11:39 & 1 & shot      & LAL & Pau Gasol           & missed & 0 & hook & 23 & 13\\\\\n",
       "\t 20081028 & POR & home & 11:37 & 1 & rebound   & LAL & Vladimir Radmanovic &        & 0 & off  & NA & NA\\\\\n",
       "\t ⋮ & ⋮ & ⋮ & ⋮ & ⋮ & ⋮ & ⋮ & ⋮ & ⋮ & ⋮ & ⋮ & ⋮ & ⋮\\\\\n",
       "\t 20090414 & UTA & home & 00:27 & 4 & turnover & LAL & Andrew Bynum &        & 0 &     & NA & NA\\\\\n",
       "\t 20090414 & UTA & home & 00:21 & 4 & shot     & UTA & Kyle Korver  & missed & 0 & 3pt & 41 & 25\\\\\n",
       "\t 20090414 & UTA & home & 00:20 & 4 & rebound  & LAL & Luke Walton  &        & 0 & def & NA & NA\\\\\n",
       "\\end{tabular}\n"
      ],
      "text/markdown": [
       "\n",
       "A data.frame: 34624 × 13\n",
       "\n",
       "| date &lt;int&gt; | opponent &lt;chr&gt; | game_type &lt;chr&gt; | time &lt;chr&gt; | period &lt;int&gt; | etype &lt;chr&gt; | team &lt;chr&gt; | player &lt;chr&gt; | result &lt;chr&gt; | points &lt;int&gt; | type &lt;chr&gt; | x &lt;int&gt; | y &lt;int&gt; |\n",
       "|---|---|---|---|---|---|---|---|---|---|---|---|---|\n",
       "| 20081028 | POR | home | 12:00 | 1 | jump ball | OFF | <!----> | <!----> | 0 | <!----> | NA | NA |\n",
       "| 20081028 | POR | home | 11:39 | 1 | shot      | LAL | Pau Gasol           | missed | 0 | hook | 23 | 13 |\n",
       "| 20081028 | POR | home | 11:37 | 1 | rebound   | LAL | Vladimir Radmanovic | <!----> | 0 | off  | NA | NA |\n",
       "| ⋮ | ⋮ | ⋮ | ⋮ | ⋮ | ⋮ | ⋮ | ⋮ | ⋮ | ⋮ | ⋮ | ⋮ | ⋮ |\n",
       "| 20090414 | UTA | home | 00:27 | 4 | turnover | LAL | Andrew Bynum | <!----> | 0 | <!----> | NA | NA |\n",
       "| 20090414 | UTA | home | 00:21 | 4 | shot     | UTA | Kyle Korver  | missed | 0 | 3pt | 41 | 25 |\n",
       "| 20090414 | UTA | home | 00:20 | 4 | rebound  | LAL | Luke Walton  | <!----> | 0 | def | NA | NA |\n",
       "\n"
      ],
      "text/plain": [
       "      date     opponent game_type time  period etype     team\n",
       "1     20081028 POR      home      12:00 1      jump ball OFF \n",
       "2     20081028 POR      home      11:39 1      shot      LAL \n",
       "3     20081028 POR      home      11:37 1      rebound   LAL \n",
       "⋮     ⋮        ⋮        ⋮         ⋮     ⋮      ⋮         ⋮   \n",
       "34622 20090414 UTA      home      00:27 4      turnover  LAL \n",
       "34623 20090414 UTA      home      00:21 4      shot      UTA \n",
       "34624 20090414 UTA      home      00:20 4      rebound   LAL \n",
       "      player              result points type x  y \n",
       "1                                0           NA NA\n",
       "2     Pau Gasol           missed 0      hook 23 13\n",
       "3     Vladimir Radmanovic        0      off  NA NA\n",
       "⋮     ⋮                   ⋮      ⋮      ⋮    ⋮  ⋮ \n",
       "34622 Andrew Bynum               0           NA NA\n",
       "34623 Kyle Korver         missed 0      3pt  41 25\n",
       "34624 Luke Walton                0      def  NA NA"
      ]
     },
     "metadata": {},
     "output_type": "display_data"
    }
   ],
   "source": [
    "lakers"
   ]
  },
  {
   "cell_type": "markdown",
   "id": "094712a1",
   "metadata": {},
   "source": [
    "Let's find all the rows where the player has the name Kyle:"
   ]
  },
  {
   "cell_type": "code",
   "execution_count": 11,
   "id": "002052e0",
   "metadata": {},
   "outputs": [
    {
     "data": {
      "text/html": [
       "<table class=\"dataframe\">\n",
       "<caption>A data.frame: 129 × 13</caption>\n",
       "<thead>\n",
       "\t<tr><th scope=col>date</th><th scope=col>opponent</th><th scope=col>game_type</th><th scope=col>time</th><th scope=col>period</th><th scope=col>etype</th><th scope=col>team</th><th scope=col>player</th><th scope=col>result</th><th scope=col>points</th><th scope=col>type</th><th scope=col>x</th><th scope=col>y</th></tr>\n",
       "\t<tr><th scope=col>&lt;int&gt;</th><th scope=col>&lt;chr&gt;</th><th scope=col>&lt;chr&gt;</th><th scope=col>&lt;chr&gt;</th><th scope=col>&lt;int&gt;</th><th scope=col>&lt;chr&gt;</th><th scope=col>&lt;chr&gt;</th><th scope=col>&lt;chr&gt;</th><th scope=col>&lt;chr&gt;</th><th scope=col>&lt;int&gt;</th><th scope=col>&lt;chr&gt;</th><th scope=col>&lt;int&gt;</th><th scope=col>&lt;int&gt;</th></tr>\n",
       "</thead>\n",
       "<tbody>\n",
       "\t<tr><td>20081222</td><td>MEM</td><td>away</td><td>09:33</td><td>1</td><td>shot   </td><td>MEM</td><td>Kyle Lowry</td><td>missed</td><td>0</td><td>3pt      </td><td>13</td><td>28</td></tr>\n",
       "\t<tr><td>20081222</td><td>MEM</td><td>away</td><td>04:59</td><td>1</td><td>rebound</td><td>MEM</td><td>Kyle Lowry</td><td>      </td><td>0</td><td>def      </td><td>NA</td><td>NA</td></tr>\n",
       "\t<tr><td>20081222</td><td>MEM</td><td>away</td><td>04:39</td><td>1</td><td>shot   </td><td>MEM</td><td>Kyle Lowry</td><td>missed</td><td>0</td><td>jump bank</td><td>30</td><td>12</td></tr>\n",
       "\t<tr><td>⋮</td><td>⋮</td><td>⋮</td><td>⋮</td><td>⋮</td><td>⋮</td><td>⋮</td><td>⋮</td><td>⋮</td><td>⋮</td><td>⋮</td><td>⋮</td><td>⋮</td></tr>\n",
       "\t<tr><td>20090414</td><td>UTA</td><td>home</td><td>00:42</td><td>4</td><td>free throw</td><td>UTA</td><td>Kyle Korver</td><td>made  </td><td>1</td><td>   </td><td>NA</td><td>NA</td></tr>\n",
       "\t<tr><td>20090414</td><td>UTA</td><td>home</td><td>00:42</td><td>4</td><td>free throw</td><td>UTA</td><td>Kyle Korver</td><td>made  </td><td>1</td><td>   </td><td>NA</td><td>NA</td></tr>\n",
       "\t<tr><td>20090414</td><td>UTA</td><td>home</td><td>00:21</td><td>4</td><td>shot      </td><td>UTA</td><td>Kyle Korver</td><td>missed</td><td>0</td><td>3pt</td><td>41</td><td>25</td></tr>\n",
       "</tbody>\n",
       "</table>\n"
      ],
      "text/latex": [
       "A data.frame: 129 × 13\n",
       "\\begin{tabular}{lllllllllllll}\n",
       " date & opponent & game\\_type & time & period & etype & team & player & result & points & type & x & y\\\\\n",
       " <int> & <chr> & <chr> & <chr> & <int> & <chr> & <chr> & <chr> & <chr> & <int> & <chr> & <int> & <int>\\\\\n",
       "\\hline\n",
       "\t 20081222 & MEM & away & 09:33 & 1 & shot    & MEM & Kyle Lowry & missed & 0 & 3pt       & 13 & 28\\\\\n",
       "\t 20081222 & MEM & away & 04:59 & 1 & rebound & MEM & Kyle Lowry &        & 0 & def       & NA & NA\\\\\n",
       "\t 20081222 & MEM & away & 04:39 & 1 & shot    & MEM & Kyle Lowry & missed & 0 & jump bank & 30 & 12\\\\\n",
       "\t ⋮ & ⋮ & ⋮ & ⋮ & ⋮ & ⋮ & ⋮ & ⋮ & ⋮ & ⋮ & ⋮ & ⋮ & ⋮\\\\\n",
       "\t 20090414 & UTA & home & 00:42 & 4 & free throw & UTA & Kyle Korver & made   & 1 &     & NA & NA\\\\\n",
       "\t 20090414 & UTA & home & 00:42 & 4 & free throw & UTA & Kyle Korver & made   & 1 &     & NA & NA\\\\\n",
       "\t 20090414 & UTA & home & 00:21 & 4 & shot       & UTA & Kyle Korver & missed & 0 & 3pt & 41 & 25\\\\\n",
       "\\end{tabular}\n"
      ],
      "text/markdown": [
       "\n",
       "A data.frame: 129 × 13\n",
       "\n",
       "| date &lt;int&gt; | opponent &lt;chr&gt; | game_type &lt;chr&gt; | time &lt;chr&gt; | period &lt;int&gt; | etype &lt;chr&gt; | team &lt;chr&gt; | player &lt;chr&gt; | result &lt;chr&gt; | points &lt;int&gt; | type &lt;chr&gt; | x &lt;int&gt; | y &lt;int&gt; |\n",
       "|---|---|---|---|---|---|---|---|---|---|---|---|---|\n",
       "| 20081222 | MEM | away | 09:33 | 1 | shot    | MEM | Kyle Lowry | missed | 0 | 3pt       | 13 | 28 |\n",
       "| 20081222 | MEM | away | 04:59 | 1 | rebound | MEM | Kyle Lowry | <!----> | 0 | def       | NA | NA |\n",
       "| 20081222 | MEM | away | 04:39 | 1 | shot    | MEM | Kyle Lowry | missed | 0 | jump bank | 30 | 12 |\n",
       "| ⋮ | ⋮ | ⋮ | ⋮ | ⋮ | ⋮ | ⋮ | ⋮ | ⋮ | ⋮ | ⋮ | ⋮ | ⋮ |\n",
       "| 20090414 | UTA | home | 00:42 | 4 | free throw | UTA | Kyle Korver | made   | 1 | <!----> | NA | NA |\n",
       "| 20090414 | UTA | home | 00:42 | 4 | free throw | UTA | Kyle Korver | made   | 1 | <!----> | NA | NA |\n",
       "| 20090414 | UTA | home | 00:21 | 4 | shot       | UTA | Kyle Korver | missed | 0 | 3pt | 41 | 25 |\n",
       "\n"
      ],
      "text/plain": [
       "    date     opponent game_type time  period etype      team player      result\n",
       "1   20081222 MEM      away      09:33 1      shot       MEM  Kyle Lowry  missed\n",
       "2   20081222 MEM      away      04:59 1      rebound    MEM  Kyle Lowry        \n",
       "3   20081222 MEM      away      04:39 1      shot       MEM  Kyle Lowry  missed\n",
       "⋮   ⋮        ⋮        ⋮         ⋮     ⋮      ⋮          ⋮    ⋮           ⋮     \n",
       "127 20090414 UTA      home      00:42 4      free throw UTA  Kyle Korver made  \n",
       "128 20090414 UTA      home      00:42 4      free throw UTA  Kyle Korver made  \n",
       "129 20090414 UTA      home      00:21 4      shot       UTA  Kyle Korver missed\n",
       "    points type      x  y \n",
       "1   0      3pt       13 28\n",
       "2   0      def       NA NA\n",
       "3   0      jump bank 30 12\n",
       "⋮   ⋮      ⋮         ⋮  ⋮ \n",
       "127 1                NA NA\n",
       "128 1                NA NA\n",
       "129 0      3pt       41 25"
      ]
     },
     "metadata": {},
     "output_type": "display_data"
    }
   ],
   "source": [
    "lakers |>\n",
    "  filter(str_detect(player, \"Kyle\"))"
   ]
  },
  {
   "cell_type": "markdown",
   "id": "3a61b533",
   "metadata": {},
   "source": [
    "Wait !!! I am interested in knowing about Trevor as well."
   ]
  },
  {
   "cell_type": "code",
   "execution_count": 12,
   "id": "e81a60b2",
   "metadata": {},
   "outputs": [
    {
     "data": {
      "text/html": [
       "<table class=\"dataframe\">\n",
       "<caption>A data.frame: 1450 × 13</caption>\n",
       "<thead>\n",
       "\t<tr><th scope=col>date</th><th scope=col>opponent</th><th scope=col>game_type</th><th scope=col>time</th><th scope=col>period</th><th scope=col>etype</th><th scope=col>team</th><th scope=col>player</th><th scope=col>result</th><th scope=col>points</th><th scope=col>type</th><th scope=col>x</th><th scope=col>y</th></tr>\n",
       "\t<tr><th scope=col>&lt;int&gt;</th><th scope=col>&lt;chr&gt;</th><th scope=col>&lt;chr&gt;</th><th scope=col>&lt;chr&gt;</th><th scope=col>&lt;int&gt;</th><th scope=col>&lt;chr&gt;</th><th scope=col>&lt;chr&gt;</th><th scope=col>&lt;chr&gt;</th><th scope=col>&lt;chr&gt;</th><th scope=col>&lt;int&gt;</th><th scope=col>&lt;chr&gt;</th><th scope=col>&lt;int&gt;</th><th scope=col>&lt;int&gt;</th></tr>\n",
       "</thead>\n",
       "<tbody>\n",
       "\t<tr><td>20081028</td><td>POR</td><td>home</td><td>02:31</td><td>1</td><td>rebound</td><td>LAL</td><td>Trevor Ariza</td><td>    </td><td>0</td><td>def </td><td>NA</td><td>NA</td></tr>\n",
       "\t<tr><td>20081028</td><td>POR</td><td>home</td><td>02:11</td><td>1</td><td>shot   </td><td>LAL</td><td>Trevor Ariza</td><td>made</td><td>2</td><td>dunk</td><td>25</td><td> 6</td></tr>\n",
       "\t<tr><td>20081028</td><td>POR</td><td>home</td><td>01:31</td><td>1</td><td>shot   </td><td>LAL</td><td>Trevor Ariza</td><td>made</td><td>3</td><td>3pt </td><td>46</td><td>17</td></tr>\n",
       "\t<tr><td>⋮</td><td>⋮</td><td>⋮</td><td>⋮</td><td>⋮</td><td>⋮</td><td>⋮</td><td>⋮</td><td>⋮</td><td>⋮</td><td>⋮</td><td>⋮</td><td>⋮</td></tr>\n",
       "\t<tr><td>20090414</td><td>UTA</td><td>home</td><td>00:42</td><td>4</td><td>free throw</td><td>UTA</td><td>Kyle Korver</td><td>made  </td><td>1</td><td>   </td><td>NA</td><td>NA</td></tr>\n",
       "\t<tr><td>20090414</td><td>UTA</td><td>home</td><td>00:42</td><td>4</td><td>free throw</td><td>UTA</td><td>Kyle Korver</td><td>made  </td><td>1</td><td>   </td><td>NA</td><td>NA</td></tr>\n",
       "\t<tr><td>20090414</td><td>UTA</td><td>home</td><td>00:21</td><td>4</td><td>shot      </td><td>UTA</td><td>Kyle Korver</td><td>missed</td><td>0</td><td>3pt</td><td>41</td><td>25</td></tr>\n",
       "</tbody>\n",
       "</table>\n"
      ],
      "text/latex": [
       "A data.frame: 1450 × 13\n",
       "\\begin{tabular}{lllllllllllll}\n",
       " date & opponent & game\\_type & time & period & etype & team & player & result & points & type & x & y\\\\\n",
       " <int> & <chr> & <chr> & <chr> & <int> & <chr> & <chr> & <chr> & <chr> & <int> & <chr> & <int> & <int>\\\\\n",
       "\\hline\n",
       "\t 20081028 & POR & home & 02:31 & 1 & rebound & LAL & Trevor Ariza &      & 0 & def  & NA & NA\\\\\n",
       "\t 20081028 & POR & home & 02:11 & 1 & shot    & LAL & Trevor Ariza & made & 2 & dunk & 25 &  6\\\\\n",
       "\t 20081028 & POR & home & 01:31 & 1 & shot    & LAL & Trevor Ariza & made & 3 & 3pt  & 46 & 17\\\\\n",
       "\t ⋮ & ⋮ & ⋮ & ⋮ & ⋮ & ⋮ & ⋮ & ⋮ & ⋮ & ⋮ & ⋮ & ⋮ & ⋮\\\\\n",
       "\t 20090414 & UTA & home & 00:42 & 4 & free throw & UTA & Kyle Korver & made   & 1 &     & NA & NA\\\\\n",
       "\t 20090414 & UTA & home & 00:42 & 4 & free throw & UTA & Kyle Korver & made   & 1 &     & NA & NA\\\\\n",
       "\t 20090414 & UTA & home & 00:21 & 4 & shot       & UTA & Kyle Korver & missed & 0 & 3pt & 41 & 25\\\\\n",
       "\\end{tabular}\n"
      ],
      "text/markdown": [
       "\n",
       "A data.frame: 1450 × 13\n",
       "\n",
       "| date &lt;int&gt; | opponent &lt;chr&gt; | game_type &lt;chr&gt; | time &lt;chr&gt; | period &lt;int&gt; | etype &lt;chr&gt; | team &lt;chr&gt; | player &lt;chr&gt; | result &lt;chr&gt; | points &lt;int&gt; | type &lt;chr&gt; | x &lt;int&gt; | y &lt;int&gt; |\n",
       "|---|---|---|---|---|---|---|---|---|---|---|---|---|\n",
       "| 20081028 | POR | home | 02:31 | 1 | rebound | LAL | Trevor Ariza | <!----> | 0 | def  | NA | NA |\n",
       "| 20081028 | POR | home | 02:11 | 1 | shot    | LAL | Trevor Ariza | made | 2 | dunk | 25 |  6 |\n",
       "| 20081028 | POR | home | 01:31 | 1 | shot    | LAL | Trevor Ariza | made | 3 | 3pt  | 46 | 17 |\n",
       "| ⋮ | ⋮ | ⋮ | ⋮ | ⋮ | ⋮ | ⋮ | ⋮ | ⋮ | ⋮ | ⋮ | ⋮ | ⋮ |\n",
       "| 20090414 | UTA | home | 00:42 | 4 | free throw | UTA | Kyle Korver | made   | 1 | <!----> | NA | NA |\n",
       "| 20090414 | UTA | home | 00:42 | 4 | free throw | UTA | Kyle Korver | made   | 1 | <!----> | NA | NA |\n",
       "| 20090414 | UTA | home | 00:21 | 4 | shot       | UTA | Kyle Korver | missed | 0 | 3pt | 41 | 25 |\n",
       "\n"
      ],
      "text/plain": [
       "     date     opponent game_type time  period etype      team player      \n",
       "1    20081028 POR      home      02:31 1      rebound    LAL  Trevor Ariza\n",
       "2    20081028 POR      home      02:11 1      shot       LAL  Trevor Ariza\n",
       "3    20081028 POR      home      01:31 1      shot       LAL  Trevor Ariza\n",
       "⋮    ⋮        ⋮        ⋮         ⋮     ⋮      ⋮          ⋮    ⋮           \n",
       "1448 20090414 UTA      home      00:42 4      free throw UTA  Kyle Korver \n",
       "1449 20090414 UTA      home      00:42 4      free throw UTA  Kyle Korver \n",
       "1450 20090414 UTA      home      00:21 4      shot       UTA  Kyle Korver \n",
       "     result points type x  y \n",
       "1           0      def  NA NA\n",
       "2    made   2      dunk 25  6\n",
       "3    made   3      3pt  46 17\n",
       "⋮    ⋮      ⋮      ⋮    ⋮  ⋮ \n",
       "1448 made   1           NA NA\n",
       "1449 made   1           NA NA\n",
       "1450 missed 0      3pt  41 25"
      ]
     },
     "metadata": {},
     "output_type": "display_data"
    }
   ],
   "source": [
    "# Filter that contain pattern \"Kyle\" or \"Trevor\" in column player. \n",
    "# We can do this by creating a pattern which would match them \"Kyle|Trevor\"\n",
    "lakers |> \n",
    "    filter(str_detect(player,\"Kyle|Trevor\"))"
   ]
  },
  {
   "cell_type": "markdown",
   "id": "5e29b001",
   "metadata": {},
   "source": [
    "What if I am interested in knowing all players that starts with Ky ?"
   ]
  },
  {
   "cell_type": "code",
   "execution_count": 13,
   "id": "aa547929",
   "metadata": {},
   "outputs": [
    {
     "data": {
      "text/html": [
       "<table class=\"dataframe\">\n",
       "<caption>A data.frame: 138 × 13</caption>\n",
       "<thead>\n",
       "\t<tr><th scope=col>date</th><th scope=col>opponent</th><th scope=col>game_type</th><th scope=col>time</th><th scope=col>period</th><th scope=col>etype</th><th scope=col>team</th><th scope=col>player</th><th scope=col>result</th><th scope=col>points</th><th scope=col>type</th><th scope=col>x</th><th scope=col>y</th></tr>\n",
       "\t<tr><th scope=col>&lt;int&gt;</th><th scope=col>&lt;chr&gt;</th><th scope=col>&lt;chr&gt;</th><th scope=col>&lt;chr&gt;</th><th scope=col>&lt;int&gt;</th><th scope=col>&lt;chr&gt;</th><th scope=col>&lt;chr&gt;</th><th scope=col>&lt;chr&gt;</th><th scope=col>&lt;chr&gt;</th><th scope=col>&lt;int&gt;</th><th scope=col>&lt;chr&gt;</th><th scope=col>&lt;int&gt;</th><th scope=col>&lt;int&gt;</th></tr>\n",
       "</thead>\n",
       "<tbody>\n",
       "\t<tr><td>20081222</td><td>MEM</td><td>away</td><td>09:33</td><td>1</td><td>shot   </td><td>MEM</td><td>Kyle Lowry</td><td>missed</td><td>0</td><td>3pt      </td><td>13</td><td>28</td></tr>\n",
       "\t<tr><td>20081222</td><td>MEM</td><td>away</td><td>04:59</td><td>1</td><td>rebound</td><td>MEM</td><td>Kyle Lowry</td><td>      </td><td>0</td><td>def      </td><td>NA</td><td>NA</td></tr>\n",
       "\t<tr><td>20081222</td><td>MEM</td><td>away</td><td>04:39</td><td>1</td><td>shot   </td><td>MEM</td><td>Kyle Lowry</td><td>missed</td><td>0</td><td>jump bank</td><td>30</td><td>12</td></tr>\n",
       "\t<tr><td>⋮</td><td>⋮</td><td>⋮</td><td>⋮</td><td>⋮</td><td>⋮</td><td>⋮</td><td>⋮</td><td>⋮</td><td>⋮</td><td>⋮</td><td>⋮</td><td>⋮</td></tr>\n",
       "\t<tr><td>20090414</td><td>UTA</td><td>home</td><td>00:42</td><td>4</td><td>free throw</td><td>UTA</td><td>Kyle Korver</td><td>made  </td><td>1</td><td>   </td><td>NA</td><td>NA</td></tr>\n",
       "\t<tr><td>20090414</td><td>UTA</td><td>home</td><td>00:42</td><td>4</td><td>free throw</td><td>UTA</td><td>Kyle Korver</td><td>made  </td><td>1</td><td>   </td><td>NA</td><td>NA</td></tr>\n",
       "\t<tr><td>20090414</td><td>UTA</td><td>home</td><td>00:21</td><td>4</td><td>shot      </td><td>UTA</td><td>Kyle Korver</td><td>missed</td><td>0</td><td>3pt</td><td>41</td><td>25</td></tr>\n",
       "</tbody>\n",
       "</table>\n"
      ],
      "text/latex": [
       "A data.frame: 138 × 13\n",
       "\\begin{tabular}{lllllllllllll}\n",
       " date & opponent & game\\_type & time & period & etype & team & player & result & points & type & x & y\\\\\n",
       " <int> & <chr> & <chr> & <chr> & <int> & <chr> & <chr> & <chr> & <chr> & <int> & <chr> & <int> & <int>\\\\\n",
       "\\hline\n",
       "\t 20081222 & MEM & away & 09:33 & 1 & shot    & MEM & Kyle Lowry & missed & 0 & 3pt       & 13 & 28\\\\\n",
       "\t 20081222 & MEM & away & 04:59 & 1 & rebound & MEM & Kyle Lowry &        & 0 & def       & NA & NA\\\\\n",
       "\t 20081222 & MEM & away & 04:39 & 1 & shot    & MEM & Kyle Lowry & missed & 0 & jump bank & 30 & 12\\\\\n",
       "\t ⋮ & ⋮ & ⋮ & ⋮ & ⋮ & ⋮ & ⋮ & ⋮ & ⋮ & ⋮ & ⋮ & ⋮ & ⋮\\\\\n",
       "\t 20090414 & UTA & home & 00:42 & 4 & free throw & UTA & Kyle Korver & made   & 1 &     & NA & NA\\\\\n",
       "\t 20090414 & UTA & home & 00:42 & 4 & free throw & UTA & Kyle Korver & made   & 1 &     & NA & NA\\\\\n",
       "\t 20090414 & UTA & home & 00:21 & 4 & shot       & UTA & Kyle Korver & missed & 0 & 3pt & 41 & 25\\\\\n",
       "\\end{tabular}\n"
      ],
      "text/markdown": [
       "\n",
       "A data.frame: 138 × 13\n",
       "\n",
       "| date &lt;int&gt; | opponent &lt;chr&gt; | game_type &lt;chr&gt; | time &lt;chr&gt; | period &lt;int&gt; | etype &lt;chr&gt; | team &lt;chr&gt; | player &lt;chr&gt; | result &lt;chr&gt; | points &lt;int&gt; | type &lt;chr&gt; | x &lt;int&gt; | y &lt;int&gt; |\n",
       "|---|---|---|---|---|---|---|---|---|---|---|---|---|\n",
       "| 20081222 | MEM | away | 09:33 | 1 | shot    | MEM | Kyle Lowry | missed | 0 | 3pt       | 13 | 28 |\n",
       "| 20081222 | MEM | away | 04:59 | 1 | rebound | MEM | Kyle Lowry | <!----> | 0 | def       | NA | NA |\n",
       "| 20081222 | MEM | away | 04:39 | 1 | shot    | MEM | Kyle Lowry | missed | 0 | jump bank | 30 | 12 |\n",
       "| ⋮ | ⋮ | ⋮ | ⋮ | ⋮ | ⋮ | ⋮ | ⋮ | ⋮ | ⋮ | ⋮ | ⋮ | ⋮ |\n",
       "| 20090414 | UTA | home | 00:42 | 4 | free throw | UTA | Kyle Korver | made   | 1 | <!----> | NA | NA |\n",
       "| 20090414 | UTA | home | 00:42 | 4 | free throw | UTA | Kyle Korver | made   | 1 | <!----> | NA | NA |\n",
       "| 20090414 | UTA | home | 00:21 | 4 | shot       | UTA | Kyle Korver | missed | 0 | 3pt | 41 | 25 |\n",
       "\n"
      ],
      "text/plain": [
       "    date     opponent game_type time  period etype      team player      result\n",
       "1   20081222 MEM      away      09:33 1      shot       MEM  Kyle Lowry  missed\n",
       "2   20081222 MEM      away      04:59 1      rebound    MEM  Kyle Lowry        \n",
       "3   20081222 MEM      away      04:39 1      shot       MEM  Kyle Lowry  missed\n",
       "⋮   ⋮        ⋮        ⋮         ⋮     ⋮      ⋮          ⋮    ⋮           ⋮     \n",
       "136 20090414 UTA      home      00:42 4      free throw UTA  Kyle Korver made  \n",
       "137 20090414 UTA      home      00:42 4      free throw UTA  Kyle Korver made  \n",
       "138 20090414 UTA      home      00:21 4      shot       UTA  Kyle Korver missed\n",
       "    points type      x  y \n",
       "1   0      3pt       13 28\n",
       "2   0      def       NA NA\n",
       "3   0      jump bank 30 12\n",
       "⋮   ⋮      ⋮         ⋮  ⋮ \n",
       "136 1                NA NA\n",
       "137 1                NA NA\n",
       "138 0      3pt       41 25"
      ]
     },
     "metadata": {},
     "output_type": "display_data"
    }
   ],
   "source": [
    "## That starts with \"Ky\".\n",
    "lakers |> \n",
    "    filter(str_detect(player,\"^Ky\"))"
   ]
  },
  {
   "cell_type": "markdown",
   "id": "9230fa26",
   "metadata": {},
   "source": [
    "Sorry, but now I am interested in knowing all the player that ends with wry"
   ]
  },
  {
   "cell_type": "code",
   "execution_count": 14,
   "id": "827a64a5",
   "metadata": {},
   "outputs": [
    {
     "data": {
      "text/html": [
       "<table class=\"dataframe\">\n",
       "<caption>A data.frame: 55 × 13</caption>\n",
       "<thead>\n",
       "\t<tr><th scope=col>date</th><th scope=col>opponent</th><th scope=col>game_type</th><th scope=col>time</th><th scope=col>period</th><th scope=col>etype</th><th scope=col>team</th><th scope=col>player</th><th scope=col>result</th><th scope=col>points</th><th scope=col>type</th><th scope=col>x</th><th scope=col>y</th></tr>\n",
       "\t<tr><th scope=col>&lt;int&gt;</th><th scope=col>&lt;chr&gt;</th><th scope=col>&lt;chr&gt;</th><th scope=col>&lt;chr&gt;</th><th scope=col>&lt;int&gt;</th><th scope=col>&lt;chr&gt;</th><th scope=col>&lt;chr&gt;</th><th scope=col>&lt;chr&gt;</th><th scope=col>&lt;chr&gt;</th><th scope=col>&lt;int&gt;</th><th scope=col>&lt;chr&gt;</th><th scope=col>&lt;int&gt;</th><th scope=col>&lt;int&gt;</th></tr>\n",
       "</thead>\n",
       "<tbody>\n",
       "\t<tr><td>20081222</td><td>MEM</td><td>away</td><td>09:33</td><td>1</td><td>shot   </td><td>MEM</td><td>Kyle Lowry</td><td>missed</td><td>0</td><td>3pt      </td><td>13</td><td>28</td></tr>\n",
       "\t<tr><td>20081222</td><td>MEM</td><td>away</td><td>04:59</td><td>1</td><td>rebound</td><td>MEM</td><td>Kyle Lowry</td><td>      </td><td>0</td><td>def      </td><td>NA</td><td>NA</td></tr>\n",
       "\t<tr><td>20081222</td><td>MEM</td><td>away</td><td>04:39</td><td>1</td><td>shot   </td><td>MEM</td><td>Kyle Lowry</td><td>missed</td><td>0</td><td>jump bank</td><td>30</td><td>12</td></tr>\n",
       "\t<tr><td>⋮</td><td>⋮</td><td>⋮</td><td>⋮</td><td>⋮</td><td>⋮</td><td>⋮</td><td>⋮</td><td>⋮</td><td>⋮</td><td>⋮</td><td>⋮</td><td>⋮</td></tr>\n",
       "\t<tr><td>20090403</td><td>HOU</td><td>home</td><td>11:38</td><td>4</td><td>foul   </td><td>HOU</td><td>Kyle Lowry</td><td>      </td><td>0</td><td>personal</td><td>NA</td><td>NA</td></tr>\n",
       "\t<tr><td>20090403</td><td>HOU</td><td>home</td><td>11:25</td><td>4</td><td>rebound</td><td>HOU</td><td>Kyle Lowry</td><td>      </td><td>0</td><td>def     </td><td>NA</td><td>NA</td></tr>\n",
       "\t<tr><td>20090403</td><td>HOU</td><td>home</td><td>10:45</td><td>4</td><td>shot   </td><td>HOU</td><td>Kyle Lowry</td><td>missed</td><td>0</td><td>layup   </td><td>25</td><td> 6</td></tr>\n",
       "</tbody>\n",
       "</table>\n"
      ],
      "text/latex": [
       "A data.frame: 55 × 13\n",
       "\\begin{tabular}{lllllllllllll}\n",
       " date & opponent & game\\_type & time & period & etype & team & player & result & points & type & x & y\\\\\n",
       " <int> & <chr> & <chr> & <chr> & <int> & <chr> & <chr> & <chr> & <chr> & <int> & <chr> & <int> & <int>\\\\\n",
       "\\hline\n",
       "\t 20081222 & MEM & away & 09:33 & 1 & shot    & MEM & Kyle Lowry & missed & 0 & 3pt       & 13 & 28\\\\\n",
       "\t 20081222 & MEM & away & 04:59 & 1 & rebound & MEM & Kyle Lowry &        & 0 & def       & NA & NA\\\\\n",
       "\t 20081222 & MEM & away & 04:39 & 1 & shot    & MEM & Kyle Lowry & missed & 0 & jump bank & 30 & 12\\\\\n",
       "\t ⋮ & ⋮ & ⋮ & ⋮ & ⋮ & ⋮ & ⋮ & ⋮ & ⋮ & ⋮ & ⋮ & ⋮ & ⋮\\\\\n",
       "\t 20090403 & HOU & home & 11:38 & 4 & foul    & HOU & Kyle Lowry &        & 0 & personal & NA & NA\\\\\n",
       "\t 20090403 & HOU & home & 11:25 & 4 & rebound & HOU & Kyle Lowry &        & 0 & def      & NA & NA\\\\\n",
       "\t 20090403 & HOU & home & 10:45 & 4 & shot    & HOU & Kyle Lowry & missed & 0 & layup    & 25 &  6\\\\\n",
       "\\end{tabular}\n"
      ],
      "text/markdown": [
       "\n",
       "A data.frame: 55 × 13\n",
       "\n",
       "| date &lt;int&gt; | opponent &lt;chr&gt; | game_type &lt;chr&gt; | time &lt;chr&gt; | period &lt;int&gt; | etype &lt;chr&gt; | team &lt;chr&gt; | player &lt;chr&gt; | result &lt;chr&gt; | points &lt;int&gt; | type &lt;chr&gt; | x &lt;int&gt; | y &lt;int&gt; |\n",
       "|---|---|---|---|---|---|---|---|---|---|---|---|---|\n",
       "| 20081222 | MEM | away | 09:33 | 1 | shot    | MEM | Kyle Lowry | missed | 0 | 3pt       | 13 | 28 |\n",
       "| 20081222 | MEM | away | 04:59 | 1 | rebound | MEM | Kyle Lowry | <!----> | 0 | def       | NA | NA |\n",
       "| 20081222 | MEM | away | 04:39 | 1 | shot    | MEM | Kyle Lowry | missed | 0 | jump bank | 30 | 12 |\n",
       "| ⋮ | ⋮ | ⋮ | ⋮ | ⋮ | ⋮ | ⋮ | ⋮ | ⋮ | ⋮ | ⋮ | ⋮ | ⋮ |\n",
       "| 20090403 | HOU | home | 11:38 | 4 | foul    | HOU | Kyle Lowry | <!----> | 0 | personal | NA | NA |\n",
       "| 20090403 | HOU | home | 11:25 | 4 | rebound | HOU | Kyle Lowry | <!----> | 0 | def      | NA | NA |\n",
       "| 20090403 | HOU | home | 10:45 | 4 | shot    | HOU | Kyle Lowry | missed | 0 | layup    | 25 |  6 |\n",
       "\n"
      ],
      "text/plain": [
       "   date     opponent game_type time  period etype   team player     result\n",
       "1  20081222 MEM      away      09:33 1      shot    MEM  Kyle Lowry missed\n",
       "2  20081222 MEM      away      04:59 1      rebound MEM  Kyle Lowry       \n",
       "3  20081222 MEM      away      04:39 1      shot    MEM  Kyle Lowry missed\n",
       "⋮  ⋮        ⋮        ⋮         ⋮     ⋮      ⋮       ⋮    ⋮          ⋮     \n",
       "53 20090403 HOU      home      11:38 4      foul    HOU  Kyle Lowry       \n",
       "54 20090403 HOU      home      11:25 4      rebound HOU  Kyle Lowry       \n",
       "55 20090403 HOU      home      10:45 4      shot    HOU  Kyle Lowry missed\n",
       "   points type      x  y \n",
       "1  0      3pt       13 28\n",
       "2  0      def       NA NA\n",
       "3  0      jump bank 30 12\n",
       "⋮  ⋮      ⋮         ⋮  ⋮ \n",
       "53 0      personal  NA NA\n",
       "54 0      def       NA NA\n",
       "55 0      layup     25  6"
      ]
     },
     "metadata": {},
     "output_type": "display_data"
    }
   ],
   "source": [
    "## That ends with \"wry\"\n",
    "lakers |> \n",
    "    filter(str_detect(player,\"wry$\"))"
   ]
  },
  {
   "cell_type": "markdown",
   "id": "0459b1dc",
   "metadata": {},
   "source": [
    "Do we have any rows with no player names ? Now, let's filter for all the rows that don't have a player name "
   ]
  },
  {
   "cell_type": "code",
   "execution_count": 15,
   "id": "00c4225d",
   "metadata": {},
   "outputs": [
    {
     "data": {
      "text/html": [
       "<table class=\"dataframe\">\n",
       "<caption>A data.frame: 5393 × 13</caption>\n",
       "<thead>\n",
       "\t<tr><th scope=col>date</th><th scope=col>opponent</th><th scope=col>game_type</th><th scope=col>time</th><th scope=col>period</th><th scope=col>etype</th><th scope=col>team</th><th scope=col>player</th><th scope=col>result</th><th scope=col>points</th><th scope=col>type</th><th scope=col>x</th><th scope=col>y</th></tr>\n",
       "\t<tr><th scope=col>&lt;int&gt;</th><th scope=col>&lt;chr&gt;</th><th scope=col>&lt;chr&gt;</th><th scope=col>&lt;chr&gt;</th><th scope=col>&lt;int&gt;</th><th scope=col>&lt;chr&gt;</th><th scope=col>&lt;chr&gt;</th><th scope=col>&lt;chr&gt;</th><th scope=col>&lt;chr&gt;</th><th scope=col>&lt;int&gt;</th><th scope=col>&lt;chr&gt;</th><th scope=col>&lt;int&gt;</th><th scope=col>&lt;int&gt;</th></tr>\n",
       "</thead>\n",
       "<tbody>\n",
       "\t<tr><td>20081028</td><td>POR</td><td>home</td><td>12:00</td><td>1</td><td>jump ball</td><td>OFF</td><td></td><td></td><td>0</td><td>       </td><td>NA</td><td>NA</td></tr>\n",
       "\t<tr><td>20081028</td><td>POR</td><td>home</td><td>07:49</td><td>1</td><td>timeout  </td><td>POR</td><td></td><td></td><td>0</td><td>regular</td><td>NA</td><td>NA</td></tr>\n",
       "\t<tr><td>20081028</td><td>POR</td><td>home</td><td>07:24</td><td>1</td><td>sub      </td><td>POR</td><td></td><td></td><td>0</td><td>       </td><td>NA</td><td>NA</td></tr>\n",
       "\t<tr><td>⋮</td><td>⋮</td><td>⋮</td><td>⋮</td><td>⋮</td><td>⋮</td><td>⋮</td><td>⋮</td><td>⋮</td><td>⋮</td><td>⋮</td><td>⋮</td><td>⋮</td></tr>\n",
       "\t<tr><td>20090414</td><td>UTA</td><td>home</td><td>02:46</td><td>4</td><td>sub    </td><td>UTA</td><td></td><td></td><td>0</td><td></td><td>NA</td><td>NA</td></tr>\n",
       "\t<tr><td>20090414</td><td>UTA</td><td>home</td><td>02:46</td><td>4</td><td>sub    </td><td>UTA</td><td></td><td></td><td>0</td><td></td><td>NA</td><td>NA</td></tr>\n",
       "\t<tr><td>20090414</td><td>UTA</td><td>home</td><td>02:06</td><td>4</td><td>rebound</td><td>UTA</td><td></td><td></td><td>0</td><td></td><td>NA</td><td>NA</td></tr>\n",
       "</tbody>\n",
       "</table>\n"
      ],
      "text/latex": [
       "A data.frame: 5393 × 13\n",
       "\\begin{tabular}{lllllllllllll}\n",
       " date & opponent & game\\_type & time & period & etype & team & player & result & points & type & x & y\\\\\n",
       " <int> & <chr> & <chr> & <chr> & <int> & <chr> & <chr> & <chr> & <chr> & <int> & <chr> & <int> & <int>\\\\\n",
       "\\hline\n",
       "\t 20081028 & POR & home & 12:00 & 1 & jump ball & OFF &  &  & 0 &         & NA & NA\\\\\n",
       "\t 20081028 & POR & home & 07:49 & 1 & timeout   & POR &  &  & 0 & regular & NA & NA\\\\\n",
       "\t 20081028 & POR & home & 07:24 & 1 & sub       & POR &  &  & 0 &         & NA & NA\\\\\n",
       "\t ⋮ & ⋮ & ⋮ & ⋮ & ⋮ & ⋮ & ⋮ & ⋮ & ⋮ & ⋮ & ⋮ & ⋮ & ⋮\\\\\n",
       "\t 20090414 & UTA & home & 02:46 & 4 & sub     & UTA &  &  & 0 &  & NA & NA\\\\\n",
       "\t 20090414 & UTA & home & 02:46 & 4 & sub     & UTA &  &  & 0 &  & NA & NA\\\\\n",
       "\t 20090414 & UTA & home & 02:06 & 4 & rebound & UTA &  &  & 0 &  & NA & NA\\\\\n",
       "\\end{tabular}\n"
      ],
      "text/markdown": [
       "\n",
       "A data.frame: 5393 × 13\n",
       "\n",
       "| date &lt;int&gt; | opponent &lt;chr&gt; | game_type &lt;chr&gt; | time &lt;chr&gt; | period &lt;int&gt; | etype &lt;chr&gt; | team &lt;chr&gt; | player &lt;chr&gt; | result &lt;chr&gt; | points &lt;int&gt; | type &lt;chr&gt; | x &lt;int&gt; | y &lt;int&gt; |\n",
       "|---|---|---|---|---|---|---|---|---|---|---|---|---|\n",
       "| 20081028 | POR | home | 12:00 | 1 | jump ball | OFF | <!----> | <!----> | 0 | <!----> | NA | NA |\n",
       "| 20081028 | POR | home | 07:49 | 1 | timeout   | POR | <!----> | <!----> | 0 | regular | NA | NA |\n",
       "| 20081028 | POR | home | 07:24 | 1 | sub       | POR | <!----> | <!----> | 0 | <!----> | NA | NA |\n",
       "| ⋮ | ⋮ | ⋮ | ⋮ | ⋮ | ⋮ | ⋮ | ⋮ | ⋮ | ⋮ | ⋮ | ⋮ | ⋮ |\n",
       "| 20090414 | UTA | home | 02:46 | 4 | sub     | UTA | <!----> | <!----> | 0 | <!----> | NA | NA |\n",
       "| 20090414 | UTA | home | 02:46 | 4 | sub     | UTA | <!----> | <!----> | 0 | <!----> | NA | NA |\n",
       "| 20090414 | UTA | home | 02:06 | 4 | rebound | UTA | <!----> | <!----> | 0 | <!----> | NA | NA |\n",
       "\n"
      ],
      "text/plain": [
       "     date     opponent game_type time  period etype     team player result\n",
       "1    20081028 POR      home      12:00 1      jump ball OFF               \n",
       "2    20081028 POR      home      07:49 1      timeout   POR               \n",
       "3    20081028 POR      home      07:24 1      sub       POR               \n",
       "⋮    ⋮        ⋮        ⋮         ⋮     ⋮      ⋮         ⋮    ⋮      ⋮     \n",
       "5391 20090414 UTA      home      02:46 4      sub       UTA               \n",
       "5392 20090414 UTA      home      02:46 4      sub       UTA               \n",
       "5393 20090414 UTA      home      02:06 4      rebound   UTA               \n",
       "     points type    x  y \n",
       "1    0              NA NA\n",
       "2    0      regular NA NA\n",
       "3    0              NA NA\n",
       "⋮    ⋮      ⋮       ⋮  ⋮ \n",
       "5391 0              NA NA\n",
       "5392 0              NA NA\n",
       "5393 0              NA NA"
      ]
     },
     "metadata": {},
     "output_type": "display_data"
    }
   ],
   "source": [
    "## That contain empty value in column player $^\n",
    "lakers |> \n",
    "    filter(str_detect(player,\"^$\"))"
   ]
  },
  {
   "cell_type": "markdown",
   "id": "1a79d838",
   "metadata": {},
   "source": [
    "Next, let's change some of the text so it is more readable - so \"3pt\" to \"3 point\":"
   ]
  },
  {
   "cell_type": "code",
   "execution_count": 16,
   "id": "1dab2490",
   "metadata": {},
   "outputs": [
    {
     "data": {
      "text/html": [
       "<table class=\"dataframe\">\n",
       "<caption>A data.frame: 34624 × 13</caption>\n",
       "<thead>\n",
       "\t<tr><th scope=col>date</th><th scope=col>opponent</th><th scope=col>game_type</th><th scope=col>time</th><th scope=col>period</th><th scope=col>etype</th><th scope=col>team</th><th scope=col>player</th><th scope=col>result</th><th scope=col>points</th><th scope=col>type</th><th scope=col>x</th><th scope=col>y</th></tr>\n",
       "\t<tr><th scope=col>&lt;int&gt;</th><th scope=col>&lt;chr&gt;</th><th scope=col>&lt;chr&gt;</th><th scope=col>&lt;chr&gt;</th><th scope=col>&lt;int&gt;</th><th scope=col>&lt;chr&gt;</th><th scope=col>&lt;chr&gt;</th><th scope=col>&lt;chr&gt;</th><th scope=col>&lt;chr&gt;</th><th scope=col>&lt;int&gt;</th><th scope=col>&lt;chr&gt;</th><th scope=col>&lt;int&gt;</th><th scope=col>&lt;int&gt;</th></tr>\n",
       "</thead>\n",
       "<tbody>\n",
       "\t<tr><td>20081028</td><td>POR</td><td>home</td><td>12:00</td><td>1</td><td>jump ball</td><td>OFF</td><td>                   </td><td>      </td><td>0</td><td>    </td><td>NA</td><td>NA</td></tr>\n",
       "\t<tr><td>20081028</td><td>POR</td><td>home</td><td>11:39</td><td>1</td><td>shot     </td><td>LAL</td><td>Pau Gasol          </td><td>missed</td><td>0</td><td>hook</td><td>23</td><td>13</td></tr>\n",
       "\t<tr><td>20081028</td><td>POR</td><td>home</td><td>11:37</td><td>1</td><td>rebound  </td><td>LAL</td><td>Vladimir Radmanovic</td><td>      </td><td>0</td><td>off </td><td>NA</td><td>NA</td></tr>\n",
       "\t<tr><td>⋮</td><td>⋮</td><td>⋮</td><td>⋮</td><td>⋮</td><td>⋮</td><td>⋮</td><td>⋮</td><td>⋮</td><td>⋮</td><td>⋮</td><td>⋮</td><td>⋮</td></tr>\n",
       "\t<tr><td>20090414</td><td>UTA</td><td>home</td><td>00:27</td><td>4</td><td>turnover</td><td>LAL</td><td>Andrew Bynum</td><td>      </td><td>0</td><td>       </td><td>NA</td><td>NA</td></tr>\n",
       "\t<tr><td>20090414</td><td>UTA</td><td>home</td><td>00:21</td><td>4</td><td>shot    </td><td>UTA</td><td>Kyle Korver </td><td>missed</td><td>0</td><td>3 point</td><td>41</td><td>25</td></tr>\n",
       "\t<tr><td>20090414</td><td>UTA</td><td>home</td><td>00:20</td><td>4</td><td>rebound </td><td>LAL</td><td>Luke Walton </td><td>      </td><td>0</td><td>def    </td><td>NA</td><td>NA</td></tr>\n",
       "</tbody>\n",
       "</table>\n"
      ],
      "text/latex": [
       "A data.frame: 34624 × 13\n",
       "\\begin{tabular}{lllllllllllll}\n",
       " date & opponent & game\\_type & time & period & etype & team & player & result & points & type & x & y\\\\\n",
       " <int> & <chr> & <chr> & <chr> & <int> & <chr> & <chr> & <chr> & <chr> & <int> & <chr> & <int> & <int>\\\\\n",
       "\\hline\n",
       "\t 20081028 & POR & home & 12:00 & 1 & jump ball & OFF &                     &        & 0 &      & NA & NA\\\\\n",
       "\t 20081028 & POR & home & 11:39 & 1 & shot      & LAL & Pau Gasol           & missed & 0 & hook & 23 & 13\\\\\n",
       "\t 20081028 & POR & home & 11:37 & 1 & rebound   & LAL & Vladimir Radmanovic &        & 0 & off  & NA & NA\\\\\n",
       "\t ⋮ & ⋮ & ⋮ & ⋮ & ⋮ & ⋮ & ⋮ & ⋮ & ⋮ & ⋮ & ⋮ & ⋮ & ⋮\\\\\n",
       "\t 20090414 & UTA & home & 00:27 & 4 & turnover & LAL & Andrew Bynum &        & 0 &         & NA & NA\\\\\n",
       "\t 20090414 & UTA & home & 00:21 & 4 & shot     & UTA & Kyle Korver  & missed & 0 & 3 point & 41 & 25\\\\\n",
       "\t 20090414 & UTA & home & 00:20 & 4 & rebound  & LAL & Luke Walton  &        & 0 & def     & NA & NA\\\\\n",
       "\\end{tabular}\n"
      ],
      "text/markdown": [
       "\n",
       "A data.frame: 34624 × 13\n",
       "\n",
       "| date &lt;int&gt; | opponent &lt;chr&gt; | game_type &lt;chr&gt; | time &lt;chr&gt; | period &lt;int&gt; | etype &lt;chr&gt; | team &lt;chr&gt; | player &lt;chr&gt; | result &lt;chr&gt; | points &lt;int&gt; | type &lt;chr&gt; | x &lt;int&gt; | y &lt;int&gt; |\n",
       "|---|---|---|---|---|---|---|---|---|---|---|---|---|\n",
       "| 20081028 | POR | home | 12:00 | 1 | jump ball | OFF | <!----> | <!----> | 0 | <!----> | NA | NA |\n",
       "| 20081028 | POR | home | 11:39 | 1 | shot      | LAL | Pau Gasol           | missed | 0 | hook | 23 | 13 |\n",
       "| 20081028 | POR | home | 11:37 | 1 | rebound   | LAL | Vladimir Radmanovic | <!----> | 0 | off  | NA | NA |\n",
       "| ⋮ | ⋮ | ⋮ | ⋮ | ⋮ | ⋮ | ⋮ | ⋮ | ⋮ | ⋮ | ⋮ | ⋮ | ⋮ |\n",
       "| 20090414 | UTA | home | 00:27 | 4 | turnover | LAL | Andrew Bynum | <!----> | 0 | <!----> | NA | NA |\n",
       "| 20090414 | UTA | home | 00:21 | 4 | shot     | UTA | Kyle Korver  | missed | 0 | 3 point | 41 | 25 |\n",
       "| 20090414 | UTA | home | 00:20 | 4 | rebound  | LAL | Luke Walton  | <!----> | 0 | def     | NA | NA |\n",
       "\n"
      ],
      "text/plain": [
       "      date     opponent game_type time  period etype     team\n",
       "1     20081028 POR      home      12:00 1      jump ball OFF \n",
       "2     20081028 POR      home      11:39 1      shot      LAL \n",
       "3     20081028 POR      home      11:37 1      rebound   LAL \n",
       "⋮     ⋮        ⋮        ⋮         ⋮     ⋮      ⋮         ⋮   \n",
       "34622 20090414 UTA      home      00:27 4      turnover  LAL \n",
       "34623 20090414 UTA      home      00:21 4      shot      UTA \n",
       "34624 20090414 UTA      home      00:20 4      rebound   LAL \n",
       "      player              result points type    x  y \n",
       "1                                0              NA NA\n",
       "2     Pau Gasol           missed 0      hook    23 13\n",
       "3     Vladimir Radmanovic        0      off     NA NA\n",
       "⋮     ⋮                   ⋮      ⋮      ⋮       ⋮  ⋮ \n",
       "34622 Andrew Bynum               0              NA NA\n",
       "34623 Kyle Korver         missed 0      3 point 41 25\n",
       "34624 Luke Walton                0      def     NA NA"
      ]
     },
     "metadata": {},
     "output_type": "display_data"
    }
   ],
   "source": [
    "lakers |>\n",
    "  mutate(type = str_replace(type, \"3pt\", \"3 point\"))"
   ]
  },
  {
   "cell_type": "markdown",
   "id": "bf2a6824",
   "metadata": {},
   "source": [
    "Ohhh.. What if I want to replace all the players with missing value having some other default value in there ?"
   ]
  },
  {
   "cell_type": "code",
   "execution_count": 17,
   "id": "4817812d",
   "metadata": {},
   "outputs": [
    {
     "data": {
      "text/html": [
       "<table class=\"dataframe\">\n",
       "<caption>A data.frame: 34624 × 13</caption>\n",
       "<thead>\n",
       "\t<tr><th scope=col>date</th><th scope=col>opponent</th><th scope=col>game_type</th><th scope=col>time</th><th scope=col>period</th><th scope=col>etype</th><th scope=col>team</th><th scope=col>player</th><th scope=col>result</th><th scope=col>points</th><th scope=col>type</th><th scope=col>x</th><th scope=col>y</th></tr>\n",
       "\t<tr><th scope=col>&lt;int&gt;</th><th scope=col>&lt;chr&gt;</th><th scope=col>&lt;chr&gt;</th><th scope=col>&lt;chr&gt;</th><th scope=col>&lt;int&gt;</th><th scope=col>&lt;chr&gt;</th><th scope=col>&lt;chr&gt;</th><th scope=col>&lt;chr&gt;</th><th scope=col>&lt;chr&gt;</th><th scope=col>&lt;int&gt;</th><th scope=col>&lt;chr&gt;</th><th scope=col>&lt;int&gt;</th><th scope=col>&lt;int&gt;</th></tr>\n",
       "</thead>\n",
       "<tbody>\n",
       "\t<tr><td>20081028</td><td>POR</td><td>home</td><td>12:00</td><td>1</td><td>jump ball</td><td>OFF</td><td>no name            </td><td>      </td><td>0</td><td>    </td><td>NA</td><td>NA</td></tr>\n",
       "\t<tr><td>20081028</td><td>POR</td><td>home</td><td>11:39</td><td>1</td><td>shot     </td><td>LAL</td><td>Pau Gasol          </td><td>missed</td><td>0</td><td>hook</td><td>23</td><td>13</td></tr>\n",
       "\t<tr><td>20081028</td><td>POR</td><td>home</td><td>11:37</td><td>1</td><td>rebound  </td><td>LAL</td><td>Vladimir Radmanovic</td><td>      </td><td>0</td><td>off </td><td>NA</td><td>NA</td></tr>\n",
       "\t<tr><td>⋮</td><td>⋮</td><td>⋮</td><td>⋮</td><td>⋮</td><td>⋮</td><td>⋮</td><td>⋮</td><td>⋮</td><td>⋮</td><td>⋮</td><td>⋮</td><td>⋮</td></tr>\n",
       "\t<tr><td>20090414</td><td>UTA</td><td>home</td><td>00:27</td><td>4</td><td>turnover</td><td>LAL</td><td>Andrew Bynum</td><td>      </td><td>0</td><td>   </td><td>NA</td><td>NA</td></tr>\n",
       "\t<tr><td>20090414</td><td>UTA</td><td>home</td><td>00:21</td><td>4</td><td>shot    </td><td>UTA</td><td>Kyle Korver </td><td>missed</td><td>0</td><td>3pt</td><td>41</td><td>25</td></tr>\n",
       "\t<tr><td>20090414</td><td>UTA</td><td>home</td><td>00:20</td><td>4</td><td>rebound </td><td>LAL</td><td>Luke Walton </td><td>      </td><td>0</td><td>def</td><td>NA</td><td>NA</td></tr>\n",
       "</tbody>\n",
       "</table>\n"
      ],
      "text/latex": [
       "A data.frame: 34624 × 13\n",
       "\\begin{tabular}{lllllllllllll}\n",
       " date & opponent & game\\_type & time & period & etype & team & player & result & points & type & x & y\\\\\n",
       " <int> & <chr> & <chr> & <chr> & <int> & <chr> & <chr> & <chr> & <chr> & <int> & <chr> & <int> & <int>\\\\\n",
       "\\hline\n",
       "\t 20081028 & POR & home & 12:00 & 1 & jump ball & OFF & no name             &        & 0 &      & NA & NA\\\\\n",
       "\t 20081028 & POR & home & 11:39 & 1 & shot      & LAL & Pau Gasol           & missed & 0 & hook & 23 & 13\\\\\n",
       "\t 20081028 & POR & home & 11:37 & 1 & rebound   & LAL & Vladimir Radmanovic &        & 0 & off  & NA & NA\\\\\n",
       "\t ⋮ & ⋮ & ⋮ & ⋮ & ⋮ & ⋮ & ⋮ & ⋮ & ⋮ & ⋮ & ⋮ & ⋮ & ⋮\\\\\n",
       "\t 20090414 & UTA & home & 00:27 & 4 & turnover & LAL & Andrew Bynum &        & 0 &     & NA & NA\\\\\n",
       "\t 20090414 & UTA & home & 00:21 & 4 & shot     & UTA & Kyle Korver  & missed & 0 & 3pt & 41 & 25\\\\\n",
       "\t 20090414 & UTA & home & 00:20 & 4 & rebound  & LAL & Luke Walton  &        & 0 & def & NA & NA\\\\\n",
       "\\end{tabular}\n"
      ],
      "text/markdown": [
       "\n",
       "A data.frame: 34624 × 13\n",
       "\n",
       "| date &lt;int&gt; | opponent &lt;chr&gt; | game_type &lt;chr&gt; | time &lt;chr&gt; | period &lt;int&gt; | etype &lt;chr&gt; | team &lt;chr&gt; | player &lt;chr&gt; | result &lt;chr&gt; | points &lt;int&gt; | type &lt;chr&gt; | x &lt;int&gt; | y &lt;int&gt; |\n",
       "|---|---|---|---|---|---|---|---|---|---|---|---|---|\n",
       "| 20081028 | POR | home | 12:00 | 1 | jump ball | OFF | no name             | <!----> | 0 | <!----> | NA | NA |\n",
       "| 20081028 | POR | home | 11:39 | 1 | shot      | LAL | Pau Gasol           | missed | 0 | hook | 23 | 13 |\n",
       "| 20081028 | POR | home | 11:37 | 1 | rebound   | LAL | Vladimir Radmanovic | <!----> | 0 | off  | NA | NA |\n",
       "| ⋮ | ⋮ | ⋮ | ⋮ | ⋮ | ⋮ | ⋮ | ⋮ | ⋮ | ⋮ | ⋮ | ⋮ | ⋮ |\n",
       "| 20090414 | UTA | home | 00:27 | 4 | turnover | LAL | Andrew Bynum | <!----> | 0 | <!----> | NA | NA |\n",
       "| 20090414 | UTA | home | 00:21 | 4 | shot     | UTA | Kyle Korver  | missed | 0 | 3pt | 41 | 25 |\n",
       "| 20090414 | UTA | home | 00:20 | 4 | rebound  | LAL | Luke Walton  | <!----> | 0 | def | NA | NA |\n",
       "\n"
      ],
      "text/plain": [
       "      date     opponent game_type time  period etype     team\n",
       "1     20081028 POR      home      12:00 1      jump ball OFF \n",
       "2     20081028 POR      home      11:39 1      shot      LAL \n",
       "3     20081028 POR      home      11:37 1      rebound   LAL \n",
       "⋮     ⋮        ⋮        ⋮         ⋮     ⋮      ⋮         ⋮   \n",
       "34622 20090414 UTA      home      00:27 4      turnover  LAL \n",
       "34623 20090414 UTA      home      00:21 4      shot      UTA \n",
       "34624 20090414 UTA      home      00:20 4      rebound   LAL \n",
       "      player              result points type x  y \n",
       "1     no name                    0           NA NA\n",
       "2     Pau Gasol           missed 0      hook 23 13\n",
       "3     Vladimir Radmanovic        0      off  NA NA\n",
       "⋮     ⋮                   ⋮      ⋮      ⋮    ⋮  ⋮ \n",
       "34622 Andrew Bynum               0           NA NA\n",
       "34623 Kyle Korver         missed 0      3pt  41 25\n",
       "34624 Luke Walton                0      def  NA NA"
      ]
     },
     "metadata": {},
     "output_type": "display_data"
    }
   ],
   "source": [
    "## That contain empty value in column player, replace it with a name\n",
    "lakers |> \n",
    "    mutate(player = str_replace(player,\"$^\",\"no name\"))"
   ]
  },
  {
   "cell_type": "markdown",
   "id": "eb9f7982",
   "metadata": {},
   "source": [
    "Now let's try to separate out column `player` into 2 columns `player_f_name` and `player_l_name`. "
   ]
  },
  {
   "cell_type": "code",
   "execution_count": 18,
   "id": "a4b771fc",
   "metadata": {},
   "outputs": [
    {
     "name": "stderr",
     "output_type": "stream",
     "text": [
      "Warning message:\n",
      "“Expected 2 pieces. Additional pieces discarded in 59 rows [2417, 2419, 5601, 5615, 5617, 5655, 5666, 5668, 5681, 5684, 5704, 5714, 5718, 5777, 5788, 7745, 7748, 7770, 7785, 7816, ...].”\n",
      "Warning message:\n",
      "“Expected 2 pieces. Missing pieces filled with `NA` in 5398 rows [1, 35, 40, 44, 50, 51, 52, 69, 70, 81, 82, 83, 84, 96, 97, 105, 110, 114, 123, 127, ...].”\n"
     ]
    },
    {
     "data": {
      "text/html": [
       "<table class=\"dataframe\">\n",
       "<caption>A data.frame: 6 × 14</caption>\n",
       "<thead>\n",
       "\t<tr><th></th><th scope=col>date</th><th scope=col>opponent</th><th scope=col>game_type</th><th scope=col>time</th><th scope=col>period</th><th scope=col>etype</th><th scope=col>team</th><th scope=col>player_f_name</th><th scope=col>player_l_name</th><th scope=col>result</th><th scope=col>points</th><th scope=col>type</th><th scope=col>x</th><th scope=col>y</th></tr>\n",
       "\t<tr><th></th><th scope=col>&lt;int&gt;</th><th scope=col>&lt;chr&gt;</th><th scope=col>&lt;chr&gt;</th><th scope=col>&lt;chr&gt;</th><th scope=col>&lt;int&gt;</th><th scope=col>&lt;chr&gt;</th><th scope=col>&lt;chr&gt;</th><th scope=col>&lt;chr&gt;</th><th scope=col>&lt;chr&gt;</th><th scope=col>&lt;chr&gt;</th><th scope=col>&lt;int&gt;</th><th scope=col>&lt;chr&gt;</th><th scope=col>&lt;int&gt;</th><th scope=col>&lt;int&gt;</th></tr>\n",
       "</thead>\n",
       "<tbody>\n",
       "\t<tr><th scope=row>1</th><td>20081028</td><td>POR</td><td>home</td><td>12:00</td><td>1</td><td>jump ball</td><td>OFF</td><td>        </td><td>NA        </td><td>      </td><td>0</td><td>     </td><td>NA</td><td>NA</td></tr>\n",
       "\t<tr><th scope=row>2</th><td>20081028</td><td>POR</td><td>home</td><td>11:39</td><td>1</td><td>shot     </td><td>LAL</td><td>Pau     </td><td>Gasol     </td><td>missed</td><td>0</td><td>hook </td><td>23</td><td>13</td></tr>\n",
       "\t<tr><th scope=row>3</th><td>20081028</td><td>POR</td><td>home</td><td>11:37</td><td>1</td><td>rebound  </td><td>LAL</td><td>Vladimir</td><td>Radmanovic</td><td>      </td><td>0</td><td>off  </td><td>NA</td><td>NA</td></tr>\n",
       "\t<tr><th scope=row>4</th><td>20081028</td><td>POR</td><td>home</td><td>11:25</td><td>1</td><td>shot     </td><td>LAL</td><td>Derek   </td><td>Fisher    </td><td>missed</td><td>0</td><td>layup</td><td>25</td><td> 6</td></tr>\n",
       "\t<tr><th scope=row>5</th><td>20081028</td><td>POR</td><td>home</td><td>11:23</td><td>1</td><td>rebound  </td><td>LAL</td><td>Pau     </td><td>Gasol     </td><td>      </td><td>0</td><td>off  </td><td>NA</td><td>NA</td></tr>\n",
       "\t<tr><th scope=row>6</th><td>20081028</td><td>POR</td><td>home</td><td>11:22</td><td>1</td><td>shot     </td><td>LAL</td><td>Pau     </td><td>Gasol     </td><td>made  </td><td>2</td><td>hook </td><td>25</td><td>10</td></tr>\n",
       "</tbody>\n",
       "</table>\n"
      ],
      "text/latex": [
       "A data.frame: 6 × 14\n",
       "\\begin{tabular}{r|llllllllllllll}\n",
       "  & date & opponent & game\\_type & time & period & etype & team & player\\_f\\_name & player\\_l\\_name & result & points & type & x & y\\\\\n",
       "  & <int> & <chr> & <chr> & <chr> & <int> & <chr> & <chr> & <chr> & <chr> & <chr> & <int> & <chr> & <int> & <int>\\\\\n",
       "\\hline\n",
       "\t1 & 20081028 & POR & home & 12:00 & 1 & jump ball & OFF &          & NA         &        & 0 &       & NA & NA\\\\\n",
       "\t2 & 20081028 & POR & home & 11:39 & 1 & shot      & LAL & Pau      & Gasol      & missed & 0 & hook  & 23 & 13\\\\\n",
       "\t3 & 20081028 & POR & home & 11:37 & 1 & rebound   & LAL & Vladimir & Radmanovic &        & 0 & off   & NA & NA\\\\\n",
       "\t4 & 20081028 & POR & home & 11:25 & 1 & shot      & LAL & Derek    & Fisher     & missed & 0 & layup & 25 &  6\\\\\n",
       "\t5 & 20081028 & POR & home & 11:23 & 1 & rebound   & LAL & Pau      & Gasol      &        & 0 & off   & NA & NA\\\\\n",
       "\t6 & 20081028 & POR & home & 11:22 & 1 & shot      & LAL & Pau      & Gasol      & made   & 2 & hook  & 25 & 10\\\\\n",
       "\\end{tabular}\n"
      ],
      "text/markdown": [
       "\n",
       "A data.frame: 6 × 14\n",
       "\n",
       "| <!--/--> | date &lt;int&gt; | opponent &lt;chr&gt; | game_type &lt;chr&gt; | time &lt;chr&gt; | period &lt;int&gt; | etype &lt;chr&gt; | team &lt;chr&gt; | player_f_name &lt;chr&gt; | player_l_name &lt;chr&gt; | result &lt;chr&gt; | points &lt;int&gt; | type &lt;chr&gt; | x &lt;int&gt; | y &lt;int&gt; |\n",
       "|---|---|---|---|---|---|---|---|---|---|---|---|---|---|---|\n",
       "| 1 | 20081028 | POR | home | 12:00 | 1 | jump ball | OFF | <!----> | NA         | <!----> | 0 | <!----> | NA | NA |\n",
       "| 2 | 20081028 | POR | home | 11:39 | 1 | shot      | LAL | Pau      | Gasol      | missed | 0 | hook  | 23 | 13 |\n",
       "| 3 | 20081028 | POR | home | 11:37 | 1 | rebound   | LAL | Vladimir | Radmanovic | <!----> | 0 | off   | NA | NA |\n",
       "| 4 | 20081028 | POR | home | 11:25 | 1 | shot      | LAL | Derek    | Fisher     | missed | 0 | layup | 25 |  6 |\n",
       "| 5 | 20081028 | POR | home | 11:23 | 1 | rebound   | LAL | Pau      | Gasol      | <!----> | 0 | off   | NA | NA |\n",
       "| 6 | 20081028 | POR | home | 11:22 | 1 | shot      | LAL | Pau      | Gasol      | made   | 2 | hook  | 25 | 10 |\n",
       "\n"
      ],
      "text/plain": [
       "  date     opponent game_type time  period etype     team player_f_name\n",
       "1 20081028 POR      home      12:00 1      jump ball OFF               \n",
       "2 20081028 POR      home      11:39 1      shot      LAL  Pau          \n",
       "3 20081028 POR      home      11:37 1      rebound   LAL  Vladimir     \n",
       "4 20081028 POR      home      11:25 1      shot      LAL  Derek        \n",
       "5 20081028 POR      home      11:23 1      rebound   LAL  Pau          \n",
       "6 20081028 POR      home      11:22 1      shot      LAL  Pau          \n",
       "  player_l_name result points type  x  y \n",
       "1 NA                   0            NA NA\n",
       "2 Gasol         missed 0      hook  23 13\n",
       "3 Radmanovic           0      off   NA NA\n",
       "4 Fisher        missed 0      layup 25  6\n",
       "5 Gasol                0      off   NA NA\n",
       "6 Gasol         made   2      hook  25 10"
      ]
     },
     "metadata": {},
     "output_type": "display_data"
    }
   ],
   "source": [
    "new_lakers <- lakers |> separate(player,into = c(\"player_f_name\",\"player_l_name\"),sep = \" \")\n",
    "head(new_lakers)"
   ]
  },
  {
   "cell_type": "markdown",
   "id": "7ce03943",
   "metadata": {},
   "source": [
    "Now let's those columns back to a single column `player`."
   ]
  },
  {
   "cell_type": "code",
   "execution_count": 19,
   "id": "bb2138cb",
   "metadata": {},
   "outputs": [
    {
     "data": {
      "text/html": [
       "<table class=\"dataframe\">\n",
       "<caption>A data.frame: 34624 × 13</caption>\n",
       "<thead>\n",
       "\t<tr><th scope=col>date</th><th scope=col>opponent</th><th scope=col>game_type</th><th scope=col>time</th><th scope=col>period</th><th scope=col>etype</th><th scope=col>team</th><th scope=col>player</th><th scope=col>result</th><th scope=col>points</th><th scope=col>type</th><th scope=col>x</th><th scope=col>y</th></tr>\n",
       "\t<tr><th scope=col>&lt;int&gt;</th><th scope=col>&lt;chr&gt;</th><th scope=col>&lt;chr&gt;</th><th scope=col>&lt;chr&gt;</th><th scope=col>&lt;int&gt;</th><th scope=col>&lt;chr&gt;</th><th scope=col>&lt;chr&gt;</th><th scope=col>&lt;chr&gt;</th><th scope=col>&lt;chr&gt;</th><th scope=col>&lt;int&gt;</th><th scope=col>&lt;chr&gt;</th><th scope=col>&lt;int&gt;</th><th scope=col>&lt;int&gt;</th></tr>\n",
       "</thead>\n",
       "<tbody>\n",
       "\t<tr><td>20081028</td><td>POR</td><td>home</td><td>12:00</td><td>1</td><td>jump ball</td><td>OFF</td><td> NA                </td><td>      </td><td>0</td><td>    </td><td>NA</td><td>NA</td></tr>\n",
       "\t<tr><td>20081028</td><td>POR</td><td>home</td><td>11:39</td><td>1</td><td>shot     </td><td>LAL</td><td>Pau Gasol          </td><td>missed</td><td>0</td><td>hook</td><td>23</td><td>13</td></tr>\n",
       "\t<tr><td>20081028</td><td>POR</td><td>home</td><td>11:37</td><td>1</td><td>rebound  </td><td>LAL</td><td>Vladimir Radmanovic</td><td>      </td><td>0</td><td>off </td><td>NA</td><td>NA</td></tr>\n",
       "\t<tr><td>⋮</td><td>⋮</td><td>⋮</td><td>⋮</td><td>⋮</td><td>⋮</td><td>⋮</td><td>⋮</td><td>⋮</td><td>⋮</td><td>⋮</td><td>⋮</td><td>⋮</td></tr>\n",
       "\t<tr><td>20090414</td><td>UTA</td><td>home</td><td>00:27</td><td>4</td><td>turnover</td><td>LAL</td><td>Andrew Bynum</td><td>      </td><td>0</td><td>   </td><td>NA</td><td>NA</td></tr>\n",
       "\t<tr><td>20090414</td><td>UTA</td><td>home</td><td>00:21</td><td>4</td><td>shot    </td><td>UTA</td><td>Kyle Korver </td><td>missed</td><td>0</td><td>3pt</td><td>41</td><td>25</td></tr>\n",
       "\t<tr><td>20090414</td><td>UTA</td><td>home</td><td>00:20</td><td>4</td><td>rebound </td><td>LAL</td><td>Luke Walton </td><td>      </td><td>0</td><td>def</td><td>NA</td><td>NA</td></tr>\n",
       "</tbody>\n",
       "</table>\n"
      ],
      "text/latex": [
       "A data.frame: 34624 × 13\n",
       "\\begin{tabular}{lllllllllllll}\n",
       " date & opponent & game\\_type & time & period & etype & team & player & result & points & type & x & y\\\\\n",
       " <int> & <chr> & <chr> & <chr> & <int> & <chr> & <chr> & <chr> & <chr> & <int> & <chr> & <int> & <int>\\\\\n",
       "\\hline\n",
       "\t 20081028 & POR & home & 12:00 & 1 & jump ball & OFF &  NA                 &        & 0 &      & NA & NA\\\\\n",
       "\t 20081028 & POR & home & 11:39 & 1 & shot      & LAL & Pau Gasol           & missed & 0 & hook & 23 & 13\\\\\n",
       "\t 20081028 & POR & home & 11:37 & 1 & rebound   & LAL & Vladimir Radmanovic &        & 0 & off  & NA & NA\\\\\n",
       "\t ⋮ & ⋮ & ⋮ & ⋮ & ⋮ & ⋮ & ⋮ & ⋮ & ⋮ & ⋮ & ⋮ & ⋮ & ⋮\\\\\n",
       "\t 20090414 & UTA & home & 00:27 & 4 & turnover & LAL & Andrew Bynum &        & 0 &     & NA & NA\\\\\n",
       "\t 20090414 & UTA & home & 00:21 & 4 & shot     & UTA & Kyle Korver  & missed & 0 & 3pt & 41 & 25\\\\\n",
       "\t 20090414 & UTA & home & 00:20 & 4 & rebound  & LAL & Luke Walton  &        & 0 & def & NA & NA\\\\\n",
       "\\end{tabular}\n"
      ],
      "text/markdown": [
       "\n",
       "A data.frame: 34624 × 13\n",
       "\n",
       "| date &lt;int&gt; | opponent &lt;chr&gt; | game_type &lt;chr&gt; | time &lt;chr&gt; | period &lt;int&gt; | etype &lt;chr&gt; | team &lt;chr&gt; | player &lt;chr&gt; | result &lt;chr&gt; | points &lt;int&gt; | type &lt;chr&gt; | x &lt;int&gt; | y &lt;int&gt; |\n",
       "|---|---|---|---|---|---|---|---|---|---|---|---|---|\n",
       "| 20081028 | POR | home | 12:00 | 1 | jump ball | OFF |  NA                 | <!----> | 0 | <!----> | NA | NA |\n",
       "| 20081028 | POR | home | 11:39 | 1 | shot      | LAL | Pau Gasol           | missed | 0 | hook | 23 | 13 |\n",
       "| 20081028 | POR | home | 11:37 | 1 | rebound   | LAL | Vladimir Radmanovic | <!----> | 0 | off  | NA | NA |\n",
       "| ⋮ | ⋮ | ⋮ | ⋮ | ⋮ | ⋮ | ⋮ | ⋮ | ⋮ | ⋮ | ⋮ | ⋮ | ⋮ |\n",
       "| 20090414 | UTA | home | 00:27 | 4 | turnover | LAL | Andrew Bynum | <!----> | 0 | <!----> | NA | NA |\n",
       "| 20090414 | UTA | home | 00:21 | 4 | shot     | UTA | Kyle Korver  | missed | 0 | 3pt | 41 | 25 |\n",
       "| 20090414 | UTA | home | 00:20 | 4 | rebound  | LAL | Luke Walton  | <!----> | 0 | def | NA | NA |\n",
       "\n"
      ],
      "text/plain": [
       "      date     opponent game_type time  period etype     team\n",
       "1     20081028 POR      home      12:00 1      jump ball OFF \n",
       "2     20081028 POR      home      11:39 1      shot      LAL \n",
       "3     20081028 POR      home      11:37 1      rebound   LAL \n",
       "⋮     ⋮        ⋮        ⋮         ⋮     ⋮      ⋮         ⋮   \n",
       "34622 20090414 UTA      home      00:27 4      turnover  LAL \n",
       "34623 20090414 UTA      home      00:21 4      shot      UTA \n",
       "34624 20090414 UTA      home      00:20 4      rebound   LAL \n",
       "      player              result points type x  y \n",
       "1      NA                        0           NA NA\n",
       "2     Pau Gasol           missed 0      hook 23 13\n",
       "3     Vladimir Radmanovic        0      off  NA NA\n",
       "⋮     ⋮                   ⋮      ⋮      ⋮    ⋮  ⋮ \n",
       "34622 Andrew Bynum               0           NA NA\n",
       "34623 Kyle Korver         missed 0      3pt  41 25\n",
       "34624 Luke Walton                0      def  NA NA"
      ]
     },
     "metadata": {},
     "output_type": "display_data"
    }
   ],
   "source": [
    "new_lakers |> unite(col = \"player\", c(player_f_name,player_l_name),sep= \" \")"
   ]
  },
  {
   "cell_type": "markdown",
   "id": "7e436f1e",
   "metadata": {},
   "source": [
    "### Clicker 2"
   ]
  },
  {
   "cell_type": "markdown",
   "id": "41d37520",
   "metadata": {},
   "source": [
    "## 3. Factors"
   ]
  },
  {
   "cell_type": "markdown",
   "id": "918788b5",
   "metadata": {},
   "source": [
    "Show them datatype image....\n",
    "\n",
    "Factors are a kind of vector in R. And remember - data frame columns are usually made up of vectors - so you most commonly encounter them as columns in a data frame.\n",
    "\n",
    "You can think factor == categoricals (Pandas in Python has this data type too and uses the name categorical). They are very useful for modeling and data visualization."
   ]
  },
  {
   "cell_type": "markdown",
   "id": "4c848ada",
   "metadata": {},
   "source": [
    "Let's see what happens when we convert the `etype` column in the `lakers` data frame to a factor, as well as how we can do that:"
   ]
  },
  {
   "cell_type": "markdown",
   "id": "4b529b77",
   "metadata": {},
   "source": [
    "First, let's look at what the column originally is:"
   ]
  },
  {
   "cell_type": "code",
   "execution_count": 20,
   "id": "5be5ad04",
   "metadata": {},
   "outputs": [
    {
     "data": {
      "text/html": [
       "'character'"
      ],
      "text/latex": [
       "'character'"
      ],
      "text/markdown": [
       "'character'"
      ],
      "text/plain": [
       "[1] \"character\""
      ]
     },
     "metadata": {},
     "output_type": "display_data"
    },
    {
     "name": "stdout",
     "output_type": "stream",
     "text": [
      " chr [1:34624] \"jump ball\" \"shot\" \"rebound\" \"shot\" \"rebound\" \"shot\" \"foul\" ...\n"
     ]
    }
   ],
   "source": [
    "class(lakers$etype)\n",
    "str(lakers$etype)\n",
    "# str(lakers)"
   ]
  },
  {
   "cell_type": "code",
   "execution_count": 21,
   "id": "a523dc18-5e37-4b49-8cbd-cb3254e5d760",
   "metadata": {},
   "outputs": [
    {
     "name": "stdout",
     "output_type": "stream",
     "text": [
      " chr \"tiff\"\n"
     ]
    }
   ],
   "source": [
    "myname <- \"tiff\"\n",
    "str(myname)"
   ]
  },
  {
   "cell_type": "markdown",
   "id": "62c8e624",
   "metadata": {},
   "source": [
    "Then we can use `as.factor` to convert it to a factor column:"
   ]
  },
  {
   "cell_type": "code",
   "execution_count": 22,
   "id": "9665f51c",
   "metadata": {},
   "outputs": [
    {
     "name": "stdout",
     "output_type": "stream",
     "text": [
      " Factor w/ 10 levels \"ejection\",\"foul\",..: 4 6 5 6 5 6 2 3 2 6 ...\n"
     ]
    },
    {
     "data": {
      "text/html": [
       "<style>\n",
       ".list-inline {list-style: none; margin:0; padding: 0}\n",
       ".list-inline>li {display: inline-block}\n",
       ".list-inline>li:not(:last-child)::after {content: \"\\00b7\"; padding: 0 .5ex}\n",
       "</style>\n",
       "<ol class=list-inline><li>'ejection'</li><li>'foul'</li><li>'free throw'</li><li>'jump ball'</li><li>'rebound'</li><li>'shot'</li><li>'sub'</li><li>'timeout'</li><li>'turnover'</li><li>'violation'</li></ol>\n"
      ],
      "text/latex": [
       "\\begin{enumerate*}\n",
       "\\item 'ejection'\n",
       "\\item 'foul'\n",
       "\\item 'free throw'\n",
       "\\item 'jump ball'\n",
       "\\item 'rebound'\n",
       "\\item 'shot'\n",
       "\\item 'sub'\n",
       "\\item 'timeout'\n",
       "\\item 'turnover'\n",
       "\\item 'violation'\n",
       "\\end{enumerate*}\n"
      ],
      "text/markdown": [
       "1. 'ejection'\n",
       "2. 'foul'\n",
       "3. 'free throw'\n",
       "4. 'jump ball'\n",
       "5. 'rebound'\n",
       "6. 'shot'\n",
       "7. 'sub'\n",
       "8. 'timeout'\n",
       "9. 'turnover'\n",
       "10. 'violation'\n",
       "\n",
       "\n"
      ],
      "text/plain": [
       " [1] \"ejection\"   \"foul\"       \"free throw\" \"jump ball\"  \"rebound\"   \n",
       " [6] \"shot\"       \"sub\"        \"timeout\"    \"turnover\"   \"violation\" "
      ]
     },
     "metadata": {},
     "output_type": "display_data"
    }
   ],
   "source": [
    "lakers_factor <- lakers |>\n",
    "  mutate(etype = as.factor(etype))\n",
    "\n",
    "str(lakers_factor$etype)\n",
    "levels(lakers_factor$etype)"
   ]
  },
  {
   "cell_type": "markdown",
   "id": "ca454404-f5cd-4bad-b9c0-b78e8b49e9b1",
   "metadata": {},
   "source": [
    "You can use `fct_reorder` to order one variable by another. The factor is the grouping variable and the default summarizing function is median but you can specify something else."
   ]
  },
  {
   "cell_type": "code",
   "execution_count": 23,
   "id": "50484774",
   "metadata": {},
   "outputs": [],
   "source": [
    "lakers_factor <- lakers_factor |> mutate(etype = fct_reorder(etype,period,min))"
   ]
  },
  {
   "cell_type": "code",
   "execution_count": 24,
   "id": "acdb0656",
   "metadata": {},
   "outputs": [
    {
     "data": {
      "text/html": [
       "<style>\n",
       ".list-inline {list-style: none; margin:0; padding: 0}\n",
       ".list-inline>li {display: inline-block}\n",
       ".list-inline>li:not(:last-child)::after {content: \"\\00b7\"; padding: 0 .5ex}\n",
       "</style>\n",
       "<ol class=list-inline><li>'foul'</li><li>'free throw'</li><li>'jump ball'</li><li>'rebound'</li><li>'shot'</li><li>'sub'</li><li>'timeout'</li><li>'turnover'</li><li>'violation'</li><li>'ejection'</li></ol>\n"
      ],
      "text/latex": [
       "\\begin{enumerate*}\n",
       "\\item 'foul'\n",
       "\\item 'free throw'\n",
       "\\item 'jump ball'\n",
       "\\item 'rebound'\n",
       "\\item 'shot'\n",
       "\\item 'sub'\n",
       "\\item 'timeout'\n",
       "\\item 'turnover'\n",
       "\\item 'violation'\n",
       "\\item 'ejection'\n",
       "\\end{enumerate*}\n"
      ],
      "text/markdown": [
       "1. 'foul'\n",
       "2. 'free throw'\n",
       "3. 'jump ball'\n",
       "4. 'rebound'\n",
       "5. 'shot'\n",
       "6. 'sub'\n",
       "7. 'timeout'\n",
       "8. 'turnover'\n",
       "9. 'violation'\n",
       "10. 'ejection'\n",
       "\n",
       "\n"
      ],
      "text/plain": [
       " [1] \"foul\"       \"free throw\" \"jump ball\"  \"rebound\"    \"shot\"      \n",
       " [6] \"sub\"        \"timeout\"    \"turnover\"   \"violation\"  \"ejection\"  "
      ]
     },
     "metadata": {},
     "output_type": "display_data"
    }
   ],
   "source": [
    "lakers_factor$etype |> levels()"
   ]
  },
  {
   "cell_type": "code",
   "execution_count": 25,
   "id": "defc6b88",
   "metadata": {},
   "outputs": [
    {
     "data": {
      "text/html": [
       "<table class=\"dataframe\">\n",
       "<caption>A data.frame: 34624 × 13</caption>\n",
       "<thead>\n",
       "\t<tr><th scope=col>date</th><th scope=col>opponent</th><th scope=col>game_type</th><th scope=col>time</th><th scope=col>period</th><th scope=col>etype</th><th scope=col>team</th><th scope=col>player</th><th scope=col>result</th><th scope=col>points</th><th scope=col>type</th><th scope=col>x</th><th scope=col>y</th></tr>\n",
       "\t<tr><th scope=col>&lt;int&gt;</th><th scope=col>&lt;chr&gt;</th><th scope=col>&lt;chr&gt;</th><th scope=col>&lt;chr&gt;</th><th scope=col>&lt;int&gt;</th><th scope=col>&lt;fct&gt;</th><th scope=col>&lt;chr&gt;</th><th scope=col>&lt;chr&gt;</th><th scope=col>&lt;chr&gt;</th><th scope=col>&lt;int&gt;</th><th scope=col>&lt;chr&gt;</th><th scope=col>&lt;int&gt;</th><th scope=col>&lt;int&gt;</th></tr>\n",
       "</thead>\n",
       "<tbody>\n",
       "\t<tr><td>20081028</td><td>POR</td><td>home</td><td>12:00</td><td>1</td><td>jump ball</td><td>OFF</td><td>                   </td><td>      </td><td>0</td><td>    </td><td>NA</td><td>NA</td></tr>\n",
       "\t<tr><td>20081028</td><td>POR</td><td>home</td><td>11:39</td><td>1</td><td>shot     </td><td>LAL</td><td>Pau Gasol          </td><td>missed</td><td>0</td><td>hook</td><td>23</td><td>13</td></tr>\n",
       "\t<tr><td>20081028</td><td>POR</td><td>home</td><td>11:37</td><td>1</td><td>rebound  </td><td>LAL</td><td>Vladimir Radmanovic</td><td>      </td><td>0</td><td>off </td><td>NA</td><td>NA</td></tr>\n",
       "\t<tr><td>⋮</td><td>⋮</td><td>⋮</td><td>⋮</td><td>⋮</td><td>⋮</td><td>⋮</td><td>⋮</td><td>⋮</td><td>⋮</td><td>⋮</td><td>⋮</td><td>⋮</td></tr>\n",
       "\t<tr><td>20090414</td><td>UTA</td><td>home</td><td>00:27</td><td>4</td><td>turnover</td><td>LAL</td><td>Andrew Bynum</td><td>      </td><td>0</td><td>   </td><td>NA</td><td>NA</td></tr>\n",
       "\t<tr><td>20090414</td><td>UTA</td><td>home</td><td>00:21</td><td>4</td><td>shot    </td><td>UTA</td><td>Kyle Korver </td><td>missed</td><td>0</td><td>3pt</td><td>41</td><td>25</td></tr>\n",
       "\t<tr><td>20090414</td><td>UTA</td><td>home</td><td>00:20</td><td>4</td><td>rebound </td><td>LAL</td><td>Luke Walton </td><td>      </td><td>0</td><td>def</td><td>NA</td><td>NA</td></tr>\n",
       "</tbody>\n",
       "</table>\n"
      ],
      "text/latex": [
       "A data.frame: 34624 × 13\n",
       "\\begin{tabular}{lllllllllllll}\n",
       " date & opponent & game\\_type & time & period & etype & team & player & result & points & type & x & y\\\\\n",
       " <int> & <chr> & <chr> & <chr> & <int> & <fct> & <chr> & <chr> & <chr> & <int> & <chr> & <int> & <int>\\\\\n",
       "\\hline\n",
       "\t 20081028 & POR & home & 12:00 & 1 & jump ball & OFF &                     &        & 0 &      & NA & NA\\\\\n",
       "\t 20081028 & POR & home & 11:39 & 1 & shot      & LAL & Pau Gasol           & missed & 0 & hook & 23 & 13\\\\\n",
       "\t 20081028 & POR & home & 11:37 & 1 & rebound   & LAL & Vladimir Radmanovic &        & 0 & off  & NA & NA\\\\\n",
       "\t ⋮ & ⋮ & ⋮ & ⋮ & ⋮ & ⋮ & ⋮ & ⋮ & ⋮ & ⋮ & ⋮ & ⋮ & ⋮\\\\\n",
       "\t 20090414 & UTA & home & 00:27 & 4 & turnover & LAL & Andrew Bynum &        & 0 &     & NA & NA\\\\\n",
       "\t 20090414 & UTA & home & 00:21 & 4 & shot     & UTA & Kyle Korver  & missed & 0 & 3pt & 41 & 25\\\\\n",
       "\t 20090414 & UTA & home & 00:20 & 4 & rebound  & LAL & Luke Walton  &        & 0 & def & NA & NA\\\\\n",
       "\\end{tabular}\n"
      ],
      "text/markdown": [
       "\n",
       "A data.frame: 34624 × 13\n",
       "\n",
       "| date &lt;int&gt; | opponent &lt;chr&gt; | game_type &lt;chr&gt; | time &lt;chr&gt; | period &lt;int&gt; | etype &lt;fct&gt; | team &lt;chr&gt; | player &lt;chr&gt; | result &lt;chr&gt; | points &lt;int&gt; | type &lt;chr&gt; | x &lt;int&gt; | y &lt;int&gt; |\n",
       "|---|---|---|---|---|---|---|---|---|---|---|---|---|\n",
       "| 20081028 | POR | home | 12:00 | 1 | jump ball | OFF | <!----> | <!----> | 0 | <!----> | NA | NA |\n",
       "| 20081028 | POR | home | 11:39 | 1 | shot      | LAL | Pau Gasol           | missed | 0 | hook | 23 | 13 |\n",
       "| 20081028 | POR | home | 11:37 | 1 | rebound   | LAL | Vladimir Radmanovic | <!----> | 0 | off  | NA | NA |\n",
       "| ⋮ | ⋮ | ⋮ | ⋮ | ⋮ | ⋮ | ⋮ | ⋮ | ⋮ | ⋮ | ⋮ | ⋮ | ⋮ |\n",
       "| 20090414 | UTA | home | 00:27 | 4 | turnover | LAL | Andrew Bynum | <!----> | 0 | <!----> | NA | NA |\n",
       "| 20090414 | UTA | home | 00:21 | 4 | shot     | UTA | Kyle Korver  | missed | 0 | 3pt | 41 | 25 |\n",
       "| 20090414 | UTA | home | 00:20 | 4 | rebound  | LAL | Luke Walton  | <!----> | 0 | def | NA | NA |\n",
       "\n"
      ],
      "text/plain": [
       "      date     opponent game_type time  period etype     team\n",
       "1     20081028 POR      home      12:00 1      jump ball OFF \n",
       "2     20081028 POR      home      11:39 1      shot      LAL \n",
       "3     20081028 POR      home      11:37 1      rebound   LAL \n",
       "⋮     ⋮        ⋮        ⋮         ⋮     ⋮      ⋮         ⋮   \n",
       "34622 20090414 UTA      home      00:27 4      turnover  LAL \n",
       "34623 20090414 UTA      home      00:21 4      shot      UTA \n",
       "34624 20090414 UTA      home      00:20 4      rebound   LAL \n",
       "      player              result points type x  y \n",
       "1                                0           NA NA\n",
       "2     Pau Gasol           missed 0      hook 23 13\n",
       "3     Vladimir Radmanovic        0      off  NA NA\n",
       "⋮     ⋮                   ⋮      ⋮      ⋮    ⋮  ⋮ \n",
       "34622 Andrew Bynum               0           NA NA\n",
       "34623 Kyle Korver         missed 0      3pt  41 25\n",
       "34624 Luke Walton                0      def  NA NA"
      ]
     },
     "metadata": {},
     "output_type": "display_data"
    }
   ],
   "source": [
    "lakers_factor"
   ]
  },
  {
   "cell_type": "markdown",
   "id": "547962ee",
   "metadata": {},
   "source": [
    "In the lab, you will explore how factor levels impact data visualization. And next block, in DSCI 552 you will start to use them for statistical analysis."
   ]
  },
  {
   "cell_type": "code",
   "execution_count": 26,
   "id": "ab154f2c-6410-4864-8853-7c845fccb7bb",
   "metadata": {},
   "outputs": [
    {
     "data": {
      "text/html": [
       "<style>\n",
       ".list-inline {list-style: none; margin:0; padding: 0}\n",
       ".list-inline>li {display: inline-block}\n",
       ".list-inline>li:not(:last-child)::after {content: \"\\00b7\"; padding: 0 .5ex}\n",
       "</style>\n",
       "<ol class=list-inline><li>'1'</li><li>'hello'</li><li>'yue'</li></ol>\n"
      ],
      "text/latex": [
       "\\begin{enumerate*}\n",
       "\\item '1'\n",
       "\\item 'hello'\n",
       "\\item 'yue'\n",
       "\\end{enumerate*}\n"
      ],
      "text/markdown": [
       "1. '1'\n",
       "2. 'hello'\n",
       "3. 'yue'\n",
       "\n",
       "\n"
      ],
      "text/plain": [
       "[1] \"1\"     \"hello\" \"yue\"  "
      ]
     },
     "metadata": {},
     "output_type": "display_data"
    }
   ],
   "source": [
    "c(1,\"hello\",\"yue\")"
   ]
  },
  {
   "cell_type": "code",
   "execution_count": 27,
   "id": "01b2def4-ff5b-47fb-b1d6-90baae897b90",
   "metadata": {},
   "outputs": [
    {
     "data": {
      "text/html": [
       "<ol>\n",
       "\t<li>1</li>\n",
       "\t<li>'hello'</li>\n",
       "\t<li>'yue'</li>\n",
       "</ol>\n"
      ],
      "text/latex": [
       "\\begin{enumerate}\n",
       "\\item 1\n",
       "\\item 'hello'\n",
       "\\item 'yue'\n",
       "\\end{enumerate}\n"
      ],
      "text/markdown": [
       "1. 1\n",
       "2. 'hello'\n",
       "3. 'yue'\n",
       "\n",
       "\n"
      ],
      "text/plain": [
       "[[1]]\n",
       "[1] 1\n",
       "\n",
       "[[2]]\n",
       "[1] \"hello\"\n",
       "\n",
       "[[3]]\n",
       "[1] \"yue\"\n"
      ]
     },
     "metadata": {},
     "output_type": "display_data"
    }
   ],
   "source": [
    "list(1,\"hello\",\"yue\")"
   ]
  }
 ],
 "metadata": {
  "kernelspec": {
   "display_name": "R",
   "language": "R",
   "name": "ir"
  },
  "language_info": {
   "codemirror_mode": "r",
   "file_extension": ".r",
   "mimetype": "text/x-r-source",
   "name": "R",
   "pygments_lexer": "r",
   "version": "4.2.1"
  }
 },
 "nbformat": 4,
 "nbformat_minor": 5
}
