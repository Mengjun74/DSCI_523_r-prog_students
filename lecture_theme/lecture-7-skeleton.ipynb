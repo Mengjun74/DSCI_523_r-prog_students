{
 "cells": [
  {
   "cell_type": "markdown",
   "metadata": {},
   "source": [
    "## Lecture 7 theme\n",
    "\n",
    "## Announcements\n",
    "- Quiz - Well done, class average 86%.\n",
    "- Make sure you read this https://ubc-mds.github.io/policies/#re-grading before approaching TAs with regrade requests.\n",
    "- Early feedback on deliverables is there so that you have some time to reflect upon and make necessary changes to your study pattern.\n",
    "- Thursday after our last lab - New programmers session, let's work things out !!! From 4 PM\n",
    "- Do you have a strategy to prepare for quiz? Cheat sheets, important links, etc.\n",
    "\n",
    "There are 3 key themes to this lecture:\n",
    "\n",
    "1. Using anonymous function with {purrr} `map_*` functions\n",
    "\n",
    "2. Nested data frames\n",
    "\n",
    "3. Mapping with nested data frames"
   ]
  },
  {
   "cell_type": "code",
   "execution_count": 247,
   "metadata": {},
   "outputs": [],
   "source": [
    "## loading necessary packages \n",
    "library(gapminder)\n",
    "library(repurrrsive)\n",
    "library(tidyverse)\n",
    "library(infer)\n",
    "options(repr.matrix.max.rows = 10)"
   ]
  },
  {
   "cell_type": "markdown",
   "metadata": {},
   "source": [
    "## Theme 0: Knowledge check\n",
    "### Clicker 1: Functions and lexical scoping"
   ]
  },
  {
   "cell_type": "code",
   "execution_count": 248,
   "metadata": {
    "tags": []
   },
   "outputs": [],
   "source": [
    "# x <- 20\n",
    "# y <- 10\n",
    "# z <- 5\n",
    "# w <- 1\n",
    "# sum <- function(x, y = 0) {\n",
    "#   ( x - y ) - z \n",
    "#   }\n",
    "\n",
    "# try({sum(30)})\n",
    "# try({sum(x,y)})\n",
    "# try({sum()})\n",
    "# try({base::sum(x,y)})"
   ]
  },
  {
   "cell_type": "markdown",
   "metadata": {},
   "source": [
    "### Clicker 2: Group_by & mutate"
   ]
  },
  {
   "cell_type": "code",
   "execution_count": 249,
   "metadata": {},
   "outputs": [],
   "source": [
    "# # calculate the average life expectancy for each continent\n",
    "# students <- data.frame(name = c(\"James\",\"Diana\",\"James\",\"Diana\",\"George\",\"Diana\"),\n",
    "#            grade = c(10, 20, 30, 40, 50, 60))\n",
    "# students\n",
    "# students %>% \n",
    "#     group_by(____) %>% \n",
    "#     _____(total_grade = ____(grade))"
   ]
  },
  {
   "cell_type": "markdown",
   "metadata": {},
   "source": [
    "### Clicker 3: map"
   ]
  },
  {
   "cell_type": "code",
   "execution_count": 250,
   "metadata": {},
   "outputs": [],
   "source": [
    "# ## For students to experiment \n",
    "# students <- data.frame(name = c(\"James\",\"Diana\",\"James\",\"Diana\",\"George\",\"Diana\"),\n",
    "#            grade = c(10, 20, 30, 40, 50, 60))\n",
    "\n",
    "# What is the output of the following map operation?\n",
    "\n",
    "# map_dbl(students, is.numeric)\n",
    "\n",
    "# print(\"Option A :---\")\n",
    "# map_dbl(students, is.numeric)\n",
    "# print(\"Option B :---\")\n",
    "# map_lgl(students, is.numeric)\n",
    "# print(\"Option C :---\")\n",
    "# map(students, is.numeric)\n",
    "# print(\"Option D :---\")\n",
    "# print(\"Error bad type\")"
   ]
  },
  {
   "cell_type": "markdown",
   "metadata": {},
   "source": [
    "## Theme 1: Using anonymous function with {purrr} `map_*` functions"
   ]
  },
  {
   "cell_type": "markdown",
   "metadata": {},
   "source": [
    "Below function takes in x as an argument and adds one to it. The function definition is surrounded by round brackets, as is the value being passed to the anonymous function."
   ]
  },
  {
   "cell_type": "code",
   "execution_count": 257,
   "metadata": {},
   "outputs": [
    {
     "data": {
      "text/html": [
       "2"
      ],
      "text/latex": [
       "2"
      ],
      "text/markdown": [
       "2"
      ],
      "text/plain": [
       "[1] 2"
      ]
     },
     "metadata": {},
     "output_type": "display_data"
    }
   ],
   "source": [
    "(function(x) 1 + x)(1)"
   ]
  },
  {
   "cell_type": "markdown",
   "metadata": {},
   "source": [
    "What if it is not an anonymous function"
   ]
  },
  {
   "cell_type": "code",
   "execution_count": 258,
   "metadata": {},
   "outputs": [
    {
     "data": {
      "text/html": [
       "2"
      ],
      "text/latex": [
       "2"
      ],
      "text/markdown": [
       "2"
      ],
      "text/plain": [
       "[1] 2"
      ]
     },
     "metadata": {},
     "output_type": "display_data"
    }
   ],
   "source": [
    "add_one <- function(x){\n",
    "    x + 1\n",
    "    }\n",
    "add_one(1)"
   ]
  },
  {
   "cell_type": "markdown",
   "metadata": {},
   "source": [
    "Let's now get into using anonymous function calls within {purrr} `map_*`. The example what we are going to work on is Map `str_replace` to all the columns of a very wide data frame to replace all instances of `\"Cdn\"` with `\"Canadian\"` to fix a data entry error that occurs in several columns in a data set. Let's first make some dummy tables;"
   ]
  },
  {
   "cell_type": "code",
   "execution_count": 259,
   "metadata": {},
   "outputs": [
    {
     "data": {
      "text/html": [
       "<table class=\"dataframe\">\n",
       "<caption>A tibble: 3 × 3</caption>\n",
       "<thead>\n",
       "\t<tr><th scope=col>id</th><th scope=col>birth_citizenship</th><th scope=col>current_citizenship</th></tr>\n",
       "\t<tr><th scope=col>&lt;chr&gt;</th><th scope=col>&lt;chr&gt;</th><th scope=col>&lt;chr&gt;</th></tr>\n",
       "</thead>\n",
       "<tbody>\n",
       "\t<tr><td>25323</td><td>Canadian</td><td>Canadian  </td></tr>\n",
       "\t<tr><td>45234</td><td>American</td><td>Vietnamese</td></tr>\n",
       "\t<tr><td>23471</td><td>Cdn     </td><td>Cdn       </td></tr>\n",
       "</tbody>\n",
       "</table>\n"
      ],
      "text/latex": [
       "A tibble: 3 × 3\n",
       "\\begin{tabular}{lll}\n",
       " id & birth\\_citizenship & current\\_citizenship\\\\\n",
       " <chr> & <chr> & <chr>\\\\\n",
       "\\hline\n",
       "\t 25323 & Canadian & Canadian  \\\\\n",
       "\t 45234 & American & Vietnamese\\\\\n",
       "\t 23471 & Cdn      & Cdn       \\\\\n",
       "\\end{tabular}\n"
      ],
      "text/markdown": [
       "\n",
       "A tibble: 3 × 3\n",
       "\n",
       "| id &lt;chr&gt; | birth_citizenship &lt;chr&gt; | current_citizenship &lt;chr&gt; |\n",
       "|---|---|---|\n",
       "| 25323 | Canadian | Canadian   |\n",
       "| 45234 | American | Vietnamese |\n",
       "| 23471 | Cdn      | Cdn        |\n",
       "\n"
      ],
      "text/plain": [
       "  id    birth_citizenship current_citizenship\n",
       "1 25323 Canadian          Canadian           \n",
       "2 45234 American          Vietnamese         \n",
       "3 23471 Cdn               Cdn                "
      ]
     },
     "metadata": {},
     "output_type": "display_data"
    }
   ],
   "source": [
    "data_entry <- tibble(id = c(\"25323\", \"45234\", \"23471\"),\n",
    "                    birth_citizenship = c(\"Canadian\", \"American\", \"Cdn\"),\n",
    "                    current_citizenship = c(\"Canadian\", \"Vietnamese\", \"Cdn\"))\n",
    "data_entry"
   ]
  },
  {
   "cell_type": "markdown",
   "metadata": {},
   "source": [
    "Before even thinking about writing an anonymous function, do we need to write an anonymous function for this problem? \n",
    "\n",
    "NO, you do not need to use an anonymous function, you can take advantage of `...` (map functions pass them to the function you are using), but we will see more complicated cases later in the lecture and the lab. Complicated cases arise when you are working with nested data frames (which is, infact our next theme)"
   ]
  },
  {
   "cell_type": "code",
   "execution_count": 260,
   "metadata": {},
   "outputs": [
    {
     "data": {
      "text/html": [
       "<table class=\"dataframe\">\n",
       "<caption>A tibble: 3 × 3</caption>\n",
       "<thead>\n",
       "\t<tr><th scope=col>id</th><th scope=col>birth_citizenship</th><th scope=col>current_citizenship</th></tr>\n",
       "\t<tr><th scope=col>&lt;chr&gt;</th><th scope=col>&lt;chr&gt;</th><th scope=col>&lt;chr&gt;</th></tr>\n",
       "</thead>\n",
       "<tbody>\n",
       "\t<tr><td>25323</td><td>Canadian</td><td>Canadian  </td></tr>\n",
       "\t<tr><td>45234</td><td>American</td><td>Vietnamese</td></tr>\n",
       "\t<tr><td>23471</td><td>Canadian</td><td>Canadian  </td></tr>\n",
       "</tbody>\n",
       "</table>\n"
      ],
      "text/latex": [
       "A tibble: 3 × 3\n",
       "\\begin{tabular}{lll}\n",
       " id & birth\\_citizenship & current\\_citizenship\\\\\n",
       " <chr> & <chr> & <chr>\\\\\n",
       "\\hline\n",
       "\t 25323 & Canadian & Canadian  \\\\\n",
       "\t 45234 & American & Vietnamese\\\\\n",
       "\t 23471 & Canadian & Canadian  \\\\\n",
       "\\end{tabular}\n"
      ],
      "text/markdown": [
       "\n",
       "A tibble: 3 × 3\n",
       "\n",
       "| id &lt;chr&gt; | birth_citizenship &lt;chr&gt; | current_citizenship &lt;chr&gt; |\n",
       "|---|---|---|\n",
       "| 25323 | Canadian | Canadian   |\n",
       "| 45234 | American | Vietnamese |\n",
       "| 23471 | Canadian | Canadian   |\n",
       "\n"
      ],
      "text/plain": [
       "  id    birth_citizenship current_citizenship\n",
       "1 25323 Canadian          Canadian           \n",
       "2 45234 American          Vietnamese         \n",
       "3 23471 Canadian          Canadian           "
      ]
     },
     "metadata": {},
     "output_type": "display_data"
    }
   ],
   "source": [
    "# map_df(df,sum,na.rm=TRUE)\n",
    "\n",
    "map_df(data_entry, str_replace, pattern = \"Cdn\", replacement = \"Canadian\")"
   ]
  },
  {
   "cell_type": "markdown",
   "metadata": {},
   "source": [
    "But to illustrate the use of the anonymous function, let us work out this with the use of the anonymous function. \n",
    "\n",
    "Using verbose anonymous function syntax:"
   ]
  },
  {
   "cell_type": "code",
   "execution_count": 261,
   "metadata": {},
   "outputs": [
    {
     "data": {
      "text/html": [
       "<table class=\"dataframe\">\n",
       "<caption>A tibble: 3 × 3</caption>\n",
       "<thead>\n",
       "\t<tr><th scope=col>id</th><th scope=col>birth_citizenship</th><th scope=col>current_citizenship</th></tr>\n",
       "\t<tr><th scope=col>&lt;chr&gt;</th><th scope=col>&lt;chr&gt;</th><th scope=col>&lt;chr&gt;</th></tr>\n",
       "</thead>\n",
       "<tbody>\n",
       "\t<tr><td>25323</td><td>Canadian</td><td>Canadian  </td></tr>\n",
       "\t<tr><td>45234</td><td>American</td><td>Vietnamese</td></tr>\n",
       "\t<tr><td>23471</td><td>Canadian</td><td>Canadian  </td></tr>\n",
       "</tbody>\n",
       "</table>\n"
      ],
      "text/latex": [
       "A tibble: 3 × 3\n",
       "\\begin{tabular}{lll}\n",
       " id & birth\\_citizenship & current\\_citizenship\\\\\n",
       " <chr> & <chr> & <chr>\\\\\n",
       "\\hline\n",
       "\t 25323 & Canadian & Canadian  \\\\\n",
       "\t 45234 & American & Vietnamese\\\\\n",
       "\t 23471 & Canadian & Canadian  \\\\\n",
       "\\end{tabular}\n"
      ],
      "text/markdown": [
       "\n",
       "A tibble: 3 × 3\n",
       "\n",
       "| id &lt;chr&gt; | birth_citizenship &lt;chr&gt; | current_citizenship &lt;chr&gt; |\n",
       "|---|---|---|\n",
       "| 25323 | Canadian | Canadian   |\n",
       "| 45234 | American | Vietnamese |\n",
       "| 23471 | Canadian | Canadian   |\n",
       "\n"
      ],
      "text/plain": [
       "  id    birth_citizenship current_citizenship\n",
       "1 25323 Canadian          Canadian           \n",
       "2 45234 American          Vietnamese         \n",
       "3 23471 Canadian          Canadian           "
      ]
     },
     "metadata": {},
     "output_type": "display_data"
    }
   ],
   "source": [
    "map_df(data_entry, function(vect) str_replace(vect, pattern = \"Cdn\", replacement = \"Canadian\"))"
   ]
  },
  {
   "cell_type": "markdown",
   "metadata": {},
   "source": [
    "Using shorthand anonymous function syntax:"
   ]
  },
  {
   "cell_type": "code",
   "execution_count": 262,
   "metadata": {},
   "outputs": [
    {
     "data": {
      "text/html": [
       "<table class=\"dataframe\">\n",
       "<caption>A tibble: 3 × 3</caption>\n",
       "<thead>\n",
       "\t<tr><th scope=col>id</th><th scope=col>birth_citizenship</th><th scope=col>current_citizenship</th></tr>\n",
       "\t<tr><th scope=col>&lt;chr&gt;</th><th scope=col>&lt;chr&gt;</th><th scope=col>&lt;chr&gt;</th></tr>\n",
       "</thead>\n",
       "<tbody>\n",
       "\t<tr><td>25323</td><td>Canadian</td><td>Canadian  </td></tr>\n",
       "\t<tr><td>45234</td><td>American</td><td>Vietnamese</td></tr>\n",
       "\t<tr><td>23471</td><td>Canadian</td><td>Canadian  </td></tr>\n",
       "</tbody>\n",
       "</table>\n"
      ],
      "text/latex": [
       "A tibble: 3 × 3\n",
       "\\begin{tabular}{lll}\n",
       " id & birth\\_citizenship & current\\_citizenship\\\\\n",
       " <chr> & <chr> & <chr>\\\\\n",
       "\\hline\n",
       "\t 25323 & Canadian & Canadian  \\\\\n",
       "\t 45234 & American & Vietnamese\\\\\n",
       "\t 23471 & Canadian & Canadian  \\\\\n",
       "\\end{tabular}\n"
      ],
      "text/markdown": [
       "\n",
       "A tibble: 3 × 3\n",
       "\n",
       "| id &lt;chr&gt; | birth_citizenship &lt;chr&gt; | current_citizenship &lt;chr&gt; |\n",
       "|---|---|---|\n",
       "| 25323 | Canadian | Canadian   |\n",
       "| 45234 | American | Vietnamese |\n",
       "| 23471 | Canadian | Canadian   |\n",
       "\n"
      ],
      "text/plain": [
       "  id    birth_citizenship current_citizenship\n",
       "1 25323 Canadian          Canadian           \n",
       "2 45234 American          Vietnamese         \n",
       "3 23471 Canadian          Canadian           "
      ]
     },
     "metadata": {},
     "output_type": "display_data"
    }
   ],
   "source": [
    "map_df(data_entry, ~ str_replace(.x, pattern = \"Cdn\", replacement = \"Canadian\"))\n",
    "# map_df(data_entry, ~str_replace(., pattern = \"Cdn\", replacement = \"Canadian\"))"
   ]
  },
  {
   "cell_type": "markdown",
   "metadata": {},
   "source": [
    "## Nested data frames"
   ]
  },
  {
   "cell_type": "code",
   "execution_count": 263,
   "metadata": {},
   "outputs": [
    {
     "name": "stdout",
     "output_type": "stream",
     "text": [
      "\u001b[90m# A tibble: 142 × 5\u001b[39m\n",
      "\u001b[90m# Groups:   continent, country [142]\u001b[39m\n",
      "   country     continent data              mean_life_exp life_exp_ci     \n",
      "   \u001b[3m\u001b[90m<fct>\u001b[39m\u001b[23m       \u001b[3m\u001b[90m<fct>\u001b[39m\u001b[23m     \u001b[3m\u001b[90m<list>\u001b[39m\u001b[23m                    \u001b[3m\u001b[90m<dbl>\u001b[39m\u001b[23m \u001b[3m\u001b[90m<list>\u001b[39m\u001b[23m          \n",
      "\u001b[90m 1\u001b[39m Afghanistan Asia      \u001b[90m<tibble [12 × 4]>\u001b[39m          37.5 \u001b[90m<tibble [1 × 2]>\u001b[39m\n",
      "\u001b[90m 2\u001b[39m Albania     Europe    \u001b[90m<tibble [12 × 4]>\u001b[39m          68.4 \u001b[90m<tibble [1 × 2]>\u001b[39m\n",
      "\u001b[90m 3\u001b[39m Algeria     Africa    \u001b[90m<tibble [12 × 4]>\u001b[39m          59.0 \u001b[90m<tibble [1 × 2]>\u001b[39m\n",
      "\u001b[90m 4\u001b[39m Angola      Africa    \u001b[90m<tibble [12 × 4]>\u001b[39m          37.9 \u001b[90m<tibble [1 × 2]>\u001b[39m\n",
      "\u001b[90m 5\u001b[39m Argentina   Americas  \u001b[90m<tibble [12 × 4]>\u001b[39m          69.1 \u001b[90m<tibble [1 × 2]>\u001b[39m\n",
      "\u001b[90m 6\u001b[39m Australia   Oceania   \u001b[90m<tibble [12 × 4]>\u001b[39m          74.7 \u001b[90m<tibble [1 × 2]>\u001b[39m\n",
      "\u001b[90m 7\u001b[39m Austria     Europe    \u001b[90m<tibble [12 × 4]>\u001b[39m          73.1 \u001b[90m<tibble [1 × 2]>\u001b[39m\n",
      "\u001b[90m 8\u001b[39m Bahrain     Asia      \u001b[90m<tibble [12 × 4]>\u001b[39m          65.6 \u001b[90m<tibble [1 × 2]>\u001b[39m\n",
      "\u001b[90m 9\u001b[39m Bangladesh  Asia      \u001b[90m<tibble [12 × 4]>\u001b[39m          49.8 \u001b[90m<tibble [1 × 2]>\u001b[39m\n",
      "\u001b[90m10\u001b[39m Belgium     Europe    \u001b[90m<tibble [12 × 4]>\u001b[39m          73.6 \u001b[90m<tibble [1 × 2]>\u001b[39m\n",
      "\u001b[90m# … with 132 more rows\u001b[39m\n"
     ]
    }
   ],
   "source": [
    "# create a nested data frame DSCI 552\n",
    "gap_lifeExp_ci <- function(df, statistic) {\n",
    "  df %>% \n",
    "        specify(response = lifeExp) %>% \n",
    "        generate(reps = 1000, type = \"bootstrap\")  %>% \n",
    "        calculate(stat = statistic)  %>% \n",
    "        get_ci()\n",
    "}\n",
    "\n",
    "by_country <- gapminder %>%\n",
    "    group_by(continent, country) %>%\n",
    "    nest() %>% \n",
    "    mutate(mean_life_exp = map_dbl(data, ~mean(.$lifeExp)), \n",
    "    life_exp_ci = map(data, ~gap_lifeExp_ci(., \"mean\")))\n",
    "print(by_country)"
   ]
  },
  {
   "cell_type": "markdown",
   "metadata": {},
   "source": [
    "### List column workflow:\n",
    "\n",
    "1. Create a list column using function `nest`\n",
    "\n",
    "2. Create other intermediate list-columns by transforming existing list columns with `map`\n",
    "\n",
    "3. Simplify the list-column back down to a data frame or atomic vector, often by `unnest`, `mutate` + `map_*` functions that return atomic vectors as opposed to lists. "
   ]
  },
  {
   "cell_type": "markdown",
   "metadata": {},
   "source": [
    "#### 1. List-columns\n",
    "\n",
    "To create a nested data frame we start with a **grouped** data frame, and “nest” it:\n",
    "\n",
    "NB: Please use `print()` to print a nested dataframe. Otherwise, jupyter doesn't know to print it pretty (but R studio can)"
   ]
  },
  {
   "cell_type": "code",
   "execution_count": 264,
   "metadata": {},
   "outputs": [
    {
     "name": "stdout",
     "output_type": "stream",
     "text": [
      "\u001b[90m# A tibble: 142 × 3\u001b[39m\n",
      "\u001b[90m# Groups:   continent, country [142]\u001b[39m\n",
      "   country     continent data             \n",
      "   \u001b[3m\u001b[90m<fct>\u001b[39m\u001b[23m       \u001b[3m\u001b[90m<fct>\u001b[39m\u001b[23m     \u001b[3m\u001b[90m<list>\u001b[39m\u001b[23m           \n",
      "\u001b[90m 1\u001b[39m Afghanistan Asia      \u001b[90m<tibble [12 × 4]>\u001b[39m\n",
      "\u001b[90m 2\u001b[39m Albania     Europe    \u001b[90m<tibble [12 × 4]>\u001b[39m\n",
      "\u001b[90m 3\u001b[39m Algeria     Africa    \u001b[90m<tibble [12 × 4]>\u001b[39m\n",
      "\u001b[90m 4\u001b[39m Angola      Africa    \u001b[90m<tibble [12 × 4]>\u001b[39m\n",
      "\u001b[90m 5\u001b[39m Argentina   Americas  \u001b[90m<tibble [12 × 4]>\u001b[39m\n",
      "\u001b[90m 6\u001b[39m Australia   Oceania   \u001b[90m<tibble [12 × 4]>\u001b[39m\n",
      "\u001b[90m 7\u001b[39m Austria     Europe    \u001b[90m<tibble [12 × 4]>\u001b[39m\n",
      "\u001b[90m 8\u001b[39m Bahrain     Asia      \u001b[90m<tibble [12 × 4]>\u001b[39m\n",
      "\u001b[90m 9\u001b[39m Bangladesh  Asia      \u001b[90m<tibble [12 × 4]>\u001b[39m\n",
      "\u001b[90m10\u001b[39m Belgium     Europe    \u001b[90m<tibble [12 × 4]>\u001b[39m\n",
      "\u001b[90m# … with 132 more rows\u001b[39m\n"
     ]
    }
   ],
   "source": [
    "# create a nested data frame\n",
    "by_country <- gapminder %>% \n",
    "    group_by(continent, country) %>% \n",
    "    nest()\n",
    "print(by_country)"
   ]
  },
  {
   "cell_type": "markdown",
   "metadata": {},
   "source": [
    "What is the `data` column here? "
   ]
  },
  {
   "cell_type": "code",
   "execution_count": 265,
   "metadata": {},
   "outputs": [
    {
     "data": {
      "text/html": [
       "<table class=\"dataframe\">\n",
       "<caption>A tibble: 12 × 4</caption>\n",
       "<thead>\n",
       "\t<tr><th scope=col>year</th><th scope=col>lifeExp</th><th scope=col>pop</th><th scope=col>gdpPercap</th></tr>\n",
       "\t<tr><th scope=col>&lt;int&gt;</th><th scope=col>&lt;dbl&gt;</th><th scope=col>&lt;int&gt;</th><th scope=col>&lt;dbl&gt;</th></tr>\n",
       "</thead>\n",
       "<tbody>\n",
       "\t<tr><td>1952</td><td>28.801</td><td> 8425333</td><td>779.4453</td></tr>\n",
       "\t<tr><td>1957</td><td>30.332</td><td> 9240934</td><td>820.8530</td></tr>\n",
       "\t<tr><td>1962</td><td>31.997</td><td>10267083</td><td>853.1007</td></tr>\n",
       "\t<tr><td>1967</td><td>34.020</td><td>11537966</td><td>836.1971</td></tr>\n",
       "\t<tr><td>1972</td><td>36.088</td><td>13079460</td><td>739.9811</td></tr>\n",
       "\t<tr><td>⋮</td><td>⋮</td><td>⋮</td><td>⋮</td></tr>\n",
       "\t<tr><td>1987</td><td>40.822</td><td>13867957</td><td>852.3959</td></tr>\n",
       "\t<tr><td>1992</td><td>41.674</td><td>16317921</td><td>649.3414</td></tr>\n",
       "\t<tr><td>1997</td><td>41.763</td><td>22227415</td><td>635.3414</td></tr>\n",
       "\t<tr><td>2002</td><td>42.129</td><td>25268405</td><td>726.7341</td></tr>\n",
       "\t<tr><td>2007</td><td>43.828</td><td>31889923</td><td>974.5803</td></tr>\n",
       "</tbody>\n",
       "</table>\n"
      ],
      "text/latex": [
       "A tibble: 12 × 4\n",
       "\\begin{tabular}{llll}\n",
       " year & lifeExp & pop & gdpPercap\\\\\n",
       " <int> & <dbl> & <int> & <dbl>\\\\\n",
       "\\hline\n",
       "\t 1952 & 28.801 &  8425333 & 779.4453\\\\\n",
       "\t 1957 & 30.332 &  9240934 & 820.8530\\\\\n",
       "\t 1962 & 31.997 & 10267083 & 853.1007\\\\\n",
       "\t 1967 & 34.020 & 11537966 & 836.1971\\\\\n",
       "\t 1972 & 36.088 & 13079460 & 739.9811\\\\\n",
       "\t ⋮ & ⋮ & ⋮ & ⋮\\\\\n",
       "\t 1987 & 40.822 & 13867957 & 852.3959\\\\\n",
       "\t 1992 & 41.674 & 16317921 & 649.3414\\\\\n",
       "\t 1997 & 41.763 & 22227415 & 635.3414\\\\\n",
       "\t 2002 & 42.129 & 25268405 & 726.7341\\\\\n",
       "\t 2007 & 43.828 & 31889923 & 974.5803\\\\\n",
       "\\end{tabular}\n"
      ],
      "text/markdown": [
       "\n",
       "A tibble: 12 × 4\n",
       "\n",
       "| year &lt;int&gt; | lifeExp &lt;dbl&gt; | pop &lt;int&gt; | gdpPercap &lt;dbl&gt; |\n",
       "|---|---|---|---|\n",
       "| 1952 | 28.801 |  8425333 | 779.4453 |\n",
       "| 1957 | 30.332 |  9240934 | 820.8530 |\n",
       "| 1962 | 31.997 | 10267083 | 853.1007 |\n",
       "| 1967 | 34.020 | 11537966 | 836.1971 |\n",
       "| 1972 | 36.088 | 13079460 | 739.9811 |\n",
       "| ⋮ | ⋮ | ⋮ | ⋮ |\n",
       "| 1987 | 40.822 | 13867957 | 852.3959 |\n",
       "| 1992 | 41.674 | 16317921 | 649.3414 |\n",
       "| 1997 | 41.763 | 22227415 | 635.3414 |\n",
       "| 2002 | 42.129 | 25268405 | 726.7341 |\n",
       "| 2007 | 43.828 | 31889923 | 974.5803 |\n",
       "\n"
      ],
      "text/plain": [
       "   year lifeExp pop      gdpPercap\n",
       "1  1952 28.801   8425333 779.4453 \n",
       "2  1957 30.332   9240934 820.8530 \n",
       "3  1962 31.997  10267083 853.1007 \n",
       "4  1967 34.020  11537966 836.1971 \n",
       "5  1972 36.088  13079460 739.9811 \n",
       "⋮  ⋮    ⋮       ⋮        ⋮        \n",
       "8  1987 40.822  13867957 852.3959 \n",
       "9  1992 41.674  16317921 649.3414 \n",
       "10 1997 41.763  22227415 635.3414 \n",
       "11 2002 42.129  25268405 726.7341 \n",
       "12 2007 43.828  31889923 974.5803 "
      ]
     },
     "metadata": {},
     "output_type": "display_data"
    },
    {
     "data": {
      "text/html": [
       "<table class=\"dataframe\">\n",
       "<caption>A tibble: 12 × 4</caption>\n",
       "<thead>\n",
       "\t<tr><th scope=col>year</th><th scope=col>lifeExp</th><th scope=col>pop</th><th scope=col>gdpPercap</th></tr>\n",
       "\t<tr><th scope=col>&lt;int&gt;</th><th scope=col>&lt;dbl&gt;</th><th scope=col>&lt;int&gt;</th><th scope=col>&lt;dbl&gt;</th></tr>\n",
       "</thead>\n",
       "<tbody>\n",
       "\t<tr><td>1952</td><td>55.23</td><td>1282697</td><td>1601.056</td></tr>\n",
       "\t<tr><td>1957</td><td>59.28</td><td>1476505</td><td>1942.284</td></tr>\n",
       "\t<tr><td>1962</td><td>64.82</td><td>1728137</td><td>2312.889</td></tr>\n",
       "\t<tr><td>1967</td><td>66.22</td><td>1984060</td><td>2760.197</td></tr>\n",
       "\t<tr><td>1972</td><td>67.69</td><td>2263554</td><td>3313.422</td></tr>\n",
       "\t<tr><td>⋮</td><td>⋮</td><td>⋮</td><td>⋮</td></tr>\n",
       "\t<tr><td>1987</td><td>72.000</td><td>3075321</td><td>3738.933</td></tr>\n",
       "\t<tr><td>1992</td><td>71.581</td><td>3326498</td><td>2497.438</td></tr>\n",
       "\t<tr><td>1997</td><td>72.950</td><td>3428038</td><td>3193.055</td></tr>\n",
       "\t<tr><td>2002</td><td>75.651</td><td>3508512</td><td>4604.212</td></tr>\n",
       "\t<tr><td>2007</td><td>76.423</td><td>3600523</td><td>5937.030</td></tr>\n",
       "</tbody>\n",
       "</table>\n"
      ],
      "text/latex": [
       "A tibble: 12 × 4\n",
       "\\begin{tabular}{llll}\n",
       " year & lifeExp & pop & gdpPercap\\\\\n",
       " <int> & <dbl> & <int> & <dbl>\\\\\n",
       "\\hline\n",
       "\t 1952 & 55.23 & 1282697 & 1601.056\\\\\n",
       "\t 1957 & 59.28 & 1476505 & 1942.284\\\\\n",
       "\t 1962 & 64.82 & 1728137 & 2312.889\\\\\n",
       "\t 1967 & 66.22 & 1984060 & 2760.197\\\\\n",
       "\t 1972 & 67.69 & 2263554 & 3313.422\\\\\n",
       "\t ⋮ & ⋮ & ⋮ & ⋮\\\\\n",
       "\t 1987 & 72.000 & 3075321 & 3738.933\\\\\n",
       "\t 1992 & 71.581 & 3326498 & 2497.438\\\\\n",
       "\t 1997 & 72.950 & 3428038 & 3193.055\\\\\n",
       "\t 2002 & 75.651 & 3508512 & 4604.212\\\\\n",
       "\t 2007 & 76.423 & 3600523 & 5937.030\\\\\n",
       "\\end{tabular}\n"
      ],
      "text/markdown": [
       "\n",
       "A tibble: 12 × 4\n",
       "\n",
       "| year &lt;int&gt; | lifeExp &lt;dbl&gt; | pop &lt;int&gt; | gdpPercap &lt;dbl&gt; |\n",
       "|---|---|---|---|\n",
       "| 1952 | 55.23 | 1282697 | 1601.056 |\n",
       "| 1957 | 59.28 | 1476505 | 1942.284 |\n",
       "| 1962 | 64.82 | 1728137 | 2312.889 |\n",
       "| 1967 | 66.22 | 1984060 | 2760.197 |\n",
       "| 1972 | 67.69 | 2263554 | 3313.422 |\n",
       "| ⋮ | ⋮ | ⋮ | ⋮ |\n",
       "| 1987 | 72.000 | 3075321 | 3738.933 |\n",
       "| 1992 | 71.581 | 3326498 | 2497.438 |\n",
       "| 1997 | 72.950 | 3428038 | 3193.055 |\n",
       "| 2002 | 75.651 | 3508512 | 4604.212 |\n",
       "| 2007 | 76.423 | 3600523 | 5937.030 |\n",
       "\n"
      ],
      "text/plain": [
       "   year lifeExp pop     gdpPercap\n",
       "1  1952 55.23   1282697 1601.056 \n",
       "2  1957 59.28   1476505 1942.284 \n",
       "3  1962 64.82   1728137 2312.889 \n",
       "4  1967 66.22   1984060 2760.197 \n",
       "5  1972 67.69   2263554 3313.422 \n",
       "⋮  ⋮    ⋮       ⋮       ⋮        \n",
       "8  1987 72.000  3075321 3738.933 \n",
       "9  1992 71.581  3326498 2497.438 \n",
       "10 1997 72.950  3428038 3193.055 \n",
       "11 2002 75.651  3508512 4604.212 \n",
       "12 2007 76.423  3600523 5937.030 "
      ]
     },
     "metadata": {},
     "output_type": "display_data"
    }
   ],
   "source": [
    "by_country$data[[1]]\n",
    "by_country$data[[2]]"
   ]
  },
  {
   "cell_type": "markdown",
   "metadata": {},
   "source": [
    "Now let's explore how we can create other intermediate list-columns by transforming existing columns with `map`.\n",
    "\n",
    "### 2. Create other intermediate list-columns with `map`\n",
    "\n",
    "We'd like to apply the mean function to get the mean life expectancy in a column:"
   ]
  },
  {
   "cell_type": "code",
   "execution_count": 266,
   "metadata": {},
   "outputs": [
    {
     "name": "stdout",
     "output_type": "stream",
     "text": [
      "\u001b[90m# A tibble: 142 × 4\u001b[39m\n",
      "\u001b[90m# Groups:   continent, country [142]\u001b[39m\n",
      "   country     continent data              mean_life_exp\n",
      "   \u001b[3m\u001b[90m<fct>\u001b[39m\u001b[23m       \u001b[3m\u001b[90m<fct>\u001b[39m\u001b[23m     \u001b[3m\u001b[90m<list>\u001b[39m\u001b[23m                    \u001b[3m\u001b[90m<dbl>\u001b[39m\u001b[23m\n",
      "\u001b[90m 1\u001b[39m Afghanistan Asia      \u001b[90m<tibble [12 × 4]>\u001b[39m          37.5\n",
      "\u001b[90m 2\u001b[39m Albania     Europe    \u001b[90m<tibble [12 × 4]>\u001b[39m          68.4\n",
      "\u001b[90m 3\u001b[39m Algeria     Africa    \u001b[90m<tibble [12 × 4]>\u001b[39m          59.0\n",
      "\u001b[90m 4\u001b[39m Angola      Africa    \u001b[90m<tibble [12 × 4]>\u001b[39m          37.9\n",
      "\u001b[90m 5\u001b[39m Argentina   Americas  \u001b[90m<tibble [12 × 4]>\u001b[39m          69.1\n",
      "\u001b[90m 6\u001b[39m Australia   Oceania   \u001b[90m<tibble [12 × 4]>\u001b[39m          74.7\n",
      "\u001b[90m 7\u001b[39m Austria     Europe    \u001b[90m<tibble [12 × 4]>\u001b[39m          73.1\n",
      "\u001b[90m 8\u001b[39m Bahrain     Asia      \u001b[90m<tibble [12 × 4]>\u001b[39m          65.6\n",
      "\u001b[90m 9\u001b[39m Bangladesh  Asia      \u001b[90m<tibble [12 × 4]>\u001b[39m          49.8\n",
      "\u001b[90m10\u001b[39m Belgium     Europe    \u001b[90m<tibble [12 × 4]>\u001b[39m          73.6\n",
      "\u001b[90m# … with 132 more rows\u001b[39m\n"
     ]
    }
   ],
   "source": [
    "by_country <- gapminder %>%\n",
    "    group_by(continent, country) %>%\n",
    "    nest() %>%\n",
    "    mutate(mean_life_exp = map_dbl(data, ~ mean(.$lifeExp))) %>% arrange(country)\n",
    "print(by_country)"
   ]
  },
  {
   "cell_type": "markdown",
   "metadata": {},
   "source": [
    "Now we'd like to apply the `gap_lifeExp_ci` function to each tibble in the `data` list column to obtain another list column containing the confidence interval tibbles. We can use `mutate` + `map` to do this:"
   ]
  },
  {
   "cell_type": "code",
   "execution_count": 267,
   "metadata": {},
   "outputs": [
    {
     "name": "stdout",
     "output_type": "stream",
     "text": [
      "\u001b[90m# A tibble: 142 × 5\u001b[39m\n",
      "\u001b[90m# Groups:   continent, country [142]\u001b[39m\n",
      "   country     continent data              mean_life_exp life_exp_ci     \n",
      "   \u001b[3m\u001b[90m<fct>\u001b[39m\u001b[23m       \u001b[3m\u001b[90m<fct>\u001b[39m\u001b[23m     \u001b[3m\u001b[90m<list>\u001b[39m\u001b[23m                    \u001b[3m\u001b[90m<dbl>\u001b[39m\u001b[23m \u001b[3m\u001b[90m<list>\u001b[39m\u001b[23m          \n",
      "\u001b[90m 1\u001b[39m Afghanistan Asia      \u001b[90m<tibble [12 × 4]>\u001b[39m          37.5 \u001b[90m<tibble [1 × 2]>\u001b[39m\n",
      "\u001b[90m 2\u001b[39m Albania     Europe    \u001b[90m<tibble [12 × 4]>\u001b[39m          68.4 \u001b[90m<tibble [1 × 2]>\u001b[39m\n",
      "\u001b[90m 3\u001b[39m Algeria     Africa    \u001b[90m<tibble [12 × 4]>\u001b[39m          59.0 \u001b[90m<tibble [1 × 2]>\u001b[39m\n",
      "\u001b[90m 4\u001b[39m Angola      Africa    \u001b[90m<tibble [12 × 4]>\u001b[39m          37.9 \u001b[90m<tibble [1 × 2]>\u001b[39m\n",
      "\u001b[90m 5\u001b[39m Argentina   Americas  \u001b[90m<tibble [12 × 4]>\u001b[39m          69.1 \u001b[90m<tibble [1 × 2]>\u001b[39m\n",
      "\u001b[90m 6\u001b[39m Australia   Oceania   \u001b[90m<tibble [12 × 4]>\u001b[39m          74.7 \u001b[90m<tibble [1 × 2]>\u001b[39m\n",
      "\u001b[90m 7\u001b[39m Austria     Europe    \u001b[90m<tibble [12 × 4]>\u001b[39m          73.1 \u001b[90m<tibble [1 × 2]>\u001b[39m\n",
      "\u001b[90m 8\u001b[39m Bahrain     Asia      \u001b[90m<tibble [12 × 4]>\u001b[39m          65.6 \u001b[90m<tibble [1 × 2]>\u001b[39m\n",
      "\u001b[90m 9\u001b[39m Bangladesh  Asia      \u001b[90m<tibble [12 × 4]>\u001b[39m          49.8 \u001b[90m<tibble [1 × 2]>\u001b[39m\n",
      "\u001b[90m10\u001b[39m Belgium     Europe    \u001b[90m<tibble [12 × 4]>\u001b[39m          73.6 \u001b[90m<tibble [1 × 2]>\u001b[39m\n",
      "\u001b[90m# … with 132 more rows\u001b[39m\n"
     ]
    }
   ],
   "source": [
    "gap_lifeExp_ci <- function(df, statistic) {\n",
    "  df %>% \n",
    "        specify(response = lifeExp) %>% \n",
    "        generate(reps = 1000, type = \"bootstrap\")  %>% \n",
    "        calculate(stat = statistic)  %>% \n",
    "        get_ci()\n",
    "}\n",
    "\n",
    "by_country <- gapminder %>%\n",
    "    group_by(continent, country) %>%\n",
    "    nest() %>% \n",
    "    mutate(mean_life_exp = map_dbl(data, ~mean(.$lifeExp)), \n",
    "    life_exp_ci = map(data, ~gap_lifeExp_ci(., \"mean\")))\n",
    "print(by_country)"
   ]
  },
  {
   "cell_type": "markdown",
   "metadata": {},
   "source": [
    "### Simplifying the list-column back down to a data frame or atomic vector\n",
    "\n",
    "After we create some other intermediate list-columns with `map`, we usually want to get some values back as regular atomic vector columns in our data frame, for visualization, further analysis, or reporting. \n",
    "\n",
    "We will first demonstrate how to do this using `unnest` in our example to covert the `life_exp_ci` list column to two columns, one for the lower bound of the confidence interval, and one for the upper bound of the confidence interval:"
   ]
  },
  {
   "cell_type": "code",
   "execution_count": 268,
   "metadata": {},
   "outputs": [
    {
     "name": "stdout",
     "output_type": "stream",
     "text": [
      "\u001b[90m# A tibble: 142 × 6\u001b[39m\n",
      "\u001b[90m# Groups:   continent, country [142]\u001b[39m\n",
      "   country     continent data              mean_life_exp lower_ci upper_ci\n",
      "   \u001b[3m\u001b[90m<fct>\u001b[39m\u001b[23m       \u001b[3m\u001b[90m<fct>\u001b[39m\u001b[23m     \u001b[3m\u001b[90m<list>\u001b[39m\u001b[23m                    \u001b[3m\u001b[90m<dbl>\u001b[39m\u001b[23m    \u001b[3m\u001b[90m<dbl>\u001b[39m\u001b[23m    \u001b[3m\u001b[90m<dbl>\u001b[39m\u001b[23m\n",
      "\u001b[90m 1\u001b[39m Afghanistan Asia      \u001b[90m<tibble [12 × 4]>\u001b[39m          37.5     34.7     40.2\n",
      "\u001b[90m 2\u001b[39m Albania     Europe    \u001b[90m<tibble [12 × 4]>\u001b[39m          68.4     64.9     71.6\n",
      "\u001b[90m 3\u001b[39m Algeria     Africa    \u001b[90m<tibble [12 × 4]>\u001b[39m          59.0     53.0     64.5\n",
      "\u001b[90m 4\u001b[39m Angola      Africa    \u001b[90m<tibble [12 × 4]>\u001b[39m          37.9     35.7     39.9\n",
      "\u001b[90m 5\u001b[39m Argentina   Americas  \u001b[90m<tibble [12 × 4]>\u001b[39m          69.1     66.8     71.2\n",
      "\u001b[90m 6\u001b[39m Australia   Oceania   \u001b[90m<tibble [12 × 4]>\u001b[39m          74.7     72.5     76.9\n",
      "\u001b[90m 7\u001b[39m Austria     Europe    \u001b[90m<tibble [12 × 4]>\u001b[39m          73.1     70.8     75.7\n",
      "\u001b[90m 8\u001b[39m Bahrain     Asia      \u001b[90m<tibble [12 × 4]>\u001b[39m          65.6     61.2     70.4\n",
      "\u001b[90m 9\u001b[39m Bangladesh  Asia      \u001b[90m<tibble [12 × 4]>\u001b[39m          49.8     45.1     54.5\n",
      "\u001b[90m10\u001b[39m Belgium     Europe    \u001b[90m<tibble [12 × 4]>\u001b[39m          73.6     71.6     75.6\n",
      "\u001b[90m# … with 132 more rows\u001b[39m\n"
     ]
    }
   ],
   "source": [
    "# unnest the ci column\n",
    "by_country %>% \n",
    "    unnest(life_exp_ci) %>% \n",
    "    print()"
   ]
  },
  {
   "cell_type": "markdown",
   "metadata": {},
   "source": [
    "## What did we learn:\n",
    "\n",
    "- how to write anonymous functions\n",
    "- how to use {purrr} `map_*` with anonymous functions to add extra arguments\n",
    "- what are nested data frames\n",
    "- how to use {tidyr}'s `nest` & `unnest` and {purrr} `map_*` functions to work with data frames to nest, modify and unnest data frames"
   ]
  }
 ],
 "metadata": {
  "jupytext": {
   "formats": "ipynb,Rmd"
  },
  "kernelspec": {
   "display_name": "R",
   "language": "R",
   "name": "ir"
  },
  "language_info": {
   "codemirror_mode": "r",
   "file_extension": ".r",
   "mimetype": "text/x-r-source",
   "name": "R",
   "pygments_lexer": "r",
   "version": "4.2.1"
  }
 },
 "nbformat": 4,
 "nbformat_minor": 4
}
