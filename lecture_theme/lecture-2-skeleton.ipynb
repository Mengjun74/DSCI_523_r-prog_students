{
 "cells": [
  {
   "cell_type": "markdown",
   "id": "baa56939",
   "metadata": {},
   "source": [
    "## Lecture 2 \n",
    "(You should refer to [main lecture notes](https://pages.github.ubc.ca/MDS-2022-23/DSCI_523_r-prog_students/README.html) for details)\n",
    "\n",
    "There are 3 key themes to this lecture:\n",
    "\n",
    "1. Key data types in R\n",
    "\n",
    "2. Using base R to subset objects\n",
    "\n",
    "3. Tidyverse code style"
   ]
  },
  {
   "cell_type": "markdown",
   "id": "680a63ad",
   "metadata": {},
   "source": [
    "First, let's load the packages we need:"
   ]
  },
  {
   "cell_type": "code",
   "execution_count": 1,
   "id": "c72bdcc7",
   "metadata": {},
   "outputs": [
    {
     "name": "stderr",
     "output_type": "stream",
     "text": [
      "── \u001b[1mAttaching packages\u001b[22m ───────────────────────────────────────────────────────────────────────────────────────────────────────────────────────────────────────────────────────────── tidyverse 1.3.2 ──\n",
      "\u001b[32m✔\u001b[39m \u001b[34mggplot2\u001b[39m 3.3.6     \u001b[32m✔\u001b[39m \u001b[34mpurrr  \u001b[39m 0.3.4\n",
      "\u001b[32m✔\u001b[39m \u001b[34mtibble \u001b[39m 3.1.8     \u001b[32m✔\u001b[39m \u001b[34mdplyr  \u001b[39m 1.0.9\n",
      "\u001b[32m✔\u001b[39m \u001b[34mtidyr  \u001b[39m 1.2.0     \u001b[32m✔\u001b[39m \u001b[34mstringr\u001b[39m 1.4.1\n",
      "\u001b[32m✔\u001b[39m \u001b[34mreadr  \u001b[39m 2.1.2     \u001b[32m✔\u001b[39m \u001b[34mforcats\u001b[39m 0.5.1\n",
      "── \u001b[1mConflicts\u001b[22m ──────────────────────────────────────────────────────────────────────────────────────────────────────────────────────────────────────────────────────────────── tidyverse_conflicts() ──\n",
      "\u001b[31m✖\u001b[39m \u001b[34mdplyr\u001b[39m::\u001b[32mfilter()\u001b[39m masks \u001b[34mstats\u001b[39m::filter()\n",
      "\u001b[31m✖\u001b[39m \u001b[34mdplyr\u001b[39m::\u001b[32mlag()\u001b[39m    masks \u001b[34mstats\u001b[39m::lag()\n"
     ]
    }
   ],
   "source": [
    "library(tidyverse)"
   ]
  },
  {
   "cell_type": "markdown",
   "id": "fed53166",
   "metadata": {},
   "source": [
    "*Note: if you have to install an R package that exists on CRAN, the command is: `install.packages(\"PACKAGE_NAME\")`.*"
   ]
  },
  {
   "cell_type": "code",
   "execution_count": null,
   "id": "b3228ec8",
   "metadata": {},
   "outputs": [],
   "source": [
    "?pivot_longer"
   ]
  },
  {
   "cell_type": "markdown",
   "id": "56773537",
   "metadata": {},
   "source": [
    "Just showing some help on how to pivot_longer with \"tab\""
   ]
  },
  {
   "cell_type": "code",
   "execution_count": 2,
   "id": "f18b3e0b",
   "metadata": {},
   "outputs": [
    {
     "data": {
      "text/html": [
       "<table class=\"dataframe\">\n",
       "<caption>A tibble: 6 × 3</caption>\n",
       "<thead>\n",
       "\t<tr><th scope=col>country</th><th scope=col>year</th><th scope=col>value_shere</th></tr>\n",
       "\t<tr><th scope=col>&lt;chr&gt;</th><th scope=col>&lt;chr&gt;</th><th scope=col>&lt;int&gt;</th></tr>\n",
       "</thead>\n",
       "<tbody>\n",
       "\t<tr><td>Afghanistan</td><td>1999</td><td>   745</td></tr>\n",
       "\t<tr><td>Afghanistan</td><td>2000</td><td>  2666</td></tr>\n",
       "\t<tr><td>Brazil     </td><td>1999</td><td> 37737</td></tr>\n",
       "\t<tr><td>Brazil     </td><td>2000</td><td> 80488</td></tr>\n",
       "\t<tr><td>China      </td><td>1999</td><td>212258</td></tr>\n",
       "\t<tr><td>China      </td><td>2000</td><td>213766</td></tr>\n",
       "</tbody>\n",
       "</table>\n"
      ],
      "text/latex": [
       "A tibble: 6 × 3\n",
       "\\begin{tabular}{lll}\n",
       " country & year & value\\_shere\\\\\n",
       " <chr> & <chr> & <int>\\\\\n",
       "\\hline\n",
       "\t Afghanistan & 1999 &    745\\\\\n",
       "\t Afghanistan & 2000 &   2666\\\\\n",
       "\t Brazil      & 1999 &  37737\\\\\n",
       "\t Brazil      & 2000 &  80488\\\\\n",
       "\t China       & 1999 & 212258\\\\\n",
       "\t China       & 2000 & 213766\\\\\n",
       "\\end{tabular}\n"
      ],
      "text/markdown": [
       "\n",
       "A tibble: 6 × 3\n",
       "\n",
       "| country &lt;chr&gt; | year &lt;chr&gt; | value_shere &lt;int&gt; |\n",
       "|---|---|---|\n",
       "| Afghanistan | 1999 |    745 |\n",
       "| Afghanistan | 2000 |   2666 |\n",
       "| Brazil      | 1999 |  37737 |\n",
       "| Brazil      | 2000 |  80488 |\n",
       "| China       | 1999 | 212258 |\n",
       "| China       | 2000 | 213766 |\n",
       "\n"
      ],
      "text/plain": [
       "  country     year value_shere\n",
       "1 Afghanistan 1999    745     \n",
       "2 Afghanistan 2000   2666     \n",
       "3 Brazil      1999  37737     \n",
       "4 Brazil      2000  80488     \n",
       "5 China       1999 212258     \n",
       "6 China       2000 213766     "
      ]
     },
     "metadata": {},
     "output_type": "display_data"
    }
   ],
   "source": [
    "table4a  |> pivot_longer(cols = `1999`:`2000`,names_to = \"year\",values_to = \"value_shere\")"
   ]
  },
  {
   "cell_type": "markdown",
   "id": "7cd9c713",
   "metadata": {},
   "source": [
    "And then let's limit the output of data frames in Jupyter to 10 lines:"
   ]
  },
  {
   "cell_type": "code",
   "execution_count": 3,
   "id": "cd071841",
   "metadata": {},
   "outputs": [],
   "source": [
    "options(repr.matrix.max.rows = 10)"
   ]
  },
  {
   "cell_type": "code",
   "execution_count": 5,
   "id": "0cc6bec0",
   "metadata": {},
   "outputs": [],
   "source": [
    "library(gapminder)\n",
    "gapminder <- gapminder |> mutate(tot_gdp = pop * gdpPercap) |> arrange(desc(tot_gdp))"
   ]
  },
  {
   "cell_type": "code",
   "execution_count": 6,
   "id": "c7761b19",
   "metadata": {},
   "outputs": [
    {
     "data": {
      "text/html": [
       "<table class=\"dataframe\">\n",
       "<caption>A tibble: 6 × 7</caption>\n",
       "<thead>\n",
       "\t<tr><th scope=col>country</th><th scope=col>continent</th><th scope=col>year</th><th scope=col>lifeExp</th><th scope=col>pop</th><th scope=col>gdpPercap</th><th scope=col>tot_gdp</th></tr>\n",
       "\t<tr><th scope=col>&lt;fct&gt;</th><th scope=col>&lt;fct&gt;</th><th scope=col>&lt;int&gt;</th><th scope=col>&lt;dbl&gt;</th><th scope=col>&lt;int&gt;</th><th scope=col>&lt;dbl&gt;</th><th scope=col>&lt;dbl&gt;</th></tr>\n",
       "</thead>\n",
       "<tbody>\n",
       "\t<tr><td>United States</td><td>Americas</td><td>2007</td><td>78.242</td><td> 301139947</td><td>42951.653</td><td>1.293446e+13</td></tr>\n",
       "\t<tr><td>United States</td><td>Americas</td><td>2002</td><td>77.310</td><td> 287675526</td><td>39097.100</td><td>1.124728e+13</td></tr>\n",
       "\t<tr><td>United States</td><td>Americas</td><td>1997</td><td>76.810</td><td> 272911760</td><td>35767.433</td><td>9.761353e+12</td></tr>\n",
       "\t<tr><td>United States</td><td>Americas</td><td>1992</td><td>76.090</td><td> 256894189</td><td>32003.932</td><td>8.221624e+12</td></tr>\n",
       "\t<tr><td>United States</td><td>Americas</td><td>1987</td><td>75.020</td><td> 242803533</td><td>29884.350</td><td>7.256026e+12</td></tr>\n",
       "\t<tr><td>China        </td><td>Asia    </td><td>2007</td><td>72.961</td><td>1318683096</td><td> 4959.115</td><td>6.539501e+12</td></tr>\n",
       "</tbody>\n",
       "</table>\n"
      ],
      "text/latex": [
       "A tibble: 6 × 7\n",
       "\\begin{tabular}{lllllll}\n",
       " country & continent & year & lifeExp & pop & gdpPercap & tot\\_gdp\\\\\n",
       " <fct> & <fct> & <int> & <dbl> & <int> & <dbl> & <dbl>\\\\\n",
       "\\hline\n",
       "\t United States & Americas & 2007 & 78.242 &  301139947 & 42951.653 & 1.293446e+13\\\\\n",
       "\t United States & Americas & 2002 & 77.310 &  287675526 & 39097.100 & 1.124728e+13\\\\\n",
       "\t United States & Americas & 1997 & 76.810 &  272911760 & 35767.433 & 9.761353e+12\\\\\n",
       "\t United States & Americas & 1992 & 76.090 &  256894189 & 32003.932 & 8.221624e+12\\\\\n",
       "\t United States & Americas & 1987 & 75.020 &  242803533 & 29884.350 & 7.256026e+12\\\\\n",
       "\t China         & Asia     & 2007 & 72.961 & 1318683096 &  4959.115 & 6.539501e+12\\\\\n",
       "\\end{tabular}\n"
      ],
      "text/markdown": [
       "\n",
       "A tibble: 6 × 7\n",
       "\n",
       "| country &lt;fct&gt; | continent &lt;fct&gt; | year &lt;int&gt; | lifeExp &lt;dbl&gt; | pop &lt;int&gt; | gdpPercap &lt;dbl&gt; | tot_gdp &lt;dbl&gt; |\n",
       "|---|---|---|---|---|---|---|\n",
       "| United States | Americas | 2007 | 78.242 |  301139947 | 42951.653 | 1.293446e+13 |\n",
       "| United States | Americas | 2002 | 77.310 |  287675526 | 39097.100 | 1.124728e+13 |\n",
       "| United States | Americas | 1997 | 76.810 |  272911760 | 35767.433 | 9.761353e+12 |\n",
       "| United States | Americas | 1992 | 76.090 |  256894189 | 32003.932 | 8.221624e+12 |\n",
       "| United States | Americas | 1987 | 75.020 |  242803533 | 29884.350 | 7.256026e+12 |\n",
       "| China         | Asia     | 2007 | 72.961 | 1318683096 |  4959.115 | 6.539501e+12 |\n",
       "\n"
      ],
      "text/plain": [
       "  country       continent year lifeExp pop        gdpPercap tot_gdp     \n",
       "1 United States Americas  2007 78.242   301139947 42951.653 1.293446e+13\n",
       "2 United States Americas  2002 77.310   287675526 39097.100 1.124728e+13\n",
       "3 United States Americas  1997 76.810   272911760 35767.433 9.761353e+12\n",
       "4 United States Americas  1992 76.090   256894189 32003.932 8.221624e+12\n",
       "5 United States Americas  1987 75.020   242803533 29884.350 7.256026e+12\n",
       "6 China         Asia      2007 72.961  1318683096  4959.115 6.539501e+12"
      ]
     },
     "metadata": {},
     "output_type": "display_data"
    }
   ],
   "source": [
    "head(gapminder)"
   ]
  },
  {
   "cell_type": "markdown",
   "id": "67fd6615",
   "metadata": {},
   "source": [
    "## 1. Clicker"
   ]
  },
  {
   "cell_type": "markdown",
   "id": "6374fa80",
   "metadata": {},
   "source": [
    "## 1. Key data types in R\n",
    "\n",
    "The simplest object in R is a vector of length 1, this is the closest thing R has to a scalar: ( check key datatypes image)"
   ]
  },
  {
   "cell_type": "code",
   "execution_count": 7,
   "id": "4d395308",
   "metadata": {},
   "outputs": [],
   "source": [
    "my_string <- \"hello\""
   ]
  },
  {
   "cell_type": "code",
   "execution_count": 8,
   "id": "3875e7d1",
   "metadata": {},
   "outputs": [
    {
     "data": {
      "text/html": [
       "'hello'"
      ],
      "text/latex": [
       "'hello'"
      ],
      "text/markdown": [
       "'hello'"
      ],
      "text/plain": [
       "[1] \"hello\""
      ]
     },
     "metadata": {},
     "output_type": "display_data"
    }
   ],
   "source": [
    "my_string"
   ]
  },
  {
   "cell_type": "code",
   "execution_count": 9,
   "id": "0fa820bb",
   "metadata": {},
   "outputs": [
    {
     "data": {
      "text/html": [
       "'character'"
      ],
      "text/latex": [
       "'character'"
      ],
      "text/markdown": [
       "'character'"
      ],
      "text/plain": [
       "[1] \"character\""
      ]
     },
     "metadata": {},
     "output_type": "display_data"
    }
   ],
   "source": [
    "typeof(my_string)"
   ]
  },
  {
   "cell_type": "code",
   "execution_count": 11,
   "id": "ed41d3c9",
   "metadata": {},
   "outputs": [
    {
     "data": {
      "text/html": [
       "2"
      ],
      "text/latex": [
       "2"
      ],
      "text/markdown": [
       "2"
      ],
      "text/plain": [
       "[1] 2"
      ]
     },
     "metadata": {},
     "output_type": "display_data"
    },
    {
     "data": {
      "text/html": [
       "'double'"
      ],
      "text/latex": [
       "'double'"
      ],
      "text/markdown": [
       "'double'"
      ],
      "text/plain": [
       "[1] \"double\""
      ]
     },
     "metadata": {},
     "output_type": "display_data"
    }
   ],
   "source": [
    "my_number <- 2\n",
    "my_number\n",
    "typeof(my_number)"
   ]
  },
  {
   "cell_type": "code",
   "execution_count": 14,
   "id": "cb97c1f6",
   "metadata": {},
   "outputs": [],
   "source": [
    "## Here is an integer type. We should specify L  \n",
    "simple_vector <- c(3L)"
   ]
  },
  {
   "cell_type": "markdown",
   "id": "d3ee23fb",
   "metadata": {},
   "source": [
    "You can learn about R objects using `typeof` and `class`:"
   ]
  },
  {
   "cell_type": "code",
   "execution_count": 15,
   "id": "aace12f2",
   "metadata": {},
   "outputs": [
    {
     "data": {
      "text/html": [
       "'integer'"
      ],
      "text/latex": [
       "'integer'"
      ],
      "text/markdown": [
       "'integer'"
      ],
      "text/plain": [
       "[1] \"integer\""
      ]
     },
     "metadata": {},
     "output_type": "display_data"
    }
   ],
   "source": [
    "typeof(simple_vector)"
   ]
  },
  {
   "cell_type": "code",
   "execution_count": 16,
   "id": "66fb4ee3",
   "metadata": {},
   "outputs": [
    {
     "data": {
      "text/html": [
       "'integer'"
      ],
      "text/latex": [
       "'integer'"
      ],
      "text/markdown": [
       "'integer'"
      ],
      "text/plain": [
       "[1] \"integer\""
      ]
     },
     "metadata": {},
     "output_type": "display_data"
    }
   ],
   "source": [
    "class(simple_vector)"
   ]
  },
  {
   "cell_type": "markdown",
   "id": "6a327755",
   "metadata": {},
   "source": [
    "Vectors must be of homogenous type, if you don't do that yourself when creating them, R does that for you: (R counts from 1)"
   ]
  },
  {
   "cell_type": "code",
   "execution_count": 17,
   "id": "6260c1df",
   "metadata": {},
   "outputs": [
    {
     "data": {
      "text/html": [
       "<style>\n",
       ".list-inline {list-style: none; margin:0; padding: 0}\n",
       ".list-inline>li {display: inline-block}\n",
       ".list-inline>li:not(:last-child)::after {content: \"\\00b7\"; padding: 0 .5ex}\n",
       "</style>\n",
       "<ol class=list-inline><li>'word'</li><li>'1'</li><li>'TRUE'</li></ol>\n"
      ],
      "text/latex": [
       "\\begin{enumerate*}\n",
       "\\item 'word'\n",
       "\\item '1'\n",
       "\\item 'TRUE'\n",
       "\\end{enumerate*}\n"
      ],
      "text/markdown": [
       "1. 'word'\n",
       "2. '1'\n",
       "3. 'TRUE'\n",
       "\n",
       "\n"
      ],
      "text/plain": [
       "[1] \"word\" \"1\"    \"TRUE\""
      ]
     },
     "metadata": {},
     "output_type": "display_data"
    }
   ],
   "source": [
    "a_vector <- c(\"word\", 1, TRUE)\n",
    "a_vector"
   ]
  },
  {
   "cell_type": "code",
   "execution_count": 18,
   "id": "a8487660",
   "metadata": {},
   "outputs": [],
   "source": [
    "mixed_vec <- c(55, TRUE, 1L, NULL)"
   ]
  },
  {
   "cell_type": "code",
   "execution_count": 19,
   "id": "29fa32c5",
   "metadata": {},
   "outputs": [
    {
     "data": {
      "text/html": [
       "'double'"
      ],
      "text/latex": [
       "'double'"
      ],
      "text/markdown": [
       "'double'"
      ],
      "text/plain": [
       "[1] \"double\""
      ]
     },
     "metadata": {},
     "output_type": "display_data"
    }
   ],
   "source": [
    "typeof(mixed_vec)"
   ]
  },
  {
   "cell_type": "code",
   "execution_count": 20,
   "id": "a2919ad7",
   "metadata": {},
   "outputs": [
    {
     "data": {
      "text/html": [
       "'character'"
      ],
      "text/latex": [
       "'character'"
      ],
      "text/markdown": [
       "'character'"
      ],
      "text/plain": [
       "[1] \"character\""
      ]
     },
     "metadata": {},
     "output_type": "display_data"
    }
   ],
   "source": [
    "class(a_vector)"
   ]
  },
  {
   "cell_type": "code",
   "execution_count": 21,
   "id": "45c7e6fb",
   "metadata": {},
   "outputs": [
    {
     "data": {
      "text/html": [
       "'character'"
      ],
      "text/latex": [
       "'character'"
      ],
      "text/markdown": [
       "'character'"
      ],
      "text/plain": [
       "[1] \"character\""
      ]
     },
     "metadata": {},
     "output_type": "display_data"
    }
   ],
   "source": [
    "class(a_vector[1])"
   ]
  },
  {
   "cell_type": "code",
   "execution_count": 22,
   "id": "aed1aec0",
   "metadata": {},
   "outputs": [
    {
     "data": {
      "text/html": [
       "'character'"
      ],
      "text/latex": [
       "'character'"
      ],
      "text/markdown": [
       "'character'"
      ],
      "text/plain": [
       "[1] \"character\""
      ]
     },
     "metadata": {},
     "output_type": "display_data"
    }
   ],
   "source": [
    "class(a_vector[2])"
   ]
  },
  {
   "cell_type": "code",
   "execution_count": 23,
   "id": "99f9c44f",
   "metadata": {},
   "outputs": [
    {
     "data": {
      "text/html": [
       "'character'"
      ],
      "text/latex": [
       "'character'"
      ],
      "text/markdown": [
       "'character'"
      ],
      "text/plain": [
       "[1] \"character\""
      ]
     },
     "metadata": {},
     "output_type": "display_data"
    }
   ],
   "source": [
    "class(a_vector[3])"
   ]
  },
  {
   "cell_type": "markdown",
   "id": "b33522e3",
   "metadata": {},
   "source": [
    "## 2. Clicker"
   ]
  },
  {
   "cell_type": "markdown",
   "id": "c67f5df3",
   "metadata": {},
   "source": [
    "Lists are also collections of elements, but are a slightly more sophisticated object. They can contain elements of heterogenous types:"
   ]
  },
  {
   "cell_type": "code",
   "execution_count": 26,
   "id": "2926a77b",
   "metadata": {},
   "outputs": [
    {
     "data": {
      "text/html": [
       "<style>\n",
       ".list-inline {list-style: none; margin:0; padding: 0}\n",
       ".list-inline>li {display: inline-block}\n",
       ".list-inline>li:not(:last-child)::after {content: \"\\00b7\"; padding: 0 .5ex}\n",
       "</style>\n",
       "<ol class=list-inline><li>'word'</li><li>'1'</li><li>'TRUE'</li></ol>\n"
      ],
      "text/latex": [
       "\\begin{enumerate*}\n",
       "\\item 'word'\n",
       "\\item '1'\n",
       "\\item 'TRUE'\n",
       "\\end{enumerate*}\n"
      ],
      "text/markdown": [
       "1. 'word'\n",
       "2. '1'\n",
       "3. 'TRUE'\n",
       "\n",
       "\n"
      ],
      "text/plain": [
       "[1] \"word\" \"1\"    \"TRUE\""
      ]
     },
     "metadata": {},
     "output_type": "display_data"
    }
   ],
   "source": [
    "a_vec <- c(\"word\", 1, TRUE)\n",
    "a_vec"
   ]
  },
  {
   "cell_type": "code",
   "execution_count": 27,
   "id": "409fbb13",
   "metadata": {},
   "outputs": [
    {
     "data": {
      "text/html": [
       "<ol>\n",
       "\t<li>'word'</li>\n",
       "\t<li>1</li>\n",
       "\t<li>TRUE</li>\n",
       "</ol>\n"
      ],
      "text/latex": [
       "\\begin{enumerate}\n",
       "\\item 'word'\n",
       "\\item 1\n",
       "\\item TRUE\n",
       "\\end{enumerate}\n"
      ],
      "text/markdown": [
       "1. 'word'\n",
       "2. 1\n",
       "3. TRUE\n",
       "\n",
       "\n"
      ],
      "text/plain": [
       "[[1]]\n",
       "[1] \"word\"\n",
       "\n",
       "[[2]]\n",
       "[1] 1\n",
       "\n",
       "[[3]]\n",
       "[1] TRUE\n"
      ]
     },
     "metadata": {},
     "output_type": "display_data"
    }
   ],
   "source": [
    "a_list <- list(\"word\", 1, TRUE)\n",
    "a_list"
   ]
  },
  {
   "cell_type": "code",
   "execution_count": 28,
   "id": "cf364111",
   "metadata": {},
   "outputs": [
    {
     "data": {
      "text/html": [
       "TRUE"
      ],
      "text/latex": [
       "TRUE"
      ],
      "text/markdown": [
       "TRUE"
      ],
      "text/plain": [
       "[1] TRUE"
      ]
     },
     "metadata": {},
     "output_type": "display_data"
    }
   ],
   "source": [
    "a_list[[3]]"
   ]
  },
  {
   "cell_type": "code",
   "execution_count": 29,
   "id": "54552092",
   "metadata": {},
   "outputs": [
    {
     "data": {
      "text/html": [
       "'list'"
      ],
      "text/latex": [
       "'list'"
      ],
      "text/markdown": [
       "'list'"
      ],
      "text/plain": [
       "[1] \"list\""
      ]
     },
     "metadata": {},
     "output_type": "display_data"
    }
   ],
   "source": [
    "class(a_list)"
   ]
  },
  {
   "cell_type": "code",
   "execution_count": 30,
   "id": "339dae21",
   "metadata": {},
   "outputs": [
    {
     "data": {
      "text/html": [
       "'character'"
      ],
      "text/latex": [
       "'character'"
      ],
      "text/markdown": [
       "'character'"
      ],
      "text/plain": [
       "[1] \"character\""
      ]
     },
     "metadata": {},
     "output_type": "display_data"
    }
   ],
   "source": [
    "class(a_list[[1]])"
   ]
  },
  {
   "cell_type": "code",
   "execution_count": 31,
   "id": "276d02c1",
   "metadata": {},
   "outputs": [
    {
     "data": {
      "text/html": [
       "'numeric'"
      ],
      "text/latex": [
       "'numeric'"
      ],
      "text/markdown": [
       "'numeric'"
      ],
      "text/plain": [
       "[1] \"numeric\""
      ]
     },
     "metadata": {},
     "output_type": "display_data"
    }
   ],
   "source": [
    "class(a_list[[2]])"
   ]
  },
  {
   "cell_type": "code",
   "execution_count": 32,
   "id": "e5afe4cf",
   "metadata": {},
   "outputs": [
    {
     "data": {
      "text/html": [
       "'logical'"
      ],
      "text/latex": [
       "'logical'"
      ],
      "text/markdown": [
       "'logical'"
      ],
      "text/plain": [
       "[1] \"logical\""
      ]
     },
     "metadata": {},
     "output_type": "display_data"
    }
   ],
   "source": [
    "class(a_list[[3]])"
   ]
  },
  {
   "cell_type": "markdown",
   "id": "a0e5ea1b",
   "metadata": {},
   "source": [
    "Data frames are special kinds of lists that are required to have: \n",
    "- the elements be vectors (or list columns - more on that later) - we call these columns\n",
    "- the elements (i.e., columns) must have names\n",
    "- the elements (i.e., columns) must be of the same length"
   ]
  },
  {
   "cell_type": "code",
   "execution_count": 33,
   "id": "b9075192",
   "metadata": {},
   "outputs": [
    {
     "data": {
      "text/html": [
       "<table class=\"dataframe\">\n",
       "<caption>A data.frame: 2 × 3</caption>\n",
       "<thead>\n",
       "\t<tr><th scope=col>words</th><th scope=col>numbers</th><th scope=col>logicals</th></tr>\n",
       "\t<tr><th scope=col>&lt;chr&gt;</th><th scope=col>&lt;dbl&gt;</th><th scope=col>&lt;lgl&gt;</th></tr>\n",
       "</thead>\n",
       "<tbody>\n",
       "\t<tr><td>word        </td><td>1</td><td> TRUE</td></tr>\n",
       "\t<tr><td>another word</td><td>2</td><td>FALSE</td></tr>\n",
       "</tbody>\n",
       "</table>\n"
      ],
      "text/latex": [
       "A data.frame: 2 × 3\n",
       "\\begin{tabular}{lll}\n",
       " words & numbers & logicals\\\\\n",
       " <chr> & <dbl> & <lgl>\\\\\n",
       "\\hline\n",
       "\t word         & 1 &  TRUE\\\\\n",
       "\t another word & 2 & FALSE\\\\\n",
       "\\end{tabular}\n"
      ],
      "text/markdown": [
       "\n",
       "A data.frame: 2 × 3\n",
       "\n",
       "| words &lt;chr&gt; | numbers &lt;dbl&gt; | logicals &lt;lgl&gt; |\n",
       "|---|---|---|\n",
       "| word         | 1 |  TRUE |\n",
       "| another word | 2 | FALSE |\n",
       "\n"
      ],
      "text/plain": [
       "  words        numbers logicals\n",
       "1 word         1        TRUE   \n",
       "2 another word 2       FALSE   "
      ]
     },
     "metadata": {},
     "output_type": "display_data"
    }
   ],
   "source": [
    "a_dataframe <- data.frame(words = c(\"word\", \"another word\"), \n",
    "                         numbers = c(1, 2),\n",
    "                         logicals = c(TRUE, FALSE))\n",
    "\n",
    "a_dataframe"
   ]
  },
  {
   "cell_type": "code",
   "execution_count": 34,
   "id": "661c310e",
   "metadata": {},
   "outputs": [
    {
     "data": {
      "text/html": [
       "'list'"
      ],
      "text/latex": [
       "'list'"
      ],
      "text/markdown": [
       "'list'"
      ],
      "text/plain": [
       "[1] \"list\""
      ]
     },
     "metadata": {},
     "output_type": "display_data"
    }
   ],
   "source": [
    "typeof(a_dataframe)"
   ]
  },
  {
   "cell_type": "code",
   "execution_count": 35,
   "id": "ff8a5dd5",
   "metadata": {},
   "outputs": [
    {
     "data": {
      "text/html": [
       "'data.frame'"
      ],
      "text/latex": [
       "'data.frame'"
      ],
      "text/markdown": [
       "'data.frame'"
      ],
      "text/plain": [
       "[1] \"data.frame\""
      ]
     },
     "metadata": {},
     "output_type": "display_data"
    }
   ],
   "source": [
    "class(a_dataframe)"
   ]
  },
  {
   "cell_type": "markdown",
   "id": "f522dd13",
   "metadata": {},
   "source": [
    "Tibbles are from the `tidyverse` and are a special flavour of data frame that have:\n",
    "- ability to have grouped rows\n",
    "- more predictable subsetting behaviour when subsetting a single column\n",
    "- a nicer print method in RStudio\n",
    "\n",
    "We will mostly work with tibbles in R in MDS."
   ]
  },
  {
   "cell_type": "code",
   "execution_count": 36,
   "id": "3f9effca",
   "metadata": {},
   "outputs": [
    {
     "data": {
      "text/html": [
       "<table class=\"dataframe\">\n",
       "<caption>A tibble: 2 × 3</caption>\n",
       "<thead>\n",
       "\t<tr><th scope=col>words</th><th scope=col>numbers</th><th scope=col>logicals</th></tr>\n",
       "\t<tr><th scope=col>&lt;chr&gt;</th><th scope=col>&lt;dbl&gt;</th><th scope=col>&lt;lgl&gt;</th></tr>\n",
       "</thead>\n",
       "<tbody>\n",
       "\t<tr><td>word        </td><td>1</td><td> TRUE</td></tr>\n",
       "\t<tr><td>another word</td><td>2</td><td>FALSE</td></tr>\n",
       "</tbody>\n",
       "</table>\n"
      ],
      "text/latex": [
       "A tibble: 2 × 3\n",
       "\\begin{tabular}{lll}\n",
       " words & numbers & logicals\\\\\n",
       " <chr> & <dbl> & <lgl>\\\\\n",
       "\\hline\n",
       "\t word         & 1 &  TRUE\\\\\n",
       "\t another word & 2 & FALSE\\\\\n",
       "\\end{tabular}\n"
      ],
      "text/markdown": [
       "\n",
       "A tibble: 2 × 3\n",
       "\n",
       "| words &lt;chr&gt; | numbers &lt;dbl&gt; | logicals &lt;lgl&gt; |\n",
       "|---|---|---|\n",
       "| word         | 1 |  TRUE |\n",
       "| another word | 2 | FALSE |\n",
       "\n"
      ],
      "text/plain": [
       "  words        numbers logicals\n",
       "1 word         1        TRUE   \n",
       "2 another word 2       FALSE   "
      ]
     },
     "metadata": {},
     "output_type": "display_data"
    }
   ],
   "source": [
    "a_tibble <- tibble(words = c(\"word\", \"another word\"), \n",
    "                         numbers = c(1, 2),\n",
    "                         logicals = c(TRUE, FALSE))\n",
    "\n",
    "a_tibble"
   ]
  },
  {
   "cell_type": "code",
   "execution_count": 37,
   "id": "8c0dcee2",
   "metadata": {},
   "outputs": [
    {
     "data": {
      "text/html": [
       "'list'"
      ],
      "text/latex": [
       "'list'"
      ],
      "text/markdown": [
       "'list'"
      ],
      "text/plain": [
       "[1] \"list\""
      ]
     },
     "metadata": {},
     "output_type": "display_data"
    }
   ],
   "source": [
    "typeof(a_tibble)"
   ]
  },
  {
   "cell_type": "code",
   "execution_count": 38,
   "id": "c1db6ba9",
   "metadata": {},
   "outputs": [
    {
     "data": {
      "text/html": [
       "<style>\n",
       ".list-inline {list-style: none; margin:0; padding: 0}\n",
       ".list-inline>li {display: inline-block}\n",
       ".list-inline>li:not(:last-child)::after {content: \"\\00b7\"; padding: 0 .5ex}\n",
       "</style>\n",
       "<ol class=list-inline><li>'tbl_df'</li><li>'tbl'</li><li>'data.frame'</li></ol>\n"
      ],
      "text/latex": [
       "\\begin{enumerate*}\n",
       "\\item 'tbl\\_df'\n",
       "\\item 'tbl'\n",
       "\\item 'data.frame'\n",
       "\\end{enumerate*}\n"
      ],
      "text/markdown": [
       "1. 'tbl_df'\n",
       "2. 'tbl'\n",
       "3. 'data.frame'\n",
       "\n",
       "\n"
      ],
      "text/plain": [
       "[1] \"tbl_df\"     \"tbl\"        \"data.frame\""
      ]
     },
     "metadata": {},
     "output_type": "display_data"
    }
   ],
   "source": [
    "class(a_tibble)"
   ]
  },
  {
   "cell_type": "markdown",
   "id": "e6ba94c8",
   "metadata": {},
   "source": [
    "## 2. Using base R to subset objects\n",
    "\n",
    "There are 3 operators that can be used when subsetting data frames (and lists, as data frames are a special kind of list): \n",
    "\n",
    "- `[`\n",
    "- `$` \n",
    "- `[[`"
   ]
  },
  {
   "cell_type": "markdown",
   "id": "a5125b05",
   "metadata": {},
   "source": [
    "`[` usually* returns the same type of object:"
   ]
  },
  {
   "cell_type": "code",
   "execution_count": 39,
   "id": "53a32e1e",
   "metadata": {},
   "outputs": [
    {
     "data": {
      "text/html": [
       "<table class=\"dataframe\">\n",
       "<caption>A tibble: 2 × 1</caption>\n",
       "<thead>\n",
       "\t<tr><th scope=col>numbers</th></tr>\n",
       "\t<tr><th scope=col>&lt;dbl&gt;</th></tr>\n",
       "</thead>\n",
       "<tbody>\n",
       "\t<tr><td>1</td></tr>\n",
       "\t<tr><td>2</td></tr>\n",
       "</tbody>\n",
       "</table>\n"
      ],
      "text/latex": [
       "A tibble: 2 × 1\n",
       "\\begin{tabular}{l}\n",
       " numbers\\\\\n",
       " <dbl>\\\\\n",
       "\\hline\n",
       "\t 1\\\\\n",
       "\t 2\\\\\n",
       "\\end{tabular}\n"
      ],
      "text/markdown": [
       "\n",
       "A tibble: 2 × 1\n",
       "\n",
       "| numbers &lt;dbl&gt; |\n",
       "|---|\n",
       "| 1 |\n",
       "| 2 |\n",
       "\n"
      ],
      "text/plain": [
       "  numbers\n",
       "1 1      \n",
       "2 2      "
      ]
     },
     "metadata": {},
     "output_type": "display_data"
    }
   ],
   "source": [
    "a_tibble[ , 2]"
   ]
  },
  {
   "cell_type": "markdown",
   "id": "1ad90a41",
   "metadata": {},
   "source": [
    "The exception to this is the special case of a single column of a data frame..."
   ]
  },
  {
   "cell_type": "code",
   "execution_count": 40,
   "id": "8ce25002",
   "metadata": {},
   "outputs": [
    {
     "data": {
      "text/html": [
       "<style>\n",
       ".list-inline {list-style: none; margin:0; padding: 0}\n",
       ".list-inline>li {display: inline-block}\n",
       ".list-inline>li:not(:last-child)::after {content: \"\\00b7\"; padding: 0 .5ex}\n",
       "</style>\n",
       "<ol class=list-inline><li>1</li><li>2</li></ol>\n"
      ],
      "text/latex": [
       "\\begin{enumerate*}\n",
       "\\item 1\n",
       "\\item 2\n",
       "\\end{enumerate*}\n"
      ],
      "text/markdown": [
       "1. 1\n",
       "2. 2\n",
       "\n",
       "\n"
      ],
      "text/plain": [
       "[1] 1 2"
      ]
     },
     "metadata": {},
     "output_type": "display_data"
    }
   ],
   "source": [
    "a_dataframe[ , 2]"
   ]
  },
  {
   "cell_type": "markdown",
   "id": "b0af46ae",
   "metadata": {},
   "source": [
    "`$` returns the element with a layer of structure removed."
   ]
  },
  {
   "cell_type": "code",
   "execution_count": 41,
   "id": "25032267",
   "metadata": {},
   "outputs": [
    {
     "data": {
      "text/html": [
       "<style>\n",
       ".list-inline {list-style: none; margin:0; padding: 0}\n",
       ".list-inline>li {display: inline-block}\n",
       ".list-inline>li:not(:last-child)::after {content: \"\\00b7\"; padding: 0 .5ex}\n",
       "</style>\n",
       "<ol class=list-inline><li>1</li><li>2</li></ol>\n"
      ],
      "text/latex": [
       "\\begin{enumerate*}\n",
       "\\item 1\n",
       "\\item 2\n",
       "\\end{enumerate*}\n"
      ],
      "text/markdown": [
       "1. 1\n",
       "2. 2\n",
       "\n",
       "\n"
      ],
      "text/plain": [
       "[1] 1 2"
      ]
     },
     "metadata": {},
     "output_type": "display_data"
    }
   ],
   "source": [
    "a_tibble$numbers"
   ]
  },
  {
   "cell_type": "markdown",
   "id": "64d962ae",
   "metadata": {},
   "source": [
    "Note, the element must have a name for this to work!"
   ]
  },
  {
   "cell_type": "markdown",
   "id": "ba9af432",
   "metadata": {},
   "source": [
    "`[[` returns the element with a layer of structure removed:"
   ]
  },
  {
   "cell_type": "code",
   "execution_count": 42,
   "id": "349fcf73",
   "metadata": {},
   "outputs": [
    {
     "data": {
      "text/html": [
       "<style>\n",
       ".list-inline {list-style: none; margin:0; padding: 0}\n",
       ".list-inline>li {display: inline-block}\n",
       ".list-inline>li:not(:last-child)::after {content: \"\\00b7\"; padding: 0 .5ex}\n",
       "</style>\n",
       "<ol class=list-inline><li>1</li><li>2</li></ol>\n"
      ],
      "text/latex": [
       "\\begin{enumerate*}\n",
       "\\item 1\n",
       "\\item 2\n",
       "\\end{enumerate*}\n"
      ],
      "text/markdown": [
       "1. 1\n",
       "2. 2\n",
       "\n",
       "\n"
      ],
      "text/plain": [
       "[1] 1 2"
      ]
     },
     "metadata": {},
     "output_type": "display_data"
    }
   ],
   "source": [
    "a_tibble[[2]]"
   ]
  },
  {
   "cell_type": "markdown",
   "id": "cbab6d76",
   "metadata": {},
   "source": [
    "## 3. Tidyverse code style"
   ]
  },
  {
   "cell_type": "markdown",
   "id": "ca228edf",
   "metadata": {},
   "source": [
    "Let's fix some of the style issues together:"
   ]
  },
  {
   "cell_type": "code",
   "execution_count": null,
   "id": "da440765",
   "metadata": {},
   "outputs": [],
   "source": [
    "library(scatterplot3d)\n",
    "\n",
    "# Generates toy dataset to play around with clustering \n",
    "\n",
    "##Function to create toy 3 dimensional dataset\n",
    "\n",
    "\n",
    "make_toy_data <- function(means, stdevs, n) {\n",
    "  ##Returns a dataframe containing a 3D toy dataset \n",
    "  ##\n",
    "  ##Arguements: \n",
    "  ##\n",
    "  ##  means  <- a dataframe of 3 columns giving the means for each dimenstion of each cluster. Each row is a cluster.\n",
    "  ##  stdevs <- a dataframe of 3 columns giving the standard deviations for each dimenstion of each cluster. Each row is a cluster.\n",
    "  ##  n <- a value specifying the number of datapoints for each cluster\n",
    "  ##  dist  <- a vector specifying the type of distribution you would like each cluster data to be\n",
    "  \n",
    "  ##get how many clusters are wanted\n",
    "  cluster_n <- dim(means)[1]\n",
    "  \n",
    "  ##make an empty dataframe to hold the toy data\n",
    "  dim1 <- rep(0, n * cluster_n)\n",
    "  dim2 <- rep(0, n * cluster_n)\n",
    "  dim3 <- rep(0, n * cluster_n)\n",
    "  \n",
    "  ##for each cluster, generate toy data and save them in dim1\n",
    "  previous_n  <- 0\n",
    "  for (i in 1:cluster_n) {\n",
    "    temp <- rnorm(n, means[i, 1], stdevs[i, 1])\n",
    "    dim1[(previous_n + 1):((previous_n) + n)]  <- temp\n",
    "    previous_n  <- n + previous_n\n",
    "  }\n",
    "  \n",
    "  ##for each cluster, generate toy data and save them in dim2\n",
    "  previous_n  <- 0\n",
    "  for (i in 1:cluster_n) {\n",
    "    temp <- rnorm(n, means[i, 2], stdevs[i, 2])\n",
    "    dim2[(previous_n + 1):((previous_n) + n)]  <- temp\n",
    "    previous_n  <- n + previous_n\n",
    "  }\n",
    "  \n",
    "  ##for each cluster, generate toy data and save them in dim3\n",
    "  previous_n  <- 0\n",
    "  for (i in 1:cluster_n) {\n",
    "    temp <- rnorm(n, means[i, 3], stdevs[i, 3])\n",
    "    dim3[(previous_n + 1):((previous_n) + n)]  <- temp\n",
    "    previous_n  <- n + previous_n\n",
    "  }\n",
    "  \n",
    "  data.frame(dim1, dim2, dim3)\n",
    "\n",
    "}\n",
    "\n",
    "\n",
    "##define means for toy dataset clusters\n",
    "dim1_mean <- c(2, 50, 10)\n",
    "dim2_mean <- c(8, 6, 13)\n",
    "dim3_mean <- c(2, 2.5, 40)\n",
    "cluster_means <- data.frame(dim1_mean, dim2_mean, dim3_mean)\n",
    "\n",
    "##define standard deviations for toy dataset clusters\n",
    "dim1_stdev <- c(5, 1, 1)\n",
    "dim2_stdev <- c(5, 1, 1)\n",
    "dim3_stdev <- c(5, 1, 1)\n",
    "cluster_stdevs <- data.frame(dim1_stdev, dim2_stdev, dim3_stdev)\n",
    "\n",
    "##define number of samples wanted for each cluster\n",
    "cluster_n <- 200\n",
    "\n",
    "##make toy dataset using parameters specified above\n",
    "my_toy_df <- make_toy_data(cluster_means, cluster_stdevs, cluster_n)\n",
    "\n",
    "##save toy dataset to a .csv using comma as a delimitor\n",
    "write.table(my_toy_df, \n",
    "            \"toy_data.csv\", \n",
    "            sep = \",\", \n",
    "            row.names = FALSE, \n",
    "            col.names = FALSE, \n",
    "            quote = FALSE, \n",
    "            append = FALSE)\n",
    "\n",
    "# Change the data frame with training data to a matrix\n",
    "#not scaled and centred but as a matrix\n",
    "my_toy_df_matrix <- as.matrix(my_toy_df)\n",
    "##plot unclustered data\n",
    "scatterplot3d(my_toy_df_matrix)\n",
    "\n",
    "par(mfrow = c(1,3))\n",
    "plot(my_toy_df_matrix[ , 1], my_toy_df_matrix[ , 2])\n",
    "plot(my_toy_df_matrix[ , 2], my_toy_df_matrix[ , 3])\n",
    "plot(my_toy_df_matrix[ , 3], my_toy_df_matrix[ , 1])"
   ]
  }
 ],
 "metadata": {
  "kernelspec": {
   "display_name": "R",
   "language": "R",
   "name": "ir"
  },
  "language_info": {
   "codemirror_mode": "r",
   "file_extension": ".r",
   "mimetype": "text/x-r-source",
   "name": "R",
   "pygments_lexer": "r",
   "version": "4.2.1"
  }
 },
 "nbformat": 4,
 "nbformat_minor": 5
}
