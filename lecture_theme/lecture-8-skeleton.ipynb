{
 "cells": [
  {
   "cell_type": "markdown",
   "metadata": {},
   "source": [
    "## Announcements\n",
    "\n",
    "- Sample quiz I will release today\n",
    "- Lab 3 grades before Friday morning. (I don't want to give you a warning, so please read https://ubc-mds.github.io/policies/#re-grading )\n",
    "- All solutions will be posted before Sunday morning.\n",
    "- Today's events \n",
    "    - until approx 1 PM, I will be here. \n",
    "    - 1 - 2 PM Andy ORCH 4074, \n",
    "    - 2 - 4 PM Lab ORCH 4074, \n",
    "    - 4 - 5 PM Yulia ORCH 4074\n",
    "    - 4 - New programmers session \n",
    "- Evaluation (10 min)\n",
    "\n",
    "## Lecture 8 theme\n",
    "\n",
    "Key theme to this lecture:\n",
    "\n",
    "1. Tidy evaluation"
   ]
  },
  {
   "cell_type": "code",
   "execution_count": 1,
   "metadata": {},
   "outputs": [
    {
     "name": "stderr",
     "output_type": "stream",
     "text": [
      "── \u001b[1mAttaching packages\u001b[22m ────────────────────────────────────────────────────────────────────────────────────────────────────────────────────────────────────────── tidyverse 1.3.2 ──\n",
      "\u001b[32m✔\u001b[39m \u001b[34mggplot2\u001b[39m 3.3.6     \u001b[32m✔\u001b[39m \u001b[34mpurrr  \u001b[39m 0.3.4\n",
      "\u001b[32m✔\u001b[39m \u001b[34mtibble \u001b[39m 3.1.8     \u001b[32m✔\u001b[39m \u001b[34mdplyr  \u001b[39m 1.0.9\n",
      "\u001b[32m✔\u001b[39m \u001b[34mtidyr  \u001b[39m 1.2.0     \u001b[32m✔\u001b[39m \u001b[34mstringr\u001b[39m 1.4.1\n",
      "\u001b[32m✔\u001b[39m \u001b[34mreadr  \u001b[39m 2.1.2     \u001b[32m✔\u001b[39m \u001b[34mforcats\u001b[39m 0.5.1\n",
      "── \u001b[1mConflicts\u001b[22m ───────────────────────────────────────────────────────────────────────────────────────────────────────────────────────────────────────────── tidyverse_conflicts() ──\n",
      "\u001b[31m✖\u001b[39m \u001b[34mdplyr\u001b[39m::\u001b[32mfilter()\u001b[39m masks \u001b[34mstats\u001b[39m::filter()\n",
      "\u001b[31m✖\u001b[39m \u001b[34mdplyr\u001b[39m::\u001b[32mlag()\u001b[39m    masks \u001b[34mstats\u001b[39m::lag()\n"
     ]
    }
   ],
   "source": [
    "library(gapminder)\n",
    "library(tidyverse)\n",
    "options(repr.matrix.max.rows = 5)\n",
    "# library(rlang)"
   ]
  },
  {
   "cell_type": "markdown",
   "metadata": {},
   "source": [
    "## Tidy evaluation comes in two forms; \n",
    "- Data masking ( we are going to cover this)\n",
    "- Tidy selection (we will not cover this)\n",
    "\n",
    "This is a deep topic, and there is A LOT that can be learned \n",
    "\n",
    "My Goal: Make you capable of writing functions that call tidyverse functions.\n",
    "\n",
    "If you want to go further, go for it! but that is beyond the scope of MDS.\n",
    "## Some terms before we get started:\n",
    "- ***Data masking:*** blurs the lines between environment variables and data variables.\n",
    "- ***Environment variables:***  Variables that live in an environment and usually get created with `<-` \n",
    "- ***Data variables:*** Statistical variables that live in a data frame.\n",
    "\n",
    "## Example to aid with definitions:"
   ]
  },
  {
   "cell_type": "code",
   "execution_count": 2,
   "metadata": {},
   "outputs": [
    {
     "data": {
      "text/html": [
       "<style>\n",
       ".list-inline {list-style: none; margin:0; padding: 0}\n",
       ".list-inline>li {display: inline-block}\n",
       ".list-inline>li:not(:last-child)::after {content: \"\\00b7\"; padding: 0 .5ex}\n",
       "</style>\n",
       "<ol class=list-inline><li>1</li><li>2</li><li>3</li></ol>\n"
      ],
      "text/latex": [
       "\\begin{enumerate*}\n",
       "\\item 1\n",
       "\\item 2\n",
       "\\item 3\n",
       "\\end{enumerate*}\n"
      ],
      "text/markdown": [
       "1. 1\n",
       "2. 2\n",
       "3. 3\n",
       "\n",
       "\n"
      ],
      "text/plain": [
       "[1] 1 2 3"
      ]
     },
     "metadata": {},
     "output_type": "display_data"
    },
    {
     "data": {
      "text/html": [
       "<table class=\"dataframe\">\n",
       "<caption>A data.frame: 3 × 1</caption>\n",
       "<thead>\n",
       "\t<tr><th scope=col>col1</th></tr>\n",
       "\t<tr><th scope=col>&lt;int&gt;</th></tr>\n",
       "</thead>\n",
       "<tbody>\n",
       "\t<tr><td>1</td></tr>\n",
       "\t<tr><td>2</td></tr>\n",
       "\t<tr><td>3</td></tr>\n",
       "</tbody>\n",
       "</table>\n"
      ],
      "text/latex": [
       "A data.frame: 3 × 1\n",
       "\\begin{tabular}{l}\n",
       " col1\\\\\n",
       " <int>\\\\\n",
       "\\hline\n",
       "\t 1\\\\\n",
       "\t 2\\\\\n",
       "\t 3\\\\\n",
       "\\end{tabular}\n"
      ],
      "text/markdown": [
       "\n",
       "A data.frame: 3 × 1\n",
       "\n",
       "| col1 &lt;int&gt; |\n",
       "|---|\n",
       "| 1 |\n",
       "| 2 |\n",
       "| 3 |\n",
       "\n"
      ],
      "text/plain": [
       "  col1\n",
       "1 1   \n",
       "2 2   \n",
       "3 3   "
      ]
     },
     "metadata": {},
     "output_type": "display_data"
    }
   ],
   "source": [
    "dataframe <- data.frame(col1 = 1:3,col2 = 5:7)\n",
    "dataframe$col1\n",
    "# col1\n",
    "select(dataframe,col1)\n",
    "# col1"
   ]
  },
  {
   "cell_type": "markdown",
   "metadata": {},
   "source": [
    "## Writing functions with unquoted column names\n",
    "\n",
    "Let's use `gapminder` again so that we can keep our focus on the task at hand:\n"
   ]
  },
  {
   "cell_type": "code",
   "execution_count": 3,
   "metadata": {},
   "outputs": [
    {
     "data": {
      "text/html": [
       "<table class=\"dataframe\">\n",
       "<caption>A tibble: 1704 × 6</caption>\n",
       "<thead>\n",
       "\t<tr><th scope=col>country</th><th scope=col>continent</th><th scope=col>year</th><th scope=col>lifeExp</th><th scope=col>pop</th><th scope=col>gdpPercap</th></tr>\n",
       "\t<tr><th scope=col>&lt;fct&gt;</th><th scope=col>&lt;fct&gt;</th><th scope=col>&lt;int&gt;</th><th scope=col>&lt;dbl&gt;</th><th scope=col>&lt;int&gt;</th><th scope=col>&lt;dbl&gt;</th></tr>\n",
       "</thead>\n",
       "<tbody>\n",
       "\t<tr><td>Afghanistan</td><td>Asia</td><td>1952</td><td>28.801</td><td> 8425333</td><td>779.4453</td></tr>\n",
       "\t<tr><td>Afghanistan</td><td>Asia</td><td>1957</td><td>30.332</td><td> 9240934</td><td>820.8530</td></tr>\n",
       "\t<tr><td>Afghanistan</td><td>Asia</td><td>1962</td><td>31.997</td><td>10267083</td><td>853.1007</td></tr>\n",
       "\t<tr><td>⋮</td><td>⋮</td><td>⋮</td><td>⋮</td><td>⋮</td><td>⋮</td></tr>\n",
       "\t<tr><td>Zimbabwe</td><td>Africa</td><td>2002</td><td>39.989</td><td>11926563</td><td>672.0386</td></tr>\n",
       "\t<tr><td>Zimbabwe</td><td>Africa</td><td>2007</td><td>43.487</td><td>12311143</td><td>469.7093</td></tr>\n",
       "</tbody>\n",
       "</table>\n"
      ],
      "text/latex": [
       "A tibble: 1704 × 6\n",
       "\\begin{tabular}{llllll}\n",
       " country & continent & year & lifeExp & pop & gdpPercap\\\\\n",
       " <fct> & <fct> & <int> & <dbl> & <int> & <dbl>\\\\\n",
       "\\hline\n",
       "\t Afghanistan & Asia & 1952 & 28.801 &  8425333 & 779.4453\\\\\n",
       "\t Afghanistan & Asia & 1957 & 30.332 &  9240934 & 820.8530\\\\\n",
       "\t Afghanistan & Asia & 1962 & 31.997 & 10267083 & 853.1007\\\\\n",
       "\t ⋮ & ⋮ & ⋮ & ⋮ & ⋮ & ⋮\\\\\n",
       "\t Zimbabwe & Africa & 2002 & 39.989 & 11926563 & 672.0386\\\\\n",
       "\t Zimbabwe & Africa & 2007 & 43.487 & 12311143 & 469.7093\\\\\n",
       "\\end{tabular}\n"
      ],
      "text/markdown": [
       "\n",
       "A tibble: 1704 × 6\n",
       "\n",
       "| country &lt;fct&gt; | continent &lt;fct&gt; | year &lt;int&gt; | lifeExp &lt;dbl&gt; | pop &lt;int&gt; | gdpPercap &lt;dbl&gt; |\n",
       "|---|---|---|---|---|---|\n",
       "| Afghanistan | Asia | 1952 | 28.801 |  8425333 | 779.4453 |\n",
       "| Afghanistan | Asia | 1957 | 30.332 |  9240934 | 820.8530 |\n",
       "| Afghanistan | Asia | 1962 | 31.997 | 10267083 | 853.1007 |\n",
       "| ⋮ | ⋮ | ⋮ | ⋮ | ⋮ | ⋮ |\n",
       "| Zimbabwe | Africa | 2002 | 39.989 | 11926563 | 672.0386 |\n",
       "| Zimbabwe | Africa | 2007 | 43.487 | 12311143 | 469.7093 |\n",
       "\n"
      ],
      "text/plain": [
       "     country     continent year lifeExp pop      gdpPercap\n",
       "1    Afghanistan Asia      1952 28.801   8425333 779.4453 \n",
       "2    Afghanistan Asia      1957 30.332   9240934 820.8530 \n",
       "3    Afghanistan Asia      1962 31.997  10267083 853.1007 \n",
       "⋮    ⋮           ⋮         ⋮    ⋮       ⋮        ⋮        \n",
       "1703 Zimbabwe    Africa    2002 39.989  11926563 672.0386 \n",
       "1704 Zimbabwe    Africa    2007 43.487  12311143 469.7093 "
      ]
     },
     "metadata": {},
     "output_type": "display_data"
    }
   ],
   "source": [
    "gapminder"
   ]
  },
  {
   "cell_type": "markdown",
   "metadata": {},
   "source": [
    "Let's now write a function which gives summaries of central tendencies (e.g., mean, median, mode) for  a numeric column. When we do this, we need to embrace the column names with `{{`:\n",
    "\n"
   ]
  },
  {
   "cell_type": "code",
   "execution_count": 4,
   "metadata": {},
   "outputs": [],
   "source": [
    "central_tendency <- function(data, col) {\n",
    "  data %>% \n",
    "    summarise(mean = mean( {{ col }}, na.rm = TRUE),\n",
    "              median = median( {{ col }} , na.rm = TRUE))\n",
    "}"
   ]
  },
  {
   "cell_type": "markdown",
   "metadata": {},
   "source": [
    "Now let's use that function to learn about the `lifeExp` column of the `gapminder` data set:\n",
    "\n"
   ]
  },
  {
   "cell_type": "code",
   "execution_count": 5,
   "metadata": {},
   "outputs": [
    {
     "data": {
      "text/html": [
       "<table class=\"dataframe\">\n",
       "<caption>A tibble: 1 × 2</caption>\n",
       "<thead>\n",
       "\t<tr><th scope=col>mean</th><th scope=col>median</th></tr>\n",
       "\t<tr><th scope=col>&lt;dbl&gt;</th><th scope=col>&lt;dbl&gt;</th></tr>\n",
       "</thead>\n",
       "<tbody>\n",
       "\t<tr><td>59.47444</td><td>60.7125</td></tr>\n",
       "</tbody>\n",
       "</table>\n"
      ],
      "text/latex": [
       "A tibble: 1 × 2\n",
       "\\begin{tabular}{ll}\n",
       " mean & median\\\\\n",
       " <dbl> & <dbl>\\\\\n",
       "\\hline\n",
       "\t 59.47444 & 60.7125\\\\\n",
       "\\end{tabular}\n"
      ],
      "text/markdown": [
       "\n",
       "A tibble: 1 × 2\n",
       "\n",
       "| mean &lt;dbl&gt; | median &lt;dbl&gt; |\n",
       "|---|---|\n",
       "| 59.47444 | 60.7125 |\n",
       "\n"
      ],
      "text/plain": [
       "  mean     median \n",
       "1 59.47444 60.7125"
      ]
     },
     "metadata": {},
     "output_type": "display_data"
    }
   ],
   "source": [
    "central_tendency(gapminder, lifeExp)"
   ]
  },
  {
   "cell_type": "markdown",
   "metadata": {},
   "source": [
    "## Assignment with `:=`\n",
    "\n",
    "When using embraced column names on the left-hand side of assignment, you need to use the `:=` to get the code blueprint right. Let's try adding the option of giving our summarised data frame flexible column names to the function we wrote above:\n"
   ]
  },
  {
   "cell_type": "code",
   "execution_count": 6,
   "metadata": {},
   "outputs": [],
   "source": [
    "central_tendency <- function(data, col, mean_col_name, median_col_name) {\n",
    "  data %>% \n",
    "    summarise({{ mean_col_name }} := mean({{ col }}, na.rm = TRUE),\n",
    "              {{ median_col_name }} := median({{ col }}, na.rm = TRUE))\n",
    "}"
   ]
  },
  {
   "cell_type": "markdown",
   "metadata": {},
   "source": [
    "Now let's use that function to learn about the `lifeExp` column of the `gapminder` data set:\n",
    "\n"
   ]
  },
  {
   "cell_type": "code",
   "execution_count": 7,
   "metadata": {},
   "outputs": [
    {
     "data": {
      "text/html": [
       "<table class=\"dataframe\">\n",
       "<caption>A tibble: 1 × 2</caption>\n",
       "<thead>\n",
       "\t<tr><th scope=col>mean_life_exp</th><th scope=col>med_life_exp</th></tr>\n",
       "\t<tr><th scope=col>&lt;dbl&gt;</th><th scope=col>&lt;dbl&gt;</th></tr>\n",
       "</thead>\n",
       "<tbody>\n",
       "\t<tr><td>59.47444</td><td>60.7125</td></tr>\n",
       "</tbody>\n",
       "</table>\n"
      ],
      "text/latex": [
       "A tibble: 1 × 2\n",
       "\\begin{tabular}{ll}\n",
       " mean\\_life\\_exp & med\\_life\\_exp\\\\\n",
       " <dbl> & <dbl>\\\\\n",
       "\\hline\n",
       "\t 59.47444 & 60.7125\\\\\n",
       "\\end{tabular}\n"
      ],
      "text/markdown": [
       "\n",
       "A tibble: 1 × 2\n",
       "\n",
       "| mean_life_exp &lt;dbl&gt; | med_life_exp &lt;dbl&gt; |\n",
       "|---|---|\n",
       "| 59.47444 | 60.7125 |\n",
       "\n"
      ],
      "text/plain": [
       "  mean_life_exp med_life_exp\n",
       "1 59.47444      60.7125     "
      ]
     },
     "metadata": {},
     "output_type": "display_data"
    }
   ],
   "source": [
    "central_tendency(gapminder, lifeExp, mean_life_exp, med_life_exp)"
   ]
  },
  {
   "cell_type": "markdown",
   "metadata": {},
   "source": [
    "## Passing the dots\n",
    "\n",
    "There can be a lot of braces when embracing column names, and making mistakes can be easy... So when possible, passing the dots is a nice alternative. Also, it lets you take multiple values separated by commas - which can be helpful when wrapping things like `filter` and `select`.\n",
    "\n",
    "Here we write a function\n"
   ]
  },
  {
   "cell_type": "code",
   "execution_count": 8,
   "metadata": {},
   "outputs": [],
   "source": [
    "filter_and_arrange <- function(data, arrange_by, ...) {\n",
    "  data %>% \n",
    "    filter(...) %>% \n",
    "    arrange({{ arrange_by }})\n",
    "}"
   ]
  },
  {
   "cell_type": "markdown",
   "metadata": {},
   "source": [
    "Now let's use that function:\n",
    "\n"
   ]
  },
  {
   "cell_type": "code",
   "execution_count": 9,
   "metadata": {},
   "outputs": [
    {
     "data": {
      "text/html": [
       "<table class=\"dataframe\">\n",
       "<caption>A tibble: 1704 × 6</caption>\n",
       "<thead>\n",
       "\t<tr><th scope=col>country</th><th scope=col>continent</th><th scope=col>year</th><th scope=col>lifeExp</th><th scope=col>pop</th><th scope=col>gdpPercap</th></tr>\n",
       "\t<tr><th scope=col>&lt;fct&gt;</th><th scope=col>&lt;fct&gt;</th><th scope=col>&lt;int&gt;</th><th scope=col>&lt;dbl&gt;</th><th scope=col>&lt;int&gt;</th><th scope=col>&lt;dbl&gt;</th></tr>\n",
       "</thead>\n",
       "<tbody>\n",
       "\t<tr><td>Sao Tome and Principe</td><td>Africa</td><td>1952</td><td>46.471</td><td>60011</td><td> 879.5836</td></tr>\n",
       "\t<tr><td>Sao Tome and Principe</td><td>Africa</td><td>1957</td><td>48.945</td><td>61325</td><td> 860.7369</td></tr>\n",
       "\t<tr><td>Djibouti             </td><td>Africa</td><td>1952</td><td>34.812</td><td>63149</td><td>2669.5295</td></tr>\n",
       "\t<tr><td>⋮</td><td>⋮</td><td>⋮</td><td>⋮</td><td>⋮</td><td>⋮</td></tr>\n",
       "\t<tr><td>China</td><td>Asia</td><td>2002</td><td>72.028</td><td>1280400000</td><td>3119.281</td></tr>\n",
       "\t<tr><td>China</td><td>Asia</td><td>2007</td><td>72.961</td><td>1318683096</td><td>4959.115</td></tr>\n",
       "</tbody>\n",
       "</table>\n"
      ],
      "text/latex": [
       "A tibble: 1704 × 6\n",
       "\\begin{tabular}{llllll}\n",
       " country & continent & year & lifeExp & pop & gdpPercap\\\\\n",
       " <fct> & <fct> & <int> & <dbl> & <int> & <dbl>\\\\\n",
       "\\hline\n",
       "\t Sao Tome and Principe & Africa & 1952 & 46.471 & 60011 &  879.5836\\\\\n",
       "\t Sao Tome and Principe & Africa & 1957 & 48.945 & 61325 &  860.7369\\\\\n",
       "\t Djibouti              & Africa & 1952 & 34.812 & 63149 & 2669.5295\\\\\n",
       "\t ⋮ & ⋮ & ⋮ & ⋮ & ⋮ & ⋮\\\\\n",
       "\t China & Asia & 2002 & 72.028 & 1280400000 & 3119.281\\\\\n",
       "\t China & Asia & 2007 & 72.961 & 1318683096 & 4959.115\\\\\n",
       "\\end{tabular}\n"
      ],
      "text/markdown": [
       "\n",
       "A tibble: 1704 × 6\n",
       "\n",
       "| country &lt;fct&gt; | continent &lt;fct&gt; | year &lt;int&gt; | lifeExp &lt;dbl&gt; | pop &lt;int&gt; | gdpPercap &lt;dbl&gt; |\n",
       "|---|---|---|---|---|---|\n",
       "| Sao Tome and Principe | Africa | 1952 | 46.471 | 60011 |  879.5836 |\n",
       "| Sao Tome and Principe | Africa | 1957 | 48.945 | 61325 |  860.7369 |\n",
       "| Djibouti              | Africa | 1952 | 34.812 | 63149 | 2669.5295 |\n",
       "| ⋮ | ⋮ | ⋮ | ⋮ | ⋮ | ⋮ |\n",
       "| China | Asia | 2002 | 72.028 | 1280400000 | 3119.281 |\n",
       "| China | Asia | 2007 | 72.961 | 1318683096 | 4959.115 |\n",
       "\n"
      ],
      "text/plain": [
       "     country               continent year lifeExp pop        gdpPercap\n",
       "1    Sao Tome and Principe Africa    1952 46.471  60011       879.5836\n",
       "2    Sao Tome and Principe Africa    1957 48.945  61325       860.7369\n",
       "3    Djibouti              Africa    1952 34.812  63149      2669.5295\n",
       "⋮    ⋮                     ⋮         ⋮    ⋮       ⋮          ⋮        \n",
       "1703 China                 Asia      2002 72.028  1280400000 3119.281 \n",
       "1704 China                 Asia      2007 72.961  1318683096 4959.115 "
      ]
     },
     "metadata": {},
     "output_type": "display_data"
    }
   ],
   "source": [
    "filter_and_arrange(gapminder, pop)"
   ]
  },
  {
   "cell_type": "markdown",
   "metadata": {},
   "source": [
    "And again this time with two criteria to filter on:\n",
    "\n"
   ]
  },
  {
   "cell_type": "code",
   "execution_count": 10,
   "metadata": {},
   "outputs": [
    {
     "data": {
      "text/html": [
       "<table class=\"dataframe\">\n",
       "<caption>A tibble: 4 × 6</caption>\n",
       "<thead>\n",
       "\t<tr><th scope=col>country</th><th scope=col>continent</th><th scope=col>year</th><th scope=col>lifeExp</th><th scope=col>pop</th><th scope=col>gdpPercap</th></tr>\n",
       "\t<tr><th scope=col>&lt;fct&gt;</th><th scope=col>&lt;fct&gt;</th><th scope=col>&lt;int&gt;</th><th scope=col>&lt;dbl&gt;</th><th scope=col>&lt;int&gt;</th><th scope=col>&lt;dbl&gt;</th></tr>\n",
       "</thead>\n",
       "<tbody>\n",
       "\t<tr><td>New Zealand</td><td>Oceania</td><td>2002</td><td>79.110</td><td> 3908037</td><td>23189.80</td></tr>\n",
       "\t<tr><td>New Zealand</td><td>Oceania</td><td>2007</td><td>80.204</td><td> 4115771</td><td>25185.01</td></tr>\n",
       "\t<tr><td>Australia  </td><td>Oceania</td><td>2002</td><td>80.370</td><td>19546792</td><td>30687.75</td></tr>\n",
       "\t<tr><td>Australia  </td><td>Oceania</td><td>2007</td><td>81.235</td><td>20434176</td><td>34435.37</td></tr>\n",
       "</tbody>\n",
       "</table>\n"
      ],
      "text/latex": [
       "A tibble: 4 × 6\n",
       "\\begin{tabular}{llllll}\n",
       " country & continent & year & lifeExp & pop & gdpPercap\\\\\n",
       " <fct> & <fct> & <int> & <dbl> & <int> & <dbl>\\\\\n",
       "\\hline\n",
       "\t New Zealand & Oceania & 2002 & 79.110 &  3908037 & 23189.80\\\\\n",
       "\t New Zealand & Oceania & 2007 & 80.204 &  4115771 & 25185.01\\\\\n",
       "\t Australia   & Oceania & 2002 & 80.370 & 19546792 & 30687.75\\\\\n",
       "\t Australia   & Oceania & 2007 & 81.235 & 20434176 & 34435.37\\\\\n",
       "\\end{tabular}\n"
      ],
      "text/markdown": [
       "\n",
       "A tibble: 4 × 6\n",
       "\n",
       "| country &lt;fct&gt; | continent &lt;fct&gt; | year &lt;int&gt; | lifeExp &lt;dbl&gt; | pop &lt;int&gt; | gdpPercap &lt;dbl&gt; |\n",
       "|---|---|---|---|---|---|\n",
       "| New Zealand | Oceania | 2002 | 79.110 |  3908037 | 23189.80 |\n",
       "| New Zealand | Oceania | 2007 | 80.204 |  4115771 | 25185.01 |\n",
       "| Australia   | Oceania | 2002 | 80.370 | 19546792 | 30687.75 |\n",
       "| Australia   | Oceania | 2007 | 81.235 | 20434176 | 34435.37 |\n",
       "\n"
      ],
      "text/plain": [
       "  country     continent year lifeExp pop      gdpPercap\n",
       "1 New Zealand Oceania   2002 79.110   3908037 23189.80 \n",
       "2 New Zealand Oceania   2007 80.204   4115771 25185.01 \n",
       "3 Australia   Oceania   2002 80.370  19546792 30687.75 \n",
       "4 Australia   Oceania   2007 81.235  20434176 34435.37 "
      ]
     },
     "metadata": {},
     "output_type": "display_data"
    }
   ],
   "source": [
    "filter_and_arrange(gapminder, pop, continent == \"Oceania\", year > 1999)"
   ]
  },
  {
   "cell_type": "markdown",
   "metadata": {},
   "source": [
    "## What did we learn?\n",
    "- data masking and its role in tidy evaluation\n",
    "- programming with tidy-evaluated functions by embracing column names `{{ }}`\n",
    "- the walrus `:=` operator for assignment when programming with tidy-evaluated functions\n",
    "- Examples of pass the dots `...`"
   ]
  },
  {
   "cell_type": "markdown",
   "metadata": {},
   "source": [
    "<img src=\"data/thanks.png\">"
   ]
  }
 ],
 "metadata": {
  "anaconda-cloud": "",
  "kernelspec": {
   "display_name": "R",
   "language": "R",
   "name": "ir"
  },
  "language_info": {
   "codemirror_mode": "r",
   "file_extension": ".r",
   "mimetype": "text/x-r-source",
   "name": "R",
   "pygments_lexer": "r",
   "version": "4.2.1"
  }
 },
 "nbformat": 4,
 "nbformat_minor": 4
}
