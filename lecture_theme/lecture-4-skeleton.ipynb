{
 "cells": [
  {
   "cell_type": "markdown",
   "id": "cdcbab8c",
   "metadata": {},
   "source": [
    "## Lecture 4"
   ]
  },
  {
   "cell_type": "markdown",
   "id": "343cf04c-269d-4e09-b8e8-a4d2c089f6ea",
   "metadata": {},
   "source": [
    "## Logistics:\n",
    "- All important links are bookmarked on top of the canvas;\n",
    "- I expect you to spend 30 - 40 min before the lecture going over lecture notes.\n",
    "- [Here you can find issues](https://github.ubc.ca/MDS-2022-23/DSCI_523_r-prog_students/issues) where you can ask questions and mention topics that you would like me to go over. If none is there, I will go with the default theme.\n",
    "- You can find theme lecture notes [here.](https://github.ubc.ca/MDS-2022-23/DSCI_523_r-prog_students/tree/master/lecture_theme)\n",
    "- Time when things get released.\n",
    "    - Lab Monday morning\n",
    "    - Lecture notes for that week before Monday morning.\n",
    "    - Worksheets before the lecture\n",
    "    - Lecture theme notes before 10 PM on the lecture day.\n",
    "    - Lecture recording 5 PM on the lecture day.\n",
    "    - Solutions after the grade release.\n",
    "    - Practice Quiz"
   ]
  },
  {
   "cell_type": "markdown",
   "id": "83859256-f1b6-4f39-85bb-5d8b202a6c5b",
   "metadata": {},
   "source": [
    "## Half way refresher\n",
    "<img src=\"data/halfway.png\" width=290>\n",
    "\n",
    "- Checkout Vizualization using https://tidydatatutor.com\n",
    "\n",
    "```\n",
    "library(dplyr)\n",
    "library(palmerpenguins)\n",
    "\n",
    "set.seed(2021-12-03)\n",
    "\n",
    "sample_penguins <- penguins %>%\n",
    "  group_by(species) %>% \n",
    "  sample_n(3) %>% \n",
    "  select(species, bill_length_mm) %>% \n",
    "  ungroup()\n",
    "\n",
    "sample_penguins %>% \n",
    "  filter(bill_length_mm > 45) %>% \n",
    "  mutate(bill_length_cm = bill_length_mm/10) %>% \n",
    "  select(species, bill_length_cm) %>% \n",
    "  arrange(desc(bill_length_cm)) %>%\n",
    "  slice(1)\n",
    "```\n",
    "***CLICKER 1***"
   ]
  },
  {
   "cell_type": "code",
   "execution_count": 42,
   "id": "ccf64c4b-1aa5-402b-a1b4-ed730becca44",
   "metadata": {
    "tags": [
     "hide"
    ]
   },
   "outputs": [
    {
     "data": {
      "text/html": [
       "'singing'"
      ],
      "text/latex": [
       "'singing'"
      ],
      "text/markdown": [
       "'singing'"
      ],
      "text/plain": [
       "[1] \"singing\""
      ]
     },
     "metadata": {},
     "output_type": "display_data"
    }
   ],
   "source": [
    "library(tidyverse)\n",
    "extracurricular <-  tibble(name = c(\"Tiff\",\"James\",\"Mike\",\"Matt\",\"Yan\"),\n",
    "       category = as.factor(c(\"sports\",\"sports\",\"singing\",\"singing\",\"dance\")),\n",
    "       age = c(24,25,31,31,13))\n",
    "# print(extracurricular)\n",
    "extracurricular |> filter(age == 31) |> pull(category) |> fct_drop() |> levels()\n",
    "# extracurricular$category |> fct_drop() |> levels()"
   ]
  },
  {
   "cell_type": "markdown",
   "id": "fc9883b8-5a54-4e3a-85ec-2e8941541135",
   "metadata": {},
   "source": [
    "## Today's theme \n",
    "Helpful links\n",
    "- https://www.garrickadenbuie.com/project/tidyexplain/#inner-join"
   ]
  },
  {
   "cell_type": "markdown",
   "id": "214e51d5-0b99-4106-a952-331579e08095",
   "metadata": {},
   "source": [
    "There are 3 key themes to this lecture:\n",
    "\n",
    "1. joins\n",
    "\n",
    "2. for loops\n",
    "\n",
    "3. if, if else and else statements"
   ]
  },
  {
   "cell_type": "markdown",
   "id": "7cfe1616",
   "metadata": {},
   "source": [
    "First, let's load the packages we need:"
   ]
  },
  {
   "cell_type": "code",
   "execution_count": 20,
   "id": "c2d8e681",
   "metadata": {},
   "outputs": [],
   "source": [
    "library(tidyverse)"
   ]
  },
  {
   "cell_type": "markdown",
   "id": "774677cd",
   "metadata": {},
   "source": [
    "*Note: if you have to install an R package that exists on CRAN, the command is: `install.packages(\"PACKAGE_NAME\")`.*"
   ]
  },
  {
   "cell_type": "markdown",
   "id": "8d17b4f3",
   "metadata": {},
   "source": [
    "And then let's limit the output of data frames in Jupyter to 6 lines:"
   ]
  },
  {
   "cell_type": "code",
   "execution_count": 21,
   "id": "92582eaf",
   "metadata": {},
   "outputs": [],
   "source": [
    "options(repr.matrix.max.rows = 6)"
   ]
  },
  {
   "cell_type": "markdown",
   "id": "7315a221",
   "metadata": {},
   "source": [
    "## 1. Joins\n",
    "\n",
    "You can smash things together row-wise (“row binding”) or column-wise (“column binding”) using binding. You might sometimes get into situations where you want to perform row bind, but it is best to avoid column bind whenever you can. But it is best to avoid those if you can. Joins let us combine multiple data frames in useful ways, and were inspired by the database query language SQL. Let's practice a few of the most common joins you might practice in your data science work with the `band_members` and `band_instruments` data frames from the `dplyr` package."
   ]
  },
  {
   "cell_type": "code",
   "execution_count": 3,
   "id": "819b50b1",
   "metadata": {},
   "outputs": [
    {
     "data": {
      "text/html": [
       "<table class=\"dataframe\">\n",
       "<caption>A tibble: 3 × 2</caption>\n",
       "<thead>\n",
       "\t<tr><th scope=col>name</th><th scope=col>band</th></tr>\n",
       "\t<tr><th scope=col>&lt;chr&gt;</th><th scope=col>&lt;chr&gt;</th></tr>\n",
       "</thead>\n",
       "<tbody>\n",
       "\t<tr><td>Mick</td><td>Stones </td></tr>\n",
       "\t<tr><td>John</td><td>Beatles</td></tr>\n",
       "\t<tr><td>Paul</td><td>Beatles</td></tr>\n",
       "</tbody>\n",
       "</table>\n"
      ],
      "text/latex": [
       "A tibble: 3 × 2\n",
       "\\begin{tabular}{ll}\n",
       " name & band\\\\\n",
       " <chr> & <chr>\\\\\n",
       "\\hline\n",
       "\t Mick & Stones \\\\\n",
       "\t John & Beatles\\\\\n",
       "\t Paul & Beatles\\\\\n",
       "\\end{tabular}\n"
      ],
      "text/markdown": [
       "\n",
       "A tibble: 3 × 2\n",
       "\n",
       "| name &lt;chr&gt; | band &lt;chr&gt; |\n",
       "|---|---|\n",
       "| Mick | Stones  |\n",
       "| John | Beatles |\n",
       "| Paul | Beatles |\n",
       "\n"
      ],
      "text/plain": [
       "  name band   \n",
       "1 Mick Stones \n",
       "2 John Beatles\n",
       "3 Paul Beatles"
      ]
     },
     "metadata": {},
     "output_type": "display_data"
    }
   ],
   "source": [
    "band_members"
   ]
  },
  {
   "cell_type": "code",
   "execution_count": 4,
   "id": "a6c205d4",
   "metadata": {},
   "outputs": [
    {
     "data": {
      "text/html": [
       "<table class=\"dataframe\">\n",
       "<caption>A tibble: 3 × 2</caption>\n",
       "<thead>\n",
       "\t<tr><th scope=col>name</th><th scope=col>plays</th></tr>\n",
       "\t<tr><th scope=col>&lt;chr&gt;</th><th scope=col>&lt;chr&gt;</th></tr>\n",
       "</thead>\n",
       "<tbody>\n",
       "\t<tr><td>John </td><td>guitar</td></tr>\n",
       "\t<tr><td>Paul </td><td>bass  </td></tr>\n",
       "\t<tr><td>Keith</td><td>guitar</td></tr>\n",
       "</tbody>\n",
       "</table>\n"
      ],
      "text/latex": [
       "A tibble: 3 × 2\n",
       "\\begin{tabular}{ll}\n",
       " name & plays\\\\\n",
       " <chr> & <chr>\\\\\n",
       "\\hline\n",
       "\t John  & guitar\\\\\n",
       "\t Paul  & bass  \\\\\n",
       "\t Keith & guitar\\\\\n",
       "\\end{tabular}\n"
      ],
      "text/markdown": [
       "\n",
       "A tibble: 3 × 2\n",
       "\n",
       "| name &lt;chr&gt; | plays &lt;chr&gt; |\n",
       "|---|---|\n",
       "| John  | guitar |\n",
       "| Paul  | bass   |\n",
       "| Keith | guitar |\n",
       "\n"
      ],
      "text/plain": [
       "  name  plays \n",
       "1 John  guitar\n",
       "2 Paul  bass  \n",
       "3 Keith guitar"
      ]
     },
     "metadata": {},
     "output_type": "display_data"
    }
   ],
   "source": [
    "band_instruments"
   ]
  },
  {
   "cell_type": "markdown",
   "id": "0af2d5d5",
   "metadata": {},
   "source": [
    "**Question - what column can we join these two dataframes on?**"
   ]
  },
  {
   "cell_type": "markdown",
   "id": "f97b4c87",
   "metadata": {},
   "source": [
    "What would we do if we want to combine all rows of the dataframes, so we get all records back, with all columns? We would do a `full_join`:"
   ]
  },
  {
   "cell_type": "code",
   "execution_count": 5,
   "id": "9b306585",
   "metadata": {},
   "outputs": [
    {
     "name": "stderr",
     "output_type": "stream",
     "text": [
      "\u001b[1m\u001b[22mJoining, by = \"name\"\n"
     ]
    },
    {
     "data": {
      "text/html": [
       "<table class=\"dataframe\">\n",
       "<caption>A tibble: 4 × 3</caption>\n",
       "<thead>\n",
       "\t<tr><th scope=col>name</th><th scope=col>band</th><th scope=col>plays</th></tr>\n",
       "\t<tr><th scope=col>&lt;chr&gt;</th><th scope=col>&lt;chr&gt;</th><th scope=col>&lt;chr&gt;</th></tr>\n",
       "</thead>\n",
       "<tbody>\n",
       "\t<tr><td>Mick </td><td>Stones </td><td>NA    </td></tr>\n",
       "\t<tr><td>John </td><td>Beatles</td><td>guitar</td></tr>\n",
       "\t<tr><td>Paul </td><td>Beatles</td><td>bass  </td></tr>\n",
       "\t<tr><td>Keith</td><td>NA     </td><td>guitar</td></tr>\n",
       "</tbody>\n",
       "</table>\n"
      ],
      "text/latex": [
       "A tibble: 4 × 3\n",
       "\\begin{tabular}{lll}\n",
       " name & band & plays\\\\\n",
       " <chr> & <chr> & <chr>\\\\\n",
       "\\hline\n",
       "\t Mick  & Stones  & NA    \\\\\n",
       "\t John  & Beatles & guitar\\\\\n",
       "\t Paul  & Beatles & bass  \\\\\n",
       "\t Keith & NA      & guitar\\\\\n",
       "\\end{tabular}\n"
      ],
      "text/markdown": [
       "\n",
       "A tibble: 4 × 3\n",
       "\n",
       "| name &lt;chr&gt; | band &lt;chr&gt; | plays &lt;chr&gt; |\n",
       "|---|---|---|\n",
       "| Mick  | Stones  | NA     |\n",
       "| John  | Beatles | guitar |\n",
       "| Paul  | Beatles | bass   |\n",
       "| Keith | NA      | guitar |\n",
       "\n"
      ],
      "text/plain": [
       "  name  band    plays \n",
       "1 Mick  Stones  NA    \n",
       "2 John  Beatles guitar\n",
       "3 Paul  Beatles bass  \n",
       "4 Keith NA      guitar"
      ]
     },
     "metadata": {},
     "output_type": "display_data"
    }
   ],
   "source": [
    "full_join(band_members, band_instruments)"
   ]
  },
  {
   "cell_type": "markdown",
   "id": "cd8b5e49",
   "metadata": {},
   "source": [
    "What if we just wanted the intersection of these two data frames? Only the rows where the same people exist in both dataframes? We would use an `inner_join`:"
   ]
  },
  {
   "cell_type": "code",
   "execution_count": 6,
   "id": "1641d4f7",
   "metadata": {},
   "outputs": [
    {
     "name": "stderr",
     "output_type": "stream",
     "text": [
      "\u001b[1m\u001b[22mJoining, by = \"name\"\n"
     ]
    },
    {
     "data": {
      "text/html": [
       "<table class=\"dataframe\">\n",
       "<caption>A tibble: 2 × 3</caption>\n",
       "<thead>\n",
       "\t<tr><th scope=col>name</th><th scope=col>band</th><th scope=col>plays</th></tr>\n",
       "\t<tr><th scope=col>&lt;chr&gt;</th><th scope=col>&lt;chr&gt;</th><th scope=col>&lt;chr&gt;</th></tr>\n",
       "</thead>\n",
       "<tbody>\n",
       "\t<tr><td>John</td><td>Beatles</td><td>guitar</td></tr>\n",
       "\t<tr><td>Paul</td><td>Beatles</td><td>bass  </td></tr>\n",
       "</tbody>\n",
       "</table>\n"
      ],
      "text/latex": [
       "A tibble: 2 × 3\n",
       "\\begin{tabular}{lll}\n",
       " name & band & plays\\\\\n",
       " <chr> & <chr> & <chr>\\\\\n",
       "\\hline\n",
       "\t John & Beatles & guitar\\\\\n",
       "\t Paul & Beatles & bass  \\\\\n",
       "\\end{tabular}\n"
      ],
      "text/markdown": [
       "\n",
       "A tibble: 2 × 3\n",
       "\n",
       "| name &lt;chr&gt; | band &lt;chr&gt; | plays &lt;chr&gt; |\n",
       "|---|---|---|\n",
       "| John | Beatles | guitar |\n",
       "| Paul | Beatles | bass   |\n",
       "\n"
      ],
      "text/plain": [
       "  name band    plays \n",
       "1 John Beatles guitar\n",
       "2 Paul Beatles bass  "
      ]
     },
     "metadata": {},
     "output_type": "display_data"
    }
   ],
   "source": [
    "inner_join(band_members, band_instruments)"
   ]
  },
  {
   "cell_type": "markdown",
   "id": "f865c5cd",
   "metadata": {},
   "source": [
    "What if we wanted to add an instruments column to the `band_members` dataframe, but just for the members that exist in the `band_members` dataframe and not drop any records from the `band_members` dataframe? We would use `left_join` with the `band_members` dataframe being the first argument:"
   ]
  },
  {
   "cell_type": "code",
   "execution_count": 7,
   "id": "8e915ec4",
   "metadata": {},
   "outputs": [
    {
     "name": "stderr",
     "output_type": "stream",
     "text": [
      "\u001b[1m\u001b[22mJoining, by = \"name\"\n"
     ]
    },
    {
     "data": {
      "text/html": [
       "<table class=\"dataframe\">\n",
       "<caption>A tibble: 3 × 3</caption>\n",
       "<thead>\n",
       "\t<tr><th scope=col>name</th><th scope=col>band</th><th scope=col>plays</th></tr>\n",
       "\t<tr><th scope=col>&lt;chr&gt;</th><th scope=col>&lt;chr&gt;</th><th scope=col>&lt;chr&gt;</th></tr>\n",
       "</thead>\n",
       "<tbody>\n",
       "\t<tr><td>Mick</td><td>Stones </td><td>NA    </td></tr>\n",
       "\t<tr><td>John</td><td>Beatles</td><td>guitar</td></tr>\n",
       "\t<tr><td>Paul</td><td>Beatles</td><td>bass  </td></tr>\n",
       "</tbody>\n",
       "</table>\n"
      ],
      "text/latex": [
       "A tibble: 3 × 3\n",
       "\\begin{tabular}{lll}\n",
       " name & band & plays\\\\\n",
       " <chr> & <chr> & <chr>\\\\\n",
       "\\hline\n",
       "\t Mick & Stones  & NA    \\\\\n",
       "\t John & Beatles & guitar\\\\\n",
       "\t Paul & Beatles & bass  \\\\\n",
       "\\end{tabular}\n"
      ],
      "text/markdown": [
       "\n",
       "A tibble: 3 × 3\n",
       "\n",
       "| name &lt;chr&gt; | band &lt;chr&gt; | plays &lt;chr&gt; |\n",
       "|---|---|---|\n",
       "| Mick | Stones  | NA     |\n",
       "| John | Beatles | guitar |\n",
       "| Paul | Beatles | bass   |\n",
       "\n"
      ],
      "text/plain": [
       "  name band    plays \n",
       "1 Mick Stones  NA    \n",
       "2 John Beatles guitar\n",
       "3 Paul Beatles bass  "
      ]
     },
     "metadata": {},
     "output_type": "display_data"
    }
   ],
   "source": [
    "left_join(band_members, band_instruments)"
   ]
  },
  {
   "cell_type": "markdown",
   "id": "af0fafae",
   "metadata": {},
   "source": [
    "What if your column names don't match? You can specify which columns to join by! Let's rename columns..."
   ]
  },
  {
   "cell_type": "code",
   "execution_count": 44,
   "id": "6cb20af0",
   "metadata": {},
   "outputs": [],
   "source": [
    "band_members <- band_members |> rename(band_name = name)"
   ]
  },
  {
   "cell_type": "code",
   "execution_count": 46,
   "id": "3c54e77a-b725-4ff2-b366-b1ea53d7a23e",
   "metadata": {},
   "outputs": [
    {
     "data": {
      "text/html": [
       "<table class=\"dataframe\">\n",
       "<caption>A tibble: 3 × 2</caption>\n",
       "<thead>\n",
       "\t<tr><th scope=col>band_name</th><th scope=col>band</th></tr>\n",
       "\t<tr><th scope=col>&lt;chr&gt;</th><th scope=col>&lt;chr&gt;</th></tr>\n",
       "</thead>\n",
       "<tbody>\n",
       "\t<tr><td>Mick</td><td>Stones </td></tr>\n",
       "\t<tr><td>John</td><td>Beatles</td></tr>\n",
       "\t<tr><td>Paul</td><td>Beatles</td></tr>\n",
       "</tbody>\n",
       "</table>\n"
      ],
      "text/latex": [
       "A tibble: 3 × 2\n",
       "\\begin{tabular}{ll}\n",
       " band\\_name & band\\\\\n",
       " <chr> & <chr>\\\\\n",
       "\\hline\n",
       "\t Mick & Stones \\\\\n",
       "\t John & Beatles\\\\\n",
       "\t Paul & Beatles\\\\\n",
       "\\end{tabular}\n"
      ],
      "text/markdown": [
       "\n",
       "A tibble: 3 × 2\n",
       "\n",
       "| band_name &lt;chr&gt; | band &lt;chr&gt; |\n",
       "|---|---|\n",
       "| Mick | Stones  |\n",
       "| John | Beatles |\n",
       "| Paul | Beatles |\n",
       "\n"
      ],
      "text/plain": [
       "  band_name band   \n",
       "1 Mick      Stones \n",
       "2 John      Beatles\n",
       "3 Paul      Beatles"
      ]
     },
     "metadata": {},
     "output_type": "display_data"
    },
    {
     "data": {
      "text/html": [
       "<table class=\"dataframe\">\n",
       "<caption>A tibble: 3 × 2</caption>\n",
       "<thead>\n",
       "\t<tr><th scope=col>name</th><th scope=col>plays</th></tr>\n",
       "\t<tr><th scope=col>&lt;chr&gt;</th><th scope=col>&lt;chr&gt;</th></tr>\n",
       "</thead>\n",
       "<tbody>\n",
       "\t<tr><td>John </td><td>guitar</td></tr>\n",
       "\t<tr><td>Paul </td><td>bass  </td></tr>\n",
       "\t<tr><td>Keith</td><td>guitar</td></tr>\n",
       "</tbody>\n",
       "</table>\n"
      ],
      "text/latex": [
       "A tibble: 3 × 2\n",
       "\\begin{tabular}{ll}\n",
       " name & plays\\\\\n",
       " <chr> & <chr>\\\\\n",
       "\\hline\n",
       "\t John  & guitar\\\\\n",
       "\t Paul  & bass  \\\\\n",
       "\t Keith & guitar\\\\\n",
       "\\end{tabular}\n"
      ],
      "text/markdown": [
       "\n",
       "A tibble: 3 × 2\n",
       "\n",
       "| name &lt;chr&gt; | plays &lt;chr&gt; |\n",
       "|---|---|\n",
       "| John  | guitar |\n",
       "| Paul  | bass   |\n",
       "| Keith | guitar |\n",
       "\n"
      ],
      "text/plain": [
       "  name  plays \n",
       "1 John  guitar\n",
       "2 Paul  bass  \n",
       "3 Keith guitar"
      ]
     },
     "metadata": {},
     "output_type": "display_data"
    }
   ],
   "source": [
    "band_members\n",
    "band_instruments"
   ]
  },
  {
   "cell_type": "code",
   "execution_count": 47,
   "id": "311e8bb8-d90b-462b-b9b0-3e08a3040dc1",
   "metadata": {},
   "outputs": [
    {
     "ename": "ERROR",
     "evalue": "\u001b[1m\u001b[33mError\u001b[39m in \u001b[1m\u001b[1m`left_join()`:\u001b[22m\n\u001b[1m\u001b[22m\u001b[33m!\u001b[39m `by` must be supplied when `x` and `y` have no common variables.\n\u001b[36mℹ\u001b[39m use by = character()` to perform a cross-join.\n",
     "output_type": "error",
     "traceback": [
      "\u001b[1m\u001b[33mError\u001b[39m in \u001b[1m\u001b[1m`left_join()`:\u001b[22m\n\u001b[1m\u001b[22m\u001b[33m!\u001b[39m `by` must be supplied when `x` and `y` have no common variables.\n\u001b[36mℹ\u001b[39m use by = character()` to perform a cross-join.\nTraceback:\n",
      "1. left_join(band_members, band_instruments)",
      "2. left_join.data.frame(band_members, band_instruments)",
      "3. join_mutate(x, y, by = by, type = \"left\", suffix = suffix, na_matches = na_matches, \n .     keep = keep)",
      "4. join_cols(tbl_vars(x), tbl_vars(y), by = by, suffix = suffix, \n .     keep = keep, error_call = error_call)",
      "5. standardise_join_by(by, x_names = x_names, y_names = y_names, \n .     error_call = error_call)",
      "6. abort(bullets, call = error_call)",
      "7. signal_abort(cnd, .file)"
     ]
    }
   ],
   "source": [
    "left_join(band_members, band_instruments)"
   ]
  },
  {
   "cell_type": "code",
   "execution_count": 10,
   "id": "71110543",
   "metadata": {},
   "outputs": [
    {
     "data": {
      "text/html": [
       "<table class=\"dataframe\">\n",
       "<caption>A tibble: 3 × 3</caption>\n",
       "<thead>\n",
       "\t<tr><th scope=col>band_name</th><th scope=col>band</th><th scope=col>plays</th></tr>\n",
       "\t<tr><th scope=col>&lt;chr&gt;</th><th scope=col>&lt;chr&gt;</th><th scope=col>&lt;chr&gt;</th></tr>\n",
       "</thead>\n",
       "<tbody>\n",
       "\t<tr><td>Mick</td><td>Stones </td><td>NA    </td></tr>\n",
       "\t<tr><td>John</td><td>Beatles</td><td>guitar</td></tr>\n",
       "\t<tr><td>Paul</td><td>Beatles</td><td>bass  </td></tr>\n",
       "</tbody>\n",
       "</table>\n"
      ],
      "text/latex": [
       "A tibble: 3 × 3\n",
       "\\begin{tabular}{lll}\n",
       " band\\_name & band & plays\\\\\n",
       " <chr> & <chr> & <chr>\\\\\n",
       "\\hline\n",
       "\t Mick & Stones  & NA    \\\\\n",
       "\t John & Beatles & guitar\\\\\n",
       "\t Paul & Beatles & bass  \\\\\n",
       "\\end{tabular}\n"
      ],
      "text/markdown": [
       "\n",
       "A tibble: 3 × 3\n",
       "\n",
       "| band_name &lt;chr&gt; | band &lt;chr&gt; | plays &lt;chr&gt; |\n",
       "|---|---|---|\n",
       "| Mick | Stones  | NA     |\n",
       "| John | Beatles | guitar |\n",
       "| Paul | Beatles | bass   |\n",
       "\n"
      ],
      "text/plain": [
       "  band_name band    plays \n",
       "1 Mick      Stones  NA    \n",
       "2 John      Beatles guitar\n",
       "3 Paul      Beatles bass  "
      ]
     },
     "metadata": {},
     "output_type": "display_data"
    }
   ],
   "source": [
    "## We will get error as there is no common variable\n",
    "left_join(band_members, band_instruments,by = c(\"band_name\" = \"name\"))"
   ]
  },
  {
   "cell_type": "markdown",
   "id": "f8c2aea3",
   "metadata": {},
   "source": [
    "I don't care to learn that i can rename it back so that there is common column."
   ]
  },
  {
   "cell_type": "code",
   "execution_count": 11,
   "id": "2aedf56d",
   "metadata": {},
   "outputs": [],
   "source": [
    "band_members <- band_members |> rename(name = band_name)"
   ]
  },
  {
   "cell_type": "code",
   "execution_count": 12,
   "id": "af346d3b",
   "metadata": {},
   "outputs": [
    {
     "name": "stderr",
     "output_type": "stream",
     "text": [
      "\u001b[1m\u001b[22mJoining, by = \"name\"\n"
     ]
    },
    {
     "data": {
      "text/html": [
       "<table class=\"dataframe\">\n",
       "<caption>A tibble: 3 × 3</caption>\n",
       "<thead>\n",
       "\t<tr><th scope=col>name</th><th scope=col>band</th><th scope=col>plays</th></tr>\n",
       "\t<tr><th scope=col>&lt;chr&gt;</th><th scope=col>&lt;chr&gt;</th><th scope=col>&lt;chr&gt;</th></tr>\n",
       "</thead>\n",
       "<tbody>\n",
       "\t<tr><td>Mick</td><td>Stones </td><td>NA    </td></tr>\n",
       "\t<tr><td>John</td><td>Beatles</td><td>guitar</td></tr>\n",
       "\t<tr><td>Paul</td><td>Beatles</td><td>bass  </td></tr>\n",
       "</tbody>\n",
       "</table>\n"
      ],
      "text/latex": [
       "A tibble: 3 × 3\n",
       "\\begin{tabular}{lll}\n",
       " name & band & plays\\\\\n",
       " <chr> & <chr> & <chr>\\\\\n",
       "\\hline\n",
       "\t Mick & Stones  & NA    \\\\\n",
       "\t John & Beatles & guitar\\\\\n",
       "\t Paul & Beatles & bass  \\\\\n",
       "\\end{tabular}\n"
      ],
      "text/markdown": [
       "\n",
       "A tibble: 3 × 3\n",
       "\n",
       "| name &lt;chr&gt; | band &lt;chr&gt; | plays &lt;chr&gt; |\n",
       "|---|---|---|\n",
       "| Mick | Stones  | NA     |\n",
       "| John | Beatles | guitar |\n",
       "| Paul | Beatles | bass   |\n",
       "\n"
      ],
      "text/plain": [
       "  name band    plays \n",
       "1 Mick Stones  NA    \n",
       "2 John Beatles guitar\n",
       "3 Paul Beatles bass  "
      ]
     },
     "metadata": {},
     "output_type": "display_data"
    }
   ],
   "source": [
    "left_join(band_members, band_instruments)"
   ]
  },
  {
   "cell_type": "markdown",
   "id": "5158c7a1",
   "metadata": {},
   "source": [
    "## 2. `for` loops\n",
    "\n"
   ]
  },
  {
   "cell_type": "markdown",
   "id": "4769943e",
   "metadata": {},
   "source": [
    "Let's be a little silly here, why? Because life is a little too serious right now.\n",
    "\n",
    "let's loop over the character vector below to print out the joke:"
   ]
  },
  {
   "cell_type": "code",
   "execution_count": 48,
   "id": "7f7a875a",
   "metadata": {},
   "outputs": [],
   "source": [
    "the_joke <- c(\"Helvetica and Times New Roman\", \"walk into a bar\", \"Get out of here!\", \"Shouts the bartender\", \"We don't serve your type!\")"
   ]
  },
  {
   "cell_type": "code",
   "execution_count": 49,
   "id": "cd81f8fc",
   "metadata": {},
   "outputs": [
    {
     "name": "stdout",
     "output_type": "stream",
     "text": [
      "[1] \"Helvetica and Times New Roman\"\n",
      "[1] \"walk into a bar\"\n",
      "[1] \"Get out of here!\"\n",
      "[1] \"Shouts the bartender\"\n",
      "[1] \"We don't serve your type!\"\n"
     ]
    }
   ],
   "source": [
    "for (lines in the_joke) {\n",
    "    print(lines)\n",
    "}"
   ]
  },
  {
   "cell_type": "markdown",
   "id": "c8bc516d",
   "metadata": {},
   "source": [
    "In contrast to Python, R uses `{` and `}` to define what code is part of the `for` loop. You also see indentation with code in R when writing a `for` loop, but it is not strictly required but is used to make code more readable."
   ]
  },
  {
   "cell_type": "markdown",
   "id": "b65f6398",
   "metadata": {},
   "source": [
    "We can also use indices in R when we iterate with a `for` loop:"
   ]
  },
  {
   "cell_type": "code",
   "execution_count": 51,
   "id": "a7b84dea",
   "metadata": {},
   "outputs": [
    {
     "name": "stdout",
     "output_type": "stream",
     "text": [
      "[1] \"Helvetica and Times New Roman\"\n",
      "[1] \"walk into a bar\"\n",
      "[1] \"Get out of here!\"\n",
      "[1] \"Shouts the bartender\"\n",
      "[1] \"We don't serve your type!\"\n"
     ]
    }
   ],
   "source": [
    "for (i in seq_along(the_joke)) {\n",
    "    # print(i)\n",
    "    print(the_joke[i])\n",
    "}"
   ]
  },
  {
   "cell_type": "markdown",
   "id": "b80485a3-ec54-4ee9-b155-3b96fdafd972",
   "metadata": {},
   "source": [
    "Beware of using length instead:"
   ]
  },
  {
   "cell_type": "code",
   "execution_count": 52,
   "id": "03dc5bd4",
   "metadata": {},
   "outputs": [],
   "source": [
    "the_joke_empty <- c()"
   ]
  },
  {
   "cell_type": "code",
   "execution_count": 53,
   "id": "bee53893",
   "metadata": {},
   "outputs": [
    {
     "name": "stdout",
     "output_type": "stream",
     "text": [
      "NULL\n",
      "NULL\n"
     ]
    }
   ],
   "source": [
    "for (i in 1:length(the_joke_empty)) {\n",
    "    print(the_joke_empty[i])\n",
    "}"
   ]
  },
  {
   "cell_type": "markdown",
   "id": "989082af-25fd-4c7c-b054-c28e6551a07a",
   "metadata": {},
   "source": [
    "Let's see how it going to behave if it is seq_along"
   ]
  },
  {
   "cell_type": "code",
   "execution_count": 54,
   "id": "9f4086be-e318-47d1-9829-a91ba8dd3f4d",
   "metadata": {},
   "outputs": [],
   "source": [
    "for (i in seq_along(the_joke_empty)) {\n",
    "    print(the_joke_empty[i])\n",
    "}"
   ]
  },
  {
   "cell_type": "markdown",
   "id": "11b69b64",
   "metadata": {},
   "source": [
    "## 3. `if`, `if else` and `else` statements"
   ]
  },
  {
   "cell_type": "markdown",
   "id": "8fe714eb",
   "metadata": {},
   "source": [
    "Let's do a dice rolling exercise, where we simulate rolling two fair dice and R will comment whether we got a pair or not (or snake eyes!):"
   ]
  },
  {
   "cell_type": "code",
   "execution_count": 19,
   "id": "98cb686d",
   "metadata": {},
   "outputs": [
    {
     "data": {
      "text/html": [
       "'3 &amp; 1'"
      ],
      "text/latex": [
       "'3 \\& 1'"
      ],
      "text/markdown": [
       "'3 &amp; 1'"
      ],
      "text/plain": [
       "[1] \"3 & 1\""
      ]
     },
     "metadata": {},
     "output_type": "display_data"
    },
    {
     "name": "stdout",
     "output_type": "stream",
     "text": [
      "[1] \"Try again!\"\n"
     ]
    }
   ],
   "source": [
    "dice1 <- sample(1:6, 1)\n",
    "dice2 <- sample(1:6, 1)\n",
    "paste(dice1, \"&\", dice2)\n",
    "\n",
    "if (dice1 == dice2) {\n",
    "print(\"You rolled a pair!\")\n",
    "    if (dice1 == 1) {\n",
    "        print(\"And they are snake eyes! What a lucky day!\")\n",
    "    }\n",
    "} else {\n",
    "    print(\"Try again!\")\n",
    "}"
   ]
  },
  {
   "cell_type": "code",
   "execution_count": null,
   "id": "80519ac3-5c65-4010-8bec-4494b75bc856",
   "metadata": {},
   "outputs": [],
   "source": []
  }
 ],
 "metadata": {
  "kernelspec": {
   "display_name": "R",
   "language": "R",
   "name": "ir"
  },
  "language_info": {
   "codemirror_mode": "r",
   "file_extension": ".r",
   "mimetype": "text/x-r-source",
   "name": "R",
   "pygments_lexer": "r",
   "version": "4.2.1"
  }
 },
 "nbformat": 4,
 "nbformat_minor": 5
}
