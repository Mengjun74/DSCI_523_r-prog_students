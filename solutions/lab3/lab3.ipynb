{
 "cells": [
  {
   "cell_type": "raw",
   "metadata": {},
   "source": [
    "# ASSIGNMENT CONFIG\n",
    "requirements: requirements.R\n",
    "generate:\n",
    "    show_hidden: true\n",
    "    show_stdout: true\n",
    "    channel_priority_strict: false\n",
    "environment: environment.yml"
   ]
  },
  {
   "cell_type": "markdown",
   "metadata": {},
   "source": [
    "# DSCI 523 Lab Assignment 3\n",
    "\n",
    "## Tidy control flow in R, as well as functions & testing in R"
   ]
  },
  {
   "cell_type": "markdown",
   "metadata": {},
   "source": [
    "## Lab Mechanics\n",
    "rubric={5}\n",
    "\n",
    "- All files necessary to run your work must be pushed to your GitHub.ubc.ca repository for this lab.\n",
    "- You need to have a minimum of 3 commit messages associated with your GitHub.ubc.ca repository for this lab.\n",
    "- You must also submit this `.ipynb` notebook of this homework to Gradescope, and it must be executed so the TA's can see the results of your work.\n",
    "- **There is autograding in this lab, so please do not move or rename this file. Also, do not copy and paste cells, if you need to add new cells, create new cells via the \"Insert a cell below\" button instead.**\n",
    "- Follow the [MDS general lab instructions](https://ubc-mds.github.io/resources_pages/general_lab_instructions/)."
   ]
  },
  {
   "cell_type": "markdown",
   "metadata": {},
   "source": [
    "## Code Quality\n",
    "rubric={quality:5}\n",
    "\n",
    "The code that you write for this assignment will be given one overall grade for code quality, see our code quality rubric as a guide to what we are looking for. Also, for this course (and other MDS courses that use R), we are trying to follow the tidyverse code style. There is a guide you can refer too: http://style.tidyverse.org/\n",
    "\n",
    "Each code question will also be assessed for code accuracy (i.e., does it do what it is supposed to do?)."
   ]
  },
  {
   "cell_type": "markdown",
   "metadata": {},
   "source": [
    "## Writing \n",
    "rubric={writing:5}\n",
    "\n",
    "To get the marks for this writing component, you should:\n",
    "\n",
    "- Use proper English, spelling, and grammar throughout your submission (the non-coding parts).\n",
    "- Be succinct. This means being specific about what you want to communicate, without being superfluous."
   ]
  },
  {
   "cell_type": "markdown",
   "metadata": {},
   "source": [
    "## Table of contents\n",
    "\n",
    "1. [Exercise 1: control flow with {dplyr}](#Exercise-1:-control-flow-with-{dplyr})\n",
    "\n",
    "2. [Exercise 2: mapping with {purrr}](#Exercise-2:-mapping-with-{purrr})\n",
    "\n",
    "3. [Exercise 3: functions](#Exercise-3:-functions)\n",
    "\n",
    "4. [Exercise 4: testing](#Exercise-4:-testing)\n",
    "\n",
    "5. [Exercise 5: (Optional)](#Exercise-5:-(Optional))\n",
    "\n",
    "8. [Submission instructions](#Submission)"
   ]
  },
  {
   "cell_type": "markdown",
   "metadata": {},
   "source": [
    "Run the cell below to load the libraries needed for this lab, as well as the test file so you can check your answers as you go!"
   ]
  },
  {
   "cell_type": "code",
   "execution_count": 2,
   "metadata": {
    "tags": []
   },
   "outputs": [
    {
     "name": "stderr",
     "output_type": "stream",
     "text": [
      "── \u001b[1mAttaching packages\u001b[22m ─────────────────────────────────────────────────────────────────────────────────────────────────────────────────────────────────────────── tidyverse 1.3.2 ──\n",
      "\u001b[32m✔\u001b[39m \u001b[34mggplot2\u001b[39m 3.3.6     \u001b[32m✔\u001b[39m \u001b[34mpurrr  \u001b[39m 0.3.4\n",
      "\u001b[32m✔\u001b[39m \u001b[34mtibble \u001b[39m 3.1.8     \u001b[32m✔\u001b[39m \u001b[34mdplyr  \u001b[39m 1.0.9\n",
      "\u001b[32m✔\u001b[39m \u001b[34mtidyr  \u001b[39m 1.2.0     \u001b[32m✔\u001b[39m \u001b[34mstringr\u001b[39m 1.4.1\n",
      "\u001b[32m✔\u001b[39m \u001b[34mreadr  \u001b[39m 2.1.2     \u001b[32m✔\u001b[39m \u001b[34mforcats\u001b[39m 0.5.1\n",
      "── \u001b[1mConflicts\u001b[22m ────────────────────────────────────────────────────────────────────────────────────────────────────────────────────────────────────────────── tidyverse_conflicts() ──\n",
      "\u001b[31m✖\u001b[39m \u001b[34mreadr\u001b[39m::\u001b[32medition_get()\u001b[39m   masks \u001b[34mtestthat\u001b[39m::edition_get()\n",
      "\u001b[31m✖\u001b[39m \u001b[34mdplyr\u001b[39m::\u001b[32mfilter()\u001b[39m        masks \u001b[34mstats\u001b[39m::filter()\n",
      "\u001b[31m✖\u001b[39m \u001b[34mpurrr\u001b[39m::\u001b[32mis_null()\u001b[39m       masks \u001b[34mtestthat\u001b[39m::is_null()\n",
      "\u001b[31m✖\u001b[39m \u001b[34mdplyr\u001b[39m::\u001b[32mlag()\u001b[39m           masks \u001b[34mstats\u001b[39m::lag()\n",
      "\u001b[31m✖\u001b[39m \u001b[34mreadr\u001b[39m::\u001b[32mlocal_edition()\u001b[39m masks \u001b[34mtestthat\u001b[39m::local_edition()\n",
      "\u001b[31m✖\u001b[39m \u001b[34mdplyr\u001b[39m::\u001b[32mmatches()\u001b[39m       masks \u001b[34mtidyr\u001b[39m::matches(), \u001b[34mtestthat\u001b[39m::matches()\n"
     ]
    }
   ],
   "source": [
    "library(nycflights13)\n",
    "library(testthat)\n",
    "library(tidyverse)\n",
    "options(repr.matrix.max.rows = 10)"
   ]
  },
  {
   "cell_type": "raw",
   "metadata": {},
   "source": [
    "# BEGIN QUESTION\n",
    "name: e1\n",
    "points: 15"
   ]
  },
  {
   "cell_type": "markdown",
   "metadata": {},
   "source": [
    "## Exercise 1: control flow with {dplyr}\n",
    "rubric={autograde=15}\n",
    "\n",
    "Use the {tidyverse} control flow functions we learned about this week to take the {nycflights13} `flights` data set and obtain the average speed (in km/hr) and average distance (in km) for the carriers AA, AS, UA and US.\n",
    "Name these new columns `avg_speed` and `avg_distance_km`, and round the values so that the answer is a whole number (i.e., no decimal points). Convert the carrier acronyms to their full names (American Airlines, Alaska Airlines, \n",
    "United Airlines and US Airways). Sort the results according to the average speed. Bind the name `avg_flights` to the data frame.\n",
    "\n",
    "Some hints:\n",
    "- The distance is in miles and air time is in minutes in the `flights` data. \n",
    "- You will have to create a column that holds the average speed for each flight before you can do this for each carrier.\n",
    "- You may also need to handle `NA` entries in the data."
   ]
  },
  {
   "cell_type": "raw",
   "metadata": {},
   "source": [
    "# BEGIN SOLUTION"
   ]
  },
  {
   "cell_type": "code",
   "execution_count": 3,
   "metadata": {},
   "outputs": [
    {
     "data": {
      "text/html": [
       "<table class=\"dataframe\">\n",
       "<caption>A tibble: 4 × 3</caption>\n",
       "<thead>\n",
       "\t<tr><th scope=col>carrier</th><th scope=col>avg_speed</th><th scope=col>avg_distance_km</th></tr>\n",
       "\t<tr><th scope=col>&lt;chr&gt;</th><th scope=col>&lt;dbl&gt;</th><th scope=col>&lt;dbl&gt;</th></tr>\n",
       "</thead>\n",
       "<tbody>\n",
       "\t<tr><td>Alaska Airlines  </td><td>714</td><td>3866</td></tr>\n",
       "\t<tr><td>United Airlines  </td><td>677</td><td>2461</td></tr>\n",
       "\t<tr><td>American Airlines</td><td>672</td><td>2157</td></tr>\n",
       "\t<tr><td>US Airways       </td><td>550</td><td> 891</td></tr>\n",
       "</tbody>\n",
       "</table>\n"
      ],
      "text/latex": [
       "A tibble: 4 × 3\n",
       "\\begin{tabular}{lll}\n",
       " carrier & avg\\_speed & avg\\_distance\\_km\\\\\n",
       " <chr> & <dbl> & <dbl>\\\\\n",
       "\\hline\n",
       "\t Alaska Airlines   & 714 & 3866\\\\\n",
       "\t United Airlines   & 677 & 2461\\\\\n",
       "\t American Airlines & 672 & 2157\\\\\n",
       "\t US Airways        & 550 &  891\\\\\n",
       "\\end{tabular}\n"
      ],
      "text/markdown": [
       "\n",
       "A tibble: 4 × 3\n",
       "\n",
       "| carrier &lt;chr&gt; | avg_speed &lt;dbl&gt; | avg_distance_km &lt;dbl&gt; |\n",
       "|---|---|---|\n",
       "| Alaska Airlines   | 714 | 3866 |\n",
       "| United Airlines   | 677 | 2461 |\n",
       "| American Airlines | 672 | 2157 |\n",
       "| US Airways        | 550 |  891 |\n",
       "\n"
      ],
      "text/plain": [
       "  carrier           avg_speed avg_distance_km\n",
       "1 Alaska Airlines   714       3866           \n",
       "2 United Airlines   677       2461           \n",
       "3 American Airlines 672       2157           \n",
       "4 US Airways        550        891           "
      ]
     },
     "metadata": {},
     "output_type": "display_data"
    }
   ],
   "source": [
    "avg_flights <- NULL\n",
    "# BEGIN SOLUTION NO PROMPT\n",
    "avg_flights <- flights |>\n",
    "    filter(carrier == \"AA\" | carrier == \"AS\" | carrier == \"UA\" | carrier == \"US\") |>\n",
    "    mutate(carrier = case_when(carrier == \"AA\" ~ \"American Airlines\",\n",
    "                              carrier == \"AS\" ~ \"Alaska Airlines\",\n",
    "                              carrier == \"UA\" ~ \"United Airlines\",\n",
    "                              carrier == \"US\" ~ \"US Airways\")) |> \n",
    "    mutate(avg_speed = (distance * 1.6093) / (air_time / 60)) |>\n",
    "    group_by(carrier) |>\n",
    "    summarise(avg_speed = round(mean(avg_speed, na.rm = TRUE)), \n",
    "              avg_distance_km = round(mean(1.6093 * distance, na.rm = TRUE))) |>\n",
    "    arrange(desc(avg_speed))\n",
    "# END SOLUTION\n",
    "avg_flights"
   ]
  },
  {
   "cell_type": "raw",
   "metadata": {},
   "source": [
    "# END SOLUTION"
   ]
  },
  {
   "cell_type": "markdown",
   "metadata": {},
   "source": [
    "The tests below only check that the object has the correct names. The other tests are intentionally hidden."
   ]
  },
  {
   "cell_type": "raw",
   "metadata": {},
   "source": [
    "# BEGIN TESTS"
   ]
  },
  {
   "cell_type": "code",
   "execution_count": 4,
   "metadata": {},
   "outputs": [],
   "source": [
    "# visible tests to check object name\n",
    "# the remaining tests are hidden\n",
    "expect_true(exists(\"avg_flights\"))\n",
    "expect_named(avg_flights, c(\"carrier\", \"avg_speed\", \"avg_distance_km\"), ignore.order = TRUE)"
   ]
  },
  {
   "cell_type": "code",
   "execution_count": 5,
   "metadata": {},
   "outputs": [],
   "source": [
    "# HIDDEN\n",
    "expect_s3_class(avg_flights, \"tbl_df\")\n",
    "expect_type(avg_flights$carrier, \"character\")\n",
    "expect_type(avg_flights$avg_speed, \"double\")\n",
    "expect_type(avg_flights$avg_distance_km, \"double\")\n",
    "expect_equal(nrow(avg_flights), 4)\n",
    "expect_equal(ncol(avg_flights), 3)\n",
    "#expect_equal(avg_flights[[1]][1], 'Alaska Airlines')\n",
    "#expect_equal(avg_flights[[1]][3], 'American Airlines')\n",
    "expect_true(avg_flights[[1]][1] %in% c(\"Alaska Airlines\", \"US Airways\"))\n",
    "expect_true(avg_flights[[1]][3] %in% c(\"American Airlines\", \"United Airlines\"))\n",
    "expect_equal(round(sum(as.numeric(avg_flights$avg_speed)), -2), 2600)"
   ]
  },
  {
   "cell_type": "raw",
   "metadata": {},
   "source": [
    "# END TESTS"
   ]
  },
  {
   "cell_type": "raw",
   "metadata": {},
   "source": [
    "# END QUESTION"
   ]
  },
  {
   "cell_type": "raw",
   "metadata": {},
   "source": [
    "# BEGIN QUESTION\n",
    "name: e2\n",
    "points: 15\n",
    "manual: true"
   ]
  },
  {
   "cell_type": "markdown",
   "metadata": {},
   "source": [
    "## Exercise 2: mapping with {purrr}\n",
    "rubric={accuracy:20}\n",
    "\n",
    "We want to know if the list mixed_bag given below contains all numeric elements, if it does, we want to output `TRUE`. If not, we want to output `FALSE`.\n",
    "\n",
    "To do this use a {purrr} `map*` function to iterate over the list given below to generate a logical vector that holds `TRUE` if the list element is numeric and `FALSE` if it is not. Then use the fact that R can sum logical vectors (`TRUE` takes on the value of 1 and `FALSE` takes on the value of 0) and check whether the sum of the logical vector generated by map equals the length of the mixed_bag list."
   ]
  },
  {
   "cell_type": "raw",
   "metadata": {},
   "source": [
    "# BEGIN SOLUTION"
   ]
  },
  {
   "cell_type": "code",
   "execution_count": 5,
   "metadata": {},
   "outputs": [
    {
     "data": {
      "text/html": [
       "FALSE"
      ],
      "text/latex": [
       "FALSE"
      ],
      "text/markdown": [
       "FALSE"
      ],
      "text/plain": [
       "[1] FALSE"
      ]
     },
     "metadata": {},
     "output_type": "display_data"
    }
   ],
   "source": [
    "mixed_bag <- list(c(11232, 21231, 32123),\n",
    "                 \"https://github.com/UBC-DSCI/introduction-to-datascience\",\n",
    "                 c(TRUE, FALSE, FALSE, TRUE, TRUE),\n",
    "                 c(\"CRC Press\"),\n",
    "                 list(1, 2, 3))\n",
    "# BEGIN SOLUTION NO PROMPT\n",
    "sum(map_lgl(mixed_bag, is.numeric)) == length(mixed_bag)\n",
    "# END SOLUTION"
   ]
  },
  {
   "cell_type": "raw",
   "metadata": {},
   "source": [
    "# END SOLUTION"
   ]
  },
  {
   "cell_type": "raw",
   "metadata": {},
   "source": [
    "# END QUESTION"
   ]
  },
  {
   "cell_type": "raw",
   "metadata": {},
   "source": [
    "# BEGIN QUESTION\n",
    "name: e3\n",
    "points: 15\n",
    "manual: true"
   ]
  },
  {
   "cell_type": "markdown",
   "metadata": {},
   "source": [
    "## Exercise 3: functions\n",
    "rubric={accuracy:16}\n",
    "\n",
    "We provide you below code that performs a random walk (follows the same logic as the code you wrote in DSCI 511 lab 1), for 10 steps. Turn this code into a function in R that takes an argument `n` for the number of steps the random walk function should take. \n",
    "\n",
    "Additionally, although the code below that works, it does not adhere to the [tidyverse style guide](https://style.tidyverse.org/) nor uses roxygen2-style comments. Identify where it deviates from the tidyverse style guide and correct it. The {[styler](https://styler.r-lib.org/)} package will get you part way, but you will still need a human in the loop to adhere to all of the tidyverse style guide recommendations."
   ]
  },
  {
   "cell_type": "raw",
   "metadata": {},
   "source": [
    "# BEGIN SOLUTION"
   ]
  },
  {
   "cell_type": "code",
   "execution_count": 7,
   "metadata": {},
   "outputs": [
    {
     "name": "stdout",
     "output_type": "stream",
     "text": [
      "[1] 1 0\n",
      "[1] 0 0\n",
      "[1] 0 1\n",
      "[1] 1 1\n",
      "[1] 1 2\n",
      "[1] 1 1\n",
      "[1] 1 0\n",
      "[1]  1 -1\n",
      "[1]  2 -1\n",
      "[1]  3 -1\n"
     ]
    },
    {
     "data": {
      "text/html": [
       "10"
      ],
      "text/latex": [
       "10"
      ],
      "text/markdown": [
       "10"
      ],
      "text/plain": [
       "[1] 10"
      ]
     },
     "metadata": {},
     "output_type": "display_data"
    },
    {
     "name": "stdout",
     "output_type": "stream",
     "text": [
      "[1] 1 0\n",
      "[1] 0 0\n",
      "[1]  0 -1\n",
      "[1]  1 -1\n",
      "[1] 1 0\n",
      "[1] 2 0\n",
      "[1]  2 -1\n",
      "[1] 2 0\n",
      "[1] 1 0\n",
      "[1] 1 1\n",
      "[1] 1 0\n",
      "[1]  1 -1\n",
      "[1]  0 -1\n",
      "[1]  1 -1\n",
      "[1] 1 0\n",
      "[1] 1 1\n",
      "[1] 2 1\n",
      "[1] 2 0\n",
      "[1] 3 0\n",
      "[1] 2 0\n"
     ]
    },
    {
     "data": {
      "text/html": [
       "4"
      ],
      "text/latex": [
       "4"
      ],
      "text/markdown": [
       "4"
      ],
      "text/plain": [
       "[1] 4"
      ]
     },
     "metadata": {},
     "output_type": "display_data"
    }
   ],
   "source": [
    "X=0\n",
    "    y=0\n",
    "    \n",
    "    \n",
    "    for (i in 1:10){\n",
    "        dirGo = runif(1)\n",
    "        if(dirGo<0.25)\n",
    "        {\n",
    "            # go right\n",
    "            X = X+1\n",
    "        } else if(dirGo<0.5){\n",
    "            # go left\n",
    "            X = X-1\n",
    "        } else if(dirGo<0.75){\n",
    "            # go up\n",
    "            y = y+1\n",
    "        } else\n",
    "        {\n",
    "            # go down\n",
    "            y = y-1\n",
    "        }\n",
    "        \n",
    "        print(c(X,y))\n",
    "    }\n",
    "    \n",
    "    \n",
    "    return(X ^ 2+y ^ 2)\n",
    "\n",
    "# BEGIN SOLUTION NO PROMPT\n",
    "#' Simulates n steps of a 2D random walk. Prints the result of each step\n",
    "#' and calculates the squared distance from the origin.\n",
    "#'    \n",
    "#' @param n the number of steps to take\n",
    "#' \n",
    "#' @return the squared distance from the origin\n",
    "#' \n",
    "#' @examples\n",
    "#' randomWalker(20)\n",
    "random_walk <- function(n) {\n",
    "    x <- 0\n",
    "    y <- 0\n",
    "    for (i in 1:n) {\n",
    "        dir_go <- runif(1)\n",
    "        if (dir_go < 0.25) {\n",
    "            # go right\n",
    "            x <- x + 1\n",
    "        } else if (dir_go < 0.5) {\n",
    "            # go left\n",
    "            x <- x - 1\n",
    "        } else if (dir_go < 0.75) {\n",
    "            # go up\n",
    "            y <- y + 1\n",
    "        } else {\n",
    "            # go down\n",
    "            y <- y - 1\n",
    "        }\n",
    "        print(c(x, y))\n",
    "    }\n",
    "    x^2 + y^2\n",
    "}\n",
    "\n",
    "random_walk(20)\n",
    "# END SOLUTION"
   ]
  },
  {
   "cell_type": "raw",
   "metadata": {},
   "source": [
    "# END SOLUTION"
   ]
  },
  {
   "cell_type": "raw",
   "metadata": {},
   "source": [
    "# END QUESTION"
   ]
  },
  {
   "cell_type": "raw",
   "metadata": {},
   "source": [
    "# BEGIN QUESTION\n",
    "name: e4\n",
    "points: 15\n",
    "manual: true"
   ]
  },
  {
   "cell_type": "markdown",
   "metadata": {},
   "source": [
    "## Exercise 4: testing\n",
    "rubric={accuracy:18} \n",
    "\n",
    "Sample variance of data generated from a normal/Gaussian distribution is defined as:\n",
    "\n",
    "$variance = \\frac{\\Sigma{(x-mean)^2}}{n-1}$\n",
    "\n",
    "where $mean$ is the mean of our observations, $x$ is each individual observation, and $n$ is the number of observations.\n",
    "\n",
    "Your task is to use test driven development to write a function that calculates the variance from scratch (*i.e.*, do not use the `var` function in R). Your function should take in a vector, and return a vector of length 1. Make sure you use defensive programming so that your function will fail early (and provides useful error messages) if the user provides incorrect inputs (e.g., lists, data frames, etc). Use {testthat} statements to check the correctness of your function on tractable edge cases, as well as to check that your function handles exceptions as expected. \n",
    "\n",
    "*Hint - you likely need to avoid using {tidyverse} functions in your solution as we will not learn how to write functions with them until next week (they are a little trickier to program with due to their unquoted column names).*"
   ]
  },
  {
   "cell_type": "raw",
   "metadata": {},
   "source": [
    "# BEGIN SOLUTION"
   ]
  },
  {
   "cell_type": "code",
   "execution_count": 8,
   "metadata": {},
   "outputs": [
    {
     "name": "stdout",
     "output_type": "stream",
     "text": [
      "\u001b[32mTest passed\u001b[39m 😸\n",
      "\u001b[32mTest passed\u001b[39m 🌈\n"
     ]
    }
   ],
   "source": [
    "# BEGIN SOLUTION NO PROMPT\n",
    "#' Calculates the variance of a vector of numbers.\n",
    "#'\n",
    "#' Calculates the sample variance of data generated from a normal/Gaussian distribution, \n",
    "#' omitting NA's in the data.\n",
    "#'\n",
    "#' @param data numeric vector of numbers whose length is > 1.\n",
    "#'\n",
    "#' @return numeric vector of length one, the variance.\n",
    "#'\n",
    "#' @examples\n",
    "#' variance(c(1, 2, 3))\n",
    "variance <- function(data) {\n",
    "    if (is.list(data)) {\n",
    "        stop(\"input should be a vector\")\n",
    "    }\n",
    "    if (!is.numeric(data)) {\n",
    "        stop(\"input should be a numeric vector\")\n",
    "    }\n",
    "    \n",
    "    data_total <- sum(data, na.rm = TRUE)\n",
    "    length_data <- length(na.omit(data))\n",
    "    data_mean  <- data_total / length_data\n",
    "    sum_diffsq <- sum((data - data_mean)^2)\n",
    "    sum_diffsq / (length(na.omit(data)) - 1)\n",
    "}\n",
    "\n",
    "test_that('variance is calculated incorrectly', {\n",
    "    expect_equal(variance(c(1, 1)), 0)\n",
    "    expect_equal(variance(c(2, 4)), 2)\n",
    "    expect_true(is.na(variance(c(1))))\n",
    "})\n",
    "test_that('variance expects a numeric vector', {\n",
    "    expect_error(variance(list(1, 2, 3)))\n",
    "    expect_error(variance(data.frame(1, 2, 3)))\n",
    "    expect_error(variance(c(\"one\", \"two\", \"three\")))\n",
    "})\n",
    "# END SOLUTION"
   ]
  },
  {
   "cell_type": "raw",
   "metadata": {},
   "source": [
    "# END SOLUTION"
   ]
  },
  {
   "cell_type": "raw",
   "metadata": {},
   "source": [
    "# END QUESTION"
   ]
  },
  {
   "cell_type": "raw",
   "metadata": {},
   "source": [
    "# BEGIN QUESTION\n",
    "name: e5\n",
    "points: 5\n",
    "manual: true"
   ]
  },
  {
   "cell_type": "markdown",
   "metadata": {},
   "source": [
    "## Exercise 5: (Challenging Question)\n",
    "rubric={accuracy:5}\n",
    "\n",
    "We're going to be working with a data set from Kaggle to further explore the {purrr} `map*` functions. This data was collected under the instructions from Madrid's City Council and is publicly available on their website. It is named `madrid_pollution.tsv` and is available here https://github.com/UBC-DSCI/dsci-100-assets/blob/master/2019-fall/materials/worksheet_03/data/madrid_pollution.csv?raw=true. This data includes daily and hourly measurements of air quality from 2001 to 2006. Pollutants are categorized based on their chemical properties. More information about this data set can be found [here](https://www.kaggle.com/decide-soluciones/air-quality-madrid). \n",
    "\n",
    "In this exercise we want you to use create a subset of this data frame called that contains only the records for the year 2006, and only the columns with the pollutant values. Then we want you to use a {purrr} `map*` function and a standard error function (that you write yourself) to obtain the standard errors for each pollutant in 2006 stored as a tibble. \n",
    "\n",
    "The standard error of a normal distribution is defined as the standard deviation divided by the square root of the number of observations:\n",
    "\n",
    "$$se = \\frac{sd}{\\sqrt{n}}$$\n",
    "\n",
    "There is no function for this in R, so for this question you need to write this yourself. Be sure to also write tests for your function to prove that it works as expected."
   ]
  },
  {
   "cell_type": "raw",
   "metadata": {},
   "source": [
    "# BEGIN SOLUTION"
   ]
  },
  {
   "cell_type": "code",
   "execution_count": 9,
   "metadata": {},
   "outputs": [
    {
     "name": "stdout",
     "output_type": "stream",
     "text": [
      "\u001b[32mTest passed\u001b[39m 🥇\n",
      "\u001b[32mTest passed\u001b[39m 🌈\n"
     ]
    },
    {
     "name": "stderr",
     "output_type": "stream",
     "text": [
      "\u001b[1mRows: \u001b[22m\u001b[34m51864\u001b[39m \u001b[1mColumns: \u001b[22m\u001b[34m17\u001b[39m\n",
      "\u001b[36m──\u001b[39m \u001b[1mColumn specification\u001b[22m \u001b[36m───────────────────────────────────────────────────────────────────────────────────────────────────────────────────────────────────\u001b[39m\n",
      "\u001b[1mDelimiter:\u001b[22m \"\\t\"\n",
      "\u001b[31mchr\u001b[39m   (1): month\n",
      "\u001b[32mdbl\u001b[39m  (15): BEN, CO, EBE, MXY, NMHC, NO_2, NOx, OXY, O_3, PM10, PXY, SO_2, TC...\n",
      "\u001b[34mdttm\u001b[39m  (1): date\n",
      "\n",
      "\u001b[36mℹ\u001b[39m Use `spec()` to retrieve the full column specification for this data.\n",
      "\u001b[36mℹ\u001b[39m Specify the column types or set `show_col_types = FALSE` to quiet this message.\n"
     ]
    },
    {
     "data": {
      "text/html": [
       "<table class=\"dataframe\">\n",
       "<caption>A tibble: 1 × 14</caption>\n",
       "<thead>\n",
       "\t<tr><th scope=col>BEN</th><th scope=col>CO</th><th scope=col>EBE</th><th scope=col>MXY</th><th scope=col>NMHC</th><th scope=col>NO_2</th><th scope=col>NOx</th><th scope=col>OXY</th><th scope=col>O_3</th><th scope=col>PM10</th><th scope=col>PXY</th><th scope=col>SO_2</th><th scope=col>TCH</th><th scope=col>TOL</th></tr>\n",
       "\t<tr><th scope=col>&lt;dbl&gt;</th><th scope=col>&lt;dbl&gt;</th><th scope=col>&lt;dbl&gt;</th><th scope=col>&lt;dbl&gt;</th><th scope=col>&lt;dbl&gt;</th><th scope=col>&lt;dbl&gt;</th><th scope=col>&lt;dbl&gt;</th><th scope=col>&lt;dbl&gt;</th><th scope=col>&lt;dbl&gt;</th><th scope=col>&lt;dbl&gt;</th><th scope=col>&lt;dbl&gt;</th><th scope=col>&lt;dbl&gt;</th><th scope=col>&lt;dbl&gt;</th><th scope=col>&lt;dbl&gt;</th></tr>\n",
       "</thead>\n",
       "<tbody>\n",
       "\t<tr><td>0.0105806</td><td>0.003330898</td><td>0.01547974</td><td>0.03847104</td><td>0.001128442</td><td>0.3594865</td><td>1.169954</td><td>0.01616178</td><td>0.2584397</td><td>0.33335</td><td>0.0135156</td><td>0.04546101</td><td>0.002264205</td><td>0.06696747</td></tr>\n",
       "</tbody>\n",
       "</table>\n"
      ],
      "text/latex": [
       "A tibble: 1 × 14\n",
       "\\begin{tabular}{llllllllllllll}\n",
       " BEN & CO & EBE & MXY & NMHC & NO\\_2 & NOx & OXY & O\\_3 & PM10 & PXY & SO\\_2 & TCH & TOL\\\\\n",
       " <dbl> & <dbl> & <dbl> & <dbl> & <dbl> & <dbl> & <dbl> & <dbl> & <dbl> & <dbl> & <dbl> & <dbl> & <dbl> & <dbl>\\\\\n",
       "\\hline\n",
       "\t 0.0105806 & 0.003330898 & 0.01547974 & 0.03847104 & 0.001128442 & 0.3594865 & 1.169954 & 0.01616178 & 0.2584397 & 0.33335 & 0.0135156 & 0.04546101 & 0.002264205 & 0.06696747\\\\\n",
       "\\end{tabular}\n"
      ],
      "text/markdown": [
       "\n",
       "A tibble: 1 × 14\n",
       "\n",
       "| BEN &lt;dbl&gt; | CO &lt;dbl&gt; | EBE &lt;dbl&gt; | MXY &lt;dbl&gt; | NMHC &lt;dbl&gt; | NO_2 &lt;dbl&gt; | NOx &lt;dbl&gt; | OXY &lt;dbl&gt; | O_3 &lt;dbl&gt; | PM10 &lt;dbl&gt; | PXY &lt;dbl&gt; | SO_2 &lt;dbl&gt; | TCH &lt;dbl&gt; | TOL &lt;dbl&gt; |\n",
       "|---|---|---|---|---|---|---|---|---|---|---|---|---|---|\n",
       "| 0.0105806 | 0.003330898 | 0.01547974 | 0.03847104 | 0.001128442 | 0.3594865 | 1.169954 | 0.01616178 | 0.2584397 | 0.33335 | 0.0135156 | 0.04546101 | 0.002264205 | 0.06696747 |\n",
       "\n"
      ],
      "text/plain": [
       "  BEN       CO          EBE        MXY        NMHC        NO_2      NOx     \n",
       "1 0.0105806 0.003330898 0.01547974 0.03847104 0.001128442 0.3594865 1.169954\n",
       "  OXY        O_3       PM10    PXY       SO_2       TCH         TOL       \n",
       "1 0.01616178 0.2584397 0.33335 0.0135156 0.04546101 0.002264205 0.06696747"
      ]
     },
     "metadata": {},
     "output_type": "display_data"
    }
   ],
   "source": [
    "# BEGIN SOLUTION NO PROMPT\n",
    "#' Calculates the standard deviation of a vector of numbers.\n",
    "#'\n",
    "#' Calculates the standard deviation of data generated from a normal/Gaussian distribution, \n",
    "#' omitting NA's in the data.\n",
    "#'\n",
    "#' @param data numeric vector of numbers whose length is > 1.\n",
    "#'\n",
    "#' @return numeric vector of length one, the standard error.\n",
    "#'\n",
    "#' @examples\n",
    "#' se(c(1, 2, 3))\n",
    "se <- function(data) {\n",
    "    if (is.list(data)) {\n",
    "        stop(\"input should be a vector\")\n",
    "    }\n",
    "    if (!is.numeric(data)) {\n",
    "        stop(\"input should be a numeric vector\")\n",
    "    }\n",
    "    \n",
    "    sd(data, na.rm = TRUE) / sqrt(length(na.omit(data)))\n",
    "}\n",
    "\n",
    "test_that('standard error is calculated incorrectly', {\n",
    "    expect_equal(se(c(2, 2, 2, 2)), 0)\n",
    "    expect_equal(se(c(2, 4, 2, 4)), 0.58, tolerance = 0.01)\n",
    "    expect_true(is.na(variance(c(1))))\n",
    "})\n",
    "test_that('variance expects a numeric vector', {\n",
    "    expect_error(variance(list(1, 2, 3)))\n",
    "    expect_error(variance(data.frame(1, 2, 3)))\n",
    "    expect_error(variance(c(\"one\", \"two\", \"three\")))\n",
    "})\n",
    "\n",
    "madrid_se <- read_tsv(\"https://raw.githubusercontent.com/UBC-DSCI/dsci-100-assets/master/2019-fall/materials/worksheet_03/data/madrid_pollution.csv\") %>% \n",
    "    filter(year == 2006) |> \n",
    "    select(-date, -year, -month) |> \n",
    "    map_df(se)\n",
    "madrid_se\n",
    "# END SOLUTION"
   ]
  },
  {
   "cell_type": "raw",
   "metadata": {},
   "source": [
    "# END SOLUTION"
   ]
  },
  {
   "cell_type": "raw",
   "metadata": {},
   "source": [
    "# END QUESTION"
   ]
  },
  {
   "cell_type": "markdown",
   "metadata": {},
   "source": [
    "Note - there is a new {tidyverse} function, `across`, that is also useful for applying a function across columns (docs: https://dplyr.tidyverse.org/reference/across.html), however we focus on teaching `map_*` in MDS as it is more general. Feel free to use either in future if the use of `map_*` is not specified."
   ]
  },
  {
   "cell_type": "markdown",
   "metadata": {
    "tags": []
   },
   "source": [
    "Congratulations! You are done the lab!!! Pat yourself on the back, make sure you pushed 3 commits to GitHub and submit your worksheet to Gradescope!"
   ]
  }
 ],
 "metadata": {
  "celltoolbar": "Create Assignment",
  "kernelspec": {
   "display_name": "R",
   "language": "R",
   "name": "ir"
  },
  "language_info": {
   "codemirror_mode": "r",
   "file_extension": ".r",
   "mimetype": "text/x-r-source",
   "name": "R",
   "pygments_lexer": "r",
   "version": "4.2.1"
  },
  "toc-autonumbering": true,
  "toc-showmarkdowntxt": true,
  "toc-showtags": true
 },
 "nbformat": 4,
 "nbformat_minor": 4
}
