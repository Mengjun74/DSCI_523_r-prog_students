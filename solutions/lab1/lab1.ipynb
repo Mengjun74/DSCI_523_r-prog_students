{
 "cells": [
  {
   "cell_type": "raw",
   "metadata": {},
   "source": [
    "# ASSIGNMENT CONFIG\n",
    "requirements: requirements.R\n",
    "generate:\n",
    "    show_hidden: true\n",
    "    show_stdout: true\n",
    "    channel_priority_strict: false\n",
    "environment: environment.yml\n",
    "files:\n",
    "  - data\n",
    "  - img"
   ]
  },
  {
   "cell_type": "markdown",
   "metadata": {},
   "source": [
    "# DSCI 523 Lab Assignment 1 \n",
    "\n",
    "## Introduction to programming with R for data manipulation"
   ]
  },
  {
   "cell_type": "markdown",
   "metadata": {},
   "source": [
    "## Lab Mechanics\n",
    "rubric={mechanics:5}\n",
    "\n",
    "- All files necessary to run your work must be pushed to your GitHub.ubc.ca repository for this lab.\n",
    "- You need to have a minimum of 3 commit messages associated with your GitHub.ubc.ca repository for this lab.\n",
    "- You must also submit `.ipynb` file OR the `zip` file generated at the last step (under Submission heading) in this worksheet/lab to Gradescope. Entire notebook must be executed so the TA's can see the results of your work. \n",
    "- **There is autograding in this lab, so please do not move or rename this file. Also, do not copy and paste cells, if you need to add new cells, create new cells via the \"Insert a cell below\" button instead.**\n",
    "- Follow the [MDS general lab instructions](https://ubc-mds.github.io/resources_pages/general_lab_instructions/). "
   ]
  },
  {
   "cell_type": "markdown",
   "metadata": {},
   "source": [
    "### Getting your homework (i.e., worksheet and lab repositories) from GitHub.ubc.ca onto MDS's JuypterHub\n",
    "\n",
    "Watch the video titled \"Downloading the lab assignment from GitHub to JupyterLab\" from DSCI 521, accessible [here](https://pages.github.ubc.ca/MDS-2022-23/DSCI_521_platforms-dsci_students/materials/appendices/submit-assignment.html)."
   ]
  },
  {
   "cell_type": "markdown",
   "metadata": {},
   "source": [
    "## Code Quality\n",
    "rubric={quality:5}\n",
    "\n",
    "The code that you write for this assignment will be given one overall grade for code quality, see our code quality rubric as a guide to what we are looking for. Also, for this course (and other MDS courses that use R), we are trying to follow the tidyverse code style. There is a guide you can refer too: http://style.tidyverse.org/\n",
    "\n",
    "Each code question will also be assessed for code accuracy (i.e., does it do what it is supposed to do?)."
   ]
  },
  {
   "cell_type": "markdown",
   "metadata": {},
   "source": [
    "## Table of contents\n",
    "\n",
    "1. [Exercise 1: Reading data into R](#Exercise-1:-Reading-data-into-R)\n",
    "\n",
    "2. [Exercise 2: Data wrangling with {dplyr}](#Exercise-2:-Data-wrangling-with-{dplyr})\n",
    "\n",
    "3. [Exercise 3: More data wrangling with {dplyr}](#Exercise-3:-More-data-wrangling-with-{dplyr})\n",
    "\n",
    "4. [Exercise 4: Tidying data with {tidyr}](#Exercise-4:-Tidying-data-with-{tidyr})\n",
    "\n",
    "5. [Exercise 5: Tidying more data with {tidyr}](#Exercise-5:-Tidying-more-data-with-{tidyr})\n",
    "\n",
    "6. [Exercise 6: Subsetting with base R](#Exercise-6:-Subsetting-with-base-R)\n",
    "\n",
    "7. [Exercise 7: (Optional)](#Exercise-7:-(Optional))\n",
    "\n",
    "8. [Submission instructions](#Submission)"
   ]
  },
  {
   "cell_type": "markdown",
   "metadata": {},
   "source": [
    "Run the cell below to load the libraries needed for this lab, as well as the test file so you can check your answers as you go!"
   ]
  },
  {
   "cell_type": "code",
   "execution_count": 1,
   "metadata": {},
   "outputs": [
    {
     "name": "stderr",
     "output_type": "stream",
     "text": [
      "── \u001b[1mAttaching packages\u001b[22m ────────────────────────────────────────────────────────────────────────────────────────────────────────────────── tidyverse 1.3.2 ──\n",
      "\u001b[32m✔\u001b[39m \u001b[34mggplot2\u001b[39m 3.3.6     \u001b[32m✔\u001b[39m \u001b[34mpurrr  \u001b[39m 0.3.4\n",
      "\u001b[32m✔\u001b[39m \u001b[34mtibble \u001b[39m 3.1.8     \u001b[32m✔\u001b[39m \u001b[34mdplyr  \u001b[39m 1.0.9\n",
      "\u001b[32m✔\u001b[39m \u001b[34mtidyr  \u001b[39m 1.2.0     \u001b[32m✔\u001b[39m \u001b[34mstringr\u001b[39m 1.4.1\n",
      "\u001b[32m✔\u001b[39m \u001b[34mreadr  \u001b[39m 2.1.2     \u001b[32m✔\u001b[39m \u001b[34mforcats\u001b[39m 0.5.1\n",
      "── \u001b[1mConflicts\u001b[22m ───────────────────────────────────────────────────────────────────────────────────────────────────────────────────── tidyverse_conflicts() ──\n",
      "\u001b[31m✖\u001b[39m \u001b[34mreadr\u001b[39m::\u001b[32medition_get()\u001b[39m   masks \u001b[34mtestthat\u001b[39m::edition_get()\n",
      "\u001b[31m✖\u001b[39m \u001b[34mdplyr\u001b[39m::\u001b[32mfilter()\u001b[39m        masks \u001b[34mstats\u001b[39m::filter()\n",
      "\u001b[31m✖\u001b[39m \u001b[34mpurrr\u001b[39m::\u001b[32mis_null()\u001b[39m       masks \u001b[34mtestthat\u001b[39m::is_null()\n",
      "\u001b[31m✖\u001b[39m \u001b[34mdplyr\u001b[39m::\u001b[32mlag()\u001b[39m           masks \u001b[34mstats\u001b[39m::lag()\n",
      "\u001b[31m✖\u001b[39m \u001b[34mreadr\u001b[39m::\u001b[32mlocal_edition()\u001b[39m masks \u001b[34mtestthat\u001b[39m::local_edition()\n",
      "\u001b[31m✖\u001b[39m \u001b[34mdplyr\u001b[39m::\u001b[32mmatches()\u001b[39m       masks \u001b[34mtidyr\u001b[39m::matches(), \u001b[34mtestthat\u001b[39m::matches()\n"
     ]
    }
   ],
   "source": [
    "library(canlang)\n",
    "library(readxl)\n",
    "library(repurrrsive)\n",
    "library(testthat)\n",
    "library(tidyverse)\n",
    "options(repr.matrix.max.rows = 10)"
   ]
  },
  {
   "cell_type": "markdown",
   "metadata": {},
   "source": [
    "## Exercise 1: Reading data into R\n",
    "\n",
    "Reading data into R is so essential, that we need to get really good at it so it's not a bottleneck in our workflow! Here's some more practice for you! Read the data files listed in the table below and and bind the names listed in the table to them. We will use hidden tests to grade this, so you will get to practice deciding that your job is done, and done correctly. \n",
    "\n",
    "**Note - if the column names are missing from any data sets you need to add them yourself programmatically via R** (see `col_names` arguement of the `read_*` functions).\n",
    "\n",
    "\n",
    "| File  | Object name to bind to the data frame | File location |\n",
    "|---|---|----|\n",
    "| `abbotsford_lang.xlsx`  | `abbotsford` | `data` directory of this repo |\n",
    "| `calgary_lang.csv`  | `calgary`  | `data` directory of this repo |\n",
    "| `edmonton_lang.xlsx`  | `edmonton`  | https://github.com/ttimbers/canlang/blob/master/inst/extdata/edmonton_lang.xlsx?raw=true |\n",
    "|  `kelowna_lang.csv` | `kelowna`  | `data` directory of this repo |\n",
    "| `vancouver_lang.csv`  | `vancouver`  | `data` directory of this repo |\n",
    "| `victoria_lang.csv`  | `victoria`  | https://github.com/ttimbers/canlang/raw/master/inst/extdata/victoria_lang.tsv |\n",
    "\n",
    "> #### The data\n",
    "> The data you will be working with in this first exercise is language data from the 2016 Canadian Census for cities in Western Canada. If you are unfamiliar with Western Canadian geography, here's a map to help you start to get more familiar:\n",
    ">\n",
    "> <img src=\"https://www.canadatours.com/images/maps/Canada_W.gif\" width=500>\n",
    ">\n",
    "> *Image source: https://www.canadatours.com/canada_maps.cfm?#W*"
   ]
  },
  {
   "cell_type": "raw",
   "metadata": {},
   "source": [
    "# BEGIN QUESTION\n",
    "name: e151\n",
    "points: 5"
   ]
  },
  {
   "cell_type": "markdown",
   "metadata": {},
   "source": [
    "#### Read in the Abbotsford language data:\n",
    "rubric={autograde:5}"
   ]
  },
  {
   "cell_type": "raw",
   "metadata": {},
   "source": [
    "# BEGIN SOLUTION"
   ]
  },
  {
   "cell_type": "code",
   "execution_count": 2,
   "metadata": {},
   "outputs": [
    {
     "data": {
      "text/html": [
       "<table class=\"dataframe\">\n",
       "<caption>A tibble: 6 × 6</caption>\n",
       "<thead>\n",
       "\t<tr><th scope=col>category</th><th scope=col>language</th><th scope=col>mother_tongue</th><th scope=col>most_at_home</th><th scope=col>most_at_work</th><th scope=col>lang_known</th></tr>\n",
       "\t<tr><th scope=col>&lt;chr&gt;</th><th scope=col>&lt;chr&gt;</th><th scope=col>&lt;dbl&gt;</th><th scope=col>&lt;dbl&gt;</th><th scope=col>&lt;dbl&gt;</th><th scope=col>&lt;dbl&gt;</th></tr>\n",
       "</thead>\n",
       "<tbody>\n",
       "\t<tr><td>Aboriginal languages                   </td><td>Aboriginal languages, n.o.s.  </td><td>  5</td><td> 5</td><td>0</td><td>  0</td></tr>\n",
       "\t<tr><td>Non-Official &amp; Non-Aboriginal languages</td><td><span style=white-space:pre-wrap>Afrikaans                     </span></td><td>135</td><td>75</td><td>0</td><td>285</td></tr>\n",
       "\t<tr><td>Non-Official &amp; Non-Aboriginal languages</td><td>Afro-Asiatic languages, n.i.e.</td><td><span style=white-space:pre-wrap>  0</span></td><td> 0</td><td>0</td><td> 10</td></tr>\n",
       "\t<tr><td>Non-Official &amp; Non-Aboriginal languages</td><td><span style=white-space:pre-wrap>Akan (Twi)                    </span></td><td> 15</td><td> 0</td><td>0</td><td> 15</td></tr>\n",
       "\t<tr><td>Non-Official &amp; Non-Aboriginal languages</td><td><span style=white-space:pre-wrap>Albanian                      </span></td><td> 80</td><td>25</td><td>0</td><td>140</td></tr>\n",
       "\t<tr><td>Aboriginal languages                   </td><td>Algonquian languages, n.i.e.  </td><td>  0</td><td> 0</td><td>0</td><td>  0</td></tr>\n",
       "</tbody>\n",
       "</table>\n"
      ],
      "text/latex": [
       "A tibble: 6 × 6\n",
       "\\begin{tabular}{llllll}\n",
       " category & language & mother\\_tongue & most\\_at\\_home & most\\_at\\_work & lang\\_known\\\\\n",
       " <chr> & <chr> & <dbl> & <dbl> & <dbl> & <dbl>\\\\\n",
       "\\hline\n",
       "\t Aboriginal languages                    & Aboriginal languages, n.o.s.   &   5 &  5 & 0 &   0\\\\\n",
       "\t Non-Official \\& Non-Aboriginal languages & Afrikaans                      & 135 & 75 & 0 & 285\\\\\n",
       "\t Non-Official \\& Non-Aboriginal languages & Afro-Asiatic languages, n.i.e. &   0 &  0 & 0 &  10\\\\\n",
       "\t Non-Official \\& Non-Aboriginal languages & Akan (Twi)                     &  15 &  0 & 0 &  15\\\\\n",
       "\t Non-Official \\& Non-Aboriginal languages & Albanian                       &  80 & 25 & 0 & 140\\\\\n",
       "\t Aboriginal languages                    & Algonquian languages, n.i.e.   &   0 &  0 & 0 &   0\\\\\n",
       "\\end{tabular}\n"
      ],
      "text/markdown": [
       "\n",
       "A tibble: 6 × 6\n",
       "\n",
       "| category &lt;chr&gt; | language &lt;chr&gt; | mother_tongue &lt;dbl&gt; | most_at_home &lt;dbl&gt; | most_at_work &lt;dbl&gt; | lang_known &lt;dbl&gt; |\n",
       "|---|---|---|---|---|---|\n",
       "| Aboriginal languages                    | Aboriginal languages, n.o.s.   |   5 |  5 | 0 |   0 |\n",
       "| Non-Official &amp; Non-Aboriginal languages | Afrikaans                      | 135 | 75 | 0 | 285 |\n",
       "| Non-Official &amp; Non-Aboriginal languages | Afro-Asiatic languages, n.i.e. |   0 |  0 | 0 |  10 |\n",
       "| Non-Official &amp; Non-Aboriginal languages | Akan (Twi)                     |  15 |  0 | 0 |  15 |\n",
       "| Non-Official &amp; Non-Aboriginal languages | Albanian                       |  80 | 25 | 0 | 140 |\n",
       "| Aboriginal languages                    | Algonquian languages, n.i.e.   |   0 |  0 | 0 |   0 |\n",
       "\n"
      ],
      "text/plain": [
       "  category                                language                      \n",
       "1 Aboriginal languages                    Aboriginal languages, n.o.s.  \n",
       "2 Non-Official & Non-Aboriginal languages Afrikaans                     \n",
       "3 Non-Official & Non-Aboriginal languages Afro-Asiatic languages, n.i.e.\n",
       "4 Non-Official & Non-Aboriginal languages Akan (Twi)                    \n",
       "5 Non-Official & Non-Aboriginal languages Albanian                      \n",
       "6 Aboriginal languages                    Algonquian languages, n.i.e.  \n",
       "  mother_tongue most_at_home most_at_work lang_known\n",
       "1   5            5           0              0       \n",
       "2 135           75           0            285       \n",
       "3   0            0           0             10       \n",
       "4  15            0           0             15       \n",
       "5  80           25           0            140       \n",
       "6   0            0           0              0       "
      ]
     },
     "metadata": {},
     "output_type": "display_data"
    }
   ],
   "source": [
    "abbotsford <- NULL\n",
    "# BEGIN SOLUTION NO PROMPT\n",
    "abbotsford <- read_excel(\"data/abbotsford_lang.xlsx\", sheet = \"data\")\n",
    "# END SOLUTION\n",
    "head(abbotsford)"
   ]
  },
  {
   "cell_type": "raw",
   "metadata": {},
   "source": [
    "# END SOLUTION"
   ]
  },
  {
   "cell_type": "raw",
   "metadata": {},
   "source": [
    "# BEGIN TESTS"
   ]
  },
  {
   "cell_type": "code",
   "execution_count": 3,
   "metadata": {},
   "outputs": [],
   "source": [
    "# HIDDEN\n",
    "expect_equal(nrow(abbotsford), 214)\n",
    "expect_equal(ncol(abbotsford), 6)\n",
    "expect_equal(paste(tolower(sort(colnames(abbotsford))), collapse = \"\"), 'categorylang_knownlanguagemost_at_homemost_at_workmother_tongue')\n",
    "expect_equal(round(as.numeric(sum(abbotsford$mother_tongue, na.rm = TRUE))), 173570)"
   ]
  },
  {
   "cell_type": "raw",
   "metadata": {},
   "source": [
    "# END TESTS"
   ]
  },
  {
   "cell_type": "raw",
   "metadata": {},
   "source": [
    "# END QUESTION"
   ]
  },
  {
   "cell_type": "raw",
   "metadata": {},
   "source": [
    "# BEGIN QUESTION\n",
    "name: e152\n",
    "points: 5"
   ]
  },
  {
   "cell_type": "markdown",
   "metadata": {},
   "source": [
    "#### Read in the Calgary language data:\n",
    "rubric={autograde:5}"
   ]
  },
  {
   "cell_type": "raw",
   "metadata": {},
   "source": [
    "# BEGIN SOLUTION"
   ]
  },
  {
   "cell_type": "code",
   "execution_count": 4,
   "metadata": {},
   "outputs": [
    {
     "name": "stderr",
     "output_type": "stream",
     "text": [
      "\u001b[1mRows: \u001b[22m\u001b[34m214\u001b[39m \u001b[1mColumns: \u001b[22m\u001b[34m6\u001b[39m\n",
      "\u001b[36m──\u001b[39m \u001b[1mColumn specification\u001b[22m \u001b[36m───────────────────────────────────────────────────────────────────────────────────────────────────────────────────────────────────\u001b[39m\n",
      "\u001b[1mDelimiter:\u001b[22m \",\"\n",
      "\u001b[31mchr\u001b[39m (2): category, language\n",
      "\u001b[32mdbl\u001b[39m (4): mother_tongue, most_at_home, most_at_work, lang_known\n",
      "\n",
      "\u001b[36mℹ\u001b[39m Use `spec()` to retrieve the full column specification for this data.\n",
      "\u001b[36mℹ\u001b[39m Specify the column types or set `show_col_types = FALSE` to quiet this message.\n"
     ]
    },
    {
     "data": {
      "text/html": [
       "<table class=\"dataframe\">\n",
       "<caption>A tibble: 6 × 6</caption>\n",
       "<thead>\n",
       "\t<tr><th scope=col>category</th><th scope=col>language</th><th scope=col>mother_tongue</th><th scope=col>most_at_home</th><th scope=col>most_at_work</th><th scope=col>lang_known</th></tr>\n",
       "\t<tr><th scope=col>&lt;chr&gt;</th><th scope=col>&lt;chr&gt;</th><th scope=col>&lt;dbl&gt;</th><th scope=col>&lt;dbl&gt;</th><th scope=col>&lt;dbl&gt;</th><th scope=col>&lt;dbl&gt;</th></tr>\n",
       "</thead>\n",
       "<tbody>\n",
       "\t<tr><td>Aboriginal languages                   </td><td>Aboriginal languages, n.o.s.  </td><td>  20</td><td>  5</td><td> 0</td><td>  15</td></tr>\n",
       "\t<tr><td>Non-Official &amp; Non-Aboriginal languages</td><td><span style=white-space:pre-wrap>Afrikaans                     </span></td><td> 960</td><td>505</td><td>15</td><td>1955</td></tr>\n",
       "\t<tr><td>Non-Official &amp; Non-Aboriginal languages</td><td>Afro-Asiatic languages, n.i.e.</td><td><span style=white-space:pre-wrap>  45</span></td><td> 15</td><td> 0</td><td> 170</td></tr>\n",
       "\t<tr><td>Non-Official &amp; Non-Aboriginal languages</td><td><span style=white-space:pre-wrap>Akan (Twi)                    </span></td><td> 705</td><td>330</td><td> 0</td><td>1150</td></tr>\n",
       "\t<tr><td>Non-Official &amp; Non-Aboriginal languages</td><td><span style=white-space:pre-wrap>Albanian                      </span></td><td>1365</td><td>620</td><td>25</td><td>1735</td></tr>\n",
       "\t<tr><td>Aboriginal languages                   </td><td>Algonquian languages, n.i.e.  </td><td>   0</td><td>  0</td><td> 0</td><td>   0</td></tr>\n",
       "</tbody>\n",
       "</table>\n"
      ],
      "text/latex": [
       "A tibble: 6 × 6\n",
       "\\begin{tabular}{llllll}\n",
       " category & language & mother\\_tongue & most\\_at\\_home & most\\_at\\_work & lang\\_known\\\\\n",
       " <chr> & <chr> & <dbl> & <dbl> & <dbl> & <dbl>\\\\\n",
       "\\hline\n",
       "\t Aboriginal languages                    & Aboriginal languages, n.o.s.   &   20 &   5 &  0 &   15\\\\\n",
       "\t Non-Official \\& Non-Aboriginal languages & Afrikaans                      &  960 & 505 & 15 & 1955\\\\\n",
       "\t Non-Official \\& Non-Aboriginal languages & Afro-Asiatic languages, n.i.e. &   45 &  15 &  0 &  170\\\\\n",
       "\t Non-Official \\& Non-Aboriginal languages & Akan (Twi)                     &  705 & 330 &  0 & 1150\\\\\n",
       "\t Non-Official \\& Non-Aboriginal languages & Albanian                       & 1365 & 620 & 25 & 1735\\\\\n",
       "\t Aboriginal languages                    & Algonquian languages, n.i.e.   &    0 &   0 &  0 &    0\\\\\n",
       "\\end{tabular}\n"
      ],
      "text/markdown": [
       "\n",
       "A tibble: 6 × 6\n",
       "\n",
       "| category &lt;chr&gt; | language &lt;chr&gt; | mother_tongue &lt;dbl&gt; | most_at_home &lt;dbl&gt; | most_at_work &lt;dbl&gt; | lang_known &lt;dbl&gt; |\n",
       "|---|---|---|---|---|---|\n",
       "| Aboriginal languages                    | Aboriginal languages, n.o.s.   |   20 |   5 |  0 |   15 |\n",
       "| Non-Official &amp; Non-Aboriginal languages | Afrikaans                      |  960 | 505 | 15 | 1955 |\n",
       "| Non-Official &amp; Non-Aboriginal languages | Afro-Asiatic languages, n.i.e. |   45 |  15 |  0 |  170 |\n",
       "| Non-Official &amp; Non-Aboriginal languages | Akan (Twi)                     |  705 | 330 |  0 | 1150 |\n",
       "| Non-Official &amp; Non-Aboriginal languages | Albanian                       | 1365 | 620 | 25 | 1735 |\n",
       "| Aboriginal languages                    | Algonquian languages, n.i.e.   |    0 |   0 |  0 |    0 |\n",
       "\n"
      ],
      "text/plain": [
       "  category                                language                      \n",
       "1 Aboriginal languages                    Aboriginal languages, n.o.s.  \n",
       "2 Non-Official & Non-Aboriginal languages Afrikaans                     \n",
       "3 Non-Official & Non-Aboriginal languages Afro-Asiatic languages, n.i.e.\n",
       "4 Non-Official & Non-Aboriginal languages Akan (Twi)                    \n",
       "5 Non-Official & Non-Aboriginal languages Albanian                      \n",
       "6 Aboriginal languages                    Algonquian languages, n.i.e.  \n",
       "  mother_tongue most_at_home most_at_work lang_known\n",
       "1   20            5           0             15      \n",
       "2  960          505          15           1955      \n",
       "3   45           15           0            170      \n",
       "4  705          330           0           1150      \n",
       "5 1365          620          25           1735      \n",
       "6    0            0           0              0      "
      ]
     },
     "metadata": {},
     "output_type": "display_data"
    }
   ],
   "source": [
    "calgary <- NULL\n",
    "# BEGIN SOLUTION NO PROMPT\n",
    "calgary <- read_csv(\"data/calgary_lang.csv\")\n",
    "# END SOLUTION\n",
    "head(calgary)"
   ]
  },
  {
   "cell_type": "raw",
   "metadata": {},
   "source": [
    "# END SOLUTION"
   ]
  },
  {
   "cell_type": "raw",
   "metadata": {},
   "source": [
    "# BEGIN TESTS"
   ]
  },
  {
   "cell_type": "code",
   "execution_count": 5,
   "metadata": {},
   "outputs": [],
   "source": [
    "# HIDDEN\n",
    "expect_equal(nrow(calgary), 214)\n",
    "expect_equal(ncol(calgary), 6)\n",
    "expect_equal(paste(tolower(sort(colnames(calgary))), collapse = \"\"), 'categorylang_knownlanguagemost_at_homemost_at_workmother_tongue')\n",
    "expect_equal(round(as.numeric(sum(calgary$mother_tongue, na.rm = TRUE))), 1341120)"
   ]
  },
  {
   "cell_type": "raw",
   "metadata": {},
   "source": [
    "# END TESTS"
   ]
  },
  {
   "cell_type": "raw",
   "metadata": {},
   "source": [
    "# END QUESTION"
   ]
  },
  {
   "cell_type": "raw",
   "metadata": {},
   "source": [
    "# BEGIN QUESTION\n",
    "name: e153\n",
    "points: 5"
   ]
  },
  {
   "cell_type": "markdown",
   "metadata": {},
   "source": [
    "#### Read in the Edmonton language data:\n",
    "rubric={autograde:5}"
   ]
  },
  {
   "cell_type": "raw",
   "metadata": {},
   "source": [
    "# BEGIN SOLUTION"
   ]
  },
  {
   "cell_type": "code",
   "execution_count": 6,
   "metadata": {},
   "outputs": [
    {
     "data": {
      "text/html": [
       "<table class=\"dataframe\">\n",
       "<caption>A tibble: 6 × 6</caption>\n",
       "<thead>\n",
       "\t<tr><th scope=col>category</th><th scope=col>language</th><th scope=col>mother_tongue</th><th scope=col>most_at_home</th><th scope=col>most_at_work</th><th scope=col>lang_known</th></tr>\n",
       "\t<tr><th scope=col>&lt;chr&gt;</th><th scope=col>&lt;chr&gt;</th><th scope=col>&lt;dbl&gt;</th><th scope=col>&lt;dbl&gt;</th><th scope=col>&lt;dbl&gt;</th><th scope=col>&lt;dbl&gt;</th></tr>\n",
       "</thead>\n",
       "<tbody>\n",
       "\t<tr><td>Aboriginal languages                   </td><td>Aboriginal languages, n.o.s.  </td><td> 25</td><td> 10</td><td> 0</td><td>   0</td></tr>\n",
       "\t<tr><td>Non-Official &amp; Non-Aboriginal languages</td><td><span style=white-space:pre-wrap>Afrikaans                     </span></td><td>575</td><td>300</td><td> 0</td><td>1220</td></tr>\n",
       "\t<tr><td>Non-Official &amp; Non-Aboriginal languages</td><td>Afro-Asiatic languages, n.i.e.</td><td> 65</td><td> 20</td><td> 0</td><td> 155</td></tr>\n",
       "\t<tr><td>Non-Official &amp; Non-Aboriginal languages</td><td><span style=white-space:pre-wrap>Akan (Twi)                    </span></td><td>885</td><td>445</td><td> 0</td><td>1435</td></tr>\n",
       "\t<tr><td>Non-Official &amp; Non-Aboriginal languages</td><td><span style=white-space:pre-wrap>Albanian                      </span></td><td>770</td><td>370</td><td>10</td><td> 885</td></tr>\n",
       "\t<tr><td>Aboriginal languages                   </td><td>Algonquian languages, n.i.e.  </td><td>  0</td><td>  0</td><td> 0</td><td>   0</td></tr>\n",
       "</tbody>\n",
       "</table>\n"
      ],
      "text/latex": [
       "A tibble: 6 × 6\n",
       "\\begin{tabular}{llllll}\n",
       " category & language & mother\\_tongue & most\\_at\\_home & most\\_at\\_work & lang\\_known\\\\\n",
       " <chr> & <chr> & <dbl> & <dbl> & <dbl> & <dbl>\\\\\n",
       "\\hline\n",
       "\t Aboriginal languages                    & Aboriginal languages, n.o.s.   &  25 &  10 &  0 &    0\\\\\n",
       "\t Non-Official \\& Non-Aboriginal languages & Afrikaans                      & 575 & 300 &  0 & 1220\\\\\n",
       "\t Non-Official \\& Non-Aboriginal languages & Afro-Asiatic languages, n.i.e. &  65 &  20 &  0 &  155\\\\\n",
       "\t Non-Official \\& Non-Aboriginal languages & Akan (Twi)                     & 885 & 445 &  0 & 1435\\\\\n",
       "\t Non-Official \\& Non-Aboriginal languages & Albanian                       & 770 & 370 & 10 &  885\\\\\n",
       "\t Aboriginal languages                    & Algonquian languages, n.i.e.   &   0 &   0 &  0 &    0\\\\\n",
       "\\end{tabular}\n"
      ],
      "text/markdown": [
       "\n",
       "A tibble: 6 × 6\n",
       "\n",
       "| category &lt;chr&gt; | language &lt;chr&gt; | mother_tongue &lt;dbl&gt; | most_at_home &lt;dbl&gt; | most_at_work &lt;dbl&gt; | lang_known &lt;dbl&gt; |\n",
       "|---|---|---|---|---|---|\n",
       "| Aboriginal languages                    | Aboriginal languages, n.o.s.   |  25 |  10 |  0 |    0 |\n",
       "| Non-Official &amp; Non-Aboriginal languages | Afrikaans                      | 575 | 300 |  0 | 1220 |\n",
       "| Non-Official &amp; Non-Aboriginal languages | Afro-Asiatic languages, n.i.e. |  65 |  20 |  0 |  155 |\n",
       "| Non-Official &amp; Non-Aboriginal languages | Akan (Twi)                     | 885 | 445 |  0 | 1435 |\n",
       "| Non-Official &amp; Non-Aboriginal languages | Albanian                       | 770 | 370 | 10 |  885 |\n",
       "| Aboriginal languages                    | Algonquian languages, n.i.e.   |   0 |   0 |  0 |    0 |\n",
       "\n"
      ],
      "text/plain": [
       "  category                                language                      \n",
       "1 Aboriginal languages                    Aboriginal languages, n.o.s.  \n",
       "2 Non-Official & Non-Aboriginal languages Afrikaans                     \n",
       "3 Non-Official & Non-Aboriginal languages Afro-Asiatic languages, n.i.e.\n",
       "4 Non-Official & Non-Aboriginal languages Akan (Twi)                    \n",
       "5 Non-Official & Non-Aboriginal languages Albanian                      \n",
       "6 Aboriginal languages                    Algonquian languages, n.i.e.  \n",
       "  mother_tongue most_at_home most_at_work lang_known\n",
       "1  25            10           0              0      \n",
       "2 575           300           0           1220      \n",
       "3  65            20           0            155      \n",
       "4 885           445           0           1435      \n",
       "5 770           370          10            885      \n",
       "6   0             0           0              0      "
      ]
     },
     "metadata": {},
     "output_type": "display_data"
    }
   ],
   "source": [
    "edmonton <- NULL\n",
    "# BEGIN SOLUTION NO PROMPT\n",
    "url <- \"https://github.com/ttimbers/canlang/blob/master/inst/extdata/edmonton_lang.xlsx?raw=true\"\n",
    "download.file(url, destfile = \"data/edmonton.xlsx\")\n",
    "edmonton <- read_excel(\"data/edmonton.xlsx\", sheet = \"data\")\n",
    "# END SOLUTION\n",
    "head(edmonton)"
   ]
  },
  {
   "cell_type": "raw",
   "metadata": {},
   "source": [
    "# END SOLUTION"
   ]
  },
  {
   "cell_type": "raw",
   "metadata": {},
   "source": [
    "# BEGIN TESTS"
   ]
  },
  {
   "cell_type": "code",
   "execution_count": 7,
   "metadata": {},
   "outputs": [],
   "source": [
    "# HIDDEN\n",
    "expect_equal(nrow(edmonton), 214)\n",
    "expect_equal(ncol(edmonton), 6)\n",
    "expect_equal(paste(tolower(sort(colnames(edmonton))), collapse = \"\"), 'categorylang_knownlanguagemost_at_homemost_at_workmother_tongue')\n",
    "expect_equal(round(as.numeric(sum(edmonton$mother_tongue, na.rm = TRUE))), 1273005)"
   ]
  },
  {
   "cell_type": "raw",
   "metadata": {},
   "source": [
    "# END TESTS"
   ]
  },
  {
   "cell_type": "raw",
   "metadata": {},
   "source": [
    "# END QUESTION"
   ]
  },
  {
   "cell_type": "raw",
   "metadata": {},
   "source": [
    "# BEGIN QUESTION\n",
    "name: e154\n",
    "points: 5"
   ]
  },
  {
   "cell_type": "markdown",
   "metadata": {},
   "source": [
    "#### Read in the Kelowna language data:\n",
    "rubric={autograde:5}"
   ]
  },
  {
   "cell_type": "raw",
   "metadata": {},
   "source": [
    "# BEGIN SOLUTION"
   ]
  },
  {
   "cell_type": "code",
   "execution_count": 8,
   "metadata": {},
   "outputs": [
    {
     "name": "stderr",
     "output_type": "stream",
     "text": [
      "\u001b[36mℹ\u001b[39m Using \u001b[34m\u001b[34m\"','\"\u001b[34m\u001b[39m as decimal and \u001b[34m\u001b[34m\"'.'\"\u001b[34m\u001b[39m as grouping mark. Use `read_delim()` for more control.\n",
      "\n",
      "\u001b[1mRows: \u001b[22m\u001b[34m214\u001b[39m \u001b[1mColumns: \u001b[22m\u001b[34m6\u001b[39m\n",
      "\u001b[36m──\u001b[39m \u001b[1mColumn specification\u001b[22m \u001b[36m───────────────────────────────────────────────────────────────────────────────────────────────────────────────────────────────────\u001b[39m\n",
      "\u001b[1mDelimiter:\u001b[22m \";\"\n",
      "\u001b[31mchr\u001b[39m (2): category, language\n",
      "\u001b[32mdbl\u001b[39m (4): mother_tongue, most_at_home, most_at_work, lang_known\n",
      "\n",
      "\u001b[36mℹ\u001b[39m Use `spec()` to retrieve the full column specification for this data.\n",
      "\u001b[36mℹ\u001b[39m Specify the column types or set `show_col_types = FALSE` to quiet this message.\n"
     ]
    },
    {
     "data": {
      "text/html": [
       "<table class=\"dataframe\">\n",
       "<caption>A tibble: 6 × 6</caption>\n",
       "<thead>\n",
       "\t<tr><th scope=col>category</th><th scope=col>language</th><th scope=col>mother_tongue</th><th scope=col>most_at_home</th><th scope=col>most_at_work</th><th scope=col>lang_known</th></tr>\n",
       "\t<tr><th scope=col>&lt;chr&gt;</th><th scope=col>&lt;chr&gt;</th><th scope=col>&lt;dbl&gt;</th><th scope=col>&lt;dbl&gt;</th><th scope=col>&lt;dbl&gt;</th><th scope=col>&lt;dbl&gt;</th></tr>\n",
       "</thead>\n",
       "<tbody>\n",
       "\t<tr><td>Aboriginal languages                   </td><td>Aboriginal languages, n.o.s.  </td><td>  0</td><td> 0</td><td>0</td><td> 10</td></tr>\n",
       "\t<tr><td>Non-Official &amp; Non-Aboriginal languages</td><td><span style=white-space:pre-wrap>Afrikaans                     </span></td><td>175</td><td>75</td><td>0</td><td>280</td></tr>\n",
       "\t<tr><td>Non-Official &amp; Non-Aboriginal languages</td><td>Afro-Asiatic languages, n.i.e.</td><td><span style=white-space:pre-wrap>  5</span></td><td> 0</td><td>0</td><td><span style=white-space:pre-wrap>  0</span></td></tr>\n",
       "\t<tr><td>Non-Official &amp; Non-Aboriginal languages</td><td><span style=white-space:pre-wrap>Akan (Twi)                    </span></td><td><span style=white-space:pre-wrap>  5</span></td><td> 0</td><td>0</td><td> 30</td></tr>\n",
       "\t<tr><td>Non-Official &amp; Non-Aboriginal languages</td><td><span style=white-space:pre-wrap>Albanian                      </span></td><td> 30</td><td>10</td><td>0</td><td> 20</td></tr>\n",
       "\t<tr><td>Aboriginal languages                   </td><td>Algonquian languages, n.i.e.  </td><td>  0</td><td> 0</td><td>0</td><td>  0</td></tr>\n",
       "</tbody>\n",
       "</table>\n"
      ],
      "text/latex": [
       "A tibble: 6 × 6\n",
       "\\begin{tabular}{llllll}\n",
       " category & language & mother\\_tongue & most\\_at\\_home & most\\_at\\_work & lang\\_known\\\\\n",
       " <chr> & <chr> & <dbl> & <dbl> & <dbl> & <dbl>\\\\\n",
       "\\hline\n",
       "\t Aboriginal languages                    & Aboriginal languages, n.o.s.   &   0 &  0 & 0 &  10\\\\\n",
       "\t Non-Official \\& Non-Aboriginal languages & Afrikaans                      & 175 & 75 & 0 & 280\\\\\n",
       "\t Non-Official \\& Non-Aboriginal languages & Afro-Asiatic languages, n.i.e. &   5 &  0 & 0 &   0\\\\\n",
       "\t Non-Official \\& Non-Aboriginal languages & Akan (Twi)                     &   5 &  0 & 0 &  30\\\\\n",
       "\t Non-Official \\& Non-Aboriginal languages & Albanian                       &  30 & 10 & 0 &  20\\\\\n",
       "\t Aboriginal languages                    & Algonquian languages, n.i.e.   &   0 &  0 & 0 &   0\\\\\n",
       "\\end{tabular}\n"
      ],
      "text/markdown": [
       "\n",
       "A tibble: 6 × 6\n",
       "\n",
       "| category &lt;chr&gt; | language &lt;chr&gt; | mother_tongue &lt;dbl&gt; | most_at_home &lt;dbl&gt; | most_at_work &lt;dbl&gt; | lang_known &lt;dbl&gt; |\n",
       "|---|---|---|---|---|---|\n",
       "| Aboriginal languages                    | Aboriginal languages, n.o.s.   |   0 |  0 | 0 |  10 |\n",
       "| Non-Official &amp; Non-Aboriginal languages | Afrikaans                      | 175 | 75 | 0 | 280 |\n",
       "| Non-Official &amp; Non-Aboriginal languages | Afro-Asiatic languages, n.i.e. |   5 |  0 | 0 |   0 |\n",
       "| Non-Official &amp; Non-Aboriginal languages | Akan (Twi)                     |   5 |  0 | 0 |  30 |\n",
       "| Non-Official &amp; Non-Aboriginal languages | Albanian                       |  30 | 10 | 0 |  20 |\n",
       "| Aboriginal languages                    | Algonquian languages, n.i.e.   |   0 |  0 | 0 |   0 |\n",
       "\n"
      ],
      "text/plain": [
       "  category                                language                      \n",
       "1 Aboriginal languages                    Aboriginal languages, n.o.s.  \n",
       "2 Non-Official & Non-Aboriginal languages Afrikaans                     \n",
       "3 Non-Official & Non-Aboriginal languages Afro-Asiatic languages, n.i.e.\n",
       "4 Non-Official & Non-Aboriginal languages Akan (Twi)                    \n",
       "5 Non-Official & Non-Aboriginal languages Albanian                      \n",
       "6 Aboriginal languages                    Algonquian languages, n.i.e.  \n",
       "  mother_tongue most_at_home most_at_work lang_known\n",
       "1   0            0           0             10       \n",
       "2 175           75           0            280       \n",
       "3   5            0           0              0       \n",
       "4   5            0           0             30       \n",
       "5  30           10           0             20       \n",
       "6   0            0           0              0       "
      ]
     },
     "metadata": {},
     "output_type": "display_data"
    }
   ],
   "source": [
    "kelowna <- NULL\n",
    "# BEGIN SOLUTION NO PROMPT\n",
    "kelowna <- read_csv2(\"data/kelowna_lang.csv\", skip = 6, n_max = 214, \n",
    "                     col_names = c(\"category\", \"language\",\n",
    "                                   \"mother_tongue\", \"most_at_home\",\n",
    "                                   \"most_at_work\", \"lang_known\"))\n",
    "# END SOLUTION\n",
    "head(kelowna)"
   ]
  },
  {
   "cell_type": "raw",
   "metadata": {},
   "source": [
    "# END SOLUTION"
   ]
  },
  {
   "cell_type": "raw",
   "metadata": {},
   "source": [
    "# BEGIN TESTS"
   ]
  },
  {
   "cell_type": "code",
   "execution_count": 9,
   "metadata": {},
   "outputs": [],
   "source": [
    "# HIDDEN\n",
    "expect_equal(nrow(kelowna), 214)\n",
    "expect_equal(ncol(kelowna), 6)\n",
    "expect_equal(paste(tolower(sort(colnames(kelowna))), collapse = \"\"), 'categorylang_knownlanguagemost_at_homemost_at_workmother_tongue')\n",
    "expect_equal(round(as.numeric(sum(kelowna$mother_tongue, na.rm = TRUE))), 190845)"
   ]
  },
  {
   "cell_type": "raw",
   "metadata": {},
   "source": [
    "# END TESTS"
   ]
  },
  {
   "cell_type": "raw",
   "metadata": {},
   "source": [
    "# END QUESTION"
   ]
  },
  {
   "cell_type": "raw",
   "metadata": {},
   "source": [
    "# BEGIN QUESTION\n",
    "name: e155\n",
    "points: 5"
   ]
  },
  {
   "cell_type": "markdown",
   "metadata": {},
   "source": [
    "#### Read in the Vancouver language data:\n",
    "rubric={autograde:5}"
   ]
  },
  {
   "cell_type": "raw",
   "metadata": {},
   "source": [
    "# BEGIN SOLUTION"
   ]
  },
  {
   "cell_type": "code",
   "execution_count": 10,
   "metadata": {},
   "outputs": [
    {
     "name": "stderr",
     "output_type": "stream",
     "text": [
      "\u001b[1mRows: \u001b[22m\u001b[34m214\u001b[39m \u001b[1mColumns: \u001b[22m\u001b[34m6\u001b[39m\n",
      "\u001b[36m──\u001b[39m \u001b[1mColumn specification\u001b[22m \u001b[36m───────────────────────────────────────────────────────────────────────────────────────────────────────────────────────────────────\u001b[39m\n",
      "\u001b[1mDelimiter:\u001b[22m \",\"\n",
      "\u001b[31mchr\u001b[39m (2): category, language\n",
      "\u001b[32mdbl\u001b[39m (4): mother_tongue, most_at_home, most_at_work, lang_known\n",
      "\n",
      "\u001b[36mℹ\u001b[39m Use `spec()` to retrieve the full column specification for this data.\n",
      "\u001b[36mℹ\u001b[39m Specify the column types or set `show_col_types = FALSE` to quiet this message.\n"
     ]
    },
    {
     "data": {
      "text/html": [
       "<table class=\"dataframe\">\n",
       "<caption>A tibble: 6 × 6</caption>\n",
       "<thead>\n",
       "\t<tr><th scope=col>category</th><th scope=col>language</th><th scope=col>mother_tongue</th><th scope=col>most_at_home</th><th scope=col>most_at_work</th><th scope=col>lang_known</th></tr>\n",
       "\t<tr><th scope=col>&lt;chr&gt;</th><th scope=col>&lt;chr&gt;</th><th scope=col>&lt;dbl&gt;</th><th scope=col>&lt;dbl&gt;</th><th scope=col>&lt;dbl&gt;</th><th scope=col>&lt;dbl&gt;</th></tr>\n",
       "</thead>\n",
       "<tbody>\n",
       "\t<tr><td>Aboriginal languages                   </td><td>Aboriginal languages, n.o.s.  </td><td>  70</td><td> 15</td><td> 0</td><td>  35</td></tr>\n",
       "\t<tr><td>Non-Official &amp; Non-Aboriginal languages</td><td><span style=white-space:pre-wrap>Afrikaans                     </span></td><td>1435</td><td>520</td><td>10</td><td>4225</td></tr>\n",
       "\t<tr><td>Non-Official &amp; Non-Aboriginal languages</td><td>Afro-Asiatic languages, n.i.e.</td><td><span style=white-space:pre-wrap>  45</span></td><td> 10</td><td> 0</td><td><span style=white-space:pre-wrap>  95</span></td></tr>\n",
       "\t<tr><td>Non-Official &amp; Non-Aboriginal languages</td><td><span style=white-space:pre-wrap>Akan (Twi)                    </span></td><td> 400</td><td>125</td><td>10</td><td> 495</td></tr>\n",
       "\t<tr><td>Non-Official &amp; Non-Aboriginal languages</td><td><span style=white-space:pre-wrap>Albanian                      </span></td><td>1090</td><td>530</td><td>10</td><td>1135</td></tr>\n",
       "\t<tr><td>Aboriginal languages                   </td><td>Algonquian languages, n.i.e.  </td><td>   0</td><td>  0</td><td> 0</td><td>   0</td></tr>\n",
       "</tbody>\n",
       "</table>\n"
      ],
      "text/latex": [
       "A tibble: 6 × 6\n",
       "\\begin{tabular}{llllll}\n",
       " category & language & mother\\_tongue & most\\_at\\_home & most\\_at\\_work & lang\\_known\\\\\n",
       " <chr> & <chr> & <dbl> & <dbl> & <dbl> & <dbl>\\\\\n",
       "\\hline\n",
       "\t Aboriginal languages                    & Aboriginal languages, n.o.s.   &   70 &  15 &  0 &   35\\\\\n",
       "\t Non-Official \\& Non-Aboriginal languages & Afrikaans                      & 1435 & 520 & 10 & 4225\\\\\n",
       "\t Non-Official \\& Non-Aboriginal languages & Afro-Asiatic languages, n.i.e. &   45 &  10 &  0 &   95\\\\\n",
       "\t Non-Official \\& Non-Aboriginal languages & Akan (Twi)                     &  400 & 125 & 10 &  495\\\\\n",
       "\t Non-Official \\& Non-Aboriginal languages & Albanian                       & 1090 & 530 & 10 & 1135\\\\\n",
       "\t Aboriginal languages                    & Algonquian languages, n.i.e.   &    0 &   0 &  0 &    0\\\\\n",
       "\\end{tabular}\n"
      ],
      "text/markdown": [
       "\n",
       "A tibble: 6 × 6\n",
       "\n",
       "| category &lt;chr&gt; | language &lt;chr&gt; | mother_tongue &lt;dbl&gt; | most_at_home &lt;dbl&gt; | most_at_work &lt;dbl&gt; | lang_known &lt;dbl&gt; |\n",
       "|---|---|---|---|---|---|\n",
       "| Aboriginal languages                    | Aboriginal languages, n.o.s.   |   70 |  15 |  0 |   35 |\n",
       "| Non-Official &amp; Non-Aboriginal languages | Afrikaans                      | 1435 | 520 | 10 | 4225 |\n",
       "| Non-Official &amp; Non-Aboriginal languages | Afro-Asiatic languages, n.i.e. |   45 |  10 |  0 |   95 |\n",
       "| Non-Official &amp; Non-Aboriginal languages | Akan (Twi)                     |  400 | 125 | 10 |  495 |\n",
       "| Non-Official &amp; Non-Aboriginal languages | Albanian                       | 1090 | 530 | 10 | 1135 |\n",
       "| Aboriginal languages                    | Algonquian languages, n.i.e.   |    0 |   0 |  0 |    0 |\n",
       "\n"
      ],
      "text/plain": [
       "  category                                language                      \n",
       "1 Aboriginal languages                    Aboriginal languages, n.o.s.  \n",
       "2 Non-Official & Non-Aboriginal languages Afrikaans                     \n",
       "3 Non-Official & Non-Aboriginal languages Afro-Asiatic languages, n.i.e.\n",
       "4 Non-Official & Non-Aboriginal languages Akan (Twi)                    \n",
       "5 Non-Official & Non-Aboriginal languages Albanian                      \n",
       "6 Aboriginal languages                    Algonquian languages, n.i.e.  \n",
       "  mother_tongue most_at_home most_at_work lang_known\n",
       "1   70           15           0             35      \n",
       "2 1435          520          10           4225      \n",
       "3   45           10           0             95      \n",
       "4  400          125          10            495      \n",
       "5 1090          530          10           1135      \n",
       "6    0            0           0              0      "
      ]
     },
     "metadata": {},
     "output_type": "display_data"
    }
   ],
   "source": [
    "vancouver <- NULL\n",
    "# BEGIN SOLUTION NO PROMPT\n",
    "vancouver <- read_csv(\"data/vancouver_lang.csv\")\n",
    "# END SOLUTION\n",
    "head(vancouver)"
   ]
  },
  {
   "cell_type": "raw",
   "metadata": {},
   "source": [
    "# END SOLUTION"
   ]
  },
  {
   "cell_type": "raw",
   "metadata": {},
   "source": [
    "# BEGIN TESTS"
   ]
  },
  {
   "cell_type": "code",
   "execution_count": 11,
   "metadata": {},
   "outputs": [],
   "source": [
    "# HIDDEN\n",
    "expect_equal(nrow(vancouver), 214)\n",
    "expect_equal(ncol(vancouver), 6)\n",
    "expect_equal(paste(tolower(sort(colnames(vancouver))), collapse = \"\"), 'categorylang_knownlanguagemost_at_homemost_at_workmother_tongue')\n",
    "expect_equal(round(as.numeric(sum(vancouver$mother_tongue, na.rm = TRUE))), 2361925)"
   ]
  },
  {
   "cell_type": "raw",
   "metadata": {},
   "source": [
    "# END TESTS"
   ]
  },
  {
   "cell_type": "raw",
   "metadata": {},
   "source": [
    "# END QUESTION"
   ]
  },
  {
   "cell_type": "raw",
   "metadata": {},
   "source": [
    "# BEGIN QUESTION\n",
    "name: e156\n",
    "points: 5"
   ]
  },
  {
   "cell_type": "markdown",
   "metadata": {},
   "source": [
    "#### Read in the Victoria language data:\n",
    "rubric={autograde:5}"
   ]
  },
  {
   "cell_type": "raw",
   "metadata": {},
   "source": [
    "# BEGIN SOLUTION"
   ]
  },
  {
   "cell_type": "code",
   "execution_count": 12,
   "metadata": {},
   "outputs": [
    {
     "name": "stderr",
     "output_type": "stream",
     "text": [
      "\u001b[1mRows: \u001b[22m\u001b[34m214\u001b[39m \u001b[1mColumns: \u001b[22m\u001b[34m6\u001b[39m\n",
      "\u001b[36m──\u001b[39m \u001b[1mColumn specification\u001b[22m \u001b[36m───────────────────────────────────────────────────────────────────────────────────────────────────────────────────────────────────\u001b[39m\n",
      "\u001b[1mDelimiter:\u001b[22m \"\\t\"\n",
      "\u001b[31mchr\u001b[39m (2): category, language\n",
      "\u001b[32mdbl\u001b[39m (4): mother_tongue, most_at_home, most_at_work, lang_known\n",
      "\n",
      "\u001b[36mℹ\u001b[39m Use `spec()` to retrieve the full column specification for this data.\n",
      "\u001b[36mℹ\u001b[39m Specify the column types or set `show_col_types = FALSE` to quiet this message.\n"
     ]
    },
    {
     "data": {
      "text/html": [
       "<table class=\"dataframe\">\n",
       "<caption>A tibble: 6 × 6</caption>\n",
       "<thead>\n",
       "\t<tr><th scope=col>category</th><th scope=col>language</th><th scope=col>mother_tongue</th><th scope=col>most_at_home</th><th scope=col>most_at_work</th><th scope=col>lang_known</th></tr>\n",
       "\t<tr><th scope=col>&lt;chr&gt;</th><th scope=col>&lt;chr&gt;</th><th scope=col>&lt;dbl&gt;</th><th scope=col>&lt;dbl&gt;</th><th scope=col>&lt;dbl&gt;</th><th scope=col>&lt;dbl&gt;</th></tr>\n",
       "</thead>\n",
       "<tbody>\n",
       "\t<tr><td>Aboriginal languages                   </td><td>Aboriginal languages, n.o.s.  </td><td> 10</td><td> 0</td><td>0</td><td> 25</td></tr>\n",
       "\t<tr><td>Non-Official &amp; Non-Aboriginal languages</td><td><span style=white-space:pre-wrap>Afrikaans                     </span></td><td>175</td><td>50</td><td>0</td><td>580</td></tr>\n",
       "\t<tr><td>Non-Official &amp; Non-Aboriginal languages</td><td>Afro-Asiatic languages, n.i.e.</td><td><span style=white-space:pre-wrap>  0</span></td><td> 0</td><td>0</td><td> 20</td></tr>\n",
       "\t<tr><td>Non-Official &amp; Non-Aboriginal languages</td><td><span style=white-space:pre-wrap>Akan (Twi)                    </span></td><td> 20</td><td> 0</td><td>0</td><td><span style=white-space:pre-wrap>  0</span></td></tr>\n",
       "\t<tr><td>Non-Official &amp; Non-Aboriginal languages</td><td><span style=white-space:pre-wrap>Albanian                      </span></td><td>125</td><td>70</td><td>0</td><td>145</td></tr>\n",
       "\t<tr><td>Aboriginal languages                   </td><td>Algonquian languages, n.i.e.  </td><td>  0</td><td> 0</td><td>0</td><td>  0</td></tr>\n",
       "</tbody>\n",
       "</table>\n"
      ],
      "text/latex": [
       "A tibble: 6 × 6\n",
       "\\begin{tabular}{llllll}\n",
       " category & language & mother\\_tongue & most\\_at\\_home & most\\_at\\_work & lang\\_known\\\\\n",
       " <chr> & <chr> & <dbl> & <dbl> & <dbl> & <dbl>\\\\\n",
       "\\hline\n",
       "\t Aboriginal languages                    & Aboriginal languages, n.o.s.   &  10 &  0 & 0 &  25\\\\\n",
       "\t Non-Official \\& Non-Aboriginal languages & Afrikaans                      & 175 & 50 & 0 & 580\\\\\n",
       "\t Non-Official \\& Non-Aboriginal languages & Afro-Asiatic languages, n.i.e. &   0 &  0 & 0 &  20\\\\\n",
       "\t Non-Official \\& Non-Aboriginal languages & Akan (Twi)                     &  20 &  0 & 0 &   0\\\\\n",
       "\t Non-Official \\& Non-Aboriginal languages & Albanian                       & 125 & 70 & 0 & 145\\\\\n",
       "\t Aboriginal languages                    & Algonquian languages, n.i.e.   &   0 &  0 & 0 &   0\\\\\n",
       "\\end{tabular}\n"
      ],
      "text/markdown": [
       "\n",
       "A tibble: 6 × 6\n",
       "\n",
       "| category &lt;chr&gt; | language &lt;chr&gt; | mother_tongue &lt;dbl&gt; | most_at_home &lt;dbl&gt; | most_at_work &lt;dbl&gt; | lang_known &lt;dbl&gt; |\n",
       "|---|---|---|---|---|---|\n",
       "| Aboriginal languages                    | Aboriginal languages, n.o.s.   |  10 |  0 | 0 |  25 |\n",
       "| Non-Official &amp; Non-Aboriginal languages | Afrikaans                      | 175 | 50 | 0 | 580 |\n",
       "| Non-Official &amp; Non-Aboriginal languages | Afro-Asiatic languages, n.i.e. |   0 |  0 | 0 |  20 |\n",
       "| Non-Official &amp; Non-Aboriginal languages | Akan (Twi)                     |  20 |  0 | 0 |   0 |\n",
       "| Non-Official &amp; Non-Aboriginal languages | Albanian                       | 125 | 70 | 0 | 145 |\n",
       "| Aboriginal languages                    | Algonquian languages, n.i.e.   |   0 |  0 | 0 |   0 |\n",
       "\n"
      ],
      "text/plain": [
       "  category                                language                      \n",
       "1 Aboriginal languages                    Aboriginal languages, n.o.s.  \n",
       "2 Non-Official & Non-Aboriginal languages Afrikaans                     \n",
       "3 Non-Official & Non-Aboriginal languages Afro-Asiatic languages, n.i.e.\n",
       "4 Non-Official & Non-Aboriginal languages Akan (Twi)                    \n",
       "5 Non-Official & Non-Aboriginal languages Albanian                      \n",
       "6 Aboriginal languages                    Algonquian languages, n.i.e.  \n",
       "  mother_tongue most_at_home most_at_work lang_known\n",
       "1  10            0           0             25       \n",
       "2 175           50           0            580       \n",
       "3   0            0           0             20       \n",
       "4  20            0           0              0       \n",
       "5 125           70           0            145       \n",
       "6   0            0           0              0       "
      ]
     },
     "metadata": {},
     "output_type": "display_data"
    }
   ],
   "source": [
    "victoria <- NULL\n",
    "# BEGIN SOLUTION NO PROMPT\n",
    "victoria <- read_tsv(\"https://raw.githubusercontent.com/ttimbers/canlang/master/inst/extdata/victoria_lang.tsv\")\n",
    "# END SOLUTION\n",
    "head(victoria)"
   ]
  },
  {
   "cell_type": "raw",
   "metadata": {},
   "source": [
    "# END SOLUTION"
   ]
  },
  {
   "cell_type": "raw",
   "metadata": {},
   "source": [
    "# BEGIN TESTS"
   ]
  },
  {
   "cell_type": "code",
   "execution_count": 13,
   "metadata": {},
   "outputs": [],
   "source": [
    "# HIDDEN\n",
    "expect_equal(nrow(victoria), 214)\n",
    "expect_equal(ncol(victoria), 6)\n",
    "expect_equal(paste(tolower(sort(colnames(victoria))), collapse = \"\"), 'categorylang_knownlanguagemost_at_homemost_at_workmother_tongue')\n",
    "expect_equal(round(as.numeric(sum(victoria$mother_tongue, na.rm = TRUE))), 357030)"
   ]
  },
  {
   "cell_type": "raw",
   "metadata": {},
   "source": [
    "# END TESTS"
   ]
  },
  {
   "cell_type": "raw",
   "metadata": {},
   "source": [
    "# END QUESTION"
   ]
  },
  {
   "cell_type": "raw",
   "metadata": {},
   "source": [
    "# BEGIN QUESTION\n",
    "name: e2\n",
    "points: 10"
   ]
  },
  {
   "cell_type": "markdown",
   "metadata": {},
   "source": [
    "## Exercise 2: Data wrangling with {dplyr}\n",
    "rubric={autograde:10}\n",
    "\n",
    "You have loaded individual data sets for 6 Western Canadian cities above, but we have more data than that from the 2016 Canadian Census (the most recent Canadian Census, the next one is scheduled for 2021). The {[canlang](https://ttimbers.github.io/canlang/)} R data package has language and regional data for all census metropolitan areas in Canada!\n",
    "\n",
    "<img src=\"https://github.com/ttimbers/canlang/blob/master/man/figures/hex-canlang.png?raw=true\" width=100>"
   ]
  },
  {
   "cell_type": "markdown",
   "metadata": {},
   "source": [
    "For this exercise, we want you to use the {dplyr} functions you have already met in this course and the {canlang} R package `region_lang` data set to uncover the name of the Canadian census metropolitan area which has the second most number of people who claim that they language they speak most often at home is Mandarin. Return the region name as a **character vector of length 1** (i.e., make sure it is not a data frame with one value in it). Bind the name `mandarin2` to the final object you return."
   ]
  },
  {
   "cell_type": "raw",
   "metadata": {},
   "source": [
    "# BEGIN SOLUTION"
   ]
  },
  {
   "cell_type": "code",
   "execution_count": 14,
   "metadata": {},
   "outputs": [
    {
     "data": {
      "text/html": [
       "'Vancouver'"
      ],
      "text/latex": [
       "'Vancouver'"
      ],
      "text/markdown": [
       "'Vancouver'"
      ],
      "text/plain": [
       "[1] \"Vancouver\""
      ]
     },
     "metadata": {},
     "output_type": "display_data"
    }
   ],
   "source": [
    "mandarin2 <- NULL\n",
    "# BEGIN SOLUTION NO PROMPT\n",
    "mandarin2 <- region_lang %>% \n",
    "    filter(language == \"Mandarin\") %>% \n",
    "    arrange(desc(most_at_home)) %>% \n",
    "    slice(2) %>% \n",
    "    select(region) %>% \n",
    "    pull()\n",
    "# END SOLUTION\n",
    "mandarin2"
   ]
  },
  {
   "cell_type": "raw",
   "metadata": {},
   "source": [
    "# END SOLUTION"
   ]
  },
  {
   "cell_type": "raw",
   "metadata": {},
   "source": [
    "# BEGIN TESTS"
   ]
  },
  {
   "cell_type": "code",
   "execution_count": 15,
   "metadata": {},
   "outputs": [],
   "source": [
    "expect_equal(class(mandarin2), 'character')"
   ]
  },
  {
   "cell_type": "code",
   "execution_count": 16,
   "metadata": {},
   "outputs": [],
   "source": [
    "# HIDDEN\n",
    "expect_equal(mandarin2, 'Vancouver')\n",
    "expect_equal(length(mandarin2), 1)\n",
    "expect_equal(class(mandarin2), 'character')"
   ]
  },
  {
   "cell_type": "raw",
   "metadata": {},
   "source": [
    "# END TESTS"
   ]
  },
  {
   "cell_type": "raw",
   "metadata": {},
   "source": [
    "# END QUESTION"
   ]
  },
  {
   "cell_type": "markdown",
   "metadata": {},
   "source": [
    "## Exercise 3: More data wrangling with {dplyr}\n",
    "rubric={accuracy:20}"
   ]
  },
  {
   "cell_type": "markdown",
   "metadata": {},
   "source": [
    "For this exercise, we want you to choose a Canadian census metropolitan area from the {canlang} R package `region_lang` data set, and use the {dplyr} functions that you have already met in this course to find the top 5 languages spoken most often at home from that area. Your final result should be a data frame with two columns:\n",
    "1. `language`\n",
    "2. `perc_pop` \n",
    "\n",
    "The column `perc_pop` should be the percentage of the area's population who reported that they speak that language most often at home. You can find the population size for each Canadian census metropolitan area in the  {canlang} R package `region_data` data set. "
   ]
  },
  {
   "cell_type": "raw",
   "metadata": {},
   "source": [
    "# BEGIN QUESTION\n",
    "name: e3\n",
    "points: 20\n",
    "manual: true"
   ]
  },
  {
   "cell_type": "raw",
   "metadata": {},
   "source": [
    "# BEGIN SOLUTION"
   ]
  },
  {
   "cell_type": "code",
   "execution_count": 17,
   "metadata": {},
   "outputs": [
    {
     "data": {
      "text/html": [
       "<table class=\"dataframe\">\n",
       "<caption>A tibble: 5 × 2</caption>\n",
       "<thead>\n",
       "\t<tr><th scope=col>language</th><th scope=col>perc_pop</th></tr>\n",
       "\t<tr><th scope=col>&lt;chr&gt;</th><th scope=col>&lt;dbl&gt;</th></tr>\n",
       "</thead>\n",
       "<tbody>\n",
       "\t<tr><td>English </td><td>58</td></tr>\n",
       "\t<tr><td>French  </td><td>27</td></tr>\n",
       "\t<tr><td>Arabic  </td><td> 2</td></tr>\n",
       "\t<tr><td>Mandarin</td><td> 1</td></tr>\n",
       "\t<tr><td>Spanish </td><td> 1</td></tr>\n",
       "</tbody>\n",
       "</table>\n"
      ],
      "text/latex": [
       "A tibble: 5 × 2\n",
       "\\begin{tabular}{ll}\n",
       " language & perc\\_pop\\\\\n",
       " <chr> & <dbl>\\\\\n",
       "\\hline\n",
       "\t English  & 58\\\\\n",
       "\t French   & 27\\\\\n",
       "\t Arabic   &  2\\\\\n",
       "\t Mandarin &  1\\\\\n",
       "\t Spanish  &  1\\\\\n",
       "\\end{tabular}\n"
      ],
      "text/markdown": [
       "\n",
       "A tibble: 5 × 2\n",
       "\n",
       "| language &lt;chr&gt; | perc_pop &lt;dbl&gt; |\n",
       "|---|---|\n",
       "| English  | 58 |\n",
       "| French   | 27 |\n",
       "| Arabic   |  2 |\n",
       "| Mandarin |  1 |\n",
       "| Spanish  |  1 |\n",
       "\n"
      ],
      "text/plain": [
       "  language perc_pop\n",
       "1 English  58      \n",
       "2 French   27      \n",
       "3 Arabic    2      \n",
       "4 Mandarin  1      \n",
       "5 Spanish   1      "
      ]
     },
     "metadata": {},
     "output_type": "display_data"
    }
   ],
   "source": [
    "# BEGIN SOLUTION NO PROMPT\n",
    "ottawa_pop <- region_data %>% \n",
    "    filter(region == \"Ottawa - Gatineau\") %>% \n",
    "    select(population) %>% \n",
    "    pull()\n",
    "\n",
    "ottawa_top5_langs <- region_lang %>% \n",
    "    filter(region == \"Ottawa - Gatineau\") %>% \n",
    "    arrange(desc(most_at_home)) %>% \n",
    "    slice(1:5) %>% \n",
    "    select(language, most_at_home) %>% \n",
    "    mutate(perc_pop = round(most_at_home / ottawa_pop * 100)) %>% \n",
    "    select(-most_at_home)\n",
    "\n",
    "ottawa_top5_langs\n",
    "# END SOLUTION"
   ]
  },
  {
   "cell_type": "raw",
   "metadata": {},
   "source": [
    "# END SOLUTION"
   ]
  },
  {
   "cell_type": "raw",
   "metadata": {},
   "source": [
    "# END QUESTION"
   ]
  },
  {
   "cell_type": "raw",
   "metadata": {},
   "source": [
    "# BEGIN QUESTION\n",
    "name: e4\n",
    "points: 10"
   ]
  },
  {
   "cell_type": "markdown",
   "metadata": {},
   "source": [
    "## Exercise 4: Tidying data with {tidyr}\n",
    "rubric={autograde:10}"
   ]
  },
  {
   "cell_type": "markdown",
   "metadata": {},
   "source": [
    "We're going to shift to a different data set to practice making data frames wider and longer, as the {canlang} data sets are already pretty tidy. Let's load a data set that is not tidy, because it is too wide for the statistical question being asked, and then use one of the {tidyr} functions to tidy it.\n",
    "\n",
    "This next data set that we will be looking at contains environmental data from 1914 to 2018. The data was collected by the DFO (Canada's Department of Fisheries and Oceans) at the Pacific Biological Station (Departure Bay). Daily sea surface temperatures were recorded. Original data source: http://www.pac.dfo-mpo.gc.ca/science/oceans/data-donnees/lightstations-phares/index-eng.html\n",
    "\n",
    "A statistical question we might be interested in answering with this data set is, has sea surface temperature been changing over time, and is there an association between time of year (i.e., month) and this change over time? Read the `departure_bay_temperature.csv` data set in from the `data` directory and decide what tidying you will have to do, and then get to work and tidy it! \n",
    "\n",
    "Bind the name `tidy_temps` to the tidy data frame you create. Name the second column name to be `month` & third column name to be `temp`."
   ]
  },
  {
   "cell_type": "raw",
   "metadata": {},
   "source": [
    "# BEGIN SOLUTION"
   ]
  },
  {
   "cell_type": "code",
   "execution_count": 18,
   "metadata": {},
   "outputs": [
    {
     "name": "stderr",
     "output_type": "stream",
     "text": [
      "\u001b[1mRows: \u001b[22m\u001b[34m105\u001b[39m \u001b[1mColumns: \u001b[22m\u001b[34m13\u001b[39m\n",
      "\u001b[36m──\u001b[39m \u001b[1mColumn specification\u001b[22m \u001b[36m───────────────────────────────────────────────────────────────────────────────────────────────────────────────────────────────────\u001b[39m\n",
      "\u001b[1mDelimiter:\u001b[22m \",\"\n",
      "\u001b[32mdbl\u001b[39m (13): Year, Jan, Feb, Mar, Apr, May, Jun, Jul, Aug, Sep, Oct, Nov, Dec\n",
      "\n",
      "\u001b[36mℹ\u001b[39m Use `spec()` to retrieve the full column specification for this data.\n",
      "\u001b[36mℹ\u001b[39m Specify the column types or set `show_col_types = FALSE` to quiet this message.\n"
     ]
    },
    {
     "data": {
      "text/html": [
       "<table class=\"dataframe\">\n",
       "<caption>A tibble: 1260 × 3</caption>\n",
       "<thead>\n",
       "\t<tr><th scope=col>Year</th><th scope=col>month</th><th scope=col>temp</th></tr>\n",
       "\t<tr><th scope=col>&lt;dbl&gt;</th><th scope=col>&lt;chr&gt;</th><th scope=col>&lt;dbl&gt;</th></tr>\n",
       "</thead>\n",
       "<tbody>\n",
       "\t<tr><td>1914</td><td>Jan</td><td>7.2</td></tr>\n",
       "\t<tr><td>1914</td><td>Feb</td><td> NA</td></tr>\n",
       "\t<tr><td>1914</td><td>Mar</td><td> NA</td></tr>\n",
       "\t<tr><td>1914</td><td>Apr</td><td> NA</td></tr>\n",
       "\t<tr><td>1914</td><td>May</td><td> NA</td></tr>\n",
       "\t<tr><td>⋮</td><td>⋮</td><td>⋮</td></tr>\n",
       "\t<tr><td>2018</td><td>Aug</td><td>NA</td></tr>\n",
       "\t<tr><td>2018</td><td>Sep</td><td>NA</td></tr>\n",
       "\t<tr><td>2018</td><td>Oct</td><td>NA</td></tr>\n",
       "\t<tr><td>2018</td><td>Nov</td><td>NA</td></tr>\n",
       "\t<tr><td>2018</td><td>Dec</td><td>NA</td></tr>\n",
       "</tbody>\n",
       "</table>\n"
      ],
      "text/latex": [
       "A tibble: 1260 × 3\n",
       "\\begin{tabular}{lll}\n",
       " Year & month & temp\\\\\n",
       " <dbl> & <chr> & <dbl>\\\\\n",
       "\\hline\n",
       "\t 1914 & Jan & 7.2\\\\\n",
       "\t 1914 & Feb &  NA\\\\\n",
       "\t 1914 & Mar &  NA\\\\\n",
       "\t 1914 & Apr &  NA\\\\\n",
       "\t 1914 & May &  NA\\\\\n",
       "\t ⋮ & ⋮ & ⋮\\\\\n",
       "\t 2018 & Aug & NA\\\\\n",
       "\t 2018 & Sep & NA\\\\\n",
       "\t 2018 & Oct & NA\\\\\n",
       "\t 2018 & Nov & NA\\\\\n",
       "\t 2018 & Dec & NA\\\\\n",
       "\\end{tabular}\n"
      ],
      "text/markdown": [
       "\n",
       "A tibble: 1260 × 3\n",
       "\n",
       "| Year &lt;dbl&gt; | month &lt;chr&gt; | temp &lt;dbl&gt; |\n",
       "|---|---|---|\n",
       "| 1914 | Jan | 7.2 |\n",
       "| 1914 | Feb |  NA |\n",
       "| 1914 | Mar |  NA |\n",
       "| 1914 | Apr |  NA |\n",
       "| 1914 | May |  NA |\n",
       "| ⋮ | ⋮ | ⋮ |\n",
       "| 2018 | Aug | NA |\n",
       "| 2018 | Sep | NA |\n",
       "| 2018 | Oct | NA |\n",
       "| 2018 | Nov | NA |\n",
       "| 2018 | Dec | NA |\n",
       "\n"
      ],
      "text/plain": [
       "     Year month temp\n",
       "1    1914 Jan   7.2 \n",
       "2    1914 Feb    NA \n",
       "3    1914 Mar    NA \n",
       "4    1914 Apr    NA \n",
       "5    1914 May    NA \n",
       "⋮    ⋮    ⋮     ⋮   \n",
       "1256 2018 Aug   NA  \n",
       "1257 2018 Sep   NA  \n",
       "1258 2018 Oct   NA  \n",
       "1259 2018 Nov   NA  \n",
       "1260 2018 Dec   NA  "
      ]
     },
     "metadata": {},
     "output_type": "display_data"
    }
   ],
   "source": [
    "# BEGIN SOLUTION NO PROMPT\n",
    "tidy_temps <- read_csv(\"data/departure_bay_temperature.csv\", skip = 2) %>% \n",
    "    pivot_longer(cols = Jan:Dec, names_to = \"month\", values_to = \"temp\")\n",
    "# END SOLUTION\n",
    "tidy_temps"
   ]
  },
  {
   "cell_type": "raw",
   "metadata": {},
   "source": [
    "# END SOLUTION"
   ]
  },
  {
   "cell_type": "raw",
   "metadata": {},
   "source": [
    "# BEGIN TESTS"
   ]
  },
  {
   "cell_type": "code",
   "execution_count": 19,
   "metadata": {},
   "outputs": [],
   "source": [
    "expect_equal(ncol(tidy_temps), 3)"
   ]
  },
  {
   "cell_type": "code",
   "execution_count": 20,
   "metadata": {},
   "outputs": [],
   "source": [
    "# HIDDEN\n",
    "expect_equal(nrow(tidy_temps), 1260)\n",
    "expect_equal(ncol(tidy_temps), 3)\n",
    "expect_equal(paste(tolower(sort(colnames(tidy_temps))), collapse = \"\"), 'monthtempyear')\n",
    "expect_equal(round(as.numeric(sum(tidy_temps$temp, na.rm = TRUE))), 10508)"
   ]
  },
  {
   "cell_type": "raw",
   "metadata": {},
   "source": [
    "# END TESTS"
   ]
  },
  {
   "cell_type": "markdown",
   "metadata": {},
   "source": [
    "As a reward for your hard work, let's take a look and see whether sea surface temperature been changing over time at Departure Bay, BC. Given that time of year is a factor that influences temperature, we'll plot this for each month separately:"
   ]
  },
  {
   "cell_type": "code",
   "execution_count": 21,
   "metadata": {},
   "outputs": [
    {
     "name": "stderr",
     "output_type": "stream",
     "text": [
      "Warning message:\n",
      "“Removed 86 rows containing missing values (geom_point).”\n"
     ]
    },
    {
     "data": {
      "image/png": "[encoded data removed]",
      "text/plain": [
       "plot without title"
      ]
     },
     "metadata": {
      "image/png": {
       "height": 360,
       "width": 720
      }
     },
     "output_type": "display_data"
    }
   ],
   "source": [
    "options(repr.plot.width = 12, repr.plot.height = 6)\n",
    "temps_plot <- tidy_temps %>% \n",
    "    ggplot(aes(x = Year, y = temp)) + \n",
    "    geom_point() + \n",
    "    facet_wrap(~ factor(month, levels = c(\"Jan\",\"Feb\",\"Mar\",\"Apr\",\"May\",\"Jun\",\n",
    "                                          \"Jul\",\"Aug\",\"Sep\",\"Oct\",\"Nov\",\"Dec\"))) +\n",
    "    xlab(\"Year\") + \n",
    "    ylab(\"Temperature\") +\n",
    "    theme_minimal() +\n",
    "    theme(legend.position = \"bottom\",\n",
    "          legend.background = element_rect(fill = \"white\", color = NA),\n",
    "          plot.title.position = \"plot\",\n",
    "          plot.caption = element_text(hjust = 0, face= \"italic\"),\n",
    "          plot.caption.position = \"plot\",\n",
    "          text = element_text(size = 18))\n",
    "temps_plot"
   ]
  },
  {
   "cell_type": "raw",
   "metadata": {},
   "source": [
    "# END QUESTION"
   ]
  },
  {
   "cell_type": "raw",
   "metadata": {},
   "source": [
    "# BEGIN QUESTION\n",
    "name: e5\n",
    "points: 10"
   ]
  },
  {
   "cell_type": "markdown",
   "metadata": {},
   "source": [
    "## Exercise 5: Tidying more data with {tidyr}\n",
    "rubric={autograde:10}\n",
    "\n",
    "Use one of the {tidyr} functions to tidy the data that you will load in from the `language_diversity.csv` file located in the `data` directory. This data was collected to answer research questions, such as what factors are associated with language diversity (as measured by the number of languages spoken in a country).  Read the `language_diversity.csv` data set into R and decide what tidying you will have to do, and then get to work and tidy it! Bind the name `tidy_lang` to the tidy data frame you create.\n",
    "\n",
    "Data source: https://www.jvcasillas.com/untidydata/"
   ]
  },
  {
   "cell_type": "raw",
   "metadata": {},
   "source": [
    "# BEGIN SOLUTION"
   ]
  },
  {
   "cell_type": "code",
   "execution_count": 22,
   "metadata": {},
   "outputs": [
    {
     "name": "stderr",
     "output_type": "stream",
     "text": [
      "\u001b[1mRows: \u001b[22m\u001b[34m444\u001b[39m \u001b[1mColumns: \u001b[22m\u001b[34m4\u001b[39m\n",
      "\u001b[36m──\u001b[39m \u001b[1mColumn specification\u001b[22m \u001b[36m───────────────────────────────────────────────────────────────────────────────────────────────────────────────────────────────────\u001b[39m\n",
      "\u001b[1mDelimiter:\u001b[22m \"\\t\"\n",
      "\u001b[31mchr\u001b[39m (3): Continent, Country, Measurement\n",
      "\u001b[32mdbl\u001b[39m (1): Value\n",
      "\n",
      "\u001b[36mℹ\u001b[39m Use `spec()` to retrieve the full column specification for this data.\n",
      "\u001b[36mℹ\u001b[39m Specify the column types or set `show_col_types = FALSE` to quiet this message.\n"
     ]
    },
    {
     "data": {
      "text/html": [
       "<table class=\"dataframe\">\n",
       "<caption>A tibble: 6 × 8</caption>\n",
       "<thead>\n",
       "\t<tr><th scope=col>Continent</th><th scope=col>Country</th><th scope=col>Langs</th><th scope=col>Area</th><th scope=col>Population</th><th scope=col>Stations</th><th scope=col>MGS</th><th scope=col>Std</th></tr>\n",
       "\t<tr><th scope=col>&lt;chr&gt;</th><th scope=col>&lt;chr&gt;</th><th scope=col>&lt;dbl&gt;</th><th scope=col>&lt;dbl&gt;</th><th scope=col>&lt;dbl&gt;</th><th scope=col>&lt;dbl&gt;</th><th scope=col>&lt;dbl&gt;</th><th scope=col>&lt;dbl&gt;</th></tr>\n",
       "</thead>\n",
       "<tbody>\n",
       "\t<tr><td>Africa  </td><td>Algeria   </td><td> 18</td><td>2381741</td><td> 25660</td><td>102</td><td>6.60</td><td>2.29</td></tr>\n",
       "\t<tr><td>Africa  </td><td>Angola    </td><td> 42</td><td>1246700</td><td> 10303</td><td> 50</td><td>6.22</td><td>1.87</td></tr>\n",
       "\t<tr><td>Oceania </td><td>Australia </td><td>234</td><td>7713364</td><td> 17336</td><td>134</td><td>6.00</td><td>4.17</td></tr>\n",
       "\t<tr><td>Asia    </td><td>Bangladesh</td><td> 37</td><td> 143998</td><td>118745</td><td> 20</td><td>7.40</td><td>0.73</td></tr>\n",
       "\t<tr><td>Africa  </td><td>Benin     </td><td> 52</td><td> 112622</td><td>  4889</td><td>  7</td><td>7.14</td><td>0.99</td></tr>\n",
       "\t<tr><td>Americas</td><td>Bolivia   </td><td> 38</td><td>1098581</td><td>  7612</td><td> 48</td><td>6.92</td><td>2.50</td></tr>\n",
       "</tbody>\n",
       "</table>\n"
      ],
      "text/latex": [
       "A tibble: 6 × 8\n",
       "\\begin{tabular}{llllllll}\n",
       " Continent & Country & Langs & Area & Population & Stations & MGS & Std\\\\\n",
       " <chr> & <chr> & <dbl> & <dbl> & <dbl> & <dbl> & <dbl> & <dbl>\\\\\n",
       "\\hline\n",
       "\t Africa   & Algeria    &  18 & 2381741 &  25660 & 102 & 6.60 & 2.29\\\\\n",
       "\t Africa   & Angola     &  42 & 1246700 &  10303 &  50 & 6.22 & 1.87\\\\\n",
       "\t Oceania  & Australia  & 234 & 7713364 &  17336 & 134 & 6.00 & 4.17\\\\\n",
       "\t Asia     & Bangladesh &  37 &  143998 & 118745 &  20 & 7.40 & 0.73\\\\\n",
       "\t Africa   & Benin      &  52 &  112622 &   4889 &   7 & 7.14 & 0.99\\\\\n",
       "\t Americas & Bolivia    &  38 & 1098581 &   7612 &  48 & 6.92 & 2.50\\\\\n",
       "\\end{tabular}\n"
      ],
      "text/markdown": [
       "\n",
       "A tibble: 6 × 8\n",
       "\n",
       "| Continent &lt;chr&gt; | Country &lt;chr&gt; | Langs &lt;dbl&gt; | Area &lt;dbl&gt; | Population &lt;dbl&gt; | Stations &lt;dbl&gt; | MGS &lt;dbl&gt; | Std &lt;dbl&gt; |\n",
       "|---|---|---|---|---|---|---|---|\n",
       "| Africa   | Algeria    |  18 | 2381741 |  25660 | 102 | 6.60 | 2.29 |\n",
       "| Africa   | Angola     |  42 | 1246700 |  10303 |  50 | 6.22 | 1.87 |\n",
       "| Oceania  | Australia  | 234 | 7713364 |  17336 | 134 | 6.00 | 4.17 |\n",
       "| Asia     | Bangladesh |  37 |  143998 | 118745 |  20 | 7.40 | 0.73 |\n",
       "| Africa   | Benin      |  52 |  112622 |   4889 |   7 | 7.14 | 0.99 |\n",
       "| Americas | Bolivia    |  38 | 1098581 |   7612 |  48 | 6.92 | 2.50 |\n",
       "\n"
      ],
      "text/plain": [
       "  Continent Country    Langs Area    Population Stations MGS  Std \n",
       "1 Africa    Algeria     18   2381741  25660     102      6.60 2.29\n",
       "2 Africa    Angola      42   1246700  10303      50      6.22 1.87\n",
       "3 Oceania   Australia  234   7713364  17336     134      6.00 4.17\n",
       "4 Asia      Bangladesh  37    143998 118745      20      7.40 0.73\n",
       "5 Africa    Benin       52    112622   4889       7      7.14 0.99\n",
       "6 Americas  Bolivia     38   1098581   7612      48      6.92 2.50"
      ]
     },
     "metadata": {},
     "output_type": "display_data"
    }
   ],
   "source": [
    "tidy_lang <- NULL\n",
    "# BEGIN SOLUTION NO PROMPT\n",
    "tidy_lang <- read_tsv(\"data/language_diversity.csv\") %>% \n",
    "    pivot_wider(names_from = \"Measurement\", values_from = \"Value\")\n",
    "# END SOLUTION\n",
    "head(tidy_lang)"
   ]
  },
  {
   "cell_type": "raw",
   "metadata": {},
   "source": [
    "# END SOLUTION"
   ]
  },
  {
   "cell_type": "raw",
   "metadata": {},
   "source": [
    "# BEGIN TESTS"
   ]
  },
  {
   "cell_type": "code",
   "execution_count": 23,
   "metadata": {},
   "outputs": [],
   "source": [
    "expect_equal(ncol(tidy_lang), 8)"
   ]
  },
  {
   "cell_type": "code",
   "execution_count": 24,
   "metadata": {},
   "outputs": [],
   "source": [
    "# HIDDEN TESTS\n",
    "expect_equal(nrow(tidy_lang), 74)\n",
    "expect_equal(ncol(tidy_lang), 8)\n",
    "expect_equal(paste(tolower(sort(colnames(tidy_lang))), collapse = \"\"), 'areacontinentcountrylangsmgspopulationstationsstd')\n",
    "expect_equal(round(as.numeric(sum(tidy_lang$Langs, na.rm = TRUE))), 6640)"
   ]
  },
  {
   "cell_type": "raw",
   "metadata": {},
   "source": [
    "# END TESTS"
   ]
  },
  {
   "cell_type": "markdown",
   "metadata": {},
   "source": [
    "Now that we have this data in a tidy format, let's explore it and plot the number of languages spoken in each country in the data set against the country's population:"
   ]
  },
  {
   "cell_type": "code",
   "execution_count": 25,
   "metadata": {},
   "outputs": [
    {
     "data": {
      "image/png": "[encoded data removed]",
      "text/plain": [
       "plot without title"
      ]
     },
     "metadata": {
      "image/png": {
       "height": 420,
       "width": 480
      }
     },
     "output_type": "display_data"
    }
   ],
   "source": [
    "options(repr.plot.width = 8, repr.plot.height = 7)\n",
    "lang_plot <- ggplot(tidy_lang, aes(x = Population, y = Langs, colour = Continent, shape = Continent)) +\n",
    "    geom_point(size = 3.5) +\n",
    "    scale_color_manual(values = c(\"#7a5195\", \"#ef5675\", \"#ffa600\", \"#003f5c\")) +\n",
    "    scale_y_log10(name = \"Number of languages spoken\", \n",
    "                       labels = scales::comma) +\n",
    "    scale_x_log10(name = \"Population\", \n",
    "                       labels = scales::comma) +\n",
    "    theme_minimal() +\n",
    "    theme(legend.position = \"bottom\",\n",
    "          legend.background = element_rect(fill = \"white\", color = NA),\n",
    "          plot.title.position = \"plot\",\n",
    "          plot.caption = element_text(hjust = 0, face= \"italic\"),\n",
    "          plot.caption.position = \"plot\",\n",
    "          text = element_text(size = 18))\n",
    "lang_plot"
   ]
  },
  {
   "cell_type": "raw",
   "metadata": {},
   "source": [
    "# END QUESTION"
   ]
  },
  {
   "cell_type": "markdown",
   "metadata": {},
   "source": [
    "## Exercise 6: Subsetting with base R\n",
    "\n",
    "The {tidyverse} functions were written for manipulating data frames and vectors, but you now know that there are other types of objects in R. To work with these kinds of objects we need to know how to do subsetting using base R. Lets get some more practice doing this first with matrices and lists! "
   ]
  },
  {
   "cell_type": "raw",
   "metadata": {},
   "source": [
    "# BEGIN QUESTION\n",
    "name: e61\n",
    "points: 5"
   ]
  },
  {
   "cell_type": "markdown",
   "metadata": {},
   "source": [
    "### Subsetting matrices\n",
    "rubric={autograde:5}\n",
    "\n",
    "Consider the matrix created below, subset a smaller matrix that is the 10 - 15 colums and 1 - 5 rows. Bind the name `small_matrix` to it:"
   ]
  },
  {
   "cell_type": "code",
   "execution_count": 26,
   "metadata": {},
   "outputs": [
    {
     "data": {
      "text/html": [
       "<table class=\"dataframe\">\n",
       "<caption>A matrix: 10 × 20 of type dbl</caption>\n",
       "<tbody>\n",
       "\t<tr><td> 2.938057</td><td> 6.5233139</td><td>11.135525330</td><td> 1.431066</td><td> 1.1601004</td><td>12.6860753</td><td>16.4134368</td><td>37.611580</td><td> 2.8760736</td><td>11.9359657</td><td>10.1429664</td><td> 3.7368253</td><td>14.1535378</td><td> 2.5883681</td><td> 1.70020847</td><td> 7.641389</td><td> 3.507495</td><td>27.733644</td><td> 0.7635843</td><td> 1.492056</td></tr>\n",
       "\t<tr><td>12.700502</td><td>13.8406351</td><td> 4.961900343</td><td>11.788127</td><td> 2.2866390</td><td>12.1997007</td><td> 3.7501219</td><td>25.521498</td><td> 0.3410495</td><td> 3.6322129</td><td> 1.4065676</td><td> 0.3350206</td><td> 0.3627339</td><td>18.7108811</td><td> 2.86708585</td><td> 7.827604</td><td> 8.398940</td><td>11.501245</td><td> 1.4928199</td><td> 5.637580</td></tr>\n",
       "\t<tr><td> 2.370036</td><td>13.3029784</td><td>10.784506729</td><td>17.122631</td><td> 2.6865893</td><td>17.6286187</td><td> 8.7758532</td><td>13.049184</td><td> 6.4395061</td><td>18.4997913</td><td> 7.9907373</td><td> 1.4970579</td><td> 8.0956285</td><td> 6.8583796</td><td> 8.32895351</td><td> 4.377994</td><td>40.051038</td><td> 8.110950</td><td> 3.8880998</td><td>39.920596</td></tr>\n",
       "\t<tr><td> 7.398545</td><td> 0.7938523</td><td>22.229445818</td><td> 1.575422</td><td> 0.6059261</td><td>14.6876833</td><td> 4.5239944</td><td> 8.346802</td><td>11.6813587</td><td>21.2545254</td><td> 0.2040772</td><td> 2.8268398</td><td>17.7621596</td><td> 0.2964559</td><td> 0.08151982</td><td> 9.872077</td><td>16.677610</td><td>41.162820</td><td>14.2382275</td><td>47.132323</td></tr>\n",
       "\t<tr><td>14.195153</td><td> 3.7895417</td><td> 0.008232868</td><td> 8.462461</td><td> 8.7432093</td><td>18.0210972</td><td> 1.1309803</td><td>10.524262</td><td>13.6747683</td><td>14.1242168</td><td> 0.5155448</td><td>18.2741893</td><td> 5.4473414</td><td> 2.3499926</td><td>14.54604977</td><td>25.113806</td><td> 3.571127</td><td>11.366806</td><td> 3.4441976</td><td> 2.572980</td></tr>\n",
       "\t<tr><td>12.656189</td><td> 7.5740144</td><td>11.622642902</td><td> 3.614166</td><td> 8.4369874</td><td>11.1485233</td><td> 3.6596141</td><td> 1.719779</td><td>17.3328534</td><td> 1.4198751</td><td>26.6164124</td><td>11.9498316</td><td> 0.2640172</td><td> 5.2254129</td><td> 1.49033928</td><td>15.709789</td><td> 1.919996</td><td>13.510032</td><td>14.9959522</td><td> 5.366673</td></tr>\n",
       "\t<tr><td>58.675191</td><td>19.6065916</td><td>45.720541661</td><td>56.452869</td><td>32.3882064</td><td> 5.9444357</td><td> 5.7199025</td><td>33.945311</td><td> 1.3362299</td><td> 0.3681266</td><td> 3.9765598</td><td> 5.0458668</td><td> 4.1642927</td><td>20.2440382</td><td> 4.38639193</td><td>30.591778</td><td>12.794629</td><td> 2.770155</td><td> 4.5837962</td><td>19.566883</td></tr>\n",
       "\t<tr><td> 2.404119</td><td>23.2537627</td><td> 1.538694979</td><td> 8.486318</td><td> 6.3638649</td><td> 0.1769528</td><td> 0.9452913</td><td> 3.676081</td><td>38.7291467</td><td> 4.1329050</td><td> 4.4178181</td><td>17.7528238</td><td> 4.1940696</td><td> 6.7261254</td><td> 1.18011127</td><td>22.963183</td><td>12.437981</td><td>22.577034</td><td>29.8337177</td><td> 1.638553</td></tr>\n",
       "\t<tr><td> 5.288280</td><td> 6.3678666</td><td> 1.561867743</td><td> 8.374958</td><td>26.4357742</td><td>18.5346461</td><td> 6.8387739</td><td> 6.605413</td><td> 0.2980290</td><td> 4.7021308</td><td>20.8172305</td><td> 8.8334537</td><td>13.5828541</td><td>21.4938658</td><td> 4.78286147</td><td>12.663138</td><td>14.105986</td><td>22.403308</td><td> 5.4939446</td><td>36.781060</td></tr>\n",
       "\t<tr><td> 4.876715</td><td> 1.1497813</td><td> 2.496821731</td><td>11.185452</td><td> 9.2018113</td><td> 4.9077449</td><td> 0.9648821</td><td> 2.156965</td><td> 2.6015399</td><td>13.9129809</td><td> 0.1818018</td><td>35.1253667</td><td> 2.3546730</td><td>16.9889198</td><td> 0.82372545</td><td>26.525397</td><td> 3.740227</td><td> 2.702319</td><td>12.9271982</td><td>11.044500</td></tr>\n",
       "</tbody>\n",
       "</table>\n"
      ],
      "text/latex": [
       "A matrix: 10 × 20 of type dbl\n",
       "\\begin{tabular}{llllllllllllllllllll}\n",
       "\t  2.938057 &  6.5233139 & 11.135525330 &  1.431066 &  1.1601004 & 12.6860753 & 16.4134368 & 37.611580 &  2.8760736 & 11.9359657 & 10.1429664 &  3.7368253 & 14.1535378 &  2.5883681 &  1.70020847 &  7.641389 &  3.507495 & 27.733644 &  0.7635843 &  1.492056\\\\\n",
       "\t 12.700502 & 13.8406351 &  4.961900343 & 11.788127 &  2.2866390 & 12.1997007 &  3.7501219 & 25.521498 &  0.3410495 &  3.6322129 &  1.4065676 &  0.3350206 &  0.3627339 & 18.7108811 &  2.86708585 &  7.827604 &  8.398940 & 11.501245 &  1.4928199 &  5.637580\\\\\n",
       "\t  2.370036 & 13.3029784 & 10.784506729 & 17.122631 &  2.6865893 & 17.6286187 &  8.7758532 & 13.049184 &  6.4395061 & 18.4997913 &  7.9907373 &  1.4970579 &  8.0956285 &  6.8583796 &  8.32895351 &  4.377994 & 40.051038 &  8.110950 &  3.8880998 & 39.920596\\\\\n",
       "\t  7.398545 &  0.7938523 & 22.229445818 &  1.575422 &  0.6059261 & 14.6876833 &  4.5239944 &  8.346802 & 11.6813587 & 21.2545254 &  0.2040772 &  2.8268398 & 17.7621596 &  0.2964559 &  0.08151982 &  9.872077 & 16.677610 & 41.162820 & 14.2382275 & 47.132323\\\\\n",
       "\t 14.195153 &  3.7895417 &  0.008232868 &  8.462461 &  8.7432093 & 18.0210972 &  1.1309803 & 10.524262 & 13.6747683 & 14.1242168 &  0.5155448 & 18.2741893 &  5.4473414 &  2.3499926 & 14.54604977 & 25.113806 &  3.571127 & 11.366806 &  3.4441976 &  2.572980\\\\\n",
       "\t 12.656189 &  7.5740144 & 11.622642902 &  3.614166 &  8.4369874 & 11.1485233 &  3.6596141 &  1.719779 & 17.3328534 &  1.4198751 & 26.6164124 & 11.9498316 &  0.2640172 &  5.2254129 &  1.49033928 & 15.709789 &  1.919996 & 13.510032 & 14.9959522 &  5.366673\\\\\n",
       "\t 58.675191 & 19.6065916 & 45.720541661 & 56.452869 & 32.3882064 &  5.9444357 &  5.7199025 & 33.945311 &  1.3362299 &  0.3681266 &  3.9765598 &  5.0458668 &  4.1642927 & 20.2440382 &  4.38639193 & 30.591778 & 12.794629 &  2.770155 &  4.5837962 & 19.566883\\\\\n",
       "\t  2.404119 & 23.2537627 &  1.538694979 &  8.486318 &  6.3638649 &  0.1769528 &  0.9452913 &  3.676081 & 38.7291467 &  4.1329050 &  4.4178181 & 17.7528238 &  4.1940696 &  6.7261254 &  1.18011127 & 22.963183 & 12.437981 & 22.577034 & 29.8337177 &  1.638553\\\\\n",
       "\t  5.288280 &  6.3678666 &  1.561867743 &  8.374958 & 26.4357742 & 18.5346461 &  6.8387739 &  6.605413 &  0.2980290 &  4.7021308 & 20.8172305 &  8.8334537 & 13.5828541 & 21.4938658 &  4.78286147 & 12.663138 & 14.105986 & 22.403308 &  5.4939446 & 36.781060\\\\\n",
       "\t  4.876715 &  1.1497813 &  2.496821731 & 11.185452 &  9.2018113 &  4.9077449 &  0.9648821 &  2.156965 &  2.6015399 & 13.9129809 &  0.1818018 & 35.1253667 &  2.3546730 & 16.9889198 &  0.82372545 & 26.525397 &  3.740227 &  2.702319 & 12.9271982 & 11.044500\\\\\n",
       "\\end{tabular}\n"
      ],
      "text/markdown": [
       "\n",
       "A matrix: 10 × 20 of type dbl\n",
       "\n",
       "|  2.938057 |  6.5233139 | 11.135525330 |  1.431066 |  1.1601004 | 12.6860753 | 16.4134368 | 37.611580 |  2.8760736 | 11.9359657 | 10.1429664 |  3.7368253 | 14.1535378 |  2.5883681 |  1.70020847 |  7.641389 |  3.507495 | 27.733644 |  0.7635843 |  1.492056 |\n",
       "| 12.700502 | 13.8406351 |  4.961900343 | 11.788127 |  2.2866390 | 12.1997007 |  3.7501219 | 25.521498 |  0.3410495 |  3.6322129 |  1.4065676 |  0.3350206 |  0.3627339 | 18.7108811 |  2.86708585 |  7.827604 |  8.398940 | 11.501245 |  1.4928199 |  5.637580 |\n",
       "|  2.370036 | 13.3029784 | 10.784506729 | 17.122631 |  2.6865893 | 17.6286187 |  8.7758532 | 13.049184 |  6.4395061 | 18.4997913 |  7.9907373 |  1.4970579 |  8.0956285 |  6.8583796 |  8.32895351 |  4.377994 | 40.051038 |  8.110950 |  3.8880998 | 39.920596 |\n",
       "|  7.398545 |  0.7938523 | 22.229445818 |  1.575422 |  0.6059261 | 14.6876833 |  4.5239944 |  8.346802 | 11.6813587 | 21.2545254 |  0.2040772 |  2.8268398 | 17.7621596 |  0.2964559 |  0.08151982 |  9.872077 | 16.677610 | 41.162820 | 14.2382275 | 47.132323 |\n",
       "| 14.195153 |  3.7895417 |  0.008232868 |  8.462461 |  8.7432093 | 18.0210972 |  1.1309803 | 10.524262 | 13.6747683 | 14.1242168 |  0.5155448 | 18.2741893 |  5.4473414 |  2.3499926 | 14.54604977 | 25.113806 |  3.571127 | 11.366806 |  3.4441976 |  2.572980 |\n",
       "| 12.656189 |  7.5740144 | 11.622642902 |  3.614166 |  8.4369874 | 11.1485233 |  3.6596141 |  1.719779 | 17.3328534 |  1.4198751 | 26.6164124 | 11.9498316 |  0.2640172 |  5.2254129 |  1.49033928 | 15.709789 |  1.919996 | 13.510032 | 14.9959522 |  5.366673 |\n",
       "| 58.675191 | 19.6065916 | 45.720541661 | 56.452869 | 32.3882064 |  5.9444357 |  5.7199025 | 33.945311 |  1.3362299 |  0.3681266 |  3.9765598 |  5.0458668 |  4.1642927 | 20.2440382 |  4.38639193 | 30.591778 | 12.794629 |  2.770155 |  4.5837962 | 19.566883 |\n",
       "|  2.404119 | 23.2537627 |  1.538694979 |  8.486318 |  6.3638649 |  0.1769528 |  0.9452913 |  3.676081 | 38.7291467 |  4.1329050 |  4.4178181 | 17.7528238 |  4.1940696 |  6.7261254 |  1.18011127 | 22.963183 | 12.437981 | 22.577034 | 29.8337177 |  1.638553 |\n",
       "|  5.288280 |  6.3678666 |  1.561867743 |  8.374958 | 26.4357742 | 18.5346461 |  6.8387739 |  6.605413 |  0.2980290 |  4.7021308 | 20.8172305 |  8.8334537 | 13.5828541 | 21.4938658 |  4.78286147 | 12.663138 | 14.105986 | 22.403308 |  5.4939446 | 36.781060 |\n",
       "|  4.876715 |  1.1497813 |  2.496821731 | 11.185452 |  9.2018113 |  4.9077449 |  0.9648821 |  2.156965 |  2.6015399 | 13.9129809 |  0.1818018 | 35.1253667 |  2.3546730 | 16.9889198 |  0.82372545 | 26.525397 |  3.740227 |  2.702319 | 12.9271982 | 11.044500 |\n",
       "\n"
      ],
      "text/plain": [
       "      [,1]      [,2]       [,3]         [,4]      [,5]       [,6]      \n",
       " [1,]  2.938057  6.5233139 11.135525330  1.431066  1.1601004 12.6860753\n",
       " [2,] 12.700502 13.8406351  4.961900343 11.788127  2.2866390 12.1997007\n",
       " [3,]  2.370036 13.3029784 10.784506729 17.122631  2.6865893 17.6286187\n",
       " [4,]  7.398545  0.7938523 22.229445818  1.575422  0.6059261 14.6876833\n",
       " [5,] 14.195153  3.7895417  0.008232868  8.462461  8.7432093 18.0210972\n",
       " [6,] 12.656189  7.5740144 11.622642902  3.614166  8.4369874 11.1485233\n",
       " [7,] 58.675191 19.6065916 45.720541661 56.452869 32.3882064  5.9444357\n",
       " [8,]  2.404119 23.2537627  1.538694979  8.486318  6.3638649  0.1769528\n",
       " [9,]  5.288280  6.3678666  1.561867743  8.374958 26.4357742 18.5346461\n",
       "[10,]  4.876715  1.1497813  2.496821731 11.185452  9.2018113  4.9077449\n",
       "      [,7]       [,8]      [,9]       [,10]      [,11]      [,12]     \n",
       " [1,] 16.4134368 37.611580  2.8760736 11.9359657 10.1429664  3.7368253\n",
       " [2,]  3.7501219 25.521498  0.3410495  3.6322129  1.4065676  0.3350206\n",
       " [3,]  8.7758532 13.049184  6.4395061 18.4997913  7.9907373  1.4970579\n",
       " [4,]  4.5239944  8.346802 11.6813587 21.2545254  0.2040772  2.8268398\n",
       " [5,]  1.1309803 10.524262 13.6747683 14.1242168  0.5155448 18.2741893\n",
       " [6,]  3.6596141  1.719779 17.3328534  1.4198751 26.6164124 11.9498316\n",
       " [7,]  5.7199025 33.945311  1.3362299  0.3681266  3.9765598  5.0458668\n",
       " [8,]  0.9452913  3.676081 38.7291467  4.1329050  4.4178181 17.7528238\n",
       " [9,]  6.8387739  6.605413  0.2980290  4.7021308 20.8172305  8.8334537\n",
       "[10,]  0.9648821  2.156965  2.6015399 13.9129809  0.1818018 35.1253667\n",
       "      [,13]      [,14]      [,15]       [,16]     [,17]     [,18]    \n",
       " [1,] 14.1535378  2.5883681  1.70020847  7.641389  3.507495 27.733644\n",
       " [2,]  0.3627339 18.7108811  2.86708585  7.827604  8.398940 11.501245\n",
       " [3,]  8.0956285  6.8583796  8.32895351  4.377994 40.051038  8.110950\n",
       " [4,] 17.7621596  0.2964559  0.08151982  9.872077 16.677610 41.162820\n",
       " [5,]  5.4473414  2.3499926 14.54604977 25.113806  3.571127 11.366806\n",
       " [6,]  0.2640172  5.2254129  1.49033928 15.709789  1.919996 13.510032\n",
       " [7,]  4.1642927 20.2440382  4.38639193 30.591778 12.794629  2.770155\n",
       " [8,]  4.1940696  6.7261254  1.18011127 22.963183 12.437981 22.577034\n",
       " [9,] 13.5828541 21.4938658  4.78286147 12.663138 14.105986 22.403308\n",
       "[10,]  2.3546730 16.9889198  0.82372545 26.525397  3.740227  2.702319\n",
       "      [,19]      [,20]    \n",
       " [1,]  0.7635843  1.492056\n",
       " [2,]  1.4928199  5.637580\n",
       " [3,]  3.8880998 39.920596\n",
       " [4,] 14.2382275 47.132323\n",
       " [5,]  3.4441976  2.572980\n",
       " [6,] 14.9959522  5.366673\n",
       " [7,]  4.5837962 19.566883\n",
       " [8,] 29.8337177  1.638553\n",
       " [9,]  5.4939446 36.781060\n",
       "[10,] 12.9271982 11.044500"
      ]
     },
     "metadata": {},
     "output_type": "display_data"
    }
   ],
   "source": [
    "set.seed(2020) # this makes the random number process below reproducible\n",
    "random_matrix <- matrix(rexp(200, rate=.1), ncol=20)\n",
    "random_matrix"
   ]
  },
  {
   "cell_type": "raw",
   "metadata": {},
   "source": [
    "# BEGIN SOLUTION"
   ]
  },
  {
   "cell_type": "code",
   "execution_count": 27,
   "metadata": {},
   "outputs": [
    {
     "data": {
      "text/html": [
       "<table class=\"dataframe\">\n",
       "<caption>A matrix: 5 × 6 of type dbl</caption>\n",
       "<tbody>\n",
       "\t<tr><td>11.935966</td><td>10.1429664</td><td> 3.7368253</td><td>14.1535378</td><td> 2.5883681</td><td> 1.70020847</td></tr>\n",
       "\t<tr><td> 3.632213</td><td> 1.4065676</td><td> 0.3350206</td><td> 0.3627339</td><td>18.7108811</td><td> 2.86708585</td></tr>\n",
       "\t<tr><td>18.499791</td><td> 7.9907373</td><td> 1.4970579</td><td> 8.0956285</td><td> 6.8583796</td><td> 8.32895351</td></tr>\n",
       "\t<tr><td>21.254525</td><td> 0.2040772</td><td> 2.8268398</td><td>17.7621596</td><td> 0.2964559</td><td> 0.08151982</td></tr>\n",
       "\t<tr><td>14.124217</td><td> 0.5155448</td><td>18.2741893</td><td> 5.4473414</td><td> 2.3499926</td><td>14.54604977</td></tr>\n",
       "</tbody>\n",
       "</table>\n"
      ],
      "text/latex": [
       "A matrix: 5 × 6 of type dbl\n",
       "\\begin{tabular}{llllll}\n",
       "\t 11.935966 & 10.1429664 &  3.7368253 & 14.1535378 &  2.5883681 &  1.70020847\\\\\n",
       "\t  3.632213 &  1.4065676 &  0.3350206 &  0.3627339 & 18.7108811 &  2.86708585\\\\\n",
       "\t 18.499791 &  7.9907373 &  1.4970579 &  8.0956285 &  6.8583796 &  8.32895351\\\\\n",
       "\t 21.254525 &  0.2040772 &  2.8268398 & 17.7621596 &  0.2964559 &  0.08151982\\\\\n",
       "\t 14.124217 &  0.5155448 & 18.2741893 &  5.4473414 &  2.3499926 & 14.54604977\\\\\n",
       "\\end{tabular}\n"
      ],
      "text/markdown": [
       "\n",
       "A matrix: 5 × 6 of type dbl\n",
       "\n",
       "| 11.935966 | 10.1429664 |  3.7368253 | 14.1535378 |  2.5883681 |  1.70020847 |\n",
       "|  3.632213 |  1.4065676 |  0.3350206 |  0.3627339 | 18.7108811 |  2.86708585 |\n",
       "| 18.499791 |  7.9907373 |  1.4970579 |  8.0956285 |  6.8583796 |  8.32895351 |\n",
       "| 21.254525 |  0.2040772 |  2.8268398 | 17.7621596 |  0.2964559 |  0.08151982 |\n",
       "| 14.124217 |  0.5155448 | 18.2741893 |  5.4473414 |  2.3499926 | 14.54604977 |\n",
       "\n"
      ],
      "text/plain": [
       "     [,1]      [,2]       [,3]       [,4]       [,5]       [,6]       \n",
       "[1,] 11.935966 10.1429664  3.7368253 14.1535378  2.5883681  1.70020847\n",
       "[2,]  3.632213  1.4065676  0.3350206  0.3627339 18.7108811  2.86708585\n",
       "[3,] 18.499791  7.9907373  1.4970579  8.0956285  6.8583796  8.32895351\n",
       "[4,] 21.254525  0.2040772  2.8268398 17.7621596  0.2964559  0.08151982\n",
       "[5,] 14.124217  0.5155448 18.2741893  5.4473414  2.3499926 14.54604977"
      ]
     },
     "metadata": {},
     "output_type": "display_data"
    }
   ],
   "source": [
    "small_matrix <- NULL\n",
    "# BEGIN SOLUTION NO PROMPT\n",
    "small_matrix <- random_matrix[1:5, 10:15]\n",
    "# END SOLUTION\n",
    "small_matrix"
   ]
  },
  {
   "cell_type": "raw",
   "metadata": {},
   "source": [
    "# END SOLUTION"
   ]
  },
  {
   "cell_type": "raw",
   "metadata": {},
   "source": [
    "# BEGIN TESTS"
   ]
  },
  {
   "cell_type": "code",
   "execution_count": 28,
   "metadata": {},
   "outputs": [],
   "source": [
    "# HIDDEN\n",
    "expect_equal(nrow(small_matrix), 5)\n",
    "expect_equal(ncol(small_matrix), 6)\n",
    "expect_true('matrix' %in% class(small_matrix))\n",
    "expect_equal(round(as.numeric(sum(small_matrix[1], na.rm = TRUE))), 12)"
   ]
  },
  {
   "cell_type": "raw",
   "metadata": {},
   "source": [
    "# END TESTS"
   ]
  },
  {
   "cell_type": "raw",
   "metadata": {},
   "source": [
    "# END QUESTION"
   ]
  },
  {
   "cell_type": "raw",
   "metadata": {},
   "source": [
    "# BEGIN QUESTION\n",
    "name: e62\n",
    "points: 5"
   ]
  },
  {
   "cell_type": "markdown",
   "metadata": {},
   "source": [
    "### Subsetting lists\n",
    "rubric={autograde:5}\n",
    "\n",
    "Now we will work with a list from the {[repurrrsive](https://github.com/jennybc/repurrrsive)} R data package, specifically a data set about Game of Thrones characters named `got_chars`."
   ]
  },
  {
   "cell_type": "code",
   "execution_count": 29,
   "metadata": {},
   "outputs": [],
   "source": [
    "# uncomment the line below and run this cell to view the got_chars data set\n",
    "# glimpse(got_chars)"
   ]
  },
  {
   "cell_type": "markdown",
   "metadata": {},
   "source": [
    "Now, from this list, extract the name of the 9th character in this list, as a character vector (not a list). "
   ]
  },
  {
   "cell_type": "raw",
   "metadata": {},
   "source": [
    "# BEGIN SOLUTION"
   ]
  },
  {
   "cell_type": "code",
   "execution_count": 30,
   "metadata": {},
   "outputs": [
    {
     "data": {
      "text/html": [
       "'Daenerys Targaryen'"
      ],
      "text/latex": [
       "'Daenerys Targaryen'"
      ],
      "text/markdown": [
       "'Daenerys Targaryen'"
      ],
      "text/plain": [
       "[1] \"Daenerys Targaryen\""
      ]
     },
     "metadata": {},
     "output_type": "display_data"
    }
   ],
   "source": [
    "got_char_9 <- NULL\n",
    "# BEGIN SOLUTION NO PROMPT\n",
    "got_char_9 <- got_chars[[9]]$name\n",
    "# END SOLUTION\n",
    "got_char_9"
   ]
  },
  {
   "cell_type": "raw",
   "metadata": {},
   "source": [
    "# END SOLUTION"
   ]
  },
  {
   "cell_type": "raw",
   "metadata": {},
   "source": [
    "# BEGIN TESTS"
   ]
  },
  {
   "cell_type": "code",
   "execution_count": 31,
   "metadata": {},
   "outputs": [],
   "source": [
    "# HIDDEN\n",
    "expect_equal(class(got_char_9), 'character')\n",
    "expect_equal(got_char_9, 'Daenerys Targaryen')"
   ]
  },
  {
   "cell_type": "raw",
   "metadata": {},
   "source": [
    "# END TESTS"
   ]
  },
  {
   "cell_type": "markdown",
   "metadata": {},
   "source": [
    "## Exercise 7: (Optional)\n",
    "(not graded - for practice only)\n",
    "\n",
    "Answer either question below for this **optional** exercise:"
   ]
  },
  {
   "cell_type": "markdown",
   "metadata": {},
   "source": [
    "### Explore the `region_lang` data set\n",
    "\n",
    "Write a question that you can answer with the `region_lang` data set and the {dplyr} functions you have met so far. Then use R to answer the question with code. Also write 2-3 sentences stating your answer in written english. "
   ]
  },
  {
   "cell_type": "raw",
   "metadata": {},
   "source": [
    "# BEGIN SOLUTION"
   ]
  },
  {
   "cell_type": "markdown",
   "metadata": {},
   "source": []
  },
  {
   "cell_type": "raw",
   "metadata": {},
   "source": [
    "# END SOLUTION"
   ]
  },
  {
   "cell_type": "markdown",
   "metadata": {},
   "source": [
    "### Create another tidy data example\n",
    "\n",
    "Write a research question you would be interested in answering, and create a small, fake data set that you could use to answer that question. Present the fake data in 3 different formats, two of which that are **not** tidy, as well as one which is tidy. Label which versions of the data set are tidy and which are not. Provide a 1-2 sentence explanation why each version of the data set is tidy or not."
   ]
  },
  {
   "cell_type": "raw",
   "metadata": {},
   "source": [
    "# BEGIN SOLUTION"
   ]
  },
  {
   "cell_type": "markdown",
   "metadata": {},
   "source": []
  },
  {
   "cell_type": "raw",
   "metadata": {},
   "source": [
    "# END SOLUTION"
   ]
  },
  {
   "cell_type": "markdown",
   "metadata": {},
   "source": [
    "Congratulations! You are done the lab!!! Pat yourself on the back, and submit your worksheet to Gradescope!\n",
    "\n",
    "<img src=\"img/r_first_then.png\" width=300>"
   ]
  }
 ],
 "metadata": {
  "celltoolbar": "Create Assignment",
  "kernelspec": {
   "display_name": "R",
   "language": "R",
   "name": "ir"
  },
  "language_info": {
   "codemirror_mode": "r",
   "file_extension": ".r",
   "mimetype": "text/x-r-source",
   "name": "R",
   "pygments_lexer": "r",
   "version": "4.2.1"
  },
  "toc-autonumbering": true,
  "toc-showmarkdowntxt": true,
  "toc-showtags": true
 },
 "nbformat": 4,
 "nbformat_minor": 4
}
