{
 "cells": [
  {
   "cell_type": "raw",
   "metadata": {},
   "source": [
    "# ASSIGNMENT CONFIG\n",
    "requirements: requirements.R\n",
    "generate:\n",
    "    show_hidden: true\n",
    "    show_stdout: true\n",
    "    channel_priority_strict: false\n",
    "environment: environment.yml\n",
    "files:\n",
    "  - img\n",
    "  - data"
   ]
  },
  {
   "cell_type": "markdown",
   "metadata": {},
   "source": [
    "## Worksheet 3\n",
    "\n",
    "Welcome to worksheet 3! This worksheet was designed to allow you to practice what was covered in the assigned readings & lectures/videos/recordings. The labs problems will be more challenging then those in the worksheet, and the worksheet questions will help prepare you for them. Time will be provided to work on the worksheets in small groups during lecture, however it is not expected that you will complete the worksheet in this time. You are expected to spend some indpendent time working on the worksheet after lecture. \n",
    "\n",
    "**Worksheets are due on Saturdays at 6pm, and must be submitted as `.ipynb` files to Gradescope.**"
   ]
  },
  {
   "cell_type": "markdown",
   "metadata": {},
   "source": [
    "### Worksheet mechanics\n",
    "\n",
    "- You submit a `.ipynb` version of this homework to Gradescope.\n",
    "- **There is autograding in this lab, so please do not move or rename this file. Also, do not copy and paste cells, if you need to add new cells, create new cells via the \"Insert a cell below\" button instead.**"
   ]
  },
  {
   "cell_type": "markdown",
   "metadata": {},
   "source": [
    "Run the cell below to load the libraries needed for this worksheet, and to check your answers as you go!"
   ]
  },
  {
   "cell_type": "code",
   "execution_count": 1,
   "metadata": {},
   "outputs": [
    {
     "name": "stderr",
     "output_type": "stream",
     "text": [
      "\n",
      "Attaching package: ‘lubridate’\n",
      "\n",
      "\n",
      "The following objects are masked from ‘package:base’:\n",
      "\n",
      "    date, intersect, setdiff, union\n",
      "\n",
      "\n",
      "── \u001b[1mAttaching packages\u001b[22m ────────────────────────────────────────────────────────────────────────────────────────────────────────────────────────────────────────────────── tidyverse 1.3.2 ──\n",
      "\u001b[32m✔\u001b[39m \u001b[34mggplot2\u001b[39m 3.3.6     \u001b[32m✔\u001b[39m \u001b[34mpurrr  \u001b[39m 0.3.4\n",
      "\u001b[32m✔\u001b[39m \u001b[34mtibble \u001b[39m 3.1.8     \u001b[32m✔\u001b[39m \u001b[34mdplyr  \u001b[39m 1.0.9\n",
      "\u001b[32m✔\u001b[39m \u001b[34mtidyr  \u001b[39m 1.2.0     \u001b[32m✔\u001b[39m \u001b[34mstringr\u001b[39m 1.4.1\n",
      "\u001b[32m✔\u001b[39m \u001b[34mreadr  \u001b[39m 2.1.2     \u001b[32m✔\u001b[39m \u001b[34mforcats\u001b[39m 0.5.1\n",
      "── \u001b[1mConflicts\u001b[22m ───────────────────────────────────────────────────────────────────────────────────────────────────────────────────────────────────────────────────── tidyverse_conflicts() ──\n",
      "\u001b[31m✖\u001b[39m \u001b[34mlubridate\u001b[39m::\u001b[32mas.difftime()\u001b[39m masks \u001b[34mbase\u001b[39m::as.difftime()\n",
      "\u001b[31m✖\u001b[39m \u001b[34mlubridate\u001b[39m::\u001b[32mdate()\u001b[39m        masks \u001b[34mbase\u001b[39m::date()\n",
      "\u001b[31m✖\u001b[39m \u001b[34mdplyr\u001b[39m::\u001b[32mfilter()\u001b[39m          masks \u001b[34mstats\u001b[39m::filter()\n",
      "\u001b[31m✖\u001b[39m \u001b[34mlubridate\u001b[39m::\u001b[32mintersect()\u001b[39m   masks \u001b[34mbase\u001b[39m::intersect()\n",
      "\u001b[31m✖\u001b[39m \u001b[34mdplyr\u001b[39m::\u001b[32mlag()\u001b[39m             masks \u001b[34mstats\u001b[39m::lag()\n",
      "\u001b[31m✖\u001b[39m \u001b[34mlubridate\u001b[39m::\u001b[32msetdiff()\u001b[39m     masks \u001b[34mbase\u001b[39m::setdiff()\n",
      "\u001b[31m✖\u001b[39m \u001b[34mlubridate\u001b[39m::\u001b[32munion()\u001b[39m       masks \u001b[34mbase\u001b[39m::union()\n",
      "\n",
      "Attaching package: ‘testthat’\n",
      "\n",
      "\n",
      "The following object is masked from ‘package:dplyr’:\n",
      "\n",
      "    matches\n",
      "\n",
      "\n",
      "The following object is masked from ‘package:purrr’:\n",
      "\n",
      "    is_null\n",
      "\n",
      "\n",
      "The following objects are masked from ‘package:readr’:\n",
      "\n",
      "    edition_get, local_edition\n",
      "\n",
      "\n",
      "The following object is masked from ‘package:tidyr’:\n",
      "\n",
      "    matches\n",
      "\n",
      "\n"
     ]
    }
   ],
   "source": [
    "library(canlang)\n",
    "library(lubridate)\n",
    "library(nycflights13)\n",
    "library(tidyverse)\n",
    "library(testthat)\n",
    "library(digest)\n",
    "options(repr.matrix.max.rows = 10)"
   ]
  },
  {
   "cell_type": "markdown",
   "metadata": {},
   "source": [
    "# Dates and times!\n",
    "\n",
    "The next couple questions will be focused on getting you practice working with dates and times using the {[lubridate](https://lubridate.tidyverse.org/)} R package. \n",
    "\n",
    "Don't forget to reference the [Dates and Times Cheatsheet](https://github.com/rstudio/cheatsheets/raw/main/lubridate.pdf) if you need help remembering things from lecture!\n",
    "\n",
    "<img src=\"https://github.com/allisonhorst/stats-illustrations/blob/main/rstats-artwork/lubridate.png?raw=true\" width=400>\n",
    "\n",
    "*Illustrator: Allison Horst*"
   ]
  },
  {
   "cell_type": "raw",
   "metadata": {},
   "source": [
    "# BEGIN QUESTION\n",
    "name: ex1\n",
    "points: 1"
   ]
  },
  {
   "cell_type": "markdown",
   "metadata": {},
   "source": [
    "### Exercise 1\n",
    "rubric={autograde:1}\n",
    "\n",
    "Use the appropriate {lubridate} function to parse each of the dates given below. Bind the names `answer_1`, `answer_2`, `answer_3`, `answer_4`, `answer_5`, respectively, to the parsed dates."
   ]
  },
  {
   "cell_type": "raw",
   "metadata": {},
   "source": [
    "# BEGIN SOLUTION"
   ]
  },
  {
   "cell_type": "code",
   "execution_count": 2,
   "metadata": {},
   "outputs": [
    {
     "data": {
      "text/html": [
       "<time datetime=\"2010-01-01\">2010-01-01</time>"
      ],
      "text/latex": [
       "2010-01-01"
      ],
      "text/markdown": [
       "2010-01-01"
      ],
      "text/plain": [
       "[1] \"2010-01-01\""
      ]
     },
     "metadata": {},
     "output_type": "display_data"
    },
    {
     "data": {
      "text/html": [
       "<time datetime=\"2015-03-07\">2015-03-07</time>"
      ],
      "text/latex": [
       "2015-03-07"
      ],
      "text/markdown": [
       "2015-03-07"
      ],
      "text/plain": [
       "[1] \"2015-03-07\""
      ]
     },
     "metadata": {},
     "output_type": "display_data"
    },
    {
     "data": {
      "text/html": [
       "<time datetime=\"2017-06-06\">2017-06-06</time>"
      ],
      "text/latex": [
       "2017-06-06"
      ],
      "text/markdown": [
       "2017-06-06"
      ],
      "text/plain": [
       "[1] \"2017-06-06\""
      ]
     },
     "metadata": {},
     "output_type": "display_data"
    },
    {
     "data": {
      "text/html": [
       "<style>\n",
       ".list-inline {list-style: none; margin:0; padding: 0}\n",
       ".list-inline>li {display: inline-block}\n",
       ".list-inline>li:not(:last-child)::after {content: \"\\00b7\"; padding: 0 .5ex}\n",
       "</style>\n",
       "<ol class=list-inline><li><time datetime=\"2015-08-19\">2015-08-19</time></li><li><time datetime=\"2015-07-01\">2015-07-01</time></li></ol>\n"
      ],
      "text/latex": [
       "\\begin{enumerate*}\n",
       "\\item 2015-08-19\n",
       "\\item 2015-07-01\n",
       "\\end{enumerate*}\n"
      ],
      "text/markdown": [
       "1. 2015-08-19\n",
       "2. 2015-07-01\n",
       "\n",
       "\n"
      ],
      "text/plain": [
       "[1] \"2015-08-19\" \"2015-07-01\""
      ]
     },
     "metadata": {},
     "output_type": "display_data"
    },
    {
     "data": {
      "text/html": [
       "<time datetime=\"2014-12-30\">2014-12-30</time>"
      ],
      "text/latex": [
       "2014-12-30"
      ],
      "text/markdown": [
       "2014-12-30"
      ],
      "text/plain": [
       "[1] \"2014-12-30\""
      ]
     },
     "metadata": {},
     "output_type": "display_data"
    }
   ],
   "source": [
    "d1 <- \"January 1, 2010\"\n",
    "d2 <- \"2015-Mar-07\"\n",
    "d3 <- \"06-Jun-2017\"\n",
    "d4 <- c(\"August 19 (2015)\", \"July 1 (2015)\")\n",
    "d5 <- \"12/30/14\" # Dec 30, 2014\n",
    "\n",
    "answer_1 <- NULL\n",
    "answer_2 <- NULL\n",
    "answer_3 <- NULL\n",
    "answer_4 <- NULL\n",
    "answer_5 <- NULL\n",
    "# BEGIN SOLUTION NO PROMPT\n",
    "answer_1 <- mdy(d1)\n",
    "answer_2 <- ymd(d2)\n",
    "answer_3 <- dmy(d3)\n",
    "answer_4 <- mdy(d4)\n",
    "answer_5 <- mdy(d5)\n",
    "# END SOLUTION\n",
    "\n",
    "answer_1\n",
    "answer_2\n",
    "answer_3\n",
    "answer_4\n",
    "answer_5"
   ]
  },
  {
   "cell_type": "raw",
   "metadata": {},
   "source": [
    "# END SOLUTION"
   ]
  },
  {
   "cell_type": "raw",
   "metadata": {},
   "source": [
    "# BEGIN TESTS"
   ]
  },
  {
   "cell_type": "code",
   "execution_count": 3,
   "metadata": {},
   "outputs": [],
   "source": [
    "# TESTS\n",
    "# test 1_1\n",
    "expect_equal(class(answer_1), 'Date')\n",
    "expect_equal(digest(as.character(answer_1)), 'af34296507d90a47d83c0e6d7ccf528c')\n",
    "# test 1_2\n",
    "expect_equal(class(answer_2), 'Date')\n",
    "expect_equal(digest(as.character(answer_2)), '0dc3e72e7535e3d3378f7fee34e32da5')\n",
    "# test 1_3\n",
    "expect_equal(class(answer_3), 'Date')\n",
    "expect_equal(digest(as.character(answer_3)), '63b4cce8c63b1e73d428dc1f9dbd7600')\n",
    "# test 1_4\n",
    "expect_equal(class(answer_1), 'Date')\n",
    "expect_equal(length(answer_4), 2)\n",
    "expect_equal(digest(paste(sort(as.character(answer_4)), collapse=\"\")), 'a81259f0cd6c9b59c1904963d15175e9')\n",
    "# test 1_5\n",
    "expect_equal(class(answer_5), 'Date')\n",
    "expect_equal(digest(as.character(answer_5)), '10626e8d4ecc62564ef221e9be42f4f1')"
   ]
  },
  {
   "cell_type": "raw",
   "metadata": {},
   "source": [
    "# END TESTS"
   ]
  },
  {
   "cell_type": "raw",
   "metadata": {},
   "source": [
    "# END QUESTION"
   ]
  },
  {
   "cell_type": "raw",
   "metadata": {},
   "source": [
    "# BEGIN QUESTION\n",
    "name: ex2\n",
    "points: 1"
   ]
  },
  {
   "cell_type": "markdown",
   "metadata": {},
   "source": [
    "### Exercise 2\n",
    "rubric={autograde:1}\n",
    "\n",
    "Let's go the other way now with dates - let's use the {lubridate} function `wday` get the day of week from the date vector given below. Make sure the day returned is the full name of the weekday (e.g., \"Monday\" and not \"Mon\"). To ensure this, look a the `label` and `abbr` function arguments.\n",
    "\n",
    "Bind the name `days_of_week` to the new vector of months you create."
   ]
  },
  {
   "cell_type": "raw",
   "metadata": {},
   "source": [
    "# BEGIN SOLUTION"
   ]
  },
  {
   "cell_type": "code",
   "execution_count": 4,
   "metadata": {},
   "outputs": [
    {
     "data": {
      "text/html": [
       "<style>\n",
       ".list-inline {list-style: none; margin:0; padding: 0}\n",
       ".list-inline>li {display: inline-block}\n",
       ".list-inline>li:not(:last-child)::after {content: \"\\00b7\"; padding: 0 .5ex}\n",
       "</style>\n",
       "<ol class=list-inline><li>Monday</li><li>Tuesday</li><li>Wednesday</li><li>Thursday</li><li>Friday</li><li>Saturday</li><li>Sunday</li></ol>\n",
       "\n",
       "<details>\n",
       "\t<summary style=display:list-item;cursor:pointer>\n",
       "\t\t<strong>Levels</strong>:\n",
       "\t</summary>\n",
       "\t<style>\n",
       "\t.list-inline {list-style: none; margin:0; padding: 0}\n",
       "\t.list-inline>li {display: inline-block}\n",
       "\t.list-inline>li:not(:last-child)::after {content: \"\\00b7\"; padding: 0 .5ex}\n",
       "\t</style>\n",
       "\t<ol class=list-inline><li>'Sunday'</li><li>'Monday'</li><li>'Tuesday'</li><li>'Wednesday'</li><li>'Thursday'</li><li>'Friday'</li><li>'Saturday'</li></ol>\n",
       "</details>"
      ],
      "text/latex": [
       "\\begin{enumerate*}\n",
       "\\item Monday\n",
       "\\item Tuesday\n",
       "\\item Wednesday\n",
       "\\item Thursday\n",
       "\\item Friday\n",
       "\\item Saturday\n",
       "\\item Sunday\n",
       "\\end{enumerate*}\n",
       "\n",
       "\\emph{Levels}: \\begin{enumerate*}\n",
       "\\item 'Sunday'\n",
       "\\item 'Monday'\n",
       "\\item 'Tuesday'\n",
       "\\item 'Wednesday'\n",
       "\\item 'Thursday'\n",
       "\\item 'Friday'\n",
       "\\item 'Saturday'\n",
       "\\end{enumerate*}\n"
      ],
      "text/markdown": [
       "1. Monday\n",
       "2. Tuesday\n",
       "3. Wednesday\n",
       "4. Thursday\n",
       "5. Friday\n",
       "6. Saturday\n",
       "7. Sunday\n",
       "\n",
       "\n",
       "\n",
       "**Levels**: 1. 'Sunday'\n",
       "2. 'Monday'\n",
       "3. 'Tuesday'\n",
       "4. 'Wednesday'\n",
       "5. 'Thursday'\n",
       "6. 'Friday'\n",
       "7. 'Saturday'\n",
       "\n",
       "\n"
      ],
      "text/plain": [
       "[1] Monday    Tuesday   Wednesday Thursday  Friday    Saturday  Sunday   \n",
       "7 Levels: Sunday < Monday < Tuesday < Wednesday < Thursday < ... < Saturday"
      ]
     },
     "metadata": {},
     "output_type": "display_data"
    }
   ],
   "source": [
    "dates <- c(\"1982-01-25 01:50:12\",\n",
    "          \"1967-09-19 19:09:59\",\n",
    "          \"1999-04-07 22:02:44\",\n",
    "          \"2050-12-15 03:24:38\",\n",
    "          \"2020-01-31 11:59:59\",\n",
    "          \"2009-01-31 01:32:05\",\n",
    "          \"2010-01-31 23:03:17\")\n",
    "\n",
    "days_of_week <- NULL\n",
    "days_of_week <- wday(dates, label = TRUE, abbr = FALSE) # SOLUTION NO PROMPT\n",
    "\n",
    "days_of_week"
   ]
  },
  {
   "cell_type": "raw",
   "metadata": {},
   "source": [
    "# END SOLUTION"
   ]
  },
  {
   "cell_type": "raw",
   "metadata": {},
   "source": [
    "# BEGIN TESTS"
   ]
  },
  {
   "cell_type": "code",
   "execution_count": 5,
   "metadata": {},
   "outputs": [],
   "source": [
    "# TESTS\n",
    "expect_true(is.factor(days_of_week))\n",
    "expect_equal(length(days_of_week), 7)\n",
    "expect_equal(digest(paste(tolower(sort(as.character(days_of_week))), collapse=\"\")), '59e0c874408c2e1b9e2966b20f588b34')"
   ]
  },
  {
   "cell_type": "raw",
   "metadata": {},
   "source": [
    "# END TESTS"
   ]
  },
  {
   "cell_type": "raw",
   "metadata": {},
   "source": [
    "# END QUESTION"
   ]
  },
  {
   "cell_type": "raw",
   "metadata": {},
   "source": [
    "# BEGIN QUESTION\n",
    "name: ex3\n",
    "points: 1"
   ]
  },
  {
   "cell_type": "markdown",
   "metadata": {},
   "source": [
    "### Exercise 3\n",
    "rubric={autograde:1}\n",
    "\n",
    "Let's create a date interval, so that in the following question we can ask whether a date (or dates) falls within that interval! Use the `interval` function to create an interval named `mds_2022_2023` for the time period of when MDS is in session for this upcoming year (so an interval between September 3rd, 2022 and June 30th, 2023). *Note: you can ignore time zones for this.*"
   ]
  },
  {
   "cell_type": "raw",
   "metadata": {},
   "source": [
    "# BEGIN SOLUTION"
   ]
  },
  {
   "cell_type": "code",
   "execution_count": 6,
   "metadata": {},
   "outputs": [
    {
     "data": {
      "text/html": [
       "2022-09-03 UTC--2023-06-30 UTC"
      ],
      "text/latex": [
       "2022-09-03 UTC--2023-06-30 UTC"
      ],
      "text/markdown": [
       "2022-09-03 UTC--2023-06-30 UTC"
      ],
      "text/plain": [
       "[1] 2022-09-03 UTC--2023-06-30 UTC"
      ]
     },
     "metadata": {},
     "output_type": "display_data"
    }
   ],
   "source": [
    "mds_2022_2023 <- NULL\n",
    "mds_2022_2023 <- interval(ymd(\"2022/09/03\"), ymd(\"2023/06/30\")) # SOLUTION NO PROMPT\n",
    "mds_2022_2023"
   ]
  },
  {
   "cell_type": "raw",
   "metadata": {},
   "source": [
    "# END SOLUTION"
   ]
  },
  {
   "cell_type": "raw",
   "metadata": {},
   "source": [
    "# BEGIN TESTS"
   ]
  },
  {
   "cell_type": "code",
   "execution_count": 7,
   "metadata": {},
   "outputs": [],
   "source": [
    "# TESTS\n",
    "expect_true(exists(\"mds_2022_2023\"))\n",
    "expect_s4_class(mds_2022_2023, \"Interval\")\n",
    "expect_equal(substr(as.character(mds_2022_2023),start = 1, stop = 10), \"2022-09-03\")\n",
    "expect_equal(substr(as.character(mds_2022_2023),start = 17, stop = 26), \"2023-06-30\")\n",
    "expect_equal(substr(as.character(mds_2022_2023),start = 12, stop = 14), \"UTC\")\n",
    "expect_equal(mds_2022_2023@.Data, 25920000)"
   ]
  },
  {
   "cell_type": "raw",
   "metadata": {},
   "source": [
    "# END TESTS"
   ]
  },
  {
   "cell_type": "raw",
   "metadata": {},
   "source": [
    "# END QUESTION"
   ]
  },
  {
   "cell_type": "raw",
   "metadata": {},
   "source": [
    "# BEGIN QUESTION\n",
    "name: ex4\n",
    "points: 1"
   ]
  },
  {
   "cell_type": "markdown",
   "metadata": {},
   "source": [
    "### Exercise 4\n",
    "rubric={autograde:1}\n",
    "\n",
    "Using the interval from exercise 3, `filter` the data set below to return just the rows from the `canada_2022-23.csv` data set (which can be found in the `data` directory) which have the Canadian statuatory holidays that fall during the 2022-23 MDS academic session. Name the data frame containing those rows `mds_stat_holidays_2022_23`.\n",
    "\n",
    "A couple hints:\n",
    "- the `date` column should be converted to the class \"Date\"\n",
    "- `%within%` is useful for pairing with `filter` to get rows in an interval"
   ]
  },
  {
   "cell_type": "raw",
   "metadata": {},
   "source": [
    "# BEGIN SOLUTION"
   ]
  },
  {
   "cell_type": "code",
   "execution_count": 8,
   "metadata": {},
   "outputs": [
    {
     "name": "stderr",
     "output_type": "stream",
     "text": [
      "\u001b[1mRows: \u001b[22m\u001b[34m26\u001b[39m \u001b[1mColumns: \u001b[22m\u001b[34m3\u001b[39m\n",
      "\u001b[36m──\u001b[39m \u001b[1mColumn specification\u001b[22m \u001b[36m───────────────────────────────────────────────────────────────────────────────────────────────────────────────────────────────────────────────────────────────────\u001b[39m\n",
      "\u001b[1mDelimiter:\u001b[22m \",\"\n",
      "\u001b[31mchr\u001b[39m (3): date, day_of_week, holiday\n",
      "\n",
      "\u001b[36mℹ\u001b[39m Use `spec()` to retrieve the full column specification for this data.\n",
      "\u001b[36mℹ\u001b[39m Specify the column types or set `show_col_types = FALSE` to quiet this message.\n"
     ]
    },
    {
     "data": {
      "text/html": [
       "<table class=\"dataframe\">\n",
       "<caption>A tibble: 11 × 3</caption>\n",
       "<thead>\n",
       "\t<tr><th scope=col>date</th><th scope=col>day_of_week</th><th scope=col>holiday</th></tr>\n",
       "\t<tr><th scope=col>&lt;date&gt;</th><th scope=col>&lt;chr&gt;</th><th scope=col>&lt;chr&gt;</th></tr>\n",
       "</thead>\n",
       "<tbody>\n",
       "\t<tr><td>2022-09-05</td><td>Monday</td><td>Labour Day     </td></tr>\n",
       "\t<tr><td>2022-10-10</td><td>Monday</td><td>Thanksgiving   </td></tr>\n",
       "\t<tr><td>2022-11-11</td><td>Friday</td><td>Remembrance Day</td></tr>\n",
       "\t<tr><td>2022-12-25</td><td>Sunday</td><td>Christmas Day  </td></tr>\n",
       "\t<tr><td>2022-12-26</td><td>Monday</td><td>Boxing Day     </td></tr>\n",
       "\t<tr><td>⋮</td><td>⋮</td><td>⋮</td></tr>\n",
       "\t<tr><td>2023-04-07</td><td>Friday</td><td>Good Friday  </td></tr>\n",
       "\t<tr><td>2023-04-09</td><td>Sunday</td><td>Easter Sunday</td></tr>\n",
       "\t<tr><td>2023-05-14</td><td>Sunday</td><td>Mother's Day </td></tr>\n",
       "\t<tr><td>2023-05-22</td><td>Monday</td><td>Victoria Day </td></tr>\n",
       "\t<tr><td>2023-06-18</td><td>Sunday</td><td>Father's Day </td></tr>\n",
       "</tbody>\n",
       "</table>\n"
      ],
      "text/latex": [
       "A tibble: 11 × 3\n",
       "\\begin{tabular}{lll}\n",
       " date & day\\_of\\_week & holiday\\\\\n",
       " <date> & <chr> & <chr>\\\\\n",
       "\\hline\n",
       "\t 2022-09-05 & Monday & Labour Day     \\\\\n",
       "\t 2022-10-10 & Monday & Thanksgiving   \\\\\n",
       "\t 2022-11-11 & Friday & Remembrance Day\\\\\n",
       "\t 2022-12-25 & Sunday & Christmas Day  \\\\\n",
       "\t 2022-12-26 & Monday & Boxing Day     \\\\\n",
       "\t ⋮ & ⋮ & ⋮\\\\\n",
       "\t 2023-04-07 & Friday & Good Friday  \\\\\n",
       "\t 2023-04-09 & Sunday & Easter Sunday\\\\\n",
       "\t 2023-05-14 & Sunday & Mother's Day \\\\\n",
       "\t 2023-05-22 & Monday & Victoria Day \\\\\n",
       "\t 2023-06-18 & Sunday & Father's Day \\\\\n",
       "\\end{tabular}\n"
      ],
      "text/markdown": [
       "\n",
       "A tibble: 11 × 3\n",
       "\n",
       "| date &lt;date&gt; | day_of_week &lt;chr&gt; | holiday &lt;chr&gt; |\n",
       "|---|---|---|\n",
       "| 2022-09-05 | Monday | Labour Day      |\n",
       "| 2022-10-10 | Monday | Thanksgiving    |\n",
       "| 2022-11-11 | Friday | Remembrance Day |\n",
       "| 2022-12-25 | Sunday | Christmas Day   |\n",
       "| 2022-12-26 | Monday | Boxing Day      |\n",
       "| ⋮ | ⋮ | ⋮ |\n",
       "| 2023-04-07 | Friday | Good Friday   |\n",
       "| 2023-04-09 | Sunday | Easter Sunday |\n",
       "| 2023-05-14 | Sunday | Mother's Day  |\n",
       "| 2023-05-22 | Monday | Victoria Day  |\n",
       "| 2023-06-18 | Sunday | Father's Day  |\n",
       "\n"
      ],
      "text/plain": [
       "   date       day_of_week holiday        \n",
       "1  2022-09-05 Monday      Labour Day     \n",
       "2  2022-10-10 Monday      Thanksgiving   \n",
       "3  2022-11-11 Friday      Remembrance Day\n",
       "4  2022-12-25 Sunday      Christmas Day  \n",
       "5  2022-12-26 Monday      Boxing Day     \n",
       "⋮  ⋮          ⋮           ⋮              \n",
       "7  2023-04-07 Friday      Good Friday    \n",
       "8  2023-04-09 Sunday      Easter Sunday  \n",
       "9  2023-05-14 Sunday      Mother's Day   \n",
       "10 2023-05-22 Monday      Victoria Day   \n",
       "11 2023-06-18 Sunday      Father's Day   "
      ]
     },
     "metadata": {},
     "output_type": "display_data"
    }
   ],
   "source": [
    "mds_stat_holidays_2022_23 <- NULL\n",
    "# BEGIN SOLUTION NO PROMPT\n",
    "mds_stat_holidays_2022_23 <- read_csv(\"data/canada_2022-23.csv\", skip = 2) |>\n",
    "  mutate(date = mdy(date)) |>\n",
    "  filter(date %within% mds_2022_2023)\n",
    "# END SOLUTION\n",
    "mds_stat_holidays_2022_23"
   ]
  },
  {
   "cell_type": "raw",
   "metadata": {},
   "source": [
    "# END SOLUTION"
   ]
  },
  {
   "cell_type": "raw",
   "metadata": {},
   "source": [
    "# BEGIN TESTS"
   ]
  },
  {
   "cell_type": "code",
   "execution_count": 9,
   "metadata": {},
   "outputs": [],
   "source": [
    "# TESTS\n",
    "expect_true(exists(\"mds_stat_holidays_2022_23\"))\n",
    "expect_named(mds_stat_holidays_2022_23, c(\"date\", \"day_of_week\", \"holiday\"), ignore.order = TRUE)\n",
    "expect_s3_class(mds_stat_holidays_2022_23, \"tbl_df\")\n",
    "expect_type(mds_stat_holidays_2022_23$day_of_week, \"character\")\n",
    "expect_type(mds_stat_holidays_2022_23$holiday, \"character\")\n",
    "expect_s3_class(mds_stat_holidays_2022_23$date, \"Date\")\n",
    "expect_equal(nrow(mds_stat_holidays_2022_23), 11)\n",
    "expect_equal(ncol(mds_stat_holidays_2022_23), 3)\n",
    "expect_equal(nrow(filter(mds_stat_holidays_2022_23, day_of_week == \"Monday\")), 4)\n",
    "expect_equal(nrow(filter(mds_stat_holidays_2022_23, day_of_week == \"Sunday\")), 5)"
   ]
  },
  {
   "cell_type": "raw",
   "metadata": {},
   "source": [
    "# END TESTS"
   ]
  },
  {
   "cell_type": "raw",
   "metadata": {},
   "source": [
    "# END QUESTION"
   ]
  },
  {
   "cell_type": "markdown",
   "metadata": {},
   "source": [
    "# Strings!\n",
    "\n",
    "The next couple questions will be focused on getting you practice working with strings using the {[stringr](https://stringr.tidyverse.org/)} package. To do this, we will work with the `region_lang` data set again from the {can_lang} package. \n",
    "\n",
    "Don't forget to reference the [Work with Strings Cheatsheet](https://github.com/rstudio/cheatsheets/blob/main/strings.pdf) if you need help remembering things from lecture!\n",
    "\n",
    "<img src=\"https://github.com/allisonhorst/stats-illustrations/blob/main/rstats-artwork/str_squish.png?raw=true\" width=500>\n",
    "\n",
    "*Illustrator: Allison Horst*"
   ]
  },
  {
   "cell_type": "raw",
   "metadata": {},
   "source": [
    "# BEGIN QUESTION\n",
    "name: ex5\n",
    "points: 1"
   ]
  },
  {
   "cell_type": "markdown",
   "metadata": {},
   "source": [
    "### Exercise 5\n",
    "rubric={autograde:1}\n",
    "\n",
    "Sometimes we want to `filter` for rows that contain part of string, either because we do not know the exact string to test for in our `filter` function, or because we want to do partial string matching. The {stringr} `str_detect` function can be really useful for this. We can nest it inside our call to `filter` as demonstrated below:\n",
    "\n",
    "```\n",
    "data_frame %>% \n",
    "    filter(str_detect(column_name, \"pattern_to_match\"))\n",
    "```\n",
    "\n",
    "Your task here is to use `filter` + `str_detect` to obtain rows for the region containing Canada's capital city: \"Ottawa\"(the `region` column of `region_lang` data frame). Bind the name `ottawa_region` to the data frame."
   ]
  },
  {
   "cell_type": "raw",
   "metadata": {},
   "source": [
    "# BEGIN SOLUTION"
   ]
  },
  {
   "cell_type": "code",
   "execution_count": 10,
   "metadata": {},
   "outputs": [
    {
     "data": {
      "text/html": [
       "<table class=\"dataframe\">\n",
       "<caption>A tibble: 214 × 7</caption>\n",
       "<thead>\n",
       "\t<tr><th scope=col>region</th><th scope=col>category</th><th scope=col>language</th><th scope=col>mother_tongue</th><th scope=col>most_at_home</th><th scope=col>most_at_work</th><th scope=col>lang_known</th></tr>\n",
       "\t<tr><th scope=col>&lt;chr&gt;</th><th scope=col>&lt;chr&gt;</th><th scope=col>&lt;chr&gt;</th><th scope=col>&lt;dbl&gt;</th><th scope=col>&lt;dbl&gt;</th><th scope=col>&lt;dbl&gt;</th><th scope=col>&lt;dbl&gt;</th></tr>\n",
       "</thead>\n",
       "<tbody>\n",
       "\t<tr><td>Ottawa - Gatineau</td><td>Aboriginal languages                   </td><td>Aboriginal languages, n.o.s.  </td><td> 10</td><td>  0</td><td>0</td><td>  0</td></tr>\n",
       "\t<tr><td>Ottawa - Gatineau</td><td>Non-Official &amp; Non-Aboriginal languages</td><td><span style=white-space:pre-wrap>Afrikaans                     </span></td><td>175</td><td> 40</td><td>0</td><td>450</td></tr>\n",
       "\t<tr><td>Ottawa - Gatineau</td><td>Non-Official &amp; Non-Aboriginal languages</td><td>Afro-Asiatic languages, n.i.e.</td><td> 80</td><td> 20</td><td>0</td><td>205</td></tr>\n",
       "\t<tr><td>Ottawa - Gatineau</td><td>Non-Official &amp; Non-Aboriginal languages</td><td><span style=white-space:pre-wrap>Akan (Twi)                    </span></td><td>390</td><td>130</td><td>0</td><td>700</td></tr>\n",
       "\t<tr><td>Ottawa - Gatineau</td><td>Non-Official &amp; Non-Aboriginal languages</td><td><span style=white-space:pre-wrap>Albanian                      </span></td><td>710</td><td>320</td><td>0</td><td>865</td></tr>\n",
       "\t<tr><td>⋮</td><td>⋮</td><td>⋮</td><td>⋮</td><td>⋮</td><td>⋮</td><td>⋮</td></tr>\n",
       "\t<tr><td>Ottawa - Gatineau</td><td>Non-Official &amp; Non-Aboriginal languages</td><td><span style=white-space:pre-wrap>Wolof            </span></td><td>275</td><td>100</td><td> 0</td><td>710</td></tr>\n",
       "\t<tr><td>Ottawa - Gatineau</td><td>Aboriginal languages                   </td><td>Woods Cree       </td><td>  5</td><td>  5</td><td> 0</td><td> 25</td></tr>\n",
       "\t<tr><td>Ottawa - Gatineau</td><td>Non-Official &amp; Non-Aboriginal languages</td><td>Wu (Shanghainese)</td><td>455</td><td>250</td><td> 0</td><td>435</td></tr>\n",
       "\t<tr><td>Ottawa - Gatineau</td><td>Non-Official &amp; Non-Aboriginal languages</td><td><span style=white-space:pre-wrap>Yiddish          </span></td><td>180</td><td> 10</td><td> 0</td><td>355</td></tr>\n",
       "\t<tr><td>Ottawa - Gatineau</td><td>Non-Official &amp; Non-Aboriginal languages</td><td><span style=white-space:pre-wrap>Yoruba           </span></td><td>265</td><td> 65</td><td>10</td><td>910</td></tr>\n",
       "</tbody>\n",
       "</table>\n"
      ],
      "text/latex": [
       "A tibble: 214 × 7\n",
       "\\begin{tabular}{lllllll}\n",
       " region & category & language & mother\\_tongue & most\\_at\\_home & most\\_at\\_work & lang\\_known\\\\\n",
       " <chr> & <chr> & <chr> & <dbl> & <dbl> & <dbl> & <dbl>\\\\\n",
       "\\hline\n",
       "\t Ottawa - Gatineau & Aboriginal languages                    & Aboriginal languages, n.o.s.   &  10 &   0 & 0 &   0\\\\\n",
       "\t Ottawa - Gatineau & Non-Official \\& Non-Aboriginal languages & Afrikaans                      & 175 &  40 & 0 & 450\\\\\n",
       "\t Ottawa - Gatineau & Non-Official \\& Non-Aboriginal languages & Afro-Asiatic languages, n.i.e. &  80 &  20 & 0 & 205\\\\\n",
       "\t Ottawa - Gatineau & Non-Official \\& Non-Aboriginal languages & Akan (Twi)                     & 390 & 130 & 0 & 700\\\\\n",
       "\t Ottawa - Gatineau & Non-Official \\& Non-Aboriginal languages & Albanian                       & 710 & 320 & 0 & 865\\\\\n",
       "\t ⋮ & ⋮ & ⋮ & ⋮ & ⋮ & ⋮ & ⋮\\\\\n",
       "\t Ottawa - Gatineau & Non-Official \\& Non-Aboriginal languages & Wolof             & 275 & 100 &  0 & 710\\\\\n",
       "\t Ottawa - Gatineau & Aboriginal languages                    & Woods Cree        &   5 &   5 &  0 &  25\\\\\n",
       "\t Ottawa - Gatineau & Non-Official \\& Non-Aboriginal languages & Wu (Shanghainese) & 455 & 250 &  0 & 435\\\\\n",
       "\t Ottawa - Gatineau & Non-Official \\& Non-Aboriginal languages & Yiddish           & 180 &  10 &  0 & 355\\\\\n",
       "\t Ottawa - Gatineau & Non-Official \\& Non-Aboriginal languages & Yoruba            & 265 &  65 & 10 & 910\\\\\n",
       "\\end{tabular}\n"
      ],
      "text/markdown": [
       "\n",
       "A tibble: 214 × 7\n",
       "\n",
       "| region &lt;chr&gt; | category &lt;chr&gt; | language &lt;chr&gt; | mother_tongue &lt;dbl&gt; | most_at_home &lt;dbl&gt; | most_at_work &lt;dbl&gt; | lang_known &lt;dbl&gt; |\n",
       "|---|---|---|---|---|---|---|\n",
       "| Ottawa - Gatineau | Aboriginal languages                    | Aboriginal languages, n.o.s.   |  10 |   0 | 0 |   0 |\n",
       "| Ottawa - Gatineau | Non-Official &amp; Non-Aboriginal languages | Afrikaans                      | 175 |  40 | 0 | 450 |\n",
       "| Ottawa - Gatineau | Non-Official &amp; Non-Aboriginal languages | Afro-Asiatic languages, n.i.e. |  80 |  20 | 0 | 205 |\n",
       "| Ottawa - Gatineau | Non-Official &amp; Non-Aboriginal languages | Akan (Twi)                     | 390 | 130 | 0 | 700 |\n",
       "| Ottawa - Gatineau | Non-Official &amp; Non-Aboriginal languages | Albanian                       | 710 | 320 | 0 | 865 |\n",
       "| ⋮ | ⋮ | ⋮ | ⋮ | ⋮ | ⋮ | ⋮ |\n",
       "| Ottawa - Gatineau | Non-Official &amp; Non-Aboriginal languages | Wolof             | 275 | 100 |  0 | 710 |\n",
       "| Ottawa - Gatineau | Aboriginal languages                    | Woods Cree        |   5 |   5 |  0 |  25 |\n",
       "| Ottawa - Gatineau | Non-Official &amp; Non-Aboriginal languages | Wu (Shanghainese) | 455 | 250 |  0 | 435 |\n",
       "| Ottawa - Gatineau | Non-Official &amp; Non-Aboriginal languages | Yiddish           | 180 |  10 |  0 | 355 |\n",
       "| Ottawa - Gatineau | Non-Official &amp; Non-Aboriginal languages | Yoruba            | 265 |  65 | 10 | 910 |\n",
       "\n"
      ],
      "text/plain": [
       "    region            category                               \n",
       "1   Ottawa - Gatineau Aboriginal languages                   \n",
       "2   Ottawa - Gatineau Non-Official & Non-Aboriginal languages\n",
       "3   Ottawa - Gatineau Non-Official & Non-Aboriginal languages\n",
       "4   Ottawa - Gatineau Non-Official & Non-Aboriginal languages\n",
       "5   Ottawa - Gatineau Non-Official & Non-Aboriginal languages\n",
       "⋮   ⋮                 ⋮                                      \n",
       "210 Ottawa - Gatineau Non-Official & Non-Aboriginal languages\n",
       "211 Ottawa - Gatineau Aboriginal languages                   \n",
       "212 Ottawa - Gatineau Non-Official & Non-Aboriginal languages\n",
       "213 Ottawa - Gatineau Non-Official & Non-Aboriginal languages\n",
       "214 Ottawa - Gatineau Non-Official & Non-Aboriginal languages\n",
       "    language                       mother_tongue most_at_home most_at_work\n",
       "1   Aboriginal languages, n.o.s.    10             0          0           \n",
       "2   Afrikaans                      175            40          0           \n",
       "3   Afro-Asiatic languages, n.i.e.  80            20          0           \n",
       "4   Akan (Twi)                     390           130          0           \n",
       "5   Albanian                       710           320          0           \n",
       "⋮   ⋮                              ⋮             ⋮            ⋮           \n",
       "210 Wolof                          275           100           0          \n",
       "211 Woods Cree                       5             5           0          \n",
       "212 Wu (Shanghainese)              455           250           0          \n",
       "213 Yiddish                        180            10           0          \n",
       "214 Yoruba                         265            65          10          \n",
       "    lang_known\n",
       "1     0       \n",
       "2   450       \n",
       "3   205       \n",
       "4   700       \n",
       "5   865       \n",
       "⋮   ⋮         \n",
       "210 710       \n",
       "211  25       \n",
       "212 435       \n",
       "213 355       \n",
       "214 910       "
      ]
     },
     "metadata": {},
     "output_type": "display_data"
    }
   ],
   "source": [
    "ottawa_region <- NULL\n",
    "ottawa_region <- region_lang %>% # SOLUTION NO PROMPT\n",
    "    filter(str_detect(region, \"Ottawa\")) # SOLUTION NO PROMPT\n",
    "\n",
    "ottawa_region"
   ]
  },
  {
   "cell_type": "raw",
   "metadata": {},
   "source": [
    "# END SOLUTION"
   ]
  },
  {
   "cell_type": "raw",
   "metadata": {},
   "source": [
    "# BEGIN TESTS"
   ]
  },
  {
   "cell_type": "code",
   "execution_count": 11,
   "metadata": {},
   "outputs": [],
   "source": [
    "# TESTS\n",
    "expect_equal(nrow(ottawa_region), 214)\n",
    "expect_equal(ncol(ottawa_region), 7)\n",
    "expect_equal(paste(tolower(sort(colnames(ottawa_region))), collapse = \"\"), 'categorylang_knownlanguagemost_at_homemost_at_workmother_tongueregion')\n",
    "expect_equal(round(as.numeric(sum(ottawa_region$mother_tongue, na.rm = TRUE))), 1265230)"
   ]
  },
  {
   "cell_type": "raw",
   "metadata": {},
   "source": [
    "# END TESTS"
   ]
  },
  {
   "cell_type": "raw",
   "metadata": {},
   "source": [
    "# END QUESTION"
   ]
  },
  {
   "cell_type": "raw",
   "metadata": {},
   "source": [
    "# BEGIN QUESTION\n",
    "name: ex6\n",
    "points: 1"
   ]
  },
  {
   "cell_type": "markdown",
   "metadata": {},
   "source": [
    "### Exercise 6\n",
    "rubric={autograde:1}\n",
    "\n",
    "Often times we need to change a string in a data frame column. We can use `mutate` and the {stringr} `str_replace` function to do this. We can nest it inside our call to `mutate` as demonstrated below:\n",
    "\n",
    "```\n",
    "data_frame %>% \n",
    "    mutate(col_name = str_replace(column_name, \"pattern_to_match\", \"replacement\"))\n",
    "```\n",
    "\n",
    "Your task here is to use `mutate` + `str_replace` to replace all the `-`'s with `&`'s in the `region` column of `region_lang` data frame. Bind the name `replaced_dash` to the data frame."
   ]
  },
  {
   "cell_type": "raw",
   "metadata": {},
   "source": [
    "# BEGIN SOLUTION"
   ]
  },
  {
   "cell_type": "code",
   "execution_count": 12,
   "metadata": {},
   "outputs": [
    {
     "data": {
      "text/html": [
       "<table class=\"dataframe\">\n",
       "<caption>A tibble: 7490 × 7</caption>\n",
       "<thead>\n",
       "\t<tr><th scope=col>region</th><th scope=col>category</th><th scope=col>language</th><th scope=col>mother_tongue</th><th scope=col>most_at_home</th><th scope=col>most_at_work</th><th scope=col>lang_known</th></tr>\n",
       "\t<tr><th scope=col>&lt;chr&gt;</th><th scope=col>&lt;chr&gt;</th><th scope=col>&lt;chr&gt;</th><th scope=col>&lt;dbl&gt;</th><th scope=col>&lt;dbl&gt;</th><th scope=col>&lt;dbl&gt;</th><th scope=col>&lt;dbl&gt;</th></tr>\n",
       "</thead>\n",
       "<tbody>\n",
       "\t<tr><td>St. John's</td><td>Aboriginal languages</td><td>Aboriginal languages, n.o.s.</td><td>5</td><td>0</td><td>0</td><td>0</td></tr>\n",
       "\t<tr><td>Halifax   </td><td>Aboriginal languages</td><td>Aboriginal languages, n.o.s.</td><td>5</td><td>0</td><td>0</td><td>0</td></tr>\n",
       "\t<tr><td>Moncton   </td><td>Aboriginal languages</td><td>Aboriginal languages, n.o.s.</td><td>0</td><td>0</td><td>0</td><td>0</td></tr>\n",
       "\t<tr><td>Saint John</td><td>Aboriginal languages</td><td>Aboriginal languages, n.o.s.</td><td>0</td><td>0</td><td>0</td><td>0</td></tr>\n",
       "\t<tr><td>Saguenay  </td><td>Aboriginal languages</td><td>Aboriginal languages, n.o.s.</td><td>5</td><td>5</td><td>0</td><td>0</td></tr>\n",
       "\t<tr><td>⋮</td><td>⋮</td><td>⋮</td><td>⋮</td><td>⋮</td><td>⋮</td><td>⋮</td></tr>\n",
       "\t<tr><td><span style=white-space:pre-wrap>Ottawa &amp; Gatineau   </span></td><td>Non-Official &amp; Non-Aboriginal languages</td><td>Yoruba</td><td>265</td><td>65</td><td>10</td><td>910</td></tr>\n",
       "\t<tr><td><span style=white-space:pre-wrap>Kelowna             </span></td><td>Non-Official &amp; Non-Aboriginal languages</td><td>Yoruba</td><td><span style=white-space:pre-wrap>  5</span></td><td> 0</td><td> 0</td><td><span style=white-space:pre-wrap>  0</span></td></tr>\n",
       "\t<tr><td>Abbotsford &amp; Mission</td><td>Non-Official &amp; Non-Aboriginal languages</td><td>Yoruba</td><td> 20</td><td> 0</td><td> 0</td><td> 50</td></tr>\n",
       "\t<tr><td><span style=white-space:pre-wrap>Vancouver           </span></td><td>Non-Official &amp; Non-Aboriginal languages</td><td>Yoruba</td><td>190</td><td>40</td><td> 0</td><td>505</td></tr>\n",
       "\t<tr><td><span style=white-space:pre-wrap>Victoria            </span></td><td>Non-Official &amp; Non-Aboriginal languages</td><td>Yoruba</td><td> 20</td><td> 0</td><td> 0</td><td> 90</td></tr>\n",
       "</tbody>\n",
       "</table>\n"
      ],
      "text/latex": [
       "A tibble: 7490 × 7\n",
       "\\begin{tabular}{lllllll}\n",
       " region & category & language & mother\\_tongue & most\\_at\\_home & most\\_at\\_work & lang\\_known\\\\\n",
       " <chr> & <chr> & <chr> & <dbl> & <dbl> & <dbl> & <dbl>\\\\\n",
       "\\hline\n",
       "\t St. John's & Aboriginal languages & Aboriginal languages, n.o.s. & 5 & 0 & 0 & 0\\\\\n",
       "\t Halifax    & Aboriginal languages & Aboriginal languages, n.o.s. & 5 & 0 & 0 & 0\\\\\n",
       "\t Moncton    & Aboriginal languages & Aboriginal languages, n.o.s. & 0 & 0 & 0 & 0\\\\\n",
       "\t Saint John & Aboriginal languages & Aboriginal languages, n.o.s. & 0 & 0 & 0 & 0\\\\\n",
       "\t Saguenay   & Aboriginal languages & Aboriginal languages, n.o.s. & 5 & 5 & 0 & 0\\\\\n",
       "\t ⋮ & ⋮ & ⋮ & ⋮ & ⋮ & ⋮ & ⋮\\\\\n",
       "\t Ottawa \\& Gatineau    & Non-Official \\& Non-Aboriginal languages & Yoruba & 265 & 65 & 10 & 910\\\\\n",
       "\t Kelowna              & Non-Official \\& Non-Aboriginal languages & Yoruba &   5 &  0 &  0 &   0\\\\\n",
       "\t Abbotsford \\& Mission & Non-Official \\& Non-Aboriginal languages & Yoruba &  20 &  0 &  0 &  50\\\\\n",
       "\t Vancouver            & Non-Official \\& Non-Aboriginal languages & Yoruba & 190 & 40 &  0 & 505\\\\\n",
       "\t Victoria             & Non-Official \\& Non-Aboriginal languages & Yoruba &  20 &  0 &  0 &  90\\\\\n",
       "\\end{tabular}\n"
      ],
      "text/markdown": [
       "\n",
       "A tibble: 7490 × 7\n",
       "\n",
       "| region &lt;chr&gt; | category &lt;chr&gt; | language &lt;chr&gt; | mother_tongue &lt;dbl&gt; | most_at_home &lt;dbl&gt; | most_at_work &lt;dbl&gt; | lang_known &lt;dbl&gt; |\n",
       "|---|---|---|---|---|---|---|\n",
       "| St. John's | Aboriginal languages | Aboriginal languages, n.o.s. | 5 | 0 | 0 | 0 |\n",
       "| Halifax    | Aboriginal languages | Aboriginal languages, n.o.s. | 5 | 0 | 0 | 0 |\n",
       "| Moncton    | Aboriginal languages | Aboriginal languages, n.o.s. | 0 | 0 | 0 | 0 |\n",
       "| Saint John | Aboriginal languages | Aboriginal languages, n.o.s. | 0 | 0 | 0 | 0 |\n",
       "| Saguenay   | Aboriginal languages | Aboriginal languages, n.o.s. | 5 | 5 | 0 | 0 |\n",
       "| ⋮ | ⋮ | ⋮ | ⋮ | ⋮ | ⋮ | ⋮ |\n",
       "| Ottawa &amp; Gatineau    | Non-Official &amp; Non-Aboriginal languages | Yoruba | 265 | 65 | 10 | 910 |\n",
       "| Kelowna              | Non-Official &amp; Non-Aboriginal languages | Yoruba |   5 |  0 |  0 |   0 |\n",
       "| Abbotsford &amp; Mission | Non-Official &amp; Non-Aboriginal languages | Yoruba |  20 |  0 |  0 |  50 |\n",
       "| Vancouver            | Non-Official &amp; Non-Aboriginal languages | Yoruba | 190 | 40 |  0 | 505 |\n",
       "| Victoria             | Non-Official &amp; Non-Aboriginal languages | Yoruba |  20 |  0 |  0 |  90 |\n",
       "\n"
      ],
      "text/plain": [
       "     region               category                               \n",
       "1    St. John's           Aboriginal languages                   \n",
       "2    Halifax              Aboriginal languages                   \n",
       "3    Moncton              Aboriginal languages                   \n",
       "4    Saint John           Aboriginal languages                   \n",
       "5    Saguenay             Aboriginal languages                   \n",
       "⋮    ⋮                    ⋮                                      \n",
       "7486 Ottawa & Gatineau    Non-Official & Non-Aboriginal languages\n",
       "7487 Kelowna              Non-Official & Non-Aboriginal languages\n",
       "7488 Abbotsford & Mission Non-Official & Non-Aboriginal languages\n",
       "7489 Vancouver            Non-Official & Non-Aboriginal languages\n",
       "7490 Victoria             Non-Official & Non-Aboriginal languages\n",
       "     language                     mother_tongue most_at_home most_at_work\n",
       "1    Aboriginal languages, n.o.s. 5             0            0           \n",
       "2    Aboriginal languages, n.o.s. 5             0            0           \n",
       "3    Aboriginal languages, n.o.s. 0             0            0           \n",
       "4    Aboriginal languages, n.o.s. 0             0            0           \n",
       "5    Aboriginal languages, n.o.s. 5             5            0           \n",
       "⋮    ⋮                            ⋮             ⋮            ⋮           \n",
       "7486 Yoruba                       265           65           10          \n",
       "7487 Yoruba                         5            0            0          \n",
       "7488 Yoruba                        20            0            0          \n",
       "7489 Yoruba                       190           40            0          \n",
       "7490 Yoruba                        20            0            0          \n",
       "     lang_known\n",
       "1    0         \n",
       "2    0         \n",
       "3    0         \n",
       "4    0         \n",
       "5    0         \n",
       "⋮    ⋮         \n",
       "7486 910       \n",
       "7487   0       \n",
       "7488  50       \n",
       "7489 505       \n",
       "7490  90       "
      ]
     },
     "metadata": {},
     "output_type": "display_data"
    }
   ],
   "source": [
    "replaced_dash <- NULL\n",
    "replaced_dash <- region_lang |> # SOLUTION NO PROMPT\n",
    "    mutate(region = str_replace(region, \"-\", \"&\")) # SOLUTION NO PROMPT\n",
    "\n",
    "replaced_dash"
   ]
  },
  {
   "cell_type": "raw",
   "metadata": {},
   "source": [
    "# END SOLUTION"
   ]
  },
  {
   "cell_type": "raw",
   "metadata": {},
   "source": [
    "# BEGIN TESTS"
   ]
  },
  {
   "cell_type": "code",
   "execution_count": 13,
   "metadata": {},
   "outputs": [],
   "source": [
    "# TESTS\n",
    "expect_equal(nrow(replaced_dash), 7490)\n",
    "expect_equal(ncol(replaced_dash), 7)\n",
    "expect_equal(paste(tolower(sort(colnames(replaced_dash))), collapse = \"\"), 'categorylang_knownlanguagemost_at_homemost_at_workmother_tongueregion')\n",
    "expect_equal(round(as.numeric(sum(replaced_dash$mother_tongue, na.rm = TRUE))), 23970555)\n",
    "expect_true(replaced_dash %>% \n",
    "                filter(str_detect(region, \"Ottawa\")) %>% \n",
    "                slice(1) %>% \n",
    "                pull(region) %>% \n",
    "                str_detect('Ottawa & Gatineau'))\n",
    "expect_true(replaced_dash %>% \n",
    "                filter(str_detect(region, \"Abbotsford\")) %>% \n",
    "                slice(1) %>% \n",
    "                pull(region) %>% \n",
    "                str_detect('Abbotsford & Mission'))"
   ]
  },
  {
   "cell_type": "raw",
   "metadata": {},
   "source": [
    "# END TESTS"
   ]
  },
  {
   "cell_type": "raw",
   "metadata": {},
   "source": [
    "# END QUESTION"
   ]
  },
  {
   "cell_type": "markdown",
   "metadata": {},
   "source": [
    "# Factors!\n",
    "\n",
    "The next couple questions will be focused on getting you practice working with factors using some base R functions and the {[forcats](https://forcats.tidyverse.org/)} package. Don't forget to reference the [Factors with forcats Cheatsheet](https://github.com/rstudio/cheatsheets/raw/main/factors.pdf) if you need help remembering things from lecture!\n",
    "\n",
    "<img src=\"https://d33wubrfki0l68.cloudfront.net/d933c65c70add32da585abadaf14fbf3002c6ffc/d42f0/blog/2019/05/forcats-0-4-0/forcats-0-4-0-wd.jpg\">\n",
    "\n",
    "We will be working with the `airports` data set which comes from the {[nycflights13](https://github.com/hadley/nycflights13)} R data package. The `airports` data set contains information about airports in the United States, Puerto Rico, and the American Virgin Islands."
   ]
  },
  {
   "cell_type": "raw",
   "metadata": {},
   "source": [
    "# BEGIN QUESTION\n",
    "name: ex7\n",
    "points: 1"
   ]
  },
  {
   "cell_type": "markdown",
   "metadata": {},
   "source": [
    "### Exercise 7\n",
    "rubric={autograde:1}\n",
    "\n",
    "Convert the `tzone` column in the `airports` data set into a factor. Bind the name `airports_factor` to this data frame. Use the `levels` function to get the levels of the `tzone` column. Store these in a vector named `tzone_levels`."
   ]
  },
  {
   "cell_type": "raw",
   "metadata": {},
   "source": [
    "# BEGIN SOLUTION"
   ]
  },
  {
   "cell_type": "code",
   "execution_count": 14,
   "metadata": {},
   "outputs": [
    {
     "data": {
      "text/html": [
       "<table class=\"dataframe\">\n",
       "<caption>A tibble: 6 × 8</caption>\n",
       "<thead>\n",
       "\t<tr><th scope=col>faa</th><th scope=col>name</th><th scope=col>lat</th><th scope=col>lon</th><th scope=col>alt</th><th scope=col>tz</th><th scope=col>dst</th><th scope=col>tzone</th></tr>\n",
       "\t<tr><th scope=col>&lt;chr&gt;</th><th scope=col>&lt;chr&gt;</th><th scope=col>&lt;dbl&gt;</th><th scope=col>&lt;dbl&gt;</th><th scope=col>&lt;dbl&gt;</th><th scope=col>&lt;dbl&gt;</th><th scope=col>&lt;chr&gt;</th><th scope=col>&lt;fct&gt;</th></tr>\n",
       "</thead>\n",
       "<tbody>\n",
       "\t<tr><td>04G</td><td>Lansdowne Airport             </td><td>41.13047</td><td>-80.61958</td><td>1044</td><td>-5</td><td>A</td><td>America/New_York</td></tr>\n",
       "\t<tr><td>06A</td><td>Moton Field Municipal Airport </td><td>32.46057</td><td>-85.68003</td><td> 264</td><td>-6</td><td>A</td><td>America/Chicago </td></tr>\n",
       "\t<tr><td>06C</td><td>Schaumburg Regional           </td><td>41.98934</td><td>-88.10124</td><td> 801</td><td>-6</td><td>A</td><td>America/Chicago </td></tr>\n",
       "\t<tr><td>06N</td><td>Randall Airport               </td><td>41.43191</td><td>-74.39156</td><td> 523</td><td>-5</td><td>A</td><td>America/New_York</td></tr>\n",
       "\t<tr><td>09J</td><td>Jekyll Island Airport         </td><td>31.07447</td><td>-81.42778</td><td>  11</td><td>-5</td><td>A</td><td>America/New_York</td></tr>\n",
       "\t<tr><td>0A9</td><td>Elizabethton Municipal Airport</td><td>36.37122</td><td>-82.17342</td><td>1593</td><td>-5</td><td>A</td><td>America/New_York</td></tr>\n",
       "</tbody>\n",
       "</table>\n"
      ],
      "text/latex": [
       "A tibble: 6 × 8\n",
       "\\begin{tabular}{llllllll}\n",
       " faa & name & lat & lon & alt & tz & dst & tzone\\\\\n",
       " <chr> & <chr> & <dbl> & <dbl> & <dbl> & <dbl> & <chr> & <fct>\\\\\n",
       "\\hline\n",
       "\t 04G & Lansdowne Airport              & 41.13047 & -80.61958 & 1044 & -5 & A & America/New\\_York\\\\\n",
       "\t 06A & Moton Field Municipal Airport  & 32.46057 & -85.68003 &  264 & -6 & A & America/Chicago \\\\\n",
       "\t 06C & Schaumburg Regional            & 41.98934 & -88.10124 &  801 & -6 & A & America/Chicago \\\\\n",
       "\t 06N & Randall Airport                & 41.43191 & -74.39156 &  523 & -5 & A & America/New\\_York\\\\\n",
       "\t 09J & Jekyll Island Airport          & 31.07447 & -81.42778 &   11 & -5 & A & America/New\\_York\\\\\n",
       "\t 0A9 & Elizabethton Municipal Airport & 36.37122 & -82.17342 & 1593 & -5 & A & America/New\\_York\\\\\n",
       "\\end{tabular}\n"
      ],
      "text/markdown": [
       "\n",
       "A tibble: 6 × 8\n",
       "\n",
       "| faa &lt;chr&gt; | name &lt;chr&gt; | lat &lt;dbl&gt; | lon &lt;dbl&gt; | alt &lt;dbl&gt; | tz &lt;dbl&gt; | dst &lt;chr&gt; | tzone &lt;fct&gt; |\n",
       "|---|---|---|---|---|---|---|---|\n",
       "| 04G | Lansdowne Airport              | 41.13047 | -80.61958 | 1044 | -5 | A | America/New_York |\n",
       "| 06A | Moton Field Municipal Airport  | 32.46057 | -85.68003 |  264 | -6 | A | America/Chicago  |\n",
       "| 06C | Schaumburg Regional            | 41.98934 | -88.10124 |  801 | -6 | A | America/Chicago  |\n",
       "| 06N | Randall Airport                | 41.43191 | -74.39156 |  523 | -5 | A | America/New_York |\n",
       "| 09J | Jekyll Island Airport          | 31.07447 | -81.42778 |   11 | -5 | A | America/New_York |\n",
       "| 0A9 | Elizabethton Municipal Airport | 36.37122 | -82.17342 | 1593 | -5 | A | America/New_York |\n",
       "\n"
      ],
      "text/plain": [
       "  faa name                           lat      lon       alt  tz dst\n",
       "1 04G Lansdowne Airport              41.13047 -80.61958 1044 -5 A  \n",
       "2 06A Moton Field Municipal Airport  32.46057 -85.68003  264 -6 A  \n",
       "3 06C Schaumburg Regional            41.98934 -88.10124  801 -6 A  \n",
       "4 06N Randall Airport                41.43191 -74.39156  523 -5 A  \n",
       "5 09J Jekyll Island Airport          31.07447 -81.42778   11 -5 A  \n",
       "6 0A9 Elizabethton Municipal Airport 36.37122 -82.17342 1593 -5 A  \n",
       "  tzone           \n",
       "1 America/New_York\n",
       "2 America/Chicago \n",
       "3 America/Chicago \n",
       "4 America/New_York\n",
       "5 America/New_York\n",
       "6 America/New_York"
      ]
     },
     "metadata": {},
     "output_type": "display_data"
    },
    {
     "data": {
      "text/html": [
       "<style>\n",
       ".list-inline {list-style: none; margin:0; padding: 0}\n",
       ".list-inline>li {display: inline-block}\n",
       ".list-inline>li:not(:last-child)::after {content: \"\\00b7\"; padding: 0 .5ex}\n",
       "</style>\n",
       "<ol class=list-inline><li>'America/Anchorage'</li><li>'America/Chicago'</li><li>'America/Denver'</li><li>'America/Los_Angeles'</li><li>'America/New_York'</li><li>'America/Phoenix'</li><li>'America/Vancouver'</li><li>'Asia/Chongqing'</li><li>'Pacific/Honolulu'</li></ol>\n"
      ],
      "text/latex": [
       "\\begin{enumerate*}\n",
       "\\item 'America/Anchorage'\n",
       "\\item 'America/Chicago'\n",
       "\\item 'America/Denver'\n",
       "\\item 'America/Los\\_Angeles'\n",
       "\\item 'America/New\\_York'\n",
       "\\item 'America/Phoenix'\n",
       "\\item 'America/Vancouver'\n",
       "\\item 'Asia/Chongqing'\n",
       "\\item 'Pacific/Honolulu'\n",
       "\\end{enumerate*}\n"
      ],
      "text/markdown": [
       "1. 'America/Anchorage'\n",
       "2. 'America/Chicago'\n",
       "3. 'America/Denver'\n",
       "4. 'America/Los_Angeles'\n",
       "5. 'America/New_York'\n",
       "6. 'America/Phoenix'\n",
       "7. 'America/Vancouver'\n",
       "8. 'Asia/Chongqing'\n",
       "9. 'Pacific/Honolulu'\n",
       "\n",
       "\n"
      ],
      "text/plain": [
       "[1] \"America/Anchorage\"   \"America/Chicago\"     \"America/Denver\"     \n",
       "[4] \"America/Los_Angeles\" \"America/New_York\"    \"America/Phoenix\"    \n",
       "[7] \"America/Vancouver\"   \"Asia/Chongqing\"      \"Pacific/Honolulu\"   "
      ]
     },
     "metadata": {},
     "output_type": "display_data"
    }
   ],
   "source": [
    "airports_factor <- NULL\n",
    "\n",
    "tzone_levels <- NULL\n",
    "# BEGIN SOLUTION NO PROMPT\n",
    "airports_factor <- airports %>%\n",
    "  mutate(tzone = factor(tzone))\n",
    "\n",
    "tzone_levels <- airports_factor %>%\n",
    "  pull(tzone) %>%\n",
    "  levels()\n",
    "# END SOLUTION\n",
    "\n",
    "head(airports_factor)\n",
    "tzone_levels"
   ]
  },
  {
   "cell_type": "raw",
   "metadata": {},
   "source": [
    "# END SOLUTION"
   ]
  },
  {
   "cell_type": "raw",
   "metadata": {},
   "source": [
    "# BEGIN TESTS"
   ]
  },
  {
   "cell_type": "code",
   "execution_count": 15,
   "metadata": {},
   "outputs": [],
   "source": [
    "# TESTS\n",
    "expect_equal(nrow(airports_factor), 1458)\n",
    "expect_equal(ncol(airports_factor), 8)\n",
    "expect_equal(paste(tolower(sort(colnames(airports_factor))), collapse = \"\"), 'altdstfaalatlonnametztzone')\n",
    "expect_equal(round(as.numeric(sum(airports_factor$alt, na.rm = TRUE))), 1460064)\n",
    "expect_true(is.character(tzone_levels))\n",
    "expect_equal(length(tzone_levels), 9)\n",
    "expect_equal(digest(paste(tolower(sort(colnames(tzone_levels))), collapse = \"\")), '2f88e16c4f21bfcb290b2a8288c05bd0')"
   ]
  },
  {
   "cell_type": "raw",
   "metadata": {},
   "source": [
    "# END TESTS"
   ]
  },
  {
   "cell_type": "raw",
   "metadata": {},
   "source": [
    "# END QUESTION"
   ]
  },
  {
   "cell_type": "raw",
   "metadata": {},
   "source": [
    "# BEGIN QUESTION\n",
    "name: ex8\n",
    "points: 1"
   ]
  },
  {
   "cell_type": "markdown",
   "metadata": {},
   "source": [
    "### Exercise 8\n",
    "rubric={autograde:1}\n",
    "\n",
    "Filter the `airports_factor` data to remove observations associated with the time zone of `Pacific/Honolulu`, `Asia/Chongqing` and rows with no time zone information. Then use `fct_drop` to remove unused factor levels. Bind the name `airports_mainland` to the modified data frame. Use the `levels` function to get the levels of the `tzone` column. Store these in a vector named `tzone_levels_mainland`.\n",
    "\n",
    "*Hint - `filter` can be used to remove observations using the not equals syntax: `!=`*"
   ]
  },
  {
   "cell_type": "raw",
   "metadata": {},
   "source": [
    "# BEGIN SOLUTION"
   ]
  },
  {
   "cell_type": "code",
   "execution_count": 16,
   "metadata": {},
   "outputs": [
    {
     "data": {
      "text/html": [
       "<table class=\"dataframe\">\n",
       "<caption>A tibble: 6 × 8</caption>\n",
       "<thead>\n",
       "\t<tr><th scope=col>faa</th><th scope=col>name</th><th scope=col>lat</th><th scope=col>lon</th><th scope=col>alt</th><th scope=col>tz</th><th scope=col>dst</th><th scope=col>tzone</th></tr>\n",
       "\t<tr><th scope=col>&lt;chr&gt;</th><th scope=col>&lt;chr&gt;</th><th scope=col>&lt;dbl&gt;</th><th scope=col>&lt;dbl&gt;</th><th scope=col>&lt;dbl&gt;</th><th scope=col>&lt;dbl&gt;</th><th scope=col>&lt;chr&gt;</th><th scope=col>&lt;fct&gt;</th></tr>\n",
       "</thead>\n",
       "<tbody>\n",
       "\t<tr><td>04G</td><td>Lansdowne Airport             </td><td>41.13047</td><td>-80.61958</td><td>1044</td><td>-5</td><td>A</td><td>America/New_York</td></tr>\n",
       "\t<tr><td>06A</td><td>Moton Field Municipal Airport </td><td>32.46057</td><td>-85.68003</td><td> 264</td><td>-6</td><td>A</td><td>America/Chicago </td></tr>\n",
       "\t<tr><td>06C</td><td>Schaumburg Regional           </td><td>41.98934</td><td>-88.10124</td><td> 801</td><td>-6</td><td>A</td><td>America/Chicago </td></tr>\n",
       "\t<tr><td>06N</td><td>Randall Airport               </td><td>41.43191</td><td>-74.39156</td><td> 523</td><td>-5</td><td>A</td><td>America/New_York</td></tr>\n",
       "\t<tr><td>09J</td><td>Jekyll Island Airport         </td><td>31.07447</td><td>-81.42778</td><td>  11</td><td>-5</td><td>A</td><td>America/New_York</td></tr>\n",
       "\t<tr><td>0A9</td><td>Elizabethton Municipal Airport</td><td>36.37122</td><td>-82.17342</td><td>1593</td><td>-5</td><td>A</td><td>America/New_York</td></tr>\n",
       "</tbody>\n",
       "</table>\n"
      ],
      "text/latex": [
       "A tibble: 6 × 8\n",
       "\\begin{tabular}{llllllll}\n",
       " faa & name & lat & lon & alt & tz & dst & tzone\\\\\n",
       " <chr> & <chr> & <dbl> & <dbl> & <dbl> & <dbl> & <chr> & <fct>\\\\\n",
       "\\hline\n",
       "\t 04G & Lansdowne Airport              & 41.13047 & -80.61958 & 1044 & -5 & A & America/New\\_York\\\\\n",
       "\t 06A & Moton Field Municipal Airport  & 32.46057 & -85.68003 &  264 & -6 & A & America/Chicago \\\\\n",
       "\t 06C & Schaumburg Regional            & 41.98934 & -88.10124 &  801 & -6 & A & America/Chicago \\\\\n",
       "\t 06N & Randall Airport                & 41.43191 & -74.39156 &  523 & -5 & A & America/New\\_York\\\\\n",
       "\t 09J & Jekyll Island Airport          & 31.07447 & -81.42778 &   11 & -5 & A & America/New\\_York\\\\\n",
       "\t 0A9 & Elizabethton Municipal Airport & 36.37122 & -82.17342 & 1593 & -5 & A & America/New\\_York\\\\\n",
       "\\end{tabular}\n"
      ],
      "text/markdown": [
       "\n",
       "A tibble: 6 × 8\n",
       "\n",
       "| faa &lt;chr&gt; | name &lt;chr&gt; | lat &lt;dbl&gt; | lon &lt;dbl&gt; | alt &lt;dbl&gt; | tz &lt;dbl&gt; | dst &lt;chr&gt; | tzone &lt;fct&gt; |\n",
       "|---|---|---|---|---|---|---|---|\n",
       "| 04G | Lansdowne Airport              | 41.13047 | -80.61958 | 1044 | -5 | A | America/New_York |\n",
       "| 06A | Moton Field Municipal Airport  | 32.46057 | -85.68003 |  264 | -6 | A | America/Chicago  |\n",
       "| 06C | Schaumburg Regional            | 41.98934 | -88.10124 |  801 | -6 | A | America/Chicago  |\n",
       "| 06N | Randall Airport                | 41.43191 | -74.39156 |  523 | -5 | A | America/New_York |\n",
       "| 09J | Jekyll Island Airport          | 31.07447 | -81.42778 |   11 | -5 | A | America/New_York |\n",
       "| 0A9 | Elizabethton Municipal Airport | 36.37122 | -82.17342 | 1593 | -5 | A | America/New_York |\n",
       "\n"
      ],
      "text/plain": [
       "  faa name                           lat      lon       alt  tz dst\n",
       "1 04G Lansdowne Airport              41.13047 -80.61958 1044 -5 A  \n",
       "2 06A Moton Field Municipal Airport  32.46057 -85.68003  264 -6 A  \n",
       "3 06C Schaumburg Regional            41.98934 -88.10124  801 -6 A  \n",
       "4 06N Randall Airport                41.43191 -74.39156  523 -5 A  \n",
       "5 09J Jekyll Island Airport          31.07447 -81.42778   11 -5 A  \n",
       "6 0A9 Elizabethton Municipal Airport 36.37122 -82.17342 1593 -5 A  \n",
       "  tzone           \n",
       "1 America/New_York\n",
       "2 America/Chicago \n",
       "3 America/Chicago \n",
       "4 America/New_York\n",
       "5 America/New_York\n",
       "6 America/New_York"
      ]
     },
     "metadata": {},
     "output_type": "display_data"
    },
    {
     "data": {
      "text/html": [
       "<style>\n",
       ".list-inline {list-style: none; margin:0; padding: 0}\n",
       ".list-inline>li {display: inline-block}\n",
       ".list-inline>li:not(:last-child)::after {content: \"\\00b7\"; padding: 0 .5ex}\n",
       "</style>\n",
       "<ol class=list-inline><li>'America/Anchorage'</li><li>'America/Chicago'</li><li>'America/Denver'</li><li>'America/Los_Angeles'</li><li>'America/New_York'</li><li>'America/Phoenix'</li><li>'America/Vancouver'</li></ol>\n"
      ],
      "text/latex": [
       "\\begin{enumerate*}\n",
       "\\item 'America/Anchorage'\n",
       "\\item 'America/Chicago'\n",
       "\\item 'America/Denver'\n",
       "\\item 'America/Los\\_Angeles'\n",
       "\\item 'America/New\\_York'\n",
       "\\item 'America/Phoenix'\n",
       "\\item 'America/Vancouver'\n",
       "\\end{enumerate*}\n"
      ],
      "text/markdown": [
       "1. 'America/Anchorage'\n",
       "2. 'America/Chicago'\n",
       "3. 'America/Denver'\n",
       "4. 'America/Los_Angeles'\n",
       "5. 'America/New_York'\n",
       "6. 'America/Phoenix'\n",
       "7. 'America/Vancouver'\n",
       "\n",
       "\n"
      ],
      "text/plain": [
       "[1] \"America/Anchorage\"   \"America/Chicago\"     \"America/Denver\"     \n",
       "[4] \"America/Los_Angeles\" \"America/New_York\"    \"America/Phoenix\"    \n",
       "[7] \"America/Vancouver\"  "
      ]
     },
     "metadata": {},
     "output_type": "display_data"
    }
   ],
   "source": [
    "airports_mainland <- NULL\n",
    "\n",
    "tzone_levels_mainland <- NULL\n",
    "# BEGIN SOLUTION NO PROMPT\n",
    "airports_mainland <- airports_factor %>%\n",
    "  filter(tzone != \"Pacific/Honolulu\", tzone != \"Asia/Chongqing\") %>%\n",
    "  mutate(tzone = fct_drop(tzone))\n",
    "\n",
    "tzone_levels_mainland <- airports_mainland %>%\n",
    "  pull(tzone) %>%\n",
    "  levels()\n",
    "# END SOLUTION\n",
    "\n",
    "head(airports_mainland)\n",
    "tzone_levels_mainland"
   ]
  },
  {
   "cell_type": "raw",
   "metadata": {},
   "source": [
    "# END SOLUTION"
   ]
  },
  {
   "cell_type": "raw",
   "metadata": {},
   "source": [
    "# BEGIN TESTS"
   ]
  },
  {
   "cell_type": "code",
   "execution_count": 17,
   "metadata": {},
   "outputs": [],
   "source": [
    "# TESTS\n",
    "expect_equal(nrow(airports_mainland), 1435)\n",
    "expect_equal(ncol(airports_mainland), 8)\n",
    "expect_equal(paste(tolower(sort(colnames(airports_mainland))), collapse = \"\"), 'altdstfaalatlonnametztzone')\n",
    "expect_equal(round(as.numeric(sum(airports_mainland$alt, na.rm = TRUE))), 1445986)\n",
    "expect_true(is.factor(airports_mainland$tzone))\n",
    "expect_true(is.character(tzone_levels_mainland))\n",
    "expect_equal(length(tzone_levels_mainland), 7)\n",
    "expect_equal(digest(paste(tolower(sort(colnames(tzone_levels_mainland))), collapse = \"\")), '2f88e16c4f21bfcb290b2a8288c05bd0')"
   ]
  },
  {
   "cell_type": "raw",
   "metadata": {},
   "source": [
    "# END TESTS"
   ]
  },
  {
   "cell_type": "raw",
   "metadata": {},
   "source": [
    "# END QUESTION"
   ]
  },
  {
   "cell_type": "markdown",
   "metadata": {},
   "source": [
    "Congratulations! You are done the worksheet!!! Pat yourself on the back, and submit your worksheet to Gradescope!"
   ]
  }
 ],
 "metadata": {
  "celltoolbar": "Create Assignment",
  "kernelspec": {
   "display_name": "R",
   "language": "R",
   "name": "ir"
  },
  "language_info": {
   "codemirror_mode": "r",
   "file_extension": ".r",
   "mimetype": "text/x-r-source",
   "name": "R",
   "pygments_lexer": "r",
   "version": "4.2.1"
  }
 },
 "nbformat": 4,
 "nbformat_minor": 4
}
