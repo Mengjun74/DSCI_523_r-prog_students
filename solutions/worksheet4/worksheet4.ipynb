{
 "cells": [
  {
   "cell_type": "raw",
   "metadata": {},
   "source": [
    "# ASSIGNMENT CONFIG\n",
    "requirements: requirements.R\n",
    "generate:\n",
    "    show_hidden: true\n",
    "    show_stdout: true\n",
    "    channel_priority_strict: false\n",
    "environment: environment.yml\n",
    "files:\n",
    "  - img"
   ]
  },
  {
   "cell_type": "markdown",
   "metadata": {},
   "source": [
    "## Worksheet 4\n",
    "\n",
    "Welcome to worksheet 4! This worksheet was designed to allow you to practice what was covered in the assigned readings & lectures/videos/recordings. The labs problems will be more challenging then those in the worksheet, and the worksheet questions will help prepare you for them. Time will be provided to work on the worksheets in small groups during lecture, however it is not expected that you will complete the worksheet in this time. You are expected to spend some indpendent time working on the worksheet after lecture. \n",
    "\n",
    "**Worksheets are due on Saturdays at 6pm, and must be submitted as `.ipynb` files to Gradescope.**"
   ]
  },
  {
   "cell_type": "markdown",
   "metadata": {},
   "source": [
    "### Worksheet mechanics\n",
    "\n",
    "- You submit a `.ipynb` version of this homework to Gradescope.\n",
    "- **There is autograding in this lab, so please do not move or rename this file. Also, do not copy and paste cells, if you need to add new cells, create new cells via the \"Insert a cell below\" button instead.**"
   ]
  },
  {
   "cell_type": "markdown",
   "metadata": {},
   "source": [
    "Run the cell below to load the libraries needed for this worksheet, and to check your answers as you go!"
   ]
  },
  {
   "cell_type": "code",
   "execution_count": 1,
   "metadata": {},
   "outputs": [
    {
     "name": "stderr",
     "output_type": "stream",
     "text": [
      "── \u001b[1mAttaching packages\u001b[22m ────────────────────────────────────────────────────────────────────────────────────────────────────────────────────────────────────────────────── tidyverse 1.3.2 ──\n",
      "\u001b[32m✔\u001b[39m \u001b[34mggplot2\u001b[39m 3.3.6     \u001b[32m✔\u001b[39m \u001b[34mpurrr  \u001b[39m 0.3.4\n",
      "\u001b[32m✔\u001b[39m \u001b[34mtibble \u001b[39m 3.1.8     \u001b[32m✔\u001b[39m \u001b[34mdplyr  \u001b[39m 1.0.9\n",
      "\u001b[32m✔\u001b[39m \u001b[34mtidyr  \u001b[39m 1.2.0     \u001b[32m✔\u001b[39m \u001b[34mstringr\u001b[39m 1.4.1\n",
      "\u001b[32m✔\u001b[39m \u001b[34mreadr  \u001b[39m 2.1.2     \u001b[32m✔\u001b[39m \u001b[34mforcats\u001b[39m 0.5.1\n",
      "── \u001b[1mConflicts\u001b[22m ───────────────────────────────────────────────────────────────────────────────────────────────────────────────────────────────────────────────────── tidyverse_conflicts() ──\n",
      "\u001b[31m✖\u001b[39m \u001b[34mdplyr\u001b[39m::\u001b[32mfilter()\u001b[39m masks \u001b[34mstats\u001b[39m::filter()\n",
      "\u001b[31m✖\u001b[39m \u001b[34mdplyr\u001b[39m::\u001b[32mlag()\u001b[39m    masks \u001b[34mstats\u001b[39m::lag()\n",
      "\n",
      "Attaching package: ‘testthat’\n",
      "\n",
      "\n",
      "The following object is masked from ‘package:dplyr’:\n",
      "\n",
      "    matches\n",
      "\n",
      "\n",
      "The following object is masked from ‘package:purrr’:\n",
      "\n",
      "    is_null\n",
      "\n",
      "\n",
      "The following objects are masked from ‘package:readr’:\n",
      "\n",
      "    edition_get, local_edition\n",
      "\n",
      "\n",
      "The following object is masked from ‘package:tidyr’:\n",
      "\n",
      "    matches\n",
      "\n",
      "\n"
     ]
    }
   ],
   "source": [
    "library(nycflights13)\n",
    "library(repurrrsive)\n",
    "library(tidyverse)\n",
    "library(testthat)\n",
    "library(digest)\n",
    "options(repr.matrix.max.rows = 20)"
   ]
  },
  {
   "cell_type": "raw",
   "metadata": {},
   "source": [
    "# BEGIN QUESTION\n",
    "name: ex1\n",
    "points: 1"
   ]
  },
  {
   "cell_type": "markdown",
   "metadata": {},
   "source": [
    "### Exercise 1\n",
    "rubric={autograde:1}\n",
    "\n",
    "We have given you two data sets below of highly important data, and we want to join these two data sets so that we can make a data visualization at some point in the future. Use `left_join` to do this. Bind the name `flavours_and_vessls` to the data frame. "
   ]
  },
  {
   "cell_type": "code",
   "execution_count": 2,
   "metadata": {},
   "outputs": [
    {
     "data": {
      "text/html": [
       "<table class=\"dataframe\">\n",
       "<caption>A tibble: 15 × 2</caption>\n",
       "<thead>\n",
       "\t<tr><th scope=col>name</th><th scope=col>flavour</th></tr>\n",
       "\t<tr><th scope=col>&lt;chr&gt;</th><th scope=col>&lt;chr&gt;</th></tr>\n",
       "</thead>\n",
       "<tbody>\n",
       "\t<tr><td>Joel     </td><td>Dark chocolate/pistachio/vanilla combo</td></tr>\n",
       "\t<tr><td>Joel     </td><td>Chocolate                             </td></tr>\n",
       "\t<tr><td>Mike     </td><td>Green tea                             </td></tr>\n",
       "\t<tr><td>Mike     </td><td>Coconut                               </td></tr>\n",
       "\t<tr><td>Mike     </td><td>Mint Chocolate Chip                   </td></tr>\n",
       "\t<tr><td>Tiff     </td><td>Salted caramel                        </td></tr>\n",
       "\t<tr><td>Tiff     </td><td>Mint Chocolate Chip                   </td></tr>\n",
       "\t<tr><td>Tom      </td><td>Oreo                                  </td></tr>\n",
       "\t<tr><td>Vincenzo </td><td>Strawberry                            </td></tr>\n",
       "\t<tr><td>Vincenzo </td><td>Salted Caramel                        </td></tr>\n",
       "\t<tr><td>Vincenzo </td><td>Lemon                                 </td></tr>\n",
       "\t<tr><td>Arman    </td><td>Vanilla                               </td></tr>\n",
       "\t<tr><td>Arman    </td><td>Pistachio                             </td></tr>\n",
       "\t<tr><td>Florencia</td><td>Strawberry                            </td></tr>\n",
       "\t<tr><td>Florencia</td><td>Lemon                                 </td></tr>\n",
       "</tbody>\n",
       "</table>\n"
      ],
      "text/latex": [
       "A tibble: 15 × 2\n",
       "\\begin{tabular}{ll}\n",
       " name & flavour\\\\\n",
       " <chr> & <chr>\\\\\n",
       "\\hline\n",
       "\t Joel      & Dark chocolate/pistachio/vanilla combo\\\\\n",
       "\t Joel      & Chocolate                             \\\\\n",
       "\t Mike      & Green tea                             \\\\\n",
       "\t Mike      & Coconut                               \\\\\n",
       "\t Mike      & Mint Chocolate Chip                   \\\\\n",
       "\t Tiff      & Salted caramel                        \\\\\n",
       "\t Tiff      & Mint Chocolate Chip                   \\\\\n",
       "\t Tom       & Oreo                                  \\\\\n",
       "\t Vincenzo  & Strawberry                            \\\\\n",
       "\t Vincenzo  & Salted Caramel                        \\\\\n",
       "\t Vincenzo  & Lemon                                 \\\\\n",
       "\t Arman     & Vanilla                               \\\\\n",
       "\t Arman     & Pistachio                             \\\\\n",
       "\t Florencia & Strawberry                            \\\\\n",
       "\t Florencia & Lemon                                 \\\\\n",
       "\\end{tabular}\n"
      ],
      "text/markdown": [
       "\n",
       "A tibble: 15 × 2\n",
       "\n",
       "| name &lt;chr&gt; | flavour &lt;chr&gt; |\n",
       "|---|---|\n",
       "| Joel      | Dark chocolate/pistachio/vanilla combo |\n",
       "| Joel      | Chocolate                              |\n",
       "| Mike      | Green tea                              |\n",
       "| Mike      | Coconut                                |\n",
       "| Mike      | Mint Chocolate Chip                    |\n",
       "| Tiff      | Salted caramel                         |\n",
       "| Tiff      | Mint Chocolate Chip                    |\n",
       "| Tom       | Oreo                                   |\n",
       "| Vincenzo  | Strawberry                             |\n",
       "| Vincenzo  | Salted Caramel                         |\n",
       "| Vincenzo  | Lemon                                  |\n",
       "| Arman     | Vanilla                                |\n",
       "| Arman     | Pistachio                              |\n",
       "| Florencia | Strawberry                             |\n",
       "| Florencia | Lemon                                  |\n",
       "\n"
      ],
      "text/plain": [
       "   name      flavour                               \n",
       "1  Joel      Dark chocolate/pistachio/vanilla combo\n",
       "2  Joel      Chocolate                             \n",
       "3  Mike      Green tea                             \n",
       "4  Mike      Coconut                               \n",
       "5  Mike      Mint Chocolate Chip                   \n",
       "6  Tiff      Salted caramel                        \n",
       "7  Tiff      Mint Chocolate Chip                   \n",
       "8  Tom       Oreo                                  \n",
       "9  Vincenzo  Strawberry                            \n",
       "10 Vincenzo  Salted Caramel                        \n",
       "11 Vincenzo  Lemon                                 \n",
       "12 Arman     Vanilla                               \n",
       "13 Arman     Pistachio                             \n",
       "14 Florencia Strawberry                            \n",
       "15 Florencia Lemon                                 "
      ]
     },
     "metadata": {},
     "output_type": "display_data"
    },
    {
     "data": {
      "text/html": [
       "<table class=\"dataframe\">\n",
       "<caption>A tibble: 7 × 2</caption>\n",
       "<thead>\n",
       "\t<tr><th scope=col>name</th><th scope=col>vessel</th></tr>\n",
       "\t<tr><th scope=col>&lt;chr&gt;</th><th scope=col>&lt;chr&gt;</th></tr>\n",
       "</thead>\n",
       "<tbody>\n",
       "\t<tr><td>Joel     </td><td>Vegan cone</td></tr>\n",
       "\t<tr><td>Mike     </td><td>Cone      </td></tr>\n",
       "\t<tr><td>Tiff     </td><td>Cone      </td></tr>\n",
       "\t<tr><td>Tom      </td><td>Cone      </td></tr>\n",
       "\t<tr><td>Vincenzo </td><td>Cone      </td></tr>\n",
       "\t<tr><td>Arman    </td><td>Cone      </td></tr>\n",
       "\t<tr><td>Florencia</td><td>Bowl      </td></tr>\n",
       "</tbody>\n",
       "</table>\n"
      ],
      "text/latex": [
       "A tibble: 7 × 2\n",
       "\\begin{tabular}{ll}\n",
       " name & vessel\\\\\n",
       " <chr> & <chr>\\\\\n",
       "\\hline\n",
       "\t Joel      & Vegan cone\\\\\n",
       "\t Mike      & Cone      \\\\\n",
       "\t Tiff      & Cone      \\\\\n",
       "\t Tom       & Cone      \\\\\n",
       "\t Vincenzo  & Cone      \\\\\n",
       "\t Arman     & Cone      \\\\\n",
       "\t Florencia & Bowl      \\\\\n",
       "\\end{tabular}\n"
      ],
      "text/markdown": [
       "\n",
       "A tibble: 7 × 2\n",
       "\n",
       "| name &lt;chr&gt; | vessel &lt;chr&gt; |\n",
       "|---|---|\n",
       "| Joel      | Vegan cone |\n",
       "| Mike      | Cone       |\n",
       "| Tiff      | Cone       |\n",
       "| Tom       | Cone       |\n",
       "| Vincenzo  | Cone       |\n",
       "| Arman     | Cone       |\n",
       "| Florencia | Bowl       |\n",
       "\n"
      ],
      "text/plain": [
       "  name      vessel    \n",
       "1 Joel      Vegan cone\n",
       "2 Mike      Cone      \n",
       "3 Tiff      Cone      \n",
       "4 Tom       Cone      \n",
       "5 Vincenzo  Cone      \n",
       "6 Arman     Cone      \n",
       "7 Florencia Bowl      "
      ]
     },
     "metadata": {},
     "output_type": "display_data"
    }
   ],
   "source": [
    "flavour <- tibble(name = c(\"Joel\", \"Joel\",\n",
    "                    \"Mike\", \"Mike\", \"Mike\",\n",
    "                    \"Tiff\", \"Tiff\",\n",
    "                    \"Tom\", \n",
    "                    \"Vincenzo\", \"Vincenzo\", \"Vincenzo\",\n",
    "                    \"Arman\", \"Arman\",\n",
    "                    \"Florencia\", \"Florencia\"),\n",
    "                    flavour =c(\"Dark chocolate/pistachio/vanilla combo\", \"Chocolate\",\n",
    "                    \"Green tea\", \"Coconut\", \"Mint Chocolate Chip\",\n",
    "                    \"Salted caramel\", \"Mint Chocolate Chip\",\n",
    "                    \"Oreo\",\n",
    "                    \"Strawberry\", \"Salted Caramel\", \"Lemon\",\n",
    "                    \"Vanilla\", \"Pistachio\",\n",
    "                    \"Strawberry\", \"Lemon\"))\n",
    "    \n",
    "vessel <- tibble(name = c(\"Joel\", \"Mike\", \"Tiff\", \"Tom\", \"Vincenzo\", \"Arman\", \"Florencia\"),\n",
    "                 vessel = c(\"Vegan cone\", \"Cone\", \"Cone\", \"Cone\", \"Cone\", \"Cone\", \"Bowl\"))\n",
    "\n",
    "flavour\n",
    "vessel"
   ]
  },
  {
   "cell_type": "raw",
   "metadata": {},
   "source": [
    "# BEGIN SOLUTION"
   ]
  },
  {
   "cell_type": "code",
   "execution_count": 3,
   "metadata": {},
   "outputs": [
    {
     "name": "stderr",
     "output_type": "stream",
     "text": [
      "\u001b[1m\u001b[22mJoining, by = \"name\"\n"
     ]
    },
    {
     "data": {
      "text/html": [
       "<table class=\"dataframe\">\n",
       "<caption>A tibble: 15 × 3</caption>\n",
       "<thead>\n",
       "\t<tr><th scope=col>name</th><th scope=col>vessel</th><th scope=col>flavour</th></tr>\n",
       "\t<tr><th scope=col>&lt;chr&gt;</th><th scope=col>&lt;chr&gt;</th><th scope=col>&lt;chr&gt;</th></tr>\n",
       "</thead>\n",
       "<tbody>\n",
       "\t<tr><td>Joel     </td><td>Vegan cone</td><td>Dark chocolate/pistachio/vanilla combo</td></tr>\n",
       "\t<tr><td>Joel     </td><td>Vegan cone</td><td>Chocolate                             </td></tr>\n",
       "\t<tr><td>Mike     </td><td>Cone      </td><td>Green tea                             </td></tr>\n",
       "\t<tr><td>Mike     </td><td>Cone      </td><td>Coconut                               </td></tr>\n",
       "\t<tr><td>Mike     </td><td>Cone      </td><td>Mint Chocolate Chip                   </td></tr>\n",
       "\t<tr><td>Tiff     </td><td>Cone      </td><td>Salted caramel                        </td></tr>\n",
       "\t<tr><td>Tiff     </td><td>Cone      </td><td>Mint Chocolate Chip                   </td></tr>\n",
       "\t<tr><td>Tom      </td><td>Cone      </td><td>Oreo                                  </td></tr>\n",
       "\t<tr><td>Vincenzo </td><td>Cone      </td><td>Strawberry                            </td></tr>\n",
       "\t<tr><td>Vincenzo </td><td>Cone      </td><td>Salted Caramel                        </td></tr>\n",
       "\t<tr><td>Vincenzo </td><td>Cone      </td><td>Lemon                                 </td></tr>\n",
       "\t<tr><td>Arman    </td><td>Cone      </td><td>Vanilla                               </td></tr>\n",
       "\t<tr><td>Arman    </td><td>Cone      </td><td>Pistachio                             </td></tr>\n",
       "\t<tr><td>Florencia</td><td>Bowl      </td><td>Strawberry                            </td></tr>\n",
       "\t<tr><td>Florencia</td><td>Bowl      </td><td>Lemon                                 </td></tr>\n",
       "</tbody>\n",
       "</table>\n"
      ],
      "text/latex": [
       "A tibble: 15 × 3\n",
       "\\begin{tabular}{lll}\n",
       " name & vessel & flavour\\\\\n",
       " <chr> & <chr> & <chr>\\\\\n",
       "\\hline\n",
       "\t Joel      & Vegan cone & Dark chocolate/pistachio/vanilla combo\\\\\n",
       "\t Joel      & Vegan cone & Chocolate                             \\\\\n",
       "\t Mike      & Cone       & Green tea                             \\\\\n",
       "\t Mike      & Cone       & Coconut                               \\\\\n",
       "\t Mike      & Cone       & Mint Chocolate Chip                   \\\\\n",
       "\t Tiff      & Cone       & Salted caramel                        \\\\\n",
       "\t Tiff      & Cone       & Mint Chocolate Chip                   \\\\\n",
       "\t Tom       & Cone       & Oreo                                  \\\\\n",
       "\t Vincenzo  & Cone       & Strawberry                            \\\\\n",
       "\t Vincenzo  & Cone       & Salted Caramel                        \\\\\n",
       "\t Vincenzo  & Cone       & Lemon                                 \\\\\n",
       "\t Arman     & Cone       & Vanilla                               \\\\\n",
       "\t Arman     & Cone       & Pistachio                             \\\\\n",
       "\t Florencia & Bowl       & Strawberry                            \\\\\n",
       "\t Florencia & Bowl       & Lemon                                 \\\\\n",
       "\\end{tabular}\n"
      ],
      "text/markdown": [
       "\n",
       "A tibble: 15 × 3\n",
       "\n",
       "| name &lt;chr&gt; | vessel &lt;chr&gt; | flavour &lt;chr&gt; |\n",
       "|---|---|---|\n",
       "| Joel      | Vegan cone | Dark chocolate/pistachio/vanilla combo |\n",
       "| Joel      | Vegan cone | Chocolate                              |\n",
       "| Mike      | Cone       | Green tea                              |\n",
       "| Mike      | Cone       | Coconut                                |\n",
       "| Mike      | Cone       | Mint Chocolate Chip                    |\n",
       "| Tiff      | Cone       | Salted caramel                         |\n",
       "| Tiff      | Cone       | Mint Chocolate Chip                    |\n",
       "| Tom       | Cone       | Oreo                                   |\n",
       "| Vincenzo  | Cone       | Strawberry                             |\n",
       "| Vincenzo  | Cone       | Salted Caramel                         |\n",
       "| Vincenzo  | Cone       | Lemon                                  |\n",
       "| Arman     | Cone       | Vanilla                                |\n",
       "| Arman     | Cone       | Pistachio                              |\n",
       "| Florencia | Bowl       | Strawberry                             |\n",
       "| Florencia | Bowl       | Lemon                                  |\n",
       "\n"
      ],
      "text/plain": [
       "   name      vessel     flavour                               \n",
       "1  Joel      Vegan cone Dark chocolate/pistachio/vanilla combo\n",
       "2  Joel      Vegan cone Chocolate                             \n",
       "3  Mike      Cone       Green tea                             \n",
       "4  Mike      Cone       Coconut                               \n",
       "5  Mike      Cone       Mint Chocolate Chip                   \n",
       "6  Tiff      Cone       Salted caramel                        \n",
       "7  Tiff      Cone       Mint Chocolate Chip                   \n",
       "8  Tom       Cone       Oreo                                  \n",
       "9  Vincenzo  Cone       Strawberry                            \n",
       "10 Vincenzo  Cone       Salted Caramel                        \n",
       "11 Vincenzo  Cone       Lemon                                 \n",
       "12 Arman     Cone       Vanilla                               \n",
       "13 Arman     Cone       Pistachio                             \n",
       "14 Florencia Bowl       Strawberry                            \n",
       "15 Florencia Bowl       Lemon                                 "
      ]
     },
     "metadata": {},
     "output_type": "display_data"
    }
   ],
   "source": [
    "flavours_and_vessls <- NULL\n",
    "# BEGIN SOLUTION NO PROMPT\n",
    "flavours_and_vessls <- left_join(vessel, flavour)\n",
    "# END SOLUTION\n",
    "\n",
    "flavours_and_vessls"
   ]
  },
  {
   "cell_type": "raw",
   "metadata": {},
   "source": [
    "# END SOLUTION"
   ]
  },
  {
   "cell_type": "raw",
   "metadata": {},
   "source": [
    "# BEGIN TESTS"
   ]
  },
  {
   "cell_type": "code",
   "execution_count": 4,
   "metadata": {},
   "outputs": [],
   "source": [
    "# TESTS\n",
    "expect_true(is.data.frame(flavours_and_vessls))\n",
    "expect_equal(nrow(flavours_and_vessls), 15)\n",
    "expect_equal(ncol(flavours_and_vessls), 3)\n",
    "expect_equal(paste(tolower(sort(colnames(flavours_and_vessls))), collapse = \"\"), 'flavournamevessel')\n",
    "expect_equal(paste(tolower(sort(unique(flavours_and_vessls$name))), collapse = \"\"), 'armanflorenciajoelmiketifftomvincenzo')\n",
    "expect_equal(paste(tolower(sort(unique(flavours_and_vessls$flavour))), collapse = \"\"), 'chocolatecoconutdark chocolate/pistachio/vanilla combogreen tealemonmint chocolate chiporeopistachiosalted caramelsalted caramelstrawberryvanilla')"
   ]
  },
  {
   "cell_type": "raw",
   "metadata": {},
   "source": [
    "# END TESTS"
   ]
  },
  {
   "cell_type": "raw",
   "metadata": {},
   "source": [
    "# END QUESTION"
   ]
  },
  {
   "cell_type": "raw",
   "metadata": {},
   "source": [
    "# BEGIN QUESTION\n",
    "name: ex2\n",
    "points: 1"
   ]
  },
  {
   "cell_type": "markdown",
   "metadata": {},
   "source": [
    "### Exercise 2\n",
    "rubric={autograde:1}"
   ]
  },
  {
   "cell_type": "markdown",
   "metadata": {},
   "source": [
    "Use {dplyr}'s `left_join` to add the the location of the destination (i.e. the `lat` and `lon`) from the {nycflights13} `airports` data frame to the `flights` data frame. The column in the `flights` data frame you should be joining on is `dest`. Bind the name `flight_dests` to your final data frame.\n",
    "\n",
    "*Hint: if you the column names you want to join on don't match, try using the `by` argument.*"
   ]
  },
  {
   "cell_type": "raw",
   "metadata": {},
   "source": [
    "# BEGIN SOLUTION"
   ]
  },
  {
   "cell_type": "code",
   "execution_count": 5,
   "metadata": {},
   "outputs": [
    {
     "data": {
      "text/html": [
       "<table class=\"dataframe\">\n",
       "<caption>A tibble: 6 × 21</caption>\n",
       "<thead>\n",
       "\t<tr><th scope=col>year</th><th scope=col>month</th><th scope=col>day</th><th scope=col>dep_time</th><th scope=col>sched_dep_time</th><th scope=col>dep_delay</th><th scope=col>arr_time</th><th scope=col>sched_arr_time</th><th scope=col>arr_delay</th><th scope=col>carrier</th><th scope=col>⋯</th><th scope=col>tailnum</th><th scope=col>origin</th><th scope=col>dest</th><th scope=col>air_time</th><th scope=col>distance</th><th scope=col>hour</th><th scope=col>minute</th><th scope=col>time_hour</th><th scope=col>lat</th><th scope=col>lon</th></tr>\n",
       "\t<tr><th scope=col>&lt;int&gt;</th><th scope=col>&lt;int&gt;</th><th scope=col>&lt;int&gt;</th><th scope=col>&lt;int&gt;</th><th scope=col>&lt;int&gt;</th><th scope=col>&lt;dbl&gt;</th><th scope=col>&lt;int&gt;</th><th scope=col>&lt;int&gt;</th><th scope=col>&lt;dbl&gt;</th><th scope=col>&lt;chr&gt;</th><th scope=col>⋯</th><th scope=col>&lt;chr&gt;</th><th scope=col>&lt;chr&gt;</th><th scope=col>&lt;chr&gt;</th><th scope=col>&lt;dbl&gt;</th><th scope=col>&lt;dbl&gt;</th><th scope=col>&lt;dbl&gt;</th><th scope=col>&lt;dbl&gt;</th><th scope=col>&lt;dttm&gt;</th><th scope=col>&lt;dbl&gt;</th><th scope=col>&lt;dbl&gt;</th></tr>\n",
       "</thead>\n",
       "<tbody>\n",
       "\t<tr><td>2013</td><td>1</td><td>1</td><td>517</td><td>515</td><td> 2</td><td> 830</td><td> 819</td><td> 11</td><td>UA</td><td>⋯</td><td>N14228</td><td>EWR</td><td>IAH</td><td>227</td><td>1400</td><td>5</td><td>15</td><td>2013-01-01 05:00:00</td><td>29.98443</td><td>-95.34144</td></tr>\n",
       "\t<tr><td>2013</td><td>1</td><td>1</td><td>533</td><td>529</td><td> 4</td><td> 850</td><td> 830</td><td> 20</td><td>UA</td><td>⋯</td><td>N24211</td><td>LGA</td><td>IAH</td><td>227</td><td>1416</td><td>5</td><td>29</td><td>2013-01-01 05:00:00</td><td>29.98443</td><td>-95.34144</td></tr>\n",
       "\t<tr><td>2013</td><td>1</td><td>1</td><td>542</td><td>540</td><td> 2</td><td> 923</td><td> 850</td><td> 33</td><td>AA</td><td>⋯</td><td>N619AA</td><td>JFK</td><td>MIA</td><td>160</td><td>1089</td><td>5</td><td>40</td><td>2013-01-01 05:00:00</td><td>25.79325</td><td>-80.29056</td></tr>\n",
       "\t<tr><td>2013</td><td>1</td><td>1</td><td>544</td><td>545</td><td>-1</td><td>1004</td><td>1022</td><td>-18</td><td>B6</td><td>⋯</td><td>N804JB</td><td>JFK</td><td>BQN</td><td>183</td><td>1576</td><td>5</td><td>45</td><td>2013-01-01 05:00:00</td><td>      NA</td><td>       NA</td></tr>\n",
       "\t<tr><td>2013</td><td>1</td><td>1</td><td>554</td><td>600</td><td>-6</td><td> 812</td><td> 837</td><td>-25</td><td>DL</td><td>⋯</td><td>N668DN</td><td>LGA</td><td>ATL</td><td>116</td><td> 762</td><td>6</td><td> 0</td><td>2013-01-01 06:00:00</td><td>33.63672</td><td>-84.42807</td></tr>\n",
       "\t<tr><td>2013</td><td>1</td><td>1</td><td>554</td><td>558</td><td>-4</td><td> 740</td><td> 728</td><td> 12</td><td>UA</td><td>⋯</td><td>N39463</td><td>EWR</td><td>ORD</td><td>150</td><td> 719</td><td>5</td><td>58</td><td>2013-01-01 05:00:00</td><td>41.97860</td><td>-87.90484</td></tr>\n",
       "</tbody>\n",
       "</table>\n"
      ],
      "text/latex": [
       "A tibble: 6 × 21\n",
       "\\begin{tabular}{lllllllllllllllllllll}\n",
       " year & month & day & dep\\_time & sched\\_dep\\_time & dep\\_delay & arr\\_time & sched\\_arr\\_time & arr\\_delay & carrier & ⋯ & tailnum & origin & dest & air\\_time & distance & hour & minute & time\\_hour & lat & lon\\\\\n",
       " <int> & <int> & <int> & <int> & <int> & <dbl> & <int> & <int> & <dbl> & <chr> & ⋯ & <chr> & <chr> & <chr> & <dbl> & <dbl> & <dbl> & <dbl> & <dttm> & <dbl> & <dbl>\\\\\n",
       "\\hline\n",
       "\t 2013 & 1 & 1 & 517 & 515 &  2 &  830 &  819 &  11 & UA & ⋯ & N14228 & EWR & IAH & 227 & 1400 & 5 & 15 & 2013-01-01 05:00:00 & 29.98443 & -95.34144\\\\\n",
       "\t 2013 & 1 & 1 & 533 & 529 &  4 &  850 &  830 &  20 & UA & ⋯ & N24211 & LGA & IAH & 227 & 1416 & 5 & 29 & 2013-01-01 05:00:00 & 29.98443 & -95.34144\\\\\n",
       "\t 2013 & 1 & 1 & 542 & 540 &  2 &  923 &  850 &  33 & AA & ⋯ & N619AA & JFK & MIA & 160 & 1089 & 5 & 40 & 2013-01-01 05:00:00 & 25.79325 & -80.29056\\\\\n",
       "\t 2013 & 1 & 1 & 544 & 545 & -1 & 1004 & 1022 & -18 & B6 & ⋯ & N804JB & JFK & BQN & 183 & 1576 & 5 & 45 & 2013-01-01 05:00:00 &       NA &        NA\\\\\n",
       "\t 2013 & 1 & 1 & 554 & 600 & -6 &  812 &  837 & -25 & DL & ⋯ & N668DN & LGA & ATL & 116 &  762 & 6 &  0 & 2013-01-01 06:00:00 & 33.63672 & -84.42807\\\\\n",
       "\t 2013 & 1 & 1 & 554 & 558 & -4 &  740 &  728 &  12 & UA & ⋯ & N39463 & EWR & ORD & 150 &  719 & 5 & 58 & 2013-01-01 05:00:00 & 41.97860 & -87.90484\\\\\n",
       "\\end{tabular}\n"
      ],
      "text/markdown": [
       "\n",
       "A tibble: 6 × 21\n",
       "\n",
       "| year &lt;int&gt; | month &lt;int&gt; | day &lt;int&gt; | dep_time &lt;int&gt; | sched_dep_time &lt;int&gt; | dep_delay &lt;dbl&gt; | arr_time &lt;int&gt; | sched_arr_time &lt;int&gt; | arr_delay &lt;dbl&gt; | carrier &lt;chr&gt; | ⋯ ⋯ | tailnum &lt;chr&gt; | origin &lt;chr&gt; | dest &lt;chr&gt; | air_time &lt;dbl&gt; | distance &lt;dbl&gt; | hour &lt;dbl&gt; | minute &lt;dbl&gt; | time_hour &lt;dttm&gt; | lat &lt;dbl&gt; | lon &lt;dbl&gt; |\n",
       "|---|---|---|---|---|---|---|---|---|---|---|---|---|---|---|---|---|---|---|---|---|\n",
       "| 2013 | 1 | 1 | 517 | 515 |  2 |  830 |  819 |  11 | UA | ⋯ | N14228 | EWR | IAH | 227 | 1400 | 5 | 15 | 2013-01-01 05:00:00 | 29.98443 | -95.34144 |\n",
       "| 2013 | 1 | 1 | 533 | 529 |  4 |  850 |  830 |  20 | UA | ⋯ | N24211 | LGA | IAH | 227 | 1416 | 5 | 29 | 2013-01-01 05:00:00 | 29.98443 | -95.34144 |\n",
       "| 2013 | 1 | 1 | 542 | 540 |  2 |  923 |  850 |  33 | AA | ⋯ | N619AA | JFK | MIA | 160 | 1089 | 5 | 40 | 2013-01-01 05:00:00 | 25.79325 | -80.29056 |\n",
       "| 2013 | 1 | 1 | 544 | 545 | -1 | 1004 | 1022 | -18 | B6 | ⋯ | N804JB | JFK | BQN | 183 | 1576 | 5 | 45 | 2013-01-01 05:00:00 |       NA |        NA |\n",
       "| 2013 | 1 | 1 | 554 | 600 | -6 |  812 |  837 | -25 | DL | ⋯ | N668DN | LGA | ATL | 116 |  762 | 6 |  0 | 2013-01-01 06:00:00 | 33.63672 | -84.42807 |\n",
       "| 2013 | 1 | 1 | 554 | 558 | -4 |  740 |  728 |  12 | UA | ⋯ | N39463 | EWR | ORD | 150 |  719 | 5 | 58 | 2013-01-01 05:00:00 | 41.97860 | -87.90484 |\n",
       "\n"
      ],
      "text/plain": [
       "  year month day dep_time sched_dep_time dep_delay arr_time sched_arr_time\n",
       "1 2013 1     1   517      515             2         830      819          \n",
       "2 2013 1     1   533      529             4         850      830          \n",
       "3 2013 1     1   542      540             2         923      850          \n",
       "4 2013 1     1   544      545            -1        1004     1022          \n",
       "5 2013 1     1   554      600            -6         812      837          \n",
       "6 2013 1     1   554      558            -4         740      728          \n",
       "  arr_delay carrier ⋯ tailnum origin dest air_time distance hour minute\n",
       "1  11       UA      ⋯ N14228  EWR    IAH  227      1400     5    15    \n",
       "2  20       UA      ⋯ N24211  LGA    IAH  227      1416     5    29    \n",
       "3  33       AA      ⋯ N619AA  JFK    MIA  160      1089     5    40    \n",
       "4 -18       B6      ⋯ N804JB  JFK    BQN  183      1576     5    45    \n",
       "5 -25       DL      ⋯ N668DN  LGA    ATL  116       762     6     0    \n",
       "6  12       UA      ⋯ N39463  EWR    ORD  150       719     5    58    \n",
       "  time_hour           lat      lon      \n",
       "1 2013-01-01 05:00:00 29.98443 -95.34144\n",
       "2 2013-01-01 05:00:00 29.98443 -95.34144\n",
       "3 2013-01-01 05:00:00 25.79325 -80.29056\n",
       "4 2013-01-01 05:00:00       NA        NA\n",
       "5 2013-01-01 06:00:00 33.63672 -84.42807\n",
       "6 2013-01-01 05:00:00 41.97860 -87.90484"
      ]
     },
     "metadata": {},
     "output_type": "display_data"
    }
   ],
   "source": [
    "flight_dests <- NULL\n",
    "# BEGIN SOLUTION NO PROMPT\n",
    "location <- airports |> \n",
    "    select(faa, lat, lon)\n",
    "flight_dests <- left_join(flights, location, by = c(\"dest\" = \"faa\"))\n",
    "# END SOLUTION\n",
    "\n",
    "head(flight_dests)"
   ]
  },
  {
   "cell_type": "raw",
   "metadata": {},
   "source": [
    "# END SOLUTION"
   ]
  },
  {
   "cell_type": "raw",
   "metadata": {},
   "source": [
    "# BEGIN TESTS"
   ]
  },
  {
   "cell_type": "code",
   "execution_count": 6,
   "metadata": {},
   "outputs": [],
   "source": [
    "# TESTS\n",
    "expect_true(is.data.frame(flight_dests))\n",
    "expect_equal(nrow(flight_dests), 336776)\n",
    "expect_equal(ncol(flight_dests), 21)\n",
    "expect_equal(paste(tolower(sort(colnames(flight_dests))), collapse = \"\"), 'air_timearr_delayarr_timecarrierdaydep_delaydep_timedestdistanceflighthourlatlonminutemonthoriginsched_arr_timesched_dep_timetailnumtime_houryear')\n",
    "expect_equal(round(sum(flight_dests$lat, na.rm = TRUE)), round(sum(flight_dests$lat, na.rm = TRUE)))"
   ]
  },
  {
   "cell_type": "raw",
   "metadata": {},
   "source": [
    "# END TESTS"
   ]
  },
  {
   "cell_type": "raw",
   "metadata": {},
   "source": [
    "# END QUESTION"
   ]
  },
  {
   "cell_type": "raw",
   "metadata": {},
   "source": [
    "# BEGIN QUESTION\n",
    "name: ex3\n",
    "points: 1"
   ]
  },
  {
   "cell_type": "markdown",
   "metadata": {},
   "source": [
    "### Exercise 3\n",
    "rubric={autograde:1}"
   ]
  },
  {
   "cell_type": "markdown",
   "metadata": {},
   "source": [
    "Going back now to our ice cream flavour and vessel data sets, there are two people in that data set who are (sadly!) no longer MDS core teaching team members. Use `inner_join` and the third data set provided below, `core_teaching_team_members`, to get back just the data from `flavours_and_vessls` (the data frame you made exercise 1) for the people listed in there, but only if we have data on their preferred ice cream flavours and vessels. Bind the name `core_flavours_and_vessls` to this data frame."
   ]
  },
  {
   "cell_type": "code",
   "execution_count": 7,
   "metadata": {},
   "outputs": [
    {
     "data": {
      "text/html": [
       "<table class=\"dataframe\">\n",
       "<caption>A tibble: 9 × 1</caption>\n",
       "<thead>\n",
       "\t<tr><th scope=col>name</th></tr>\n",
       "\t<tr><th scope=col>&lt;chr&gt;</th></tr>\n",
       "</thead>\n",
       "<tbody>\n",
       "\t<tr><td>Alexi    </td></tr>\n",
       "\t<tr><td>Mike     </td></tr>\n",
       "\t<tr><td>Joel     </td></tr>\n",
       "\t<tr><td>Tiff     </td></tr>\n",
       "\t<tr><td>Varada   </td></tr>\n",
       "\t<tr><td>Gittu    </td></tr>\n",
       "\t<tr><td>Arman    </td></tr>\n",
       "\t<tr><td>Florencia</td></tr>\n",
       "\t<tr><td>Quan     </td></tr>\n",
       "</tbody>\n",
       "</table>\n"
      ],
      "text/latex": [
       "A tibble: 9 × 1\n",
       "\\begin{tabular}{l}\n",
       " name\\\\\n",
       " <chr>\\\\\n",
       "\\hline\n",
       "\t Alexi    \\\\\n",
       "\t Mike     \\\\\n",
       "\t Joel     \\\\\n",
       "\t Tiff     \\\\\n",
       "\t Varada   \\\\\n",
       "\t Gittu    \\\\\n",
       "\t Arman    \\\\\n",
       "\t Florencia\\\\\n",
       "\t Quan     \\\\\n",
       "\\end{tabular}\n"
      ],
      "text/markdown": [
       "\n",
       "A tibble: 9 × 1\n",
       "\n",
       "| name &lt;chr&gt; |\n",
       "|---|\n",
       "| Alexi     |\n",
       "| Mike      |\n",
       "| Joel      |\n",
       "| Tiff      |\n",
       "| Varada    |\n",
       "| Gittu     |\n",
       "| Arman     |\n",
       "| Florencia |\n",
       "| Quan      |\n",
       "\n"
      ],
      "text/plain": [
       "  name     \n",
       "1 Alexi    \n",
       "2 Mike     \n",
       "3 Joel     \n",
       "4 Tiff     \n",
       "5 Varada   \n",
       "6 Gittu    \n",
       "7 Arman    \n",
       "8 Florencia\n",
       "9 Quan     "
      ]
     },
     "metadata": {},
     "output_type": "display_data"
    }
   ],
   "source": [
    "core_teaching_team_members <- tibble(name = c(\"Alexi\", \"Mike\", \"Joel\", \"Tiff\", \n",
    "                                     \"Varada\", \"Gittu\", \"Arman\", \"Florencia\", \"Quan\"))\n",
    "core_teaching_team_members"
   ]
  },
  {
   "cell_type": "raw",
   "metadata": {},
   "source": [
    "# BEGIN SOLUTION"
   ]
  },
  {
   "cell_type": "code",
   "execution_count": 8,
   "metadata": {},
   "outputs": [
    {
     "name": "stderr",
     "output_type": "stream",
     "text": [
      "\u001b[1m\u001b[22mJoining, by = \"name\"\n"
     ]
    },
    {
     "data": {
      "text/html": [
       "<table class=\"dataframe\">\n",
       "<caption>A tibble: 11 × 3</caption>\n",
       "<thead>\n",
       "\t<tr><th scope=col>name</th><th scope=col>vessel</th><th scope=col>flavour</th></tr>\n",
       "\t<tr><th scope=col>&lt;chr&gt;</th><th scope=col>&lt;chr&gt;</th><th scope=col>&lt;chr&gt;</th></tr>\n",
       "</thead>\n",
       "<tbody>\n",
       "\t<tr><td>Mike     </td><td>Cone      </td><td>Green tea                             </td></tr>\n",
       "\t<tr><td>Mike     </td><td>Cone      </td><td>Coconut                               </td></tr>\n",
       "\t<tr><td>Mike     </td><td>Cone      </td><td>Mint Chocolate Chip                   </td></tr>\n",
       "\t<tr><td>Joel     </td><td>Vegan cone</td><td>Dark chocolate/pistachio/vanilla combo</td></tr>\n",
       "\t<tr><td>Joel     </td><td>Vegan cone</td><td>Chocolate                             </td></tr>\n",
       "\t<tr><td>Tiff     </td><td>Cone      </td><td>Salted caramel                        </td></tr>\n",
       "\t<tr><td>Tiff     </td><td>Cone      </td><td>Mint Chocolate Chip                   </td></tr>\n",
       "\t<tr><td>Arman    </td><td>Cone      </td><td>Vanilla                               </td></tr>\n",
       "\t<tr><td>Arman    </td><td>Cone      </td><td>Pistachio                             </td></tr>\n",
       "\t<tr><td>Florencia</td><td>Bowl      </td><td>Strawberry                            </td></tr>\n",
       "\t<tr><td>Florencia</td><td>Bowl      </td><td>Lemon                                 </td></tr>\n",
       "</tbody>\n",
       "</table>\n"
      ],
      "text/latex": [
       "A tibble: 11 × 3\n",
       "\\begin{tabular}{lll}\n",
       " name & vessel & flavour\\\\\n",
       " <chr> & <chr> & <chr>\\\\\n",
       "\\hline\n",
       "\t Mike      & Cone       & Green tea                             \\\\\n",
       "\t Mike      & Cone       & Coconut                               \\\\\n",
       "\t Mike      & Cone       & Mint Chocolate Chip                   \\\\\n",
       "\t Joel      & Vegan cone & Dark chocolate/pistachio/vanilla combo\\\\\n",
       "\t Joel      & Vegan cone & Chocolate                             \\\\\n",
       "\t Tiff      & Cone       & Salted caramel                        \\\\\n",
       "\t Tiff      & Cone       & Mint Chocolate Chip                   \\\\\n",
       "\t Arman     & Cone       & Vanilla                               \\\\\n",
       "\t Arman     & Cone       & Pistachio                             \\\\\n",
       "\t Florencia & Bowl       & Strawberry                            \\\\\n",
       "\t Florencia & Bowl       & Lemon                                 \\\\\n",
       "\\end{tabular}\n"
      ],
      "text/markdown": [
       "\n",
       "A tibble: 11 × 3\n",
       "\n",
       "| name &lt;chr&gt; | vessel &lt;chr&gt; | flavour &lt;chr&gt; |\n",
       "|---|---|---|\n",
       "| Mike      | Cone       | Green tea                              |\n",
       "| Mike      | Cone       | Coconut                                |\n",
       "| Mike      | Cone       | Mint Chocolate Chip                    |\n",
       "| Joel      | Vegan cone | Dark chocolate/pistachio/vanilla combo |\n",
       "| Joel      | Vegan cone | Chocolate                              |\n",
       "| Tiff      | Cone       | Salted caramel                         |\n",
       "| Tiff      | Cone       | Mint Chocolate Chip                    |\n",
       "| Arman     | Cone       | Vanilla                                |\n",
       "| Arman     | Cone       | Pistachio                              |\n",
       "| Florencia | Bowl       | Strawberry                             |\n",
       "| Florencia | Bowl       | Lemon                                  |\n",
       "\n"
      ],
      "text/plain": [
       "   name      vessel     flavour                               \n",
       "1  Mike      Cone       Green tea                             \n",
       "2  Mike      Cone       Coconut                               \n",
       "3  Mike      Cone       Mint Chocolate Chip                   \n",
       "4  Joel      Vegan cone Dark chocolate/pistachio/vanilla combo\n",
       "5  Joel      Vegan cone Chocolate                             \n",
       "6  Tiff      Cone       Salted caramel                        \n",
       "7  Tiff      Cone       Mint Chocolate Chip                   \n",
       "8  Arman     Cone       Vanilla                               \n",
       "9  Arman     Cone       Pistachio                             \n",
       "10 Florencia Bowl       Strawberry                            \n",
       "11 Florencia Bowl       Lemon                                 "
      ]
     },
     "metadata": {},
     "output_type": "display_data"
    }
   ],
   "source": [
    "core_flavours_and_vessls <- NULL\n",
    "# BEGIN SOLUTION NO PROMPT\n",
    "core_flavours_and_vessls <- inner_join(core_teaching_team_members, flavours_and_vessls)\n",
    "# END SOLUTION\n",
    "\n",
    "core_flavours_and_vessls"
   ]
  },
  {
   "cell_type": "raw",
   "metadata": {},
   "source": [
    "# END SOLUTION"
   ]
  },
  {
   "cell_type": "raw",
   "metadata": {},
   "source": [
    "# BEGIN TESTS"
   ]
  },
  {
   "cell_type": "code",
   "execution_count": 9,
   "metadata": {},
   "outputs": [],
   "source": [
    "# TESTS\n",
    "expect_true(is.data.frame(core_flavours_and_vessls))\n",
    "expect_equal(nrow(core_flavours_and_vessls), 11)\n",
    "expect_equal(ncol(core_flavours_and_vessls), 3)\n",
    "expect_equal(paste(tolower(sort(colnames(core_flavours_and_vessls))), collapse = \"\"), 'flavournamevessel')\n",
    "expect_equal(paste(tolower(sort(unique(core_flavours_and_vessls$name))), collapse = \"\"), 'armanflorenciajoelmiketiff')\n",
    "expect_equal(paste(tolower(sort(unique(core_flavours_and_vessls$flavour))), collapse = \"\"), 'chocolatecoconutdark chocolate/pistachio/vanilla combogreen tealemonmint chocolate chippistachiosalted caramelstrawberryvanilla')"
   ]
  },
  {
   "cell_type": "raw",
   "metadata": {},
   "source": [
    "# END TESTS"
   ]
  },
  {
   "cell_type": "raw",
   "metadata": {},
   "source": [
    "# END QUESTION"
   ]
  },
  {
   "cell_type": "raw",
   "metadata": {},
   "source": [
    "# BEGIN QUESTION\n",
    "name: ex4\n",
    "points: 1"
   ]
  },
  {
   "cell_type": "markdown",
   "metadata": {},
   "source": [
    "### Exercise 4\n",
    "rubric={autograde:1}"
   ]
  },
  {
   "cell_type": "markdown",
   "metadata": {},
   "source": [
    "Now use `full_join` on the same two data sets you joined in exercise 3. Bind the name `full_core_flavours_and_vessls` to the data frame. Note the difference between the date frame you get in this exercise and the one you got in exercise 3."
   ]
  },
  {
   "cell_type": "raw",
   "metadata": {},
   "source": [
    "# BEGIN SOLUTION"
   ]
  },
  {
   "cell_type": "code",
   "execution_count": 10,
   "metadata": {},
   "outputs": [
    {
     "name": "stderr",
     "output_type": "stream",
     "text": [
      "\u001b[1m\u001b[22mJoining, by = \"name\"\n"
     ]
    },
    {
     "data": {
      "text/html": [
       "<table class=\"dataframe\">\n",
       "<caption>A tibble: 19 × 3</caption>\n",
       "<thead>\n",
       "\t<tr><th scope=col>name</th><th scope=col>vessel</th><th scope=col>flavour</th></tr>\n",
       "\t<tr><th scope=col>&lt;chr&gt;</th><th scope=col>&lt;chr&gt;</th><th scope=col>&lt;chr&gt;</th></tr>\n",
       "</thead>\n",
       "<tbody>\n",
       "\t<tr><td>Alexi    </td><td>NA        </td><td>NA                                    </td></tr>\n",
       "\t<tr><td>Mike     </td><td>Cone      </td><td>Green tea                             </td></tr>\n",
       "\t<tr><td>Mike     </td><td>Cone      </td><td>Coconut                               </td></tr>\n",
       "\t<tr><td>Mike     </td><td>Cone      </td><td>Mint Chocolate Chip                   </td></tr>\n",
       "\t<tr><td>Joel     </td><td>Vegan cone</td><td>Dark chocolate/pistachio/vanilla combo</td></tr>\n",
       "\t<tr><td>Joel     </td><td>Vegan cone</td><td>Chocolate                             </td></tr>\n",
       "\t<tr><td>Tiff     </td><td>Cone      </td><td>Salted caramel                        </td></tr>\n",
       "\t<tr><td>Tiff     </td><td>Cone      </td><td>Mint Chocolate Chip                   </td></tr>\n",
       "\t<tr><td>Varada   </td><td>NA        </td><td>NA                                    </td></tr>\n",
       "\t<tr><td>Gittu    </td><td>NA        </td><td>NA                                    </td></tr>\n",
       "\t<tr><td>Arman    </td><td>Cone      </td><td>Vanilla                               </td></tr>\n",
       "\t<tr><td>Arman    </td><td>Cone      </td><td>Pistachio                             </td></tr>\n",
       "\t<tr><td>Florencia</td><td>Bowl      </td><td>Strawberry                            </td></tr>\n",
       "\t<tr><td>Florencia</td><td>Bowl      </td><td>Lemon                                 </td></tr>\n",
       "\t<tr><td>Quan     </td><td>NA        </td><td>NA                                    </td></tr>\n",
       "\t<tr><td>Tom      </td><td>Cone      </td><td>Oreo                                  </td></tr>\n",
       "\t<tr><td>Vincenzo </td><td>Cone      </td><td>Strawberry                            </td></tr>\n",
       "\t<tr><td>Vincenzo </td><td>Cone      </td><td>Salted Caramel                        </td></tr>\n",
       "\t<tr><td>Vincenzo </td><td>Cone      </td><td>Lemon                                 </td></tr>\n",
       "</tbody>\n",
       "</table>\n"
      ],
      "text/latex": [
       "A tibble: 19 × 3\n",
       "\\begin{tabular}{lll}\n",
       " name & vessel & flavour\\\\\n",
       " <chr> & <chr> & <chr>\\\\\n",
       "\\hline\n",
       "\t Alexi     & NA         & NA                                    \\\\\n",
       "\t Mike      & Cone       & Green tea                             \\\\\n",
       "\t Mike      & Cone       & Coconut                               \\\\\n",
       "\t Mike      & Cone       & Mint Chocolate Chip                   \\\\\n",
       "\t Joel      & Vegan cone & Dark chocolate/pistachio/vanilla combo\\\\\n",
       "\t Joel      & Vegan cone & Chocolate                             \\\\\n",
       "\t Tiff      & Cone       & Salted caramel                        \\\\\n",
       "\t Tiff      & Cone       & Mint Chocolate Chip                   \\\\\n",
       "\t Varada    & NA         & NA                                    \\\\\n",
       "\t Gittu     & NA         & NA                                    \\\\\n",
       "\t Arman     & Cone       & Vanilla                               \\\\\n",
       "\t Arman     & Cone       & Pistachio                             \\\\\n",
       "\t Florencia & Bowl       & Strawberry                            \\\\\n",
       "\t Florencia & Bowl       & Lemon                                 \\\\\n",
       "\t Quan      & NA         & NA                                    \\\\\n",
       "\t Tom       & Cone       & Oreo                                  \\\\\n",
       "\t Vincenzo  & Cone       & Strawberry                            \\\\\n",
       "\t Vincenzo  & Cone       & Salted Caramel                        \\\\\n",
       "\t Vincenzo  & Cone       & Lemon                                 \\\\\n",
       "\\end{tabular}\n"
      ],
      "text/markdown": [
       "\n",
       "A tibble: 19 × 3\n",
       "\n",
       "| name &lt;chr&gt; | vessel &lt;chr&gt; | flavour &lt;chr&gt; |\n",
       "|---|---|---|\n",
       "| Alexi     | NA         | NA                                     |\n",
       "| Mike      | Cone       | Green tea                              |\n",
       "| Mike      | Cone       | Coconut                                |\n",
       "| Mike      | Cone       | Mint Chocolate Chip                    |\n",
       "| Joel      | Vegan cone | Dark chocolate/pistachio/vanilla combo |\n",
       "| Joel      | Vegan cone | Chocolate                              |\n",
       "| Tiff      | Cone       | Salted caramel                         |\n",
       "| Tiff      | Cone       | Mint Chocolate Chip                    |\n",
       "| Varada    | NA         | NA                                     |\n",
       "| Gittu     | NA         | NA                                     |\n",
       "| Arman     | Cone       | Vanilla                                |\n",
       "| Arman     | Cone       | Pistachio                              |\n",
       "| Florencia | Bowl       | Strawberry                             |\n",
       "| Florencia | Bowl       | Lemon                                  |\n",
       "| Quan      | NA         | NA                                     |\n",
       "| Tom       | Cone       | Oreo                                   |\n",
       "| Vincenzo  | Cone       | Strawberry                             |\n",
       "| Vincenzo  | Cone       | Salted Caramel                         |\n",
       "| Vincenzo  | Cone       | Lemon                                  |\n",
       "\n"
      ],
      "text/plain": [
       "   name      vessel     flavour                               \n",
       "1  Alexi     NA         NA                                    \n",
       "2  Mike      Cone       Green tea                             \n",
       "3  Mike      Cone       Coconut                               \n",
       "4  Mike      Cone       Mint Chocolate Chip                   \n",
       "5  Joel      Vegan cone Dark chocolate/pistachio/vanilla combo\n",
       "6  Joel      Vegan cone Chocolate                             \n",
       "7  Tiff      Cone       Salted caramel                        \n",
       "8  Tiff      Cone       Mint Chocolate Chip                   \n",
       "9  Varada    NA         NA                                    \n",
       "10 Gittu     NA         NA                                    \n",
       "11 Arman     Cone       Vanilla                               \n",
       "12 Arman     Cone       Pistachio                             \n",
       "13 Florencia Bowl       Strawberry                            \n",
       "14 Florencia Bowl       Lemon                                 \n",
       "15 Quan      NA         NA                                    \n",
       "16 Tom       Cone       Oreo                                  \n",
       "17 Vincenzo  Cone       Strawberry                            \n",
       "18 Vincenzo  Cone       Salted Caramel                        \n",
       "19 Vincenzo  Cone       Lemon                                 "
      ]
     },
     "metadata": {},
     "output_type": "display_data"
    }
   ],
   "source": [
    "full_core_flavours_and_vessls <- NULL\n",
    "# BEGIN SOLUTION NO PROMPT\n",
    "full_core_flavours_and_vessls <- full_join(core_teaching_team_members, flavours_and_vessls)\n",
    "# END SOLUTION\n",
    "\n",
    "full_core_flavours_and_vessls"
   ]
  },
  {
   "cell_type": "raw",
   "metadata": {},
   "source": [
    "# END SOLUTION"
   ]
  },
  {
   "cell_type": "raw",
   "metadata": {},
   "source": [
    "# BEGIN TESTS"
   ]
  },
  {
   "cell_type": "code",
   "execution_count": 11,
   "metadata": {},
   "outputs": [
    {
     "data": {
      "text/html": [
       "'chocolatecoconutdark chocolate/pistachio/vanilla combogreen tealemonmint chocolate chiporeopistachiosalted caramelsalted caramelstrawberryvanilla'"
      ],
      "text/latex": [
       "'chocolatecoconutdark chocolate/pistachio/vanilla combogreen tealemonmint chocolate chiporeopistachiosalted caramelsalted caramelstrawberryvanilla'"
      ],
      "text/markdown": [
       "'chocolatecoconutdark chocolate/pistachio/vanilla combogreen tealemonmint chocolate chiporeopistachiosalted caramelsalted caramelstrawberryvanilla'"
      ],
      "text/plain": [
       "[1] \"chocolatecoconutdark chocolate/pistachio/vanilla combogreen tealemonmint chocolate chiporeopistachiosalted caramelsalted caramelstrawberryvanilla\""
      ]
     },
     "metadata": {},
     "output_type": "display_data"
    }
   ],
   "source": [
    "paste(tolower(sort(unique(full_core_flavours_and_vessls$flavour))), collapse = \"\")"
   ]
  },
  {
   "cell_type": "code",
   "execution_count": 12,
   "metadata": {},
   "outputs": [],
   "source": [
    "# TESTS\n",
    "expect_true(is.data.frame(full_core_flavours_and_vessls))\n",
    "expect_equal(nrow(full_core_flavours_and_vessls), 19)\n",
    "expect_equal(ncol(full_core_flavours_and_vessls), 3)\n",
    "expect_equal(paste(tolower(sort(colnames(full_core_flavours_and_vessls))), collapse = \"\"), 'flavournamevessel')\n",
    "expect_equal(paste(tolower(sort(unique(full_core_flavours_and_vessls$name))), collapse = \"\"), 'alexiarmanflorenciagittujoelmikequantifftomvaradavincenzo')\n",
    "expect_equal(paste(tolower(sort(unique(full_core_flavours_and_vessls$flavour))), collapse = \"\"), 'chocolatecoconutdark chocolate/pistachio/vanilla combogreen tealemonmint chocolate chiporeopistachiosalted caramelsalted caramelstrawberryvanilla')"
   ]
  },
  {
   "cell_type": "raw",
   "metadata": {},
   "source": [
    "# END TESTS"
   ]
  },
  {
   "cell_type": "raw",
   "metadata": {},
   "source": [
    "# END QUESTION"
   ]
  },
  {
   "cell_type": "raw",
   "metadata": {},
   "source": [
    "# BEGIN QUESTION\n",
    "name: ex5\n",
    "points: 1"
   ]
  },
  {
   "cell_type": "markdown",
   "metadata": {},
   "source": [
    "### Exercise 5\n",
    "rubric={autograde:1}\n",
    "\n",
    "Explore what the result of `anti_join(flights, airports, by = c(\"dest\" = \"faa\"))` looks like, and what the result of `anti_join(airports, flights, by = c(\"faa\" = \"dest\"))` looks like. Then answer the multiple choice question below."
   ]
  },
  {
   "cell_type": "code",
   "execution_count": 13,
   "metadata": {},
   "outputs": [
    {
     "data": {
      "text/html": [
       "<table class=\"dataframe\">\n",
       "<caption>A tibble: 6 × 19</caption>\n",
       "<thead>\n",
       "\t<tr><th scope=col>year</th><th scope=col>month</th><th scope=col>day</th><th scope=col>dep_time</th><th scope=col>sched_dep_time</th><th scope=col>dep_delay</th><th scope=col>arr_time</th><th scope=col>sched_arr_time</th><th scope=col>arr_delay</th><th scope=col>carrier</th><th scope=col>flight</th><th scope=col>tailnum</th><th scope=col>origin</th><th scope=col>dest</th><th scope=col>air_time</th><th scope=col>distance</th><th scope=col>hour</th><th scope=col>minute</th><th scope=col>time_hour</th></tr>\n",
       "\t<tr><th scope=col>&lt;int&gt;</th><th scope=col>&lt;int&gt;</th><th scope=col>&lt;int&gt;</th><th scope=col>&lt;int&gt;</th><th scope=col>&lt;int&gt;</th><th scope=col>&lt;dbl&gt;</th><th scope=col>&lt;int&gt;</th><th scope=col>&lt;int&gt;</th><th scope=col>&lt;dbl&gt;</th><th scope=col>&lt;chr&gt;</th><th scope=col>&lt;int&gt;</th><th scope=col>&lt;chr&gt;</th><th scope=col>&lt;chr&gt;</th><th scope=col>&lt;chr&gt;</th><th scope=col>&lt;dbl&gt;</th><th scope=col>&lt;dbl&gt;</th><th scope=col>&lt;dbl&gt;</th><th scope=col>&lt;dbl&gt;</th><th scope=col>&lt;dttm&gt;</th></tr>\n",
       "</thead>\n",
       "<tbody>\n",
       "\t<tr><td>2013</td><td>1</td><td>1</td><td>544</td><td>545</td><td>-1</td><td>1004</td><td>1022</td><td>-18</td><td>B6</td><td> 725</td><td>N804JB</td><td>JFK</td><td>BQN</td><td>183</td><td>1576</td><td>5</td><td>45</td><td>2013-01-01 05:00:00</td></tr>\n",
       "\t<tr><td>2013</td><td>1</td><td>1</td><td>615</td><td>615</td><td> 0</td><td>1039</td><td>1100</td><td>-21</td><td>B6</td><td> 709</td><td>N794JB</td><td>JFK</td><td>SJU</td><td>182</td><td>1598</td><td>6</td><td>15</td><td>2013-01-01 06:00:00</td></tr>\n",
       "\t<tr><td>2013</td><td>1</td><td>1</td><td>628</td><td>630</td><td>-2</td><td>1137</td><td>1140</td><td> -3</td><td>AA</td><td> 413</td><td>N3BAAA</td><td>JFK</td><td>SJU</td><td>192</td><td>1598</td><td>6</td><td>30</td><td>2013-01-01 06:00:00</td></tr>\n",
       "\t<tr><td>2013</td><td>1</td><td>1</td><td>701</td><td>700</td><td> 1</td><td>1123</td><td>1154</td><td>-31</td><td>UA</td><td>1203</td><td>N77296</td><td>EWR</td><td>SJU</td><td>188</td><td>1608</td><td>7</td><td> 0</td><td>2013-01-01 07:00:00</td></tr>\n",
       "\t<tr><td>2013</td><td>1</td><td>1</td><td>711</td><td>715</td><td>-4</td><td>1151</td><td>1206</td><td>-15</td><td>B6</td><td> 715</td><td>N651JB</td><td>JFK</td><td>SJU</td><td>190</td><td>1598</td><td>7</td><td>15</td><td>2013-01-01 07:00:00</td></tr>\n",
       "\t<tr><td>2013</td><td>1</td><td>1</td><td>820</td><td>820</td><td> 0</td><td>1254</td><td>1310</td><td>-16</td><td>B6</td><td> 717</td><td>N527JB</td><td>JFK</td><td>SJU</td><td>190</td><td>1598</td><td>8</td><td>20</td><td>2013-01-01 08:00:00</td></tr>\n",
       "</tbody>\n",
       "</table>\n"
      ],
      "text/latex": [
       "A tibble: 6 × 19\n",
       "\\begin{tabular}{lllllllllllllllllll}\n",
       " year & month & day & dep\\_time & sched\\_dep\\_time & dep\\_delay & arr\\_time & sched\\_arr\\_time & arr\\_delay & carrier & flight & tailnum & origin & dest & air\\_time & distance & hour & minute & time\\_hour\\\\\n",
       " <int> & <int> & <int> & <int> & <int> & <dbl> & <int> & <int> & <dbl> & <chr> & <int> & <chr> & <chr> & <chr> & <dbl> & <dbl> & <dbl> & <dbl> & <dttm>\\\\\n",
       "\\hline\n",
       "\t 2013 & 1 & 1 & 544 & 545 & -1 & 1004 & 1022 & -18 & B6 &  725 & N804JB & JFK & BQN & 183 & 1576 & 5 & 45 & 2013-01-01 05:00:00\\\\\n",
       "\t 2013 & 1 & 1 & 615 & 615 &  0 & 1039 & 1100 & -21 & B6 &  709 & N794JB & JFK & SJU & 182 & 1598 & 6 & 15 & 2013-01-01 06:00:00\\\\\n",
       "\t 2013 & 1 & 1 & 628 & 630 & -2 & 1137 & 1140 &  -3 & AA &  413 & N3BAAA & JFK & SJU & 192 & 1598 & 6 & 30 & 2013-01-01 06:00:00\\\\\n",
       "\t 2013 & 1 & 1 & 701 & 700 &  1 & 1123 & 1154 & -31 & UA & 1203 & N77296 & EWR & SJU & 188 & 1608 & 7 &  0 & 2013-01-01 07:00:00\\\\\n",
       "\t 2013 & 1 & 1 & 711 & 715 & -4 & 1151 & 1206 & -15 & B6 &  715 & N651JB & JFK & SJU & 190 & 1598 & 7 & 15 & 2013-01-01 07:00:00\\\\\n",
       "\t 2013 & 1 & 1 & 820 & 820 &  0 & 1254 & 1310 & -16 & B6 &  717 & N527JB & JFK & SJU & 190 & 1598 & 8 & 20 & 2013-01-01 08:00:00\\\\\n",
       "\\end{tabular}\n"
      ],
      "text/markdown": [
       "\n",
       "A tibble: 6 × 19\n",
       "\n",
       "| year &lt;int&gt; | month &lt;int&gt; | day &lt;int&gt; | dep_time &lt;int&gt; | sched_dep_time &lt;int&gt; | dep_delay &lt;dbl&gt; | arr_time &lt;int&gt; | sched_arr_time &lt;int&gt; | arr_delay &lt;dbl&gt; | carrier &lt;chr&gt; | flight &lt;int&gt; | tailnum &lt;chr&gt; | origin &lt;chr&gt; | dest &lt;chr&gt; | air_time &lt;dbl&gt; | distance &lt;dbl&gt; | hour &lt;dbl&gt; | minute &lt;dbl&gt; | time_hour &lt;dttm&gt; |\n",
       "|---|---|---|---|---|---|---|---|---|---|---|---|---|---|---|---|---|---|---|\n",
       "| 2013 | 1 | 1 | 544 | 545 | -1 | 1004 | 1022 | -18 | B6 |  725 | N804JB | JFK | BQN | 183 | 1576 | 5 | 45 | 2013-01-01 05:00:00 |\n",
       "| 2013 | 1 | 1 | 615 | 615 |  0 | 1039 | 1100 | -21 | B6 |  709 | N794JB | JFK | SJU | 182 | 1598 | 6 | 15 | 2013-01-01 06:00:00 |\n",
       "| 2013 | 1 | 1 | 628 | 630 | -2 | 1137 | 1140 |  -3 | AA |  413 | N3BAAA | JFK | SJU | 192 | 1598 | 6 | 30 | 2013-01-01 06:00:00 |\n",
       "| 2013 | 1 | 1 | 701 | 700 |  1 | 1123 | 1154 | -31 | UA | 1203 | N77296 | EWR | SJU | 188 | 1608 | 7 |  0 | 2013-01-01 07:00:00 |\n",
       "| 2013 | 1 | 1 | 711 | 715 | -4 | 1151 | 1206 | -15 | B6 |  715 | N651JB | JFK | SJU | 190 | 1598 | 7 | 15 | 2013-01-01 07:00:00 |\n",
       "| 2013 | 1 | 1 | 820 | 820 |  0 | 1254 | 1310 | -16 | B6 |  717 | N527JB | JFK | SJU | 190 | 1598 | 8 | 20 | 2013-01-01 08:00:00 |\n",
       "\n"
      ],
      "text/plain": [
       "  year month day dep_time sched_dep_time dep_delay arr_time sched_arr_time\n",
       "1 2013 1     1   544      545            -1        1004     1022          \n",
       "2 2013 1     1   615      615             0        1039     1100          \n",
       "3 2013 1     1   628      630            -2        1137     1140          \n",
       "4 2013 1     1   701      700             1        1123     1154          \n",
       "5 2013 1     1   711      715            -4        1151     1206          \n",
       "6 2013 1     1   820      820             0        1254     1310          \n",
       "  arr_delay carrier flight tailnum origin dest air_time distance hour minute\n",
       "1 -18       B6       725   N804JB  JFK    BQN  183      1576     5    45    \n",
       "2 -21       B6       709   N794JB  JFK    SJU  182      1598     6    15    \n",
       "3  -3       AA       413   N3BAAA  JFK    SJU  192      1598     6    30    \n",
       "4 -31       UA      1203   N77296  EWR    SJU  188      1608     7     0    \n",
       "5 -15       B6       715   N651JB  JFK    SJU  190      1598     7    15    \n",
       "6 -16       B6       717   N527JB  JFK    SJU  190      1598     8    20    \n",
       "  time_hour          \n",
       "1 2013-01-01 05:00:00\n",
       "2 2013-01-01 06:00:00\n",
       "3 2013-01-01 06:00:00\n",
       "4 2013-01-01 07:00:00\n",
       "5 2013-01-01 07:00:00\n",
       "6 2013-01-01 08:00:00"
      ]
     },
     "metadata": {},
     "output_type": "display_data"
    }
   ],
   "source": [
    "flights_first <- anti_join(flights, airports, by = c(\"dest\" = \"faa\"))\n",
    "head(flights_first)"
   ]
  },
  {
   "cell_type": "code",
   "execution_count": 14,
   "metadata": {},
   "outputs": [
    {
     "data": {
      "text/html": [
       "<table class=\"dataframe\">\n",
       "<caption>A tibble: 6 × 8</caption>\n",
       "<thead>\n",
       "\t<tr><th scope=col>faa</th><th scope=col>name</th><th scope=col>lat</th><th scope=col>lon</th><th scope=col>alt</th><th scope=col>tz</th><th scope=col>dst</th><th scope=col>tzone</th></tr>\n",
       "\t<tr><th scope=col>&lt;chr&gt;</th><th scope=col>&lt;chr&gt;</th><th scope=col>&lt;dbl&gt;</th><th scope=col>&lt;dbl&gt;</th><th scope=col>&lt;dbl&gt;</th><th scope=col>&lt;dbl&gt;</th><th scope=col>&lt;chr&gt;</th><th scope=col>&lt;chr&gt;</th></tr>\n",
       "</thead>\n",
       "<tbody>\n",
       "\t<tr><td>04G</td><td>Lansdowne Airport             </td><td>41.13047</td><td>-80.61958</td><td>1044</td><td>-5</td><td>A</td><td>America/New_York</td></tr>\n",
       "\t<tr><td>06A</td><td>Moton Field Municipal Airport </td><td>32.46057</td><td>-85.68003</td><td> 264</td><td>-6</td><td>A</td><td>America/Chicago </td></tr>\n",
       "\t<tr><td>06C</td><td>Schaumburg Regional           </td><td>41.98934</td><td>-88.10124</td><td> 801</td><td>-6</td><td>A</td><td>America/Chicago </td></tr>\n",
       "\t<tr><td>06N</td><td>Randall Airport               </td><td>41.43191</td><td>-74.39156</td><td> 523</td><td>-5</td><td>A</td><td>America/New_York</td></tr>\n",
       "\t<tr><td>09J</td><td>Jekyll Island Airport         </td><td>31.07447</td><td>-81.42778</td><td>  11</td><td>-5</td><td>A</td><td>America/New_York</td></tr>\n",
       "\t<tr><td>0A9</td><td>Elizabethton Municipal Airport</td><td>36.37122</td><td>-82.17342</td><td>1593</td><td>-5</td><td>A</td><td>America/New_York</td></tr>\n",
       "</tbody>\n",
       "</table>\n"
      ],
      "text/latex": [
       "A tibble: 6 × 8\n",
       "\\begin{tabular}{llllllll}\n",
       " faa & name & lat & lon & alt & tz & dst & tzone\\\\\n",
       " <chr> & <chr> & <dbl> & <dbl> & <dbl> & <dbl> & <chr> & <chr>\\\\\n",
       "\\hline\n",
       "\t 04G & Lansdowne Airport              & 41.13047 & -80.61958 & 1044 & -5 & A & America/New\\_York\\\\\n",
       "\t 06A & Moton Field Municipal Airport  & 32.46057 & -85.68003 &  264 & -6 & A & America/Chicago \\\\\n",
       "\t 06C & Schaumburg Regional            & 41.98934 & -88.10124 &  801 & -6 & A & America/Chicago \\\\\n",
       "\t 06N & Randall Airport                & 41.43191 & -74.39156 &  523 & -5 & A & America/New\\_York\\\\\n",
       "\t 09J & Jekyll Island Airport          & 31.07447 & -81.42778 &   11 & -5 & A & America/New\\_York\\\\\n",
       "\t 0A9 & Elizabethton Municipal Airport & 36.37122 & -82.17342 & 1593 & -5 & A & America/New\\_York\\\\\n",
       "\\end{tabular}\n"
      ],
      "text/markdown": [
       "\n",
       "A tibble: 6 × 8\n",
       "\n",
       "| faa &lt;chr&gt; | name &lt;chr&gt; | lat &lt;dbl&gt; | lon &lt;dbl&gt; | alt &lt;dbl&gt; | tz &lt;dbl&gt; | dst &lt;chr&gt; | tzone &lt;chr&gt; |\n",
       "|---|---|---|---|---|---|---|---|\n",
       "| 04G | Lansdowne Airport              | 41.13047 | -80.61958 | 1044 | -5 | A | America/New_York |\n",
       "| 06A | Moton Field Municipal Airport  | 32.46057 | -85.68003 |  264 | -6 | A | America/Chicago  |\n",
       "| 06C | Schaumburg Regional            | 41.98934 | -88.10124 |  801 | -6 | A | America/Chicago  |\n",
       "| 06N | Randall Airport                | 41.43191 | -74.39156 |  523 | -5 | A | America/New_York |\n",
       "| 09J | Jekyll Island Airport          | 31.07447 | -81.42778 |   11 | -5 | A | America/New_York |\n",
       "| 0A9 | Elizabethton Municipal Airport | 36.37122 | -82.17342 | 1593 | -5 | A | America/New_York |\n",
       "\n"
      ],
      "text/plain": [
       "  faa name                           lat      lon       alt  tz dst\n",
       "1 04G Lansdowne Airport              41.13047 -80.61958 1044 -5 A  \n",
       "2 06A Moton Field Municipal Airport  32.46057 -85.68003  264 -6 A  \n",
       "3 06C Schaumburg Regional            41.98934 -88.10124  801 -6 A  \n",
       "4 06N Randall Airport                41.43191 -74.39156  523 -5 A  \n",
       "5 09J Jekyll Island Airport          31.07447 -81.42778   11 -5 A  \n",
       "6 0A9 Elizabethton Municipal Airport 36.37122 -82.17342 1593 -5 A  \n",
       "  tzone           \n",
       "1 America/New_York\n",
       "2 America/Chicago \n",
       "3 America/Chicago \n",
       "4 America/New_York\n",
       "5 America/New_York\n",
       "6 America/New_York"
      ]
     },
     "metadata": {},
     "output_type": "display_data"
    }
   ],
   "source": [
    "airports_first <- anti_join(airports, flights, by = c(\"faa\" = \"dest\"))\n",
    "head(airports_first)"
   ]
  },
  {
   "cell_type": "markdown",
   "metadata": {},
   "source": [
    "Which statement below is correct about why the data frames `flights_first` and `airports_first` are different?\n",
    "\n",
    "A. Because this is a filtering join where all rows from the second data frame are returned where there are not matching values in the first data frame.\n",
    "\n",
    "B. Because this is a filtering join where all rows from the first data frame are returned where there are not matching values in the second data frame.\n",
    "\n",
    "C. Because this is a mutating join where all rows from the second data frame are returned where there are not matching values in the first data frame, as well as all rows from the first data frame are returned where there are not matching values in the second data frame.\n",
    "\n",
    "D. Because this is a mutating join where all rows from the first data frame are returned where there are not matching values in the second data frame, as well as all from the second data frame where there are not matching values in the first data frame.\n",
    "\n",
    "\n",
    "Bind the name `answer_5` to either `\"A\"`, `\"B\"`, `\"C\"` or `\"D\"`, corresponding to which statement above you believe to be correct."
   ]
  },
  {
   "cell_type": "raw",
   "metadata": {},
   "source": [
    "# BEGIN SOLUTION"
   ]
  },
  {
   "cell_type": "code",
   "execution_count": 15,
   "metadata": {},
   "outputs": [
    {
     "data": {
      "text/html": [
       "'B'"
      ],
      "text/latex": [
       "'B'"
      ],
      "text/markdown": [
       "'B'"
      ],
      "text/plain": [
       "[1] \"B\""
      ]
     },
     "metadata": {},
     "output_type": "display_data"
    }
   ],
   "source": [
    "answer_5 <- NULL\n",
    "# BEGIN SOLUTION NO PROMPT\n",
    "answer_5 <- \"B\"\n",
    "# END SOLUTION\n",
    "\n",
    "answer_5"
   ]
  },
  {
   "cell_type": "raw",
   "metadata": {},
   "source": [
    "# END SOLUTION"
   ]
  },
  {
   "cell_type": "raw",
   "metadata": {},
   "source": [
    "# BEGIN TESTS"
   ]
  },
  {
   "cell_type": "code",
   "execution_count": 16,
   "metadata": {},
   "outputs": [],
   "source": [
    "# TESTS\n",
    "expect_equal(digest(answer_5), '3a5505c06543876fe45598b5e5e5195d')"
   ]
  },
  {
   "cell_type": "raw",
   "metadata": {},
   "source": [
    "# END TESTS"
   ]
  },
  {
   "cell_type": "raw",
   "metadata": {},
   "source": [
    "# END QUESTION"
   ]
  },
  {
   "cell_type": "raw",
   "metadata": {},
   "source": [
    "# BEGIN QUESTION\n",
    "name: ex6\n",
    "points: 0\n",
    "manual: true"
   ]
  },
  {
   "cell_type": "markdown",
   "metadata": {},
   "source": [
    "### Exercise 6\n",
    "{not graded - solution at the end of the notebook}\n",
    "\n",
    "Use a `for` loop to print out the song lyrics, one per line in the way they would be sung (one song line corresponds to an element in the vector), in the provided vector. "
   ]
  },
  {
   "cell_type": "code",
   "execution_count": 17,
   "metadata": {},
   "outputs": [],
   "source": [
    "lyrics <- c(\"If there was a problem yo I'll solve it\", \"Check out the hook while my DJ revolves it\", \"Ice ice baby\", \"vanilla, Ice ice baby\", \"vanilla, Ice ice baby\", \"vanilla Ice ice baby\", \"vanilla\")"
   ]
  },
  {
   "cell_type": "raw",
   "metadata": {},
   "source": [
    "# BEGIN SOLUTION"
   ]
  },
  {
   "cell_type": "code",
   "execution_count": 18,
   "metadata": {},
   "outputs": [
    {
     "name": "stdout",
     "output_type": "stream",
     "text": [
      "[1] \"If there was a problem yo I'll solve it\"\n",
      "[1] \"Check out the hook while my DJ revolves it\"\n",
      "[1] \"Ice ice baby\"\n",
      "[1] \"vanilla, Ice ice baby\"\n",
      "[1] \"vanilla, Ice ice baby\"\n",
      "[1] \"vanilla Ice ice baby\"\n",
      "[1] \"vanilla\"\n"
     ]
    }
   ],
   "source": [
    "# YOUR CODE HERE\n",
    "# BEGIN SOLUTION NO PROMPT\n",
    "for (line in lyrics) {\n",
    "    print(line)\n",
    "}\n",
    "# END SOLUTION"
   ]
  },
  {
   "cell_type": "raw",
   "metadata": {},
   "source": [
    "# END SOLUTION"
   ]
  },
  {
   "cell_type": "raw",
   "metadata": {},
   "source": [
    "# END QUESTION"
   ]
  },
  {
   "cell_type": "raw",
   "metadata": {},
   "source": [
    "# BEGIN QUESTION\n",
    "name: ex7\n",
    "points: 1"
   ]
  },
  {
   "cell_type": "markdown",
   "metadata": {},
   "source": [
    "### Exercise 7\n",
    "rubric={autograde:1}\n",
    "\n",
    "Remember that you learned how to get a specific Game of Thrones character name from the `got_chars` data set from the {repurrrsive} data package last week? Now that you have learned loops in R, you have the skills to create a vector containing the names of all of the Game of Thrones characters from that list. \n",
    "\n",
    "Your task is to do just that, create a character vector containing all the names of characters from the `got_chars` data set. Bind the name `names` to that vector. \n",
    "\n",
    "Hint: never grow a vector, list or data frame inside a for loop in R (or Python)! Pre-allocate an object where things will be put in during the loop. To get you started, we provide the pre-allocated vector for you."
   ]
  },
  {
   "cell_type": "raw",
   "metadata": {},
   "source": [
    "# BEGIN SOLUTION"
   ]
  },
  {
   "cell_type": "code",
   "execution_count": 19,
   "metadata": {},
   "outputs": [
    {
     "data": {
      "text/html": [
       "<style>\n",
       ".list-inline {list-style: none; margin:0; padding: 0}\n",
       ".list-inline>li {display: inline-block}\n",
       ".list-inline>li:not(:last-child)::after {content: \"\\00b7\"; padding: 0 .5ex}\n",
       "</style>\n",
       "<ol class=list-inline><li>'Theon Greyjoy'</li><li>'Tyrion Lannister'</li><li>'Victarion Greyjoy'</li><li>'Will'</li><li>'Areo Hotah'</li><li>'Chett'</li><li>'Cressen'</li><li>'Arianne Martell'</li><li>'Daenerys Targaryen'</li><li>'Davos Seaworth'</li><li>'Arya Stark'</li><li>'Arys Oakheart'</li><li>'Asha Greyjoy'</li><li>'Barristan Selmy'</li><li>'Varamyr'</li><li>'Brandon Stark'</li><li>'Brienne of Tarth'</li><li>'Catelyn Stark'</li><li>'Cersei Lannister'</li><li>'Eddard Stark'</li><li>'Jaime Lannister'</li><li>'Jon Connington'</li><li>'Jon Snow'</li><li>'Aeron Greyjoy'</li><li>'Kevan Lannister'</li><li>'Melisandre'</li><li>'Merrett Frey'</li><li>'Quentyn Martell'</li><li>'Samwell Tarly'</li><li>'Sansa Stark'</li></ol>\n"
      ],
      "text/latex": [
       "\\begin{enumerate*}\n",
       "\\item 'Theon Greyjoy'\n",
       "\\item 'Tyrion Lannister'\n",
       "\\item 'Victarion Greyjoy'\n",
       "\\item 'Will'\n",
       "\\item 'Areo Hotah'\n",
       "\\item 'Chett'\n",
       "\\item 'Cressen'\n",
       "\\item 'Arianne Martell'\n",
       "\\item 'Daenerys Targaryen'\n",
       "\\item 'Davos Seaworth'\n",
       "\\item 'Arya Stark'\n",
       "\\item 'Arys Oakheart'\n",
       "\\item 'Asha Greyjoy'\n",
       "\\item 'Barristan Selmy'\n",
       "\\item 'Varamyr'\n",
       "\\item 'Brandon Stark'\n",
       "\\item 'Brienne of Tarth'\n",
       "\\item 'Catelyn Stark'\n",
       "\\item 'Cersei Lannister'\n",
       "\\item 'Eddard Stark'\n",
       "\\item 'Jaime Lannister'\n",
       "\\item 'Jon Connington'\n",
       "\\item 'Jon Snow'\n",
       "\\item 'Aeron Greyjoy'\n",
       "\\item 'Kevan Lannister'\n",
       "\\item 'Melisandre'\n",
       "\\item 'Merrett Frey'\n",
       "\\item 'Quentyn Martell'\n",
       "\\item 'Samwell Tarly'\n",
       "\\item 'Sansa Stark'\n",
       "\\end{enumerate*}\n"
      ],
      "text/markdown": [
       "1. 'Theon Greyjoy'\n",
       "2. 'Tyrion Lannister'\n",
       "3. 'Victarion Greyjoy'\n",
       "4. 'Will'\n",
       "5. 'Areo Hotah'\n",
       "6. 'Chett'\n",
       "7. 'Cressen'\n",
       "8. 'Arianne Martell'\n",
       "9. 'Daenerys Targaryen'\n",
       "10. 'Davos Seaworth'\n",
       "11. 'Arya Stark'\n",
       "12. 'Arys Oakheart'\n",
       "13. 'Asha Greyjoy'\n",
       "14. 'Barristan Selmy'\n",
       "15. 'Varamyr'\n",
       "16. 'Brandon Stark'\n",
       "17. 'Brienne of Tarth'\n",
       "18. 'Catelyn Stark'\n",
       "19. 'Cersei Lannister'\n",
       "20. 'Eddard Stark'\n",
       "21. 'Jaime Lannister'\n",
       "22. 'Jon Connington'\n",
       "23. 'Jon Snow'\n",
       "24. 'Aeron Greyjoy'\n",
       "25. 'Kevan Lannister'\n",
       "26. 'Melisandre'\n",
       "27. 'Merrett Frey'\n",
       "28. 'Quentyn Martell'\n",
       "29. 'Samwell Tarly'\n",
       "30. 'Sansa Stark'\n",
       "\n",
       "\n"
      ],
      "text/plain": [
       " [1] \"Theon Greyjoy\"      \"Tyrion Lannister\"   \"Victarion Greyjoy\" \n",
       " [4] \"Will\"               \"Areo Hotah\"         \"Chett\"             \n",
       " [7] \"Cressen\"            \"Arianne Martell\"    \"Daenerys Targaryen\"\n",
       "[10] \"Davos Seaworth\"     \"Arya Stark\"         \"Arys Oakheart\"     \n",
       "[13] \"Asha Greyjoy\"       \"Barristan Selmy\"    \"Varamyr\"           \n",
       "[16] \"Brandon Stark\"      \"Brienne of Tarth\"   \"Catelyn Stark\"     \n",
       "[19] \"Cersei Lannister\"   \"Eddard Stark\"       \"Jaime Lannister\"   \n",
       "[22] \"Jon Connington\"     \"Jon Snow\"           \"Aeron Greyjoy\"     \n",
       "[25] \"Kevan Lannister\"    \"Melisandre\"         \"Merrett Frey\"      \n",
       "[28] \"Quentyn Martell\"    \"Samwell Tarly\"      \"Sansa Stark\"       "
      ]
     },
     "metadata": {},
     "output_type": "display_data"
    }
   ],
   "source": [
    "names <- character(length(got_chars))\n",
    "# YOUR CODE HERE\n",
    "# BEGIN SOLUTION NO PROMPT\n",
    "for (i in seq_along(got_chars)) {\n",
    "    names[i] <- got_chars[[i]]$name\n",
    "}\n",
    "# END SOLUTION\n",
    "\n",
    "names"
   ]
  },
  {
   "cell_type": "raw",
   "metadata": {},
   "source": [
    "# END SOLUTION"
   ]
  },
  {
   "cell_type": "raw",
   "metadata": {},
   "source": [
    "# BEGIN TESTS"
   ]
  },
  {
   "cell_type": "code",
   "execution_count": 20,
   "metadata": {},
   "outputs": [],
   "source": [
    "# TESTS\n",
    "expect_true(is.character(names))\n",
    "expect_equal(length(names), 30)\n",
    "expect_false(is.list(names))\n",
    "expect_equal(digest(paste(sort(tolower(names)), collapse = \"\")), '0412318aa56aaeedd35bd633bc98e3db')"
   ]
  },
  {
   "cell_type": "raw",
   "metadata": {},
   "source": [
    "# END TESTS"
   ]
  },
  {
   "cell_type": "raw",
   "metadata": {},
   "source": [
    "# END QUESTION"
   ]
  },
  {
   "cell_type": "raw",
   "metadata": {},
   "source": [
    "# BEGIN QUESTION\n",
    "name: ex8\n",
    "points: 1"
   ]
  },
  {
   "cell_type": "markdown",
   "metadata": {},
   "source": [
    "### Exercise 8\n",
    "rubric={autograde:1}"
   ]
  },
  {
   "cell_type": "markdown",
   "metadata": {},
   "source": [
    "Consider the prototype code for an exercise app you are writing in R. Rearrange the jumbled code below so that 20 repetitions are prescibed if the exercise is lunges, 25 repetitions are prescribed if the exercise is squats, and 15 repetitions are prescibed the exercise is burpees, and 10 repetitions for any other type of exercise. `exercise` shoud point to the value `'burpees'`."
   ]
  },
  {
   "cell_type": "raw",
   "metadata": {},
   "source": [
    "# BEGIN SOLUTION"
   ]
  },
  {
   "cell_type": "code",
   "execution_count": 21,
   "metadata": {},
   "outputs": [
    {
     "name": "stdout",
     "output_type": "stream",
     "text": [
      "[1] 15\n"
     ]
    }
   ],
   "source": [
    "# } else if (exercise == 'burpees') {\n",
    "#     } else {\n",
    "#     reps <- 20\n",
    "# print(reps)\n",
    "#     reps <- 25\n",
    "# exercise <- 'burpees'\n",
    "# } else if (exercise == 'squats') {\n",
    "#     reps <- 15\n",
    "#     reps <- 10\n",
    "# }\n",
    "# if (exercise == 'lunges') {    \n",
    "\n",
    "# REARRANGED CODE HERE\n",
    "# BEGIN SOLUTION NO PROMPT\n",
    "exercise <- 'burpees'\n",
    "if (exercise == 'lunges') {\n",
    "    reps <- 20\n",
    "} else if (exercise == 'squats') {\n",
    "    reps <- 25\n",
    "} else if (exercise == 'burpees') {\n",
    "    reps <- 15\n",
    "} else {\n",
    "    reps <- 10\n",
    "}\n",
    "print(reps)\n",
    "# END SOLUTION"
   ]
  },
  {
   "cell_type": "raw",
   "metadata": {},
   "source": [
    "# END SOLUTION"
   ]
  },
  {
   "cell_type": "raw",
   "metadata": {},
   "source": [
    "# BEGIN TESTS"
   ]
  },
  {
   "cell_type": "code",
   "execution_count": 22,
   "metadata": {},
   "outputs": [],
   "source": [
    "# TESTS\n",
    "expect_equal(exercise, 'burpees')\n",
    "expect_equal(reps, 15)"
   ]
  },
  {
   "cell_type": "raw",
   "metadata": {},
   "source": [
    "# END TESTS"
   ]
  },
  {
   "cell_type": "raw",
   "metadata": {},
   "source": [
    "# END QUESTION"
   ]
  },
  {
   "cell_type": "markdown",
   "metadata": {},
   "source": [
    "Now, perform the number of burpee reps that R printed out for you. Joking of course! ;p "
   ]
  },
  {
   "cell_type": "markdown",
   "metadata": {},
   "source": [
    "Congratulations! You are done the worksheet!!! Pat yourself on the back, and submit your worksheet to Gradescope!"
   ]
  },
  {
   "cell_type": "markdown",
   "metadata": {},
   "source": [
    "> ### Exercise 6 solution\n",
    ">\n",
    ">```\n",
    ">for (line in lyrics) {\n",
    ">    print(line)\n",
    ">}\n",
    ">```"
   ]
  }
 ],
 "metadata": {
  "celltoolbar": "Create Assignment",
  "kernelspec": {
   "display_name": "R",
   "language": "R",
   "name": "ir"
  },
  "language_info": {
   "codemirror_mode": "r",
   "file_extension": ".r",
   "mimetype": "text/x-r-source",
   "name": "R",
   "pygments_lexer": "r",
   "version": "4.2.1"
  }
 },
 "nbformat": 4,
 "nbformat_minor": 4
}
