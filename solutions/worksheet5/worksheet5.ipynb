{
 "cells": [
  {
   "cell_type": "raw",
   "metadata": {},
   "source": [
    "# ASSIGNMENT CONFIG\n",
    "requirements: requirements.R\n",
    "generate:\n",
    "    show_hidden: true\n",
    "    show_stdout: true\n",
    "    channel_priority_strict: false\n",
    "environment: environment.yml\n",
    "files:\n",
    "  - img"
   ]
  },
  {
   "cell_type": "markdown",
   "metadata": {},
   "source": [
    "## Worksheet 5\n",
    "\n",
    "Welcome to worksheet 5! This worksheet was designed to allow you to practice what was covered in the assigned readings & lectures/videos/recordings. The labs problems will be more challenging then those in the worksheet, and the worksheet questions will help prepare you for them. Time will be provided to work on the worksheets in small groups during lecture, however it is not expected that you will complete the worksheet in this time. You are expected to spend some indpendent time working on the worksheet after lecture. \n",
    "\n",
    "**This worksheet due on Sunday at 12pm, and must be submitted as `.ipynb` files to Gradescope.**"
   ]
  },
  {
   "cell_type": "markdown",
   "metadata": {},
   "source": [
    "### Worksheet mechanics\n",
    "\n",
    "- You submit a `.ipynb` version of this homework to Gradescope.\n",
    "- **There is autograding in this lab, so please do not move or rename this file. Also, do not copy and paste cells, if you need to add new cells, create new cells via the \"Insert a cell below\" button instead.**"
   ]
  },
  {
   "cell_type": "markdown",
   "metadata": {},
   "source": [
    "Run the cell below to load the libraries needed for this worksheet, as well as to check your answers as you go!"
   ]
  },
  {
   "cell_type": "code",
   "execution_count": 1,
   "metadata": {},
   "outputs": [
    {
     "name": "stderr",
     "output_type": "stream",
     "text": [
      "── \u001b[1mAttaching packages\u001b[22m ─────────────────────────────────────────────────────────────────────────────────────────────────────────────────────────────────────────── tidyverse 1.3.2 ──\n",
      "\u001b[32m✔\u001b[39m \u001b[34mggplot2\u001b[39m 3.3.6     \u001b[32m✔\u001b[39m \u001b[34mpurrr  \u001b[39m 0.3.4\n",
      "\u001b[32m✔\u001b[39m \u001b[34mtibble \u001b[39m 3.1.8     \u001b[32m✔\u001b[39m \u001b[34mdplyr  \u001b[39m 1.0.9\n",
      "\u001b[32m✔\u001b[39m \u001b[34mtidyr  \u001b[39m 1.2.0     \u001b[32m✔\u001b[39m \u001b[34mstringr\u001b[39m 1.4.1\n",
      "\u001b[32m✔\u001b[39m \u001b[34mreadr  \u001b[39m 2.1.2     \u001b[32m✔\u001b[39m \u001b[34mforcats\u001b[39m 0.5.1\n",
      "── \u001b[1mConflicts\u001b[22m ────────────────────────────────────────────────────────────────────────────────────────────────────────────────────────────────────────────── tidyverse_conflicts() ──\n",
      "\u001b[31m✖\u001b[39m \u001b[34mdplyr\u001b[39m::\u001b[32mfilter()\u001b[39m masks \u001b[34mstats\u001b[39m::filter()\n",
      "\u001b[31m✖\u001b[39m \u001b[34mdplyr\u001b[39m::\u001b[32mlag()\u001b[39m    masks \u001b[34mstats\u001b[39m::lag()\n",
      "\n",
      "Attaching package: ‘testthat’\n",
      "\n",
      "\n",
      "The following object is masked from ‘package:dplyr’:\n",
      "\n",
      "    matches\n",
      "\n",
      "\n",
      "The following object is masked from ‘package:purrr’:\n",
      "\n",
      "    is_null\n",
      "\n",
      "\n",
      "The following objects are masked from ‘package:readr’:\n",
      "\n",
      "    edition_get, local_edition\n",
      "\n",
      "\n",
      "The following object is masked from ‘package:tidyr’:\n",
      "\n",
      "    matches\n",
      "\n",
      "\n"
     ]
    }
   ],
   "source": [
    "library(nycflights13)\n",
    "library(palmerpenguins)\n",
    "library(repurrrsive)\n",
    "library(tidyverse)\n",
    "library(digest)\n",
    "library(testthat)\n",
    "options(repr.matrix.max.rows = 10)"
   ]
  },
  {
   "cell_type": "markdown",
   "metadata": {},
   "source": [
    "### Exercise 1\n",
    "rubric={autograde:1}\n",
    "\n",
    "<img src=\"img/dplyr_case_when.png\" width=500>\n",
    "\n",
    "*Illustration by Allison Horst*"
   ]
  },
  {
   "cell_type": "markdown",
   "metadata": {},
   "source": [
    "Given the data set below, use `mutate` + `case_when` to selectively change the more verbose province names (e.g., \"Alberta\" & \"British Columbia\") to the acronyms (e.g., \"AB\" & \"BC\"). Bind the name `fixed` to the tibble you create."
   ]
  },
  {
   "cell_type": "raw",
   "metadata": {},
   "source": [
    "# BEGIN QUESTION\n",
    "name: ex1\n",
    "points: 1"
   ]
  },
  {
   "cell_type": "raw",
   "metadata": {},
   "source": [
    "# BEGIN SOLUTION"
   ]
  },
  {
   "cell_type": "code",
   "execution_count": 2,
   "metadata": {},
   "outputs": [
    {
     "data": {
      "text/html": [
       "<table class=\"dataframe\">\n",
       "<caption>A tibble: 8 × 2</caption>\n",
       "<thead>\n",
       "\t<tr><th scope=col>province</th><th scope=col>cities</th></tr>\n",
       "\t<tr><th scope=col>&lt;chr&gt;</th><th scope=col>&lt;chr&gt;</th></tr>\n",
       "</thead>\n",
       "<tbody>\n",
       "\t<tr><td>BC</td><td>Victoria  </td></tr>\n",
       "\t<tr><td>AB</td><td>Edmonton  </td></tr>\n",
       "\t<tr><td>SK</td><td>Regina    </td></tr>\n",
       "\t<tr><td>BC</td><td>Vancouver </td></tr>\n",
       "\t<tr><td>AB</td><td>Calgary   </td></tr>\n",
       "\t<tr><td>BC</td><td>Kelowna   </td></tr>\n",
       "\t<tr><td>AB</td><td>Lethbridge</td></tr>\n",
       "\t<tr><td>SK</td><td>Saskatoon </td></tr>\n",
       "</tbody>\n",
       "</table>\n"
      ],
      "text/latex": [
       "A tibble: 8 × 2\n",
       "\\begin{tabular}{ll}\n",
       " province & cities\\\\\n",
       " <chr> & <chr>\\\\\n",
       "\\hline\n",
       "\t BC & Victoria  \\\\\n",
       "\t AB & Edmonton  \\\\\n",
       "\t SK & Regina    \\\\\n",
       "\t BC & Vancouver \\\\\n",
       "\t AB & Calgary   \\\\\n",
       "\t BC & Kelowna   \\\\\n",
       "\t AB & Lethbridge\\\\\n",
       "\t SK & Saskatoon \\\\\n",
       "\\end{tabular}\n"
      ],
      "text/markdown": [
       "\n",
       "A tibble: 8 × 2\n",
       "\n",
       "| province &lt;chr&gt; | cities &lt;chr&gt; |\n",
       "|---|---|\n",
       "| BC | Victoria   |\n",
       "| AB | Edmonton   |\n",
       "| SK | Regina     |\n",
       "| BC | Vancouver  |\n",
       "| AB | Calgary    |\n",
       "| BC | Kelowna    |\n",
       "| AB | Lethbridge |\n",
       "| SK | Saskatoon  |\n",
       "\n"
      ],
      "text/plain": [
       "  province cities    \n",
       "1 BC       Victoria  \n",
       "2 AB       Edmonton  \n",
       "3 SK       Regina    \n",
       "4 BC       Vancouver \n",
       "5 AB       Calgary   \n",
       "6 BC       Kelowna   \n",
       "7 AB       Lethbridge\n",
       "8 SK       Saskatoon "
      ]
     },
     "metadata": {},
     "output_type": "display_data"
    }
   ],
   "source": [
    "fix_me <- tribble(\n",
    "  ~province,             ~cities,\n",
    "  \"BC\",                  \"Victoria\",\n",
    "  \"Alberta\",             \"Edmonton\",\n",
    "  \"SK\",                  \"Regina\",\n",
    "  \"British Columbia\",    \"Vancouver\",\n",
    "  \"Alberta\",             \"Calgary\",\n",
    "  \"BC\",                  \"Kelowna\",\n",
    "  \"AB\",                  \"Lethbridge\",\n",
    "  \"SK\",                  \"Saskatoon\"\n",
    ")\n",
    "\n",
    "fixed <- NULL\n",
    "# BEGIN SOLUTION NO PROMPT\n",
    "fixed <- fix_me %>% \n",
    "    mutate(province = case_when(province == \"Alberta\" ~ \"AB\",\n",
    "                               province == \"British Columbia\" ~ \"BC\",\n",
    "                               TRUE ~ province))\n",
    "# END SOLUTION\n",
    "\n",
    "fixed"
   ]
  },
  {
   "cell_type": "raw",
   "metadata": {},
   "source": [
    "# END SOLUTION"
   ]
  },
  {
   "cell_type": "raw",
   "metadata": {},
   "source": [
    "# BEGIN TESTS"
   ]
  },
  {
   "cell_type": "code",
   "execution_count": 3,
   "metadata": {},
   "outputs": [],
   "source": [
    "# TESTS\n",
    "answer <- fixed\n",
    "expect_true(is.data.frame(answer))\n",
    "expect_equal(nrow(answer), 8)\n",
    "expect_equal(ncol(answer), 2)\n",
    "expect_equal(paste(tolower(sort(colnames(answer))), collapse = \"\"), 'citiesprovince')\n",
    "expect_equal(paste(tolower(sort(unique(answer$province))), collapse = \"\"), 'abbcsk')\n",
    "expect_equal(paste(tolower(sort(unique(answer$cities))), collapse = \"\"), 'calgaryedmontonkelownalethbridgereginasaskatoonvancouvervictoria')"
   ]
  },
  {
   "cell_type": "raw",
   "metadata": {},
   "source": [
    "# END TESTS"
   ]
  },
  {
   "cell_type": "raw",
   "metadata": {},
   "source": [
    "# END QUESTION"
   ]
  },
  {
   "cell_type": "raw",
   "metadata": {},
   "source": [
    "# BEGIN QUESTION\n",
    "name: ex2\n",
    "points: 1"
   ]
  },
  {
   "cell_type": "markdown",
   "metadata": {},
   "source": [
    "### Exercise 2\n",
    "rubric={autograde:1}"
   ]
  },
  {
   "cell_type": "markdown",
   "metadata": {},
   "source": [
    "Use the {tidyr} `drop_na` function to drop the rows in the {palmerpenguins} `penguins` data set that have NA's in the `body_mass_g` column. Bind the name `penguins_less_nas` to tibble you create."
   ]
  },
  {
   "cell_type": "raw",
   "metadata": {},
   "source": [
    "# BEGIN SOLUTION"
   ]
  },
  {
   "cell_type": "code",
   "execution_count": 4,
   "metadata": {},
   "outputs": [
    {
     "data": {
      "text/html": [
       "<table class=\"dataframe\">\n",
       "<caption>A tibble: 342 × 8</caption>\n",
       "<thead>\n",
       "\t<tr><th scope=col>species</th><th scope=col>island</th><th scope=col>bill_length_mm</th><th scope=col>bill_depth_mm</th><th scope=col>flipper_length_mm</th><th scope=col>body_mass_g</th><th scope=col>sex</th><th scope=col>year</th></tr>\n",
       "\t<tr><th scope=col>&lt;fct&gt;</th><th scope=col>&lt;fct&gt;</th><th scope=col>&lt;dbl&gt;</th><th scope=col>&lt;dbl&gt;</th><th scope=col>&lt;int&gt;</th><th scope=col>&lt;int&gt;</th><th scope=col>&lt;fct&gt;</th><th scope=col>&lt;int&gt;</th></tr>\n",
       "</thead>\n",
       "<tbody>\n",
       "\t<tr><td>Adelie</td><td>Torgersen</td><td>39.1</td><td>18.7</td><td>181</td><td>3750</td><td>male  </td><td>2007</td></tr>\n",
       "\t<tr><td>Adelie</td><td>Torgersen</td><td>39.5</td><td>17.4</td><td>186</td><td>3800</td><td>female</td><td>2007</td></tr>\n",
       "\t<tr><td>Adelie</td><td>Torgersen</td><td>40.3</td><td>18.0</td><td>195</td><td>3250</td><td>female</td><td>2007</td></tr>\n",
       "\t<tr><td>Adelie</td><td>Torgersen</td><td>36.7</td><td>19.3</td><td>193</td><td>3450</td><td>female</td><td>2007</td></tr>\n",
       "\t<tr><td>Adelie</td><td>Torgersen</td><td>39.3</td><td>20.6</td><td>190</td><td>3650</td><td>male  </td><td>2007</td></tr>\n",
       "\t<tr><td>⋮</td><td>⋮</td><td>⋮</td><td>⋮</td><td>⋮</td><td>⋮</td><td>⋮</td><td>⋮</td></tr>\n",
       "\t<tr><td>Chinstrap</td><td>Dream</td><td>55.8</td><td>19.8</td><td>207</td><td>4000</td><td>male  </td><td>2009</td></tr>\n",
       "\t<tr><td>Chinstrap</td><td>Dream</td><td>43.5</td><td>18.1</td><td>202</td><td>3400</td><td>female</td><td>2009</td></tr>\n",
       "\t<tr><td>Chinstrap</td><td>Dream</td><td>49.6</td><td>18.2</td><td>193</td><td>3775</td><td>male  </td><td>2009</td></tr>\n",
       "\t<tr><td>Chinstrap</td><td>Dream</td><td>50.8</td><td>19.0</td><td>210</td><td>4100</td><td>male  </td><td>2009</td></tr>\n",
       "\t<tr><td>Chinstrap</td><td>Dream</td><td>50.2</td><td>18.7</td><td>198</td><td>3775</td><td>female</td><td>2009</td></tr>\n",
       "</tbody>\n",
       "</table>\n"
      ],
      "text/latex": [
       "A tibble: 342 × 8\n",
       "\\begin{tabular}{llllllll}\n",
       " species & island & bill\\_length\\_mm & bill\\_depth\\_mm & flipper\\_length\\_mm & body\\_mass\\_g & sex & year\\\\\n",
       " <fct> & <fct> & <dbl> & <dbl> & <int> & <int> & <fct> & <int>\\\\\n",
       "\\hline\n",
       "\t Adelie & Torgersen & 39.1 & 18.7 & 181 & 3750 & male   & 2007\\\\\n",
       "\t Adelie & Torgersen & 39.5 & 17.4 & 186 & 3800 & female & 2007\\\\\n",
       "\t Adelie & Torgersen & 40.3 & 18.0 & 195 & 3250 & female & 2007\\\\\n",
       "\t Adelie & Torgersen & 36.7 & 19.3 & 193 & 3450 & female & 2007\\\\\n",
       "\t Adelie & Torgersen & 39.3 & 20.6 & 190 & 3650 & male   & 2007\\\\\n",
       "\t ⋮ & ⋮ & ⋮ & ⋮ & ⋮ & ⋮ & ⋮ & ⋮\\\\\n",
       "\t Chinstrap & Dream & 55.8 & 19.8 & 207 & 4000 & male   & 2009\\\\\n",
       "\t Chinstrap & Dream & 43.5 & 18.1 & 202 & 3400 & female & 2009\\\\\n",
       "\t Chinstrap & Dream & 49.6 & 18.2 & 193 & 3775 & male   & 2009\\\\\n",
       "\t Chinstrap & Dream & 50.8 & 19.0 & 210 & 4100 & male   & 2009\\\\\n",
       "\t Chinstrap & Dream & 50.2 & 18.7 & 198 & 3775 & female & 2009\\\\\n",
       "\\end{tabular}\n"
      ],
      "text/markdown": [
       "\n",
       "A tibble: 342 × 8\n",
       "\n",
       "| species &lt;fct&gt; | island &lt;fct&gt; | bill_length_mm &lt;dbl&gt; | bill_depth_mm &lt;dbl&gt; | flipper_length_mm &lt;int&gt; | body_mass_g &lt;int&gt; | sex &lt;fct&gt; | year &lt;int&gt; |\n",
       "|---|---|---|---|---|---|---|---|\n",
       "| Adelie | Torgersen | 39.1 | 18.7 | 181 | 3750 | male   | 2007 |\n",
       "| Adelie | Torgersen | 39.5 | 17.4 | 186 | 3800 | female | 2007 |\n",
       "| Adelie | Torgersen | 40.3 | 18.0 | 195 | 3250 | female | 2007 |\n",
       "| Adelie | Torgersen | 36.7 | 19.3 | 193 | 3450 | female | 2007 |\n",
       "| Adelie | Torgersen | 39.3 | 20.6 | 190 | 3650 | male   | 2007 |\n",
       "| ⋮ | ⋮ | ⋮ | ⋮ | ⋮ | ⋮ | ⋮ | ⋮ |\n",
       "| Chinstrap | Dream | 55.8 | 19.8 | 207 | 4000 | male   | 2009 |\n",
       "| Chinstrap | Dream | 43.5 | 18.1 | 202 | 3400 | female | 2009 |\n",
       "| Chinstrap | Dream | 49.6 | 18.2 | 193 | 3775 | male   | 2009 |\n",
       "| Chinstrap | Dream | 50.8 | 19.0 | 210 | 4100 | male   | 2009 |\n",
       "| Chinstrap | Dream | 50.2 | 18.7 | 198 | 3775 | female | 2009 |\n",
       "\n"
      ],
      "text/plain": [
       "    species   island    bill_length_mm bill_depth_mm flipper_length_mm\n",
       "1   Adelie    Torgersen 39.1           18.7          181              \n",
       "2   Adelie    Torgersen 39.5           17.4          186              \n",
       "3   Adelie    Torgersen 40.3           18.0          195              \n",
       "4   Adelie    Torgersen 36.7           19.3          193              \n",
       "5   Adelie    Torgersen 39.3           20.6          190              \n",
       "⋮   ⋮         ⋮         ⋮              ⋮             ⋮                \n",
       "338 Chinstrap Dream     55.8           19.8          207              \n",
       "339 Chinstrap Dream     43.5           18.1          202              \n",
       "340 Chinstrap Dream     49.6           18.2          193              \n",
       "341 Chinstrap Dream     50.8           19.0          210              \n",
       "342 Chinstrap Dream     50.2           18.7          198              \n",
       "    body_mass_g sex    year\n",
       "1   3750        male   2007\n",
       "2   3800        female 2007\n",
       "3   3250        female 2007\n",
       "4   3450        female 2007\n",
       "5   3650        male   2007\n",
       "⋮   ⋮           ⋮      ⋮   \n",
       "338 4000        male   2009\n",
       "339 3400        female 2009\n",
       "340 3775        male   2009\n",
       "341 4100        male   2009\n",
       "342 3775        female 2009"
      ]
     },
     "metadata": {},
     "output_type": "display_data"
    }
   ],
   "source": [
    "penguins_less_nas <- NULL\n",
    "# BEGIN SOLUTION NO PROMPT\n",
    "penguins_less_nas <- penguins %>%\n",
    "    drop_na(body_mass_g)\n",
    "# END SOLUTION\n",
    "\n",
    "penguins_less_nas"
   ]
  },
  {
   "cell_type": "raw",
   "metadata": {},
   "source": [
    "# END SOLUTION"
   ]
  },
  {
   "cell_type": "raw",
   "metadata": {},
   "source": [
    "# BEGIN TESTS"
   ]
  },
  {
   "cell_type": "code",
   "execution_count": 5,
   "metadata": {},
   "outputs": [],
   "source": [
    "# TESTS\n",
    "answer <- penguins_less_nas\n",
    "expect_true(is.data.frame(answer))\n",
    "expect_equal(nrow(answer), 342)\n",
    "expect_equal(ncol(answer), 8)\n",
    "expect_equal(paste(tolower(sort(colnames(answer))), collapse = \"\"), 'bill_depth_mmbill_length_mmbody_mass_gflipper_length_mmislandsexspeciesyear')\n",
    "expect_equal(paste(round(as.numeric(sum(answer$body_mass_g))), collapse = \"\"), '1437000')"
   ]
  },
  {
   "cell_type": "raw",
   "metadata": {},
   "source": [
    "# END TESTS"
   ]
  },
  {
   "cell_type": "raw",
   "metadata": {},
   "source": [
    "# END QUESTION"
   ]
  },
  {
   "cell_type": "raw",
   "metadata": {},
   "source": [
    "# BEGIN QUESTION\n",
    "name: ex3\n",
    "points: 1"
   ]
  },
  {
   "cell_type": "markdown",
   "metadata": {},
   "source": [
    "### Exercise 3\n",
    "rubric={autograde:1}"
   ]
  },
  {
   "cell_type": "markdown",
   "metadata": {},
   "source": [
    "Use the {tidyr} `drop_na` function to drop **all** the rows in the {palmerpenguins} `penguins` data set that have NA's in any column. Bind the name `penguins_no_nas` to tibble you create."
   ]
  },
  {
   "cell_type": "raw",
   "metadata": {},
   "source": [
    "# BEGIN SOLUTION"
   ]
  },
  {
   "cell_type": "code",
   "execution_count": 6,
   "metadata": {},
   "outputs": [
    {
     "data": {
      "text/html": [
       "<table class=\"dataframe\">\n",
       "<caption>A tibble: 333 × 8</caption>\n",
       "<thead>\n",
       "\t<tr><th scope=col>species</th><th scope=col>island</th><th scope=col>bill_length_mm</th><th scope=col>bill_depth_mm</th><th scope=col>flipper_length_mm</th><th scope=col>body_mass_g</th><th scope=col>sex</th><th scope=col>year</th></tr>\n",
       "\t<tr><th scope=col>&lt;fct&gt;</th><th scope=col>&lt;fct&gt;</th><th scope=col>&lt;dbl&gt;</th><th scope=col>&lt;dbl&gt;</th><th scope=col>&lt;int&gt;</th><th scope=col>&lt;int&gt;</th><th scope=col>&lt;fct&gt;</th><th scope=col>&lt;int&gt;</th></tr>\n",
       "</thead>\n",
       "<tbody>\n",
       "\t<tr><td>Adelie</td><td>Torgersen</td><td>39.1</td><td>18.7</td><td>181</td><td>3750</td><td>male  </td><td>2007</td></tr>\n",
       "\t<tr><td>Adelie</td><td>Torgersen</td><td>39.5</td><td>17.4</td><td>186</td><td>3800</td><td>female</td><td>2007</td></tr>\n",
       "\t<tr><td>Adelie</td><td>Torgersen</td><td>40.3</td><td>18.0</td><td>195</td><td>3250</td><td>female</td><td>2007</td></tr>\n",
       "\t<tr><td>Adelie</td><td>Torgersen</td><td>36.7</td><td>19.3</td><td>193</td><td>3450</td><td>female</td><td>2007</td></tr>\n",
       "\t<tr><td>Adelie</td><td>Torgersen</td><td>39.3</td><td>20.6</td><td>190</td><td>3650</td><td>male  </td><td>2007</td></tr>\n",
       "\t<tr><td>⋮</td><td>⋮</td><td>⋮</td><td>⋮</td><td>⋮</td><td>⋮</td><td>⋮</td><td>⋮</td></tr>\n",
       "\t<tr><td>Chinstrap</td><td>Dream</td><td>55.8</td><td>19.8</td><td>207</td><td>4000</td><td>male  </td><td>2009</td></tr>\n",
       "\t<tr><td>Chinstrap</td><td>Dream</td><td>43.5</td><td>18.1</td><td>202</td><td>3400</td><td>female</td><td>2009</td></tr>\n",
       "\t<tr><td>Chinstrap</td><td>Dream</td><td>49.6</td><td>18.2</td><td>193</td><td>3775</td><td>male  </td><td>2009</td></tr>\n",
       "\t<tr><td>Chinstrap</td><td>Dream</td><td>50.8</td><td>19.0</td><td>210</td><td>4100</td><td>male  </td><td>2009</td></tr>\n",
       "\t<tr><td>Chinstrap</td><td>Dream</td><td>50.2</td><td>18.7</td><td>198</td><td>3775</td><td>female</td><td>2009</td></tr>\n",
       "</tbody>\n",
       "</table>\n"
      ],
      "text/latex": [
       "A tibble: 333 × 8\n",
       "\\begin{tabular}{llllllll}\n",
       " species & island & bill\\_length\\_mm & bill\\_depth\\_mm & flipper\\_length\\_mm & body\\_mass\\_g & sex & year\\\\\n",
       " <fct> & <fct> & <dbl> & <dbl> & <int> & <int> & <fct> & <int>\\\\\n",
       "\\hline\n",
       "\t Adelie & Torgersen & 39.1 & 18.7 & 181 & 3750 & male   & 2007\\\\\n",
       "\t Adelie & Torgersen & 39.5 & 17.4 & 186 & 3800 & female & 2007\\\\\n",
       "\t Adelie & Torgersen & 40.3 & 18.0 & 195 & 3250 & female & 2007\\\\\n",
       "\t Adelie & Torgersen & 36.7 & 19.3 & 193 & 3450 & female & 2007\\\\\n",
       "\t Adelie & Torgersen & 39.3 & 20.6 & 190 & 3650 & male   & 2007\\\\\n",
       "\t ⋮ & ⋮ & ⋮ & ⋮ & ⋮ & ⋮ & ⋮ & ⋮\\\\\n",
       "\t Chinstrap & Dream & 55.8 & 19.8 & 207 & 4000 & male   & 2009\\\\\n",
       "\t Chinstrap & Dream & 43.5 & 18.1 & 202 & 3400 & female & 2009\\\\\n",
       "\t Chinstrap & Dream & 49.6 & 18.2 & 193 & 3775 & male   & 2009\\\\\n",
       "\t Chinstrap & Dream & 50.8 & 19.0 & 210 & 4100 & male   & 2009\\\\\n",
       "\t Chinstrap & Dream & 50.2 & 18.7 & 198 & 3775 & female & 2009\\\\\n",
       "\\end{tabular}\n"
      ],
      "text/markdown": [
       "\n",
       "A tibble: 333 × 8\n",
       "\n",
       "| species &lt;fct&gt; | island &lt;fct&gt; | bill_length_mm &lt;dbl&gt; | bill_depth_mm &lt;dbl&gt; | flipper_length_mm &lt;int&gt; | body_mass_g &lt;int&gt; | sex &lt;fct&gt; | year &lt;int&gt; |\n",
       "|---|---|---|---|---|---|---|---|\n",
       "| Adelie | Torgersen | 39.1 | 18.7 | 181 | 3750 | male   | 2007 |\n",
       "| Adelie | Torgersen | 39.5 | 17.4 | 186 | 3800 | female | 2007 |\n",
       "| Adelie | Torgersen | 40.3 | 18.0 | 195 | 3250 | female | 2007 |\n",
       "| Adelie | Torgersen | 36.7 | 19.3 | 193 | 3450 | female | 2007 |\n",
       "| Adelie | Torgersen | 39.3 | 20.6 | 190 | 3650 | male   | 2007 |\n",
       "| ⋮ | ⋮ | ⋮ | ⋮ | ⋮ | ⋮ | ⋮ | ⋮ |\n",
       "| Chinstrap | Dream | 55.8 | 19.8 | 207 | 4000 | male   | 2009 |\n",
       "| Chinstrap | Dream | 43.5 | 18.1 | 202 | 3400 | female | 2009 |\n",
       "| Chinstrap | Dream | 49.6 | 18.2 | 193 | 3775 | male   | 2009 |\n",
       "| Chinstrap | Dream | 50.8 | 19.0 | 210 | 4100 | male   | 2009 |\n",
       "| Chinstrap | Dream | 50.2 | 18.7 | 198 | 3775 | female | 2009 |\n",
       "\n"
      ],
      "text/plain": [
       "    species   island    bill_length_mm bill_depth_mm flipper_length_mm\n",
       "1   Adelie    Torgersen 39.1           18.7          181              \n",
       "2   Adelie    Torgersen 39.5           17.4          186              \n",
       "3   Adelie    Torgersen 40.3           18.0          195              \n",
       "4   Adelie    Torgersen 36.7           19.3          193              \n",
       "5   Adelie    Torgersen 39.3           20.6          190              \n",
       "⋮   ⋮         ⋮         ⋮              ⋮             ⋮                \n",
       "329 Chinstrap Dream     55.8           19.8          207              \n",
       "330 Chinstrap Dream     43.5           18.1          202              \n",
       "331 Chinstrap Dream     49.6           18.2          193              \n",
       "332 Chinstrap Dream     50.8           19.0          210              \n",
       "333 Chinstrap Dream     50.2           18.7          198              \n",
       "    body_mass_g sex    year\n",
       "1   3750        male   2007\n",
       "2   3800        female 2007\n",
       "3   3250        female 2007\n",
       "4   3450        female 2007\n",
       "5   3650        male   2007\n",
       "⋮   ⋮           ⋮      ⋮   \n",
       "329 4000        male   2009\n",
       "330 3400        female 2009\n",
       "331 3775        male   2009\n",
       "332 4100        male   2009\n",
       "333 3775        female 2009"
      ]
     },
     "metadata": {},
     "output_type": "display_data"
    }
   ],
   "source": [
    "penguins_no_nas <- NULL\n",
    "# BEGIN SOLUTION NO PROMPT\n",
    "penguins_no_nas <- penguins %>%\n",
    "    drop_na()\n",
    "# END SOLUTION\n",
    "\n",
    "penguins_no_nas"
   ]
  },
  {
   "cell_type": "raw",
   "metadata": {},
   "source": [
    "# END SOLUTION"
   ]
  },
  {
   "cell_type": "raw",
   "metadata": {},
   "source": [
    "# BEGIN TESTS"
   ]
  },
  {
   "cell_type": "code",
   "execution_count": 7,
   "metadata": {},
   "outputs": [],
   "source": [
    "# TESTS\n",
    "answer <- penguins_no_nas\n",
    "expect_true(is.data.frame(answer))\n",
    "expect_equal(nrow(answer), 333)\n",
    "expect_equal(ncol(answer), 8)\n",
    "expect_equal(paste(tolower(sort(colnames(answer))), collapse = \"\"), 'bill_depth_mmbill_length_mmbody_mass_gflipper_length_mmislandsexspeciesyear')\n",
    "expect_equal(paste(round(as.numeric(sum(answer$body_mass_g))), collapse = \"\"), '1400950')"
   ]
  },
  {
   "cell_type": "raw",
   "metadata": {},
   "source": [
    "# END TESTS"
   ]
  },
  {
   "cell_type": "raw",
   "metadata": {},
   "source": [
    "# END QUESTION"
   ]
  },
  {
   "cell_type": "raw",
   "metadata": {},
   "source": [
    "# BEGIN QUESTION\n",
    "name: ex4\n",
    "points: 1"
   ]
  },
  {
   "cell_type": "markdown",
   "metadata": {},
   "source": [
    "### Exercise 4\n",
    "rubric={autograde:1}\n",
    "\n",
    "<img src=\"img/group_by_ungroup.png\" width=400>\n",
    "\n",
    "*Illustration by Allison Horst*"
   ]
  },
  {
   "cell_type": "markdown",
   "metadata": {},
   "source": [
    "Working with the {nycflights13} `planes` data set, calculate the average number of seats for planes of each engine type. Also count the number of planes for each engine type. Return the results together in one tibble, and name the columns `avg_seats` and `planes`. Bind the name `engine_summary` to this tibble.\n",
    "\n",
    "*Hint: the {dply} function `n()` (with no arguements) will be useful to count the number of planes for each engine type."
   ]
  },
  {
   "cell_type": "raw",
   "metadata": {},
   "source": [
    "# BEGIN SOLUTION"
   ]
  },
  {
   "cell_type": "code",
   "execution_count": 8,
   "metadata": {},
   "outputs": [
    {
     "data": {
      "text/html": [
       "<table class=\"dataframe\">\n",
       "<caption>A tibble: 6 × 3</caption>\n",
       "<thead>\n",
       "\t<tr><th scope=col>engine</th><th scope=col>avg_seats</th><th scope=col>planes</th></tr>\n",
       "\t<tr><th scope=col>&lt;chr&gt;</th><th scope=col>&lt;dbl&gt;</th><th scope=col>&lt;int&gt;</th></tr>\n",
       "</thead>\n",
       "<tbody>\n",
       "\t<tr><td>4 Cycle      </td><td>  3.000000</td><td>   2</td></tr>\n",
       "\t<tr><td>Reciprocating</td><td>  7.785714</td><td>  28</td></tr>\n",
       "\t<tr><td>Turbo-fan    </td><td>150.013091</td><td>2750</td></tr>\n",
       "\t<tr><td>Turbo-jet    </td><td>186.573832</td><td> 535</td></tr>\n",
       "\t<tr><td>Turbo-prop   </td><td>  9.500000</td><td>   2</td></tr>\n",
       "\t<tr><td>Turbo-shaft  </td><td>  8.600000</td><td>   5</td></tr>\n",
       "</tbody>\n",
       "</table>\n"
      ],
      "text/latex": [
       "A tibble: 6 × 3\n",
       "\\begin{tabular}{lll}\n",
       " engine & avg\\_seats & planes\\\\\n",
       " <chr> & <dbl> & <int>\\\\\n",
       "\\hline\n",
       "\t 4 Cycle       &   3.000000 &    2\\\\\n",
       "\t Reciprocating &   7.785714 &   28\\\\\n",
       "\t Turbo-fan     & 150.013091 & 2750\\\\\n",
       "\t Turbo-jet     & 186.573832 &  535\\\\\n",
       "\t Turbo-prop    &   9.500000 &    2\\\\\n",
       "\t Turbo-shaft   &   8.600000 &    5\\\\\n",
       "\\end{tabular}\n"
      ],
      "text/markdown": [
       "\n",
       "A tibble: 6 × 3\n",
       "\n",
       "| engine &lt;chr&gt; | avg_seats &lt;dbl&gt; | planes &lt;int&gt; |\n",
       "|---|---|---|\n",
       "| 4 Cycle       |   3.000000 |    2 |\n",
       "| Reciprocating |   7.785714 |   28 |\n",
       "| Turbo-fan     | 150.013091 | 2750 |\n",
       "| Turbo-jet     | 186.573832 |  535 |\n",
       "| Turbo-prop    |   9.500000 |    2 |\n",
       "| Turbo-shaft   |   8.600000 |    5 |\n",
       "\n"
      ],
      "text/plain": [
       "  engine        avg_seats  planes\n",
       "1 4 Cycle         3.000000    2  \n",
       "2 Reciprocating   7.785714   28  \n",
       "3 Turbo-fan     150.013091 2750  \n",
       "4 Turbo-jet     186.573832  535  \n",
       "5 Turbo-prop      9.500000    2  \n",
       "6 Turbo-shaft     8.600000    5  "
      ]
     },
     "metadata": {},
     "output_type": "display_data"
    }
   ],
   "source": [
    "engine_summary <- NULL\n",
    "# BEGIN SOLUTION NO PROMPT\n",
    "engine_summary <- planes %>%\n",
    "  group_by(engine) %>% \n",
    "  summarise(avg_seats = mean(seats),\n",
    "            planes = n())\n",
    "# END SOLUTION\n",
    "\n",
    "engine_summary"
   ]
  },
  {
   "cell_type": "raw",
   "metadata": {},
   "source": [
    "# END SOLUTION"
   ]
  },
  {
   "cell_type": "raw",
   "metadata": {},
   "source": [
    "# BEGIN TESTS"
   ]
  },
  {
   "cell_type": "code",
   "execution_count": 9,
   "metadata": {},
   "outputs": [],
   "source": [
    "# TESTS\n",
    "answer <- engine_summary\n",
    "expect_true(is.data.frame(answer))\n",
    "expect_equal(nrow(answer), 6)\n",
    "expect_equal(ncol(answer), 3)\n",
    "expect_equal(paste(tolower(sort(colnames(answer))), collapse = \"\"), 'avg_seatsengineplanes')\n",
    "expect_equal(round(as.numeric(sum(answer$avg_seats))), 365)\n",
    "expect_equal(round(as.numeric(sum(answer$planes))), 3322)"
   ]
  },
  {
   "cell_type": "raw",
   "metadata": {},
   "source": [
    "# END TESTS"
   ]
  },
  {
   "cell_type": "raw",
   "metadata": {},
   "source": [
    "# END QUESTION"
   ]
  },
  {
   "cell_type": "raw",
   "metadata": {},
   "source": [
    "# BEGIN QUESTION\n",
    "name: ex5\n",
    "points: 0\n",
    "manual: true"
   ]
  },
  {
   "cell_type": "markdown",
   "metadata": {},
   "source": [
    "### Exercise 5 (Optional - not graded)\n",
    "\n",
    "*Solution posted at end of worksheet.*"
   ]
  },
  {
   "cell_type": "markdown",
   "metadata": {},
   "source": [
    "Calculate the mean body mass for each sex of the Gentoo penguins species in the {palmerpenguins} `penguins` data set. Name the columns you create `mean_body_mass_g` and `mean_flipper_length_mm`.  Bind the name `gentoo_sex_size` to the tibble you create.\n",
    "\n",
    "*Hint: return only the data for female and male penguins, you may need to use `drop_na` to do this.*"
   ]
  },
  {
   "cell_type": "raw",
   "metadata": {},
   "source": [
    "# BEGIN SOLUTION"
   ]
  },
  {
   "cell_type": "code",
   "execution_count": 10,
   "metadata": {},
   "outputs": [
    {
     "data": {
      "text/html": [
       "<table class=\"dataframe\">\n",
       "<caption>A tibble: 2 × 3</caption>\n",
       "<thead>\n",
       "\t<tr><th scope=col>sex</th><th scope=col>mean_body_mass_g</th><th scope=col>mean_flipper_length_mm</th></tr>\n",
       "\t<tr><th scope=col>&lt;fct&gt;</th><th scope=col>&lt;dbl&gt;</th><th scope=col>&lt;dbl&gt;</th></tr>\n",
       "</thead>\n",
       "<tbody>\n",
       "\t<tr><td>female</td><td>4679.741</td><td>212.7069</td></tr>\n",
       "\t<tr><td>male  </td><td>5484.836</td><td>221.5410</td></tr>\n",
       "</tbody>\n",
       "</table>\n"
      ],
      "text/latex": [
       "A tibble: 2 × 3\n",
       "\\begin{tabular}{lll}\n",
       " sex & mean\\_body\\_mass\\_g & mean\\_flipper\\_length\\_mm\\\\\n",
       " <fct> & <dbl> & <dbl>\\\\\n",
       "\\hline\n",
       "\t female & 4679.741 & 212.7069\\\\\n",
       "\t male   & 5484.836 & 221.5410\\\\\n",
       "\\end{tabular}\n"
      ],
      "text/markdown": [
       "\n",
       "A tibble: 2 × 3\n",
       "\n",
       "| sex &lt;fct&gt; | mean_body_mass_g &lt;dbl&gt; | mean_flipper_length_mm &lt;dbl&gt; |\n",
       "|---|---|---|\n",
       "| female | 4679.741 | 212.7069 |\n",
       "| male   | 5484.836 | 221.5410 |\n",
       "\n"
      ],
      "text/plain": [
       "  sex    mean_body_mass_g mean_flipper_length_mm\n",
       "1 female 4679.741         212.7069              \n",
       "2 male   5484.836         221.5410              "
      ]
     },
     "metadata": {},
     "output_type": "display_data"
    }
   ],
   "source": [
    "gentoo_sex_size <- NULL\n",
    "# BEGIN SOLUTION NO PROMPT\n",
    "gentoo_sex_size <- penguins %>% \n",
    "    filter(species == \"Gentoo\") %>%\n",
    "    drop_na(sex) %>%\n",
    "    group_by(sex) %>%\n",
    "    summarise(mean_body_mass_g = mean(body_mass_g, na.rm = TRUE),\n",
    "             mean_flipper_length_mm = mean(flipper_length_mm, na.rm = TRUE))\n",
    "# END SOLUTION\n",
    "\n",
    "gentoo_sex_size"
   ]
  },
  {
   "cell_type": "raw",
   "metadata": {},
   "source": [
    "# END SOLUTION"
   ]
  },
  {
   "cell_type": "raw",
   "metadata": {},
   "source": [
    "# BEGIN TESTS"
   ]
  },
  {
   "cell_type": "code",
   "execution_count": 11,
   "metadata": {},
   "outputs": [],
   "source": [
    "# TESTS\n",
    "answer <- gentoo_sex_size\n",
    "expect_true(is.data.frame(answer))\n",
    "expect_equal(nrow(answer), 2)\n",
    "expect_equal(ncol(answer), 3)\n",
    "expect_equal(paste(tolower(sort(colnames(answer))), collapse = \"\"), 'mean_body_mass_gmean_flipper_length_mmsex')\n",
    "expect_equal(round(as.numeric(sum(answer$mean_body_mass_g))), 10165)\n",
    "expect_equal(round(as.numeric(sum(answer$mean_flipper_length_mm))), 434)"
   ]
  },
  {
   "cell_type": "raw",
   "metadata": {},
   "source": [
    "# END TESTS"
   ]
  },
  {
   "cell_type": "raw",
   "metadata": {},
   "source": [
    "# END QUESTION"
   ]
  },
  {
   "cell_type": "raw",
   "metadata": {},
   "source": [
    "# BEGIN QUESTION\n",
    "name: ex6\n",
    "points: 1"
   ]
  },
  {
   "cell_type": "markdown",
   "metadata": {},
   "source": [
    "### Exercise 6\n",
    "rubric={autograde:1}\n",
    "\n",
    "<img src=\"img/purrr_cat.png\" width=300>\n",
    "\n",
    "*Illustration by Allison Horst*\n",
    "\n",
    "Re-write the for loop in base R code shown below (which calculates the standard deviation for the chemical columns in the `Pottery.csv` data set located at https://vincentarelbundock.github.io/Rdatasets/csv/carData/Pottery.csv) using an {purrr} `map_*` function such that you get equal output values, but so that the `map_*` function returns a data frame instead of a vector. Bind the name `pottery_sd_purrr` to the tibble you create.\n",
    "\n",
    "This data set contains measurements of chemicals found in ancient pottery from four locations in Great Britain.\n",
    "\n",
    "*Data set source: Hand, D. J., Daly, F., Lunn, A. D., McConway, K. J., and E., O. (1994) A Handbook of Small Data Sets. Chapman and Hall.*"
   ]
  },
  {
   "cell_type": "raw",
   "metadata": {},
   "source": [
    "# BEGIN SOLUTION"
   ]
  },
  {
   "cell_type": "code",
   "execution_count": 12,
   "metadata": {},
   "outputs": [
    {
     "name": "stderr",
     "output_type": "stream",
     "text": [
      "\u001b[1m\u001b[22mNew names:\n",
      "\u001b[36m•\u001b[39m `` -> `...1`\n",
      "\u001b[1mRows: \u001b[22m\u001b[34m26\u001b[39m \u001b[1mColumns: \u001b[22m\u001b[34m7\u001b[39m\n",
      "\u001b[36m──\u001b[39m \u001b[1mColumn specification\u001b[22m \u001b[36m────────────────────────────────────────────────────────────────────────────────────────────────────────────────────────────────────────────────────────────\u001b[39m\n",
      "\u001b[1mDelimiter:\u001b[22m \",\"\n",
      "\u001b[31mchr\u001b[39m (1): Site\n",
      "\u001b[32mdbl\u001b[39m (6): ...1, Al, Fe, Mg, Ca, Na\n",
      "\n",
      "\u001b[36mℹ\u001b[39m Use `spec()` to retrieve the full column specification for this data.\n",
      "\u001b[36mℹ\u001b[39m Specify the column types or set `show_col_types = FALSE` to quiet this message.\n"
     ]
    },
    {
     "data": {
      "text/html": [
       "<style>\n",
       ".list-inline {list-style: none; margin:0; padding: 0}\n",
       ".list-inline>li {display: inline-block}\n",
       ".list-inline>li:not(:last-child)::after {content: \"\\00b7\"; padding: 0 .5ex}\n",
       "</style>\n",
       "<ol class=list-inline><li>2.99264740013562</li><li>2.40975070526776</li><li>2.17972602371526</li><li>0.10123012625468</li><li>0.13528317878265</li></ol>\n"
      ],
      "text/latex": [
       "\\begin{enumerate*}\n",
       "\\item 2.99264740013562\n",
       "\\item 2.40975070526776\n",
       "\\item 2.17972602371526\n",
       "\\item 0.10123012625468\n",
       "\\item 0.13528317878265\n",
       "\\end{enumerate*}\n"
      ],
      "text/markdown": [
       "1. 2.99264740013562\n",
       "2. 2.40975070526776\n",
       "3. 2.17972602371526\n",
       "4. 0.10123012625468\n",
       "5. 0.13528317878265\n",
       "\n",
       "\n"
      ],
      "text/plain": [
       "[1] 2.9926474 2.4097507 2.1797260 0.1012301 0.1352832"
      ]
     },
     "metadata": {},
     "output_type": "display_data"
    },
    {
     "data": {
      "text/html": [
       "<table class=\"dataframe\">\n",
       "<caption>A tibble: 1 × 5</caption>\n",
       "<thead>\n",
       "\t<tr><th scope=col>Al</th><th scope=col>Fe</th><th scope=col>Mg</th><th scope=col>Ca</th><th scope=col>Na</th></tr>\n",
       "\t<tr><th scope=col>&lt;dbl&gt;</th><th scope=col>&lt;dbl&gt;</th><th scope=col>&lt;dbl&gt;</th><th scope=col>&lt;dbl&gt;</th><th scope=col>&lt;dbl&gt;</th></tr>\n",
       "</thead>\n",
       "<tbody>\n",
       "\t<tr><td>2.992647</td><td>2.409751</td><td>2.179726</td><td>0.1012301</td><td>0.1352832</td></tr>\n",
       "</tbody>\n",
       "</table>\n"
      ],
      "text/latex": [
       "A tibble: 1 × 5\n",
       "\\begin{tabular}{lllll}\n",
       " Al & Fe & Mg & Ca & Na\\\\\n",
       " <dbl> & <dbl> & <dbl> & <dbl> & <dbl>\\\\\n",
       "\\hline\n",
       "\t 2.992647 & 2.409751 & 2.179726 & 0.1012301 & 0.1352832\\\\\n",
       "\\end{tabular}\n"
      ],
      "text/markdown": [
       "\n",
       "A tibble: 1 × 5\n",
       "\n",
       "| Al &lt;dbl&gt; | Fe &lt;dbl&gt; | Mg &lt;dbl&gt; | Ca &lt;dbl&gt; | Na &lt;dbl&gt; |\n",
       "|---|---|---|---|---|\n",
       "| 2.992647 | 2.409751 | 2.179726 | 0.1012301 | 0.1352832 |\n",
       "\n"
      ],
      "text/plain": [
       "  Al       Fe       Mg       Ca        Na       \n",
       "1 2.992647 2.409751 2.179726 0.1012301 0.1352832"
      ]
     },
     "metadata": {},
     "output_type": "display_data"
    }
   ],
   "source": [
    "# read in data and subset chemical columns\n",
    "pottery <- read_csv(\"https://vincentarelbundock.github.io/Rdatasets/csv/carData/Pottery.csv\") %>%\n",
    "    select(Al:Na)\n",
    "\n",
    "# calculate standard deviation for each column using a for loop\n",
    "pottery_sd_loop <- vector(\"double\", ncol(pottery))\n",
    "for (i in seq_along(pottery)) {\n",
    "    pottery_sd_loop[i] <- sd(pottery[[i]])\n",
    "}\n",
    "pottery_sd_loop\n",
    "\n",
    "pottery_sd_purrr <- NULL\n",
    "# BEGIN SOLUTION NO PROMPT\n",
    "pottery_sd_purrr <- map_df(pottery, sd)\n",
    "# END SOLUTION\n",
    "\n",
    "pottery_sd_purrr "
   ]
  },
  {
   "cell_type": "raw",
   "metadata": {},
   "source": [
    "# END SOLUTION"
   ]
  },
  {
   "cell_type": "raw",
   "metadata": {},
   "source": [
    "# BEGIN TESTS"
   ]
  },
  {
   "cell_type": "code",
   "execution_count": 13,
   "metadata": {},
   "outputs": [],
   "source": [
    "# TESTS\n",
    "answer <- pottery_sd_purrr\n",
    "expect_true(is.data.frame(answer))\n",
    "expect_equal(nrow(answer), 1)\n",
    "expect_equal(ncol(answer), 5)\n",
    "expect_equal(paste(tolower(sort(colnames(answer))), collapse = \"\"), 'alcafemgna')\n",
    "expect_equal(round(as.numeric(sum(answer$Al))), 3)\n",
    "expect_equal(round(as.numeric(sum(answer$Fe))), 2)"
   ]
  },
  {
   "cell_type": "raw",
   "metadata": {},
   "source": [
    "# END TESTS"
   ]
  },
  {
   "cell_type": "raw",
   "metadata": {},
   "source": [
    "# END QUESTION"
   ]
  },
  {
   "cell_type": "markdown",
   "metadata": {},
   "source": [
    "Congratulations! You are done the worksheet!!! Pat yourself on the back, and submit your worksheet to Gradescope!"
   ]
  },
  {
   "cell_type": "markdown",
   "metadata": {},
   "source": [
    "> ###  Exercise 5 Solution\n",
    "\n",
    "\n",
    "```\n",
    "gentoo_sex_size <- penguins %>% \n",
    "    filter(species == \"Gentoo\") %>%\n",
    "    drop_na(sex) %>%\n",
    "    group_by(sex) %>%\n",
    "    summarise(mean_body_mass_g = mean(body_mass_g, na.rm = TRUE),\n",
    "             mean_flipper_length_mm = mean(flipper_length_mm, na.rm = TRUE))\n",
    "```"
   ]
  }
 ],
 "metadata": {
  "celltoolbar": "Create Assignment",
  "kernelspec": {
   "display_name": "R",
   "language": "R",
   "name": "ir"
  },
  "language_info": {
   "codemirror_mode": "r",
   "file_extension": ".r",
   "mimetype": "text/x-r-source",
   "name": "R",
   "pygments_lexer": "r",
   "version": "4.2.1"
  }
 },
 "nbformat": 4,
 "nbformat_minor": 4
}
