{
 "cells": [
  {
   "cell_type": "raw",
   "metadata": {},
   "source": [
    "# ASSIGNMENT CONFIG\n",
    "requirements: requirements.R\n",
    "generate:\n",
    "    show_hidden: true\n",
    "    show_stdout: true\n",
    "    channel_priority_strict: false\n",
    "environment: environment.yml\n",
    "files:\n",
    "  - img"
   ]
  },
  {
   "cell_type": "markdown",
   "metadata": {},
   "source": [
    "## Worksheet 2\n",
    "\n",
    "Welcome to worksheet 2! This worksheet was designed to allow you to practice what was covered in the assigned readings & lectures/videos/recordings. The labs problems will be more challenging then those in the worksheet, and the worksheet questions will help prepare you for them. Time will be provided to work on the worksheets in small groups during lecture, however it is not expected that you will complete the worksheet in this time. You are expected to spend some indpendent time working on the worksheet after lecture. \n",
    "\n",
    "**Worksheets are due on Saturdays at 6 pm, and must be submitted as `.ipynb` file OR the `zip` file generated at the last step (under Submission heading) in this worksheet/lab to Gradescope.**"
   ]
  },
  {
   "cell_type": "markdown",
   "metadata": {},
   "source": [
    "### Getting your homework (i.e., worksheet and lab repositories) from GitHub.ubc.ca onto your computer:\n",
    "\n",
    "Watch the video titled \"Downloading the lab assignment from GitHub to JupyterLab\" from DSCI 521, accessible [here](https://pages.github.ubc.ca/MDS-2022-23/DSCI_521_platforms-dsci_students/materials/appendices/submit-assignment.html)."
   ]
  },
  {
   "cell_type": "markdown",
   "metadata": {},
   "source": [
    "### Worksheet mechanics\n",
    "\n",
    "- **There is autograding in this lab, so please do not move or rename this file. Also, do not copy and paste cells, if you need to add new cells, create new cells via the \"Insert a cell below\" button instead.**"
   ]
  },
  {
   "cell_type": "markdown",
   "metadata": {},
   "source": [
    "Run the cell below to load the libraries needed for this worksheet, and to check your answers as you go!"
   ]
  },
  {
   "cell_type": "code",
   "execution_count": 63,
   "metadata": {},
   "outputs": [],
   "source": [
    "library(testthat)\n",
    "library(digest)\n",
    "options(repr.matrix.max.rows = 10)"
   ]
  },
  {
   "cell_type": "markdown",
   "metadata": {},
   "source": [
    "## 1. The operators and key datatypes for Data Science in R"
   ]
  },
  {
   "cell_type": "raw",
   "metadata": {},
   "source": [
    "# BEGIN QUESTION\n",
    "name: ex1\n",
    "points: 1"
   ]
  },
  {
   "cell_type": "markdown",
   "metadata": {},
   "source": [
    "### Exercise 1\n",
    "rubric={autograde:1}\n",
    "\n",
    "In R, all elements of vectors and lists must have the same type. True or false?\n",
    "\n",
    "Create an object with a valid logical value corresponding to whether you believe the answer to the question above is `TRUE` or `FALSE`. Bind the name `answer1` to this object."
   ]
  },
  {
   "cell_type": "raw",
   "metadata": {},
   "source": [
    "# BEGIN SOLUTION"
   ]
  },
  {
   "cell_type": "code",
   "execution_count": 64,
   "metadata": {},
   "outputs": [
    {
     "data": {
      "text/html": [
       "FALSE"
      ],
      "text/latex": [
       "FALSE"
      ],
      "text/markdown": [
       "FALSE"
      ],
      "text/plain": [
       "[1] FALSE"
      ]
     },
     "metadata": {},
     "output_type": "display_data"
    }
   ],
   "source": [
    "answer1 <- NULL\n",
    "# BEGIN SOLUTION NO PROMPT\n",
    "answer1 <- FALSE\n",
    "# END SOLUTION\n",
    "\n",
    "answer1"
   ]
  },
  {
   "cell_type": "raw",
   "metadata": {},
   "source": [
    "# END SOLUTION"
   ]
  },
  {
   "cell_type": "raw",
   "metadata": {},
   "source": [
    "# BEGIN TESTS"
   ]
  },
  {
   "cell_type": "code",
   "execution_count": 65,
   "metadata": {},
   "outputs": [],
   "source": [
    "# TESTS\n",
    "expect_true(is.logical(answer1))\n",
    "expect_equal(digest(answer1 + 13), '709a7faa72cb6f3be79d683e234ccb25')"
   ]
  },
  {
   "cell_type": "raw",
   "metadata": {},
   "source": [
    "# END TESTS"
   ]
  },
  {
   "cell_type": "raw",
   "metadata": {},
   "source": [
    "# END QUESTION"
   ]
  },
  {
   "cell_type": "raw",
   "metadata": {},
   "source": [
    "# BEGIN QUESTION\n",
    "name: ex2\n",
    "points: 1"
   ]
  },
  {
   "cell_type": "markdown",
   "metadata": {},
   "source": [
    "### Exercise 2\n",
    "rubric={autograde:1}\n",
    "\n",
    "Create a vector containing the names of the types of the four most common types of vectors. Bind the name `answer2` to this object."
   ]
  },
  {
   "cell_type": "raw",
   "metadata": {},
   "source": [
    "# BEGIN SOLUTION"
   ]
  },
  {
   "cell_type": "code",
   "execution_count": 66,
   "metadata": {},
   "outputs": [
    {
     "data": {
      "text/html": [
       "<style>\n",
       ".list-inline {list-style: none; margin:0; padding: 0}\n",
       ".list-inline>li {display: inline-block}\n",
       ".list-inline>li:not(:last-child)::after {content: \"\\00b7\"; padding: 0 .5ex}\n",
       "</style>\n",
       "<ol class=list-inline><li>'character'</li><li>'double'</li><li>'integer'</li><li>'logical'</li></ol>\n"
      ],
      "text/latex": [
       "\\begin{enumerate*}\n",
       "\\item 'character'\n",
       "\\item 'double'\n",
       "\\item 'integer'\n",
       "\\item 'logical'\n",
       "\\end{enumerate*}\n"
      ],
      "text/markdown": [
       "1. 'character'\n",
       "2. 'double'\n",
       "3. 'integer'\n",
       "4. 'logical'\n",
       "\n",
       "\n"
      ],
      "text/plain": [
       "[1] \"character\" \"double\"    \"integer\"   \"logical\"  "
      ]
     },
     "metadata": {},
     "output_type": "display_data"
    }
   ],
   "source": [
    "answer2 <- NULL\n",
    "# BEGIN SOLUTION NO PROMPT\n",
    "answer2 <- c(\"character\", \"double\", \"integer\", \"logical\")\n",
    "# END SOLUTION\n",
    "\n",
    "answer2"
   ]
  },
  {
   "cell_type": "raw",
   "metadata": {},
   "source": [
    "# END SOLUTION"
   ]
  },
  {
   "cell_type": "raw",
   "metadata": {},
   "source": [
    "# BEGIN TESTS"
   ]
  },
  {
   "cell_type": "code",
   "execution_count": 67,
   "metadata": {},
   "outputs": [],
   "source": [
    "# TESTS\n",
    "expect_true(is.character(answer2))\n",
    "expect_equal(length(answer2), 4)\n",
    "expect_equal(digest(paste(tolower(sort(answer2)), collapse=\"\")), 'c74b4d11b8d68d188749e3a83e1266c8')"
   ]
  },
  {
   "cell_type": "raw",
   "metadata": {},
   "source": [
    "# END TESTS"
   ]
  },
  {
   "cell_type": "raw",
   "metadata": {},
   "source": [
    "# END QUESTION"
   ]
  },
  {
   "cell_type": "raw",
   "metadata": {},
   "source": [
    "# BEGIN QUESTION\n",
    "name: ex3\n",
    "points: 1"
   ]
  },
  {
   "cell_type": "markdown",
   "metadata": {},
   "source": [
    "### Exercise 3\n",
    "rubric={autograde:1}\n",
    "\n",
    "What type are the following mixed vectors coerced to? \n",
    "\n",
    "<img src=\"img/vec_a-c.png\" width=600 align=\"left\">"
   ]
  },
  {
   "cell_type": "markdown",
   "metadata": {},
   "source": [
    "To answer this question make three objects, each containing the character value for the name of the type the vector is coherced to. Bind the names `vect_a_type`, `vec_b_type` and `vec_c_type` to these objects."
   ]
  },
  {
   "cell_type": "raw",
   "metadata": {},
   "source": [
    "# BEGIN SOLUTION"
   ]
  },
  {
   "cell_type": "code",
   "execution_count": 68,
   "metadata": {},
   "outputs": [
    {
     "data": {
      "text/html": [
       "'double'"
      ],
      "text/latex": [
       "'double'"
      ],
      "text/markdown": [
       "'double'"
      ],
      "text/plain": [
       "[1] \"double\""
      ]
     },
     "metadata": {},
     "output_type": "display_data"
    },
    {
     "data": {
      "text/html": [
       "'character'"
      ],
      "text/latex": [
       "'character'"
      ],
      "text/markdown": [
       "'character'"
      ],
      "text/plain": [
       "[1] \"character\""
      ]
     },
     "metadata": {},
     "output_type": "display_data"
    },
    {
     "data": {
      "text/html": [
       "'character'"
      ],
      "text/latex": [
       "'character'"
      ],
      "text/markdown": [
       "'character'"
      ],
      "text/plain": [
       "[1] \"character\""
      ]
     },
     "metadata": {},
     "output_type": "display_data"
    }
   ],
   "source": [
    "vect_a_type <- NULL\n",
    "vect_b_type <- NULL\n",
    "vect_c_type <- NULL\n",
    "# BEGIN SOLUTION NO PROMPT\n",
    "vect_a_type <- 'double'\n",
    "vect_b_type <- 'character'\n",
    "vect_c_type <- 'character'\n",
    "# END SOLUTION\n",
    "\n",
    "vect_a_type\n",
    "vect_b_type\n",
    "vect_c_type"
   ]
  },
  {
   "cell_type": "raw",
   "metadata": {},
   "source": [
    "# END SOLUTION"
   ]
  },
  {
   "cell_type": "raw",
   "metadata": {},
   "source": [
    "# BEGIN TESTS"
   ]
  },
  {
   "cell_type": "code",
   "execution_count": 69,
   "metadata": {},
   "outputs": [],
   "source": [
    "# TESTS\n",
    "expect_true(is.character(vect_a_type))\n",
    "expect_equal(length(vect_a_type), 1)\n",
    "expect_true(is.character(vect_b_type))\n",
    "expect_equal(length(vect_b_type), 1)\n",
    "expect_true(is.character(vect_c_type))\n",
    "expect_equal(length(vect_c_type), 1)\n",
    "expect_equal(digest(vect_a_type), '8fafbeb771f728e2d591608d61232af5')\n",
    "expect_equal(digest(vect_b_type), 'af31d61b8795057ce1ce2e040685107c')\n",
    "expect_equal(digest(vect_c_type), 'af31d61b8795057ce1ce2e040685107c')"
   ]
  },
  {
   "cell_type": "raw",
   "metadata": {},
   "source": [
    "# END TESTS"
   ]
  },
  {
   "cell_type": "raw",
   "metadata": {},
   "source": [
    "# END QUESTION"
   ]
  },
  {
   "cell_type": "raw",
   "metadata": {},
   "source": [
    "# BEGIN QUESTION\n",
    "name: ex4\n",
    "points: 1"
   ]
  },
  {
   "cell_type": "markdown",
   "metadata": {},
   "source": [
    "### Exercise 4\n",
    "rubric={autograde:1}\n",
    "\n",
    "Create vector containing the following values: 2.2, 15.0,  3.5, 4.0, 30.0 (in the order we list them) and bind the name `values` to it. *__Hint__: The columns function, `c()`, is helpful for constructing vectors.*"
   ]
  },
  {
   "cell_type": "raw",
   "metadata": {},
   "source": [
    "# BEGIN SOLUTION"
   ]
  },
  {
   "cell_type": "code",
   "execution_count": 70,
   "metadata": {},
   "outputs": [
    {
     "data": {
      "text/html": [
       "<style>\n",
       ".list-inline {list-style: none; margin:0; padding: 0}\n",
       ".list-inline>li {display: inline-block}\n",
       ".list-inline>li:not(:last-child)::after {content: \"\\00b7\"; padding: 0 .5ex}\n",
       "</style>\n",
       "<ol class=list-inline><li>2.2</li><li>15</li><li>3.5</li><li>4</li><li>30</li></ol>\n"
      ],
      "text/latex": [
       "\\begin{enumerate*}\n",
       "\\item 2.2\n",
       "\\item 15\n",
       "\\item 3.5\n",
       "\\item 4\n",
       "\\item 30\n",
       "\\end{enumerate*}\n"
      ],
      "text/markdown": [
       "1. 2.2\n",
       "2. 15\n",
       "3. 3.5\n",
       "4. 4\n",
       "5. 30\n",
       "\n",
       "\n"
      ],
      "text/plain": [
       "[1]  2.2 15.0  3.5  4.0 30.0"
      ]
     },
     "metadata": {},
     "output_type": "display_data"
    }
   ],
   "source": [
    "values <- NULL\n",
    "# BEGIN SOLUTION NO PROMPT\n",
    "values <- c(2.2, 15, 3.5, 4, 30)\n",
    "# END SOLUTION\n",
    "\n",
    "values"
   ]
  },
  {
   "cell_type": "raw",
   "metadata": {},
   "source": [
    "# END SOLUTION"
   ]
  },
  {
   "cell_type": "raw",
   "metadata": {},
   "source": [
    "# BEGIN TESTS"
   ]
  },
  {
   "cell_type": "code",
   "execution_count": 71,
   "metadata": {},
   "outputs": [],
   "source": [
    "# TESTS\n",
    "expect_true(is.numeric(values))\n",
    "expect_equal(length(values), 5)\n",
    "expect_false(is.list(values))\n",
    "expect_equal(round(sum(values)), 55)"
   ]
  },
  {
   "cell_type": "raw",
   "metadata": {},
   "source": [
    "# END TESTS"
   ]
  },
  {
   "cell_type": "raw",
   "metadata": {},
   "source": [
    "# END QUESTION"
   ]
  },
  {
   "cell_type": "raw",
   "metadata": {},
   "source": [
    "# BEGIN QUESTION\n",
    "name: ex5\n",
    "points: 1"
   ]
  },
  {
   "cell_type": "markdown",
   "metadata": {},
   "source": [
    "### Exercise 5\n",
    "rubric={autograde:1}\n",
    "\n",
    "Use the `[` syntax to get the first element from the vector `values` and bind the name `values_first` to it."
   ]
  },
  {
   "cell_type": "raw",
   "metadata": {},
   "source": [
    "# BEGIN SOLUTION"
   ]
  },
  {
   "cell_type": "code",
   "execution_count": 72,
   "metadata": {},
   "outputs": [
    {
     "data": {
      "text/html": [
       "2.2"
      ],
      "text/latex": [
       "2.2"
      ],
      "text/markdown": [
       "2.2"
      ],
      "text/plain": [
       "[1] 2.2"
      ]
     },
     "metadata": {},
     "output_type": "display_data"
    }
   ],
   "source": [
    "values_first <- NULL\n",
    "# BEGIN SOLUTION NO PROMPT\n",
    "values_first <- values[1]\n",
    "# END SOLUTION\n",
    "\n",
    "values_first"
   ]
  },
  {
   "cell_type": "raw",
   "metadata": {},
   "source": [
    "# END SOLUTION"
   ]
  },
  {
   "cell_type": "raw",
   "metadata": {},
   "source": [
    "# BEGIN TESTS"
   ]
  },
  {
   "cell_type": "code",
   "execution_count": 73,
   "metadata": {},
   "outputs": [],
   "source": [
    "# TESTS\n",
    "expect_true(is.numeric(values_first))\n",
    "expect_equal(length(values_first), 1)\n",
    "expect_false(is.list(values_first))\n",
    "expect_equal(round(sum(values_first)), 2)"
   ]
  },
  {
   "cell_type": "raw",
   "metadata": {},
   "source": [
    "# END TESTS"
   ]
  },
  {
   "cell_type": "raw",
   "metadata": {},
   "source": [
    "# END QUESTION"
   ]
  },
  {
   "cell_type": "raw",
   "metadata": {},
   "source": [
    "# BEGIN QUESTION\n",
    "name: ex6\n",
    "points: 1"
   ]
  },
  {
   "cell_type": "markdown",
   "metadata": {},
   "source": [
    "### Exercise 6\n",
    "rubric={autograde:1}\n",
    "\n",
    "Use the `[` syntax  to get the last element from the vector `values`. Bind the name `values_last` to the vector containing the last element from values.\n",
    "\n",
    "*hint: use `length()` to find the length of a 1-D collection (e.g., list, variable)*"
   ]
  },
  {
   "cell_type": "raw",
   "metadata": {},
   "source": [
    "# BEGIN SOLUTION"
   ]
  },
  {
   "cell_type": "code",
   "execution_count": 74,
   "metadata": {},
   "outputs": [
    {
     "data": {
      "text/html": [
       "30"
      ],
      "text/latex": [
       "30"
      ],
      "text/markdown": [
       "30"
      ],
      "text/plain": [
       "[1] 30"
      ]
     },
     "metadata": {},
     "output_type": "display_data"
    }
   ],
   "source": [
    "values_last <- NULL\n",
    "# BEGIN SOLUTION NO PROMPT\n",
    "values_last <- values[length(values)]\n",
    "# END SOLUTION\n",
    "\n",
    "values_last"
   ]
  },
  {
   "cell_type": "raw",
   "metadata": {},
   "source": [
    "# END SOLUTION"
   ]
  },
  {
   "cell_type": "raw",
   "metadata": {},
   "source": [
    "# BEGIN TESTS"
   ]
  },
  {
   "cell_type": "code",
   "execution_count": 75,
   "metadata": {},
   "outputs": [],
   "source": [
    "# TESTS\n",
    "expect_true(is.numeric(values_last))\n",
    "expect_equal(length(values_last), 1)\n",
    "expect_false(is.list(values_last))\n",
    "expect_equal(round(sum(values_last)), 30)"
   ]
  },
  {
   "cell_type": "raw",
   "metadata": {},
   "source": [
    "# END TESTS"
   ]
  },
  {
   "cell_type": "raw",
   "metadata": {},
   "source": [
    "# END QUESTION"
   ]
  },
  {
   "cell_type": "raw",
   "metadata": {},
   "source": [
    "# BEGIN QUESTION\n",
    "name: ex7\n",
    "points: 1"
   ]
  },
  {
   "cell_type": "markdown",
   "metadata": {},
   "source": [
    "### Exercise 7\n",
    "rubric={autograde:1}\n",
    "\n",
    "There was a mistake in the data entry process, and the value for the second element in the vector should be 3.14159. Modify the copy of `values` that we provide (`values_updated`) below to change the second entry to 3.14159. Do not use `c()` to create a new vector from scratch."
   ]
  },
  {
   "cell_type": "raw",
   "metadata": {},
   "source": [
    "# BEGIN SOLUTION"
   ]
  },
  {
   "cell_type": "code",
   "execution_count": 76,
   "metadata": {},
   "outputs": [
    {
     "data": {
      "text/html": [
       "<style>\n",
       ".list-inline {list-style: none; margin:0; padding: 0}\n",
       ".list-inline>li {display: inline-block}\n",
       ".list-inline>li:not(:last-child)::after {content: \"\\00b7\"; padding: 0 .5ex}\n",
       "</style>\n",
       "<ol class=list-inline><li>2.2</li><li>3.14159</li><li>3.5</li><li>4</li><li>30</li></ol>\n"
      ],
      "text/latex": [
       "\\begin{enumerate*}\n",
       "\\item 2.2\n",
       "\\item 3.14159\n",
       "\\item 3.5\n",
       "\\item 4\n",
       "\\item 30\n",
       "\\end{enumerate*}\n"
      ],
      "text/markdown": [
       "1. 2.2\n",
       "2. 3.14159\n",
       "3. 3.5\n",
       "4. 4\n",
       "5. 30\n",
       "\n",
       "\n"
      ],
      "text/plain": [
       "[1]  2.20000  3.14159  3.50000  4.00000 30.00000"
      ]
     },
     "metadata": {},
     "output_type": "display_data"
    }
   ],
   "source": [
    "values_updated <- values\n",
    "\n",
    "# YOUR CODE HERE\n",
    "# BEGIN SOLUTION NO PROMPT\n",
    "values_updated[2] <- 3.14159\n",
    "# END SOLUTION\n",
    "\n",
    "values_updated"
   ]
  },
  {
   "cell_type": "raw",
   "metadata": {},
   "source": [
    "# END SOLUTION"
   ]
  },
  {
   "cell_type": "raw",
   "metadata": {},
   "source": [
    "# BEGIN TESTS"
   ]
  },
  {
   "cell_type": "code",
   "execution_count": 77,
   "metadata": {},
   "outputs": [],
   "source": [
    "# TESTS\n",
    "expect_true(is.numeric(values_updated))\n",
    "expect_equal(length(values_updated), 5)\n",
    "expect_false(is.list(values_updated))\n",
    "expect_equal(round(sum(values_updated)), 43)"
   ]
  },
  {
   "cell_type": "raw",
   "metadata": {},
   "source": [
    "# END TESTS"
   ]
  },
  {
   "cell_type": "raw",
   "metadata": {},
   "source": [
    "# END QUESTION"
   ]
  },
  {
   "cell_type": "raw",
   "metadata": {},
   "source": [
    "# BEGIN QUESTION\n",
    "name: ex8\n",
    "points: 1"
   ]
  },
  {
   "cell_type": "markdown",
   "metadata": {},
   "source": [
    "### Exercise 8\n",
    "rubric={autograde:1}\n",
    "\n",
    "Create a list (not a vector) with the **original** values contained in the `values` vector you just explored ( 2.2, 15.0, 3.5, 4.0,  and 30.0). Bind the name `value_list` to the list you create.\n",
    "\n",
    "*Hint: use the `list` function to create a list in R.*"
   ]
  },
  {
   "cell_type": "raw",
   "metadata": {},
   "source": [
    "# BEGIN SOLUTION"
   ]
  },
  {
   "cell_type": "code",
   "execution_count": 78,
   "metadata": {},
   "outputs": [
    {
     "data": {
      "text/html": [
       "<ol>\n",
       "\t<li>2.2</li>\n",
       "\t<li>15</li>\n",
       "\t<li>3.5</li>\n",
       "\t<li>4</li>\n",
       "\t<li>30</li>\n",
       "</ol>\n"
      ],
      "text/latex": [
       "\\begin{enumerate}\n",
       "\\item 2.2\n",
       "\\item 15\n",
       "\\item 3.5\n",
       "\\item 4\n",
       "\\item 30\n",
       "\\end{enumerate}\n"
      ],
      "text/markdown": [
       "1. 2.2\n",
       "2. 15\n",
       "3. 3.5\n",
       "4. 4\n",
       "5. 30\n",
       "\n",
       "\n"
      ],
      "text/plain": [
       "[[1]]\n",
       "[1] 2.2\n",
       "\n",
       "[[2]]\n",
       "[1] 15\n",
       "\n",
       "[[3]]\n",
       "[1] 3.5\n",
       "\n",
       "[[4]]\n",
       "[1] 4\n",
       "\n",
       "[[5]]\n",
       "[1] 30\n"
      ]
     },
     "metadata": {},
     "output_type": "display_data"
    }
   ],
   "source": [
    "value_list <- NULL\n",
    "# BEGIN SOLUTION NO PROMPT\n",
    "value_list <- list(2.2, 15, 3.5, 4, 30)\n",
    "# END SOLUTION\n",
    "\n",
    "value_list"
   ]
  },
  {
   "cell_type": "raw",
   "metadata": {},
   "source": [
    "# END SOLUTION"
   ]
  },
  {
   "cell_type": "raw",
   "metadata": {},
   "source": [
    "# BEGIN TESTS"
   ]
  },
  {
   "cell_type": "code",
   "execution_count": 79,
   "metadata": {},
   "outputs": [],
   "source": [
    "# TESTS\n",
    "expect_true(is.numeric(value_list[[1]]))\n",
    "expect_true(is.numeric(value_list[[2]]))\n",
    "expect_true(is.numeric(value_list[[3]]))\n",
    "expect_true(is.numeric(value_list[[4]]))\n",
    "expect_true(is.numeric(value_list[[5]]))\n",
    "expect_equal(length(value_list), 5)\n",
    "expect_true(is.list(value_list))\n",
    "expect_equal(round(Reduce(`+`, value_list)), 55)"
   ]
  },
  {
   "cell_type": "raw",
   "metadata": {},
   "source": [
    "# END TESTS"
   ]
  },
  {
   "cell_type": "raw",
   "metadata": {},
   "source": [
    "# END QUESTION"
   ]
  },
  {
   "cell_type": "raw",
   "metadata": {},
   "source": [
    "# BEGIN QUESTION\n",
    "name: ex9\n",
    "points: 1"
   ]
  },
  {
   "cell_type": "markdown",
   "metadata": {},
   "source": [
    "### Exercise 9\n",
    "rubric={autograde:1}\n",
    "\n",
    "\n",
    "Get the first element from the list and bind the name `value_list_first` to it. Ensure that what you return is a number (**not a list itself**). Remember: When indexing, using `[` gives you the same type of object as the object being indexed (e.g., returns a list when applied to a list), whereas `[[` removes one level of structure (e.g., if the object is a list of numbers, you get the number back itself)."
   ]
  },
  {
   "cell_type": "raw",
   "metadata": {},
   "source": [
    "# BEGIN SOLUTION"
   ]
  },
  {
   "cell_type": "code",
   "execution_count": 80,
   "metadata": {},
   "outputs": [
    {
     "data": {
      "text/html": [
       "2.2"
      ],
      "text/latex": [
       "2.2"
      ],
      "text/markdown": [
       "2.2"
      ],
      "text/plain": [
       "[1] 2.2"
      ]
     },
     "metadata": {},
     "output_type": "display_data"
    }
   ],
   "source": [
    "value_list_first <- NULL\n",
    "# BEGIN SOLUTION NO PROMPT\n",
    "value_list_first <- value_list[[1]]\n",
    "# END SOLUTION\n",
    "\n",
    "value_list_first"
   ]
  },
  {
   "cell_type": "raw",
   "metadata": {},
   "source": [
    "# END SOLUTION"
   ]
  },
  {
   "cell_type": "raw",
   "metadata": {},
   "source": [
    "# BEGIN TESTS"
   ]
  },
  {
   "cell_type": "code",
   "execution_count": 81,
   "metadata": {},
   "outputs": [],
   "source": [
    "# TESTS\n",
    "expect_true(is.numeric(value_list_first))\n",
    "expect_equal(length(value_list_first), 1)\n",
    "expect_false(is.list(value_list_first))\n",
    "expect_equal(round(sum(value_list_first)), 2)"
   ]
  },
  {
   "cell_type": "raw",
   "metadata": {},
   "source": [
    "# END TESTS"
   ]
  },
  {
   "cell_type": "raw",
   "metadata": {},
   "source": [
    "# END QUESTION"
   ]
  },
  {
   "cell_type": "raw",
   "metadata": {},
   "source": [
    "# BEGIN QUESTION\n",
    "name: ex10\n",
    "points: 1"
   ]
  },
  {
   "cell_type": "markdown",
   "metadata": {},
   "source": [
    "### Exercise 10\n",
    "rubric={autograde:1}\n",
    "\n",
    "Consider the built-in/base R `faithful` data frame shown below, which contains data of the waiting time between eruptions and the duration of the eruptions for the Old Faithful geyser in Yellowstone National Park, Wyoming, USA. Use the `$` syntax to get a vector of the waiting times between eruptions. Bind the name `waiting_time` to the vector."
   ]
  },
  {
   "cell_type": "code",
   "execution_count": 82,
   "metadata": {},
   "outputs": [
    {
     "data": {
      "text/html": [
       "<iframe width=\"560\" height=\"315\" src=\"https://www.youtube.com/embed/UXFEiEMvdDo\" frameborder=\"0\" allow=\"accelerometer; autoplay; encrypted-media; gyroscope; picture-in-picture\" allowfullscreen></iframe>"
      ]
     },
     "metadata": {},
     "output_type": "display_data"
    }
   ],
   "source": [
    "# comment this cell out if you don't have the IRdisplay package installed\n",
    "# and you don't want install it\n",
    "# you can instead visit the video link directly here: https://youtu.be/UXFEiEMvdDo\n",
    "library(IRdisplay)\n",
    "display_html('<iframe width=\"560\" height=\"315\" src=\"https://www.youtube.com/embed/UXFEiEMvdDo\" frameborder=\"0\" allow=\"accelerometer; autoplay; encrypted-media; gyroscope; picture-in-picture\" allowfullscreen></iframe>')"
   ]
  },
  {
   "cell_type": "code",
   "execution_count": 83,
   "metadata": {},
   "outputs": [
    {
     "data": {
      "text/html": [
       "<table class=\"dataframe\">\n",
       "<caption>A data.frame: 272 × 2</caption>\n",
       "<thead>\n",
       "\t<tr><th></th><th scope=col>eruptions</th><th scope=col>waiting</th></tr>\n",
       "\t<tr><th></th><th scope=col>&lt;dbl&gt;</th><th scope=col>&lt;dbl&gt;</th></tr>\n",
       "</thead>\n",
       "<tbody>\n",
       "\t<tr><th scope=row>1</th><td>3.600</td><td>79</td></tr>\n",
       "\t<tr><th scope=row>2</th><td>1.800</td><td>54</td></tr>\n",
       "\t<tr><th scope=row>3</th><td>3.333</td><td>74</td></tr>\n",
       "\t<tr><th scope=row>4</th><td>2.283</td><td>62</td></tr>\n",
       "\t<tr><th scope=row>5</th><td>4.533</td><td>85</td></tr>\n",
       "\t<tr><th scope=row>⋮</th><td>⋮</td><td>⋮</td></tr>\n",
       "\t<tr><th scope=row>268</th><td>4.117</td><td>81</td></tr>\n",
       "\t<tr><th scope=row>269</th><td>2.150</td><td>46</td></tr>\n",
       "\t<tr><th scope=row>270</th><td>4.417</td><td>90</td></tr>\n",
       "\t<tr><th scope=row>271</th><td>1.817</td><td>46</td></tr>\n",
       "\t<tr><th scope=row>272</th><td>4.467</td><td>74</td></tr>\n",
       "</tbody>\n",
       "</table>\n"
      ],
      "text/latex": [
       "A data.frame: 272 × 2\n",
       "\\begin{tabular}{r|ll}\n",
       "  & eruptions & waiting\\\\\n",
       "  & <dbl> & <dbl>\\\\\n",
       "\\hline\n",
       "\t1 & 3.600 & 79\\\\\n",
       "\t2 & 1.800 & 54\\\\\n",
       "\t3 & 3.333 & 74\\\\\n",
       "\t4 & 2.283 & 62\\\\\n",
       "\t5 & 4.533 & 85\\\\\n",
       "\t⋮ & ⋮ & ⋮\\\\\n",
       "\t268 & 4.117 & 81\\\\\n",
       "\t269 & 2.150 & 46\\\\\n",
       "\t270 & 4.417 & 90\\\\\n",
       "\t271 & 1.817 & 46\\\\\n",
       "\t272 & 4.467 & 74\\\\\n",
       "\\end{tabular}\n"
      ],
      "text/markdown": [
       "\n",
       "A data.frame: 272 × 2\n",
       "\n",
       "| <!--/--> | eruptions &lt;dbl&gt; | waiting &lt;dbl&gt; |\n",
       "|---|---|---|\n",
       "| 1 | 3.600 | 79 |\n",
       "| 2 | 1.800 | 54 |\n",
       "| 3 | 3.333 | 74 |\n",
       "| 4 | 2.283 | 62 |\n",
       "| 5 | 4.533 | 85 |\n",
       "| ⋮ | ⋮ | ⋮ |\n",
       "| 268 | 4.117 | 81 |\n",
       "| 269 | 2.150 | 46 |\n",
       "| 270 | 4.417 | 90 |\n",
       "| 271 | 1.817 | 46 |\n",
       "| 272 | 4.467 | 74 |\n",
       "\n"
      ],
      "text/plain": [
       "    eruptions waiting\n",
       "1   3.600     79     \n",
       "2   1.800     54     \n",
       "3   3.333     74     \n",
       "4   2.283     62     \n",
       "5   4.533     85     \n",
       "⋮   ⋮         ⋮      \n",
       "268 4.117     81     \n",
       "269 2.150     46     \n",
       "270 4.417     90     \n",
       "271 1.817     46     \n",
       "272 4.467     74     "
      ]
     },
     "metadata": {},
     "output_type": "display_data"
    }
   ],
   "source": [
    "faithful"
   ]
  },
  {
   "cell_type": "raw",
   "metadata": {},
   "source": [
    "# BEGIN SOLUTION"
   ]
  },
  {
   "cell_type": "code",
   "execution_count": 84,
   "metadata": {},
   "outputs": [
    {
     "data": {
      "text/html": [
       "<style>\n",
       ".list-inline {list-style: none; margin:0; padding: 0}\n",
       ".list-inline>li {display: inline-block}\n",
       ".list-inline>li:not(:last-child)::after {content: \"\\00b7\"; padding: 0 .5ex}\n",
       "</style>\n",
       "<ol class=list-inline><li>79</li><li>54</li><li>74</li><li>62</li><li>85</li><li>55</li><li>88</li><li>85</li><li>51</li><li>85</li><li>54</li><li>84</li><li>78</li><li>47</li><li>83</li><li>52</li><li>62</li><li>84</li><li>52</li><li>79</li><li>51</li><li>47</li><li>78</li><li>69</li><li>74</li><li>83</li><li>55</li><li>76</li><li>78</li><li>79</li><li>73</li><li>77</li><li>66</li><li>80</li><li>74</li><li>52</li><li>48</li><li>80</li><li>59</li><li>90</li><li>80</li><li>58</li><li>84</li><li>58</li><li>73</li><li>83</li><li>64</li><li>53</li><li>82</li><li>59</li><li>75</li><li>90</li><li>54</li><li>80</li><li>54</li><li>83</li><li>71</li><li>64</li><li>77</li><li>81</li><li>59</li><li>84</li><li>48</li><li>82</li><li>60</li><li>92</li><li>78</li><li>78</li><li>65</li><li>73</li><li>82</li><li>56</li><li>79</li><li>71</li><li>62</li><li>76</li><li>60</li><li>78</li><li>76</li><li>83</li><li>75</li><li>82</li><li>70</li><li>65</li><li>73</li><li>88</li><li>76</li><li>80</li><li>48</li><li>86</li><li>60</li><li>90</li><li>50</li><li>78</li><li>63</li><li>72</li><li>84</li><li>75</li><li>51</li><li>82</li><li>62</li><li>88</li><li>49</li><li>83</li><li>81</li><li>47</li><li>84</li><li>52</li><li>86</li><li>81</li><li>75</li><li>59</li><li>89</li><li>79</li><li>59</li><li>81</li><li>50</li><li>85</li><li>59</li><li>87</li><li>53</li><li>69</li><li>77</li><li>56</li><li>88</li><li>81</li><li>45</li><li>82</li><li>55</li><li>90</li><li>45</li><li>83</li><li>56</li><li>89</li><li>46</li><li>82</li><li>51</li><li>86</li><li>53</li><li>79</li><li>81</li><li>60</li><li>82</li><li>77</li><li>76</li><li>59</li><li>80</li><li>49</li><li>96</li><li>53</li><li>77</li><li>77</li><li>65</li><li>81</li><li>71</li><li>70</li><li>81</li><li>93</li><li>53</li><li>89</li><li>45</li><li>86</li><li>58</li><li>78</li><li>66</li><li>76</li><li>63</li><li>88</li><li>52</li><li>93</li><li>49</li><li>57</li><li>77</li><li>68</li><li>81</li><li>81</li><li>73</li><li>50</li><li>85</li><li>74</li><li>55</li><li>77</li><li>83</li><li>83</li><li>51</li><li>78</li><li>84</li><li>46</li><li>83</li><li>55</li><li>81</li><li>57</li><li>76</li><li>84</li><li>77</li><li>81</li><li>87</li><li>77</li><li>51</li><li>78</li><li>60</li><li>82</li><li>91</li><li>53</li><li>78</li><li>46</li><li>77</li><li>84</li><li>49</li><li>83</li><li>71</li><li>80</li><li>49</li><li>75</li><li>64</li><li>76</li><li>53</li><li>94</li><li>55</li><li>76</li><li>50</li><li>82</li><li>54</li><li>75</li><li>78</li><li>79</li><li>78</li><li>78</li><li>70</li><li>79</li><li>70</li><li>54</li><li>86</li><li>50</li><li>90</li><li>54</li><li>54</li><li>77</li><li>79</li><li>64</li><li>75</li><li>47</li><li>86</li><li>63</li><li>85</li><li>82</li><li>57</li><li>82</li><li>67</li><li>74</li><li>54</li><li>83</li><li>73</li><li>73</li><li>88</li><li>80</li><li>71</li><li>83</li><li>56</li><li>79</li><li>78</li><li>84</li><li>58</li><li>83</li><li>43</li><li>60</li><li>75</li><li>81</li><li>46</li><li>90</li><li>46</li><li>74</li></ol>\n"
      ],
      "text/latex": [
       "\\begin{enumerate*}\n",
       "\\item 79\n",
       "\\item 54\n",
       "\\item 74\n",
       "\\item 62\n",
       "\\item 85\n",
       "\\item 55\n",
       "\\item 88\n",
       "\\item 85\n",
       "\\item 51\n",
       "\\item 85\n",
       "\\item 54\n",
       "\\item 84\n",
       "\\item 78\n",
       "\\item 47\n",
       "\\item 83\n",
       "\\item 52\n",
       "\\item 62\n",
       "\\item 84\n",
       "\\item 52\n",
       "\\item 79\n",
       "\\item 51\n",
       "\\item 47\n",
       "\\item 78\n",
       "\\item 69\n",
       "\\item 74\n",
       "\\item 83\n",
       "\\item 55\n",
       "\\item 76\n",
       "\\item 78\n",
       "\\item 79\n",
       "\\item 73\n",
       "\\item 77\n",
       "\\item 66\n",
       "\\item 80\n",
       "\\item 74\n",
       "\\item 52\n",
       "\\item 48\n",
       "\\item 80\n",
       "\\item 59\n",
       "\\item 90\n",
       "\\item 80\n",
       "\\item 58\n",
       "\\item 84\n",
       "\\item 58\n",
       "\\item 73\n",
       "\\item 83\n",
       "\\item 64\n",
       "\\item 53\n",
       "\\item 82\n",
       "\\item 59\n",
       "\\item 75\n",
       "\\item 90\n",
       "\\item 54\n",
       "\\item 80\n",
       "\\item 54\n",
       "\\item 83\n",
       "\\item 71\n",
       "\\item 64\n",
       "\\item 77\n",
       "\\item 81\n",
       "\\item 59\n",
       "\\item 84\n",
       "\\item 48\n",
       "\\item 82\n",
       "\\item 60\n",
       "\\item 92\n",
       "\\item 78\n",
       "\\item 78\n",
       "\\item 65\n",
       "\\item 73\n",
       "\\item 82\n",
       "\\item 56\n",
       "\\item 79\n",
       "\\item 71\n",
       "\\item 62\n",
       "\\item 76\n",
       "\\item 60\n",
       "\\item 78\n",
       "\\item 76\n",
       "\\item 83\n",
       "\\item 75\n",
       "\\item 82\n",
       "\\item 70\n",
       "\\item 65\n",
       "\\item 73\n",
       "\\item 88\n",
       "\\item 76\n",
       "\\item 80\n",
       "\\item 48\n",
       "\\item 86\n",
       "\\item 60\n",
       "\\item 90\n",
       "\\item 50\n",
       "\\item 78\n",
       "\\item 63\n",
       "\\item 72\n",
       "\\item 84\n",
       "\\item 75\n",
       "\\item 51\n",
       "\\item 82\n",
       "\\item 62\n",
       "\\item 88\n",
       "\\item 49\n",
       "\\item 83\n",
       "\\item 81\n",
       "\\item 47\n",
       "\\item 84\n",
       "\\item 52\n",
       "\\item 86\n",
       "\\item 81\n",
       "\\item 75\n",
       "\\item 59\n",
       "\\item 89\n",
       "\\item 79\n",
       "\\item 59\n",
       "\\item 81\n",
       "\\item 50\n",
       "\\item 85\n",
       "\\item 59\n",
       "\\item 87\n",
       "\\item 53\n",
       "\\item 69\n",
       "\\item 77\n",
       "\\item 56\n",
       "\\item 88\n",
       "\\item 81\n",
       "\\item 45\n",
       "\\item 82\n",
       "\\item 55\n",
       "\\item 90\n",
       "\\item 45\n",
       "\\item 83\n",
       "\\item 56\n",
       "\\item 89\n",
       "\\item 46\n",
       "\\item 82\n",
       "\\item 51\n",
       "\\item 86\n",
       "\\item 53\n",
       "\\item 79\n",
       "\\item 81\n",
       "\\item 60\n",
       "\\item 82\n",
       "\\item 77\n",
       "\\item 76\n",
       "\\item 59\n",
       "\\item 80\n",
       "\\item 49\n",
       "\\item 96\n",
       "\\item 53\n",
       "\\item 77\n",
       "\\item 77\n",
       "\\item 65\n",
       "\\item 81\n",
       "\\item 71\n",
       "\\item 70\n",
       "\\item 81\n",
       "\\item 93\n",
       "\\item 53\n",
       "\\item 89\n",
       "\\item 45\n",
       "\\item 86\n",
       "\\item 58\n",
       "\\item 78\n",
       "\\item 66\n",
       "\\item 76\n",
       "\\item 63\n",
       "\\item 88\n",
       "\\item 52\n",
       "\\item 93\n",
       "\\item 49\n",
       "\\item 57\n",
       "\\item 77\n",
       "\\item 68\n",
       "\\item 81\n",
       "\\item 81\n",
       "\\item 73\n",
       "\\item 50\n",
       "\\item 85\n",
       "\\item 74\n",
       "\\item 55\n",
       "\\item 77\n",
       "\\item 83\n",
       "\\item 83\n",
       "\\item 51\n",
       "\\item 78\n",
       "\\item 84\n",
       "\\item 46\n",
       "\\item 83\n",
       "\\item 55\n",
       "\\item 81\n",
       "\\item 57\n",
       "\\item 76\n",
       "\\item 84\n",
       "\\item 77\n",
       "\\item 81\n",
       "\\item 87\n",
       "\\item 77\n",
       "\\item 51\n",
       "\\item 78\n",
       "\\item 60\n",
       "\\item 82\n",
       "\\item 91\n",
       "\\item 53\n",
       "\\item 78\n",
       "\\item 46\n",
       "\\item 77\n",
       "\\item 84\n",
       "\\item 49\n",
       "\\item 83\n",
       "\\item 71\n",
       "\\item 80\n",
       "\\item 49\n",
       "\\item 75\n",
       "\\item 64\n",
       "\\item 76\n",
       "\\item 53\n",
       "\\item 94\n",
       "\\item 55\n",
       "\\item 76\n",
       "\\item 50\n",
       "\\item 82\n",
       "\\item 54\n",
       "\\item 75\n",
       "\\item 78\n",
       "\\item 79\n",
       "\\item 78\n",
       "\\item 78\n",
       "\\item 70\n",
       "\\item 79\n",
       "\\item 70\n",
       "\\item 54\n",
       "\\item 86\n",
       "\\item 50\n",
       "\\item 90\n",
       "\\item 54\n",
       "\\item 54\n",
       "\\item 77\n",
       "\\item 79\n",
       "\\item 64\n",
       "\\item 75\n",
       "\\item 47\n",
       "\\item 86\n",
       "\\item 63\n",
       "\\item 85\n",
       "\\item 82\n",
       "\\item 57\n",
       "\\item 82\n",
       "\\item 67\n",
       "\\item 74\n",
       "\\item 54\n",
       "\\item 83\n",
       "\\item 73\n",
       "\\item 73\n",
       "\\item 88\n",
       "\\item 80\n",
       "\\item 71\n",
       "\\item 83\n",
       "\\item 56\n",
       "\\item 79\n",
       "\\item 78\n",
       "\\item 84\n",
       "\\item 58\n",
       "\\item 83\n",
       "\\item 43\n",
       "\\item 60\n",
       "\\item 75\n",
       "\\item 81\n",
       "\\item 46\n",
       "\\item 90\n",
       "\\item 46\n",
       "\\item 74\n",
       "\\end{enumerate*}\n"
      ],
      "text/markdown": [
       "1. 79\n",
       "2. 54\n",
       "3. 74\n",
       "4. 62\n",
       "5. 85\n",
       "6. 55\n",
       "7. 88\n",
       "8. 85\n",
       "9. 51\n",
       "10. 85\n",
       "11. 54\n",
       "12. 84\n",
       "13. 78\n",
       "14. 47\n",
       "15. 83\n",
       "16. 52\n",
       "17. 62\n",
       "18. 84\n",
       "19. 52\n",
       "20. 79\n",
       "21. 51\n",
       "22. 47\n",
       "23. 78\n",
       "24. 69\n",
       "25. 74\n",
       "26. 83\n",
       "27. 55\n",
       "28. 76\n",
       "29. 78\n",
       "30. 79\n",
       "31. 73\n",
       "32. 77\n",
       "33. 66\n",
       "34. 80\n",
       "35. 74\n",
       "36. 52\n",
       "37. 48\n",
       "38. 80\n",
       "39. 59\n",
       "40. 90\n",
       "41. 80\n",
       "42. 58\n",
       "43. 84\n",
       "44. 58\n",
       "45. 73\n",
       "46. 83\n",
       "47. 64\n",
       "48. 53\n",
       "49. 82\n",
       "50. 59\n",
       "51. 75\n",
       "52. 90\n",
       "53. 54\n",
       "54. 80\n",
       "55. 54\n",
       "56. 83\n",
       "57. 71\n",
       "58. 64\n",
       "59. 77\n",
       "60. 81\n",
       "61. 59\n",
       "62. 84\n",
       "63. 48\n",
       "64. 82\n",
       "65. 60\n",
       "66. 92\n",
       "67. 78\n",
       "68. 78\n",
       "69. 65\n",
       "70. 73\n",
       "71. 82\n",
       "72. 56\n",
       "73. 79\n",
       "74. 71\n",
       "75. 62\n",
       "76. 76\n",
       "77. 60\n",
       "78. 78\n",
       "79. 76\n",
       "80. 83\n",
       "81. 75\n",
       "82. 82\n",
       "83. 70\n",
       "84. 65\n",
       "85. 73\n",
       "86. 88\n",
       "87. 76\n",
       "88. 80\n",
       "89. 48\n",
       "90. 86\n",
       "91. 60\n",
       "92. 90\n",
       "93. 50\n",
       "94. 78\n",
       "95. 63\n",
       "96. 72\n",
       "97. 84\n",
       "98. 75\n",
       "99. 51\n",
       "100. 82\n",
       "101. 62\n",
       "102. 88\n",
       "103. 49\n",
       "104. 83\n",
       "105. 81\n",
       "106. 47\n",
       "107. 84\n",
       "108. 52\n",
       "109. 86\n",
       "110. 81\n",
       "111. 75\n",
       "112. 59\n",
       "113. 89\n",
       "114. 79\n",
       "115. 59\n",
       "116. 81\n",
       "117. 50\n",
       "118. 85\n",
       "119. 59\n",
       "120. 87\n",
       "121. 53\n",
       "122. 69\n",
       "123. 77\n",
       "124. 56\n",
       "125. 88\n",
       "126. 81\n",
       "127. 45\n",
       "128. 82\n",
       "129. 55\n",
       "130. 90\n",
       "131. 45\n",
       "132. 83\n",
       "133. 56\n",
       "134. 89\n",
       "135. 46\n",
       "136. 82\n",
       "137. 51\n",
       "138. 86\n",
       "139. 53\n",
       "140. 79\n",
       "141. 81\n",
       "142. 60\n",
       "143. 82\n",
       "144. 77\n",
       "145. 76\n",
       "146. 59\n",
       "147. 80\n",
       "148. 49\n",
       "149. 96\n",
       "150. 53\n",
       "151. 77\n",
       "152. 77\n",
       "153. 65\n",
       "154. 81\n",
       "155. 71\n",
       "156. 70\n",
       "157. 81\n",
       "158. 93\n",
       "159. 53\n",
       "160. 89\n",
       "161. 45\n",
       "162. 86\n",
       "163. 58\n",
       "164. 78\n",
       "165. 66\n",
       "166. 76\n",
       "167. 63\n",
       "168. 88\n",
       "169. 52\n",
       "170. 93\n",
       "171. 49\n",
       "172. 57\n",
       "173. 77\n",
       "174. 68\n",
       "175. 81\n",
       "176. 81\n",
       "177. 73\n",
       "178. 50\n",
       "179. 85\n",
       "180. 74\n",
       "181. 55\n",
       "182. 77\n",
       "183. 83\n",
       "184. 83\n",
       "185. 51\n",
       "186. 78\n",
       "187. 84\n",
       "188. 46\n",
       "189. 83\n",
       "190. 55\n",
       "191. 81\n",
       "192. 57\n",
       "193. 76\n",
       "194. 84\n",
       "195. 77\n",
       "196. 81\n",
       "197. 87\n",
       "198. 77\n",
       "199. 51\n",
       "200. 78\n",
       "201. 60\n",
       "202. 82\n",
       "203. 91\n",
       "204. 53\n",
       "205. 78\n",
       "206. 46\n",
       "207. 77\n",
       "208. 84\n",
       "209. 49\n",
       "210. 83\n",
       "211. 71\n",
       "212. 80\n",
       "213. 49\n",
       "214. 75\n",
       "215. 64\n",
       "216. 76\n",
       "217. 53\n",
       "218. 94\n",
       "219. 55\n",
       "220. 76\n",
       "221. 50\n",
       "222. 82\n",
       "223. 54\n",
       "224. 75\n",
       "225. 78\n",
       "226. 79\n",
       "227. 78\n",
       "228. 78\n",
       "229. 70\n",
       "230. 79\n",
       "231. 70\n",
       "232. 54\n",
       "233. 86\n",
       "234. 50\n",
       "235. 90\n",
       "236. 54\n",
       "237. 54\n",
       "238. 77\n",
       "239. 79\n",
       "240. 64\n",
       "241. 75\n",
       "242. 47\n",
       "243. 86\n",
       "244. 63\n",
       "245. 85\n",
       "246. 82\n",
       "247. 57\n",
       "248. 82\n",
       "249. 67\n",
       "250. 74\n",
       "251. 54\n",
       "252. 83\n",
       "253. 73\n",
       "254. 73\n",
       "255. 88\n",
       "256. 80\n",
       "257. 71\n",
       "258. 83\n",
       "259. 56\n",
       "260. 79\n",
       "261. 78\n",
       "262. 84\n",
       "263. 58\n",
       "264. 83\n",
       "265. 43\n",
       "266. 60\n",
       "267. 75\n",
       "268. 81\n",
       "269. 46\n",
       "270. 90\n",
       "271. 46\n",
       "272. 74\n",
       "\n",
       "\n"
      ],
      "text/plain": [
       "  [1] 79 54 74 62 85 55 88 85 51 85 54 84 78 47 83 52 62 84 52 79 51 47 78 69 74\n",
       " [26] 83 55 76 78 79 73 77 66 80 74 52 48 80 59 90 80 58 84 58 73 83 64 53 82 59\n",
       " [51] 75 90 54 80 54 83 71 64 77 81 59 84 48 82 60 92 78 78 65 73 82 56 79 71 62\n",
       " [76] 76 60 78 76 83 75 82 70 65 73 88 76 80 48 86 60 90 50 78 63 72 84 75 51 82\n",
       "[101] 62 88 49 83 81 47 84 52 86 81 75 59 89 79 59 81 50 85 59 87 53 69 77 56 88\n",
       "[126] 81 45 82 55 90 45 83 56 89 46 82 51 86 53 79 81 60 82 77 76 59 80 49 96 53\n",
       "[151] 77 77 65 81 71 70 81 93 53 89 45 86 58 78 66 76 63 88 52 93 49 57 77 68 81\n",
       "[176] 81 73 50 85 74 55 77 83 83 51 78 84 46 83 55 81 57 76 84 77 81 87 77 51 78\n",
       "[201] 60 82 91 53 78 46 77 84 49 83 71 80 49 75 64 76 53 94 55 76 50 82 54 75 78\n",
       "[226] 79 78 78 70 79 70 54 86 50 90 54 54 77 79 64 75 47 86 63 85 82 57 82 67 74\n",
       "[251] 54 83 73 73 88 80 71 83 56 79 78 84 58 83 43 60 75 81 46 90 46 74"
      ]
     },
     "metadata": {},
     "output_type": "display_data"
    }
   ],
   "source": [
    "waiting_time <- NULL\n",
    "# BEGIN SOLUTION NO PROMPT\n",
    "waiting_time <- faithful$waiting\n",
    "# END SOLUTION\n",
    "\n",
    "waiting_time"
   ]
  },
  {
   "cell_type": "raw",
   "metadata": {},
   "source": [
    "# END SOLUTION"
   ]
  },
  {
   "cell_type": "raw",
   "metadata": {},
   "source": [
    "# BEGIN TESTS"
   ]
  },
  {
   "cell_type": "code",
   "execution_count": 85,
   "metadata": {},
   "outputs": [],
   "source": [
    "# TESTS\n",
    "expect_true(is.numeric(waiting_time))\n",
    "expect_equal(length(waiting_time), 272)\n",
    "expect_false(is.list(waiting_time))\n",
    "expect_equal(round(sum(waiting_time)), 19284)"
   ]
  },
  {
   "cell_type": "raw",
   "metadata": {},
   "source": [
    "# END TESTS"
   ]
  },
  {
   "cell_type": "raw",
   "metadata": {},
   "source": [
    "# END QUESTION"
   ]
  },
  {
   "cell_type": "raw",
   "metadata": {},
   "source": [
    "# BEGIN QUESTION\n",
    "name: ex11\n",
    "points: 1"
   ]
  },
  {
   "cell_type": "markdown",
   "metadata": {},
   "source": [
    "### Exercise 11\n",
    "rubric={autograde:1}\n",
    "\n",
    "Consider the built-in/base R `CO2` data frame shown below, which contains data from an experiment on carbon dioxide uptake in the grass plant *Echinochloa crus-galli*. Use the `[` syntax to extract rows 1 - 5, and only the columns `conc` and `uptake`. Bind the name `first_five_measurements` to this smaller data frame."
   ]
  },
  {
   "cell_type": "markdown",
   "metadata": {},
   "source": [
    "<img src=\"https://upload.wikimedia.org/wikipedia/commons/thumb/1/19/Echinochloa_crus-galli01.jpg/440px-Echinochloa_crus-galli01.jpg\" width=200>\n",
    "\n",
    "*Source: https://en.wikipedia.org/wiki/Echinochloa_crus-galli*"
   ]
  },
  {
   "cell_type": "code",
   "execution_count": 86,
   "metadata": {},
   "outputs": [
    {
     "data": {
      "text/html": [
       "<table class=\"dataframe\">\n",
       "<caption>A nfnGroupedData: 84 × 5</caption>\n",
       "<thead>\n",
       "\t<tr><th></th><th scope=col>Plant</th><th scope=col>Type</th><th scope=col>Treatment</th><th scope=col>conc</th><th scope=col>uptake</th></tr>\n",
       "\t<tr><th></th><th scope=col>&lt;ord&gt;</th><th scope=col>&lt;fct&gt;</th><th scope=col>&lt;fct&gt;</th><th scope=col>&lt;dbl&gt;</th><th scope=col>&lt;dbl&gt;</th></tr>\n",
       "</thead>\n",
       "<tbody>\n",
       "\t<tr><th scope=row>1</th><td>Qn1</td><td>Quebec</td><td>nonchilled</td><td> 95</td><td>16.0</td></tr>\n",
       "\t<tr><th scope=row>2</th><td>Qn1</td><td>Quebec</td><td>nonchilled</td><td>175</td><td>30.4</td></tr>\n",
       "\t<tr><th scope=row>3</th><td>Qn1</td><td>Quebec</td><td>nonchilled</td><td>250</td><td>34.8</td></tr>\n",
       "\t<tr><th scope=row>4</th><td>Qn1</td><td>Quebec</td><td>nonchilled</td><td>350</td><td>37.2</td></tr>\n",
       "\t<tr><th scope=row>5</th><td>Qn1</td><td>Quebec</td><td>nonchilled</td><td>500</td><td>35.3</td></tr>\n",
       "\t<tr><th scope=row>⋮</th><td>⋮</td><td>⋮</td><td>⋮</td><td>⋮</td><td>⋮</td></tr>\n",
       "\t<tr><th scope=row>80</th><td>Mc3</td><td>Mississippi</td><td>chilled</td><td> 250</td><td>17.9</td></tr>\n",
       "\t<tr><th scope=row>81</th><td>Mc3</td><td>Mississippi</td><td>chilled</td><td> 350</td><td>17.9</td></tr>\n",
       "\t<tr><th scope=row>82</th><td>Mc3</td><td>Mississippi</td><td>chilled</td><td> 500</td><td>17.9</td></tr>\n",
       "\t<tr><th scope=row>83</th><td>Mc3</td><td>Mississippi</td><td>chilled</td><td> 675</td><td>18.9</td></tr>\n",
       "\t<tr><th scope=row>84</th><td>Mc3</td><td>Mississippi</td><td>chilled</td><td>1000</td><td>19.9</td></tr>\n",
       "</tbody>\n",
       "</table>\n"
      ],
      "text/latex": [
       "A nfnGroupedData: 84 × 5\n",
       "\\begin{tabular}{r|lllll}\n",
       "  & Plant & Type & Treatment & conc & uptake\\\\\n",
       "  & <ord> & <fct> & <fct> & <dbl> & <dbl>\\\\\n",
       "\\hline\n",
       "\t1 & Qn1 & Quebec & nonchilled &  95 & 16.0\\\\\n",
       "\t2 & Qn1 & Quebec & nonchilled & 175 & 30.4\\\\\n",
       "\t3 & Qn1 & Quebec & nonchilled & 250 & 34.8\\\\\n",
       "\t4 & Qn1 & Quebec & nonchilled & 350 & 37.2\\\\\n",
       "\t5 & Qn1 & Quebec & nonchilled & 500 & 35.3\\\\\n",
       "\t⋮ & ⋮ & ⋮ & ⋮ & ⋮ & ⋮\\\\\n",
       "\t80 & Mc3 & Mississippi & chilled &  250 & 17.9\\\\\n",
       "\t81 & Mc3 & Mississippi & chilled &  350 & 17.9\\\\\n",
       "\t82 & Mc3 & Mississippi & chilled &  500 & 17.9\\\\\n",
       "\t83 & Mc3 & Mississippi & chilled &  675 & 18.9\\\\\n",
       "\t84 & Mc3 & Mississippi & chilled & 1000 & 19.9\\\\\n",
       "\\end{tabular}\n"
      ],
      "text/markdown": [
       "\n",
       "A nfnGroupedData: 84 × 5\n",
       "\n",
       "| <!--/--> | Plant &lt;ord&gt; | Type &lt;fct&gt; | Treatment &lt;fct&gt; | conc &lt;dbl&gt; | uptake &lt;dbl&gt; |\n",
       "|---|---|---|---|---|---|\n",
       "| 1 | Qn1 | Quebec | nonchilled |  95 | 16.0 |\n",
       "| 2 | Qn1 | Quebec | nonchilled | 175 | 30.4 |\n",
       "| 3 | Qn1 | Quebec | nonchilled | 250 | 34.8 |\n",
       "| 4 | Qn1 | Quebec | nonchilled | 350 | 37.2 |\n",
       "| 5 | Qn1 | Quebec | nonchilled | 500 | 35.3 |\n",
       "| ⋮ | ⋮ | ⋮ | ⋮ | ⋮ | ⋮ |\n",
       "| 80 | Mc3 | Mississippi | chilled |  250 | 17.9 |\n",
       "| 81 | Mc3 | Mississippi | chilled |  350 | 17.9 |\n",
       "| 82 | Mc3 | Mississippi | chilled |  500 | 17.9 |\n",
       "| 83 | Mc3 | Mississippi | chilled |  675 | 18.9 |\n",
       "| 84 | Mc3 | Mississippi | chilled | 1000 | 19.9 |\n",
       "\n"
      ],
      "text/plain": [
       "   Plant Type        Treatment  conc uptake\n",
       "1  Qn1   Quebec      nonchilled  95  16.0  \n",
       "2  Qn1   Quebec      nonchilled 175  30.4  \n",
       "3  Qn1   Quebec      nonchilled 250  34.8  \n",
       "4  Qn1   Quebec      nonchilled 350  37.2  \n",
       "5  Qn1   Quebec      nonchilled 500  35.3  \n",
       "⋮  ⋮     ⋮           ⋮          ⋮    ⋮     \n",
       "80 Mc3   Mississippi chilled     250 17.9  \n",
       "81 Mc3   Mississippi chilled     350 17.9  \n",
       "82 Mc3   Mississippi chilled     500 17.9  \n",
       "83 Mc3   Mississippi chilled     675 18.9  \n",
       "84 Mc3   Mississippi chilled    1000 19.9  "
      ]
     },
     "metadata": {},
     "output_type": "display_data"
    }
   ],
   "source": [
    "CO2"
   ]
  },
  {
   "cell_type": "raw",
   "metadata": {},
   "source": [
    "# BEGIN SOLUTION"
   ]
  },
  {
   "cell_type": "code",
   "execution_count": 87,
   "metadata": {},
   "outputs": [
    {
     "data": {
      "text/html": [
       "<table class=\"dataframe\">\n",
       "<caption>A nfnGroupedData: 5 × 2</caption>\n",
       "<thead>\n",
       "\t<tr><th></th><th scope=col>conc</th><th scope=col>uptake</th></tr>\n",
       "\t<tr><th></th><th scope=col>&lt;dbl&gt;</th><th scope=col>&lt;dbl&gt;</th></tr>\n",
       "</thead>\n",
       "<tbody>\n",
       "\t<tr><th scope=row>1</th><td> 95</td><td>16.0</td></tr>\n",
       "\t<tr><th scope=row>2</th><td>175</td><td>30.4</td></tr>\n",
       "\t<tr><th scope=row>3</th><td>250</td><td>34.8</td></tr>\n",
       "\t<tr><th scope=row>4</th><td>350</td><td>37.2</td></tr>\n",
       "\t<tr><th scope=row>5</th><td>500</td><td>35.3</td></tr>\n",
       "</tbody>\n",
       "</table>\n"
      ],
      "text/latex": [
       "A nfnGroupedData: 5 × 2\n",
       "\\begin{tabular}{r|ll}\n",
       "  & conc & uptake\\\\\n",
       "  & <dbl> & <dbl>\\\\\n",
       "\\hline\n",
       "\t1 &  95 & 16.0\\\\\n",
       "\t2 & 175 & 30.4\\\\\n",
       "\t3 & 250 & 34.8\\\\\n",
       "\t4 & 350 & 37.2\\\\\n",
       "\t5 & 500 & 35.3\\\\\n",
       "\\end{tabular}\n"
      ],
      "text/markdown": [
       "\n",
       "A nfnGroupedData: 5 × 2\n",
       "\n",
       "| <!--/--> | conc &lt;dbl&gt; | uptake &lt;dbl&gt; |\n",
       "|---|---|---|\n",
       "| 1 |  95 | 16.0 |\n",
       "| 2 | 175 | 30.4 |\n",
       "| 3 | 250 | 34.8 |\n",
       "| 4 | 350 | 37.2 |\n",
       "| 5 | 500 | 35.3 |\n",
       "\n"
      ],
      "text/plain": [
       "  conc uptake\n",
       "1  95  16.0  \n",
       "2 175  30.4  \n",
       "3 250  34.8  \n",
       "4 350  37.2  \n",
       "5 500  35.3  "
      ]
     },
     "metadata": {},
     "output_type": "display_data"
    }
   ],
   "source": [
    "first_five_measurements <- NULL\n",
    "# BEGIN SOLUTION NO PROMPT\n",
    "first_five_measurements <- CO2[1:5, 4:5]\n",
    "# END SOLUTION\n",
    "\n",
    "first_five_measurements"
   ]
  },
  {
   "cell_type": "raw",
   "metadata": {},
   "source": [
    "# END SOLUTION"
   ]
  },
  {
   "cell_type": "raw",
   "metadata": {},
   "source": [
    "# BEGIN TESTS"
   ]
  },
  {
   "cell_type": "code",
   "execution_count": 88,
   "metadata": {},
   "outputs": [],
   "source": [
    "# TESTS\n",
    "expect_true(is.data.frame(first_five_measurements))\n",
    "expect_equal(nrow(first_five_measurements), 5)\n",
    "expect_equal(ncol(first_five_measurements), 2)\n",
    "expect_true(c(\"conc\") %in% colnames(first_five_measurements))\n",
    "expect_true(c(\"uptake\") %in% colnames(first_five_measurements))\n",
    "expect_equal(length(colnames(first_five_measurements)), 2)\n",
    "expect_equal(round(sum(first_five_measurements$conc)), 1370)"
   ]
  },
  {
   "cell_type": "raw",
   "metadata": {},
   "source": [
    "# END TESTS"
   ]
  },
  {
   "cell_type": "raw",
   "metadata": {},
   "source": [
    "# END QUESTION"
   ]
  },
  {
   "cell_type": "markdown",
   "metadata": {},
   "source": [
    "Congratulations! You are done the worksheet!!! Pat yourself on the back, and submit your worksheet to Gradescope!"
   ]
  }
 ],
 "metadata": {
  "celltoolbar": "Create Assignment",
  "kernelspec": {
   "display_name": "R",
   "language": "R",
   "name": "ir"
  },
  "language_info": {
   "codemirror_mode": "r",
   "file_extension": ".r",
   "mimetype": "text/x-r-source",
   "name": "R",
   "pygments_lexer": "r",
   "version": "4.2.1"
  }
 },
 "nbformat": 4,
 "nbformat_minor": 4
}
