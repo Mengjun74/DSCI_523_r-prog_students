{
 "cells": [
  {
   "cell_type": "raw",
   "metadata": {},
   "source": [
    "# ASSIGNMENT CONFIG\n",
    "requirements: requirements.R\n",
    "generate:\n",
    "    show_hidden: true\n",
    "    show_stdout: true\n",
    "    channel_priority_strict: false\n",
    "environment: environment.yml"
   ]
  },
  {
   "cell_type": "markdown",
   "metadata": {},
   "source": [
    "## Worksheet 7\n",
    "\n",
    "Welcome to worksheet 7! This worksheet was designed to allow you to practice what was covered in the assigned readings & lectures/videos/recordings. The labs problems will be more challenging then those in the worksheet, and the worksheet questions will help prepare you for them. Time will be provided to work on the worksheets in small groups during lecture, however it is not expected that you will complete the worksheet in this time. You are expected to spend some indpendent time working on the worksheet after lecture. \n",
    "\n",
    "**Worksheets are due on Saturdays at 6pm, and must be submitted as `.ipynb` files to Gradescope.**"
   ]
  },
  {
   "cell_type": "markdown",
   "metadata": {},
   "source": [
    "### Worksheet mechanics\n",
    "\n",
    "- You submit a `.ipynb` version of this homework to Gradescope.\n",
    "- **There is autograding in this lab, so please do not move or rename this file. Also, do not copy and paste cells, if you need to add new cells, create new cells via the \"Insert a cell below\" button instead.**"
   ]
  },
  {
   "cell_type": "markdown",
   "metadata": {},
   "source": [
    "Run the cell below to load the libraries needed for this worksheet, as well as to check your answers as you go!"
   ]
  },
  {
   "cell_type": "code",
   "execution_count": 2,
   "metadata": {},
   "outputs": [],
   "source": [
    "library(canlang)\n",
    "library(tidyverse)\n",
    "library(testthat)\n",
    "options(repr.matrix.max.rows = 10)"
   ]
  },
  {
   "cell_type": "raw",
   "metadata": {},
   "source": [
    "# BEGIN QUESTION\n",
    "name: ex1\n",
    "points: 1"
   ]
  },
  {
   "cell_type": "markdown",
   "metadata": {},
   "source": [
    "### Exercise 1\n",
    "rubric={autograde:1}"
   ]
  },
  {
   "cell_type": "markdown",
   "metadata": {},
   "source": [
    "Write an anonymous function in R that takes a single vector, `x`, and squares each element of a `x`. Pass it a vector containing the numbers from 1 to 10, inclusive. Save the output of the anonymous function to a variable name `squares`."
   ]
  },
  {
   "cell_type": "raw",
   "metadata": {},
   "source": [
    "# BEGIN SOLUTION"
   ]
  },
  {
   "cell_type": "code",
   "execution_count": 3,
   "metadata": {},
   "outputs": [
    {
     "data": {
      "text/html": [
       "<style>\n",
       ".list-inline {list-style: none; margin:0; padding: 0}\n",
       ".list-inline>li {display: inline-block}\n",
       ".list-inline>li:not(:last-child)::after {content: \"\\00b7\"; padding: 0 .5ex}\n",
       "</style>\n",
       "<ol class=list-inline><li>1</li><li>4</li><li>9</li><li>16</li><li>25</li><li>36</li><li>49</li><li>64</li><li>81</li><li>100</li></ol>\n"
      ],
      "text/latex": [
       "\\begin{enumerate*}\n",
       "\\item 1\n",
       "\\item 4\n",
       "\\item 9\n",
       "\\item 16\n",
       "\\item 25\n",
       "\\item 36\n",
       "\\item 49\n",
       "\\item 64\n",
       "\\item 81\n",
       "\\item 100\n",
       "\\end{enumerate*}\n"
      ],
      "text/markdown": [
       "1. 1\n",
       "2. 4\n",
       "3. 9\n",
       "4. 16\n",
       "5. 25\n",
       "6. 36\n",
       "7. 49\n",
       "8. 64\n",
       "9. 81\n",
       "10. 100\n",
       "\n",
       "\n"
      ],
      "text/plain": [
       " [1]   1   4   9  16  25  36  49  64  81 100"
      ]
     },
     "metadata": {},
     "output_type": "display_data"
    }
   ],
   "source": [
    "squares <- NULL\n",
    "# BEGIN SOLUTION NO PROMPT\n",
    "squares <- (function(x) x ^ 2)(1:10)\n",
    "# END SOLUTION\n",
    "            \n",
    "squares"
   ]
  },
  {
   "cell_type": "raw",
   "metadata": {},
   "source": [
    "# END SOLUTION"
   ]
  },
  {
   "cell_type": "raw",
   "metadata": {},
   "source": [
    "# BEGIN TESTS"
   ]
  },
  {
   "cell_type": "code",
   "execution_count": 4,
   "metadata": {},
   "outputs": [],
   "source": [
    "# TESTS\n",
    "expect_true(is.numeric(squares))\n",
    "expect_equal(length(squares), 10)\n",
    "expect_equal(sum(as.numeric(squares)), 385)\n",
    "expect_equal(squares[1], 1)\n",
    "expect_equal(squares[10], 100)"
   ]
  },
  {
   "cell_type": "raw",
   "metadata": {},
   "source": [
    "# END TESTS"
   ]
  },
  {
   "cell_type": "raw",
   "metadata": {},
   "source": [
    "# END QUESTION"
   ]
  },
  {
   "cell_type": "raw",
   "metadata": {},
   "source": [
    "# BEGIN QUESTION\n",
    "name: ex2\n",
    "points: 1"
   ]
  },
  {
   "cell_type": "markdown",
   "metadata": {},
   "source": [
    "### Exercise 2\n",
    "rubric={autograde:1}"
   ]
  },
  {
   "cell_type": "markdown",
   "metadata": {},
   "source": [
    "The `paste0` function in R is analagous to the `+` operator in Python for concatenating strings. Use `map_chr`, an anonymous function, and the `paste0` function to concatenate the list `month` with the value 2020 so that there is a comma and a single whitespace between the month and the year (e.g., \"September, 2020\"). Bind the name `months_2020` to the character vector you create."
   ]
  },
  {
   "cell_type": "raw",
   "metadata": {},
   "source": [
    "# BEGIN SOLUTION"
   ]
  },
  {
   "cell_type": "code",
   "execution_count": 5,
   "metadata": {},
   "outputs": [
    {
     "data": {
      "text/html": [
       "<style>\n",
       ".list-inline {list-style: none; margin:0; padding: 0}\n",
       ".list-inline>li {display: inline-block}\n",
       ".list-inline>li:not(:last-child)::after {content: \"\\00b7\"; padding: 0 .5ex}\n",
       "</style>\n",
       "<ol class=list-inline><li>'January, 2020'</li><li>'February, 2020'</li><li>'March, 2020'</li><li>'April, 2020'</li><li>'May, 2020'</li><li>'June, 2020'</li><li>'July, 2020'</li><li>'August, 2020'</li><li>'September, 2020'</li><li>'October, 2020'</li><li>'November, 2020'</li><li>'December, 2020'</li></ol>\n"
      ],
      "text/latex": [
       "\\begin{enumerate*}\n",
       "\\item 'January, 2020'\n",
       "\\item 'February, 2020'\n",
       "\\item 'March, 2020'\n",
       "\\item 'April, 2020'\n",
       "\\item 'May, 2020'\n",
       "\\item 'June, 2020'\n",
       "\\item 'July, 2020'\n",
       "\\item 'August, 2020'\n",
       "\\item 'September, 2020'\n",
       "\\item 'October, 2020'\n",
       "\\item 'November, 2020'\n",
       "\\item 'December, 2020'\n",
       "\\end{enumerate*}\n"
      ],
      "text/markdown": [
       "1. 'January, 2020'\n",
       "2. 'February, 2020'\n",
       "3. 'March, 2020'\n",
       "4. 'April, 2020'\n",
       "5. 'May, 2020'\n",
       "6. 'June, 2020'\n",
       "7. 'July, 2020'\n",
       "8. 'August, 2020'\n",
       "9. 'September, 2020'\n",
       "10. 'October, 2020'\n",
       "11. 'November, 2020'\n",
       "12. 'December, 2020'\n",
       "\n",
       "\n"
      ],
      "text/plain": [
       " [1] \"January, 2020\"   \"February, 2020\"  \"March, 2020\"     \"April, 2020\"    \n",
       " [5] \"May, 2020\"       \"June, 2020\"      \"July, 2020\"      \"August, 2020\"   \n",
       " [9] \"September, 2020\" \"October, 2020\"   \"November, 2020\"  \"December, 2020\" "
      ]
     },
     "metadata": {},
     "output_type": "display_data"
    }
   ],
   "source": [
    "month <- list(\"January\", \"February\", \"March\", \"April\", \"May\", \"June\", \n",
    "              \"July\", \"August\", \"September\", \"October\", \"November\", \"December\")\n",
    "\n",
    "months_2020 <- NULL\n",
    "# BEGIN SOLUTION NO PROMPT\n",
    "# these two solutions are equivalent\n",
    "months_2020 <- map_chr(month, function(list) paste0(list, \", \", 2020))\n",
    "months_2020 <- map_chr(month, ~ paste0(., \", \", 2020))\n",
    "# END SOLUTION\n",
    "                       \n",
    "months_2020"
   ]
  },
  {
   "cell_type": "raw",
   "metadata": {},
   "source": [
    "# END SOLUTION"
   ]
  },
  {
   "cell_type": "raw",
   "metadata": {},
   "source": [
    "# BEGIN TESTS"
   ]
  },
  {
   "cell_type": "code",
   "execution_count": 6,
   "metadata": {},
   "outputs": [],
   "source": [
    "# TESTS\n",
    "expect_true(is.character(months_2020))\n",
    "expect_equal(length(months_2020), 12)\n",
    "expect_equal(months_2020[1], 'January, 2020')\n",
    "expect_equal(months_2020[10], 'October, 2020')"
   ]
  },
  {
   "cell_type": "raw",
   "metadata": {},
   "source": [
    "# END TESTS"
   ]
  },
  {
   "cell_type": "raw",
   "metadata": {},
   "source": [
    "# END QUESTION"
   ]
  },
  {
   "cell_type": "raw",
   "metadata": {},
   "source": [
    "# BEGIN QUESTION\n",
    "name: ex3\n",
    "points: 1"
   ]
  },
  {
   "cell_type": "markdown",
   "metadata": {},
   "source": [
    "### Exercise 3\n",
    "rubric={autograde:1}\n",
    "\n",
    "Use the `tibble` function to create a data frame from the `species` and `data` objects provided below. Your data frame should have 3 rows and two columns (`species` and `data`). The first column should be a character vector, the second column should be a list column, where each element is a tibble itself. Bind the name `nested_penguins` to the final tibble you create.\n",
    "\n",
    "_**Hint: when working with list columns in Jupyter, use `print` to view the output as Jupyter does NOT have a good output for nested data frames yet.**_ "
   ]
  },
  {
   "cell_type": "raw",
   "metadata": {},
   "source": [
    "# BEGIN SOLUTION"
   ]
  },
  {
   "cell_type": "code",
   "execution_count": 7,
   "metadata": {},
   "outputs": [
    {
     "name": "stdout",
     "output_type": "stream",
     "text": [
      "\u001b[90m# A tibble: 3 × 2\u001b[39m\n",
      "  species   data            \n",
      "  \u001b[3m\u001b[90m<chr>\u001b[39m\u001b[23m     \u001b[3m\u001b[90m<list>\u001b[39m\u001b[23m          \n",
      "\u001b[90m1\u001b[39m Gentoo    \u001b[90m<tibble [2 × 2]>\u001b[39m\n",
      "\u001b[90m2\u001b[39m Chinstrap \u001b[90m<tibble [2 × 2]>\u001b[39m\n",
      "\u001b[90m3\u001b[39m Adelie    \u001b[90m<tibble [2 × 2]>\u001b[39m\n"
     ]
    }
   ],
   "source": [
    "species <- c(\"Gentoo\", \"Chinstrap\", \"Adelie\")\n",
    "\n",
    "data <- list(tibble(island = c(\"Biscoe\", \"Biscoe\"), sex = c(\"male\", \"female\")),\n",
    "             tibble(island = c(\"Dream\", \"Dream\"), sex = c(\"male\", \"male\")),\n",
    "             tibble(island = c(\"Torgersen\", \"Dream\"), sex = c(\"female\", \"female\")))\n",
    "\n",
    "nested_penguins <- NULL\n",
    "# BEGIN SOLUTION NO PROMPT\n",
    "nested_penguins <- tibble(species = species,\n",
    "                         data = data) \n",
    "# END SOLUTION\n",
    "\n",
    "print(nested_penguins)"
   ]
  },
  {
   "cell_type": "raw",
   "metadata": {},
   "source": [
    "# END SOLUTION"
   ]
  },
  {
   "cell_type": "raw",
   "metadata": {},
   "source": [
    "# BEGIN TESTS"
   ]
  },
  {
   "cell_type": "code",
   "execution_count": 8,
   "metadata": {},
   "outputs": [],
   "source": [
    "# TESTS\n",
    "expect_true(is.data.frame(nested_penguins))\n",
    "expect_true(is.list(nested_penguins$data))\n",
    "expect_true(is.character(nested_penguins$species))\n",
    "expect_equal(nrow(nested_penguins), 3)\n",
    "expect_equal(ncol(nested_penguins), 2)\n",
    "expect_equal(paste(tolower(sort(colnames(nested_penguins))), collapse = \"\"), 'dataspecies')\n",
    "expect_equal(nested_penguins$species[2], 'Chinstrap')\n",
    "expect_equal(ncol(nested_penguins$data[[1]]), 2)\n",
    "expect_equal(nrow(nested_penguins$data[[1]]), 2)\n",
    "expect_equal(nested_penguins$data[[2]]$sex[2], 'male')"
   ]
  },
  {
   "cell_type": "raw",
   "metadata": {},
   "source": [
    "# END TESTS"
   ]
  },
  {
   "cell_type": "raw",
   "metadata": {},
   "source": [
    "# END QUESTION"
   ]
  },
  {
   "cell_type": "raw",
   "metadata": {},
   "source": [
    "# BEGIN QUESTION\n",
    "name: ex4\n",
    "points: 1"
   ]
  },
  {
   "cell_type": "markdown",
   "metadata": {},
   "source": [
    "### Exercise 4\n",
    "rubric={autograde:1}"
   ]
  },
  {
   "cell_type": "markdown",
   "metadata": {},
   "source": [
    "Use {tidyr} `unnest` on the `nested_penguins` data set you created above to see what the unnested data frame would look like. Bind the name `unnested_penguins` to this new tibble.\n",
    "\n",
    "*Hint: provide the argument `cols = c(data)` inside `unnest` to specify which column you would like to unnest.*"
   ]
  },
  {
   "cell_type": "raw",
   "metadata": {},
   "source": [
    "# BEGIN SOLUTION"
   ]
  },
  {
   "cell_type": "code",
   "execution_count": 9,
   "metadata": {},
   "outputs": [
    {
     "name": "stdout",
     "output_type": "stream",
     "text": [
      "\u001b[90m# A tibble: 6 × 3\u001b[39m\n",
      "  species   island    sex   \n",
      "  \u001b[3m\u001b[90m<chr>\u001b[39m\u001b[23m     \u001b[3m\u001b[90m<chr>\u001b[39m\u001b[23m     \u001b[3m\u001b[90m<chr>\u001b[39m\u001b[23m \n",
      "\u001b[90m1\u001b[39m Gentoo    Biscoe    male  \n",
      "\u001b[90m2\u001b[39m Gentoo    Biscoe    female\n",
      "\u001b[90m3\u001b[39m Chinstrap Dream     male  \n",
      "\u001b[90m4\u001b[39m Chinstrap Dream     male  \n",
      "\u001b[90m5\u001b[39m Adelie    Torgersen female\n",
      "\u001b[90m6\u001b[39m Adelie    Dream     female\n"
     ]
    }
   ],
   "source": [
    "unnested_penguins <- NULL\n",
    "# BEGIN SOLUTION NO PROMPT\n",
    "unnested_penguins <- nested_penguins %>% unnest(cols = c(data))\n",
    "# END SOLUTION\n",
    "\n",
    "print(unnested_penguins)"
   ]
  },
  {
   "cell_type": "raw",
   "metadata": {},
   "source": [
    "# END SOLUTION"
   ]
  },
  {
   "cell_type": "raw",
   "metadata": {},
   "source": [
    "# BEGIN TESTS"
   ]
  },
  {
   "cell_type": "code",
   "execution_count": 10,
   "metadata": {},
   "outputs": [],
   "source": [
    "# TESTS\n",
    "expect_true(is.data.frame(unnested_penguins))\n",
    "expect_equal(nrow(unnested_penguins), 6)\n",
    "expect_equal(ncol(unnested_penguins), 3)\n",
    "expect_equal(paste(tolower(sort(colnames(unnested_penguins))), collapse = \"\"), 'islandsexspecies')\n",
    "expect_equal(paste(tolower(sort(unique(unnested_penguins$island))), collapse = \"\"), 'biscoedreamtorgersen')\n",
    "expect_equal(paste(tolower(sort(unique(unnested_penguins$sex))), collapse = \"\"), 'femalemale')"
   ]
  },
  {
   "cell_type": "raw",
   "metadata": {},
   "source": [
    "# END TESTS"
   ]
  },
  {
   "cell_type": "raw",
   "metadata": {},
   "source": [
    "# END QUESTION"
   ]
  },
  {
   "cell_type": "raw",
   "metadata": {},
   "source": [
    "# BEGIN QUESTION\n",
    "name: ex5\n",
    "points: 1"
   ]
  },
  {
   "cell_type": "markdown",
   "metadata": {},
   "source": [
    "### Exercise 5\n",
    "rubric={autograde:1}"
   ]
  },
  {
   "cell_type": "markdown",
   "metadata": {},
   "source": [
    "Let's explore the {canlang} `region_lang` data set again! \n",
    "\n",
    "Use {dpylr}'s `group_by` and {tidyr}'s `nest` to create a nested data frame where the data for each language category (the column `category`) is nested in a list column named `data`. Your final data frame should have 3 rows and two columns (named `category` and `data`). Bind the name `nested_reg_lang` to it."
   ]
  },
  {
   "cell_type": "raw",
   "metadata": {},
   "source": [
    "# BEGIN SOLUTION"
   ]
  },
  {
   "cell_type": "code",
   "execution_count": 11,
   "metadata": {},
   "outputs": [
    {
     "name": "stdout",
     "output_type": "stream",
     "text": [
      "\u001b[90m# A tibble: 3 × 2\u001b[39m\n",
      "\u001b[90m# Groups:   category [3]\u001b[39m\n",
      "  category                                data                \n",
      "  \u001b[3m\u001b[90m<chr>\u001b[39m\u001b[23m                                   \u001b[3m\u001b[90m<list>\u001b[39m\u001b[23m              \n",
      "\u001b[90m1\u001b[39m Aboriginal languages                    \u001b[90m<tibble [2,345 × 6]>\u001b[39m\n",
      "\u001b[90m2\u001b[39m Non-Official & Non-Aboriginal languages \u001b[90m<tibble [5,075 × 6]>\u001b[39m\n",
      "\u001b[90m3\u001b[39m Official languages                      \u001b[90m<tibble [70 × 6]>\u001b[39m   \n"
     ]
    }
   ],
   "source": [
    "nested_reg_lang <- NULL\n",
    "# BEGIN SOLUTION NO PROMPT\n",
    "nested_reg_lang <- region_lang %>% \n",
    "    group_by(category) %>% \n",
    "    nest()\n",
    "# END SOLUTION\n",
    "\n",
    "print(nested_reg_lang)"
   ]
  },
  {
   "cell_type": "raw",
   "metadata": {},
   "source": [
    "# END SOLUTION"
   ]
  },
  {
   "cell_type": "raw",
   "metadata": {},
   "source": [
    "# BEGIN TESTS"
   ]
  },
  {
   "cell_type": "code",
   "execution_count": 12,
   "metadata": {},
   "outputs": [],
   "source": [
    "# TESTS\n",
    "expect_true(is.data.frame(nested_reg_lang))\n",
    "expect_equal(paste(tolower(sort(colnames(nested_reg_lang))), collapse = \"\"), 'categorydata')\n",
    "expect_true(is.list(nested_reg_lang$data))\n",
    "expect_true(is.character(nested_reg_lang$category))\n",
    "expect_equal(nrow(nested_reg_lang), 3)\n",
    "expect_equal(ncol(nested_reg_lang), 2)\n",
    "expect_equal(nested_reg_lang$category[3], 'Official languages')\n",
    "expect_equal(ncol(nested_reg_lang$data[[1]]), 6)\n",
    "expect_equal(nrow(nested_reg_lang$data[[1]]), 2345)\n",
    "expect_equal(nested_reg_lang$data[[2]]$mother_tongue[2], 75)"
   ]
  },
  {
   "cell_type": "raw",
   "metadata": {},
   "source": [
    "# END TESTS"
   ]
  },
  {
   "cell_type": "raw",
   "metadata": {},
   "source": [
    "# END QUESTION"
   ]
  },
  {
   "cell_type": "raw",
   "metadata": {},
   "source": [
    "# BEGIN QUESTION\n",
    "name: ex6\n",
    "points: 1"
   ]
  },
  {
   "cell_type": "markdown",
   "metadata": {},
   "source": [
    "### Exercise 6\n",
    "rubric={autograde:1}"
   ]
  },
  {
   "cell_type": "markdown",
   "metadata": {},
   "source": [
    "Now let's do something insteresting with the `nested_reg_lang` data frame you created above!\n",
    "\n",
    "Let's calculate the correlation between the number of people who speak a language at home with the number who speak that same language at work, for each language category. Add this summary statistic in the `nested_reg_lang` data set, and give the name `cor_home_work` to the column containing the correlations. Use {dplyr}'s `mutate`, {purrr}'s `map_dbl` an anonymouse function, and the base `cor` function to accomplish this.  Bind the name `nested_reg_lang_hw_cor` to this new data frame."
   ]
  },
  {
   "cell_type": "raw",
   "metadata": {},
   "source": [
    "# BEGIN SOLUTION"
   ]
  },
  {
   "cell_type": "code",
   "execution_count": 13,
   "metadata": {
    "scrolled": true
   },
   "outputs": [
    {
     "name": "stdout",
     "output_type": "stream",
     "text": [
      "\u001b[90m# A tibble: 3 × 3\u001b[39m\n",
      "\u001b[90m# Groups:   category [3]\u001b[39m\n",
      "  category                                data                 cor_home_work\n",
      "  \u001b[3m\u001b[90m<chr>\u001b[39m\u001b[23m                                   \u001b[3m\u001b[90m<list>\u001b[39m\u001b[23m                       \u001b[3m\u001b[90m<dbl>\u001b[39m\u001b[23m\n",
      "\u001b[90m1\u001b[39m Aboriginal languages                    \u001b[90m<tibble [2,345 × 6]>\u001b[39m         0.772\n",
      "\u001b[90m2\u001b[39m Non-Official & Non-Aboriginal languages \u001b[90m<tibble [5,075 × 6]>\u001b[39m         0.869\n",
      "\u001b[90m3\u001b[39m Official languages                      \u001b[90m<tibble [70 × 6]>\u001b[39m            0.989\n"
     ]
    }
   ],
   "source": [
    "nested_reg_lang_hw_cor <- NULL\n",
    "# BEGIN SOLUTION NO PROMPT\n",
    "nested_reg_lang_hw_cor <- nested_reg_lang %>% \n",
    "    mutate(cor_home_work = map_dbl(data, ~cor(.x$most_at_home, .x$most_at_work)))\n",
    "# END SOLUTION\n",
    "\n",
    "print(nested_reg_lang_hw_cor)"
   ]
  },
  {
   "cell_type": "raw",
   "metadata": {},
   "source": [
    "# END SOLUTION"
   ]
  },
  {
   "cell_type": "raw",
   "metadata": {},
   "source": [
    "# BEGIN TESTS"
   ]
  },
  {
   "cell_type": "code",
   "execution_count": 14,
   "metadata": {},
   "outputs": [],
   "source": [
    "# TESTS\n",
    "expect_true(is.data.frame(nested_reg_lang_hw_cor))\n",
    "expect_equal(paste(tolower(sort(colnames(nested_reg_lang_hw_cor))), collapse = \"\"), 'categorycor_home_workdata')\n",
    "expect_true(is.list(nested_reg_lang_hw_cor$data))\n",
    "expect_true(is.character(nested_reg_lang_hw_cor$category))\n",
    "expect_true(is.numeric(nested_reg_lang_hw_cor$cor_home_work))\n",
    "expect_equal(nrow(nested_reg_lang_hw_cor), 3)\n",
    "expect_equal(ncol(nested_reg_lang_hw_cor), 3)\n",
    "expect_equal(nested_reg_lang_hw_cor$category[3], 'Official languages')\n",
    "expect_equal(ncol(nested_reg_lang_hw_cor$data[[1]]), 6)\n",
    "expect_equal(nrow(nested_reg_lang_hw_cor$data[[1]]), 2345)\n",
    "expect_equal(nested_reg_lang_hw_cor$data[[2]]$mother_tongue[2], 75)\n",
    "expect_equal(nested_reg_lang_hw_cor$cor_home_work[1], 0.772, tolerance = 0.001)\n",
    "expect_equal(nested_reg_lang_hw_cor$cor_home_work[3], 0.989, tolerance = 0.001)"
   ]
  },
  {
   "cell_type": "raw",
   "metadata": {},
   "source": [
    "# END TESTS"
   ]
  },
  {
   "cell_type": "raw",
   "metadata": {},
   "source": [
    "# END QUESTION"
   ]
  },
  {
   "cell_type": "markdown",
   "metadata": {},
   "source": [
    "Congratulations! You are done the worksheet!!! Pat yourself on the back, and submit your worksheet to Gradescope!"
   ]
  }
 ],
 "metadata": {
  "celltoolbar": "Create Assignment",
  "kernelspec": {
   "display_name": "R",
   "language": "R",
   "name": "ir"
  },
  "language_info": {
   "codemirror_mode": "r",
   "file_extension": ".r",
   "mimetype": "text/x-r-source",
   "name": "R",
   "pygments_lexer": "r",
   "version": "4.2.1"
  },
  "toc-autonumbering": false
 },
 "nbformat": 4,
 "nbformat_minor": 4
}
