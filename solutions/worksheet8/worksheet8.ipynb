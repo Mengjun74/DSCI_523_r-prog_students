{
 "cells": [
  {
   "cell_type": "raw",
   "metadata": {},
   "source": [
    "# ASSIGNMENT CONFIG\n",
    "requirements: requirements.R\n",
    "generate:\n",
    "    show_hidden: true\n",
    "    show_stdout: true\n",
    "    channel_priority_strict: false\n",
    "environment: environment.yml"
   ]
  },
  {
   "cell_type": "markdown",
   "metadata": {},
   "source": [
    "## Worksheet 8\n",
    "\n",
    "Welcome to worksheet 8! This worksheet was designed to allow you to practice what was covered in the assigned readings & lectures/videos/recordings. The labs problems will be more challenging then those in the worksheet, and the worksheet questions will help prepare you for them. Time will be provided to work on the worksheets in small groups during lecture, however it is not expected that you will complete the worksheet in this time. You are expected to spend some indpendent time working on the worksheet after lecture. \n",
    "\n",
    "**Worksheets are due on Saturdays at 6pm, and must be submitted as `.ipynb` files to Gradescope.**"
   ]
  },
  {
   "cell_type": "markdown",
   "metadata": {},
   "source": [
    "### Worksheet mechanics\n",
    "rubric={mechanics:1}\n",
    "\n",
    "- You submit a `.ipynb` version of this homework to Gradescope.\n",
    "- **There is autograding in this lab, so please do not move or rename this file. Also, do not copy and paste cells, if you need to add new cells, create new cells via the \"Insert a cell below\" button instead.**"
   ]
  },
  {
   "cell_type": "markdown",
   "metadata": {},
   "source": [
    "Run the cell below to load the libraries needed for this worksheet, as well as to check your answers as you go!"
   ]
  },
  {
   "cell_type": "code",
   "execution_count": 2,
   "metadata": {},
   "outputs": [],
   "source": [
    "library(digest)\n",
    "library(palmerpenguins)\n",
    "library(stringr)\n",
    "library(testthat)\n",
    "library(tidyverse)\n",
    "options(repr.matrix.max.rows = 10)"
   ]
  },
  {
   "cell_type": "raw",
   "metadata": {},
   "source": [
    "# BEGIN QUESTION\n",
    "name: ex1\n",
    "points: 1"
   ]
  },
  {
   "cell_type": "markdown",
   "metadata": {},
   "source": [
    "### Exercise 1\n",
    "rubric={autograde:1}\n",
    "\n",
    "The `get_rectangle` function shown below does not work for unquoted column names. Use the `{{` operator to embrace the column names/user inputs given by the user so that the function works as described:\n",
    "\n",
    "```\n",
    "#' Get smaller rectangle from a bigger data frame\n",
    "#' \n",
    "#' `get_rectangle` subsets a data frame using filter and select syntax.\n",
    "#'\n",
    "#' @param data A data frame to subset\n",
    "#' @param row_filter filter logical syntax used to filter rows, column name should be unquoted.\n",
    "#' @param column_range select syntax (single column or range via `col1:coln`) to \n",
    "#' select columns, default is everything\n",
    "#'\n",
    "#' @return A smaller/subsetted data frame\n",
    "#' @export\n",
    "#'\n",
    "#' @examples\n",
    "#' library(palmerpenguins)\n",
    "#' get_rectangle(penguins, body_mass_g > 3000, species:island)\n",
    "get_rectangle <- function(data, row_filter, column_range = everything()) {\n",
    "    data |> \n",
    "        filter(row_filter) |> \n",
    "        select(column_range)\n",
    "}\n",
    "```\n",
    "\n",
    "*Hint: embracing works for more than just a column name - you can even embrace a variable that will hold a filter logical statement (e.g., `body_mass_g > 3000`).*"
   ]
  },
  {
   "cell_type": "raw",
   "metadata": {},
   "source": [
    "# BEGIN SOLUTION"
   ]
  },
  {
   "cell_type": "code",
   "execution_count": 3,
   "metadata": {},
   "outputs": [
    {
     "data": {
      "text/html": [
       "<table class=\"dataframe\">\n",
       "<caption>A tibble: 331 × 2</caption>\n",
       "<thead>\n",
       "\t<tr><th scope=col>species</th><th scope=col>island</th></tr>\n",
       "\t<tr><th scope=col>&lt;fct&gt;</th><th scope=col>&lt;fct&gt;</th></tr>\n",
       "</thead>\n",
       "<tbody>\n",
       "\t<tr><td>Adelie</td><td>Torgersen</td></tr>\n",
       "\t<tr><td>Adelie</td><td>Torgersen</td></tr>\n",
       "\t<tr><td>Adelie</td><td>Torgersen</td></tr>\n",
       "\t<tr><td>Adelie</td><td>Torgersen</td></tr>\n",
       "\t<tr><td>Adelie</td><td>Torgersen</td></tr>\n",
       "\t<tr><td>⋮</td><td>⋮</td></tr>\n",
       "\t<tr><td>Chinstrap</td><td>Dream</td></tr>\n",
       "\t<tr><td>Chinstrap</td><td>Dream</td></tr>\n",
       "\t<tr><td>Chinstrap</td><td>Dream</td></tr>\n",
       "\t<tr><td>Chinstrap</td><td>Dream</td></tr>\n",
       "\t<tr><td>Chinstrap</td><td>Dream</td></tr>\n",
       "</tbody>\n",
       "</table>\n"
      ],
      "text/latex": [
       "A tibble: 331 × 2\n",
       "\\begin{tabular}{ll}\n",
       " species & island\\\\\n",
       " <fct> & <fct>\\\\\n",
       "\\hline\n",
       "\t Adelie & Torgersen\\\\\n",
       "\t Adelie & Torgersen\\\\\n",
       "\t Adelie & Torgersen\\\\\n",
       "\t Adelie & Torgersen\\\\\n",
       "\t Adelie & Torgersen\\\\\n",
       "\t ⋮ & ⋮\\\\\n",
       "\t Chinstrap & Dream\\\\\n",
       "\t Chinstrap & Dream\\\\\n",
       "\t Chinstrap & Dream\\\\\n",
       "\t Chinstrap & Dream\\\\\n",
       "\t Chinstrap & Dream\\\\\n",
       "\\end{tabular}\n"
      ],
      "text/markdown": [
       "\n",
       "A tibble: 331 × 2\n",
       "\n",
       "| species &lt;fct&gt; | island &lt;fct&gt; |\n",
       "|---|---|\n",
       "| Adelie | Torgersen |\n",
       "| Adelie | Torgersen |\n",
       "| Adelie | Torgersen |\n",
       "| Adelie | Torgersen |\n",
       "| Adelie | Torgersen |\n",
       "| ⋮ | ⋮ |\n",
       "| Chinstrap | Dream |\n",
       "| Chinstrap | Dream |\n",
       "| Chinstrap | Dream |\n",
       "| Chinstrap | Dream |\n",
       "| Chinstrap | Dream |\n",
       "\n"
      ],
      "text/plain": [
       "    species   island   \n",
       "1   Adelie    Torgersen\n",
       "2   Adelie    Torgersen\n",
       "3   Adelie    Torgersen\n",
       "4   Adelie    Torgersen\n",
       "5   Adelie    Torgersen\n",
       "⋮   ⋮         ⋮        \n",
       "327 Chinstrap Dream    \n",
       "328 Chinstrap Dream    \n",
       "329 Chinstrap Dream    \n",
       "330 Chinstrap Dream    \n",
       "331 Chinstrap Dream    "
      ]
     },
     "metadata": {},
     "output_type": "display_data"
    }
   ],
   "source": [
    "# YOUR CORRECTED CODE HERE\n",
    "# BEGIN SOLUTION NO PROMPT\n",
    "#' Get smaller rectangle from a bigger data frame\n",
    "#' \n",
    "#' `get_rectangle` subsets a data frame using filter and select syntax.\n",
    "#'\n",
    "#' @param data A data frame to subset\n",
    "#' @param row_filter filter logical syntax used to filter rows, column name should be unquoted.\n",
    "#' @param column_range select syntax (single column or range via `col1:coln`) to \n",
    "#' select columns, default is everything\n",
    "#'\n",
    "#' @return A smaller/subsetted data frame\n",
    "#' @export\n",
    "#'\n",
    "#' @examples\n",
    "#' library(palmerpenguins)\n",
    "#' get_rectangle(penguins, body_mass_g > 3000, species:island)\n",
    "get_rectangle <- function(data, row_filter, column_range = everything()) {\n",
    "    data |> \n",
    "        filter({{ row_filter }}) |> \n",
    "        select({{ column_range }})\n",
    "}\n",
    "# END SOLUTION\n",
    "\n",
    "get_rectangle(penguins, body_mass_g > 3000, species:island)"
   ]
  },
  {
   "cell_type": "raw",
   "metadata": {},
   "source": [
    "# END SOLUTION"
   ]
  },
  {
   "cell_type": "raw",
   "metadata": {},
   "source": [
    "# BEGIN TESTS"
   ]
  },
  {
   "cell_type": "code",
   "execution_count": 4,
   "metadata": {},
   "outputs": [],
   "source": [
    "# TESTS\n",
    "fun_body <- paste(deparse(body(get_rectangle)), collapse = \"\")\n",
    "answer <- get_rectangle(penguins, body_mass_g > 3000, species:island)\n",
    "answer2 <- get_rectangle(penguins, body_mass_g > 3000)\n",
    "expect_true(is.data.frame(answer))\n",
    "expect_equal(nrow(answer), 331)\n",
    "expect_equal(ncol(answer), 2)\n",
    "expect_equal(paste(tolower(sort(colnames(answer))), collapse = \"\"), 'islandspecies')\n",
    "expect_equal(nrow(answer2), 331)\n",
    "expect_equal(ncol(answer2), 8)\n",
    "expect_equal(paste(tolower(sort(colnames(answer2))), collapse = \"\"), 'bill_depth_mmbill_length_mmbody_mass_gflipper_length_mmislandsexspeciesyear')\n",
    "expect_true(str_detect(fun_body, \"\\\\{[ ]*\\\\{[ ]*row_filter[ ]*\\\\}[ ]*\\\\}\"))\n",
    "expect_true(str_detect(fun_body, \"\\\\{[ ]*\\\\{[ ]*column_range[ ]*\\\\}[ ]*\\\\}\"))"
   ]
  },
  {
   "cell_type": "raw",
   "metadata": {},
   "source": [
    "# END TESTS"
   ]
  },
  {
   "cell_type": "raw",
   "metadata": {},
   "source": [
    "# END QUESTION"
   ]
  },
  {
   "cell_type": "raw",
   "metadata": {},
   "source": [
    "# BEGIN QUESTION\n",
    "name: ex2\n",
    "points: 1"
   ]
  },
  {
   "cell_type": "markdown",
   "metadata": {},
   "source": [
    "### Exercise 2\n",
    "rubric={autograde:1}"
   ]
  },
  {
   "cell_type": "markdown",
   "metadata": {},
   "source": [
    "Why do we need to embrace the columns with `{{` (or do something else that is equivalent) when writing functions %>% that wrap {tidyverse} functions when we want to pass unquoted column names in as function arguments? Choose all answers listed below that you think are correct:\n",
    "\n",
    "A. R performs lazy, not eager, evaluation of function arguments\n",
    "\n",
    "B. A data frame column name is not something that is known/accessible in the global environment\n",
    "\n",
    "C. Column names cannot be referred to as strings in R\n",
    "\n",
    "D. `{{` quotes the column names, and then unquotes and evaluates them inside the data mask - where they can be successfully evaluated\n",
    "\n",
    "Create a character vector of the answers above you think are correct, for example, `c(\"E\", \"F\")`. Bind the name `answer_2` to this vector."
   ]
  },
  {
   "cell_type": "raw",
   "metadata": {},
   "source": [
    "# BEGIN SOLUTION"
   ]
  },
  {
   "cell_type": "code",
   "execution_count": 5,
   "metadata": {},
   "outputs": [
    {
     "data": {
      "text/html": [
       "<style>\n",
       ".list-inline {list-style: none; margin:0; padding: 0}\n",
       ".list-inline>li {display: inline-block}\n",
       ".list-inline>li:not(:last-child)::after {content: \"\\00b7\"; padding: 0 .5ex}\n",
       "</style>\n",
       "<ol class=list-inline><li>'B'</li><li>'D'</li></ol>\n"
      ],
      "text/latex": [
       "\\begin{enumerate*}\n",
       "\\item 'B'\n",
       "\\item 'D'\n",
       "\\end{enumerate*}\n"
      ],
      "text/markdown": [
       "1. 'B'\n",
       "2. 'D'\n",
       "\n",
       "\n"
      ],
      "text/plain": [
       "[1] \"B\" \"D\""
      ]
     },
     "metadata": {},
     "output_type": "display_data"
    }
   ],
   "source": [
    "answer_2 <- NULL\n",
    "# BEGIN SOLUTION NO PROMPT\n",
    "answer_2 <- c(\"B\", \"D\")\n",
    "# END SOLUTION\n",
    "answer_2"
   ]
  },
  {
   "cell_type": "raw",
   "metadata": {},
   "source": [
    "# END SOLUTION"
   ]
  },
  {
   "cell_type": "raw",
   "metadata": {},
   "source": [
    "# BEGIN TESTS"
   ]
  },
  {
   "cell_type": "code",
   "execution_count": 6,
   "metadata": {},
   "outputs": [],
   "source": [
    "# TESTS\n",
    "expect_equal(digest(paste(sort(tolower(answer_2)), collapse = \"\")), '95767987b2037a2f09c4e5c0997ec206')"
   ]
  },
  {
   "cell_type": "raw",
   "metadata": {},
   "source": [
    "# END TESTS"
   ]
  },
  {
   "cell_type": "raw",
   "metadata": {},
   "source": [
    "# END QUESTION"
   ]
  },
  {
   "cell_type": "raw",
   "metadata": {},
   "source": [
    "# BEGIN QUESTION\n",
    "name: ex3\n",
    "points: 1"
   ]
  },
  {
   "cell_type": "markdown",
   "metadata": {},
   "source": [
    "### Exercise 3\n",
    "rubric={autograde:1}"
   ]
  },
  {
   "cell_type": "markdown",
   "metadata": {},
   "source": [
    "The `nest_and_count function` shown below does not work. Your task is to identify why and fix it so that the function works as described:\n",
    "\n",
    "```\n",
    "#' Nest data and count observations in each group\n",
    "#'\n",
    "#' @param data A data frame\n",
    "#' @param nest_by A column to group by. Column name should be unquoted.\n",
    "#' @param col_name A new column name for the count column. Column name should be unquoted.\n",
    "#'\n",
    "#' @return A data frame where the data, other than the group specified in \n",
    "#' `nest_by`, is nested. The number of rows for each data frame in the list\n",
    "#' column is given in a column whose name is specified by the user.\n",
    "#' @export\n",
    "#'\n",
    "#' @examples\n",
    "#' library(palmerpenguins)\n",
    "#' nest_and_count(penguins, species, n)\n",
    "nest_and_count <- function(data, nest_by, col_name) {\n",
    "    data |> \n",
    "        group_by({{ nest_by }}) |> \n",
    "        nest() |> \n",
    "        mutate({{ col_name }} = map_dbl(data, nrow))\n",
    "}\n",
    "```"
   ]
  },
  {
   "cell_type": "raw",
   "metadata": {},
   "source": [
    "# BEGIN SOLUTION"
   ]
  },
  {
   "cell_type": "code",
   "execution_count": 7,
   "metadata": {
    "scrolled": true
   },
   "outputs": [
    {
     "name": "stdout",
     "output_type": "stream",
     "text": [
      "\u001b[90m# A tibble: 3 × 3\u001b[39m\n",
      "\u001b[90m# Groups:   species [3]\u001b[39m\n",
      "  species   data                   n\n",
      "  \u001b[3m\u001b[90m<fct>\u001b[39m\u001b[23m     \u001b[3m\u001b[90m<list>\u001b[39m\u001b[23m             \u001b[3m\u001b[90m<dbl>\u001b[39m\u001b[23m\n",
      "\u001b[90m1\u001b[39m Adelie    \u001b[90m<tibble [152 × 7]>\u001b[39m   152\n",
      "\u001b[90m2\u001b[39m Gentoo    \u001b[90m<tibble [124 × 7]>\u001b[39m   124\n",
      "\u001b[90m3\u001b[39m Chinstrap \u001b[90m<tibble [68 × 7]>\u001b[39m     68\n"
     ]
    }
   ],
   "source": [
    "# YOUR CORRECTED CODE HERE\n",
    "# BEGIN SOLUTION NO PROMPT\n",
    "#' Nest data and count observations in each group\n",
    "#'\n",
    "#' @param data A data frame\n",
    "#' @param nest_by A column to group by. Column name should be unquoted.\n",
    "#' @param col_name A new column name for the count column. Column name should be unquoted.\n",
    "#'\n",
    "#' @return A data frame where the data, other than the group specified in \n",
    "#' `nest_by`, is nested. The number of rows for each data frame in the list\n",
    "#' column is given in a column whose name is specified by the user.\n",
    "#' @export\n",
    "#'\n",
    "#' @examples\n",
    "#' library(palmerpenguins)\n",
    "#' nest_and_count(penguins, species, n)\n",
    "nest_and_count <- function(data, nest_by, col_name) {\n",
    "    data |> \n",
    "        group_by({{ nest_by }}) |> \n",
    "        nest() |>\n",
    "        mutate({{ col_name }} := map_dbl(data, nrow))\n",
    "}\n",
    "# END SOLUTION\n",
    "\n",
    "nest_and_count(penguins, species, n) |> print()"
   ]
  },
  {
   "cell_type": "raw",
   "metadata": {},
   "source": [
    "# END SOLUTION"
   ]
  },
  {
   "cell_type": "raw",
   "metadata": {},
   "source": [
    "# BEGIN TESTS"
   ]
  },
  {
   "cell_type": "code",
   "execution_count": 8,
   "metadata": {},
   "outputs": [],
   "source": [
    "# TESTS\n",
    "fun_body <- paste(deparse(body(nest_and_count)), collapse = \"\")\n",
    "answer <- nest_and_count(penguins, species)\n",
    "expect_true(is.data.frame(answer))\n",
    "expect_equal(nrow(answer), 3)\n",
    "expect_equal(ncol(answer), 3)\n",
    "expect_equal(paste(tolower(sort(colnames(answer)[1:2])), collapse = \"\"), 'dataspecies')\n",
    "expect_equal(sum(as.numeric(answer[[3]])), 344)\n",
    "expect_true(str_detect(fun_body, \":=\"))"
   ]
  },
  {
   "cell_type": "code",
   "execution_count": 9,
   "metadata": {},
   "outputs": [
    {
     "data": {
      "text/html": [
       "<style>\n",
       ".list-inline {list-style: none; margin:0; padding: 0}\n",
       ".list-inline>li {display: inline-block}\n",
       ".list-inline>li:not(:last-child)::after {content: \"\\00b7\"; padding: 0 .5ex}\n",
       "</style>\n",
       "<ol class=list-inline><li>'species'</li><li>'data'</li></ol>\n"
      ],
      "text/latex": [
       "\\begin{enumerate*}\n",
       "\\item 'species'\n",
       "\\item 'data'\n",
       "\\end{enumerate*}\n"
      ],
      "text/markdown": [
       "1. 'species'\n",
       "2. 'data'\n",
       "\n",
       "\n"
      ],
      "text/plain": [
       "[1] \"species\" \"data\"   "
      ]
     },
     "metadata": {},
     "output_type": "display_data"
    }
   ],
   "source": [
    "colnames(answer)[1:2]"
   ]
  },
  {
   "cell_type": "raw",
   "metadata": {},
   "source": [
    "# END TESTS"
   ]
  },
  {
   "cell_type": "raw",
   "metadata": {},
   "source": [
    "# END QUESTION"
   ]
  },
  {
   "cell_type": "raw",
   "metadata": {},
   "source": [
    "# BEGIN QUESTION\n",
    "name: ex4\n",
    "points: 1"
   ]
  },
  {
   "cell_type": "markdown",
   "metadata": {},
   "source": [
    "### Exercise 4\n",
    "rubric={autograde:1}"
   ]
  },
  {
   "cell_type": "markdown",
   "metadata": {},
   "source": [
    "Take the function you fixed in exercise 1 and **rename it** `get_rectangle2`. Now make it work better with select syntax by added pass the dots, `...`, in place of `column_range`. When you do this, play with inputs to this function, what can you do with `...` as opposed to using a named argument? *Hint: try selecting columns that are not beside each other.* What can't you do? *Hint: think about function argument defaults.*"
   ]
  },
  {
   "cell_type": "raw",
   "metadata": {},
   "source": [
    "# BEGIN SOLUTION"
   ]
  },
  {
   "cell_type": "code",
   "execution_count": 10,
   "metadata": {
    "scrolled": true
   },
   "outputs": [
    {
     "data": {
      "text/html": [
       "<table class=\"dataframe\">\n",
       "<caption>A tibble: 331 × 2</caption>\n",
       "<thead>\n",
       "\t<tr><th scope=col>species</th><th scope=col>island</th></tr>\n",
       "\t<tr><th scope=col>&lt;fct&gt;</th><th scope=col>&lt;fct&gt;</th></tr>\n",
       "</thead>\n",
       "<tbody>\n",
       "\t<tr><td>Adelie</td><td>Torgersen</td></tr>\n",
       "\t<tr><td>Adelie</td><td>Torgersen</td></tr>\n",
       "\t<tr><td>Adelie</td><td>Torgersen</td></tr>\n",
       "\t<tr><td>Adelie</td><td>Torgersen</td></tr>\n",
       "\t<tr><td>Adelie</td><td>Torgersen</td></tr>\n",
       "\t<tr><td>⋮</td><td>⋮</td></tr>\n",
       "\t<tr><td>Chinstrap</td><td>Dream</td></tr>\n",
       "\t<tr><td>Chinstrap</td><td>Dream</td></tr>\n",
       "\t<tr><td>Chinstrap</td><td>Dream</td></tr>\n",
       "\t<tr><td>Chinstrap</td><td>Dream</td></tr>\n",
       "\t<tr><td>Chinstrap</td><td>Dream</td></tr>\n",
       "</tbody>\n",
       "</table>\n"
      ],
      "text/latex": [
       "A tibble: 331 × 2\n",
       "\\begin{tabular}{ll}\n",
       " species & island\\\\\n",
       " <fct> & <fct>\\\\\n",
       "\\hline\n",
       "\t Adelie & Torgersen\\\\\n",
       "\t Adelie & Torgersen\\\\\n",
       "\t Adelie & Torgersen\\\\\n",
       "\t Adelie & Torgersen\\\\\n",
       "\t Adelie & Torgersen\\\\\n",
       "\t ⋮ & ⋮\\\\\n",
       "\t Chinstrap & Dream\\\\\n",
       "\t Chinstrap & Dream\\\\\n",
       "\t Chinstrap & Dream\\\\\n",
       "\t Chinstrap & Dream\\\\\n",
       "\t Chinstrap & Dream\\\\\n",
       "\\end{tabular}\n"
      ],
      "text/markdown": [
       "\n",
       "A tibble: 331 × 2\n",
       "\n",
       "| species &lt;fct&gt; | island &lt;fct&gt; |\n",
       "|---|---|\n",
       "| Adelie | Torgersen |\n",
       "| Adelie | Torgersen |\n",
       "| Adelie | Torgersen |\n",
       "| Adelie | Torgersen |\n",
       "| Adelie | Torgersen |\n",
       "| ⋮ | ⋮ |\n",
       "| Chinstrap | Dream |\n",
       "| Chinstrap | Dream |\n",
       "| Chinstrap | Dream |\n",
       "| Chinstrap | Dream |\n",
       "| Chinstrap | Dream |\n",
       "\n"
      ],
      "text/plain": [
       "    species   island   \n",
       "1   Adelie    Torgersen\n",
       "2   Adelie    Torgersen\n",
       "3   Adelie    Torgersen\n",
       "4   Adelie    Torgersen\n",
       "5   Adelie    Torgersen\n",
       "⋮   ⋮         ⋮        \n",
       "327 Chinstrap Dream    \n",
       "328 Chinstrap Dream    \n",
       "329 Chinstrap Dream    \n",
       "330 Chinstrap Dream    \n",
       "331 Chinstrap Dream    "
      ]
     },
     "metadata": {},
     "output_type": "display_data"
    }
   ],
   "source": [
    "# YOUR BETTER CODE HERE\n",
    "# BEGIN SOLUTION NO PROMPT\n",
    "#' Get smaller rectangle from a bigger data frame\n",
    "#' \n",
    "#' `get_rectangle2` subsets a data frame using filter and select syntax.\n",
    "#'\n",
    "#' @param data A data frame to subset\n",
    "#' @param row_filter filter logical syntax used to filter rows\n",
    "#' @param column_range select syntax to select columns\n",
    "#'\n",
    "#' @return A smaller/subsetted data frame\n",
    "#' @export\n",
    "#'\n",
    "#' @examples\n",
    "#' library(palmerpenguins)\n",
    "#' get_rectangle2(penguins, body_mass_g > 3000, species:island)\n",
    "get_rectangle2 <- function(data, row_filter, ...) {\n",
    "    data |>\n",
    "        filter({{ row_filter }}) |>\n",
    "        select(...)\n",
    "}\n",
    "# END SOLUTION\n",
    "\n",
    "get_rectangle2(penguins, body_mass_g > 3000, species:island)"
   ]
  },
  {
   "cell_type": "raw",
   "metadata": {},
   "source": [
    "# END SOLUTION"
   ]
  },
  {
   "cell_type": "raw",
   "metadata": {},
   "source": [
    "# BEGIN TESTS"
   ]
  },
  {
   "cell_type": "code",
   "execution_count": 11,
   "metadata": {},
   "outputs": [],
   "source": [
    "# TESTS\n",
    "fun_body <- paste(deparse(body(get_rectangle2)), collapse = \"\")\n",
    "answer <- get_rectangle2(penguins, body_mass_g > 3000, species:island)\n",
    "expect_true(is.data.frame(answer))\n",
    "expect_equal(nrow(answer), 331)\n",
    "expect_equal(ncol(answer), 2)\n",
    "expect_equal(paste(tolower(sort(colnames(answer))), collapse = \"\"), 'islandspecies')\n",
    "expect_true(str_detect(fun_body, \"\\\\{[ ]*\\\\{[ ]*row_filter[ ]*\\\\}[ ]*\\\\}\"))\n",
    "expect_true(str_detect(fun_body, \"select(...)\"))"
   ]
  },
  {
   "cell_type": "raw",
   "metadata": {},
   "source": [
    "# END TESTS"
   ]
  },
  {
   "cell_type": "raw",
   "metadata": {},
   "source": [
    "# END QUESTION"
   ]
  },
  {
   "cell_type": "raw",
   "metadata": {},
   "source": [
    "# BEGIN QUESTION\n",
    "name: ex5\n",
    "points: 1"
   ]
  },
  {
   "cell_type": "markdown",
   "metadata": {},
   "source": [
    "### Exercise 5\n",
    "rubric={autograde:1}"
   ]
  },
  {
   "cell_type": "markdown",
   "metadata": {},
   "source": [
    "Write a function called `select_and_arrange` whose documentation we provide below. This function should use embracing with `{{` and pass the dots `...` syntax to accomplish it's job.\n",
    "\n",
    "```\n",
    "#' Select and arrange\n",
    "#'\n",
    "#' @param data A data frame\n",
    "#' @param sort_by A column that you would like to order the data frame by in \n",
    "#' ascending order. Column name should be unquoted.\n",
    "#' @param ... columns you would like to select using select syntax\n",
    "#'\n",
    "#' @return A data frame ordered by ascending order of the `sort_by` column and \n",
    "#' containing the columns as indicated by the user using select syntax in `...`\n",
    "#' @export\n",
    "#'\n",
    "#' @examples\n",
    "#' library(palmerpenguins)\n",
    "#' select_and_arrange(penguins, body_mass_g, species:island, sex)\n",
    "```"
   ]
  },
  {
   "cell_type": "raw",
   "metadata": {},
   "source": [
    "# BEGIN SOLUTION"
   ]
  },
  {
   "cell_type": "code",
   "execution_count": 12,
   "metadata": {},
   "outputs": [],
   "source": [
    "select_and_arrange <- NULL\n",
    "# BEGIN SOLUTION NO PROMPT\n",
    "select_and_arrange <- function(data, sort_by, ...) {\n",
    "    data |> \n",
    "        arrange({{ sort_by }}) |> \n",
    "        select(...)\n",
    "}\n",
    "# END SOLUTION"
   ]
  },
  {
   "cell_type": "raw",
   "metadata": {},
   "source": [
    "# END SOLUTION"
   ]
  },
  {
   "cell_type": "raw",
   "metadata": {},
   "source": [
    "# BEGIN TESTS"
   ]
  },
  {
   "cell_type": "code",
   "execution_count": 13,
   "metadata": {},
   "outputs": [],
   "source": [
    "# TESTS\n",
    "fun_body <- paste(deparse(body(select_and_arrange)), collapse = \"\")\n",
    "answer <- select_and_arrange(penguins, body_mass_g, species:island, sex)\n",
    "expect_true(is.data.frame(answer))\n",
    "expect_equal(nrow(answer), 344)\n",
    "expect_equal(ncol(answer), 3)\n",
    "expect_equal(paste(tolower(sort(colnames(answer))), collapse = \"\"), 'islandsexspecies')\n",
    "expect_true(str_detect(fun_body, \"\\\\{[ ]*\\\\{[ ]*sort_by[ ]*\\\\}[ ]*\\\\}\"))\n",
    "expect_true(str_detect(fun_body, \"select(...)\"))"
   ]
  },
  {
   "cell_type": "raw",
   "metadata": {},
   "source": [
    "# END TESTS"
   ]
  },
  {
   "cell_type": "raw",
   "metadata": {},
   "source": [
    "# END QUESTION"
   ]
  },
  {
   "cell_type": "raw",
   "metadata": {},
   "source": [
    "# BEGIN QUESTION\n",
    "name: ex6\n",
    "points: 1"
   ]
  },
  {
   "cell_type": "markdown",
   "metadata": {},
   "source": [
    "### Exercise 6\n",
    "rubric={autograde:1}\n",
    "\n",
    "This is your last worksheet question for this course! Congrats! This one is a choose your own adventure. Write any function that takes a data frame, and an quoted column name. Use either `{{` or `..` (or both!) to deal with the unquoted column name(s). All you need to do is make sure it works. Be creative! \n",
    "\n",
    "We provide a function name so we can test that you used `{{` or `..`. Feel free to add whatever else you want to it, just don't change the `have_fun` function name."
   ]
  },
  {
   "cell_type": "raw",
   "metadata": {},
   "source": [
    "# BEGIN SOLUTION"
   ]
  },
  {
   "cell_type": "code",
   "execution_count": 14,
   "metadata": {
    "scrolled": true
   },
   "outputs": [
    {
     "data": {
      "text/html": [
       "<table class=\"dataframe\">\n",
       "<caption>A tibble: 288 × 9</caption>\n",
       "<thead>\n",
       "\t<tr><th scope=col>species</th><th scope=col>n</th><th scope=col>island</th><th scope=col>bill_length_mm</th><th scope=col>bill_depth_mm</th><th scope=col>flipper_length_mm</th><th scope=col>body_mass_g</th><th scope=col>sex</th><th scope=col>year</th></tr>\n",
       "\t<tr><th scope=col>&lt;fct&gt;</th><th scope=col>&lt;dbl&gt;</th><th scope=col>&lt;fct&gt;</th><th scope=col>&lt;dbl&gt;</th><th scope=col>&lt;dbl&gt;</th><th scope=col>&lt;int&gt;</th><th scope=col>&lt;int&gt;</th><th scope=col>&lt;fct&gt;</th><th scope=col>&lt;int&gt;</th></tr>\n",
       "</thead>\n",
       "<tbody>\n",
       "\t<tr><td>Adelie</td><td>148</td><td>Torgersen</td><td>37.3</td><td>20.5</td><td>199</td><td>3775</td><td>male  </td><td>2009</td></tr>\n",
       "\t<tr><td>Adelie</td><td>148</td><td>Dream    </td><td>36.9</td><td>18.6</td><td>189</td><td>3500</td><td>female</td><td>2008</td></tr>\n",
       "\t<tr><td>Adelie</td><td>148</td><td>Biscoe   </td><td>41.1</td><td>19.1</td><td>188</td><td>4100</td><td>male  </td><td>2008</td></tr>\n",
       "\t<tr><td>Adelie</td><td>148</td><td>Torgersen</td><td>37.8</td><td>17.3</td><td>180</td><td>3700</td><td>NA    </td><td>2007</td></tr>\n",
       "\t<tr><td>Adelie</td><td>148</td><td>Torgersen</td><td>36.2</td><td>16.1</td><td>187</td><td>3550</td><td>female</td><td>2008</td></tr>\n",
       "\t<tr><td>⋮</td><td>⋮</td><td>⋮</td><td>⋮</td><td>⋮</td><td>⋮</td><td>⋮</td><td>⋮</td><td>⋮</td></tr>\n",
       "\t<tr><td>Gentoo</td><td>97</td><td>Biscoe</td><td>51.1</td><td>16.5</td><td>225</td><td>5250</td><td>male  </td><td>2009</td></tr>\n",
       "\t<tr><td>Gentoo</td><td>97</td><td>Biscoe</td><td>52.1</td><td>17.0</td><td>230</td><td>5550</td><td>male  </td><td>2009</td></tr>\n",
       "\t<tr><td>Gentoo</td><td>97</td><td>Biscoe</td><td>50.8</td><td>15.7</td><td>226</td><td>5200</td><td>male  </td><td>2009</td></tr>\n",
       "\t<tr><td>Gentoo</td><td>97</td><td>Biscoe</td><td>43.5</td><td>15.2</td><td>213</td><td>4650</td><td>female</td><td>2009</td></tr>\n",
       "\t<tr><td>Gentoo</td><td>97</td><td>Biscoe</td><td>48.4</td><td>14.6</td><td>213</td><td>5850</td><td>male  </td><td>2007</td></tr>\n",
       "</tbody>\n",
       "</table>\n"
      ],
      "text/latex": [
       "A tibble: 288 × 9\n",
       "\\begin{tabular}{lllllllll}\n",
       " species & n & island & bill\\_length\\_mm & bill\\_depth\\_mm & flipper\\_length\\_mm & body\\_mass\\_g & sex & year\\\\\n",
       " <fct> & <dbl> & <fct> & <dbl> & <dbl> & <int> & <int> & <fct> & <int>\\\\\n",
       "\\hline\n",
       "\t Adelie & 148 & Torgersen & 37.3 & 20.5 & 199 & 3775 & male   & 2009\\\\\n",
       "\t Adelie & 148 & Dream     & 36.9 & 18.6 & 189 & 3500 & female & 2008\\\\\n",
       "\t Adelie & 148 & Biscoe    & 41.1 & 19.1 & 188 & 4100 & male   & 2008\\\\\n",
       "\t Adelie & 148 & Torgersen & 37.8 & 17.3 & 180 & 3700 & NA     & 2007\\\\\n",
       "\t Adelie & 148 & Torgersen & 36.2 & 16.1 & 187 & 3550 & female & 2008\\\\\n",
       "\t ⋮ & ⋮ & ⋮ & ⋮ & ⋮ & ⋮ & ⋮ & ⋮ & ⋮\\\\\n",
       "\t Gentoo & 97 & Biscoe & 51.1 & 16.5 & 225 & 5250 & male   & 2009\\\\\n",
       "\t Gentoo & 97 & Biscoe & 52.1 & 17.0 & 230 & 5550 & male   & 2009\\\\\n",
       "\t Gentoo & 97 & Biscoe & 50.8 & 15.7 & 226 & 5200 & male   & 2009\\\\\n",
       "\t Gentoo & 97 & Biscoe & 43.5 & 15.2 & 213 & 4650 & female & 2009\\\\\n",
       "\t Gentoo & 97 & Biscoe & 48.4 & 14.6 & 213 & 5850 & male   & 2007\\\\\n",
       "\\end{tabular}\n"
      ],
      "text/markdown": [
       "\n",
       "A tibble: 288 × 9\n",
       "\n",
       "| species &lt;fct&gt; | n &lt;dbl&gt; | island &lt;fct&gt; | bill_length_mm &lt;dbl&gt; | bill_depth_mm &lt;dbl&gt; | flipper_length_mm &lt;int&gt; | body_mass_g &lt;int&gt; | sex &lt;fct&gt; | year &lt;int&gt; |\n",
       "|---|---|---|---|---|---|---|---|---|\n",
       "| Adelie | 148 | Torgersen | 37.3 | 20.5 | 199 | 3775 | male   | 2009 |\n",
       "| Adelie | 148 | Dream     | 36.9 | 18.6 | 189 | 3500 | female | 2008 |\n",
       "| Adelie | 148 | Biscoe    | 41.1 | 19.1 | 188 | 4100 | male   | 2008 |\n",
       "| Adelie | 148 | Torgersen | 37.8 | 17.3 | 180 | 3700 | NA     | 2007 |\n",
       "| Adelie | 148 | Torgersen | 36.2 | 16.1 | 187 | 3550 | female | 2008 |\n",
       "| ⋮ | ⋮ | ⋮ | ⋮ | ⋮ | ⋮ | ⋮ | ⋮ | ⋮ |\n",
       "| Gentoo | 97 | Biscoe | 51.1 | 16.5 | 225 | 5250 | male   | 2009 |\n",
       "| Gentoo | 97 | Biscoe | 52.1 | 17.0 | 230 | 5550 | male   | 2009 |\n",
       "| Gentoo | 97 | Biscoe | 50.8 | 15.7 | 226 | 5200 | male   | 2009 |\n",
       "| Gentoo | 97 | Biscoe | 43.5 | 15.2 | 213 | 4650 | female | 2009 |\n",
       "| Gentoo | 97 | Biscoe | 48.4 | 14.6 | 213 | 5850 | male   | 2007 |\n",
       "\n"
      ],
      "text/plain": [
       "    species n   island    bill_length_mm bill_depth_mm flipper_length_mm\n",
       "1   Adelie  148 Torgersen 37.3           20.5          199              \n",
       "2   Adelie  148 Dream     36.9           18.6          189              \n",
       "3   Adelie  148 Biscoe    41.1           19.1          188              \n",
       "4   Adelie  148 Torgersen 37.8           17.3          180              \n",
       "5   Adelie  148 Torgersen 36.2           16.1          187              \n",
       "⋮   ⋮       ⋮   ⋮         ⋮              ⋮             ⋮                \n",
       "284 Gentoo  97  Biscoe    51.1           16.5          225              \n",
       "285 Gentoo  97  Biscoe    52.1           17.0          230              \n",
       "286 Gentoo  97  Biscoe    50.8           15.7          226              \n",
       "287 Gentoo  97  Biscoe    43.5           15.2          213              \n",
       "288 Gentoo  97  Biscoe    48.4           14.6          213              \n",
       "    body_mass_g sex    year\n",
       "1   3775        male   2009\n",
       "2   3500        female 2008\n",
       "3   4100        male   2008\n",
       "4   3700        NA     2007\n",
       "5   3550        female 2008\n",
       "⋮   ⋮           ⋮      ⋮   \n",
       "284 5250        male   2009\n",
       "285 5550        male   2009\n",
       "286 5200        male   2009\n",
       "287 4650        female 2009\n",
       "288 5850        male   2007"
      ]
     },
     "metadata": {},
     "output_type": "display_data"
    }
   ],
   "source": [
    "have_fun <- function() { # add as many arguments as you want!\n",
    "    # put your function magic here!\n",
    "}\n",
    "# BEGIN SOLUTION NO PROMPT\n",
    "#' Have fun randomly sampling different group sizes!\n",
    "#'\n",
    "#' Based off a challenge by Hilary Parker (Data Science Product Manager\n",
    "#' for the 2020 Democratic US Presidential Election Campaign) to Jenny Bryan\n",
    "#' where the challenge was to randomly sample differnt numbers from each of the\n",
    "#' groups. Jenny's code which this is base off is here: https://jennybc.github.io/purrr-tutorial/ls12_different-sized-samples.html\n",
    "#'\n",
    "#' @param data A data frame\n",
    "#' @param col A column that you would like to group by\n",
    "#'\n",
    "#' @return A data frame with a random number of samples for each group (and the \n",
    "#' random number varies for each group)\n",
    "#' @export\n",
    "#'\n",
    "#' @examples\n",
    "#' library(palmerpenguins)\n",
    "#' have_fun(penguins, species)\n",
    "have_fun <- function(data, col) { \n",
    "    n_groups <- data |> \n",
    "        pull({{ col }}) |> \n",
    "        unique() |> \n",
    "        length() \n",
    "    \n",
    "    n_group_obs <- data |> \n",
    "        group_by({{ col }}) |> \n",
    "        summarise(n = n()) |> \n",
    "        pull(n)\n",
    "    \n",
    "    n_to_sample <- map_dbl(n_group_obs, ~round(runif(1, min = 1, max = .)))\n",
    "    \n",
    "    data |>\n",
    "        group_by({{ col }}) |> \n",
    "            nest() |>    \n",
    "            arrange(species) |> \n",
    "            ungroup() |> \n",
    "            mutate(n = n_to_sample) |>\n",
    "            mutate(samp = map2(data, n, sample_n)) |> \n",
    "            select(-data) |>\n",
    "            unnest(samp)\n",
    "}\n",
    "\n",
    "have_fun(penguins, species)\n",
    "# END SOLUTION"
   ]
  },
  {
   "cell_type": "raw",
   "metadata": {},
   "source": [
    "# END SOLUTION"
   ]
  },
  {
   "cell_type": "raw",
   "metadata": {},
   "source": [
    "# BEGIN TESTS"
   ]
  },
  {
   "cell_type": "code",
   "execution_count": 15,
   "metadata": {},
   "outputs": [],
   "source": [
    "# TESTS\n",
    "fun_body <- paste(deparse(body(have_fun)), collapse = \"\")\n",
    "expect_true(str_detect(fun_body, \"[.]{3}|\\\\{[ ]*\\\\{[ ]*\"))"
   ]
  },
  {
   "cell_type": "raw",
   "metadata": {},
   "source": [
    "# END TESTS"
   ]
  },
  {
   "cell_type": "raw",
   "metadata": {},
   "source": [
    "# END QUESTION"
   ]
  },
  {
   "cell_type": "markdown",
   "metadata": {},
   "source": [
    "Congratulations! You are done the **LAST** worksheet!!! Pat yourself on the back, and submit your worksheet to Gradescope!\n",
    "\n",
    "![](https://media.giphy.com/media/13n4Hd98ewKJsQ/giphy.gif)"
   ]
  }
 ],
 "metadata": {
  "celltoolbar": "Create Assignment",
  "kernelspec": {
   "display_name": "R",
   "language": "R",
   "name": "ir"
  },
  "language_info": {
   "codemirror_mode": "r",
   "file_extension": ".r",
   "mimetype": "text/x-r-source",
   "name": "R",
   "pygments_lexer": "r",
   "version": "4.2.1"
  }
 },
 "nbformat": 4,
 "nbformat_minor": 4
}
