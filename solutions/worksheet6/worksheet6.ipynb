{
 "cells": [
  {
   "cell_type": "raw",
   "metadata": {},
   "source": [
    "# ASSIGNMENT CONFIG\n",
    "requirements: requirements.R\n",
    "generate:\n",
    "    show_hidden: true\n",
    "    show_stdout: true\n",
    "    channel_priority_strict: false\n",
    "environment: environment.yml\n",
    "files:\n",
    "  - img"
   ]
  },
  {
   "cell_type": "markdown",
   "metadata": {},
   "source": [
    "## Worksheet 6\n",
    "\n",
    "Welcome to worksheet 6! This worksheet was designed to allow you to practice what was covered in the assigned readings & lectures/videos/recordings. The labs problems will be more challenging then those in the worksheet, and the worksheet questions will help prepare you for them. Time will be provided to work on the worksheets in small groups during lecture, however it is not expected that you will complete the worksheet in this time. You are expected to spend some indpendent time working on the worksheet after lecture. \n",
    "\n",
    "**This worksheet is due on Sunday at 12pm, and must be submitted as `.ipynb` files to Gradescope.**"
   ]
  },
  {
   "cell_type": "markdown",
   "metadata": {},
   "source": [
    "### Worksheet mechanics\n",
    "rubric={mechanics:1}\n",
    "\n",
    "- All files necessary to run your work must be pushed to your GitHub.ubc.ca repository for this worksheet.\n",
    "- **There is autograding in this lab, so please do not move or rename this file. Also, do not copy and paste cells, if you need to add new cells, create new cells via the \"Insert a cell below\" button instead.**"
   ]
  },
  {
   "cell_type": "markdown",
   "metadata": {},
   "source": [
    "Run the cell below to load the libraries needed for this worksheet, as well as to check your answers as you go!"
   ]
  },
  {
   "cell_type": "code",
   "execution_count": 1,
   "metadata": {},
   "outputs": [],
   "source": [
    "library(digest)\n",
    "library(testthat)\n",
    "options(repr.matrix.max.rows = 10)"
   ]
  },
  {
   "cell_type": "raw",
   "metadata": {},
   "source": [
    "# BEGIN QUESTION\n",
    "name: ex1\n",
    "points: 1"
   ]
  },
  {
   "cell_type": "markdown",
   "metadata": {},
   "source": [
    "### Exercise 1\n",
    "rubric={autograde:1}\n",
    "\n",
    "Write a function called `mpg_to_kml` that takes a vector of numbers in miles per gallon units and converts it to a vector in kilometeres per litre.\n",
    "\n",
    "*Hint: 1 mile per gallon is 0.425144 kilometres per litre.*"
   ]
  },
  {
   "cell_type": "raw",
   "metadata": {},
   "source": [
    "# BEGIN SOLUTION"
   ]
  },
  {
   "cell_type": "code",
   "execution_count": 2,
   "metadata": {},
   "outputs": [
    {
     "data": {
      "text/html": [
       "0.425144"
      ],
      "text/latex": [
       "0.425144"
      ],
      "text/markdown": [
       "0.425144"
      ],
      "text/plain": [
       "[1] 0.425144"
      ]
     },
     "metadata": {},
     "output_type": "display_data"
    }
   ],
   "source": [
    "mpg_to_kml <- NULL\n",
    "# BEGIN SOLUTION NO PROMPT\n",
    "mpg_to_kml <- function(x) {\n",
    "    x * 0.425144\n",
    "}\n",
    "# END SOLUTION\n",
    "\n",
    "mpg_to_kml(1)"
   ]
  },
  {
   "cell_type": "raw",
   "metadata": {},
   "source": [
    "# END SOLUTION"
   ]
  },
  {
   "cell_type": "raw",
   "metadata": {},
   "source": [
    "# BEGIN TESTS"
   ]
  },
  {
   "cell_type": "code",
   "execution_count": 3,
   "metadata": {},
   "outputs": [],
   "source": [
    "# TESTS\n",
    "expect_true(is.function(mpg_to_kml))\n",
    "expect_equal(mpg_to_kml(1), 0.425144)\n",
    "expect_equal(mpg_to_kml(2), 0.850288)\n",
    "expect_equal(mpg_to_kml(10), 4.25144)"
   ]
  },
  {
   "cell_type": "raw",
   "metadata": {},
   "source": [
    "# END TESTS"
   ]
  },
  {
   "cell_type": "raw",
   "metadata": {},
   "source": [
    "# END QUESTION"
   ]
  },
  {
   "cell_type": "raw",
   "metadata": {},
   "source": [
    "# BEGIN QUESTION\n",
    "name: ex2\n",
    "points: 0"
   ]
  },
  {
   "cell_type": "markdown",
   "metadata": {},
   "source": [
    "### Exercise 2 (not graded)\n",
    "\n",
    "*Solution posted at end of worksheet.*"
   ]
  },
  {
   "cell_type": "markdown",
   "metadata": {},
   "source": [
    "Write **at least** two {testthat} `expect_equal` tests inside of an `test_that` statement to ensure that your function works as expected (i.e., do you get back expected values given your input values - is the math correct?).\n",
    "\n",
    "*Hint: test edge cases that you can compute by hand, and be sure of your answer!*"
   ]
  },
  {
   "cell_type": "markdown",
   "metadata": {},
   "source": [
    "<img src=\"img/unit-tests.png\" width=350>\n",
    "\n",
    "*Source: Austin Powers + http://www.quickmeme.com/meme/3ua14n*"
   ]
  },
  {
   "cell_type": "raw",
   "metadata": {},
   "source": [
    "# BEGIN SOLUTION"
   ]
  },
  {
   "cell_type": "code",
   "execution_count": 4,
   "metadata": {},
   "outputs": [
    {
     "name": "stdout",
     "output_type": "stream",
     "text": [
      "\u001b[32mTest passed\u001b[39m 🌈\n"
     ]
    }
   ],
   "source": [
    "# YOUR CODE HERE\n",
    "# BEGIN SOLUTION NO PROMPT\n",
    "test_that('1 mile per gallon is should be 0.425144 kilometres per litre', {\n",
    "    expect_equal(mpg_to_kml(1), 0.425144)\n",
    "    expect_equal(mpg_to_kml(2), 0.850288)\n",
    "    expect_equal(mpg_to_kml(10), 4.25144)\n",
    "})\n",
    "# END SOLUTION"
   ]
  },
  {
   "cell_type": "raw",
   "metadata": {},
   "source": [
    "# END SOLUTION"
   ]
  },
  {
   "cell_type": "raw",
   "metadata": {},
   "source": [
    "# END QUESTION"
   ]
  },
  {
   "cell_type": "raw",
   "metadata": {},
   "source": [
    "# BEGIN QUESTION\n",
    "name: ex3\n",
    "points: 1"
   ]
  },
  {
   "cell_type": "markdown",
   "metadata": {},
   "source": [
    "### Exercise 3\n",
    "rubric={autograde:1}"
   ]
  },
  {
   "cell_type": "markdown",
   "metadata": {},
   "source": [
    "Add exceptions to your `mpg_to_kml` function so that you can handle inappropriate user input, such as character vectors, lists or data frames."
   ]
  },
  {
   "cell_type": "markdown",
   "metadata": {},
   "source": [
    "<img src=\"img/fail-you-will-fail-fast-you-should.jpg\" width=300>\n",
    "\n",
    "*Source: Star Wars + https://memegenerator.net/*"
   ]
  },
  {
   "cell_type": "raw",
   "metadata": {},
   "source": [
    "# BEGIN SOLUTION"
   ]
  },
  {
   "cell_type": "code",
   "execution_count": 5,
   "metadata": {},
   "outputs": [],
   "source": [
    "# YOUR CODE HERE\n",
    "# BEGIN SOLUTION NO PROMPT\n",
    "mpg_to_kml <- function(x) {\n",
    "    if(is.list(x)){\n",
    "        stop(\"Cannot calculate kilometres per litre for lists or data frames\")\n",
    "    }\n",
    "    if(!is.numeric(x)){\n",
    "        stop(\"Cannot calculate  kilometres per litre for non-numerical values\")\n",
    "    }\n",
    "    x * 0.425144\n",
    "}\n",
    "# END SOLUTION"
   ]
  },
  {
   "cell_type": "raw",
   "metadata": {},
   "source": [
    "# END SOLUTION"
   ]
  },
  {
   "cell_type": "raw",
   "metadata": {},
   "source": [
    "# BEGIN TESTS"
   ]
  },
  {
   "cell_type": "code",
   "execution_count": 6,
   "metadata": {},
   "outputs": [],
   "source": [
    "# TESTS\n",
    "expect_error(mpg_to_kml(\"A\"))\n",
    "expect_error(mpg_to_kml(list(1, 2)))\n",
    "expect_error(mpg_to_kml(data.frame(x = c(1))))"
   ]
  },
  {
   "cell_type": "raw",
   "metadata": {},
   "source": [
    "# END TESTS"
   ]
  },
  {
   "cell_type": "raw",
   "metadata": {},
   "source": [
    "# END QUESTION"
   ]
  },
  {
   "cell_type": "raw",
   "metadata": {},
   "source": [
    "# BEGIN QUESTION\n",
    "name: ex4\n",
    "points: 0"
   ]
  },
  {
   "cell_type": "markdown",
   "metadata": {},
   "source": [
    "### Exercise 4 (not graded)\n",
    "\n",
    "*Solution posted at end of worksheet.*"
   ]
  },
  {
   "cell_type": "markdown",
   "metadata": {},
   "source": [
    "Now write **at least** two {testthat} `expect_error` tests inside of an `test_that` statement to ensure that your function works as expected (i.e., does your function throw errors when incorrect inputs are given?)."
   ]
  },
  {
   "cell_type": "raw",
   "metadata": {},
   "source": [
    "# BEGIN SOLUTION"
   ]
  },
  {
   "cell_type": "code",
   "execution_count": 7,
   "metadata": {},
   "outputs": [
    {
     "name": "stdout",
     "output_type": "stream",
     "text": [
      "\u001b[32mTest passed\u001b[39m 🥳\n"
     ]
    }
   ],
   "source": [
    "# YOUR CODE HERE\n",
    "# BEGIN SOLUTION NO PROMPT\n",
    "test_that('errors should be thrown when non-numeric vectors, lists or data frames are given to the function', {\n",
    "    expect_error(mpg_to_kml(\"A\"))\n",
    "    expect_error(mpg_to_kml(list(1, 2)))\n",
    "    expect_error(mpg_to_kml(data.frame(x = c(1))))\n",
    "})\n",
    "# END SOLUTION"
   ]
  },
  {
   "cell_type": "raw",
   "metadata": {},
   "source": [
    "# END SOLUTION"
   ]
  },
  {
   "cell_type": "raw",
   "metadata": {},
   "source": [
    "# END QUESTION"
   ]
  },
  {
   "cell_type": "raw",
   "metadata": {},
   "source": [
    "# BEGIN QUESTION\n",
    "name: ex5\n",
    "points: 0"
   ]
  },
  {
   "cell_type": "markdown",
   "metadata": {},
   "source": [
    "### Exercise 5 (not graded)\n",
    "\n",
    "*Solution posted at end of worksheet.*"
   ]
  },
  {
   "cell_type": "markdown",
   "metadata": {},
   "source": [
    "Now write {roxygen2} style documentation for your function!"
   ]
  },
  {
   "cell_type": "raw",
   "metadata": {},
   "source": [
    "# BEGIN SOLUTION"
   ]
  },
  {
   "cell_type": "code",
   "execution_count": 8,
   "metadata": {},
   "outputs": [],
   "source": [
    "# YOUR CODE HERE\n",
    "# BEGIN SOLUTION NO PROMPT\n",
    "#' Miles per gallon to kilometres per litre\n",
    "#'\n",
    "#' Convert a fuel efficiency from miles per gallon to kilometres per litre.\n",
    "#'\n",
    "#' @param x numeric\n",
    "#'\n",
    "#' @return numeric\n",
    "#' @export\n",
    "#'\n",
    "#' @examples\n",
    "#' mpg_to_kml(1)\n",
    "mpg_to_kml <- function(x) {\n",
    "    if(is.list(x)){\n",
    "        stop(\"Cannot calculate kilometres per litre for lists or data frames\")\n",
    "    }\n",
    "    if(!is.numeric(x)){\n",
    "        stop(\"Cannot calculate  kilometres per litre for non-numerical values\")\n",
    "    }\n",
    "    x * 0.425144\n",
    "}\n",
    "# END SOLUTION"
   ]
  },
  {
   "cell_type": "raw",
   "metadata": {},
   "source": [
    "# END SOLUTION"
   ]
  },
  {
   "cell_type": "raw",
   "metadata": {},
   "source": [
    "# END QUESTION"
   ]
  },
  {
   "cell_type": "raw",
   "metadata": {},
   "source": [
    "# BEGIN QUESTION\n",
    "name: ex6\n",
    "points: 1"
   ]
  },
  {
   "cell_type": "markdown",
   "metadata": {},
   "source": [
    "### Exercise 6\n",
    "rubric={autograde:1}\n",
    "\n",
    "Go on an R package scavengeR hunt! Explore one of the [`stringr` R package on GitHub](https://github.com/tidyverse/stringr) to do the following question:\n",
    "\n",
    "Create a list that has the following four elements in the order listed below:\n",
    "\n",
    "1. The relative path (from the project root) to the file containing the `str_replace` function (as a character vector).\n",
    "\n",
    "2. The line number of the start of the `str_replace` function definition (not including the Roxygen2 comments) (as a numeric vector).\n",
    "\n",
    "3. The relative path (from the project root) to the file containing the tests for the `str_replace` function (as a character vector).\n",
    "\n",
    "4. The line number of the start of the first test of the `str_replace` function (as a numeric vector).\n",
    "\n",
    "Bind the name `str_replace_metadata` to this list.\n"
   ]
  },
  {
   "cell_type": "markdown",
   "metadata": {},
   "source": [
    "<img src=\"https://media.giphy.com/media/PjxWpnShj8mAS2qYAK/giphy-downsized.gif\">\n",
    "\n",
    "*Source: The Big Bang Theory + https://giphy.com/*"
   ]
  },
  {
   "cell_type": "raw",
   "metadata": {},
   "source": [
    "# BEGIN SOLUTION"
   ]
  },
  {
   "cell_type": "code",
   "execution_count": 9,
   "metadata": {},
   "outputs": [
    {
     "data": {
      "text/html": [
       "<ol>\n",
       "\t<li>'R/replace.r'</li>\n",
       "\t<li>66</li>\n",
       "\t<li>'tests/testthat/test-replace.r'</li>\n",
       "\t<li>1</li>\n",
       "</ol>\n"
      ],
      "text/latex": [
       "\\begin{enumerate}\n",
       "\\item 'R/replace.r'\n",
       "\\item 66\n",
       "\\item 'tests/testthat/test-replace.r'\n",
       "\\item 1\n",
       "\\end{enumerate}\n"
      ],
      "text/markdown": [
       "1. 'R/replace.r'\n",
       "2. 66\n",
       "3. 'tests/testthat/test-replace.r'\n",
       "4. 1\n",
       "\n",
       "\n"
      ],
      "text/plain": [
       "[[1]]\n",
       "[1] \"R/replace.r\"\n",
       "\n",
       "[[2]]\n",
       "[1] 66\n",
       "\n",
       "[[3]]\n",
       "[1] \"tests/testthat/test-replace.r\"\n",
       "\n",
       "[[4]]\n",
       "[1] 1\n"
      ]
     },
     "metadata": {},
     "output_type": "display_data"
    }
   ],
   "source": [
    "str_replace_metadata <- NULL\n",
    "# BEGIN SOLUTION NO PROMPT\n",
    "str_replace_metadata <- list(\"R/replace.r\",\n",
    "                            66,\n",
    "                            \"tests/testthat/test-replace.r\",\n",
    "                            1)\n",
    "# END SOLUTION\n",
    "\n",
    "str_replace_metadata"
   ]
  },
  {
   "cell_type": "raw",
   "metadata": {},
   "source": [
    "# END SOLUTION"
   ]
  },
  {
   "cell_type": "raw",
   "metadata": {},
   "source": [
    "# BEGIN TESTS"
   ]
  },
  {
   "cell_type": "code",
   "execution_count": 10,
   "metadata": {},
   "outputs": [],
   "source": [
    "# TESTS\n",
    "expect_true(is.list(str_replace_metadata))\n",
    "expect_equal(length(str_replace_metadata), 4)\n",
    "expect_equal(digest(str_replace_metadata[[1]]), '3b42e625431b8bd8f1a26ad5c059b07f')\n",
    "expect_equal(digest(str_replace_metadata[[2]]), '8a395f4a5b22092f40b61b114d23ae89')\n",
    "expect_equal(digest(str_replace_metadata[[3]]), '8f3c28696f8a5fcdb63446746b6e4c06')\n",
    "expect_equal(digest(str_replace_metadata[[4]]) , '6717f2823d3202449301145073ab8719')"
   ]
  },
  {
   "cell_type": "raw",
   "metadata": {},
   "source": [
    "# END TESTS"
   ]
  },
  {
   "cell_type": "raw",
   "metadata": {},
   "source": [
    "# END QUESTION"
   ]
  },
  {
   "cell_type": "markdown",
   "metadata": {},
   "source": [
    "Congratulations! You are done the worksheet!!! Pat yourself on the back, and submit your worksheet to Gradescope!"
   ]
  },
  {
   "cell_type": "markdown",
   "metadata": {},
   "source": [
    "> ### Exercise 2 solution\n",
    ">\n",
    ">```\n",
    ">test_that('1 mile per gallon is should be 0.425144 kilometres per litre', {\n",
    ">    expect_equal(mpg_to_kml(1), 0.425144)\n",
    ">    expect_equal(mpg_to_kml(2), 0.850288)\n",
    ">    expect_equal(mpg_to_kml(10), 4.25144)\n",
    ">})\n",
    ">```"
   ]
  },
  {
   "cell_type": "markdown",
   "metadata": {},
   "source": [
    "> ### Exercise 4 solution\n",
    ">\n",
    ">```\n",
    ">test_that('errors should be thrown when non-numeric vectors, lists or data frames are given to the function', {\n",
    ">    expect_error(mpg_to_kml(\"A\"))\n",
    ">    expect_error(mpg_to_kml(list(1, 2)))\n",
    ">    expect_error(mpg_to_kml(data.frame(x = c(1))))\n",
    ">})\n",
    ">```"
   ]
  },
  {
   "cell_type": "markdown",
   "metadata": {},
   "source": [
    ">### Exercise 5 solution\n",
    ">\n",
    "> Roxygen2 comments only:\n",
    ">\n",
    ">```\n",
    ">#' Miles per gallon to kilometres per litre\n",
    ">#'\n",
    ">#' Convert a fuel efficiency from miles per gallon to kilometres per litre.\n",
    ">#'\n",
    ">#' @param x numeric\n",
    ">#'\n",
    ">#' @return numeric\n",
    ">#' @export\n",
    ">#'\n",
    ">#' @examples\n",
    ">#' mpg_to_kml(1)\n",
    ">```"
   ]
  }
 ],
 "metadata": {
  "celltoolbar": "Create Assignment",
  "kernelspec": {
   "display_name": "R",
   "language": "R",
   "name": "ir"
  },
  "language_info": {
   "codemirror_mode": "r",
   "file_extension": ".r",
   "mimetype": "text/x-r-source",
   "name": "R",
   "pygments_lexer": "r",
   "version": "4.2.1"
  }
 },
 "nbformat": 4,
 "nbformat_minor": 4
}
